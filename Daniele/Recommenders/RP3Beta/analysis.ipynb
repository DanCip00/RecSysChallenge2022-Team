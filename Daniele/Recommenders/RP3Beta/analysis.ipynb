{
 "cells": [
  {
   "attachments": {},
   "cell_type": "markdown",
   "metadata": {},
   "source": [
    "### Comparazione vari SLIM Elastic"
   ]
  },
  {
   "cell_type": "code",
   "execution_count": 3,
   "metadata": {},
   "outputs": [],
   "source": [
    "import os \n",
    "import sys\n",
    "while os.path.split(os.getcwd())[1] != 'RecSysChallenge2023-Team':\n",
    "    os.chdir('..')\n",
    "sys.path.insert(1, os.getcwd())\n",
    "\n",
    "import numpy as np"
   ]
  },
  {
   "cell_type": "code",
   "execution_count": 4,
   "metadata": {},
   "outputs": [
    {
     "name": "stdout",
     "output_type": "stream",
     "text": [
      "Warning: 1577 (3.79 %) of 41629 users have no sampled items\n"
     ]
    },
    {
     "name": "stderr",
     "output_type": "stream",
     "text": [
      "100%|██████████| 27968/27968 [00:01<00:00, 15971.50it/s]\n",
      "100%|██████████| 841462/841462 [00:00<00:00, 1626887.71it/s]\n",
      "100%|██████████| 27968/27968 [00:01<00:00, 19629.61it/s]\n",
      "100%|██████████| 663370/663370 [00:00<00:00, 1658698.46it/s]\n"
     ]
    }
   ],
   "source": [
    "from Data_manager.split_functions.split_train_validation_random_holdout import split_train_in_two_percentage_global_sample\n",
    "from Evaluation.Evaluator import EvaluatorHoldout\n",
    "\n",
    "import Daniele.Utils.MyDataManager as dm \n",
    "import Daniele.Utils.MatrixManipulation as mm\n",
    "\n",
    "URMv = dm.getURMviews()\n",
    "URMo = dm.getURMopen()\n",
    "ICMt=dm.getICMt()\n",
    "ICMl=dm.getICMl()\n",
    "\n",
    "\n",
    "URMv_train, URMv_test = split_train_in_two_percentage_global_sample(URMv, train_percentage = 0.80)\n",
    "\n",
    "urm_bin = mm.defaultExplicitURM(urmv=URMv_train,urmo=URMo, normalize=False, add_aug=True)\n",
    "urm_bin.data = np.ones(len(urm_bin.data))"
   ]
  },
  {
   "attachments": {},
   "cell_type": "markdown",
   "metadata": {},
   "source": [
    "### REFERENCE RP3Beta 0.052"
   ]
  },
  {
   "cell_type": "code",
   "execution_count": 5,
   "metadata": {},
   "outputs": [
    {
     "name": "stdout",
     "output_type": "stream",
     "text": [
      "RP3betaRecommender: URM Detected 3461 (12.4%) items with no interactions.\n",
      "RP3betaRecommender: Similarity column 27968 (100.0%), 4229.46 column/sec. Elapsed time 6.61 sec\n"
     ]
    }
   ],
   "source": [
    "from Recommenders.GraphBased.RP3betaRecommender import RP3betaRecommender\n",
    "\n",
    "reference_052 = RP3betaRecommender(urm_bin)\n",
    "#{'topK': 106, 'alpha': 0.6155817289031643, 'beta': 0.33427474623540737, 'normalize_similarity': True} -> MAP 0.0276355\n",
    "reference_052.fit(topK= 106, alpha= 0.6155817289031643, beta= 0.33427474623540737, normalize_similarity= True)\n"
   ]
  },
  {
   "attachments": {},
   "cell_type": "markdown",
   "metadata": {},
   "source": [
    "### RP3Beta - Usato nell'hybrid (sub map -> 0.05932) "
   ]
  },
  {
   "cell_type": "code",
   "execution_count": 6,
   "metadata": {},
   "outputs": [
    {
     "name": "stdout",
     "output_type": "stream",
     "text": [
      "RP3betaRecommender: URM Detected 3461 (12.4%) items with no interactions.\n",
      "RP3betaRecommender: Similarity column 27968 (100.0%), 4490.04 column/sec. Elapsed time 6.23 sec\n"
     ]
    }
   ],
   "source": [
    "from Recommenders.GraphBased.RP3betaRecommender import RP3betaRecommender\n",
    "\n",
    "rp3beta_hybrid_059 = RP3betaRecommender(urm_bin)\n",
    "# {'topK': 69, 'alpha': 0.6854042891733674, 'beta': 0.2763471245555947, 'normalize_similarity': True} -> MAP 0.0282084\n",
    "rp3beta_hybrid_059.fit( topK=69, alpha=0.6854042891733674, beta=0.2763471245555947, normalize_similarity=True )"
   ]
  },
  {
   "attachments": {},
   "cell_type": "markdown",
   "metadata": {},
   "source": [
    "### RP3Beta - Opt gruppi con tante interazioni (gruppo 8 in poi)"
   ]
  },
  {
   "cell_type": "code",
   "execution_count": 7,
   "metadata": {},
   "outputs": [
    {
     "name": "stdout",
     "output_type": "stream",
     "text": [
      "RP3betaRecommender: URM Detected 3461 (12.4%) items with no interactions.\n",
      "RP3betaRecommender: Similarity column 27968 (100.0%), 4099.78 column/sec. Elapsed time 6.82 sec\n"
     ]
    }
   ],
   "source": [
    "from Recommenders.GraphBased.RP3betaRecommender import RP3betaRecommender\n",
    "\n",
    "rp3beta_high = RP3betaRecommender(urm_bin)\n",
    "# {'topK': 91, 'alpha': 0.7758215673815734, 'beta': 0.2719143753442684, 'normalize_similarity': True} -> MAP 0.0.0273508\n",
    "rp3beta_high.fit( topK=91, alpha=0.7758215673815734, beta=0.2719143753442684, normalize_similarity=True )"
   ]
  },
  {
   "attachments": {},
   "cell_type": "markdown",
   "metadata": {},
   "source": [
    "### RP3Beta - Opt gruppi con poche interazioni (gruppo 8 in giù)"
   ]
  },
  {
   "cell_type": "code",
   "execution_count": 8,
   "metadata": {},
   "outputs": [
    {
     "name": "stdout",
     "output_type": "stream",
     "text": [
      "RP3betaRecommender: URM Detected 3461 (12.4%) items with no interactions.\n",
      "RP3betaRecommender: Similarity column 27968 (100.0%), 3713.53 column/sec. Elapsed time 7.53 sec\n"
     ]
    }
   ],
   "source": [
    "from Recommenders.GraphBased.RP3betaRecommender import RP3betaRecommender\n",
    "\n",
    "rp3beta_low = RP3betaRecommender(urm_bin)\n",
    "# {'topK': 134, 'alpha': 0.798809794870576, 'beta': 0.1763388006809379, 'normalize_similarity': True} -> MAP 0.0078248\n",
    "rp3beta_low.fit( topK=134, alpha=0.798809794870576, beta=0.1763388006809379, normalize_similarity=True )"
   ]
  },
  {
   "cell_type": "code",
   "execution_count": 9,
   "metadata": {},
   "outputs": [
    {
     "name": "stdout",
     "output_type": "stream",
     "text": [
      "RP3betaRecommender: URM Detected 3461 (12.4%) items with no interactions.\n",
      "RP3betaRecommender: Similarity column 27968 (100.0%), 4185.62 column/sec. Elapsed time 6.68 sec\n"
     ]
    }
   ],
   "source": [
    "from Recommenders.GraphBased.RP3betaRecommender import RP3betaRecommender\n",
    "\n",
    "fede = RP3betaRecommender(urm_bin)\n",
    "# {'topK': 134, 'alpha': 0.798809794870576, 'beta': 0.1763388006809379, 'normalize_similarity': True} -> MAP 0.0078248\n",
    "fede.fit(\n",
    "                topK=89,\n",
    "                alpha=0.6361002951626124,\n",
    "                beta=0.27432996564004203,\n",
    "                normalize_similarity=True\n",
    "            )"
   ]
  },
  {
   "attachments": {},
   "cell_type": "markdown",
   "metadata": {},
   "source": [
    "### Users group"
   ]
  },
  {
   "cell_type": "code",
   "execution_count": 10,
   "metadata": {},
   "outputs": [
    {
     "name": "stdout",
     "output_type": "stream",
     "text": [
      "Group 0, #users in group 2081, average p.len 6.98, median 7.0, min 2, max 9\n",
      "Group 1, #users in group 2081, average p.len 9.43, median 9.0, min 9, max 10\n",
      "Group 2, #users in group 2081, average p.len 10.69, median 11.0, min 10, max 11\n",
      "Group 3, #users in group 2081, average p.len 11.83, median 12.0, min 11, max 12\n",
      "Group 4, #users in group 2081, average p.len 12.88, median 13.0, min 12, max 13\n",
      "Group 5, #users in group 2081, average p.len 13.92, median 14.0, min 13, max 14\n",
      "Group 6, #users in group 2081, average p.len 14.92, median 15.0, min 14, max 15\n",
      "Group 7, #users in group 2081, average p.len 16.00, median 16.0, min 15, max 17\n",
      "Group 8, #users in group 2081, average p.len 17.22, median 17.0, min 17, max 18\n",
      "Group 9, #users in group 2081, average p.len 18.42, median 18.0, min 18, max 19\n",
      "Group 10, #users in group 2081, average p.len 19.75, median 20.0, min 19, max 21\n",
      "Group 11, #users in group 2081, average p.len 21.44, median 21.0, min 21, max 22\n",
      "Group 12, #users in group 2081, average p.len 23.21, median 23.0, min 22, max 24\n",
      "Group 13, #users in group 2081, average p.len 25.49, median 25.0, min 24, max 27\n",
      "Group 14, #users in group 2081, average p.len 28.37, median 28.0, min 27, max 30\n",
      "Group 15, #users in group 2081, average p.len 31.88, median 32.0, min 30, max 34\n",
      "Group 16, #users in group 2081, average p.len 36.44, median 36.0, min 34, max 39\n",
      "Group 17, #users in group 2081, average p.len 43.14, median 43.0, min 39, max 48\n",
      "Group 18, #users in group 2081, average p.len 54.12, median 54.0, min 48, max 62\n",
      "Group 19, #users in group 2081, average p.len 87.91, median 78.0, min 62, max 281\n"
     ]
    }
   ],
   "source": [
    "import numpy as np \n",
    "import scipy.sparse as sps\n",
    "\n",
    "profile_length = np.ediff1d(sps.csr_matrix(URMv).indptr)\n",
    "profile_length, profile_length.shape\n",
    "\n",
    "block_size = int(len(profile_length)*0.05)\n",
    "sorted_users = np.argsort(profile_length)\n",
    "\n",
    "for group_id in range(0, 20):\n",
    "    start_pos = group_id * block_size\n",
    "    end_pos = min((group_id+1) * block_size, len(profile_length))\n",
    "    \n",
    "    users_in_group = sorted_users[start_pos:end_pos]\n",
    "    \n",
    "    users_in_group_p_len = profile_length[users_in_group]\n",
    "    \n",
    "    print(\"Group {}, #users in group {}, average p.len {:.2f}, median {}, min {}, max {}\".format(\n",
    "        group_id, \n",
    "        users_in_group.shape[0],\n",
    "        users_in_group_p_len.mean(),\n",
    "        np.median(users_in_group_p_len),\n",
    "        users_in_group_p_len.min(),\n",
    "        users_in_group_p_len.max()))"
   ]
  },
  {
   "cell_type": "code",
   "execution_count": 11,
   "metadata": {},
   "outputs": [],
   "source": [
    "MAP_recommender_per_group = {}\n",
    "recommender_object_dict = {}\n",
    "\n",
    "recommender_class = {\"reference_052\" :reference_052,\n",
    "                     \"rp3beta_hybrid_059\" : rp3beta_hybrid_059,\n",
    "                     \"rp3beta_high\" : rp3beta_high,\n",
    "                     \"rp3beta_low\" : rp3beta_low, \n",
    "                     \"fede\" : fede,               \n",
    "                     }\n",
    "\n",
    "\n",
    "for label, recommender_obj in recommender_class.items():\n",
    "    recommender_object_dict[label] = recommender_obj"
   ]
  },
  {
   "cell_type": "code",
   "execution_count": 12,
   "metadata": {},
   "outputs": [
    {
     "name": "stdout",
     "output_type": "stream",
     "text": [
      "Group 0, #users in group 2081, average p.len 6.98, median 7.0, min 2, max 9\n",
      "EvaluatorHoldout: Ignoring 1577 ( 3.8%) Users that have less than 1 test interactions\n",
      "EvaluatorHoldout: Ignoring 39548 Users\n",
      "EvaluatorHoldout: Processed 1576 (100.0%) in 1.18 sec. Users per second: 1332\n",
      "EvaluatorHoldout: Processed 1576 (100.0%) in 1.12 sec. Users per second: 1411\n",
      "EvaluatorHoldout: Processed 1576 (100.0%) in 1.15 sec. Users per second: 1373\n",
      "EvaluatorHoldout: Processed 1576 (100.0%) in 1.21 sec. Users per second: 1305\n",
      "EvaluatorHoldout: Processed 1576 (100.0%) in 1.14 sec. Users per second: 1380\n",
      "Group 1, #users in group 2081, average p.len 9.43, median 9.0, min 9, max 10\n",
      "EvaluatorHoldout: Ignoring 1577 ( 3.8%) Users that have less than 1 test interactions\n",
      "EvaluatorHoldout: Ignoring 39548 Users\n",
      "EvaluatorHoldout: Processed 1816 (100.0%) in 1.23 sec. Users per second: 1481\n",
      "EvaluatorHoldout: Processed 1816 (100.0%) in 1.20 sec. Users per second: 1510\n",
      "EvaluatorHoldout: Processed 1816 (100.0%) in 1.19 sec. Users per second: 1528\n",
      "EvaluatorHoldout: Processed 1816 (100.0%) in 1.22 sec. Users per second: 1492\n",
      "EvaluatorHoldout: Processed 1816 (100.0%) in 1.22 sec. Users per second: 1488\n",
      "Group 2, #users in group 2081, average p.len 10.69, median 11.0, min 10, max 11\n",
      "EvaluatorHoldout: Ignoring 1577 ( 3.8%) Users that have less than 1 test interactions\n",
      "EvaluatorHoldout: Ignoring 39548 Users\n",
      "EvaluatorHoldout: Processed 1902 (100.0%) in 1.30 sec. Users per second: 1459\n",
      "EvaluatorHoldout: Processed 1902 (100.0%) in 1.26 sec. Users per second: 1508\n",
      "EvaluatorHoldout: Processed 1902 (100.0%) in 1.20 sec. Users per second: 1579\n",
      "EvaluatorHoldout: Processed 1902 (100.0%) in 1.21 sec. Users per second: 1574\n",
      "EvaluatorHoldout: Processed 1902 (100.0%) in 1.19 sec. Users per second: 1604\n",
      "Group 3, #users in group 2081, average p.len 11.83, median 12.0, min 11, max 12\n",
      "EvaluatorHoldout: Ignoring 1577 ( 3.8%) Users that have less than 1 test interactions\n",
      "EvaluatorHoldout: Ignoring 39548 Users\n",
      "EvaluatorHoldout: Processed 1941 (100.0%) in 1.23 sec. Users per second: 1578\n",
      "EvaluatorHoldout: Processed 1941 (100.0%) in 1.20 sec. Users per second: 1623\n",
      "EvaluatorHoldout: Processed 1941 (100.0%) in 1.20 sec. Users per second: 1615\n",
      "EvaluatorHoldout: Processed 1941 (100.0%) in 1.25 sec. Users per second: 1556\n",
      "EvaluatorHoldout: Processed 1941 (100.0%) in 1.20 sec. Users per second: 1623\n",
      "Group 4, #users in group 2081, average p.len 12.88, median 13.0, min 12, max 13\n",
      "EvaluatorHoldout: Ignoring 1577 ( 3.8%) Users that have less than 1 test interactions\n",
      "EvaluatorHoldout: Ignoring 39548 Users\n",
      "EvaluatorHoldout: Processed 1959 (100.0%) in 1.23 sec. Users per second: 1593\n",
      "EvaluatorHoldout: Processed 1959 (100.0%) in 1.19 sec. Users per second: 1645\n",
      "EvaluatorHoldout: Processed 1959 (100.0%) in 1.21 sec. Users per second: 1616\n",
      "EvaluatorHoldout: Processed 1959 (100.0%) in 1.24 sec. Users per second: 1575\n",
      "EvaluatorHoldout: Processed 1959 (100.0%) in 1.21 sec. Users per second: 1614\n",
      "Group 5, #users in group 2081, average p.len 13.92, median 14.0, min 13, max 14\n",
      "EvaluatorHoldout: Ignoring 1577 ( 3.8%) Users that have less than 1 test interactions\n",
      "EvaluatorHoldout: Ignoring 39548 Users\n",
      "EvaluatorHoldout: Processed 1986 (100.0%) in 1.25 sec. Users per second: 1592\n",
      "EvaluatorHoldout: Processed 1986 (100.0%) in 1.20 sec. Users per second: 1652\n",
      "EvaluatorHoldout: Processed 1986 (100.0%) in 1.22 sec. Users per second: 1628\n",
      "EvaluatorHoldout: Processed 1986 (100.0%) in 1.25 sec. Users per second: 1594\n",
      "EvaluatorHoldout: Processed 1986 (100.0%) in 1.22 sec. Users per second: 1621\n",
      "Group 6, #users in group 2081, average p.len 14.92, median 15.0, min 14, max 15\n",
      "EvaluatorHoldout: Ignoring 1577 ( 3.8%) Users that have less than 1 test interactions\n",
      "EvaluatorHoldout: Ignoring 39548 Users\n",
      "EvaluatorHoldout: Processed 2012 (100.0%) in 1.26 sec. Users per second: 1603\n",
      "EvaluatorHoldout: Processed 2012 (100.0%) in 1.21 sec. Users per second: 1663\n",
      "EvaluatorHoldout: Processed 2012 (100.0%) in 1.23 sec. Users per second: 1629\n",
      "EvaluatorHoldout: Processed 2012 (100.0%) in 1.26 sec. Users per second: 1600\n",
      "EvaluatorHoldout: Processed 2012 (100.0%) in 1.26 sec. Users per second: 1602\n",
      "Group 7, #users in group 2081, average p.len 16.00, median 16.0, min 15, max 17\n",
      "EvaluatorHoldout: Ignoring 1577 ( 3.8%) Users that have less than 1 test interactions\n",
      "EvaluatorHoldout: Ignoring 39548 Users\n",
      "EvaluatorHoldout: Processed 2016 (100.0%) in 1.26 sec. Users per second: 1597\n",
      "EvaluatorHoldout: Processed 2016 (100.0%) in 1.23 sec. Users per second: 1645\n",
      "EvaluatorHoldout: Processed 2016 (100.0%) in 1.25 sec. Users per second: 1615\n",
      "EvaluatorHoldout: Processed 2016 (100.0%) in 1.27 sec. Users per second: 1594\n",
      "EvaluatorHoldout: Processed 2016 (100.0%) in 1.23 sec. Users per second: 1633\n",
      "Group 8, #users in group 2081, average p.len 17.22, median 17.0, min 17, max 18\n",
      "EvaluatorHoldout: Ignoring 1577 ( 3.8%) Users that have less than 1 test interactions\n",
      "EvaluatorHoldout: Ignoring 39548 Users\n",
      "EvaluatorHoldout: Processed 2041 (100.0%) in 1.28 sec. Users per second: 1601\n",
      "EvaluatorHoldout: Processed 2041 (100.0%) in 1.22 sec. Users per second: 1667\n",
      "EvaluatorHoldout: Processed 2041 (100.0%) in 1.25 sec. Users per second: 1637\n",
      "EvaluatorHoldout: Processed 2041 (100.0%) in 1.28 sec. Users per second: 1593\n",
      "EvaluatorHoldout: Processed 2041 (100.0%) in 1.25 sec. Users per second: 1639\n",
      "Group 9, #users in group 2081, average p.len 18.42, median 18.0, min 18, max 19\n",
      "EvaluatorHoldout: Ignoring 1577 ( 3.8%) Users that have less than 1 test interactions\n",
      "EvaluatorHoldout: Ignoring 39548 Users\n",
      "EvaluatorHoldout: Processed 2050 (100.0%) in 1.28 sec. Users per second: 1602\n",
      "EvaluatorHoldout: Processed 2050 (100.0%) in 1.23 sec. Users per second: 1668\n",
      "EvaluatorHoldout: Processed 2050 (100.0%) in 1.25 sec. Users per second: 1636\n",
      "EvaluatorHoldout: Processed 2050 (100.0%) in 1.28 sec. Users per second: 1601\n",
      "EvaluatorHoldout: Processed 2050 (100.0%) in 1.25 sec. Users per second: 1644\n",
      "Group 10, #users in group 2081, average p.len 19.75, median 20.0, min 19, max 21\n",
      "EvaluatorHoldout: Ignoring 1577 ( 3.8%) Users that have less than 1 test interactions\n",
      "EvaluatorHoldout: Ignoring 39548 Users\n",
      "EvaluatorHoldout: Processed 2057 (100.0%) in 1.29 sec. Users per second: 1599\n",
      "EvaluatorHoldout: Processed 2057 (100.0%) in 1.26 sec. Users per second: 1633\n",
      "EvaluatorHoldout: Processed 2057 (100.0%) in 1.37 sec. Users per second: 1499\n",
      "EvaluatorHoldout: Processed 2057 (100.0%) in 1.33 sec. Users per second: 1549\n",
      "EvaluatorHoldout: Processed 2057 (100.0%) in 1.29 sec. Users per second: 1598\n",
      "Group 11, #users in group 2081, average p.len 21.44, median 21.0, min 21, max 22\n",
      "EvaluatorHoldout: Ignoring 1577 ( 3.8%) Users that have less than 1 test interactions\n",
      "EvaluatorHoldout: Ignoring 39548 Users\n",
      "EvaluatorHoldout: Processed 2066 (100.0%) in 1.32 sec. Users per second: 1563\n",
      "EvaluatorHoldout: Processed 2066 (100.0%) in 1.25 sec. Users per second: 1657\n",
      "EvaluatorHoldout: Processed 2066 (100.0%) in 1.27 sec. Users per second: 1626\n",
      "EvaluatorHoldout: Processed 2066 (100.0%) in 1.30 sec. Users per second: 1594\n",
      "EvaluatorHoldout: Processed 2066 (100.0%) in 1.27 sec. Users per second: 1631\n",
      "Group 12, #users in group 2081, average p.len 23.21, median 23.0, min 22, max 24\n",
      "EvaluatorHoldout: Ignoring 1577 ( 3.8%) Users that have less than 1 test interactions\n",
      "EvaluatorHoldout: Ignoring 39548 Users\n",
      "EvaluatorHoldout: Processed 2070 (100.0%) in 1.31 sec. Users per second: 1584\n",
      "EvaluatorHoldout: Processed 2070 (100.0%) in 1.25 sec. Users per second: 1655\n",
      "EvaluatorHoldout: Processed 2070 (100.0%) in 1.28 sec. Users per second: 1616\n",
      "EvaluatorHoldout: Processed 2070 (100.0%) in 1.30 sec. Users per second: 1588\n",
      "EvaluatorHoldout: Processed 2070 (100.0%) in 1.28 sec. Users per second: 1617\n",
      "Group 13, #users in group 2081, average p.len 25.49, median 25.0, min 24, max 27\n",
      "EvaluatorHoldout: Ignoring 1577 ( 3.8%) Users that have less than 1 test interactions\n",
      "EvaluatorHoldout: Ignoring 39548 Users\n",
      "EvaluatorHoldout: Processed 2071 (100.0%) in 1.35 sec. Users per second: 1529\n",
      "EvaluatorHoldout: Processed 2071 (100.0%) in 1.34 sec. Users per second: 1546\n",
      "EvaluatorHoldout: Processed 2071 (100.0%) in 1.35 sec. Users per second: 1535\n",
      "EvaluatorHoldout: Processed 2071 (100.0%) in 1.34 sec. Users per second: 1551\n",
      "EvaluatorHoldout: Processed 2071 (100.0%) in 1.38 sec. Users per second: 1498\n",
      "Group 14, #users in group 2081, average p.len 28.37, median 28.0, min 27, max 30\n",
      "EvaluatorHoldout: Ignoring 1577 ( 3.8%) Users that have less than 1 test interactions\n",
      "EvaluatorHoldout: Ignoring 39548 Users\n",
      "EvaluatorHoldout: Processed 2078 (100.0%) in 1.47 sec. Users per second: 1418\n",
      "EvaluatorHoldout: Processed 2078 (100.0%) in 1.31 sec. Users per second: 1585\n",
      "EvaluatorHoldout: Processed 2078 (100.0%) in 1.45 sec. Users per second: 1433\n",
      "EvaluatorHoldout: Processed 2078 (100.0%) in 1.34 sec. Users per second: 1547\n",
      "EvaluatorHoldout: Processed 2078 (100.0%) in 1.29 sec. Users per second: 1610\n",
      "Group 15, #users in group 2081, average p.len 31.88, median 32.0, min 30, max 34\n",
      "EvaluatorHoldout: Ignoring 1577 ( 3.8%) Users that have less than 1 test interactions\n",
      "EvaluatorHoldout: Ignoring 39548 Users\n",
      "EvaluatorHoldout: Processed 2079 (100.0%) in 1.34 sec. Users per second: 1549\n",
      "EvaluatorHoldout: Processed 2079 (100.0%) in 1.27 sec. Users per second: 1635\n",
      "EvaluatorHoldout: Processed 2079 (100.0%) in 1.31 sec. Users per second: 1592\n",
      "EvaluatorHoldout: Processed 2079 (100.0%) in 1.33 sec. Users per second: 1561\n",
      "EvaluatorHoldout: Processed 2079 (100.0%) in 1.30 sec. Users per second: 1595\n",
      "Group 16, #users in group 2081, average p.len 36.44, median 36.0, min 34, max 39\n",
      "EvaluatorHoldout: Ignoring 1577 ( 3.8%) Users that have less than 1 test interactions\n",
      "EvaluatorHoldout: Ignoring 39548 Users\n",
      "EvaluatorHoldout: Processed 2080 (100.0%) in 1.35 sec. Users per second: 1537\n",
      "EvaluatorHoldout: Processed 2080 (100.0%) in 1.30 sec. Users per second: 1606\n",
      "EvaluatorHoldout: Processed 2080 (100.0%) in 1.34 sec. Users per second: 1547\n",
      "EvaluatorHoldout: Processed 2080 (100.0%) in 1.34 sec. Users per second: 1551\n",
      "EvaluatorHoldout: Processed 2080 (100.0%) in 1.31 sec. Users per second: 1585\n",
      "Group 17, #users in group 2081, average p.len 43.14, median 43.0, min 39, max 48\n",
      "EvaluatorHoldout: Ignoring 1577 ( 3.8%) Users that have less than 1 test interactions\n",
      "EvaluatorHoldout: Ignoring 39548 Users\n"
     ]
    },
    {
     "name": "stderr",
     "output_type": "stream",
     "text": [
      "/Users/daniele/Desktop/RecSys/RecSysChallenge2023-Team/Evaluation/metrics.py:276: RuntimeWarning: overflow encountered in power\n",
      "  return np.sum(np.divide(np.power(2, scores) - 1, np.log2(np.arange(scores.shape[0], dtype=np.float64) + 2)),\n",
      "/Users/daniele/Desktop/RecSys/RecSysChallenge2023-Team/Evaluation/metrics.py:270: RuntimeWarning: invalid value encountered in double_scalars\n",
      "  ndcg_ = rank_dcg / ideal_dcg\n"
     ]
    },
    {
     "name": "stdout",
     "output_type": "stream",
     "text": [
      "EvaluatorHoldout: Processed 2081 (100.0%) in 1.38 sec. Users per second: 1510\n"
     ]
    },
    {
     "name": "stderr",
     "output_type": "stream",
     "text": [
      "/Users/daniele/Desktop/RecSys/RecSysChallenge2023-Team/Evaluation/metrics.py:276: RuntimeWarning: overflow encountered in power\n",
      "  return np.sum(np.divide(np.power(2, scores) - 1, np.log2(np.arange(scores.shape[0], dtype=np.float64) + 2)),\n",
      "/Users/daniele/Desktop/RecSys/RecSysChallenge2023-Team/Evaluation/metrics.py:270: RuntimeWarning: invalid value encountered in double_scalars\n",
      "  ndcg_ = rank_dcg / ideal_dcg\n"
     ]
    },
    {
     "name": "stdout",
     "output_type": "stream",
     "text": [
      "EvaluatorHoldout: Processed 2081 (100.0%) in 1.32 sec. Users per second: 1581\n"
     ]
    },
    {
     "name": "stderr",
     "output_type": "stream",
     "text": [
      "/Users/daniele/Desktop/RecSys/RecSysChallenge2023-Team/Evaluation/metrics.py:276: RuntimeWarning: overflow encountered in power\n",
      "  return np.sum(np.divide(np.power(2, scores) - 1, np.log2(np.arange(scores.shape[0], dtype=np.float64) + 2)),\n",
      "/Users/daniele/Desktop/RecSys/RecSysChallenge2023-Team/Evaluation/metrics.py:270: RuntimeWarning: invalid value encountered in double_scalars\n",
      "  ndcg_ = rank_dcg / ideal_dcg\n"
     ]
    },
    {
     "name": "stdout",
     "output_type": "stream",
     "text": [
      "EvaluatorHoldout: Processed 2081 (100.0%) in 1.35 sec. Users per second: 1543\n"
     ]
    },
    {
     "name": "stderr",
     "output_type": "stream",
     "text": [
      "/Users/daniele/Desktop/RecSys/RecSysChallenge2023-Team/Evaluation/metrics.py:276: RuntimeWarning: overflow encountered in power\n",
      "  return np.sum(np.divide(np.power(2, scores) - 1, np.log2(np.arange(scores.shape[0], dtype=np.float64) + 2)),\n",
      "/Users/daniele/Desktop/RecSys/RecSysChallenge2023-Team/Evaluation/metrics.py:270: RuntimeWarning: invalid value encountered in double_scalars\n",
      "  ndcg_ = rank_dcg / ideal_dcg\n"
     ]
    },
    {
     "name": "stdout",
     "output_type": "stream",
     "text": [
      "EvaluatorHoldout: Processed 2081 (100.0%) in 1.37 sec. Users per second: 1514\n"
     ]
    },
    {
     "name": "stderr",
     "output_type": "stream",
     "text": [
      "/Users/daniele/Desktop/RecSys/RecSysChallenge2023-Team/Evaluation/metrics.py:276: RuntimeWarning: overflow encountered in power\n",
      "  return np.sum(np.divide(np.power(2, scores) - 1, np.log2(np.arange(scores.shape[0], dtype=np.float64) + 2)),\n",
      "/Users/daniele/Desktop/RecSys/RecSysChallenge2023-Team/Evaluation/metrics.py:270: RuntimeWarning: invalid value encountered in double_scalars\n",
      "  ndcg_ = rank_dcg / ideal_dcg\n"
     ]
    },
    {
     "name": "stdout",
     "output_type": "stream",
     "text": [
      "EvaluatorHoldout: Processed 2081 (100.0%) in 1.34 sec. Users per second: 1552\n",
      "Group 18, #users in group 2081, average p.len 54.12, median 54.0, min 48, max 62\n",
      "EvaluatorHoldout: Ignoring 1577 ( 3.8%) Users that have less than 1 test interactions\n",
      "EvaluatorHoldout: Ignoring 39548 Users\n"
     ]
    },
    {
     "name": "stderr",
     "output_type": "stream",
     "text": [
      "/Users/daniele/Desktop/RecSys/RecSysChallenge2023-Team/Evaluation/metrics.py:276: RuntimeWarning: overflow encountered in power\n",
      "  return np.sum(np.divide(np.power(2, scores) - 1, np.log2(np.arange(scores.shape[0], dtype=np.float64) + 2)),\n"
     ]
    },
    {
     "name": "stdout",
     "output_type": "stream",
     "text": [
      "EvaluatorHoldout: Processed 2081 (100.0%) in 1.41 sec. Users per second: 1477\n"
     ]
    },
    {
     "name": "stderr",
     "output_type": "stream",
     "text": [
      "/Users/daniele/Desktop/RecSys/RecSysChallenge2023-Team/Evaluation/metrics.py:276: RuntimeWarning: overflow encountered in power\n",
      "  return np.sum(np.divide(np.power(2, scores) - 1, np.log2(np.arange(scores.shape[0], dtype=np.float64) + 2)),\n"
     ]
    },
    {
     "name": "stdout",
     "output_type": "stream",
     "text": [
      "EvaluatorHoldout: Processed 2081 (100.0%) in 1.33 sec. Users per second: 1566\n"
     ]
    },
    {
     "name": "stderr",
     "output_type": "stream",
     "text": [
      "/Users/daniele/Desktop/RecSys/RecSysChallenge2023-Team/Evaluation/metrics.py:276: RuntimeWarning: overflow encountered in power\n",
      "  return np.sum(np.divide(np.power(2, scores) - 1, np.log2(np.arange(scores.shape[0], dtype=np.float64) + 2)),\n"
     ]
    },
    {
     "name": "stdout",
     "output_type": "stream",
     "text": [
      "EvaluatorHoldout: Processed 2081 (100.0%) in 1.37 sec. Users per second: 1515\n"
     ]
    },
    {
     "name": "stderr",
     "output_type": "stream",
     "text": [
      "/Users/daniele/Desktop/RecSys/RecSysChallenge2023-Team/Evaluation/metrics.py:276: RuntimeWarning: overflow encountered in power\n",
      "  return np.sum(np.divide(np.power(2, scores) - 1, np.log2(np.arange(scores.shape[0], dtype=np.float64) + 2)),\n"
     ]
    },
    {
     "name": "stdout",
     "output_type": "stream",
     "text": [
      "EvaluatorHoldout: Processed 2081 (100.0%) in 1.41 sec. Users per second: 1481\n"
     ]
    },
    {
     "name": "stderr",
     "output_type": "stream",
     "text": [
      "/Users/daniele/Desktop/RecSys/RecSysChallenge2023-Team/Evaluation/metrics.py:276: RuntimeWarning: overflow encountered in power\n",
      "  return np.sum(np.divide(np.power(2, scores) - 1, np.log2(np.arange(scores.shape[0], dtype=np.float64) + 2)),\n"
     ]
    },
    {
     "name": "stdout",
     "output_type": "stream",
     "text": [
      "EvaluatorHoldout: Processed 2081 (100.0%) in 1.38 sec. Users per second: 1508\n",
      "Group 19, #users in group 2081, average p.len 87.91, median 78.0, min 62, max 281\n",
      "EvaluatorHoldout: Ignoring 1577 ( 3.8%) Users that have less than 1 test interactions\n",
      "EvaluatorHoldout: Ignoring 39548 Users\n"
     ]
    },
    {
     "name": "stderr",
     "output_type": "stream",
     "text": [
      "/Users/daniele/Desktop/RecSys/RecSysChallenge2023-Team/Evaluation/metrics.py:276: RuntimeWarning: overflow encountered in power\n",
      "  return np.sum(np.divide(np.power(2, scores) - 1, np.log2(np.arange(scores.shape[0], dtype=np.float64) + 2)),\n"
     ]
    },
    {
     "name": "stdout",
     "output_type": "stream",
     "text": [
      "EvaluatorHoldout: Processed 2081 (100.0%) in 1.53 sec. Users per second: 1357\n"
     ]
    },
    {
     "name": "stderr",
     "output_type": "stream",
     "text": [
      "/Users/daniele/Desktop/RecSys/RecSysChallenge2023-Team/Evaluation/metrics.py:276: RuntimeWarning: overflow encountered in power\n",
      "  return np.sum(np.divide(np.power(2, scores) - 1, np.log2(np.arange(scores.shape[0], dtype=np.float64) + 2)),\n"
     ]
    },
    {
     "name": "stdout",
     "output_type": "stream",
     "text": [
      "EvaluatorHoldout: Processed 2081 (100.0%) in 1.42 sec. Users per second: 1471\n"
     ]
    },
    {
     "name": "stderr",
     "output_type": "stream",
     "text": [
      "/Users/daniele/Desktop/RecSys/RecSysChallenge2023-Team/Evaluation/metrics.py:276: RuntimeWarning: overflow encountered in power\n",
      "  return np.sum(np.divide(np.power(2, scores) - 1, np.log2(np.arange(scores.shape[0], dtype=np.float64) + 2)),\n"
     ]
    },
    {
     "name": "stdout",
     "output_type": "stream",
     "text": [
      "EvaluatorHoldout: Processed 2081 (100.0%) in 1.48 sec. Users per second: 1408\n"
     ]
    },
    {
     "name": "stderr",
     "output_type": "stream",
     "text": [
      "/Users/daniele/Desktop/RecSys/RecSysChallenge2023-Team/Evaluation/metrics.py:276: RuntimeWarning: overflow encountered in power\n",
      "  return np.sum(np.divide(np.power(2, scores) - 1, np.log2(np.arange(scores.shape[0], dtype=np.float64) + 2)),\n"
     ]
    },
    {
     "name": "stdout",
     "output_type": "stream",
     "text": [
      "EvaluatorHoldout: Processed 2081 (100.0%) in 1.55 sec. Users per second: 1345\n"
     ]
    },
    {
     "name": "stderr",
     "output_type": "stream",
     "text": [
      "/Users/daniele/Desktop/RecSys/RecSysChallenge2023-Team/Evaluation/metrics.py:276: RuntimeWarning: overflow encountered in power\n",
      "  return np.sum(np.divide(np.power(2, scores) - 1, np.log2(np.arange(scores.shape[0], dtype=np.float64) + 2)),\n"
     ]
    },
    {
     "name": "stdout",
     "output_type": "stream",
     "text": [
      "EvaluatorHoldout: Processed 2081 (100.0%) in 1.52 sec. Users per second: 1368\n"
     ]
    }
   ],
   "source": [
    "cutoff = 10\n",
    "\n",
    "for group_id in range(0, 20):\n",
    "    \n",
    "    start_pos = group_id*block_size\n",
    "    end_pos = min((group_id+1)*block_size, len(profile_length))\n",
    "    \n",
    "    users_in_group = sorted_users[start_pos:end_pos]\n",
    "    \n",
    "    users_in_group_p_len = profile_length[users_in_group]\n",
    "    \n",
    "    print(\"Group {}, #users in group {}, average p.len {:.2f}, median {}, min {}, max {}\".format(\n",
    "        group_id, \n",
    "        users_in_group.shape[0],\n",
    "        users_in_group_p_len.mean(),\n",
    "        np.median(users_in_group_p_len),\n",
    "        users_in_group_p_len.min(),\n",
    "        users_in_group_p_len.max()))\n",
    "    \n",
    "    \n",
    "    users_not_in_group_flag = np.isin(sorted_users, users_in_group, invert=True)\n",
    "    users_not_in_group = sorted_users[users_not_in_group_flag]\n",
    "    \n",
    "    evaluator_test = EvaluatorHoldout(URMv_test, cutoff_list=[cutoff], ignore_users=users_not_in_group)\n",
    "    \n",
    "    for label, recommender in recommender_object_dict.items():\n",
    "        result_df, _ = evaluator_test.evaluateRecommender(recommender)\n",
    "        if label in MAP_recommender_per_group:\n",
    "            MAP_recommender_per_group[label].append(result_df.loc[cutoff][\"MAP\"])\n",
    "        else:\n",
    "            MAP_recommender_per_group[label] = [result_df.loc[cutoff][\"MAP\"]]"
   ]
  },
  {
   "cell_type": "code",
   "execution_count": 13,
   "metadata": {},
   "outputs": [
    {
     "data": {
      "image/png": "[encoded data removed]",
      "text/plain": [
       "<Figure size 1400x1400 with 1 Axes>"
      ]
     },
     "metadata": {},
     "output_type": "display_data"
    }
   ],
   "source": [
    "import matplotlib.pyplot as plt\n",
    "%matplotlib inline  \n",
    "\n",
    "_ = plt.figure(figsize=(14, 14))\n",
    "for label, recommender in recommender_object_dict.items():\n",
    "    results = MAP_recommender_per_group[label]\n",
    "    plt.scatter(x=np.arange(0,len(results)), y=results, label=label,)\n",
    "plt.ylabel('MAP')\n",
    "plt.xlabel('User Group')\n",
    "plt.legend()\n",
    "plt.show()"
   ]
  },
  {
   "cell_type": "code",
   "execution_count": 14,
   "metadata": {},
   "outputs": [
    {
     "name": "stdout",
     "output_type": "stream",
     "text": [
      "EvaluatorHoldout: Ignoring 1577 ( 3.8%) Users that have less than 1 test interactions\n"
     ]
    },
    {
     "ename": "NameError",
     "evalue": "name 'hybrid' is not defined",
     "output_type": "error",
     "traceback": [
      "\u001b[0;31m---------------------------------------------------------------------------\u001b[0m",
      "\u001b[0;31mNameError\u001b[0m                                 Traceback (most recent call last)",
      "\u001b[1;32m/Users/daniele/Desktop/RecSys/RecSysChallenge2023-Team/Daniele/Recommenders/RP3Beta/analysis.ipynb Cell 18\u001b[0m in \u001b[0;36m<cell line: 2>\u001b[0;34m()\u001b[0m\n\u001b[1;32m      <a href='vscode-notebook-cell:/Users/daniele/Desktop/RecSys/RecSysChallenge2023-Team/Daniele/Recommenders/RP3Beta/analysis.ipynb#X22sZmlsZQ%3D%3D?line=0'>1</a>\u001b[0m evaluator_test \u001b[39m=\u001b[39m EvaluatorHoldout(URMv_test, [\u001b[39m10\u001b[39m])\n\u001b[0;32m----> <a href='vscode-notebook-cell:/Users/daniele/Desktop/RecSys/RecSysChallenge2023-Team/Daniele/Recommenders/RP3Beta/analysis.ipynb#X22sZmlsZQ%3D%3D?line=1'>2</a>\u001b[0m ris, _ \u001b[39m=\u001b[39m evaluator_test\u001b[39m.\u001b[39mevaluateRecommender(hybrid)\n\u001b[1;32m      <a href='vscode-notebook-cell:/Users/daniele/Desktop/RecSys/RecSysChallenge2023-Team/Daniele/Recommenders/RP3Beta/analysis.ipynb#X22sZmlsZQ%3D%3D?line=2'>3</a>\u001b[0m ris\n",
      "\u001b[0;31mNameError\u001b[0m: name 'hybrid' is not defined"
     ]
    }
   ],
   "source": [
    "evaluator_test = EvaluatorHoldout(URMv_test, [10])\n",
    "ris, _ = evaluator_test.evaluateRecommender(hybrid)\n",
    "ris"
   ]
  },
  {
   "cell_type": "code",
   "execution_count": null,
   "metadata": {
    "collapsed": false
   },
   "outputs": [],
   "source": []
  },
  {
   "cell_type": "code",
   "execution_count": null,
   "metadata": {
    "collapsed": false
   },
   "outputs": [],
   "source": [
    "evaluator_test = EvaluatorHoldout(URMv_test, [10])\n",
    "ris, _ = evaluator_test.evaluateRecommender(best_reference)\n",
    "ris"
   ]
  },
  {
   "cell_type": "code",
   "execution_count": null,
   "metadata": {},
   "outputs": [],
   "source": [
    "from tqdm import tqdm\n",
    "\n",
    "f = open(\"submission.csv\", \"w+\")\n",
    "f.write(\"user_id,item_list\\n\")\n",
    "for t in tqdm(dm.getUserIDtest_df().user_id):\n",
    "    recommended_items = recommender.recommend(t, cutoff=10, remove_seen_flag=True)\n",
    "    well_formatted = \" \".join([str(x) for x in recommended_items])\n",
    "    f.write(f\"{t}, {well_formatted}\\n\")"
   ]
  }
 ],
 "metadata": {
  "kernelspec": {
   "display_name": "base",
   "language": "python",
   "name": "python3"
  },
  "language_info": {
   "codemirror_mode": {
    "name": "ipython",
    "version": 3
   },
   "file_extension": ".py",
   "mimetype": "text/x-python",
   "name": "python",
   "nbconvert_exporter": "python",
   "pygments_lexer": "ipython3",
   "version": "3.9.13 | packaged by conda-forge | (main, May 27 2022, 17:00:33) \n[Clang 13.0.1 ]"
  },
  "orig_nbformat": 4,
  "vscode": {
   "interpreter": {
    "hash": "6e76083d1a5f4c0027e70cf105b7627b1b5e567462449feedfd1ad9407b42e24"
   }
  }
 },
 "nbformat": 4,
 "nbformat_minor": 2
}
