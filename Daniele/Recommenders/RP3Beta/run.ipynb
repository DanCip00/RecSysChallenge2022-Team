{
 "cells": [
  {
   "cell_type": "code",
   "execution_count": 1,
   "metadata": {},
   "outputs": [
    {
     "name": "stdout",
     "output_type": "stream",
     "text": [
      "/Users/daniele/Desktop/RecSys/RecSysChallenge2023-Team\n"
     ]
    },
    {
     "name": "stderr",
     "output_type": "stream",
     "text": [
      "100%|██████████| 27968/27968 [00:06<00:00, 4231.11it/s]\n",
      "100%|██████████| 1051828/1051828 [00:02<00:00, 495877.68it/s]\n",
      "100%|██████████| 27968/27968 [00:04<00:00, 5791.92it/s]\n",
      "100%|██████████| 663370/663370 [00:01<00:00, 653234.85it/s]\n"
     ]
    },
    {
     "name": "stdout",
     "output_type": "stream",
     "text": [
      "Warning: 318 (0.76 %) of 41629 users have no sampled items\n",
      "Warning: 317 (0.76 %) of 41629 users have no sampled items\n",
      "RP3betaRecommender: URM Detected 3461 (12.4%) items with no interactions.\n",
      "RP3betaRecommender: Similarity column 27968 (100.0%), 4235.12 column/sec. Elapsed time 6.60 sec\n"
     ]
    }
   ],
   "source": [
    "import os \n",
    "import sys\n",
    "while os.path.split(os.getcwd())[1] != 'RecSysChallenge2023-Team':\n",
    "    os.chdir('..')\n",
    "sys.path.insert(1, os.getcwd())\n",
    "\n",
    "################################# IMPORT HyperTuning  #################################\n",
    "from HyperparameterTuning.SearchBayesianSkopt import SearchBayesianSkopt\n",
    "from HyperparameterTuning.SearchAbstractClass import SearchInputRecommenderArgs\n",
    "from skopt.space import Real, Integer, Categorical\n",
    "\n",
    "################################# IMPORT RECOMMENDERS #################################\n",
    "from Recommenders.GraphBased.RP3betaRecommender import RP3betaRecommender\n",
    "from Recommenders.IR_feature_weighting import okapi_BM_25\n",
    "\n",
    "################################## IMPORT LIBRARIES ##################################\n",
    "import scipy.sparse as sps\n",
    "from tqdm import tqdm\n",
    "import pandas as pd\n",
    "import numpy as np\n",
    "import similaripy\n",
    "import math \n",
    "\n",
    "import Daniele.Utils.MatrixManipulation as mm\n",
    "import MyDataManager as dm\n",
    "\n",
    "from Data_manager.split_functions.split_train_validation_random_holdout import split_train_in_two_percentage_global_sample\n",
    "from Evaluation.Evaluator import EvaluatorHoldout\n",
    "from sklearn.preprocessing import normalize\n",
    "\n",
    "URMv = dm.getURMviews()\n",
    "URMo = dm.getURMopen()\n",
    "\n",
    "urm = mm.defaultExplicitURM(urmv=URMv,urmo=URMo, normalize=False, add_aug=False)\n",
    "urm.data = np.ones(len(urm.data))\n",
    "\n",
    "URMv_train, URMv_test = split_train_in_two_percentage_global_sample(urm, train_percentage = 0.80)\n",
    "\n",
    "urma = mm.augmentURM(URMv_train)\n",
    "urma.data = np.ones(len(urma.data))\n",
    "URMfat = sps.vstack([URMv_train,urma])    \n",
    "\n",
    "\n",
    "recommender = RP3betaRecommender(URMfat)\n",
    "#{'topK': 106, 'alpha': 0.6155817289031643, 'beta': 0.33427474623540737, 'normalize_similarity': True} -> MAP 0.0276355\n",
    "recommender.fit(topK= 106, alpha= 0.6155817289031643, beta= 0.33427474623540737, normalize_similarity= True)\n"
   ]
  },
  {
   "cell_type": "code",
   "execution_count": 2,
   "metadata": {},
   "outputs": [
    {
     "name": "stdout",
     "output_type": "stream",
     "text": [
      "EvaluatorHoldout: Ignoring 318 ( 0.8%) Users that have less than 1 test interactions\n",
      "EvaluatorHoldout: Processed 41311 (100.0%) in 12.57 sec. Users per second: 3286\n"
     ]
    },
    {
     "data": {
      "text/html": [
       "<div>\n",
       "<style scoped>\n",
       "    .dataframe tbody tr th:only-of-type {\n",
       "        vertical-align: middle;\n",
       "    }\n",
       "\n",
       "    .dataframe tbody tr th {\n",
       "        vertical-align: top;\n",
       "    }\n",
       "\n",
       "    .dataframe thead th {\n",
       "        text-align: right;\n",
       "    }\n",
       "</style>\n",
       "<table border=\"1\" class=\"dataframe\">\n",
       "  <thead>\n",
       "    <tr style=\"text-align: right;\">\n",
       "      <th></th>\n",
       "      <th>PRECISION</th>\n",
       "      <th>PRECISION_RECALL_MIN_DEN</th>\n",
       "      <th>RECALL</th>\n",
       "      <th>MAP</th>\n",
       "      <th>MAP_MIN_DEN</th>\n",
       "      <th>MRR</th>\n",
       "      <th>NDCG</th>\n",
       "      <th>F1</th>\n",
       "      <th>HIT_RATE</th>\n",
       "      <th>ARHR_ALL_HITS</th>\n",
       "      <th>...</th>\n",
       "      <th>COVERAGE_USER</th>\n",
       "      <th>COVERAGE_USER_HIT</th>\n",
       "      <th>USERS_IN_GT</th>\n",
       "      <th>DIVERSITY_GINI</th>\n",
       "      <th>SHANNON_ENTROPY</th>\n",
       "      <th>RATIO_DIVERSITY_HERFINDAHL</th>\n",
       "      <th>RATIO_DIVERSITY_GINI</th>\n",
       "      <th>RATIO_SHANNON_ENTROPY</th>\n",
       "      <th>RATIO_AVERAGE_POPULARITY</th>\n",
       "      <th>RATIO_NOVELTY</th>\n",
       "    </tr>\n",
       "    <tr>\n",
       "      <th>cutoff</th>\n",
       "      <th></th>\n",
       "      <th></th>\n",
       "      <th></th>\n",
       "      <th></th>\n",
       "      <th></th>\n",
       "      <th></th>\n",
       "      <th></th>\n",
       "      <th></th>\n",
       "      <th></th>\n",
       "      <th></th>\n",
       "      <th></th>\n",
       "      <th></th>\n",
       "      <th></th>\n",
       "      <th></th>\n",
       "      <th></th>\n",
       "      <th></th>\n",
       "      <th></th>\n",
       "      <th></th>\n",
       "      <th></th>\n",
       "      <th></th>\n",
       "      <th></th>\n",
       "    </tr>\n",
       "  </thead>\n",
       "  <tbody>\n",
       "    <tr>\n",
       "      <th>10</th>\n",
       "      <td>0.013161</td>\n",
       "      <td>0.017691</td>\n",
       "      <td>0.015248</td>\n",
       "      <td>0.005568</td>\n",
       "      <td>0.00758</td>\n",
       "      <td>0.049912</td>\n",
       "      <td>0.018599</td>\n",
       "      <td>0.014128</td>\n",
       "      <td>0.117063</td>\n",
       "      <td>0.052679</td>\n",
       "      <td>...</td>\n",
       "      <td>0.992361</td>\n",
       "      <td>0.116169</td>\n",
       "      <td>0.992361</td>\n",
       "      <td>0.057007</td>\n",
       "      <td>9.526923</td>\n",
       "      <td>0.995026</td>\n",
       "      <td>0.132451</td>\n",
       "      <td>0.709659</td>\n",
       "      <td>3.484374</td>\n",
       "      <td>0.297021</td>\n",
       "    </tr>\n",
       "  </tbody>\n",
       "</table>\n",
       "<p>1 rows × 27 columns</p>\n",
       "</div>"
      ],
      "text/plain": [
       "       PRECISION PRECISION_RECALL_MIN_DEN    RECALL       MAP MAP_MIN_DEN  \\\n",
       "cutoff                                                                      \n",
       "10      0.013161                 0.017691  0.015248  0.005568     0.00758   \n",
       "\n",
       "             MRR      NDCG        F1  HIT_RATE ARHR_ALL_HITS  ...  \\\n",
       "cutoff                                                        ...   \n",
       "10      0.049912  0.018599  0.014128  0.117063      0.052679  ...   \n",
       "\n",
       "       COVERAGE_USER COVERAGE_USER_HIT USERS_IN_GT DIVERSITY_GINI  \\\n",
       "cutoff                                                              \n",
       "10          0.992361          0.116169    0.992361       0.057007   \n",
       "\n",
       "       SHANNON_ENTROPY RATIO_DIVERSITY_HERFINDAHL RATIO_DIVERSITY_GINI  \\\n",
       "cutoff                                                                   \n",
       "10            9.526923                   0.995026             0.132451   \n",
       "\n",
       "       RATIO_SHANNON_ENTROPY RATIO_AVERAGE_POPULARITY RATIO_NOVELTY  \n",
       "cutoff                                                               \n",
       "10                  0.709659                 3.484374      0.297021  \n",
       "\n",
       "[1 rows x 27 columns]"
      ]
     },
     "execution_count": 2,
     "metadata": {},
     "output_type": "execute_result"
    }
   ],
   "source": [
    "evaluator_test = EvaluatorHoldout(URMv_test, [10])\n",
    "ris, _ = evaluator_test.evaluateRecommender(recommender)\n",
    "ris"
   ]
  }
 ],
 "metadata": {
  "kernelspec": {
   "display_name": "base",
   "language": "python",
   "name": "python3"
  },
  "language_info": {
   "codemirror_mode": {
    "name": "ipython",
    "version": 3
   },
   "file_extension": ".py",
   "mimetype": "text/x-python",
   "name": "python",
   "nbconvert_exporter": "python",
   "pygments_lexer": "ipython3",
   "version": "3.9.13 | packaged by conda-forge | (main, May 27 2022, 17:00:33) \n[Clang 13.0.1 ]"
  },
  "orig_nbformat": 4,
  "vscode": {
   "interpreter": {
    "hash": "6e76083d1a5f4c0027e70cf105b7627b1b5e567462449feedfd1ad9407b42e24"
   }
  }
 },
 "nbformat": 4,
 "nbformat_minor": 2
}
