{
 "cells": [
  {
   "cell_type": "code",
   "execution_count": 1,
   "metadata": {},
   "outputs": [
    {
     "name": "stdout",
     "output_type": "stream",
     "text": [
      "/Users/daniele/Desktop/RecSys/RecSysChallenge2023-Team\n"
     ]
    },
    {
     "name": "stderr",
     "output_type": "stream",
     "text": [
      "100%|██████████| 27968/27968 [00:02<00:00, 13690.33it/s]\n",
      "100%|██████████| 1051828/1051828 [00:00<00:00, 1727868.20it/s]\n",
      "100%|██████████| 27968/27968 [00:03<00:00, 8840.20it/s] \n",
      "100%|██████████| 663370/663370 [00:00<00:00, 665659.17it/s]\n",
      "100%|██████████| 27968/27968 [00:01<00:00, 16687.93it/s]\n",
      "100%|██████████| 1051828/1051828 [00:00<00:00, 1808236.42it/s]\n",
      "100%|██████████| 27968/27968 [00:01<00:00, 20438.60it/s]\n",
      "100%|██████████| 663370/663370 [00:00<00:00, 1647911.78it/s]\n"
     ]
    },
    {
     "name": "stdout",
     "output_type": "stream",
     "text": [
      "RP3BetaKNNRecommender: URM Detected 3461 (12.4%) items with no interactions.\n",
      "RP3betaRecommender: URM Detected 3461 (12.4%) items with no interactions.\n",
      "SLIMElasticNetRecommender: URM Detected 3461 (12.4%) items with no interactions.\n",
      "SLIM_BPR_Recommender: URM Detected 2 ( 0.0%) users with no interactions.\n",
      "TopPopRecommender: URM Detected 3461 (12.4%) items with no interactions.\n",
      "ItemKNNCustomSimilarityRecommender: URM Detected 3461 (12.4%) items with no interactions.\n",
      "RP3betaRecommender: Similarity column 27968 (100.0%), 4231.29 column/sec. Elapsed time 6.61 sec\n"
     ]
    },
    {
     "name": "stderr",
     "output_type": "stream",
     "text": [
      "100%|██████████| 27968/27968 [25:56<00:00, 17.96it/s]\n",
      "/bin/sh: free: command not found\n"
     ]
    },
    {
     "name": "stdout",
     "output_type": "stream",
     "text": [
      "Unable to read memory status: list index out of range\n",
      "SLIM_BPR_Recommender: Automatic selection of fastest train mode. Unable to get current RAM status, you may be using a non-Linux operating system. Using dense matrix.\n",
      "Processed 74392 (100.0%) in 1.12 sec. BPR loss is 1.93E+00. Sample per second: 66611\n",
      "SLIM_BPR_Recommender: Epoch 1 of 15. Elapsed time 0.72 sec\n",
      "Processed 74392 (100.0%) in 0.40 sec. BPR loss is 7.15E+00. Sample per second: 185999\n",
      "SLIM_BPR_Recommender: Epoch 2 of 15. Elapsed time 1.00 sec\n",
      "Processed 74392 (100.0%) in 0.66 sec. BPR loss is 1.15E+01. Sample per second: 112596\n",
      "SLIM_BPR_Recommender: Epoch 3 of 15. Elapsed time 1.26 sec\n",
      "Processed 74392 (100.0%) in 0.94 sec. BPR loss is 1.58E+01. Sample per second: 79331\n",
      "SLIM_BPR_Recommender: Epoch 4 of 15. Elapsed time 1.54 sec\n",
      "Processed 74392 (100.0%) in 1.22 sec. BPR loss is 1.88E+01. Sample per second: 61087\n",
      "SLIM_BPR_Recommender: Epoch 5 of 15. Elapsed time 1.82 sec\n",
      "Processed 74392 (100.0%) in 0.45 sec. BPR loss is 2.27E+01. Sample per second: 163952\n",
      "SLIM_BPR_Recommender: Epoch 6 of 15. Elapsed time 2.06 sec\n",
      "Processed 74392 (100.0%) in 0.68 sec. BPR loss is 2.60E+01. Sample per second: 109307\n",
      "SLIM_BPR_Recommender: Epoch 7 of 15. Elapsed time 2.28 sec\n",
      "Processed 74392 (100.0%) in 1.00 sec. BPR loss is 3.04E+01. Sample per second: 74251\n",
      "SLIM_BPR_Recommender: Epoch 8 of 15. Elapsed time 2.60 sec\n",
      "Processed 74392 (100.0%) in 0.33 sec. BPR loss is 3.37E+01. Sample per second: 226308\n",
      "SLIM_BPR_Recommender: Epoch 9 of 15. Elapsed time 2.93 sec\n",
      "Processed 74392 (100.0%) in 0.64 sec. BPR loss is 3.88E+01. Sample per second: 115630\n",
      "SLIM_BPR_Recommender: Epoch 10 of 15. Elapsed time 3.24 sec\n",
      "Processed 74392 (100.0%) in 0.85 sec. BPR loss is 3.96E+01. Sample per second: 87325\n",
      "SLIM_BPR_Recommender: Epoch 11 of 15. Elapsed time 3.45 sec\n",
      "Processed 74392 (100.0%) in 1.06 sec. BPR loss is 4.42E+01. Sample per second: 70245\n",
      "SLIM_BPR_Recommender: Epoch 12 of 15. Elapsed time 3.66 sec\n",
      "Processed 74392 (100.0%) in 0.26 sec. BPR loss is 4.66E+01. Sample per second: 285536\n",
      "SLIM_BPR_Recommender: Epoch 13 of 15. Elapsed time 3.86 sec\n",
      "Processed 74392 (100.0%) in 0.50 sec. BPR loss is 5.06E+01. Sample per second: 150216\n",
      "SLIM_BPR_Recommender: Epoch 14 of 15. Elapsed time 4.10 sec\n",
      "Processed 74392 (100.0%) in 0.84 sec. BPR loss is 5.46E+01. Sample per second: 88837\n",
      "SLIM_BPR_Recommender: Epoch 15 of 15. Elapsed time 4.44 sec\n",
      "SLIM_BPR_Recommender: Terminating at epoch 15. Elapsed time 11.75 sec\n",
      "Deallocating Cython objects\n"
     ]
    },
    {
     "name": "stderr",
     "output_type": "stream",
     "text": [
      "100%|██████████| 41116/41116 [01:06<00:00, 617.73it/s] \n"
     ]
    }
   ],
   "source": [
    "import os \n",
    "import sys\n",
    "while os.path.split(os.getcwd())[1] != 'RecSysChallenge2023-Team':\n",
    "    os.chdir('..')\n",
    "sys.path.insert(1, os.getcwd())\n",
    "\n",
    "################################# IMPORT RECOMMENDERS #################################\n",
    "from Daniele.Recommenders.Hybrid_KNN_RP3Beta_SSLIM_Elastic.hybrid import SSLIMRP3BetaKNNRecommender\n",
    "\n",
    "################################## IMPORT LIBRARIES ##################################\n",
    "import scipy.sparse as sps\n",
    "from tqdm import tqdm\n",
    "import pandas as pd\n",
    "import numpy as np\n",
    "import math\n",
    "\n",
    "import Daniele.Utils.MatrixManipulation as mm\n",
    "import Daniele.Utils.MyDataManager as dm\n",
    "\n",
    "\n",
    "URMv = dm.getURMviews()\n",
    "URMo = dm.getURMopen()\n",
    "ICMt = dm.getICMt()\n",
    "ICMl = dm.getICMl()\n",
    "URM_all = mm.defaultExplicitURM(urmv=URMv,urmo=URMo, normalize=False, add_aug=True)\n",
    "URM_all.data = np.ones(len(URM_all.data))\n",
    "\n",
    "recommender = SSLIMRP3BetaKNNRecommender(urm_train_bin=URM_all,urm_train_exp=mm.defaultExplicitURM(urmv=URMv,urmo=URMo,icml=ICMl,icmt=ICMt, normalize=True, add_aug=True,appendICM=True))\n",
    "recommender.fit()\n",
    "\n",
    "\n",
    "f = open(\"submission.csv\", \"w+\")\n",
    "f.write(\"user_id,item_list\\n\")\n",
    "for t in tqdm(dm.getUserIDtest_df().user_id):\n",
    "    recommended_items = recommender.recommend(t, cutoff=10, remove_seen_flag=True)\n",
    "    well_formatted = \" \".join([str(x) for x in recommended_items])\n",
    "    f.write(f\"{t}, {well_formatted}\\n\")"
   ]
  }
 ],
 "metadata": {
  "kernelspec": {
   "display_name": "base",
   "language": "python",
   "name": "python3"
  },
  "language_info": {
   "codemirror_mode": {
    "name": "ipython",
    "version": 3
   },
   "file_extension": ".py",
   "mimetype": "text/x-python",
   "name": "python",
   "nbconvert_exporter": "python",
   "pygments_lexer": "ipython3",
   "version": "3.9.13 | packaged by conda-forge | (main, May 27 2022, 17:00:33) \n[Clang 13.0.1 ]"
  },
  "orig_nbformat": 4,
  "vscode": {
   "interpreter": {
    "hash": "6e76083d1a5f4c0027e70cf105b7627b1b5e567462449feedfd1ad9407b42e24"
   }
  }
 },
 "nbformat": 4,
 "nbformat_minor": 2
}
