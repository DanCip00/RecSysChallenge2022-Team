{
 "cells": [
  {
   "cell_type": "code",
   "execution_count": 1,
   "metadata": {},
   "outputs": [],
   "source": [
    "import os \n",
    "import sys\n",
    "while os.path.split(os.getcwd())[1] != 'RecSysChallenge2023-Team':\n",
    "    os.chdir('..')\n",
    "sys.path.insert(1, os.getcwd())\n",
    "\n",
    "import numpy as np "
   ]
  },
  {
   "cell_type": "code",
   "execution_count": 2,
   "metadata": {},
   "outputs": [],
   "source": [
    "path_save= \"Daniele/Recommenders/Hybrid_KNN_RP3Beta_SSLIM_Elastic/saved_models\"\n",
    "if not os.path.exists(path_save):\n",
    "    os.makedirs(path_save)"
   ]
  },
  {
   "cell_type": "markdown",
   "metadata": {},
   "source": []
  },
  {
   "cell_type": "code",
   "execution_count": 3,
   "metadata": {},
   "outputs": [
    {
     "name": "stdout",
     "output_type": "stream",
     "text": [
      "/Users/daniele/Desktop/RecSys/RecSysChallenge2023-Team\n"
     ]
    }
   ],
   "source": [
    "from Data_manager.split_functions.split_train_validation_random_holdout import split_train_in_two_percentage_global_sample\n",
    "from Evaluation.Evaluator import EvaluatorHoldout\n",
    "\n",
    "import Daniele.Utils.MyDataManager as dm \n",
    "import Daniele.Utils.MatrixManipulation as mm\n",
    "import Daniele.Utils.SaveSparceMatrix as ssm\n",
    "\n",
    "URMv = dm.getURMviews()\n",
    "URMo = dm.getURMopen()\n",
    "ICMt=dm.getICMt()\n",
    "ICMl=dm.getICMl()\n",
    "\n",
    "name=\"train.csv\"\n",
    "dir = os.path.join(path_save,name)\n",
    "if not os.path.exists(dir):\n",
    "    URMv_train, URMv_test = split_train_in_two_percentage_global_sample(URMv, train_percentage = 0.80)\n",
    "\n",
    "    ssm.saveMatrix(dir,URMv_train)\n",
    "\n",
    "    name=\"test.csv\"\n",
    "    dir = os.path.join(path_save,name)\n",
    "    ssm.saveMatrix(dir,URMv_test)\n",
    "\n",
    "    urm_def = mm.defaultExplicitURM(urmv=URMv_train,urmo=URMo,icml=ICMl,icmt=ICMt, normalize=True, add_aug=True,appendICM=True)\n",
    "    name=\"urm_def.csv\"\n",
    "    dir = os.path.join(path_save,name)\n",
    "    ssm.saveMatrix(dir,urm_def)\n",
    "\n",
    "    urm_bin = mm.defaultExplicitURM(urmv=URMv_train,urmo=URMo, normalize=False, add_aug=True)\n",
    "    urm_bin.data = np.ones(len(urm_bin.data))\n",
    "    name=\"urm_bin.csv\"\n",
    "    dir = os.path.join(path_save,name)\n",
    "    ssm.saveMatrix(dir,urm_bin)\n",
    "\n",
    "else:\n",
    "    URMv_train=ssm.readMatrix(dir)\n",
    "\n",
    "    name=\"test.csv\"\n",
    "    dir = os.path.join(path_save,name)\n",
    "    URMv_test=ssm.readMatrix(dir)\n",
    "\n",
    "    name=\"urm_def.csv\"\n",
    "    dir = os.path.join(path_save,name)\n",
    "    urm_def = ssm.readMatrix(dir)\n",
    "\n",
    "    name=\"urm_bin.csv\"\n",
    "    dir = os.path.join(path_save,name)\n",
    "    urm_bin = ssm.readMatrix(dir)\n",
    "\n"
   ]
  },
  {
   "attachments": {},
   "cell_type": "markdown",
   "metadata": {},
   "source": [
    "### SSLIIM BPR"
   ]
  },
  {
   "cell_type": "code",
   "execution_count": 4,
   "metadata": {},
   "outputs": [
    {
     "name": "stdout",
     "output_type": "stream",
     "text": [
      "SLIM_BPR_Recommender: URM Detected 2 ( 0.0%) users with no interactions.\n",
      "SLIM_BPR_Recommender: Loading model from file 'Daniele/Recommenders/Hybrid_KNN_RP3Beta_SSLIM_Elastic/saved_modelssslim01'\n",
      "SLIM_BPR_Recommender: Loading complete\n"
     ]
    }
   ],
   "source": [
    "from Recommenders.SLIM.Cython.SLIM_BPR_Cython import SLIM_BPR_Cython\n",
    "name=\"sslim01\"\n",
    "dir = os.path.join(path_save,name)\n",
    "\n",
    "sslim_recommender = SLIM_BPR_Cython(URM_train=urm_def)\n",
    "if not os.path.exists(dir+\".zip\"):\n",
    "    #{'topK': 51, 'epochs': 15, 'symmetric': True, 'sgd_mode': 'adam', 'lambda_i': 1e-05, 'lambda_j': 0.003215687724797301, 'learning_rate': 0.007114410195895492} -> MAP 0.0078853\n",
    "    sslim_recommender.fit(topK= 51, epochs=15,symmetric=True, sgd_mode = 'adam', lambda_i = 1e-05, lambda_j=0.003215687724797301, learning_rate = 0.007114410195895492)\n",
    "    sslim_recommender.save_model(path_save,name)\n",
    "else:\n",
    "    sslim_recommender.load_model(path_save,name)\n",
    "\n",
    "   "
   ]
  },
  {
   "attachments": {},
   "cell_type": "markdown",
   "metadata": {},
   "source": [
    "### SLIIM-Elastic"
   ]
  },
  {
   "cell_type": "code",
   "execution_count": 5,
   "metadata": {},
   "outputs": [
    {
     "name": "stdout",
     "output_type": "stream",
     "text": [
      "SLIMElasticNetRecommender: URM Detected 3461 (12.4%) items with no interactions.\n"
     ]
    },
    {
     "name": "stderr",
     "output_type": "stream",
     "text": [
      " 94%|█████████▍| 26248/27968 [23:56<10:11,  2.81it/s]"
     ]
    }
   ],
   "source": [
    "from Recommenders.SLIM.SLIMElasticNetRecommender import MultiThreadSLIM_SLIMElasticNetRecommender\n",
    "name=\"slim_Elastic\"\n",
    "dir = os.path.join(path_save,name)\n",
    "\n",
    "slim_elastic_recommender = MultiThreadSLIM_SLIMElasticNetRecommender(URM_train=urm_bin)\n",
    "if not os.path.exists(dir+\".zip\"):\n",
    "    \n",
    "    slim_elastic_recommender.fit(alpha=0.003271, l1_ratio=0.006095, topK=884)\n",
    "    slim_elastic_recommender.save_model(path_save,name)\n",
    "else:\n",
    "    slim_elastic_recommender.load_model(path_save,name)"
   ]
  },
  {
   "attachments": {},
   "cell_type": "markdown",
   "metadata": {},
   "source": [
    "### KNN_CFCBF "
   ]
  },
  {
   "cell_type": "code",
   "execution_count": null,
   "metadata": {},
   "outputs": [
    {
     "name": "stdout",
     "output_type": "stream",
     "text": [
      "KNN_CFCBF_custom: URM Detected 3461 (12.4%) items with no interactions.\n",
      "KNN_CFCBF_custom: Loading model from file 'Daniele/Recommenders/Hybrid_KNN_RP3Beta_SSLIM/saved_modelsknn_cfcbf'\n",
      "KNN_CFCBF_custom: Loading complete\n"
     ]
    }
   ],
   "source": [
    "from Daniele.Recommenders.KNN_CFCBF.ItemKNN_CFCBF_Hybrid_Recommender import KNN_CFCBF_custom\n",
    "name=\"knn_cfcbf\"\n",
    "dir = os.path.join(path_save,name)\n",
    "\n",
    "KNN_recommender = KNN_CFCBF_custom(URMv_train,URMo,ICM_train=mm.augmentedICM(ICMt,ICMl))\n",
    "if not os.path.exists(dir+\".zip\"):\n",
    "    KNN_recommender.fit(topK= 744, shrink= 457, similarity= 'cosine', normalize= True, feature_weighting='TF-IDF')\n",
    "    KNN_recommender.save_model(path_save,name)\n",
    "else:\n",
    "    KNN_recommender.load_model(path_save,name)"
   ]
  },
  {
   "attachments": {},
   "cell_type": "markdown",
   "metadata": {},
   "source": [
    "### RP3Beta \n"
   ]
  },
  {
   "cell_type": "code",
   "execution_count": null,
   "metadata": {},
   "outputs": [
    {
     "name": "stdout",
     "output_type": "stream",
     "text": [
      "RP3betaRecommender: URM Detected 3461 (12.4%) items with no interactions.\n",
      "RP3betaRecommender: Loading model from file 'Daniele/Recommenders/Hybrid_KNN_RP3Beta_SSLIM/saved_modelsrp3beta'\n",
      "RP3betaRecommender: Loading complete\n"
     ]
    }
   ],
   "source": [
    "from Recommenders.GraphBased.RP3betaRecommender import RP3betaRecommender\n",
    "name=\"rp3beta\"\n",
    "dir = os.path.join(path_save,name)\n",
    "\n",
    "\n",
    "rp3beta_recommender = RP3betaRecommender(urm_bin)\n",
    "if not os.path.exists(dir+\".zip\"):\n",
    "    # {'topK': 69, 'alpha': 0.6854042891733674, 'beta': 0.2763471245555947, 'normalize_similarity': True} -> MAP 0.0282084\n",
    "    rp3beta_recommender.fit( topK=69, alpha=0.6854042891733674, beta=0.2763471245555947, normalize_similarity=True )\n",
    "    rp3beta_recommender.save_model(path_save,name)\n",
    "else:\n",
    "    rp3beta_recommender.load_model(path_save,name)"
   ]
  },
  {
   "attachments": {},
   "cell_type": "markdown",
   "metadata": {},
   "source": [
    "### RP3Beta - KNN_CFCBF"
   ]
  },
  {
   "cell_type": "code",
   "execution_count": null,
   "metadata": {},
   "outputs": [
    {
     "name": "stdout",
     "output_type": "stream",
     "text": [
      "ItemKNNCustomSimilarityRecommender: URM Detected 2 ( 0.0%) users with no interactions.\n",
      "ItemKNNCustomSimilarityRecommender: Loading model from file 'Daniele/Recommenders/Hybrid_KNN_RP3Beta_SSLIM/saved_modelsrp3beta-knn'\n",
      "ItemKNNCustomSimilarityRecommender: Loading complete\n"
     ]
    }
   ],
   "source": [
    "from Recommenders.KNN.ItemKNNCustomSimilarityRecommender import ItemKNNCustomSimilarityRecommender\n",
    "alpha_knn_rp3 = 0.7\n",
    "name=\"rp3beta-knn\"\n",
    "dir = os.path.join(path_save,name)\n",
    "\n",
    "\n",
    "knn_rp3_recommender = ItemKNNCustomSimilarityRecommender(urm_def)\n",
    "if not os.path.exists(dir+\".zip\"):\n",
    "    knn_rp3_recommender.fit((1 - alpha_knn_rp3) * KNN_recommender.W_sparse + alpha_knn_rp3* rp3beta_recommender.W_sparse)\n",
    "    knn_rp3_recommender.save_model(path_save,name)\n",
    "else:\n",
    "    knn_rp3_recommender.load_model(path_save,name)"
   ]
  },
  {
   "attachments": {},
   "cell_type": "markdown",
   "metadata": {},
   "source": [
    "### TopPop"
   ]
  },
  {
   "cell_type": "code",
   "execution_count": null,
   "metadata": {},
   "outputs": [
    {
     "name": "stdout",
     "output_type": "stream",
     "text": [
      "TopPopRecommender: URM Detected 3461 (12.4%) items with no interactions.\n",
      "TopPopRecommender: Loading model from file 'Daniele/Recommenders/Hybrid_KNN_RP3Beta_SSLIM/saved_modelsTopPop'\n",
      "TopPopRecommender: Loading complete\n"
     ]
    }
   ],
   "source": [
    "from Recommenders.NonPersonalizedRecommender import TopPop\n",
    "name=\"TopPop\"\n",
    "dir = os.path.join(path_save,name)\n",
    "\n",
    "most_viewed = TopPop(urm_bin)\n",
    "if not os.path.exists(dir+\".zip\"):\n",
    "    most_viewed.fit()\n",
    "    most_viewed.save_model(path_save,name)\n",
    "else:\n",
    "    most_viewed.load_model(path_save,name)"
   ]
  },
  {
   "attachments": {},
   "cell_type": "markdown",
   "metadata": {},
   "source": [
    "### REFERENCE RP3Beta 0.052"
   ]
  },
  {
   "cell_type": "code",
   "execution_count": null,
   "metadata": {},
   "outputs": [
    {
     "name": "stdout",
     "output_type": "stream",
     "text": [
      "RP3betaRecommender: URM Detected 3461 (12.4%) items with no interactions.\n",
      "RP3betaRecommender: Similarity column 27968 (100.0%), 4253.21 column/sec. Elapsed time 6.58 sec\n"
     ]
    }
   ],
   "source": [
    "best_reference = RP3betaRecommender(urm_bin)\n",
    "#{'topK': 106, 'alpha': 0.6155817289031643, 'beta': 0.33427474623540737, 'normalize_similarity': True} -> MAP 0.0276355\n",
    "best_reference.fit(topK= 106, alpha= 0.6155817289031643, beta= 0.33427474623540737, normalize_similarity= True)\n"
   ]
  },
  {
   "attachments": {},
   "cell_type": "markdown",
   "metadata": {},
   "source": [
    "### Hybrid"
   ]
  },
  {
   "cell_type": "code",
   "execution_count": null,
   "metadata": {},
   "outputs": [
    {
     "name": "stderr",
     "output_type": "stream",
     "text": [
      "100%|██████████| 27968/27968 [00:01<00:00, 16437.31it/s]\n",
      "100%|██████████| 841462/841462 [00:00<00:00, 1761656.00it/s]\n",
      "100%|██████████| 27968/27968 [00:01<00:00, 20722.64it/s]\n",
      "100%|██████████| 663370/663370 [00:00<00:00, 1778686.04it/s]\n",
      "100%|██████████| 27968/27968 [00:01<00:00, 16572.59it/s]\n",
      "100%|██████████| 841462/841462 [00:00<00:00, 1754541.24it/s]\n",
      "100%|██████████| 27968/27968 [00:01<00:00, 20574.47it/s]\n",
      "100%|██████████| 663370/663370 [00:00<00:00, 1767930.09it/s]\n"
     ]
    },
    {
     "ename": "KeyboardInterrupt",
     "evalue": "",
     "output_type": "error",
     "traceback": [
      "\u001b[0;31m---------------------------------------------------------------------------\u001b[0m",
      "\u001b[0;31mKeyboardInterrupt\u001b[0m                         Traceback (most recent call last)",
      "\u001b[1;32m/Users/daniele/Desktop/RecSys/RecSysChallenge2023-Team/Daniele/Recommenders/Hybrid_KNN_RP3Beta_SSLIM/analysis.ipynb Cell 18\u001b[0m in \u001b[0;36m<cell line: 3>\u001b[0;34m()\u001b[0m\n\u001b[1;32m      <a href='vscode-notebook-cell:/Users/daniele/Desktop/RecSys/RecSysChallenge2023-Team/Daniele/Recommenders/Hybrid_KNN_RP3Beta_SSLIM/analysis.ipynb#X23sZmlsZQ%3D%3D?line=0'>1</a>\u001b[0m \u001b[39mfrom\u001b[39;00m \u001b[39mDaniele\u001b[39;00m\u001b[39m.\u001b[39;00m\u001b[39mRecommenders\u001b[39;00m\u001b[39m.\u001b[39;00m\u001b[39mHybrid_KNN_RP3Beta_SSLIM\u001b[39;00m\u001b[39m.\u001b[39;00m\u001b[39mhybrid\u001b[39;00m \u001b[39mimport\u001b[39;00m SSLIMRP3BetaKNNRecommender\n\u001b[0;32m----> <a href='vscode-notebook-cell:/Users/daniele/Desktop/RecSys/RecSysChallenge2023-Team/Daniele/Recommenders/Hybrid_KNN_RP3Beta_SSLIM/analysis.ipynb#X23sZmlsZQ%3D%3D?line=2'>3</a>\u001b[0m hybrid \u001b[39m=\u001b[39m SSLIMRP3BetaKNNRecommender(URMv_train,URMo,ICMt,ICMl)\n\u001b[1;32m      <a href='vscode-notebook-cell:/Users/daniele/Desktop/RecSys/RecSysChallenge2023-Team/Daniele/Recommenders/Hybrid_KNN_RP3Beta_SSLIM/analysis.ipynb#X23sZmlsZQ%3D%3D?line=3'>4</a>\u001b[0m hybrid\u001b[39m.\u001b[39mrp3beta_recommender \u001b[39m=\u001b[39m rp3beta_recommender\n\u001b[1;32m      <a href='vscode-notebook-cell:/Users/daniele/Desktop/RecSys/RecSysChallenge2023-Team/Daniele/Recommenders/Hybrid_KNN_RP3Beta_SSLIM/analysis.ipynb#X23sZmlsZQ%3D%3D?line=4'>5</a>\u001b[0m hybrid\u001b[39m.\u001b[39mKNN_recommender \u001b[39m=\u001b[39m KNN_recommender\n",
      "File \u001b[0;32m~/Desktop/RecSys/RecSysChallenge2023-Team/Daniele/Recommenders/Hybrid_KNN_RP3Beta_SSLIM/hybrid.py:38\u001b[0m, in \u001b[0;36mSSLIMRP3BetaKNNRecommender.__init__\u001b[0;34m(self, urmv, urmo, icmt, icml)\u001b[0m\n\u001b[1;32m     35\u001b[0m \u001b[39mself\u001b[39m\u001b[39m.\u001b[39murmo \u001b[39m=\u001b[39m mm\u001b[39m.\u001b[39mexplicitURM(urmo, slope\u001b[39m=\u001b[39m\u001b[39m0.01\u001b[39m, n_remove \u001b[39m=\u001b[39m \u001b[39m10000\u001b[39m, shrink_bias \u001b[39m=\u001b[39m \u001b[39m25\u001b[39m,bias\u001b[39m=\u001b[39m\u001b[39m'\u001b[39m\u001b[39muser\u001b[39m\u001b[39m'\u001b[39m, new_val \u001b[39m=\u001b[39m \u001b[39m30\u001b[39m)\n\u001b[1;32m     36\u001b[0m \u001b[39mself\u001b[39m\u001b[39m.\u001b[39mICM_type \u001b[39m=\u001b[39m mm\u001b[39m.\u001b[39maugmentedICM(icmt,icml)\n\u001b[0;32m---> 38\u001b[0m urm \u001b[39m=\u001b[39m mm\u001b[39m.\u001b[39;49mdefaultExplicitURM(urmv\u001b[39m=\u001b[39;49murmv,urmo\u001b[39m=\u001b[39;49murmo, normalize\u001b[39m=\u001b[39;49m\u001b[39mFalse\u001b[39;49;00m, add_aug\u001b[39m=\u001b[39;49m\u001b[39mTrue\u001b[39;49;00m)\n\u001b[1;32m     39\u001b[0m urm\u001b[39m.\u001b[39mdata \u001b[39m=\u001b[39m np\u001b[39m.\u001b[39mones(\u001b[39mlen\u001b[39m(urm\u001b[39m.\u001b[39mdata))\n\u001b[1;32m     40\u001b[0m \u001b[39mself\u001b[39m\u001b[39m.\u001b[39murm_bin \u001b[39m=\u001b[39m urm\n",
      "File \u001b[0;32m~/Desktop/RecSys/RecSysChallenge2023-Team/Daniele/Utils/MatrixManipulation.py:147\u001b[0m, in \u001b[0;36mdefaultExplicitURM\u001b[0;34m(urmv, urmo, icmt, icml, beta, add_aug, appendICM, normalize)\u001b[0m\n\u001b[1;32m    144\u001b[0m \u001b[39m##################################\u001b[39;00m\n\u001b[1;32m    146\u001b[0m \u001b[39mif\u001b[39;00m add_aug:\n\u001b[0;32m--> 147\u001b[0m     urma \u001b[39m=\u001b[39m augmentURM(urm,min_profile_length\u001b[39m=\u001b[39;49m\u001b[39m20\u001b[39;49m,max_profile_length\u001b[39m=\u001b[39;49m\u001b[39m100\u001b[39;49m, keep_interactions\u001b[39m=\u001b[39;49m\u001b[39m0.66\u001b[39;49m)\n\u001b[1;32m    148\u001b[0m     urm \u001b[39m=\u001b[39m sps\u001b[39m.\u001b[39mvstack([urm,urma]) \n\u001b[1;32m    150\u001b[0m \u001b[39mif\u001b[39;00m appendICM:\n",
      "File \u001b[0;32m~/Desktop/RecSys/RecSysChallenge2023-Team/Daniele/Utils/MatrixManipulation.py:76\u001b[0m, in \u001b[0;36maugmentURM\u001b[0;34m(urm, min_profile_length, max_profile_length, keep_interactions)\u001b[0m\n\u001b[1;32m     74\u001b[0m     row \u001b[39m=\u001b[39m urma\u001b[39m.\u001b[39mgetrow(i)\n\u001b[1;32m     75\u001b[0m     \u001b[39mif\u001b[39;00m row\u001b[39m.\u001b[39mnnz \u001b[39m<\u001b[39m min_profile_length \u001b[39mor\u001b[39;00m row\u001b[39m.\u001b[39mnnz \u001b[39m>\u001b[39m max_profile_length:\n\u001b[0;32m---> 76\u001b[0m         _delete_row_lil(urma,i)\n\u001b[1;32m     78\u001b[0m urma \u001b[39m=\u001b[39m urma\u001b[39m.\u001b[39mtocoo()\n\u001b[1;32m     79\u001b[0m n_interactions \u001b[39m=\u001b[39m  urma\u001b[39m.\u001b[39mnnz\n",
      "File \u001b[0;32m~/Desktop/RecSys/RecSysChallenge2023-Team/Daniele/Utils/MatrixManipulation.py:31\u001b[0m, in \u001b[0;36m_delete_row_lil\u001b[0;34m(mat, i)\u001b[0m\n\u001b[1;32m     29\u001b[0m \u001b[39mif\u001b[39;00m \u001b[39mnot\u001b[39;00m \u001b[39misinstance\u001b[39m(mat, sps\u001b[39m.\u001b[39mlil_matrix):\n\u001b[1;32m     30\u001b[0m     \u001b[39mraise\u001b[39;00m \u001b[39mValueError\u001b[39;00m(\u001b[39m\"\u001b[39m\u001b[39mworks only for LIL format -- use .tolil() first\u001b[39m\u001b[39m\"\u001b[39m)\n\u001b[0;32m---> 31\u001b[0m mat\u001b[39m.\u001b[39mrows \u001b[39m=\u001b[39m np\u001b[39m.\u001b[39;49mdelete(mat\u001b[39m.\u001b[39;49mrows, i)\n\u001b[1;32m     32\u001b[0m mat\u001b[39m.\u001b[39mdata \u001b[39m=\u001b[39m np\u001b[39m.\u001b[39mdelete(mat\u001b[39m.\u001b[39mdata, i)\n\u001b[1;32m     33\u001b[0m mat\u001b[39m.\u001b[39m_shape \u001b[39m=\u001b[39m (mat\u001b[39m.\u001b[39m_shape[\u001b[39m0\u001b[39m] \u001b[39m-\u001b[39m \u001b[39m1\u001b[39m, mat\u001b[39m.\u001b[39m_shape[\u001b[39m1\u001b[39m])\n",
      "File \u001b[0;32m<__array_function__ internals>:180\u001b[0m, in \u001b[0;36mdelete\u001b[0;34m(*args, **kwargs)\u001b[0m\n",
      "File \u001b[0;32m~/opt/anaconda3/lib/python3.9/site-packages/numpy/lib/function_base.py:5162\u001b[0m, in \u001b[0;36mdelete\u001b[0;34m(arr, obj, axis)\u001b[0m\n\u001b[1;32m   5160\u001b[0m     obj \u001b[39m+\u001b[39m\u001b[39m=\u001b[39m N\n\u001b[1;32m   5161\u001b[0m newshape[axis] \u001b[39m-\u001b[39m\u001b[39m=\u001b[39m \u001b[39m1\u001b[39m\n\u001b[0;32m-> 5162\u001b[0m new \u001b[39m=\u001b[39m empty(newshape, arr\u001b[39m.\u001b[39;49mdtype, arrorder)\n\u001b[1;32m   5163\u001b[0m slobj[axis] \u001b[39m=\u001b[39m \u001b[39mslice\u001b[39m(\u001b[39mNone\u001b[39;00m, obj)\n\u001b[1;32m   5164\u001b[0m new[\u001b[39mtuple\u001b[39m(slobj)] \u001b[39m=\u001b[39m arr[\u001b[39mtuple\u001b[39m(slobj)]\n",
      "\u001b[0;31mKeyboardInterrupt\u001b[0m: "
     ]
    }
   ],
   "source": [
    "from Daniele.Recommenders.Hybrid_KNN_RP3Beta_SSLIM_Elastic.hybrid import SSLIMRP3BetaKNNRecommender\n",
    "\n",
    "hybrid = SSLIMRP3BetaKNNRecommender(URMv_train,URMo,ICMt,ICMl)\n",
    "hybrid.rp3beta_recommender = rp3beta_recommender\n",
    "hybrid.sslim_BPR_recommender = sslim_recommender\n",
    "hybrid.slim_recommender = slim_elastic_recommender\n",
    "hybrid.most_viewed = most_viewed\n"
   ]
  },
  {
   "attachments": {},
   "cell_type": "markdown",
   "metadata": {},
   "source": [
    "### Users group"
   ]
  },
  {
   "cell_type": "code",
   "execution_count": null,
   "metadata": {},
   "outputs": [
    {
     "name": "stdout",
     "output_type": "stream",
     "text": [
      "Group 0, #users in group 2081, average p.len 5.10, median 5.0, min 0, max 6\n",
      "Group 1, #users in group 2081, average p.len 7.28, median 7.0, min 6, max 8\n",
      "Group 2, #users in group 2081, average p.len 8.35, median 8.0, min 8, max 9\n",
      "Group 3, #users in group 2081, average p.len 9.31, median 9.0, min 9, max 10\n",
      "Group 4, #users in group 2081, average p.len 10.13, median 10.0, min 10, max 11\n",
      "Group 5, #users in group 2081, average p.len 11.00, median 11.0, min 11, max 11\n",
      "Group 6, #users in group 2081, average p.len 11.98, median 12.0, min 11, max 12\n",
      "Group 7, #users in group 2081, average p.len 12.86, median 13.0, min 12, max 13\n",
      "Group 8, #users in group 2081, average p.len 13.77, median 14.0, min 13, max 14\n",
      "Group 9, #users in group 2081, average p.len 14.75, median 15.0, min 14, max 15\n",
      "Group 10, #users in group 2081, average p.len 15.86, median 16.0, min 15, max 17\n",
      "Group 11, #users in group 2081, average p.len 17.26, median 17.0, min 17, max 18\n",
      "Group 12, #users in group 2081, average p.len 18.59, median 19.0, min 18, max 19\n",
      "Group 13, #users in group 2081, average p.len 20.46, median 20.0, min 19, max 21\n",
      "Group 14, #users in group 2081, average p.len 22.80, median 23.0, min 21, max 24\n",
      "Group 15, #users in group 2081, average p.len 25.61, median 26.0, min 24, max 27\n",
      "Group 16, #users in group 2081, average p.len 29.23, median 29.0, min 27, max 32\n",
      "Group 17, #users in group 2081, average p.len 34.66, median 35.0, min 32, max 38\n",
      "Group 18, #users in group 2081, average p.len 43.52, median 43.0, min 38, max 50\n",
      "Group 19, #users in group 2081, average p.len 70.72, median 63.0, min 50, max 220\n"
     ]
    }
   ],
   "source": [
    "import numpy as np \n",
    "import scipy.sparse as sps\n",
    "\n",
    "profile_length = np.ediff1d(sps.csr_matrix(URMv_train).indptr)\n",
    "profile_length, profile_length.shape\n",
    "\n",
    "block_size = int(len(profile_length)*0.05)\n",
    "sorted_users = np.argsort(profile_length)\n",
    "\n",
    "for group_id in range(0, 20):\n",
    "    start_pos = group_id * block_size\n",
    "    end_pos = min((group_id+1) * block_size, len(profile_length))\n",
    "    \n",
    "    users_in_group = sorted_users[start_pos:end_pos]\n",
    "    \n",
    "    users_in_group_p_len = profile_length[users_in_group]\n",
    "    \n",
    "    print(\"Group {}, #users in group {}, average p.len {:.2f}, median {}, min {}, max {}\".format(\n",
    "        group_id, \n",
    "        users_in_group.shape[0],\n",
    "        users_in_group_p_len.mean(),\n",
    "        np.median(users_in_group_p_len),\n",
    "        users_in_group_p_len.min(),\n",
    "        users_in_group_p_len.max()))"
   ]
  },
  {
   "cell_type": "code",
   "execution_count": null,
   "metadata": {},
   "outputs": [],
   "source": [
    "MAP_recommender_per_group = {}\n",
    "recommender_object_dict = {}\n",
    "\n",
    "recommender_class = {#\"rp3beta_recommender\" : rp3beta_recommender,\n",
    "                     #\"KNN_recommender\" : KNN_recommender,\n",
    "                     \"sslim_recommender\" : sslim_recommender,\n",
    "                     \"slim_elastic_recommender\" : slim_elastic_recommender,\n",
    "                     #\"knn_rp3_recommender\" : knn_rp3_recommender,\n",
    "                     \"best_reference\" :best_reference,\n",
    "                     \"hybrid\" : hybrid,\n",
    "                     }\n",
    "\n",
    "\n",
    "for label, recommender_obj in recommender_class.items():\n",
    "    recommender_object_dict[label] = recommender_obj"
   ]
  },
  {
   "cell_type": "code",
   "execution_count": null,
   "metadata": {},
   "outputs": [
    {
     "name": "stdout",
     "output_type": "stream",
     "text": [
      "Group 0, #users in group 2081, average p.len 5.10, median 5.0, min 0, max 6\n",
      "EvaluatorHoldout: Ignoring 1502 ( 3.6%) Users that have less than 1 test interactions\n",
      "EvaluatorHoldout: Ignoring 39548 Users\n",
      "Deallocating Cython objects\n",
      "EvaluatorHoldout: Processed 1914 (100.0%) in 1.17 sec. Users per second: 1640\n",
      "EvaluatorHoldout: Processed 1914 (100.0%) in 1.19 sec. Users per second: 1607\n",
      "toppop\n",
      "EvaluatorHoldout: Processed 1914 (100.0%) in 1.41 sec. Users per second: 1353\n",
      "Group 1, #users in group 2081, average p.len 7.28, median 7.0, min 6, max 8\n",
      "EvaluatorHoldout: Ignoring 1502 ( 3.6%) Users that have less than 1 test interactions\n",
      "EvaluatorHoldout: Ignoring 39548 Users\n",
      "EvaluatorHoldout: Processed 1924 (100.0%) in 1.16 sec. Users per second: 1662\n",
      "EvaluatorHoldout: Processed 1924 (100.0%) in 1.19 sec. Users per second: 1612\n",
      "EvaluatorHoldout: Processed 1924 (100.0%) in 2.96 sec. Users per second: 651\n",
      "Group 2, #users in group 2081, average p.len 8.35, median 8.0, min 8, max 9\n",
      "EvaluatorHoldout: Ignoring 1502 ( 3.6%) Users that have less than 1 test interactions\n",
      "EvaluatorHoldout: Ignoring 39548 Users\n",
      "EvaluatorHoldout: Processed 1937 (100.0%) in 1.16 sec. Users per second: 1670\n",
      "EvaluatorHoldout: Processed 1937 (100.0%) in 1.21 sec. Users per second: 1605\n",
      "EvaluatorHoldout: Processed 1937 (100.0%) in 3.03 sec. Users per second: 640\n",
      "Group 3, #users in group 2081, average p.len 9.31, median 9.0, min 9, max 10\n",
      "EvaluatorHoldout: Ignoring 1502 ( 3.6%) Users that have less than 1 test interactions\n",
      "EvaluatorHoldout: Ignoring 39548 Users\n",
      "EvaluatorHoldout: Processed 1939 (100.0%) in 1.20 sec. Users per second: 1619\n",
      "EvaluatorHoldout: Processed 1939 (100.0%) in 1.22 sec. Users per second: 1583\n",
      "EvaluatorHoldout: Processed 1939 (100.0%) in 3.02 sec. Users per second: 643\n",
      "Group 4, #users in group 2081, average p.len 10.13, median 10.0, min 10, max 11\n",
      "EvaluatorHoldout: Ignoring 1502 ( 3.6%) Users that have less than 1 test interactions\n",
      "EvaluatorHoldout: Ignoring 39548 Users\n",
      "EvaluatorHoldout: Processed 1913 (100.0%) in 1.18 sec. Users per second: 1616\n",
      "EvaluatorHoldout: Processed 1913 (100.0%) in 1.21 sec. Users per second: 1576\n",
      "EvaluatorHoldout: Processed 1913 (100.0%) in 3.00 sec. Users per second: 637\n",
      "Group 5, #users in group 2081, average p.len 11.00, median 11.0, min 11, max 11\n",
      "EvaluatorHoldout: Ignoring 1502 ( 3.6%) Users that have less than 1 test interactions\n",
      "EvaluatorHoldout: Ignoring 39548 Users\n",
      "EvaluatorHoldout: Processed 1956 (100.0%) in 1.18 sec. Users per second: 1656\n",
      "EvaluatorHoldout: Processed 1956 (100.0%) in 1.22 sec. Users per second: 1599\n",
      "EvaluatorHoldout: Processed 1956 (100.0%) in 3.08 sec. Users per second: 636\n",
      "Group 6, #users in group 2081, average p.len 11.98, median 12.0, min 11, max 12\n",
      "EvaluatorHoldout: Ignoring 1502 ( 3.6%) Users that have less than 1 test interactions\n",
      "EvaluatorHoldout: Ignoring 39548 Users\n",
      "EvaluatorHoldout: Processed 1982 (100.0%) in 1.19 sec. Users per second: 1665\n",
      "EvaluatorHoldout: Processed 1982 (100.0%) in 1.25 sec. Users per second: 1584\n",
      "EvaluatorHoldout: Processed 1982 (100.0%) in 3.14 sec. Users per second: 631\n",
      "Group 7, #users in group 2081, average p.len 12.86, median 13.0, min 12, max 13\n",
      "EvaluatorHoldout: Ignoring 1502 ( 3.6%) Users that have less than 1 test interactions\n",
      "EvaluatorHoldout: Ignoring 39548 Users\n",
      "EvaluatorHoldout: Processed 1988 (100.0%) in 1.20 sec. Users per second: 1663\n",
      "EvaluatorHoldout: Processed 1988 (100.0%) in 1.25 sec. Users per second: 1592\n",
      "EvaluatorHoldout: Processed 1988 (100.0%) in 3.17 sec. Users per second: 627\n",
      "Group 8, #users in group 2081, average p.len 13.77, median 14.0, min 13, max 14\n",
      "EvaluatorHoldout: Ignoring 1502 ( 3.6%) Users that have less than 1 test interactions\n",
      "EvaluatorHoldout: Ignoring 39548 Users\n",
      "EvaluatorHoldout: Processed 1979 (100.0%) in 1.21 sec. Users per second: 1637\n",
      "EvaluatorHoldout: Processed 1979 (100.0%) in 1.26 sec. Users per second: 1567\n",
      "EvaluatorHoldout: Processed 1979 (100.0%) in 3.27 sec. Users per second: 604\n",
      "Group 9, #users in group 2081, average p.len 14.75, median 15.0, min 14, max 15\n",
      "EvaluatorHoldout: Ignoring 1502 ( 3.6%) Users that have less than 1 test interactions\n",
      "EvaluatorHoldout: Ignoring 39548 Users\n",
      "EvaluatorHoldout: Processed 2002 (100.0%) in 1.21 sec. Users per second: 1656\n",
      "EvaluatorHoldout: Processed 2002 (100.0%) in 1.26 sec. Users per second: 1585\n",
      "EvaluatorHoldout: Processed 2002 (100.0%) in 2.71 sec. Users per second: 738\n",
      "Group 10, #users in group 2081, average p.len 15.86, median 16.0, min 15, max 17\n",
      "EvaluatorHoldout: Ignoring 1502 ( 3.6%) Users that have less than 1 test interactions\n",
      "EvaluatorHoldout: Ignoring 39548 Users\n",
      "EvaluatorHoldout: Processed 2015 (100.0%) in 1.25 sec. Users per second: 1607\n",
      "EvaluatorHoldout: Processed 2015 (100.0%) in 1.29 sec. Users per second: 1560\n",
      "EvaluatorHoldout: Processed 2015 (100.0%) in 2.56 sec. Users per second: 786\n",
      "Group 11, #users in group 2081, average p.len 17.26, median 17.0, min 17, max 18\n",
      "EvaluatorHoldout: Ignoring 1502 ( 3.6%) Users that have less than 1 test interactions\n",
      "EvaluatorHoldout: Ignoring 39548 Users\n",
      "EvaluatorHoldout: Processed 2025 (100.0%) in 1.25 sec. Users per second: 1625\n",
      "EvaluatorHoldout: Processed 2025 (100.0%) in 1.57 sec. Users per second: 1294\n",
      "EvaluatorHoldout: Processed 2025 (100.0%) in 2.99 sec. Users per second: 677\n",
      "Group 12, #users in group 2081, average p.len 18.59, median 19.0, min 18, max 19\n",
      "EvaluatorHoldout: Ignoring 1502 ( 3.6%) Users that have less than 1 test interactions\n",
      "EvaluatorHoldout: Ignoring 39548 Users\n",
      "EvaluatorHoldout: Processed 2039 (100.0%) in 1.29 sec. Users per second: 1577\n",
      "EvaluatorHoldout: Processed 2039 (100.0%) in 1.31 sec. Users per second: 1554\n",
      "EvaluatorHoldout: Processed 2039 (100.0%) in 2.63 sec. Users per second: 776\n",
      "Group 13, #users in group 2081, average p.len 20.46, median 20.0, min 19, max 21\n",
      "EvaluatorHoldout: Ignoring 1502 ( 3.6%) Users that have less than 1 test interactions\n",
      "EvaluatorHoldout: Ignoring 39548 Users\n",
      "EvaluatorHoldout: Processed 2054 (100.0%) in 1.27 sec. Users per second: 1622\n",
      "EvaluatorHoldout: Processed 2054 (100.0%) in 1.31 sec. Users per second: 1566\n",
      "EvaluatorHoldout: Processed 2054 (100.0%) in 2.63 sec. Users per second: 780\n",
      "Group 14, #users in group 2081, average p.len 22.80, median 23.0, min 21, max 24\n",
      "EvaluatorHoldout: Ignoring 1502 ( 3.6%) Users that have less than 1 test interactions\n",
      "EvaluatorHoldout: Ignoring 39548 Users\n",
      "EvaluatorHoldout: Processed 2064 (100.0%) in 1.29 sec. Users per second: 1605\n",
      "EvaluatorHoldout: Processed 2064 (100.0%) in 1.32 sec. Users per second: 1561\n",
      "EvaluatorHoldout: Processed 2064 (100.0%) in 1.58 sec. Users per second: 1305\n",
      "Group 15, #users in group 2081, average p.len 25.61, median 26.0, min 24, max 27\n",
      "EvaluatorHoldout: Ignoring 1502 ( 3.6%) Users that have less than 1 test interactions\n",
      "EvaluatorHoldout: Ignoring 39548 Users\n",
      "EvaluatorHoldout: Processed 2067 (100.0%) in 1.30 sec. Users per second: 1585\n",
      "EvaluatorHoldout: Processed 2067 (100.0%) in 1.35 sec. Users per second: 1534\n",
      "EvaluatorHoldout: Processed 2067 (100.0%) in 2.24 sec. Users per second: 925\n",
      "Group 16, #users in group 2081, average p.len 29.23, median 29.0, min 27, max 32\n",
      "EvaluatorHoldout: Ignoring 1502 ( 3.6%) Users that have less than 1 test interactions\n",
      "EvaluatorHoldout: Ignoring 39548 Users\n",
      "EvaluatorHoldout: Processed 2078 (100.0%) in 1.30 sec. Users per second: 1604\n",
      "EvaluatorHoldout: Processed 2078 (100.0%) in 1.36 sec. Users per second: 1529\n",
      "EvaluatorHoldout: Processed 2078 (100.0%) in 1.65 sec. Users per second: 1259\n",
      "Group 17, #users in group 2081, average p.len 34.66, median 35.0, min 32, max 38\n",
      "EvaluatorHoldout: Ignoring 1502 ( 3.6%) Users that have less than 1 test interactions\n",
      "EvaluatorHoldout: Ignoring 39548 Users\n",
      "EvaluatorHoldout: Processed 2080 (100.0%) in 1.30 sec. Users per second: 1604\n"
     ]
    },
    {
     "name": "stderr",
     "output_type": "stream",
     "text": [
      "/Users/daniele/Desktop/RecSys/RecSysChallenge2023-Team/Evaluation/metrics.py:276: RuntimeWarning: overflow encountered in power\n",
      "  return np.sum(np.divide(np.power(2, scores) - 1, np.log2(np.arange(scores.shape[0], dtype=np.float64) + 2)),\n"
     ]
    },
    {
     "name": "stdout",
     "output_type": "stream",
     "text": [
      "EvaluatorHoldout: Processed 2080 (100.0%) in 1.49 sec. Users per second: 1396\n"
     ]
    },
    {
     "name": "stderr",
     "output_type": "stream",
     "text": [
      "/Users/daniele/Desktop/RecSys/RecSysChallenge2023-Team/Evaluation/metrics.py:276: RuntimeWarning: overflow encountered in power\n",
      "  return np.sum(np.divide(np.power(2, scores) - 1, np.log2(np.arange(scores.shape[0], dtype=np.float64) + 2)),\n"
     ]
    },
    {
     "name": "stdout",
     "output_type": "stream",
     "text": [
      "EvaluatorHoldout: Processed 2080 (100.0%) in 1.73 sec. Users per second: 1205\n"
     ]
    },
    {
     "name": "stderr",
     "output_type": "stream",
     "text": [
      "/Users/daniele/Desktop/RecSys/RecSysChallenge2023-Team/Evaluation/metrics.py:276: RuntimeWarning: overflow encountered in power\n",
      "  return np.sum(np.divide(np.power(2, scores) - 1, np.log2(np.arange(scores.shape[0], dtype=np.float64) + 2)),\n"
     ]
    },
    {
     "name": "stdout",
     "output_type": "stream",
     "text": [
      "Group 18, #users in group 2081, average p.len 43.52, median 43.0, min 38, max 50\n",
      "EvaluatorHoldout: Ignoring 1502 ( 3.6%) Users that have less than 1 test interactions\n",
      "EvaluatorHoldout: Ignoring 39548 Users\n",
      "EvaluatorHoldout: Processed 2081 (100.0%) in 1.36 sec. Users per second: 1528\n",
      "EvaluatorHoldout: Processed 2081 (100.0%) in 1.66 sec. Users per second: 1255\n",
      "EvaluatorHoldout: Processed 2081 (100.0%) in 1.76 sec. Users per second: 1185\n",
      "Group 19, #users in group 2081, average p.len 70.72, median 63.0, min 50, max 220\n",
      "EvaluatorHoldout: Ignoring 1502 ( 3.6%) Users that have less than 1 test interactions\n",
      "EvaluatorHoldout: Ignoring 39548 Users\n",
      "EvaluatorHoldout: Processed 2081 (100.0%) in 1.45 sec. Users per second: 1435\n",
      "EvaluatorHoldout: Processed 2081 (100.0%) in 1.57 sec. Users per second: 1323\n",
      "EvaluatorHoldout: Processed 2081 (100.0%) in 1.84 sec. Users per second: 1133\n"
     ]
    }
   ],
   "source": [
    "cutoff = 10\n",
    "\n",
    "for group_id in range(0, 20):\n",
    "    \n",
    "    start_pos = group_id*block_size\n",
    "    end_pos = min((group_id+1)*block_size, len(profile_length))\n",
    "    \n",
    "    users_in_group = sorted_users[start_pos:end_pos]\n",
    "    \n",
    "    users_in_group_p_len = profile_length[users_in_group]\n",
    "    \n",
    "    print(\"Group {}, #users in group {}, average p.len {:.2f}, median {}, min {}, max {}\".format(\n",
    "        group_id, \n",
    "        users_in_group.shape[0],\n",
    "        users_in_group_p_len.mean(),\n",
    "        np.median(users_in_group_p_len),\n",
    "        users_in_group_p_len.min(),\n",
    "        users_in_group_p_len.max()))\n",
    "    \n",
    "    \n",
    "    users_not_in_group_flag = np.isin(sorted_users, users_in_group, invert=True)\n",
    "    users_not_in_group = sorted_users[users_not_in_group_flag]\n",
    "    \n",
    "    evaluator_test = EvaluatorHoldout(URMv_test, cutoff_list=[cutoff], ignore_users=users_not_in_group)\n",
    "    \n",
    "    for label, recommender in recommender_object_dict.items():\n",
    "        result_df, _ = evaluator_test.evaluateRecommender(recommender)\n",
    "        if label in MAP_recommender_per_group:\n",
    "            MAP_recommender_per_group[label].append(result_df.loc[cutoff][\"MAP\"])\n",
    "        else:\n",
    "            MAP_recommender_per_group[label] = [result_df.loc[cutoff][\"MAP\"]]"
   ]
  },
  {
   "cell_type": "code",
   "execution_count": null,
   "metadata": {},
   "outputs": [
    {
     "data": {
      "image/png": "[encoded data removed]",
      "text/plain": [
       "<Figure size 1400x700 with 1 Axes>"
      ]
     },
     "metadata": {},
     "output_type": "display_data"
    }
   ],
   "source": [
    "import matplotlib.pyplot as plt\n",
    "%matplotlib inline  \n",
    "\n",
    "_ = plt.figure(figsize=(14, 7))\n",
    "for label, recommender in recommender_object_dict.items():\n",
    "    results = MAP_recommender_per_group[label]\n",
    "    plt.scatter(x=np.arange(0,len(results)), y=results, label=label,)\n",
    "plt.ylabel('MAP')\n",
    "plt.xlabel('User Group')\n",
    "plt.legend()\n",
    "plt.show()"
   ]
  },
  {
   "attachments": {},
   "cell_type": "markdown",
   "metadata": {},
   "source": [
    "### Evaluation"
   ]
  },
  {
   "cell_type": "code",
   "execution_count": null,
   "metadata": {},
   "outputs": [
    {
     "name": "stdout",
     "output_type": "stream",
     "text": [
      "EvaluatorHoldout: Ignoring 1502 ( 3.6%) Users that have less than 1 test interactions\n",
      "toppop\n"
     ]
    },
    {
     "name": "stderr",
     "output_type": "stream",
     "text": [
      "/Users/daniele/Desktop/RecSys/RecSysChallenge2023-Team/Evaluation/metrics.py:276: RuntimeWarning: overflow encountered in power\n",
      "  return np.sum(np.divide(np.power(2, scores) - 1, np.log2(np.arange(scores.shape[0], dtype=np.float64) + 2)),\n"
     ]
    },
    {
     "name": "stdout",
     "output_type": "stream",
     "text": [
      "EvaluatorHoldout: Processed 40127 (100.0%) in 37.31 sec. Users per second: 1075\n"
     ]
    },
    {
     "data": {
      "text/html": [
       "<div>\n",
       "<style scoped>\n",
       "    .dataframe tbody tr th:only-of-type {\n",
       "        vertical-align: middle;\n",
       "    }\n",
       "\n",
       "    .dataframe tbody tr th {\n",
       "        vertical-align: top;\n",
       "    }\n",
       "\n",
       "    .dataframe thead th {\n",
       "        text-align: right;\n",
       "    }\n",
       "</style>\n",
       "<table border=\"1\" class=\"dataframe\">\n",
       "  <thead>\n",
       "    <tr style=\"text-align: right;\">\n",
       "      <th></th>\n",
       "      <th>PRECISION</th>\n",
       "      <th>PRECISION_RECALL_MIN_DEN</th>\n",
       "      <th>RECALL</th>\n",
       "      <th>MAP</th>\n",
       "      <th>MAP_MIN_DEN</th>\n",
       "      <th>MRR</th>\n",
       "      <th>NDCG</th>\n",
       "      <th>F1</th>\n",
       "      <th>HIT_RATE</th>\n",
       "      <th>ARHR_ALL_HITS</th>\n",
       "      <th>...</th>\n",
       "      <th>COVERAGE_USER</th>\n",
       "      <th>COVERAGE_USER_HIT</th>\n",
       "      <th>USERS_IN_GT</th>\n",
       "      <th>DIVERSITY_GINI</th>\n",
       "      <th>SHANNON_ENTROPY</th>\n",
       "      <th>RATIO_DIVERSITY_HERFINDAHL</th>\n",
       "      <th>RATIO_DIVERSITY_GINI</th>\n",
       "      <th>RATIO_SHANNON_ENTROPY</th>\n",
       "      <th>RATIO_AVERAGE_POPULARITY</th>\n",
       "      <th>RATIO_NOVELTY</th>\n",
       "    </tr>\n",
       "    <tr>\n",
       "      <th>cutoff</th>\n",
       "      <th></th>\n",
       "      <th></th>\n",
       "      <th></th>\n",
       "      <th></th>\n",
       "      <th></th>\n",
       "      <th></th>\n",
       "      <th></th>\n",
       "      <th></th>\n",
       "      <th></th>\n",
       "      <th></th>\n",
       "      <th></th>\n",
       "      <th></th>\n",
       "      <th></th>\n",
       "      <th></th>\n",
       "      <th></th>\n",
       "      <th></th>\n",
       "      <th></th>\n",
       "      <th></th>\n",
       "      <th></th>\n",
       "      <th></th>\n",
       "      <th></th>\n",
       "    </tr>\n",
       "  </thead>\n",
       "  <tbody>\n",
       "    <tr>\n",
       "      <th>10</th>\n",
       "      <td>0.041361</td>\n",
       "      <td>0.069671</td>\n",
       "      <td>0.06534</td>\n",
       "      <td>0.020294</td>\n",
       "      <td>0.033674</td>\n",
       "      <td>0.133894</td>\n",
       "      <td>0.061517</td>\n",
       "      <td>0.050656</td>\n",
       "      <td>0.273282</td>\n",
       "      <td>0.163275</td>\n",
       "      <td>...</td>\n",
       "      <td>0.963919</td>\n",
       "      <td>0.263422</td>\n",
       "      <td>0.963919</td>\n",
       "      <td>0.025381</td>\n",
       "      <td>8.886845</td>\n",
       "      <td>0.993434</td>\n",
       "      <td>0.057995</td>\n",
       "      <td>0.66082</td>\n",
       "      <td>3.943644</td>\n",
       "      <td>0.268601</td>\n",
       "    </tr>\n",
       "  </tbody>\n",
       "</table>\n",
       "<p>1 rows × 27 columns</p>\n",
       "</div>"
      ],
      "text/plain": [
       "       PRECISION PRECISION_RECALL_MIN_DEN   RECALL       MAP MAP_MIN_DEN  \\\n",
       "cutoff                                                                     \n",
       "10      0.041361                 0.069671  0.06534  0.020294    0.033674   \n",
       "\n",
       "             MRR      NDCG        F1  HIT_RATE ARHR_ALL_HITS  ...  \\\n",
       "cutoff                                                        ...   \n",
       "10      0.133894  0.061517  0.050656  0.273282      0.163275  ...   \n",
       "\n",
       "       COVERAGE_USER COVERAGE_USER_HIT USERS_IN_GT DIVERSITY_GINI  \\\n",
       "cutoff                                                              \n",
       "10          0.963919          0.263422    0.963919       0.025381   \n",
       "\n",
       "       SHANNON_ENTROPY RATIO_DIVERSITY_HERFINDAHL RATIO_DIVERSITY_GINI  \\\n",
       "cutoff                                                                   \n",
       "10            8.886845                   0.993434             0.057995   \n",
       "\n",
       "       RATIO_SHANNON_ENTROPY RATIO_AVERAGE_POPULARITY RATIO_NOVELTY  \n",
       "cutoff                                                               \n",
       "10                   0.66082                 3.943644      0.268601  \n",
       "\n",
       "[1 rows x 27 columns]"
      ]
     },
     "execution_count": 67,
     "metadata": {},
     "output_type": "execute_result"
    }
   ],
   "source": [
    "evaluator_test = EvaluatorHoldout(URMv_test, [10])\n",
    "ris, _ = evaluator_test.evaluateRecommender(hybrid)\n",
    "ris"
   ]
  },
  {
   "attachments": {},
   "cell_type": "markdown",
   "metadata": {},
   "source": [
    "\n",
    "### Reference "
   ]
  },
  {
   "cell_type": "code",
   "execution_count": null,
   "metadata": {},
   "outputs": [
    {
     "name": "stdout",
     "output_type": "stream",
     "text": [
      "EvaluatorHoldout: Ignoring 1502 ( 3.6%) Users that have less than 1 test interactions\n"
     ]
    },
    {
     "name": "stderr",
     "output_type": "stream",
     "text": [
      "/Users/daniele/Desktop/RecSys/RecSysChallenge2023-Team/Evaluation/metrics.py:276: RuntimeWarning: overflow encountered in power\n",
      "  return np.sum(np.divide(np.power(2, scores) - 1, np.log2(np.arange(scores.shape[0], dtype=np.float64) + 2)),\n"
     ]
    },
    {
     "name": "stdout",
     "output_type": "stream",
     "text": [
      "EvaluatorHoldout: Processed 40127 (100.0%) in 13.25 sec. Users per second: 3028\n"
     ]
    },
    {
     "data": {
      "text/html": [
       "<div>\n",
       "<style scoped>\n",
       "    .dataframe tbody tr th:only-of-type {\n",
       "        vertical-align: middle;\n",
       "    }\n",
       "\n",
       "    .dataframe tbody tr th {\n",
       "        vertical-align: top;\n",
       "    }\n",
       "\n",
       "    .dataframe thead th {\n",
       "        text-align: right;\n",
       "    }\n",
       "</style>\n",
       "<table border=\"1\" class=\"dataframe\">\n",
       "  <thead>\n",
       "    <tr style=\"text-align: right;\">\n",
       "      <th></th>\n",
       "      <th>PRECISION</th>\n",
       "      <th>PRECISION_RECALL_MIN_DEN</th>\n",
       "      <th>RECALL</th>\n",
       "      <th>MAP</th>\n",
       "      <th>MAP_MIN_DEN</th>\n",
       "      <th>MRR</th>\n",
       "      <th>NDCG</th>\n",
       "      <th>F1</th>\n",
       "      <th>HIT_RATE</th>\n",
       "      <th>ARHR_ALL_HITS</th>\n",
       "      <th>...</th>\n",
       "      <th>COVERAGE_USER</th>\n",
       "      <th>COVERAGE_USER_HIT</th>\n",
       "      <th>USERS_IN_GT</th>\n",
       "      <th>DIVERSITY_GINI</th>\n",
       "      <th>SHANNON_ENTROPY</th>\n",
       "      <th>RATIO_DIVERSITY_HERFINDAHL</th>\n",
       "      <th>RATIO_DIVERSITY_GINI</th>\n",
       "      <th>RATIO_SHANNON_ENTROPY</th>\n",
       "      <th>RATIO_AVERAGE_POPULARITY</th>\n",
       "      <th>RATIO_NOVELTY</th>\n",
       "    </tr>\n",
       "    <tr>\n",
       "      <th>cutoff</th>\n",
       "      <th></th>\n",
       "      <th></th>\n",
       "      <th></th>\n",
       "      <th></th>\n",
       "      <th></th>\n",
       "      <th></th>\n",
       "      <th></th>\n",
       "      <th></th>\n",
       "      <th></th>\n",
       "      <th></th>\n",
       "      <th></th>\n",
       "      <th></th>\n",
       "      <th></th>\n",
       "      <th></th>\n",
       "      <th></th>\n",
       "      <th></th>\n",
       "      <th></th>\n",
       "      <th></th>\n",
       "      <th></th>\n",
       "      <th></th>\n",
       "      <th></th>\n",
       "    </tr>\n",
       "  </thead>\n",
       "  <tbody>\n",
       "    <tr>\n",
       "      <th>10</th>\n",
       "      <td>0.041077</td>\n",
       "      <td>0.06915</td>\n",
       "      <td>0.064854</td>\n",
       "      <td>0.020216</td>\n",
       "      <td>0.033377</td>\n",
       "      <td>0.133839</td>\n",
       "      <td>0.061093</td>\n",
       "      <td>0.050297</td>\n",
       "      <td>0.271962</td>\n",
       "      <td>0.162995</td>\n",
       "      <td>...</td>\n",
       "      <td>0.963919</td>\n",
       "      <td>0.262149</td>\n",
       "      <td>0.963919</td>\n",
       "      <td>0.047325</td>\n",
       "      <td>9.446226</td>\n",
       "      <td>0.995146</td>\n",
       "      <td>0.10807</td>\n",
       "      <td>0.702346</td>\n",
       "      <td>3.487047</td>\n",
       "      <td>0.276536</td>\n",
       "    </tr>\n",
       "  </tbody>\n",
       "</table>\n",
       "<p>1 rows × 27 columns</p>\n",
       "</div>"
      ],
      "text/plain": [
       "       PRECISION PRECISION_RECALL_MIN_DEN    RECALL       MAP MAP_MIN_DEN  \\\n",
       "cutoff                                                                      \n",
       "10      0.041077                  0.06915  0.064854  0.020216    0.033377   \n",
       "\n",
       "             MRR      NDCG        F1  HIT_RATE ARHR_ALL_HITS  ...  \\\n",
       "cutoff                                                        ...   \n",
       "10      0.133839  0.061093  0.050297  0.271962      0.162995  ...   \n",
       "\n",
       "       COVERAGE_USER COVERAGE_USER_HIT USERS_IN_GT DIVERSITY_GINI  \\\n",
       "cutoff                                                              \n",
       "10          0.963919          0.262149    0.963919       0.047325   \n",
       "\n",
       "       SHANNON_ENTROPY RATIO_DIVERSITY_HERFINDAHL RATIO_DIVERSITY_GINI  \\\n",
       "cutoff                                                                   \n",
       "10            9.446226                   0.995146              0.10807   \n",
       "\n",
       "       RATIO_SHANNON_ENTROPY RATIO_AVERAGE_POPULARITY RATIO_NOVELTY  \n",
       "cutoff                                                               \n",
       "10                  0.702346                 3.487047      0.276536  \n",
       "\n",
       "[1 rows x 27 columns]"
      ]
     },
     "execution_count": 68,
     "metadata": {},
     "output_type": "execute_result"
    }
   ],
   "source": [
    "evaluator_test = EvaluatorHoldout(URMv_test, [10])\n",
    "ris, _ = evaluator_test.evaluateRecommender(best_reference)\n",
    "ris"
   ]
  }
 ],
 "metadata": {
  "kernelspec": {
   "display_name": "base",
   "language": "python",
   "name": "python3"
  },
  "language_info": {
   "codemirror_mode": {
    "name": "ipython",
    "version": 3
   },
   "file_extension": ".py",
   "mimetype": "text/x-python",
   "name": "python",
   "nbconvert_exporter": "python",
   "pygments_lexer": "ipython3",
   "version": "3.9.13"
  },
  "orig_nbformat": 4,
  "vscode": {
   "interpreter": {
    "hash": "6e76083d1a5f4c0027e70cf105b7627b1b5e567462449feedfd1ad9407b42e24"
   }
  }
 },
 "nbformat": 4,
 "nbformat_minor": 2
}
