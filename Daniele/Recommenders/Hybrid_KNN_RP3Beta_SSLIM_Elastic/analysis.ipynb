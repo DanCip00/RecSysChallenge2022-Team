{
 "cells": [
  {
   "cell_type": "code",
   "execution_count": 1,
   "metadata": {},
   "outputs": [],
   "source": [
    "import os \n",
    "import sys\n",
    "while os.path.split(os.getcwd())[1] != 'RecSysChallenge2023-Team':\n",
    "    os.chdir('..')\n",
    "sys.path.insert(1, os.getcwd())\n",
    "\n",
    "import numpy as np "
   ]
  },
  {
   "cell_type": "code",
   "execution_count": 2,
   "metadata": {},
   "outputs": [],
   "source": [
    "path_save= \"Daniele/Recommenders/Hybrid_KNN_RP3Beta_SSLIM_Elastic/saved_models\"\n",
    "if not os.path.exists(path_save):\n",
    "    os.makedirs(path_save)"
   ]
  },
  {
   "cell_type": "markdown",
   "metadata": {},
   "source": []
  },
  {
   "cell_type": "code",
   "execution_count": 3,
   "metadata": {},
   "outputs": [
    {
     "name": "stdout",
     "output_type": "stream",
     "text": [
      "/Users/daniele/Desktop/RecSys/RecSysChallenge2023-Team\n"
     ]
    }
   ],
   "source": [
    "from Data_manager.split_functions.split_train_validation_random_holdout import split_train_in_two_percentage_global_sample\n",
    "from Evaluation.Evaluator import EvaluatorHoldout\n",
    "\n",
    "import Daniele.Utils.MyDataManager as dm \n",
    "import Daniele.Utils.MatrixManipulation as mm\n",
    "import Daniele.Utils.SaveSparceMatrix as ssm\n",
    "\n",
    "URMv = dm.getURMviews()\n",
    "URMo = dm.getURMopen()\n",
    "ICMt=dm.getICMt()\n",
    "ICMl=dm.getICMl()\n",
    "\n",
    "name=\"train.csv\"\n",
    "dir = os.path.join(path_save,name)\n",
    "if not os.path.exists(dir):\n",
    "    URMv_train, URMv_test = split_train_in_two_percentage_global_sample(URMv, train_percentage = 0.80)\n",
    "\n",
    "    ssm.saveMatrix(dir,URMv_train)\n",
    "\n",
    "    name=\"test.csv\"\n",
    "    dir = os.path.join(path_save,name)\n",
    "    ssm.saveMatrix(dir,URMv_test)\n",
    "\n",
    "    urm_def = mm.defaultExplicitURM(urmv=URMv_train,urmo=URMo,icml=ICMl,icmt=ICMt, normalize=True, add_aug=True,appendICM=True)\n",
    "    name=\"urm_def.csv\"\n",
    "    dir = os.path.join(path_save,name)\n",
    "    ssm.saveMatrix(dir,urm_def)\n",
    "\n",
    "    urm_bin = mm.defaultExplicitURM(urmv=URMv_train,urmo=URMo, normalize=False, add_aug=True)\n",
    "    urm_bin.data = np.ones(len(urm_bin.data))\n",
    "    name=\"urm_bin.csv\"\n",
    "    dir = os.path.join(path_save,name)\n",
    "    ssm.saveMatrix(dir,urm_bin)\n",
    "\n",
    "else:\n",
    "    URMv_train=ssm.readMatrix(dir)\n",
    "\n",
    "    name=\"test.csv\"\n",
    "    dir = os.path.join(path_save,name)\n",
    "    URMv_test=ssm.readMatrix(dir)\n",
    "\n",
    "    name=\"urm_def.csv\"\n",
    "    dir = os.path.join(path_save,name)\n",
    "    urm_def = ssm.readMatrix(dir)\n",
    "\n",
    "    name=\"urm_bin.csv\"\n",
    "    dir = os.path.join(path_save,name)\n",
    "    urm_bin = ssm.readMatrix(dir)\n",
    "\n"
   ]
  },
  {
   "attachments": {},
   "cell_type": "markdown",
   "metadata": {},
   "source": [
    "### SSLIIM BPR"
   ]
  },
  {
   "cell_type": "code",
   "execution_count": 4,
   "metadata": {},
   "outputs": [
    {
     "name": "stdout",
     "output_type": "stream",
     "text": [
      "SLIM_BPR_Recommender: URM Detected 2 ( 0.0%) users with no interactions.\n",
      "SLIM_BPR_Recommender: Loading model from file 'Daniele/Recommenders/Hybrid_KNN_RP3Beta_SSLIM_Elastic/saved_modelssslim01'\n",
      "SLIM_BPR_Recommender: Loading complete\n"
     ]
    }
   ],
   "source": [
    "from Recommenders.SLIM.Cython.SLIM_BPR_Cython import SLIM_BPR_Cython\n",
    "name=\"sslim01\"\n",
    "dir = os.path.join(path_save,name)\n",
    "\n",
    "sslim_recommender = SLIM_BPR_Cython(URM_train=urm_def)\n",
    "if not os.path.exists(dir+\".zip\"):\n",
    "    #{'topK': 51, 'epochs': 15, 'symmetric': True, 'sgd_mode': 'adam', 'lambda_i': 1e-05, 'lambda_j': 0.003215687724797301, 'learning_rate': 0.007114410195895492} -> MAP 0.0078853\n",
    "    sslim_recommender.fit(topK= 51, epochs=15,symmetric=True, sgd_mode = 'adam', lambda_i = 1e-05, lambda_j=0.003215687724797301, learning_rate = 0.007114410195895492)\n",
    "    sslim_recommender.save_model(path_save,name)\n",
    "else:\n",
    "    sslim_recommender.load_model(path_save,name)\n",
    "\n",
    "   "
   ]
  },
  {
   "attachments": {},
   "cell_type": "markdown",
   "metadata": {},
   "source": [
    "### SLIIM-Elastic"
   ]
  },
  {
   "cell_type": "code",
   "execution_count": 5,
   "metadata": {},
   "outputs": [
    {
     "name": "stdout",
     "output_type": "stream",
     "text": [
      "SLIMElasticNetRecommender: URM Detected 3461 (12.4%) items with no interactions.\n",
      "SLIMElasticNetRecommender: Loading model from file 'Daniele/Recommenders/Hybrid_KNN_RP3Beta_SSLIM_Elastic/saved_modelsslim_Elastic'\n",
      "SLIMElasticNetRecommender: Loading complete\n"
     ]
    }
   ],
   "source": [
    "from Recommenders.SLIM.SLIMElasticNetRecommender import MultiThreadSLIM_SLIMElasticNetRecommender\n",
    "name=\"slim_Elastic\"\n",
    "dir = os.path.join(path_save,name)\n",
    "\n",
    "slim_elastic_recommender = MultiThreadSLIM_SLIMElasticNetRecommender(URM_train=urm_bin)\n",
    "if not os.path.exists(dir+\".zip\"):\n",
    "    \n",
    "    slim_elastic_recommender.fit(alpha=0.003271, l1_ratio=0.006095, topK=884)\n",
    "    slim_elastic_recommender.save_model(path_save,name)\n",
    "else:\n",
    "    slim_elastic_recommender.load_model(path_save,name)"
   ]
  },
  {
   "attachments": {},
   "cell_type": "markdown",
   "metadata": {},
   "source": [
    "### KNN_CFCBF "
   ]
  },
  {
   "cell_type": "code",
   "execution_count": 6,
   "metadata": {},
   "outputs": [
    {
     "name": "stdout",
     "output_type": "stream",
     "text": [
      "KNN_CFCBF_custom: URM Detected 3461 (12.4%) items with no interactions.\n",
      "KNN_CFCBF_custom: Loading model from file 'Daniele/Recommenders/Hybrid_KNN_RP3Beta_SSLIM_Elastic/saved_modelsknn_cfcbf'\n",
      "KNN_CFCBF_custom: Loading complete\n"
     ]
    }
   ],
   "source": [
    "from Daniele.Recommenders.KNN_CFCBF.ItemKNN_CFCBF_Hybrid_Recommender import KNN_CFCBF_custom\n",
    "name=\"knn_cfcbf\"\n",
    "dir = os.path.join(path_save,name)\n",
    "\n",
    "KNN_recommender = KNN_CFCBF_custom(URMv_train,URMo,ICM_train=mm.augmentedICM(ICMt,ICMl))\n",
    "if not os.path.exists(dir+\".zip\"):\n",
    "    KNN_recommender.fit(topK= 744, shrink= 457, similarity= 'cosine', normalize= True, feature_weighting='TF-IDF')\n",
    "    KNN_recommender.save_model(path_save,name)\n",
    "else:\n",
    "    KNN_recommender.load_model(path_save,name)"
   ]
  },
  {
   "attachments": {},
   "cell_type": "markdown",
   "metadata": {},
   "source": [
    "### RP3Beta \n"
   ]
  },
  {
   "cell_type": "code",
   "execution_count": 7,
   "metadata": {},
   "outputs": [
    {
     "name": "stdout",
     "output_type": "stream",
     "text": [
      "RP3betaRecommender: URM Detected 3461 (12.4%) items with no interactions.\n",
      "RP3betaRecommender: Loading model from file 'Daniele/Recommenders/Hybrid_KNN_RP3Beta_SSLIM_Elastic/saved_modelsrp3beta'\n",
      "RP3betaRecommender: Loading complete\n"
     ]
    }
   ],
   "source": [
    "from Recommenders.GraphBased.RP3betaRecommender import RP3betaRecommender\n",
    "name=\"rp3beta\"\n",
    "dir = os.path.join(path_save,name)\n",
    "\n",
    "\n",
    "rp3beta_recommender = RP3betaRecommender(urm_bin)\n",
    "if not os.path.exists(dir+\".zip\"):\n",
    "    # {'topK': 69, 'alpha': 0.6854042891733674, 'beta': 0.2763471245555947, 'normalize_similarity': True} -> MAP 0.0282084\n",
    "    rp3beta_recommender.fit( topK=69, alpha=0.6854042891733674, beta=0.2763471245555947, normalize_similarity=True )\n",
    "    rp3beta_recommender.save_model(path_save,name)\n",
    "else:\n",
    "    rp3beta_recommender.load_model(path_save,name)"
   ]
  },
  {
   "attachments": {},
   "cell_type": "markdown",
   "metadata": {},
   "source": [
    "### RP3Beta - KNN_CFCBF"
   ]
  },
  {
   "cell_type": "code",
   "execution_count": 8,
   "metadata": {},
   "outputs": [
    {
     "name": "stdout",
     "output_type": "stream",
     "text": [
      "ItemKNNCustomSimilarityRecommender: URM Detected 2 ( 0.0%) users with no interactions.\n",
      "ItemKNNCustomSimilarityRecommender: Loading model from file 'Daniele/Recommenders/Hybrid_KNN_RP3Beta_SSLIM_Elastic/saved_modelsrp3beta-knn'\n",
      "ItemKNNCustomSimilarityRecommender: Loading complete\n"
     ]
    }
   ],
   "source": [
    "from Recommenders.KNN.ItemKNNCustomSimilarityRecommender import ItemKNNCustomSimilarityRecommender\n",
    "alpha_knn_rp3 = 0.7\n",
    "name=\"rp3beta-knn\"\n",
    "dir = os.path.join(path_save,name)\n",
    "\n",
    "\n",
    "knn_rp3_recommender = ItemKNNCustomSimilarityRecommender(urm_def)\n",
    "if not os.path.exists(dir+\".zip\"):\n",
    "    knn_rp3_recommender.fit((1 - alpha_knn_rp3) * KNN_recommender.W_sparse + alpha_knn_rp3* rp3beta_recommender.W_sparse)\n",
    "    knn_rp3_recommender.save_model(path_save,name)\n",
    "else:\n",
    "    knn_rp3_recommender.load_model(path_save,name)"
   ]
  },
  {
   "attachments": {},
   "cell_type": "markdown",
   "metadata": {},
   "source": [
    "### TopPop"
   ]
  },
  {
   "cell_type": "code",
   "execution_count": 9,
   "metadata": {},
   "outputs": [
    {
     "name": "stdout",
     "output_type": "stream",
     "text": [
      "TopPopRecommender: URM Detected 3461 (12.4%) items with no interactions.\n",
      "TopPopRecommender: Loading model from file 'Daniele/Recommenders/Hybrid_KNN_RP3Beta_SSLIM_Elastic/saved_modelsTopPop'\n",
      "TopPopRecommender: Loading complete\n"
     ]
    }
   ],
   "source": [
    "from Recommenders.NonPersonalizedRecommender import TopPop\n",
    "name=\"TopPop\"\n",
    "dir = os.path.join(path_save,name)\n",
    "\n",
    "most_viewed = TopPop(urm_bin)\n",
    "if not os.path.exists(dir+\".zip\"):\n",
    "    most_viewed.fit()\n",
    "    most_viewed.save_model(path_save,name)\n",
    "else:\n",
    "    most_viewed.load_model(path_save,name)"
   ]
  },
  {
   "attachments": {},
   "cell_type": "markdown",
   "metadata": {},
   "source": [
    "### REFERENCE RP3Beta Fderico"
   ]
  },
  {
   "cell_type": "code",
   "execution_count": 10,
   "metadata": {},
   "outputs": [
    {
     "name": "stdout",
     "output_type": "stream",
     "text": [
      "RP3betaRecommender: URM Detected 3461 (12.4%) items with no interactions.\n",
      "RP3betaRecommender: Similarity column 27968 (100.0%), 3302.53 column/sec. Elapsed time 8.47 sec\n"
     ]
    }
   ],
   "source": [
    "best_reference = RP3betaRecommender(urm_bin)\n",
    "\n",
    "# {'topK': 89, 'alpha': 0.6361002951626124, 'beta': 0.27432996564004203, 'normalize_similarity': True} -> opt_top\n",
    "best_reference.fit(\n",
    "    topK=89,\n",
    "    alpha=0.6361002951626124,\n",
    "    beta=0.27432996564004203,\n",
    "    normalize_similarity=True\n",
    ")\n"
   ]
  },
  {
   "cell_type": "code",
   "execution_count": 11,
   "metadata": {},
   "outputs": [
    {
     "name": "stdout",
     "output_type": "stream",
     "text": [
      "ItemKNNCustomSimilarityRecommender: URM Detected 2 ( 0.0%) users with no interactions.\n",
      "ItemKNNCustomSimilarityRecommender: Loading model from file 'Daniele/Recommenders/Hybrid_KNN_RP3Beta_SSLIM_Elastic/saved_modelsslim_combo'\n",
      "ItemKNNCustomSimilarityRecommender: Loading complete\n"
     ]
    }
   ],
   "source": [
    "from Recommenders.KNN.ItemKNNCustomSimilarityRecommender import ItemKNNCustomSimilarityRecommender\n",
    "alpha = 0.3\n",
    "name=\"slim_combo\"\n",
    "dir = os.path.join(path_save,name)\n",
    "\n",
    "\n",
    "slim_combo = ItemKNNCustomSimilarityRecommender(urm_def)\n",
    "if not os.path.exists(dir+\".zip\"):\n",
    "\n",
    "    slim_combo.fit((1 - alpha) * slim_elastic_recommender.W_sparse + alpha* sslim_recommender.W_sparse)\n",
    "    slim_combo.save_model(path_save,name)\n",
    "else:\n",
    "    slim_combo.load_model(path_save,name)"
   ]
  },
  {
   "attachments": {},
   "cell_type": "markdown",
   "metadata": {},
   "source": [
    "### Hybrid"
   ]
  },
  {
   "cell_type": "code",
   "execution_count": 12,
   "metadata": {},
   "outputs": [
    {
     "name": "stdout",
     "output_type": "stream",
     "text": [
      "RP3BetaKNNRecommender: URM Detected 3461 (12.4%) items with no interactions.\n"
     ]
    }
   ],
   "source": [
    "from Daniele.Recommenders.Hybrid_KNN_RP3Beta_SSLIM_Elastic.hybrid import SSLIMRP3BetaKNNRecommender\n",
    "\n",
    "hybrid = SSLIMRP3BetaKNNRecommender(urm_bin,urm_def)\n",
    "hybrid.rp3beta_recommender = rp3beta_recommender\n",
    "hybrid.sslim_BPR_recommender = sslim_recommender\n",
    "hybrid.slim_recommender = slim_elastic_recommender\n",
    "hybrid.slim_combo = slim_combo\n",
    "hybrid.most_viewed = most_viewed\n"
   ]
  },
  {
   "attachments": {},
   "cell_type": "markdown",
   "metadata": {},
   "source": [
    "### Hybrid Federico"
   ]
  },
  {
   "cell_type": "code",
   "execution_count": 13,
   "metadata": {},
   "outputs": [
    {
     "name": "stdout",
     "output_type": "stream",
     "text": [
      "RP3BetaKNNRecommender: URM Detected 3461 (12.4%) items with no interactions.\n"
     ]
    }
   ],
   "source": [
    "from Federico.Recommenders.Hybrid_KNN_RP3Beta_SSLIM.hybrid import SSLIMRP3BetaKNNRecommender\n",
    "\n",
    "hybrid_federico = SSLIMRP3BetaKNNRecommender(urm_bin)\n",
    "hybrid_federico.rp3beta_recommender = rp3beta_recommender\n",
    "hybrid_federico.sslim_recommender = slim_elastic_recommender\n"
   ]
  },
  {
   "attachments": {},
   "cell_type": "markdown",
   "metadata": {},
   "source": [
    "### Users group"
   ]
  },
  {
   "cell_type": "code",
   "execution_count": 14,
   "metadata": {},
   "outputs": [
    {
     "name": "stdout",
     "output_type": "stream",
     "text": [
      "Group 0, #users in group 2081, average p.len 5.12, median 5.0, min 0, max 6\n",
      "Group 1, #users in group 2081, average p.len 7.24, median 7.0, min 6, max 8\n",
      "Group 2, #users in group 2081, average p.len 8.36, median 8.0, min 8, max 9\n",
      "Group 3, #users in group 2081, average p.len 9.29, median 9.0, min 9, max 10\n",
      "Group 4, #users in group 2081, average p.len 10.14, median 10.0, min 10, max 11\n",
      "Group 5, #users in group 2081, average p.len 11.00, median 11.0, min 11, max 11\n",
      "Group 6, #users in group 2081, average p.len 12.00, median 12.0, min 11, max 12\n",
      "Group 7, #users in group 2081, average p.len 12.86, median 13.0, min 12, max 13\n",
      "Group 8, #users in group 2081, average p.len 13.75, median 14.0, min 13, max 14\n",
      "Group 9, #users in group 2081, average p.len 14.73, median 15.0, min 14, max 15\n",
      "Group 10, #users in group 2081, average p.len 15.80, median 16.0, min 15, max 17\n",
      "Group 11, #users in group 2081, average p.len 17.27, median 17.0, min 17, max 18\n",
      "Group 12, #users in group 2081, average p.len 18.62, median 19.0, min 18, max 20\n",
      "Group 13, #users in group 2081, average p.len 20.53, median 20.0, min 20, max 22\n",
      "Group 14, #users in group 2081, average p.len 22.81, median 23.0, min 22, max 24\n",
      "Group 15, #users in group 2081, average p.len 25.56, median 26.0, min 24, max 27\n",
      "Group 16, #users in group 2081, average p.len 29.25, median 29.0, min 27, max 32\n",
      "Group 17, #users in group 2081, average p.len 34.76, median 35.0, min 32, max 38\n",
      "Group 18, #users in group 2081, average p.len 43.55, median 43.0, min 38, max 50\n",
      "Group 19, #users in group 2081, average p.len 70.62, median 63.0, min 50, max 227\n"
     ]
    }
   ],
   "source": [
    "import numpy as np \n",
    "import scipy.sparse as sps\n",
    "\n",
    "profile_length = np.ediff1d(sps.csr_matrix(URMv_train).indptr)\n",
    "profile_length, profile_length.shape\n",
    "\n",
    "block_size = int(len(profile_length)*0.05)\n",
    "sorted_users = np.argsort(profile_length)\n",
    "\n",
    "for group_id in range(0, 20):\n",
    "    start_pos = group_id * block_size\n",
    "    end_pos = min((group_id+1) * block_size, len(profile_length))\n",
    "    \n",
    "    users_in_group = sorted_users[start_pos:end_pos]\n",
    "    \n",
    "    users_in_group_p_len = profile_length[users_in_group]\n",
    "    \n",
    "    print(\"Group {}, #users in group {}, average p.len {:.2f}, median {}, min {}, max {}\".format(\n",
    "        group_id, \n",
    "        users_in_group.shape[0],\n",
    "        users_in_group_p_len.mean(),\n",
    "        np.median(users_in_group_p_len),\n",
    "        users_in_group_p_len.min(),\n",
    "        users_in_group_p_len.max()))"
   ]
  },
  {
   "cell_type": "code",
   "execution_count": 15,
   "metadata": {},
   "outputs": [],
   "source": [
    "MAP_recommender_per_group = {}\n",
    "recommender_object_dict = {}\n",
    "\n",
    "recommender_class = {\"rp3beta_recommender\" : rp3beta_recommender,\n",
    "                     #\"KNN_recommender\" : KNN_recommender,\n",
    "                     #\"sslim_recommender\" : sslim_recommender,\n",
    "                     \"slim_elastic_recommender\" : slim_elastic_recommender,\n",
    "                     \"best_reference\" : best_reference,\n",
    "                     #\"knn_rp3_recommender\" : knn_rp3_recommender,\n",
    "                     #\"best_reference\" :best_reference,\n",
    "                     #\"hybrid\" : hybrid,\n",
    "                     #\"hybrid_federico\" : hybrid_federico,\n",
    "                     }\n",
    "\n",
    "\n",
    "for label, recommender_obj in recommender_class.items():\n",
    "    recommender_object_dict[label] = recommender_obj"
   ]
  },
  {
   "cell_type": "code",
   "execution_count": 16,
   "metadata": {},
   "outputs": [
    {
     "name": "stdout",
     "output_type": "stream",
     "text": [
      "Group 0, #users in group 2081, average p.len 5.12, median 5.0, min 0, max 6\n",
      "EvaluatorHoldout: Ignoring 1590 ( 3.8%) Users that have less than 1 test interactions\n",
      "EvaluatorHoldout: Ignoring 39548 Users\n",
      "EvaluatorHoldout: Processed 1916 (100.0%) in 1.23 sec. Users per second: 1554\n",
      "EvaluatorHoldout: Processed 1916 (100.0%) in 1.52 sec. Users per second: 1259\n",
      "EvaluatorHoldout: Processed 1916 (100.0%) in 1.21 sec. Users per second: 1577\n",
      "Group 1, #users in group 2081, average p.len 7.24, median 7.0, min 6, max 8\n",
      "EvaluatorHoldout: Ignoring 1590 ( 3.8%) Users that have less than 1 test interactions\n",
      "EvaluatorHoldout: Ignoring 39548 Users\n",
      "EvaluatorHoldout: Processed 1916 (100.0%) in 1.21 sec. Users per second: 1590\n",
      "EvaluatorHoldout: Processed 1916 (100.0%) in 2.04 sec. Users per second: 938\n",
      "EvaluatorHoldout: Processed 1916 (100.0%) in 1.54 sec. Users per second: 1244\n",
      "Group 2, #users in group 2081, average p.len 8.36, median 8.0, min 8, max 9\n",
      "EvaluatorHoldout: Ignoring 1590 ( 3.8%) Users that have less than 1 test interactions\n",
      "EvaluatorHoldout: Ignoring 39548 Users\n",
      "EvaluatorHoldout: Processed 1916 (100.0%) in 1.39 sec. Users per second: 1375\n",
      "EvaluatorHoldout: Processed 1916 (100.0%) in 1.65 sec. Users per second: 1162\n",
      "EvaluatorHoldout: Processed 1916 (100.0%) in 1.23 sec. Users per second: 1559\n",
      "Group 3, #users in group 2081, average p.len 9.29, median 9.0, min 9, max 10\n",
      "EvaluatorHoldout: Ignoring 1590 ( 3.8%) Users that have less than 1 test interactions\n",
      "EvaluatorHoldout: Ignoring 39548 Users\n",
      "EvaluatorHoldout: Processed 1918 (100.0%) in 1.25 sec. Users per second: 1537\n",
      "EvaluatorHoldout: Processed 1918 (100.0%) in 1.64 sec. Users per second: 1172\n",
      "EvaluatorHoldout: Processed 1918 (100.0%) in 1.25 sec. Users per second: 1532\n",
      "Group 4, #users in group 2081, average p.len 10.14, median 10.0, min 10, max 11\n",
      "EvaluatorHoldout: Ignoring 1590 ( 3.8%) Users that have less than 1 test interactions\n",
      "EvaluatorHoldout: Ignoring 39548 Users\n",
      "EvaluatorHoldout: Processed 1921 (100.0%) in 1.23 sec. Users per second: 1562\n",
      "EvaluatorHoldout: Processed 1921 (100.0%) in 1.71 sec. Users per second: 1123\n",
      "EvaluatorHoldout: Processed 1921 (100.0%) in 1.25 sec. Users per second: 1535\n",
      "Group 5, #users in group 2081, average p.len 11.00, median 11.0, min 11, max 11\n",
      "EvaluatorHoldout: Ignoring 1590 ( 3.8%) Users that have less than 1 test interactions\n",
      "EvaluatorHoldout: Ignoring 39548 Users\n",
      "EvaluatorHoldout: Processed 1958 (100.0%) in 1.24 sec. Users per second: 1578\n",
      "EvaluatorHoldout: Processed 1958 (100.0%) in 1.68 sec. Users per second: 1162\n",
      "EvaluatorHoldout: Processed 1958 (100.0%) in 1.31 sec. Users per second: 1494\n",
      "Group 6, #users in group 2081, average p.len 12.00, median 12.0, min 11, max 12\n",
      "EvaluatorHoldout: Ignoring 1590 ( 3.8%) Users that have less than 1 test interactions\n",
      "EvaluatorHoldout: Ignoring 39548 Users\n",
      "EvaluatorHoldout: Processed 1961 (100.0%) in 1.63 sec. Users per second: 1201\n",
      "EvaluatorHoldout: Processed 1961 (100.0%) in 1.84 sec. Users per second: 1064\n",
      "EvaluatorHoldout: Processed 1961 (100.0%) in 1.27 sec. Users per second: 1539\n",
      "Group 7, #users in group 2081, average p.len 12.86, median 13.0, min 12, max 13\n",
      "EvaluatorHoldout: Ignoring 1590 ( 3.8%) Users that have less than 1 test interactions\n",
      "EvaluatorHoldout: Ignoring 39548 Users\n",
      "EvaluatorHoldout: Processed 1976 (100.0%) in 1.24 sec. Users per second: 1599\n",
      "EvaluatorHoldout: Processed 1976 (100.0%) in 1.77 sec. Users per second: 1116\n",
      "EvaluatorHoldout: Processed 1976 (100.0%) in 1.25 sec. Users per second: 1577\n",
      "Group 8, #users in group 2081, average p.len 13.75, median 14.0, min 13, max 14\n",
      "EvaluatorHoldout: Ignoring 1590 ( 3.8%) Users that have less than 1 test interactions\n",
      "EvaluatorHoldout: Ignoring 39548 Users\n",
      "EvaluatorHoldout: Processed 1983 (100.0%) in 1.30 sec. Users per second: 1526\n",
      "EvaluatorHoldout: Processed 1983 (100.0%) in 1.81 sec. Users per second: 1093\n",
      "EvaluatorHoldout: Processed 1983 (100.0%) in 1.26 sec. Users per second: 1572\n",
      "Group 9, #users in group 2081, average p.len 14.73, median 15.0, min 14, max 15\n",
      "EvaluatorHoldout: Ignoring 1590 ( 3.8%) Users that have less than 1 test interactions\n",
      "EvaluatorHoldout: Ignoring 39548 Users\n",
      "EvaluatorHoldout: Processed 1978 (100.0%) in 1.24 sec. Users per second: 1598\n",
      "EvaluatorHoldout: Processed 1978 (100.0%) in 1.85 sec. Users per second: 1068\n",
      "EvaluatorHoldout: Processed 1978 (100.0%) in 1.25 sec. Users per second: 1579\n",
      "Group 10, #users in group 2081, average p.len 15.80, median 16.0, min 15, max 17\n",
      "EvaluatorHoldout: Ignoring 1590 ( 3.8%) Users that have less than 1 test interactions\n",
      "EvaluatorHoldout: Ignoring 39548 Users\n"
     ]
    },
    {
     "name": "stderr",
     "output_type": "stream",
     "text": [
      "/Users/daniele/Desktop/RecSys/RecSysChallenge2023-Team/Evaluation/metrics.py:276: RuntimeWarning: overflow encountered in power\n",
      "  return np.sum(np.divide(np.power(2, scores) - 1, np.log2(np.arange(scores.shape[0], dtype=np.float64) + 2)),\n"
     ]
    },
    {
     "name": "stdout",
     "output_type": "stream",
     "text": [
      "EvaluatorHoldout: Processed 2023 (100.0%) in 1.25 sec. Users per second: 1616\n"
     ]
    },
    {
     "name": "stderr",
     "output_type": "stream",
     "text": [
      "/Users/daniele/Desktop/RecSys/RecSysChallenge2023-Team/Evaluation/metrics.py:276: RuntimeWarning: overflow encountered in power\n",
      "  return np.sum(np.divide(np.power(2, scores) - 1, np.log2(np.arange(scores.shape[0], dtype=np.float64) + 2)),\n"
     ]
    },
    {
     "name": "stdout",
     "output_type": "stream",
     "text": [
      "EvaluatorHoldout: Processed 2023 (100.0%) in 1.96 sec. Users per second: 1033\n"
     ]
    },
    {
     "name": "stderr",
     "output_type": "stream",
     "text": [
      "/Users/daniele/Desktop/RecSys/RecSysChallenge2023-Team/Evaluation/metrics.py:276: RuntimeWarning: overflow encountered in power\n",
      "  return np.sum(np.divide(np.power(2, scores) - 1, np.log2(np.arange(scores.shape[0], dtype=np.float64) + 2)),\n"
     ]
    },
    {
     "name": "stdout",
     "output_type": "stream",
     "text": [
      "EvaluatorHoldout: Processed 2023 (100.0%) in 1.30 sec. Users per second: 1557\n",
      "Group 11, #users in group 2081, average p.len 17.27, median 17.0, min 17, max 18\n",
      "EvaluatorHoldout: Ignoring 1590 ( 3.8%) Users that have less than 1 test interactions\n",
      "EvaluatorHoldout: Ignoring 39548 Users\n",
      "EvaluatorHoldout: Processed 2017 (100.0%) in 1.31 sec. Users per second: 1541\n",
      "EvaluatorHoldout: Processed 2017 (100.0%) in 2.01 sec. Users per second: 1004\n",
      "EvaluatorHoldout: Processed 2017 (100.0%) in 1.29 sec. Users per second: 1566\n",
      "Group 12, #users in group 2081, average p.len 18.62, median 19.0, min 18, max 20\n",
      "EvaluatorHoldout: Ignoring 1590 ( 3.8%) Users that have less than 1 test interactions\n",
      "EvaluatorHoldout: Ignoring 39548 Users\n",
      "EvaluatorHoldout: Processed 2036 (100.0%) in 1.32 sec. Users per second: 1542\n",
      "EvaluatorHoldout: Processed 2036 (100.0%) in 2.14 sec. Users per second: 952\n",
      "EvaluatorHoldout: Processed 2036 (100.0%) in 1.36 sec. Users per second: 1498\n",
      "Group 13, #users in group 2081, average p.len 20.53, median 20.0, min 20, max 22\n",
      "EvaluatorHoldout: Ignoring 1590 ( 3.8%) Users that have less than 1 test interactions\n",
      "EvaluatorHoldout: Ignoring 39548 Users\n",
      "EvaluatorHoldout: Processed 2056 (100.0%) in 1.29 sec. Users per second: 1596\n",
      "EvaluatorHoldout: Processed 2056 (100.0%) in 2.27 sec. Users per second: 908\n",
      "EvaluatorHoldout: Processed 2056 (100.0%) in 1.37 sec. Users per second: 1504\n",
      "Group 14, #users in group 2081, average p.len 22.81, median 23.0, min 22, max 24\n",
      "EvaluatorHoldout: Ignoring 1590 ( 3.8%) Users that have less than 1 test interactions\n",
      "EvaluatorHoldout: Ignoring 39548 Users\n",
      "EvaluatorHoldout: Processed 2061 (100.0%) in 1.44 sec. Users per second: 1434\n"
     ]
    },
    {
     "name": "stderr",
     "output_type": "stream",
     "text": [
      "/Users/daniele/Desktop/RecSys/RecSysChallenge2023-Team/Evaluation/metrics.py:276: RuntimeWarning: overflow encountered in power\n",
      "  return np.sum(np.divide(np.power(2, scores) - 1, np.log2(np.arange(scores.shape[0], dtype=np.float64) + 2)),\n",
      "/Users/daniele/Desktop/RecSys/RecSysChallenge2023-Team/Evaluation/metrics.py:270: RuntimeWarning: invalid value encountered in double_scalars\n",
      "  ndcg_ = rank_dcg / ideal_dcg\n"
     ]
    },
    {
     "name": "stdout",
     "output_type": "stream",
     "text": [
      "EvaluatorHoldout: Processed 2061 (100.0%) in 2.42 sec. Users per second: 851\n"
     ]
    },
    {
     "name": "stderr",
     "output_type": "stream",
     "text": [
      "/Users/daniele/Desktop/RecSys/RecSysChallenge2023-Team/Evaluation/metrics.py:276: RuntimeWarning: overflow encountered in power\n",
      "  return np.sum(np.divide(np.power(2, scores) - 1, np.log2(np.arange(scores.shape[0], dtype=np.float64) + 2)),\n",
      "/Users/daniele/Desktop/RecSys/RecSysChallenge2023-Team/Evaluation/metrics.py:270: RuntimeWarning: invalid value encountered in double_scalars\n",
      "  ndcg_ = rank_dcg / ideal_dcg\n"
     ]
    },
    {
     "name": "stdout",
     "output_type": "stream",
     "text": [
      "EvaluatorHoldout: Processed 2061 (100.0%) in 1.38 sec. Users per second: 1493\n"
     ]
    },
    {
     "name": "stderr",
     "output_type": "stream",
     "text": [
      "/Users/daniele/Desktop/RecSys/RecSysChallenge2023-Team/Evaluation/metrics.py:276: RuntimeWarning: overflow encountered in power\n",
      "  return np.sum(np.divide(np.power(2, scores) - 1, np.log2(np.arange(scores.shape[0], dtype=np.float64) + 2)),\n",
      "/Users/daniele/Desktop/RecSys/RecSysChallenge2023-Team/Evaluation/metrics.py:270: RuntimeWarning: invalid value encountered in double_scalars\n",
      "  ndcg_ = rank_dcg / ideal_dcg\n"
     ]
    },
    {
     "name": "stdout",
     "output_type": "stream",
     "text": [
      "Group 15, #users in group 2081, average p.len 25.56, median 26.0, min 24, max 27\n",
      "EvaluatorHoldout: Ignoring 1590 ( 3.8%) Users that have less than 1 test interactions\n",
      "EvaluatorHoldout: Ignoring 39548 Users\n",
      "EvaluatorHoldout: Processed 2074 (100.0%) in 1.32 sec. Users per second: 1570\n"
     ]
    },
    {
     "name": "stderr",
     "output_type": "stream",
     "text": [
      "/Users/daniele/Desktop/RecSys/RecSysChallenge2023-Team/Evaluation/metrics.py:276: RuntimeWarning: overflow encountered in power\n",
      "  return np.sum(np.divide(np.power(2, scores) - 1, np.log2(np.arange(scores.shape[0], dtype=np.float64) + 2)),\n"
     ]
    },
    {
     "name": "stdout",
     "output_type": "stream",
     "text": [
      "EvaluatorHoldout: Processed 2074 (100.0%) in 2.31 sec. Users per second: 898\n"
     ]
    },
    {
     "name": "stderr",
     "output_type": "stream",
     "text": [
      "/Users/daniele/Desktop/RecSys/RecSysChallenge2023-Team/Evaluation/metrics.py:276: RuntimeWarning: overflow encountered in power\n",
      "  return np.sum(np.divide(np.power(2, scores) - 1, np.log2(np.arange(scores.shape[0], dtype=np.float64) + 2)),\n"
     ]
    },
    {
     "name": "stdout",
     "output_type": "stream",
     "text": [
      "EvaluatorHoldout: Processed 2074 (100.0%) in 1.40 sec. Users per second: 1482\n",
      "Group 16, #users in group 2081, average p.len 29.25, median 29.0, min 27, max 32\n",
      "EvaluatorHoldout: Ignoring 1590 ( 3.8%) Users that have less than 1 test interactions\n",
      "EvaluatorHoldout: Ignoring 39548 Users\n",
      "EvaluatorHoldout: Processed 2079 (100.0%) in 1.37 sec. Users per second: 1513\n",
      "EvaluatorHoldout: Processed 2079 (100.0%) in 2.34 sec. Users per second: 887\n",
      "EvaluatorHoldout: Processed 2079 (100.0%) in 1.38 sec. Users per second: 1509\n",
      "Group 17, #users in group 2081, average p.len 34.76, median 35.0, min 32, max 38\n",
      "EvaluatorHoldout: Ignoring 1590 ( 3.8%) Users that have less than 1 test interactions\n",
      "EvaluatorHoldout: Ignoring 39548 Users\n",
      "EvaluatorHoldout: Processed 2079 (100.0%) in 1.35 sec. Users per second: 1545\n",
      "EvaluatorHoldout: Processed 2079 (100.0%) in 2.40 sec. Users per second: 868\n",
      "EvaluatorHoldout: Processed 2079 (100.0%) in 1.40 sec. Users per second: 1488\n",
      "Group 18, #users in group 2081, average p.len 43.55, median 43.0, min 38, max 50\n",
      "EvaluatorHoldout: Ignoring 1590 ( 3.8%) Users that have less than 1 test interactions\n",
      "EvaluatorHoldout: Ignoring 39548 Users\n",
      "EvaluatorHoldout: Processed 2081 (100.0%) in 1.38 sec. Users per second: 1508\n"
     ]
    },
    {
     "name": "stderr",
     "output_type": "stream",
     "text": [
      "/Users/daniele/Desktop/RecSys/RecSysChallenge2023-Team/Evaluation/metrics.py:276: RuntimeWarning: overflow encountered in power\n",
      "  return np.sum(np.divide(np.power(2, scores) - 1, np.log2(np.arange(scores.shape[0], dtype=np.float64) + 2)),\n"
     ]
    },
    {
     "name": "stdout",
     "output_type": "stream",
     "text": [
      "EvaluatorHoldout: Processed 2081 (100.0%) in 2.59 sec. Users per second: 802\n"
     ]
    },
    {
     "name": "stderr",
     "output_type": "stream",
     "text": [
      "/Users/daniele/Desktop/RecSys/RecSysChallenge2023-Team/Evaluation/metrics.py:276: RuntimeWarning: overflow encountered in power\n",
      "  return np.sum(np.divide(np.power(2, scores) - 1, np.log2(np.arange(scores.shape[0], dtype=np.float64) + 2)),\n"
     ]
    },
    {
     "name": "stdout",
     "output_type": "stream",
     "text": [
      "EvaluatorHoldout: Processed 2081 (100.0%) in 1.42 sec. Users per second: 1469\n"
     ]
    },
    {
     "name": "stderr",
     "output_type": "stream",
     "text": [
      "/Users/daniele/Desktop/RecSys/RecSysChallenge2023-Team/Evaluation/metrics.py:276: RuntimeWarning: overflow encountered in power\n",
      "  return np.sum(np.divide(np.power(2, scores) - 1, np.log2(np.arange(scores.shape[0], dtype=np.float64) + 2)),\n"
     ]
    },
    {
     "name": "stdout",
     "output_type": "stream",
     "text": [
      "Group 19, #users in group 2081, average p.len 70.62, median 63.0, min 50, max 227\n",
      "EvaluatorHoldout: Ignoring 1590 ( 3.8%) Users that have less than 1 test interactions\n",
      "EvaluatorHoldout: Ignoring 39548 Users\n"
     ]
    },
    {
     "name": "stderr",
     "output_type": "stream",
     "text": [
      "/Users/daniele/Desktop/RecSys/RecSysChallenge2023-Team/Evaluation/metrics.py:276: RuntimeWarning: overflow encountered in power\n",
      "  return np.sum(np.divide(np.power(2, scores) - 1, np.log2(np.arange(scores.shape[0], dtype=np.float64) + 2)),\n"
     ]
    },
    {
     "name": "stdout",
     "output_type": "stream",
     "text": [
      "EvaluatorHoldout: Processed 2081 (100.0%) in 1.49 sec. Users per second: 1398\n"
     ]
    },
    {
     "name": "stderr",
     "output_type": "stream",
     "text": [
      "/Users/daniele/Desktop/RecSys/RecSysChallenge2023-Team/Evaluation/metrics.py:276: RuntimeWarning: overflow encountered in power\n",
      "  return np.sum(np.divide(np.power(2, scores) - 1, np.log2(np.arange(scores.shape[0], dtype=np.float64) + 2)),\n"
     ]
    },
    {
     "name": "stdout",
     "output_type": "stream",
     "text": [
      "EvaluatorHoldout: Processed 2081 (100.0%) in 2.78 sec. Users per second: 749\n"
     ]
    },
    {
     "name": "stderr",
     "output_type": "stream",
     "text": [
      "/Users/daniele/Desktop/RecSys/RecSysChallenge2023-Team/Evaluation/metrics.py:276: RuntimeWarning: overflow encountered in power\n",
      "  return np.sum(np.divide(np.power(2, scores) - 1, np.log2(np.arange(scores.shape[0], dtype=np.float64) + 2)),\n"
     ]
    },
    {
     "name": "stdout",
     "output_type": "stream",
     "text": [
      "EvaluatorHoldout: Processed 2081 (100.0%) in 1.50 sec. Users per second: 1391\n"
     ]
    }
   ],
   "source": [
    "cutoff = 10\n",
    "\n",
    "for group_id in range(0, 20):\n",
    "    \n",
    "    start_pos = group_id*block_size\n",
    "    end_pos = min((group_id+1)*block_size, len(profile_length))\n",
    "    \n",
    "    users_in_group = sorted_users[start_pos:end_pos]\n",
    "    \n",
    "    users_in_group_p_len = profile_length[users_in_group]\n",
    "    \n",
    "    print(\"Group {}, #users in group {}, average p.len {:.2f}, median {}, min {}, max {}\".format(\n",
    "        group_id, \n",
    "        users_in_group.shape[0],\n",
    "        users_in_group_p_len.mean(),\n",
    "        np.median(users_in_group_p_len),\n",
    "        users_in_group_p_len.min(),\n",
    "        users_in_group_p_len.max()))\n",
    "    \n",
    "    \n",
    "    users_not_in_group_flag = np.isin(sorted_users, users_in_group, invert=True)\n",
    "    users_not_in_group = sorted_users[users_not_in_group_flag]\n",
    "    \n",
    "    evaluator_test = EvaluatorHoldout(URMv_test, cutoff_list=[cutoff], ignore_users=users_not_in_group)\n",
    "    \n",
    "    for label, recommender in recommender_object_dict.items():\n",
    "        result_df, _ = evaluator_test.evaluateRecommender(recommender)\n",
    "        if label in MAP_recommender_per_group:\n",
    "            MAP_recommender_per_group[label].append(result_df.loc[cutoff][\"MAP\"])\n",
    "        else:\n",
    "            MAP_recommender_per_group[label] = [result_df.loc[cutoff][\"MAP\"]]"
   ]
  },
  {
   "cell_type": "code",
   "execution_count": 17,
   "metadata": {},
   "outputs": [
    {
     "data": {
      "image/png": "[encoded data removed]",
      "text/plain": [
       "<Figure size 1400x1400 with 1 Axes>"
      ]
     },
     "metadata": {},
     "output_type": "display_data"
    }
   ],
   "source": [
    "import matplotlib.pyplot as plt\n",
    "%matplotlib inline  \n",
    "\n",
    "_ = plt.figure(figsize=(14, 14))\n",
    "for label, recommender in recommender_object_dict.items():\n",
    "    results = MAP_recommender_per_group[label]\n",
    "    plt.scatter(x=np.arange(0,len(results)), y=results, label=label,)\n",
    "plt.ylabel('MAP')\n",
    "plt.xlabel('User Group')\n",
    "plt.legend()\n",
    "plt.show()"
   ]
  },
  {
   "attachments": {},
   "cell_type": "markdown",
   "metadata": {},
   "source": [
    "### Evaluation"
   ]
  },
  {
   "cell_type": "code",
   "execution_count": 18,
   "metadata": {},
   "outputs": [
    {
     "name": "stdout",
     "output_type": "stream",
     "text": [
      "EvaluatorHoldout: Ignoring 1590 ( 3.8%) Users that have less than 1 test interactions\n"
     ]
    },
    {
     "ename": "AttributeError",
     "evalue": "'SSLIMRP3BetaKNNRecommender' object has no attribute 'peso_3'",
     "output_type": "error",
     "traceback": [
      "\u001b[0;31m---------------------------------------------------------------------------\u001b[0m",
      "\u001b[0;31mAttributeError\u001b[0m                            Traceback (most recent call last)",
      "\u001b[1;32m/Users/daniele/Desktop/RecSys/RecSysChallenge2023-Team/Daniele/Recommenders/Hybrid_KNN_RP3Beta_SSLIM_Elastic/analysis.ipynb Cell 30\u001b[0m in \u001b[0;36m<cell line: 2>\u001b[0;34m()\u001b[0m\n\u001b[1;32m      <a href='vscode-notebook-cell:/Users/daniele/Desktop/RecSys/RecSysChallenge2023-Team/Daniele/Recommenders/Hybrid_KNN_RP3Beta_SSLIM_Elastic/analysis.ipynb#X41sZmlsZQ%3D%3D?line=0'>1</a>\u001b[0m evaluator_test \u001b[39m=\u001b[39m EvaluatorHoldout(URMv_test, [\u001b[39m10\u001b[39m])\n\u001b[0;32m----> <a href='vscode-notebook-cell:/Users/daniele/Desktop/RecSys/RecSysChallenge2023-Team/Daniele/Recommenders/Hybrid_KNN_RP3Beta_SSLIM_Elastic/analysis.ipynb#X41sZmlsZQ%3D%3D?line=1'>2</a>\u001b[0m ris, _ \u001b[39m=\u001b[39m evaluator_test\u001b[39m.\u001b[39;49mevaluateRecommender(hybrid)\n\u001b[1;32m      <a href='vscode-notebook-cell:/Users/daniele/Desktop/RecSys/RecSysChallenge2023-Team/Daniele/Recommenders/Hybrid_KNN_RP3Beta_SSLIM_Elastic/analysis.ipynb#X41sZmlsZQ%3D%3D?line=2'>3</a>\u001b[0m ris\n",
      "File \u001b[0;32m~/Desktop/RecSys/RecSysChallenge2023-Team/Evaluation/Evaluator.py:276\u001b[0m, in \u001b[0;36mEvaluator.evaluateRecommender\u001b[0;34m(self, recommender_object)\u001b[0m\n\u001b[1;32m    273\u001b[0m \u001b[39mself\u001b[39m\u001b[39m.\u001b[39m_start_time_print \u001b[39m=\u001b[39m time\u001b[39m.\u001b[39mtime()\n\u001b[1;32m    274\u001b[0m \u001b[39mself\u001b[39m\u001b[39m.\u001b[39m_n_users_evaluated \u001b[39m=\u001b[39m \u001b[39m0\u001b[39m\n\u001b[0;32m--> 276\u001b[0m results_dict \u001b[39m=\u001b[39m \u001b[39mself\u001b[39;49m\u001b[39m.\u001b[39;49m_run_evaluation_on_selected_users(recommender_object, \u001b[39mself\u001b[39;49m\u001b[39m.\u001b[39;49musers_to_evaluate)\n\u001b[1;32m    279\u001b[0m \u001b[39mif\u001b[39;00m \u001b[39mself\u001b[39m\u001b[39m.\u001b[39m_n_users_evaluated \u001b[39m>\u001b[39m \u001b[39m0\u001b[39m:\n\u001b[1;32m    281\u001b[0m     \u001b[39mfor\u001b[39;00m cutoff \u001b[39min\u001b[39;00m \u001b[39mself\u001b[39m\u001b[39m.\u001b[39mcutoff_list:\n",
      "File \u001b[0;32m~/Desktop/RecSys/RecSysChallenge2023-Team/Evaluation/Evaluator.py:476\u001b[0m, in \u001b[0;36mEvaluatorHoldout._run_evaluation_on_selected_users\u001b[0;34m(self, recommender_object, users_to_evaluate, block_size)\u001b[0m\n\u001b[1;32m    473\u001b[0m     user_batch_start \u001b[39m=\u001b[39m user_batch_end\n\u001b[1;32m    475\u001b[0m     \u001b[39m# Compute predictions for a batch of users using vectorization, much more efficient than computing it one at a time\u001b[39;00m\n\u001b[0;32m--> 476\u001b[0m     recommended_items_batch_list, scores_batch \u001b[39m=\u001b[39m recommender_object\u001b[39m.\u001b[39;49mrecommend(test_user_batch_array,\n\u001b[1;32m    477\u001b[0m                                                               remove_seen_flag\u001b[39m=\u001b[39;49m\u001b[39mself\u001b[39;49m\u001b[39m.\u001b[39;49mexclude_seen,\n\u001b[1;32m    478\u001b[0m                                                               cutoff \u001b[39m=\u001b[39;49m \u001b[39mself\u001b[39;49m\u001b[39m.\u001b[39;49mmax_cutoff,\n\u001b[1;32m    479\u001b[0m                                                               remove_top_pop_flag\u001b[39m=\u001b[39;49m\u001b[39mFalse\u001b[39;49;00m,\n\u001b[1;32m    480\u001b[0m                                                               remove_custom_items_flag\u001b[39m=\u001b[39;49m\u001b[39mself\u001b[39;49m\u001b[39m.\u001b[39;49mignore_items_flag,\n\u001b[1;32m    481\u001b[0m                                                               return_scores \u001b[39m=\u001b[39;49m \u001b[39mTrue\u001b[39;49;00m\n\u001b[1;32m    482\u001b[0m                                                              )\n\u001b[1;32m    484\u001b[0m     results_dict \u001b[39m=\u001b[39m \u001b[39mself\u001b[39m\u001b[39m.\u001b[39m_compute_metrics_on_recommendation_list(test_user_batch_array \u001b[39m=\u001b[39m test_user_batch_array,\n\u001b[1;32m    485\u001b[0m                                                  recommended_items_batch_list \u001b[39m=\u001b[39m recommended_items_batch_list,\n\u001b[1;32m    486\u001b[0m                                                  scores_batch \u001b[39m=\u001b[39m scores_batch,\n\u001b[1;32m    487\u001b[0m                                                  results_dict \u001b[39m=\u001b[39m results_dict)\n\u001b[1;32m    490\u001b[0m \u001b[39mreturn\u001b[39;00m results_dict\n",
      "File \u001b[0;32m~/Desktop/RecSys/RecSysChallenge2023-Team/Recommenders/BaseRecommender.py:147\u001b[0m, in \u001b[0;36mBaseRecommender.recommend\u001b[0;34m(self, user_id_array, cutoff, remove_seen_flag, items_to_compute, remove_top_pop_flag, remove_custom_items_flag, return_scores)\u001b[0m\n\u001b[1;32m    143\u001b[0m cutoff \u001b[39m=\u001b[39m \u001b[39mmin\u001b[39m(cutoff, \u001b[39mself\u001b[39m\u001b[39m.\u001b[39mURM_train\u001b[39m.\u001b[39mshape[\u001b[39m1\u001b[39m] \u001b[39m-\u001b[39m \u001b[39m1\u001b[39m)\n\u001b[1;32m    145\u001b[0m \u001b[39m# Compute the scores using the model-specific function\u001b[39;00m\n\u001b[1;32m    146\u001b[0m \u001b[39m# Vectorize over all users in user_id_array\u001b[39;00m\n\u001b[0;32m--> 147\u001b[0m scores_batch \u001b[39m=\u001b[39m \u001b[39mself\u001b[39;49m\u001b[39m.\u001b[39;49m_compute_item_score(user_id_array, items_to_compute\u001b[39m=\u001b[39;49mitems_to_compute)\n\u001b[1;32m    150\u001b[0m \u001b[39mfor\u001b[39;00m user_index \u001b[39min\u001b[39;00m \u001b[39mrange\u001b[39m(\u001b[39mlen\u001b[39m(user_id_array)):\n\u001b[1;32m    152\u001b[0m     user_id \u001b[39m=\u001b[39m user_id_array[user_index]\n",
      "File \u001b[0;32m~/Desktop/RecSys/RecSysChallenge2023-Team/Daniele/Recommenders/Hybrid_KNN_RP3Beta_SSLIM_Elastic/hybrid.py:118\u001b[0m, in \u001b[0;36mSSLIMRP3BetaKNNRecommender._compute_item_score\u001b[0;34m(self, user_id_array, items_to_compute)\u001b[0m\n\u001b[1;32m    115\u001b[0m     w2 \u001b[39m=\u001b[39m \u001b[39mself\u001b[39m\u001b[39m.\u001b[39mslim_combo\u001b[39m.\u001b[39m_compute_item_score([user_id_array[i]])\n\u001b[1;32m    116\u001b[0m     w2 \u001b[39m=\u001b[39m w2 \u001b[39m/\u001b[39m np\u001b[39m.\u001b[39mlinalg\u001b[39m.\u001b[39mnorm(w2, \u001b[39m2\u001b[39m)\n\u001b[0;32m--> 118\u001b[0m     item_weights[i,:] \u001b[39m=\u001b[39m \u001b[39mself\u001b[39;49m\u001b[39m.\u001b[39;49mpeso_3 \u001b[39m*\u001b[39m w2 \u001b[39m+\u001b[39m \u001b[39mself\u001b[39m\u001b[39m.\u001b[39mpeso_4 \u001b[39m*\u001b[39m w1\n\u001b[1;32m    120\u001b[0m \u001b[39melse\u001b[39;00m:\n\u001b[1;32m    121\u001b[0m     \u001b[39mprint\u001b[39m(\u001b[39m\"\u001b[39m\u001b[39mtopPop\u001b[39m\u001b[39m\"\u001b[39m)\n",
      "\u001b[0;31mAttributeError\u001b[0m: 'SSLIMRP3BetaKNNRecommender' object has no attribute 'peso_3'"
     ]
    }
   ],
   "source": [
    "evaluator_test = EvaluatorHoldout(URMv_test, [10])\n",
    "ris, _ = evaluator_test.evaluateRecommender(hybrid)\n",
    "ris"
   ]
  },
  {
   "attachments": {},
   "cell_type": "markdown",
   "metadata": {},
   "source": [
    "\n",
    "### Reference "
   ]
  },
  {
   "cell_type": "code",
   "execution_count": null,
   "metadata": {},
   "outputs": [
    {
     "name": "stdout",
     "output_type": "stream",
     "text": [
      "EvaluatorHoldout: Ignoring 1590 ( 3.8%) Users that have less than 1 test interactions\n"
     ]
    },
    {
     "name": "stderr",
     "output_type": "stream",
     "text": [
      "/Users/daniele/Desktop/RecSys/RecSysChallenge2023-Team/Evaluation/metrics.py:276: RuntimeWarning: overflow encountered in power\n",
      "  return np.sum(np.divide(np.power(2, scores) - 1, np.log2(np.arange(scores.shape[0], dtype=np.float64) + 2)),\n"
     ]
    },
    {
     "name": "stdout",
     "output_type": "stream",
     "text": [
      "EvaluatorHoldout: Processed 29000 (72.4%) in 5.12 min. Users per second: 94\n"
     ]
    },
    {
     "name": "stderr",
     "output_type": "stream",
     "text": [
      "/Users/daniele/Desktop/RecSys/RecSysChallenge2023-Team/Evaluation/metrics.py:270: RuntimeWarning: invalid value encountered in double_scalars\n",
      "  ndcg_ = rank_dcg / ideal_dcg\n"
     ]
    },
    {
     "name": "stdout",
     "output_type": "stream",
     "text": [
      "EvaluatorHoldout: Processed 40039 (100.0%) in 10.00 min. Users per second: 67\n"
     ]
    },
    {
     "data": {
      "text/html": [
       "<div>\n",
       "<style scoped>\n",
       "    .dataframe tbody tr th:only-of-type {\n",
       "        vertical-align: middle;\n",
       "    }\n",
       "\n",
       "    .dataframe tbody tr th {\n",
       "        vertical-align: top;\n",
       "    }\n",
       "\n",
       "    .dataframe thead th {\n",
       "        text-align: right;\n",
       "    }\n",
       "</style>\n",
       "<table border=\"1\" class=\"dataframe\">\n",
       "  <thead>\n",
       "    <tr style=\"text-align: right;\">\n",
       "      <th></th>\n",
       "      <th>PRECISION</th>\n",
       "      <th>PRECISION_RECALL_MIN_DEN</th>\n",
       "      <th>RECALL</th>\n",
       "      <th>MAP</th>\n",
       "      <th>MAP_MIN_DEN</th>\n",
       "      <th>MRR</th>\n",
       "      <th>NDCG</th>\n",
       "      <th>F1</th>\n",
       "      <th>HIT_RATE</th>\n",
       "      <th>ARHR_ALL_HITS</th>\n",
       "      <th>...</th>\n",
       "      <th>COVERAGE_USER</th>\n",
       "      <th>COVERAGE_USER_HIT</th>\n",
       "      <th>USERS_IN_GT</th>\n",
       "      <th>DIVERSITY_GINI</th>\n",
       "      <th>SHANNON_ENTROPY</th>\n",
       "      <th>RATIO_DIVERSITY_HERFINDAHL</th>\n",
       "      <th>RATIO_DIVERSITY_GINI</th>\n",
       "      <th>RATIO_SHANNON_ENTROPY</th>\n",
       "      <th>RATIO_AVERAGE_POPULARITY</th>\n",
       "      <th>RATIO_NOVELTY</th>\n",
       "    </tr>\n",
       "    <tr>\n",
       "      <th>cutoff</th>\n",
       "      <th></th>\n",
       "      <th></th>\n",
       "      <th></th>\n",
       "      <th></th>\n",
       "      <th></th>\n",
       "      <th></th>\n",
       "      <th></th>\n",
       "      <th></th>\n",
       "      <th></th>\n",
       "      <th></th>\n",
       "      <th></th>\n",
       "      <th></th>\n",
       "      <th></th>\n",
       "      <th></th>\n",
       "      <th></th>\n",
       "      <th></th>\n",
       "      <th></th>\n",
       "      <th></th>\n",
       "      <th></th>\n",
       "      <th></th>\n",
       "      <th></th>\n",
       "    </tr>\n",
       "  </thead>\n",
       "  <tbody>\n",
       "    <tr>\n",
       "      <th>10</th>\n",
       "      <td>0.043135</td>\n",
       "      <td>0.072653</td>\n",
       "      <td>0.068078</td>\n",
       "      <td>0.021569</td>\n",
       "      <td>0.0356</td>\n",
       "      <td>0.141778</td>\n",
       "      <td>NaN</td>\n",
       "      <td>0.05281</td>\n",
       "      <td>0.283199</td>\n",
       "      <td>0.173188</td>\n",
       "      <td>...</td>\n",
       "      <td>0.961805</td>\n",
       "      <td>0.272382</td>\n",
       "      <td>0.961805</td>\n",
       "      <td>0.020852</td>\n",
       "      <td>9.120043</td>\n",
       "      <td>0.995264</td>\n",
       "      <td>0.04768</td>\n",
       "      <td>0.678179</td>\n",
       "      <td>3.535049</td>\n",
       "      <td>0.271322</td>\n",
       "    </tr>\n",
       "  </tbody>\n",
       "</table>\n",
       "<p>1 rows × 27 columns</p>\n",
       "</div>"
      ],
      "text/plain": [
       "       PRECISION PRECISION_RECALL_MIN_DEN    RECALL       MAP MAP_MIN_DEN  \\\n",
       "cutoff                                                                      \n",
       "10      0.043135                 0.072653  0.068078  0.021569      0.0356   \n",
       "\n",
       "             MRR NDCG       F1  HIT_RATE ARHR_ALL_HITS  ... COVERAGE_USER  \\\n",
       "cutoff                                                  ...                 \n",
       "10      0.141778  NaN  0.05281  0.283199      0.173188  ...      0.961805   \n",
       "\n",
       "       COVERAGE_USER_HIT USERS_IN_GT DIVERSITY_GINI SHANNON_ENTROPY  \\\n",
       "cutoff                                                                \n",
       "10              0.272382    0.961805       0.020852        9.120043   \n",
       "\n",
       "       RATIO_DIVERSITY_HERFINDAHL RATIO_DIVERSITY_GINI RATIO_SHANNON_ENTROPY  \\\n",
       "cutoff                                                                         \n",
       "10                       0.995264              0.04768              0.678179   \n",
       "\n",
       "       RATIO_AVERAGE_POPULARITY RATIO_NOVELTY  \n",
       "cutoff                                         \n",
       "10                     3.535049      0.271322  \n",
       "\n",
       "[1 rows x 27 columns]"
      ]
     },
     "execution_count": 19,
     "metadata": {},
     "output_type": "execute_result"
    }
   ],
   "source": [
    "evaluator_test = EvaluatorHoldout(URMv_test, [10])\n",
    "ris, _ = evaluator_test.evaluateRecommender(hybrid_federico)\n",
    "ris"
   ]
  }
 ],
 "metadata": {
  "kernelspec": {
   "display_name": "base",
   "language": "python",
   "name": "python3"
  },
  "language_info": {
   "codemirror_mode": {
    "name": "ipython",
    "version": 3
   },
   "file_extension": ".py",
   "mimetype": "text/x-python",
   "name": "python",
   "nbconvert_exporter": "python",
   "pygments_lexer": "ipython3",
   "version": "3.9.13"
  },
  "orig_nbformat": 4,
  "vscode": {
   "interpreter": {
    "hash": "6e76083d1a5f4c0027e70cf105b7627b1b5e567462449feedfd1ad9407b42e24"
   }
  }
 },
 "nbformat": 4,
 "nbformat_minor": 2
}
