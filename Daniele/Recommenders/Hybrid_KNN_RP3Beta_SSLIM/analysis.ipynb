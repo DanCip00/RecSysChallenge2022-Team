{
 "cells": [
  {
   "cell_type": "code",
   "execution_count": 1,
   "metadata": {},
   "outputs": [],
   "source": [
    "import os \n",
    "import sys\n",
    "while os.path.split(os.getcwd())[1] != 'RecSysChallenge2023-Team':\n",
    "    os.chdir('..')\n",
    "sys.path.insert(1, os.getcwd())\n",
    "\n",
    "import numpy as np "
   ]
  },
  {
   "cell_type": "markdown",
   "metadata": {},
   "source": []
  },
  {
   "cell_type": "code",
   "execution_count": 2,
   "metadata": {},
   "outputs": [],
   "source": [
    "import random\n",
    "# Random seed for reproducibility\n",
    "seed = 42\n",
    "\n",
    "random.seed(seed)\n",
    "os.environ['PYTHONHASHSEED'] = str(seed)\n",
    "np.random.seed(seed=seed)\n"
   ]
  },
  {
   "cell_type": "code",
   "execution_count": 3,
   "metadata": {},
   "outputs": [
    {
     "name": "stdout",
     "output_type": "stream",
     "text": [
      "/Users/daniele/Desktop/RecSys/RecSysChallenge2023-Team\n",
      "Warning: 1596 (3.83 %) of 41629 users have no sampled items\n"
     ]
    },
    {
     "name": "stderr",
     "output_type": "stream",
     "text": [
      "100%|██████████| 27968/27968 [00:01<00:00, 16654.73it/s]\n",
      "100%|██████████| 841462/841462 [00:00<00:00, 1774144.10it/s]\n",
      "100%|██████████| 27968/27968 [00:01<00:00, 18448.60it/s]\n",
      "100%|██████████| 663370/663370 [00:00<00:00, 1700938.90it/s]\n",
      "100%|██████████| 27968/27968 [00:01<00:00, 16679.31it/s]\n",
      "100%|██████████| 841462/841462 [00:00<00:00, 1773907.79it/s]\n",
      "100%|██████████| 27968/27968 [00:01<00:00, 21076.61it/s]\n",
      "100%|██████████| 663370/663370 [00:00<00:00, 1814255.86it/s]\n"
     ]
    }
   ],
   "source": [
    "from Data_manager.split_functions.split_train_validation_random_holdout import split_train_in_two_percentage_global_sample\n",
    "from Evaluation.Evaluator import EvaluatorHoldout\n",
    "\n",
    "import Daniele.Utils.MyDataManager as dm \n",
    "import Daniele.Utils.MatrixManipulation as mm\n",
    "\n",
    "URMv = dm.getURMviews()\n",
    "URMo = dm.getURMopen()\n",
    "ICMt=dm.getICMt()\n",
    "ICMl=dm.getICMl()\n",
    "\n",
    "\n",
    "URMv_train, URMv_test = split_train_in_two_percentage_global_sample(URMv, train_percentage = 0.80)\n",
    "\n",
    "\n",
    "urm_def = mm.defaultExplicitURM(urmv=URMv_train,urmo=URMo,icml=ICMl,icmt=ICMt, normalize=True, add_aug=True,appendICM=True)\n",
    "urm_bin = mm.defaultExplicitURM(urmv=URMv_train,urmo=URMo, normalize=False, add_aug=True)\n",
    "urm_bin.data = np.ones(len(urm_bin.data))\n",
    "\n",
    "path_save= \"Daniele/Recommenders/Hybrid_KNN_RP3Beta_SSLIM/saved_models\""
   ]
  },
  {
   "attachments": {},
   "cell_type": "markdown",
   "metadata": {},
   "source": [
    "### SSLIIM"
   ]
  },
  {
   "cell_type": "code",
   "execution_count": 4,
   "metadata": {},
   "outputs": [
    {
     "name": "stdout",
     "output_type": "stream",
     "text": [
      "SLIM_BPR_Recommender: URM Detected 2 ( 0.0%) users with no interactions.\n",
      "Unable to read memory status: list index out of range\n",
      "SLIM_BPR_Recommender: Automatic selection of fastest train mode. Unable to get current RAM status, you may be using a non-Linux operating system. Using dense matrix.\n"
     ]
    },
    {
     "name": "stderr",
     "output_type": "stream",
     "text": [
      "/bin/sh: free: command not found\n"
     ]
    },
    {
     "name": "stdout",
     "output_type": "stream",
     "text": [
      "Processed 70367 (100.0%) in 0.29 sec. BPR loss is 8.13E-01. Sample per second: 246633\n",
      "SLIM_BPR_Recommender: Epoch 1 of 25. Elapsed time 0.28 sec\n",
      "Processed 70367 (100.0%) in 0.43 sec. BPR loss is 3.07E+00. Sample per second: 162283\n",
      "SLIM_BPR_Recommender: Epoch 2 of 25. Elapsed time 0.42 sec\n",
      "Processed 70367 (100.0%) in 0.58 sec. BPR loss is 5.58E+00. Sample per second: 121723\n",
      "SLIM_BPR_Recommender: Epoch 3 of 25. Elapsed time 0.57 sec\n",
      "Processed 70367 (100.0%) in 0.72 sec. BPR loss is 7.40E+00. Sample per second: 97950\n",
      "SLIM_BPR_Recommender: Epoch 4 of 25. Elapsed time 0.71 sec\n",
      "Processed 70367 (100.0%) in 0.86 sec. BPR loss is 9.09E+00. Sample per second: 81519\n",
      "SLIM_BPR_Recommender: Epoch 5 of 25. Elapsed time 0.85 sec\n",
      "Processed 70367 (100.0%) in 1.00 sec. BPR loss is 1.16E+01. Sample per second: 70153\n",
      "SLIM_BPR_Recommender: Epoch 6 of 25. Elapsed time 0.99 sec\n",
      "Processed 70367 (100.0%) in 0.15 sec. BPR loss is 1.30E+01. Sample per second: 476444\n",
      "SLIM_BPR_Recommender: Epoch 7 of 25. Elapsed time 1.14 sec\n",
      "Processed 70367 (100.0%) in 0.29 sec. BPR loss is 1.48E+01. Sample per second: 241508\n",
      "SLIM_BPR_Recommender: Epoch 8 of 25. Elapsed time 1.28 sec\n",
      "Processed 70367 (100.0%) in 0.43 sec. BPR loss is 1.71E+01. Sample per second: 162886\n",
      "SLIM_BPR_Recommender: Epoch 9 of 25. Elapsed time 1.42 sec\n",
      "Processed 70367 (100.0%) in 0.57 sec. BPR loss is 1.87E+01. Sample per second: 122493\n",
      "SLIM_BPR_Recommender: Epoch 10 of 25. Elapsed time 1.56 sec\n",
      "Processed 70367 (100.0%) in 0.72 sec. BPR loss is 2.04E+01. Sample per second: 98189\n",
      "SLIM_BPR_Recommender: Epoch 11 of 25. Elapsed time 1.71 sec\n",
      "Processed 70367 (100.0%) in 0.86 sec. BPR loss is 2.35E+01. Sample per second: 82193\n",
      "SLIM_BPR_Recommender: Epoch 12 of 25. Elapsed time 1.85 sec\n",
      "Processed 70367 (100.0%) in 1.00 sec. BPR loss is 2.37E+01. Sample per second: 70357\n",
      "SLIM_BPR_Recommender: Epoch 13 of 25. Elapsed time 1.99 sec\n",
      "Processed 70367 (100.0%) in 0.14 sec. BPR loss is 2.54E+01. Sample per second: 494967\n",
      "SLIM_BPR_Recommender: Epoch 14 of 25. Elapsed time 2.13 sec\n",
      "Processed 70367 (100.0%) in 0.28 sec. BPR loss is 2.75E+01. Sample per second: 246939\n",
      "SLIM_BPR_Recommender: Epoch 15 of 25. Elapsed time 2.28 sec\n",
      "Processed 70367 (100.0%) in 0.43 sec. BPR loss is 2.96E+01. Sample per second: 161774\n",
      "SLIM_BPR_Recommender: Epoch 16 of 25. Elapsed time 2.43 sec\n",
      "Processed 70367 (100.0%) in 0.58 sec. BPR loss is 3.10E+01. Sample per second: 120900\n",
      "SLIM_BPR_Recommender: Epoch 17 of 25. Elapsed time 2.57 sec\n",
      "Processed 70367 (100.0%) in 0.74 sec. BPR loss is 3.22E+01. Sample per second: 95427\n",
      "SLIM_BPR_Recommender: Epoch 18 of 25. Elapsed time 2.73 sec\n",
      "Processed 70367 (100.0%) in 0.89 sec. BPR loss is 3.42E+01. Sample per second: 78977\n",
      "SLIM_BPR_Recommender: Epoch 19 of 25. Elapsed time 2.88 sec\n",
      "Processed 70367 (100.0%) in 1.06 sec. BPR loss is 3.76E+01. Sample per second: 66360\n",
      "SLIM_BPR_Recommender: Epoch 20 of 25. Elapsed time 3.05 sec\n",
      "Processed 70367 (100.0%) in 0.20 sec. BPR loss is 3.71E+01. Sample per second: 343926\n",
      "SLIM_BPR_Recommender: Epoch 21 of 25. Elapsed time 3.19 sec\n",
      "Processed 70367 (100.0%) in 0.35 sec. BPR loss is 4.08E+01. Sample per second: 203808\n",
      "SLIM_BPR_Recommender: Epoch 22 of 25. Elapsed time 3.34 sec\n",
      "Processed 70367 (100.0%) in 0.49 sec. BPR loss is 4.12E+01. Sample per second: 144086\n",
      "SLIM_BPR_Recommender: Epoch 23 of 25. Elapsed time 3.48 sec\n",
      "Processed 70367 (100.0%) in 0.64 sec. BPR loss is 4.38E+01. Sample per second: 110747\n",
      "SLIM_BPR_Recommender: Epoch 24 of 25. Elapsed time 3.63 sec\n",
      "Processed 70367 (100.0%) in 0.78 sec. BPR loss is 4.62E+01. Sample per second: 89973\n",
      "SLIM_BPR_Recommender: Epoch 25 of 25. Elapsed time 3.77 sec\n",
      "SLIM_BPR_Recommender: Terminating at epoch 25. Elapsed time 13.73 sec\n",
      "Deallocating Cython objects\n",
      "SLIM_BPR_Recommender: Saving model in file 'Daniele/Recommenders/Hybrid_KNN_RP3Beta_SSLIM/saved_modelssslim01'\n",
      "SLIM_BPR_Recommender: Saving complete\n"
     ]
    }
   ],
   "source": [
    "from Recommenders.SLIM.Cython.SLIM_BPR_Cython import SLIM_BPR_Cython\n",
    "name=\"sslim01\"\n",
    "dir = os.path.join(path_save,name)\n",
    "\n",
    "sslim_recommender = SLIM_BPR_Cython(URM_train=urm_def)\n",
    "if not os.path.exists(dir+\".zip\"):\n",
    "    sslim_recommender.fit(topK= 305, epochs=25,symmetric=True, sgd_mode = 'adam', lambda_i = 0.0008132913041259862, lambda_j=0.004889521240194745, learning_rate = 0.005381553515814384)\n",
    "    sslim_recommender.save_model(path_save,name)\n",
    "else:\n",
    "    sslim_recommender.load_model(path_save,name)\n",
    "   "
   ]
  },
  {
   "attachments": {},
   "cell_type": "markdown",
   "metadata": {},
   "source": [
    "### KNN_CFCBF "
   ]
  },
  {
   "cell_type": "code",
   "execution_count": 5,
   "metadata": {},
   "outputs": [
    {
     "name": "stdout",
     "output_type": "stream",
     "text": [
      "KNN_CFCBF_custom: URM Detected 3461 (12.4%) items with no interactions.\n",
      "Beta-> 1.0 \tICM_weight-> 1.0\n",
      "Similarity column 27968 (100.0%), 2888.32 column/sec. Elapsed time 9.68 sec\n",
      "KNN_CFCBF_custom: Saving model in file 'Daniele/Recommenders/Hybrid_KNN_RP3Beta_SSLIM/saved_modelsknn_cfcbf'\n",
      "KNN_CFCBF_custom: Saving complete\n"
     ]
    }
   ],
   "source": [
    "from Daniele.Recommenders.KNN_CFCBF.ItemKNN_CFCBF_Hybrid_Recommender import KNN_CFCBF_custom\n",
    "name=\"knn_cfcbf\"\n",
    "dir = os.path.join(path_save,name)\n",
    "\n",
    "KNN_recommender = KNN_CFCBF_custom(URMv_train,URMo,ICM_train=mm.augmentedICM(ICMt,ICMl))\n",
    "if not os.path.exists(dir+\".zip\"):\n",
    "    KNN_recommender.fit(topK= 744, shrink= 457, similarity= 'cosine', normalize= True, feature_weighting='TF-IDF')\n",
    "    KNN_recommender.save_model(path_save,name)\n",
    "else:\n",
    "    KNN_recommender.load_model(path_save,name)"
   ]
  },
  {
   "attachments": {},
   "cell_type": "markdown",
   "metadata": {},
   "source": [
    "### RP3Beta \n"
   ]
  },
  {
   "cell_type": "code",
   "execution_count": 6,
   "metadata": {},
   "outputs": [
    {
     "name": "stdout",
     "output_type": "stream",
     "text": [
      "RP3betaRecommender: URM Detected 3461 (12.4%) items with no interactions.\n",
      "RP3betaRecommender: Similarity column 27968 (100.0%), 4303.44 column/sec. Elapsed time 6.50 sec\n",
      "RP3betaRecommender: Saving model in file 'Daniele/Recommenders/Hybrid_KNN_RP3Beta_SSLIM/saved_modelsrp3beta'\n",
      "RP3betaRecommender: Saving complete\n"
     ]
    }
   ],
   "source": [
    "from Recommenders.GraphBased.RP3betaRecommender import RP3betaRecommender\n",
    "name=\"rp3beta\"\n",
    "dir = os.path.join(path_save,name)\n",
    "\n",
    "\n",
    "rp3beta_recommender = RP3betaRecommender(urm_bin)\n",
    "if not os.path.exists(dir+\".zip\"):\n",
    "    rp3beta_recommender.fit(topK= 89, alpha= 0.6361002951626124, beta= 0.27432996564004203, normalize_similarity= True)\n",
    "    rp3beta_recommender.save_model(path_save,name)\n",
    "else:\n",
    "    rp3beta_recommender.load_model(path_save,name)"
   ]
  },
  {
   "attachments": {},
   "cell_type": "markdown",
   "metadata": {},
   "source": [
    "### RP3Beta - KNN_CFCBF"
   ]
  },
  {
   "cell_type": "code",
   "execution_count": 7,
   "metadata": {},
   "outputs": [
    {
     "name": "stdout",
     "output_type": "stream",
     "text": [
      "ItemKNNCustomSimilarityRecommender: URM Detected 2 ( 0.0%) users with no interactions.\n",
      "ItemKNNCustomSimilarityRecommender: Saving model in file 'Daniele/Recommenders/Hybrid_KNN_RP3Beta_SSLIM/saved_modelsrp3beta-knn'\n",
      "ItemKNNCustomSimilarityRecommender: Saving complete\n"
     ]
    }
   ],
   "source": [
    "from Recommenders.KNN.ItemKNNCustomSimilarityRecommender import ItemKNNCustomSimilarityRecommender\n",
    "alpha_knn_rp3 = 0.7\n",
    "name=\"rp3beta-knn\"\n",
    "dir = os.path.join(path_save,name)\n",
    "\n",
    "\n",
    "knn_rp3_recommender = ItemKNNCustomSimilarityRecommender(urm_def)\n",
    "if not os.path.exists(dir+\".zip\"):\n",
    "    knn_rp3_recommender.fit((1 - alpha_knn_rp3) * KNN_recommender.W_sparse + alpha_knn_rp3* rp3beta_recommender.W_sparse)\n",
    "    knn_rp3_recommender.save_model(path_save,name)\n",
    "else:\n",
    "    knn_rp3_recommender.load_model(path_save,name)"
   ]
  },
  {
   "attachments": {},
   "cell_type": "markdown",
   "metadata": {},
   "source": [
    "### TopPop"
   ]
  },
  {
   "cell_type": "code",
   "execution_count": 8,
   "metadata": {},
   "outputs": [
    {
     "name": "stdout",
     "output_type": "stream",
     "text": [
      "TopPopRecommender: URM Detected 3461 (12.4%) items with no interactions.\n",
      "TopPopRecommender: Saving model in file 'Daniele/Recommenders/Hybrid_KNN_RP3Beta_SSLIM/saved_modelsTopPop'\n",
      "TopPopRecommender: Saving complete\n"
     ]
    }
   ],
   "source": [
    "from Recommenders.NonPersonalizedRecommender import TopPop\n",
    "name=\"TopPop\"\n",
    "dir = os.path.join(path_save,name)\n",
    "\n",
    "most_viewed = TopPop(urm_bin)\n",
    "if not os.path.exists(dir+\".zip\"):\n",
    "    most_viewed.fit()\n",
    "    most_viewed.save_model(path_save,name)\n",
    "else:\n",
    "    most_viewed.load_model(path_save,name)"
   ]
  },
  {
   "attachments": {},
   "cell_type": "markdown",
   "metadata": {},
   "source": [
    "### REFERENCE RP3Beta 0.052"
   ]
  },
  {
   "cell_type": "code",
   "execution_count": 9,
   "metadata": {},
   "outputs": [
    {
     "name": "stdout",
     "output_type": "stream",
     "text": [
      "RP3betaRecommender: URM Detected 3461 (12.4%) items with no interactions.\n",
      "RP3betaRecommender: Similarity column 27968 (100.0%), 4293.43 column/sec. Elapsed time 6.51 sec\n"
     ]
    }
   ],
   "source": [
    "best_reference = RP3betaRecommender(urm_bin)\n",
    "#{'topK': 106, 'alpha': 0.6155817289031643, 'beta': 0.33427474623540737, 'normalize_similarity': True} -> MAP 0.0276355\n",
    "best_reference.fit(topK= 106, alpha= 0.6155817289031643, beta= 0.33427474623540737, normalize_similarity= True)\n"
   ]
  },
  {
   "attachments": {},
   "cell_type": "markdown",
   "metadata": {},
   "source": [
    "### Hybrid"
   ]
  },
  {
   "cell_type": "code",
   "execution_count": 10,
   "metadata": {},
   "outputs": [
    {
     "name": "stderr",
     "output_type": "stream",
     "text": [
      "100%|██████████| 27968/27968 [00:01<00:00, 16442.99it/s]\n",
      "100%|██████████| 841462/841462 [00:00<00:00, 1798411.01it/s]\n",
      "100%|██████████| 27968/27968 [00:01<00:00, 21007.42it/s]\n",
      "100%|██████████| 663370/663370 [00:00<00:00, 1847585.74it/s]\n",
      "100%|██████████| 27968/27968 [00:01<00:00, 16478.01it/s]\n",
      "100%|██████████| 841462/841462 [00:00<00:00, 1785035.62it/s]\n",
      "100%|██████████| 27968/27968 [00:01<00:00, 21002.23it/s]\n",
      "100%|██████████| 663370/663370 [00:00<00:00, 1848120.81it/s]\n",
      "100%|██████████| 27968/27968 [00:01<00:00, 16299.16it/s]\n",
      "100%|██████████| 841462/841462 [00:00<00:00, 1842002.84it/s]\n",
      "100%|██████████| 27968/27968 [00:01<00:00, 20962.06it/s]\n",
      "100%|██████████| 663370/663370 [00:00<00:00, 1848976.82it/s]\n"
     ]
    },
    {
     "name": "stdout",
     "output_type": "stream",
     "text": [
      "RP3BetaKNNRecommender: URM Detected 3461 (12.4%) items with no interactions.\n"
     ]
    }
   ],
   "source": [
    "from Daniele.Recommenders.Hybrid_KNN_RP3Beta_SSLIM.hybrid import SSLIMRP3BetaKNNRecommender\n",
    "\n",
    "hybrid = SSLIMRP3BetaKNNRecommender(URMv_train,URMo,ICMt,ICMl)\n",
    "hybrid.rp3beta_recommender = rp3beta_recommender\n",
    "hybrid.KNN_recommender = KNN_recommender\n",
    "hybrid.sslim_recommender = sslim_recommender\n",
    "hybrid.knn_rp3_recommender = knn_rp3_recommender\n",
    "hybrid.most_viewed = most_viewed\n",
    "hybrid.peso_1=0.6\n",
    "hybrid.peso_2=0.4\n",
    "hybrid.interactions_threshold =12"
   ]
  },
  {
   "attachments": {},
   "cell_type": "markdown",
   "metadata": {},
   "source": [
    "### Users group"
   ]
  },
  {
   "cell_type": "code",
   "execution_count": 11,
   "metadata": {},
   "outputs": [
    {
     "name": "stdout",
     "output_type": "stream",
     "text": [
      "Group 0, #users in group 2081, average p.len 5.17, median 5.0, min 1, max 6\n",
      "Group 1, #users in group 2081, average p.len 7.16, median 7.0, min 6, max 8\n",
      "Group 2, #users in group 2081, average p.len 8.32, median 8.0, min 8, max 9\n",
      "Group 3, #users in group 2081, average p.len 9.29, median 9.0, min 9, max 10\n",
      "Group 4, #users in group 2081, average p.len 10.15, median 10.0, min 10, max 11\n",
      "Group 5, #users in group 2081, average p.len 11.00, median 11.0, min 11, max 11\n",
      "Group 6, #users in group 2081, average p.len 11.99, median 12.0, min 11, max 12\n",
      "Group 7, #users in group 2081, average p.len 12.86, median 13.0, min 12, max 13\n",
      "Group 8, #users in group 2081, average p.len 13.74, median 14.0, min 13, max 14\n",
      "Group 9, #users in group 2081, average p.len 14.72, median 15.0, min 14, max 15\n",
      "Group 10, #users in group 2081, average p.len 15.87, median 16.0, min 15, max 17\n",
      "Group 11, #users in group 2081, average p.len 17.32, median 17.0, min 17, max 18\n",
      "Group 12, #users in group 2081, average p.len 18.70, median 19.0, min 18, max 20\n",
      "Group 13, #users in group 2081, average p.len 20.54, median 21.0, min 20, max 22\n",
      "Group 14, #users in group 2081, average p.len 22.81, median 23.0, min 22, max 24\n",
      "Group 15, #users in group 2081, average p.len 25.64, median 26.0, min 24, max 27\n",
      "Group 16, #users in group 2081, average p.len 29.38, median 29.0, min 27, max 32\n",
      "Group 17, #users in group 2081, average p.len 34.62, median 34.0, min 32, max 38\n",
      "Group 18, #users in group 2081, average p.len 43.52, median 43.0, min 38, max 50\n",
      "Group 19, #users in group 2081, average p.len 70.44, median 63.0, min 50, max 228\n"
     ]
    }
   ],
   "source": [
    "import numpy as np \n",
    "import scipy.sparse as sps\n",
    "\n",
    "profile_length = np.ediff1d(sps.csr_matrix(URMv_train).indptr)\n",
    "profile_length, profile_length.shape\n",
    "\n",
    "block_size = int(len(profile_length)*0.05)\n",
    "sorted_users = np.argsort(profile_length)\n",
    "\n",
    "for group_id in range(0, 20):\n",
    "    start_pos = group_id * block_size\n",
    "    end_pos = min((group_id+1) * block_size, len(profile_length))\n",
    "    \n",
    "    users_in_group = sorted_users[start_pos:end_pos]\n",
    "    \n",
    "    users_in_group_p_len = profile_length[users_in_group]\n",
    "    \n",
    "    print(\"Group {}, #users in group {}, average p.len {:.2f}, median {}, min {}, max {}\".format(\n",
    "        group_id, \n",
    "        users_in_group.shape[0],\n",
    "        users_in_group_p_len.mean(),\n",
    "        np.median(users_in_group_p_len),\n",
    "        users_in_group_p_len.min(),\n",
    "        users_in_group_p_len.max()))"
   ]
  },
  {
   "cell_type": "code",
   "execution_count": 12,
   "metadata": {},
   "outputs": [],
   "source": [
    "MAP_recommender_per_group = {}\n",
    "recommender_object_dict = {}\n",
    "\n",
    "recommender_class = {#\"rp3beta_recommender\" : rp3beta_recommender,\n",
    "                     #\"KNN_recommender\" : KNN_recommender,\n",
    "                     \"sslim_recommender\" : sslim_recommender,\n",
    "                     \"knn_rp3_recommender\" : knn_rp3_recommender,\n",
    "                     #\"most_viewed\" : most_viewed,\n",
    "                     \"best_reference\" :best_reference,\n",
    "                     \"hybrid\" : hybrid,\n",
    "                     }\n",
    "\n",
    "\n",
    "for label, recommender_obj in recommender_class.items():\n",
    "    recommender_object_dict[label] = recommender_obj"
   ]
  },
  {
   "cell_type": "code",
   "execution_count": 13,
   "metadata": {},
   "outputs": [
    {
     "name": "stdout",
     "output_type": "stream",
     "text": [
      "Group 0, #users in group 2081, average p.len 5.17, median 5.0, min 1, max 6\n",
      "EvaluatorHoldout: Ignoring 1596 ( 3.8%) Users that have less than 1 test interactions\n",
      "EvaluatorHoldout: Ignoring 39548 Users\n",
      "EvaluatorHoldout: Processed 1893 (100.0%) in 1.30 sec. Users per second: 1456\n",
      "EvaluatorHoldout: Processed 1893 (100.0%) in 1.67 sec. Users per second: 1135\n",
      "EvaluatorHoldout: Processed 1893 (100.0%) in 1.18 sec. Users per second: 1609\n",
      "EvaluatorHoldout: Processed 1893 (100.0%) in 1.58 sec. Users per second: 1198\n",
      "Group 1, #users in group 2081, average p.len 7.16, median 7.0, min 6, max 8\n",
      "EvaluatorHoldout: Ignoring 1596 ( 3.8%) Users that have less than 1 test interactions\n",
      "EvaluatorHoldout: Ignoring 39548 Users\n",
      "EvaluatorHoldout: Processed 1915 (100.0%) in 1.34 sec. Users per second: 1431\n",
      "EvaluatorHoldout: Processed 1915 (100.0%) in 1.76 sec. Users per second: 1088\n",
      "EvaluatorHoldout: Processed 1915 (100.0%) in 1.19 sec. Users per second: 1608\n",
      "EvaluatorHoldout: Processed 1915 (100.0%) in 1.62 sec. Users per second: 1179\n",
      "Group 2, #users in group 2081, average p.len 8.32, median 8.0, min 8, max 9\n",
      "EvaluatorHoldout: Ignoring 1596 ( 3.8%) Users that have less than 1 test interactions\n",
      "EvaluatorHoldout: Ignoring 39548 Users\n",
      "EvaluatorHoldout: Processed 1932 (100.0%) in 1.34 sec. Users per second: 1446\n",
      "EvaluatorHoldout: Processed 1932 (100.0%) in 1.81 sec. Users per second: 1067\n",
      "EvaluatorHoldout: Processed 1932 (100.0%) in 1.21 sec. Users per second: 1598\n",
      "EvaluatorHoldout: Processed 1932 (100.0%) in 1.77 sec. Users per second: 1090\n",
      "Group 3, #users in group 2081, average p.len 9.29, median 9.0, min 9, max 10\n",
      "EvaluatorHoldout: Ignoring 1596 ( 3.8%) Users that have less than 1 test interactions\n",
      "EvaluatorHoldout: Ignoring 39548 Users\n",
      "EvaluatorHoldout: Processed 1913 (100.0%) in 1.35 sec. Users per second: 1414\n",
      "EvaluatorHoldout: Processed 1913 (100.0%) in 1.82 sec. Users per second: 1049\n",
      "EvaluatorHoldout: Processed 1913 (100.0%) in 1.21 sec. Users per second: 1584\n",
      "EvaluatorHoldout: Processed 1913 (100.0%) in 1.59 sec. Users per second: 1201\n",
      "Group 4, #users in group 2081, average p.len 10.15, median 10.0, min 10, max 11\n",
      "EvaluatorHoldout: Ignoring 1596 ( 3.8%) Users that have less than 1 test interactions\n",
      "EvaluatorHoldout: Ignoring 39548 Users\n",
      "EvaluatorHoldout: Processed 1933 (100.0%) in 1.35 sec. Users per second: 1434\n",
      "EvaluatorHoldout: Processed 1933 (100.0%) in 1.90 sec. Users per second: 1019\n",
      "EvaluatorHoldout: Processed 1933 (100.0%) in 1.20 sec. Users per second: 1610\n",
      "EvaluatorHoldout: Processed 1933 (100.0%) in 1.61 sec. Users per second: 1204\n",
      "Group 5, #users in group 2081, average p.len 11.00, median 11.0, min 11, max 11\n",
      "EvaluatorHoldout: Ignoring 1596 ( 3.8%) Users that have less than 1 test interactions\n",
      "EvaluatorHoldout: Ignoring 39548 Users\n",
      "EvaluatorHoldout: Processed 1945 (100.0%) in 1.37 sec. Users per second: 1420\n",
      "EvaluatorHoldout: Processed 1945 (100.0%) in 1.92 sec. Users per second: 1014\n",
      "EvaluatorHoldout: Processed 1945 (100.0%) in 1.22 sec. Users per second: 1599\n",
      "EvaluatorHoldout: Processed 1945 (100.0%) in 1.79 sec. Users per second: 1084\n",
      "Group 6, #users in group 2081, average p.len 11.99, median 12.0, min 11, max 12\n",
      "EvaluatorHoldout: Ignoring 1596 ( 3.8%) Users that have less than 1 test interactions\n",
      "EvaluatorHoldout: Ignoring 39548 Users\n",
      "EvaluatorHoldout: Processed 1952 (100.0%) in 1.39 sec. Users per second: 1405\n",
      "EvaluatorHoldout: Processed 1952 (100.0%) in 2.01 sec. Users per second: 973\n",
      "EvaluatorHoldout: Processed 1952 (100.0%) in 1.23 sec. Users per second: 1593\n",
      "EvaluatorHoldout: Processed 1952 (100.0%) in 3.41 sec. Users per second: 573\n",
      "Group 7, #users in group 2081, average p.len 12.86, median 13.0, min 12, max 13\n",
      "EvaluatorHoldout: Ignoring 1596 ( 3.8%) Users that have less than 1 test interactions\n",
      "EvaluatorHoldout: Ignoring 39548 Users\n",
      "EvaluatorHoldout: Processed 1986 (100.0%) in 1.42 sec. Users per second: 1403\n",
      "EvaluatorHoldout: Processed 1986 (100.0%) in 2.05 sec. Users per second: 969\n",
      "EvaluatorHoldout: Processed 1986 (100.0%) in 1.23 sec. Users per second: 1608\n",
      "EvaluatorHoldout: Processed 1986 (100.0%) in 3.40 sec. Users per second: 584\n",
      "Group 8, #users in group 2081, average p.len 13.74, median 14.0, min 13, max 14\n",
      "EvaluatorHoldout: Ignoring 1596 ( 3.8%) Users that have less than 1 test interactions\n",
      "EvaluatorHoldout: Ignoring 39548 Users\n",
      "EvaluatorHoldout: Processed 1977 (100.0%) in 1.40 sec. Users per second: 1410\n",
      "EvaluatorHoldout: Processed 1977 (100.0%) in 2.03 sec. Users per second: 974\n",
      "EvaluatorHoldout: Processed 1977 (100.0%) in 1.23 sec. Users per second: 1605\n",
      "EvaluatorHoldout: Processed 1977 (100.0%) in 3.32 sec. Users per second: 595\n",
      "Group 9, #users in group 2081, average p.len 14.72, median 15.0, min 14, max 15\n",
      "EvaluatorHoldout: Ignoring 1596 ( 3.8%) Users that have less than 1 test interactions\n",
      "EvaluatorHoldout: Ignoring 39548 Users\n",
      "EvaluatorHoldout: Processed 1992 (100.0%) in 1.43 sec. Users per second: 1388\n",
      "EvaluatorHoldout: Processed 1992 (100.0%) in 2.09 sec. Users per second: 955\n",
      "EvaluatorHoldout: Processed 1992 (100.0%) in 1.24 sec. Users per second: 1603\n",
      "EvaluatorHoldout: Processed 1992 (100.0%) in 2.70 sec. Users per second: 738\n",
      "Group 10, #users in group 2081, average p.len 15.87, median 16.0, min 15, max 17\n",
      "EvaluatorHoldout: Ignoring 1596 ( 3.8%) Users that have less than 1 test interactions\n",
      "EvaluatorHoldout: Ignoring 39548 Users\n",
      "EvaluatorHoldout: Processed 2017 (100.0%) in 1.46 sec. Users per second: 1383\n",
      "EvaluatorHoldout: Processed 2017 (100.0%) in 2.14 sec. Users per second: 942\n",
      "EvaluatorHoldout: Processed 2017 (100.0%) in 1.26 sec. Users per second: 1597\n",
      "EvaluatorHoldout: Processed 2017 (100.0%) in 2.41 sec. Users per second: 836\n",
      "Group 11, #users in group 2081, average p.len 17.32, median 17.0, min 17, max 18\n",
      "EvaluatorHoldout: Ignoring 1596 ( 3.8%) Users that have less than 1 test interactions\n",
      "EvaluatorHoldout: Ignoring 39548 Users\n"
     ]
    },
    {
     "name": "stderr",
     "output_type": "stream",
     "text": [
      "/Users/daniele/Desktop/RecSys/RecSysChallenge2023-Team/Evaluation/metrics.py:276: RuntimeWarning: overflow encountered in power\n",
      "  return np.sum(np.divide(np.power(2, scores) - 1, np.log2(np.arange(scores.shape[0], dtype=np.float64) + 2)),\n",
      "/Users/daniele/Desktop/RecSys/RecSysChallenge2023-Team/Evaluation/metrics.py:270: RuntimeWarning: invalid value encountered in double_scalars\n",
      "  ndcg_ = rank_dcg / ideal_dcg\n"
     ]
    },
    {
     "name": "stdout",
     "output_type": "stream",
     "text": [
      "EvaluatorHoldout: Processed 2030 (100.0%) in 1.47 sec. Users per second: 1379\n"
     ]
    },
    {
     "name": "stderr",
     "output_type": "stream",
     "text": [
      "/Users/daniele/Desktop/RecSys/RecSysChallenge2023-Team/Evaluation/metrics.py:276: RuntimeWarning: overflow encountered in power\n",
      "  return np.sum(np.divide(np.power(2, scores) - 1, np.log2(np.arange(scores.shape[0], dtype=np.float64) + 2)),\n",
      "/Users/daniele/Desktop/RecSys/RecSysChallenge2023-Team/Evaluation/metrics.py:270: RuntimeWarning: invalid value encountered in double_scalars\n",
      "  ndcg_ = rank_dcg / ideal_dcg\n"
     ]
    },
    {
     "name": "stdout",
     "output_type": "stream",
     "text": [
      "EvaluatorHoldout: Processed 2030 (100.0%) in 2.21 sec. Users per second: 919\n"
     ]
    },
    {
     "name": "stderr",
     "output_type": "stream",
     "text": [
      "/Users/daniele/Desktop/RecSys/RecSysChallenge2023-Team/Evaluation/metrics.py:276: RuntimeWarning: overflow encountered in power\n",
      "  return np.sum(np.divide(np.power(2, scores) - 1, np.log2(np.arange(scores.shape[0], dtype=np.float64) + 2)),\n",
      "/Users/daniele/Desktop/RecSys/RecSysChallenge2023-Team/Evaluation/metrics.py:270: RuntimeWarning: invalid value encountered in double_scalars\n",
      "  ndcg_ = rank_dcg / ideal_dcg\n"
     ]
    },
    {
     "name": "stdout",
     "output_type": "stream",
     "text": [
      "EvaluatorHoldout: Processed 2030 (100.0%) in 1.28 sec. Users per second: 1588\n"
     ]
    },
    {
     "name": "stderr",
     "output_type": "stream",
     "text": [
      "/Users/daniele/Desktop/RecSys/RecSysChallenge2023-Team/Evaluation/metrics.py:276: RuntimeWarning: overflow encountered in power\n",
      "  return np.sum(np.divide(np.power(2, scores) - 1, np.log2(np.arange(scores.shape[0], dtype=np.float64) + 2)),\n",
      "/Users/daniele/Desktop/RecSys/RecSysChallenge2023-Team/Evaluation/metrics.py:270: RuntimeWarning: invalid value encountered in double_scalars\n",
      "  ndcg_ = rank_dcg / ideal_dcg\n"
     ]
    },
    {
     "name": "stdout",
     "output_type": "stream",
     "text": [
      "EvaluatorHoldout: Processed 2030 (100.0%) in 2.44 sec. Users per second: 832\n",
      "Group 12, #users in group 2081, average p.len 18.70, median 19.0, min 18, max 20\n",
      "EvaluatorHoldout: Ignoring 1596 ( 3.8%) Users that have less than 1 test interactions\n",
      "EvaluatorHoldout: Ignoring 39548 Users\n",
      "EvaluatorHoldout: Processed 2040 (100.0%) in 1.49 sec. Users per second: 1370\n",
      "EvaluatorHoldout: Processed 2040 (100.0%) in 2.21 sec. Users per second: 922\n",
      "EvaluatorHoldout: Processed 2040 (100.0%) in 1.29 sec. Users per second: 1585\n",
      "EvaluatorHoldout: Processed 2040 (100.0%) in 2.47 sec. Users per second: 825\n",
      "Group 13, #users in group 2081, average p.len 20.54, median 21.0, min 20, max 22\n",
      "EvaluatorHoldout: Ignoring 1596 ( 3.8%) Users that have less than 1 test interactions\n",
      "EvaluatorHoldout: Ignoring 39548 Users\n",
      "EvaluatorHoldout: Processed 2057 (100.0%) in 1.52 sec. Users per second: 1356\n",
      "EvaluatorHoldout: Processed 2057 (100.0%) in 2.28 sec. Users per second: 903\n",
      "EvaluatorHoldout: Processed 2057 (100.0%) in 1.28 sec. Users per second: 1603\n",
      "EvaluatorHoldout: Processed 2057 (100.0%) in 2.58 sec. Users per second: 798\n",
      "Group 14, #users in group 2081, average p.len 22.81, median 23.0, min 22, max 24\n",
      "EvaluatorHoldout: Ignoring 1596 ( 3.8%) Users that have less than 1 test interactions\n",
      "EvaluatorHoldout: Ignoring 39548 Users\n",
      "EvaluatorHoldout: Processed 2054 (100.0%) in 1.54 sec. Users per second: 1332\n"
     ]
    },
    {
     "name": "stderr",
     "output_type": "stream",
     "text": [
      "/Users/daniele/Desktop/RecSys/RecSysChallenge2023-Team/Evaluation/metrics.py:276: RuntimeWarning: overflow encountered in power\n",
      "  return np.sum(np.divide(np.power(2, scores) - 1, np.log2(np.arange(scores.shape[0], dtype=np.float64) + 2)),\n",
      "/Users/daniele/Desktop/RecSys/RecSysChallenge2023-Team/Evaluation/metrics.py:270: RuntimeWarning: invalid value encountered in double_scalars\n",
      "  ndcg_ = rank_dcg / ideal_dcg\n"
     ]
    },
    {
     "name": "stdout",
     "output_type": "stream",
     "text": [
      "EvaluatorHoldout: Processed 2054 (100.0%) in 2.33 sec. Users per second: 880\n"
     ]
    },
    {
     "name": "stderr",
     "output_type": "stream",
     "text": [
      "/Users/daniele/Desktop/RecSys/RecSysChallenge2023-Team/Evaluation/metrics.py:276: RuntimeWarning: overflow encountered in power\n",
      "  return np.sum(np.divide(np.power(2, scores) - 1, np.log2(np.arange(scores.shape[0], dtype=np.float64) + 2)),\n",
      "/Users/daniele/Desktop/RecSys/RecSysChallenge2023-Team/Evaluation/metrics.py:270: RuntimeWarning: invalid value encountered in double_scalars\n",
      "  ndcg_ = rank_dcg / ideal_dcg\n"
     ]
    },
    {
     "name": "stdout",
     "output_type": "stream",
     "text": [
      "EvaluatorHoldout: Processed 2054 (100.0%) in 1.30 sec. Users per second: 1584\n",
      "EvaluatorHoldout: Processed 2054 (100.0%) in 1.55 sec. Users per second: 1323\n"
     ]
    },
    {
     "name": "stderr",
     "output_type": "stream",
     "text": [
      "/Users/daniele/Desktop/RecSys/RecSysChallenge2023-Team/Evaluation/metrics.py:276: RuntimeWarning: overflow encountered in power\n",
      "  return np.sum(np.divide(np.power(2, scores) - 1, np.log2(np.arange(scores.shape[0], dtype=np.float64) + 2)),\n",
      "/Users/daniele/Desktop/RecSys/RecSysChallenge2023-Team/Evaluation/metrics.py:270: RuntimeWarning: invalid value encountered in double_scalars\n",
      "  ndcg_ = rank_dcg / ideal_dcg\n"
     ]
    },
    {
     "name": "stdout",
     "output_type": "stream",
     "text": [
      "Group 15, #users in group 2081, average p.len 25.64, median 26.0, min 24, max 27\n",
      "EvaluatorHoldout: Ignoring 1596 ( 3.8%) Users that have less than 1 test interactions\n",
      "EvaluatorHoldout: Ignoring 39548 Users\n",
      "EvaluatorHoldout: Processed 2071 (100.0%) in 1.56 sec. Users per second: 1325\n",
      "EvaluatorHoldout: Processed 2071 (100.0%) in 2.39 sec. Users per second: 866\n",
      "EvaluatorHoldout: Processed 2071 (100.0%) in 1.31 sec. Users per second: 1578\n",
      "EvaluatorHoldout: Processed 2071 (100.0%) in 1.56 sec. Users per second: 1330\n",
      "Group 16, #users in group 2081, average p.len 29.38, median 29.0, min 27, max 32\n",
      "EvaluatorHoldout: Ignoring 1596 ( 3.8%) Users that have less than 1 test interactions\n",
      "EvaluatorHoldout: Ignoring 39548 Users\n",
      "EvaluatorHoldout: Processed 2077 (100.0%) in 1.61 sec. Users per second: 1287\n",
      "EvaluatorHoldout: Processed 2077 (100.0%) in 2.48 sec. Users per second: 838\n",
      "EvaluatorHoldout: Processed 2077 (100.0%) in 1.33 sec. Users per second: 1562\n",
      "EvaluatorHoldout: Processed 2077 (100.0%) in 1.56 sec. Users per second: 1334\n",
      "Group 17, #users in group 2081, average p.len 34.62, median 34.0, min 32, max 38\n",
      "EvaluatorHoldout: Ignoring 1596 ( 3.8%) Users that have less than 1 test interactions\n",
      "EvaluatorHoldout: Ignoring 39548 Users\n",
      "EvaluatorHoldout: Processed 2078 (100.0%) in 1.65 sec. Users per second: 1261\n"
     ]
    },
    {
     "name": "stderr",
     "output_type": "stream",
     "text": [
      "/Users/daniele/Desktop/RecSys/RecSysChallenge2023-Team/Evaluation/metrics.py:276: RuntimeWarning: overflow encountered in power\n",
      "  return np.sum(np.divide(np.power(2, scores) - 1, np.log2(np.arange(scores.shape[0], dtype=np.float64) + 2)),\n"
     ]
    },
    {
     "name": "stdout",
     "output_type": "stream",
     "text": [
      "EvaluatorHoldout: Processed 2078 (100.0%) in 2.58 sec. Users per second: 805\n"
     ]
    },
    {
     "name": "stderr",
     "output_type": "stream",
     "text": [
      "/Users/daniele/Desktop/RecSys/RecSysChallenge2023-Team/Evaluation/metrics.py:276: RuntimeWarning: overflow encountered in power\n",
      "  return np.sum(np.divide(np.power(2, scores) - 1, np.log2(np.arange(scores.shape[0], dtype=np.float64) + 2)),\n"
     ]
    },
    {
     "name": "stdout",
     "output_type": "stream",
     "text": [
      "EvaluatorHoldout: Processed 2078 (100.0%) in 1.36 sec. Users per second: 1528\n"
     ]
    },
    {
     "name": "stderr",
     "output_type": "stream",
     "text": [
      "/Users/daniele/Desktop/RecSys/RecSysChallenge2023-Team/Evaluation/metrics.py:276: RuntimeWarning: overflow encountered in power\n",
      "  return np.sum(np.divide(np.power(2, scores) - 1, np.log2(np.arange(scores.shape[0], dtype=np.float64) + 2)),\n"
     ]
    },
    {
     "name": "stdout",
     "output_type": "stream",
     "text": [
      "EvaluatorHoldout: Processed 2078 (100.0%) in 1.58 sec. Users per second: 1316\n"
     ]
    },
    {
     "name": "stderr",
     "output_type": "stream",
     "text": [
      "/Users/daniele/Desktop/RecSys/RecSysChallenge2023-Team/Evaluation/metrics.py:276: RuntimeWarning: overflow encountered in power\n",
      "  return np.sum(np.divide(np.power(2, scores) - 1, np.log2(np.arange(scores.shape[0], dtype=np.float64) + 2)),\n"
     ]
    },
    {
     "name": "stdout",
     "output_type": "stream",
     "text": [
      "Group 18, #users in group 2081, average p.len 43.52, median 43.0, min 38, max 50\n",
      "EvaluatorHoldout: Ignoring 1596 ( 3.8%) Users that have less than 1 test interactions\n",
      "EvaluatorHoldout: Ignoring 39548 Users\n",
      "EvaluatorHoldout: Processed 2081 (100.0%) in 1.73 sec. Users per second: 1200\n"
     ]
    },
    {
     "name": "stderr",
     "output_type": "stream",
     "text": [
      "/Users/daniele/Desktop/RecSys/RecSysChallenge2023-Team/Evaluation/metrics.py:276: RuntimeWarning: overflow encountered in power\n",
      "  return np.sum(np.divide(np.power(2, scores) - 1, np.log2(np.arange(scores.shape[0], dtype=np.float64) + 2)),\n"
     ]
    },
    {
     "name": "stdout",
     "output_type": "stream",
     "text": [
      "EvaluatorHoldout: Processed 2081 (100.0%) in 2.64 sec. Users per second: 789\n"
     ]
    },
    {
     "name": "stderr",
     "output_type": "stream",
     "text": [
      "/Users/daniele/Desktop/RecSys/RecSysChallenge2023-Team/Evaluation/metrics.py:276: RuntimeWarning: overflow encountered in power\n",
      "  return np.sum(np.divide(np.power(2, scores) - 1, np.log2(np.arange(scores.shape[0], dtype=np.float64) + 2)),\n"
     ]
    },
    {
     "name": "stdout",
     "output_type": "stream",
     "text": [
      "EvaluatorHoldout: Processed 2081 (100.0%) in 1.38 sec. Users per second: 1512\n"
     ]
    },
    {
     "name": "stderr",
     "output_type": "stream",
     "text": [
      "/Users/daniele/Desktop/RecSys/RecSysChallenge2023-Team/Evaluation/metrics.py:276: RuntimeWarning: overflow encountered in power\n",
      "  return np.sum(np.divide(np.power(2, scores) - 1, np.log2(np.arange(scores.shape[0], dtype=np.float64) + 2)),\n"
     ]
    },
    {
     "name": "stdout",
     "output_type": "stream",
     "text": [
      "EvaluatorHoldout: Processed 2081 (100.0%) in 1.62 sec. Users per second: 1286\n"
     ]
    },
    {
     "name": "stderr",
     "output_type": "stream",
     "text": [
      "/Users/daniele/Desktop/RecSys/RecSysChallenge2023-Team/Evaluation/metrics.py:276: RuntimeWarning: overflow encountered in power\n",
      "  return np.sum(np.divide(np.power(2, scores) - 1, np.log2(np.arange(scores.shape[0], dtype=np.float64) + 2)),\n"
     ]
    },
    {
     "name": "stdout",
     "output_type": "stream",
     "text": [
      "Group 19, #users in group 2081, average p.len 70.44, median 63.0, min 50, max 228\n",
      "EvaluatorHoldout: Ignoring 1596 ( 3.8%) Users that have less than 1 test interactions\n",
      "EvaluatorHoldout: Ignoring 39548 Users\n",
      "EvaluatorHoldout: Processed 2081 (100.0%) in 1.93 sec. Users per second: 1076\n",
      "EvaluatorHoldout: Processed 2081 (100.0%) in 2.92 sec. Users per second: 712\n",
      "EvaluatorHoldout: Processed 2081 (100.0%) in 1.51 sec. Users per second: 1377\n"
     ]
    },
    {
     "name": "stderr",
     "output_type": "stream",
     "text": [
      "/Users/daniele/Desktop/RecSys/RecSysChallenge2023-Team/Evaluation/metrics.py:276: RuntimeWarning: overflow encountered in power\n",
      "  return np.sum(np.divide(np.power(2, scores) - 1, np.log2(np.arange(scores.shape[0], dtype=np.float64) + 2)),\n"
     ]
    },
    {
     "name": "stdout",
     "output_type": "stream",
     "text": [
      "EvaluatorHoldout: Processed 2081 (100.0%) in 1.74 sec. Users per second: 1199\n"
     ]
    },
    {
     "name": "stderr",
     "output_type": "stream",
     "text": [
      "/Users/daniele/Desktop/RecSys/RecSysChallenge2023-Team/Evaluation/metrics.py:276: RuntimeWarning: overflow encountered in power\n",
      "  return np.sum(np.divide(np.power(2, scores) - 1, np.log2(np.arange(scores.shape[0], dtype=np.float64) + 2)),\n"
     ]
    }
   ],
   "source": [
    "cutoff = 10\n",
    "\n",
    "for group_id in range(0, 20):\n",
    "    \n",
    "    start_pos = group_id*block_size\n",
    "    end_pos = min((group_id+1)*block_size, len(profile_length))\n",
    "    \n",
    "    users_in_group = sorted_users[start_pos:end_pos]\n",
    "    \n",
    "    users_in_group_p_len = profile_length[users_in_group]\n",
    "    \n",
    "    print(\"Group {}, #users in group {}, average p.len {:.2f}, median {}, min {}, max {}\".format(\n",
    "        group_id, \n",
    "        users_in_group.shape[0],\n",
    "        users_in_group_p_len.mean(),\n",
    "        np.median(users_in_group_p_len),\n",
    "        users_in_group_p_len.min(),\n",
    "        users_in_group_p_len.max()))\n",
    "    \n",
    "    \n",
    "    users_not_in_group_flag = np.isin(sorted_users, users_in_group, invert=True)\n",
    "    users_not_in_group = sorted_users[users_not_in_group_flag]\n",
    "    \n",
    "    evaluator_test = EvaluatorHoldout(URMv_test, cutoff_list=[cutoff], ignore_users=users_not_in_group)\n",
    "    \n",
    "    for label, recommender in recommender_object_dict.items():\n",
    "        result_df, _ = evaluator_test.evaluateRecommender(recommender)\n",
    "        if label in MAP_recommender_per_group:\n",
    "            MAP_recommender_per_group[label].append(result_df.loc[cutoff][\"MAP\"])\n",
    "        else:\n",
    "            MAP_recommender_per_group[label] = [result_df.loc[cutoff][\"MAP\"]]"
   ]
  },
  {
   "cell_type": "code",
   "execution_count": 14,
   "metadata": {},
   "outputs": [
    {
     "data": {
      "image/png": "[encoded data removed]",
      "text/plain": [
       "<Figure size 1400x700 with 1 Axes>"
      ]
     },
     "metadata": {},
     "output_type": "display_data"
    }
   ],
   "source": [
    "import matplotlib.pyplot as plt\n",
    "%matplotlib inline  \n",
    "\n",
    "_ = plt.figure(figsize=(14, 7))\n",
    "for label, recommender in recommender_object_dict.items():\n",
    "    results = MAP_recommender_per_group[label]\n",
    "    plt.scatter(x=np.arange(0,len(results)), y=results, label=label,)\n",
    "plt.ylabel('MAP')\n",
    "plt.xlabel('User Group')\n",
    "plt.legend()\n",
    "plt.show()"
   ]
  },
  {
   "attachments": {},
   "cell_type": "markdown",
   "metadata": {},
   "source": [
    "### Evaluation"
   ]
  },
  {
   "cell_type": "code",
   "execution_count": 15,
   "metadata": {},
   "outputs": [
    {
     "name": "stdout",
     "output_type": "stream",
     "text": [
      "EvaluatorHoldout: Ignoring 1596 ( 3.8%) Users that have less than 1 test interactions\n"
     ]
    },
    {
     "name": "stderr",
     "output_type": "stream",
     "text": [
      "/Users/daniele/Desktop/RecSys/RecSysChallenge2023-Team/Evaluation/metrics.py:276: RuntimeWarning: overflow encountered in power\n",
      "  return np.sum(np.divide(np.power(2, scores) - 1, np.log2(np.arange(scores.shape[0], dtype=np.float64) + 2)),\n",
      "/Users/daniele/Desktop/RecSys/RecSysChallenge2023-Team/Evaluation/metrics.py:270: RuntimeWarning: invalid value encountered in double_scalars\n",
      "  ndcg_ = rank_dcg / ideal_dcg\n"
     ]
    },
    {
     "name": "stdout",
     "output_type": "stream",
     "text": [
      "EvaluatorHoldout: Processed 40033 (100.0%) in 27.93 sec. Users per second: 1433\n"
     ]
    },
    {
     "data": {
      "text/html": [
       "<div>\n",
       "<style scoped>\n",
       "    .dataframe tbody tr th:only-of-type {\n",
       "        vertical-align: middle;\n",
       "    }\n",
       "\n",
       "    .dataframe tbody tr th {\n",
       "        vertical-align: top;\n",
       "    }\n",
       "\n",
       "    .dataframe thead th {\n",
       "        text-align: right;\n",
       "    }\n",
       "</style>\n",
       "<table border=\"1\" class=\"dataframe\">\n",
       "  <thead>\n",
       "    <tr style=\"text-align: right;\">\n",
       "      <th></th>\n",
       "      <th>PRECISION</th>\n",
       "      <th>PRECISION_RECALL_MIN_DEN</th>\n",
       "      <th>RECALL</th>\n",
       "      <th>MAP</th>\n",
       "      <th>MAP_MIN_DEN</th>\n",
       "      <th>MRR</th>\n",
       "      <th>NDCG</th>\n",
       "      <th>F1</th>\n",
       "      <th>HIT_RATE</th>\n",
       "      <th>ARHR_ALL_HITS</th>\n",
       "      <th>...</th>\n",
       "      <th>COVERAGE_USER</th>\n",
       "      <th>COVERAGE_USER_HIT</th>\n",
       "      <th>USERS_IN_GT</th>\n",
       "      <th>DIVERSITY_GINI</th>\n",
       "      <th>SHANNON_ENTROPY</th>\n",
       "      <th>RATIO_DIVERSITY_HERFINDAHL</th>\n",
       "      <th>RATIO_DIVERSITY_GINI</th>\n",
       "      <th>RATIO_SHANNON_ENTROPY</th>\n",
       "      <th>RATIO_AVERAGE_POPULARITY</th>\n",
       "      <th>RATIO_NOVELTY</th>\n",
       "    </tr>\n",
       "    <tr>\n",
       "      <th>cutoff</th>\n",
       "      <th></th>\n",
       "      <th></th>\n",
       "      <th></th>\n",
       "      <th></th>\n",
       "      <th></th>\n",
       "      <th></th>\n",
       "      <th></th>\n",
       "      <th></th>\n",
       "      <th></th>\n",
       "      <th></th>\n",
       "      <th></th>\n",
       "      <th></th>\n",
       "      <th></th>\n",
       "      <th></th>\n",
       "      <th></th>\n",
       "      <th></th>\n",
       "      <th></th>\n",
       "      <th></th>\n",
       "      <th></th>\n",
       "      <th></th>\n",
       "      <th></th>\n",
       "    </tr>\n",
       "  </thead>\n",
       "  <tbody>\n",
       "    <tr>\n",
       "      <th>10</th>\n",
       "      <td>0.041586</td>\n",
       "      <td>0.070656</td>\n",
       "      <td>0.066109</td>\n",
       "      <td>0.020526</td>\n",
       "      <td>0.033959</td>\n",
       "      <td>0.135353</td>\n",
       "      <td>NaN</td>\n",
       "      <td>0.051055</td>\n",
       "      <td>0.273424</td>\n",
       "      <td>0.165148</td>\n",
       "      <td>...</td>\n",
       "      <td>0.961661</td>\n",
       "      <td>0.262942</td>\n",
       "      <td>0.961661</td>\n",
       "      <td>0.019984</td>\n",
       "      <td>8.410784</td>\n",
       "      <td>0.989916</td>\n",
       "      <td>0.045697</td>\n",
       "      <td>0.625414</td>\n",
       "      <td>4.653941</td>\n",
       "      <td>0.26107</td>\n",
       "    </tr>\n",
       "  </tbody>\n",
       "</table>\n",
       "<p>1 rows × 27 columns</p>\n",
       "</div>"
      ],
      "text/plain": [
       "       PRECISION PRECISION_RECALL_MIN_DEN    RECALL       MAP MAP_MIN_DEN  \\\n",
       "cutoff                                                                      \n",
       "10      0.041586                 0.070656  0.066109  0.020526    0.033959   \n",
       "\n",
       "             MRR NDCG        F1  HIT_RATE ARHR_ALL_HITS  ... COVERAGE_USER  \\\n",
       "cutoff                                                   ...                 \n",
       "10      0.135353  NaN  0.051055  0.273424      0.165148  ...      0.961661   \n",
       "\n",
       "       COVERAGE_USER_HIT USERS_IN_GT DIVERSITY_GINI SHANNON_ENTROPY  \\\n",
       "cutoff                                                                \n",
       "10              0.262942    0.961661       0.019984        8.410784   \n",
       "\n",
       "       RATIO_DIVERSITY_HERFINDAHL RATIO_DIVERSITY_GINI RATIO_SHANNON_ENTROPY  \\\n",
       "cutoff                                                                         \n",
       "10                       0.989916             0.045697              0.625414   \n",
       "\n",
       "       RATIO_AVERAGE_POPULARITY RATIO_NOVELTY  \n",
       "cutoff                                         \n",
       "10                     4.653941       0.26107  \n",
       "\n",
       "[1 rows x 27 columns]"
      ]
     },
     "execution_count": 15,
     "metadata": {},
     "output_type": "execute_result"
    }
   ],
   "source": [
    "evaluator_test = EvaluatorHoldout(URMv_test, [10])\n",
    "ris, _ = evaluator_test.evaluateRecommender(hybrid)\n",
    "ris"
   ]
  },
  {
   "cell_type": "code",
   "execution_count": 16,
   "metadata": {},
   "outputs": [
    {
     "name": "stdout",
     "output_type": "stream",
     "text": [
      "EvaluatorHoldout: Ignoring 1596 ( 3.8%) Users that have less than 1 test interactions\n"
     ]
    },
    {
     "name": "stderr",
     "output_type": "stream",
     "text": [
      "/Users/daniele/Desktop/RecSys/RecSysChallenge2023-Team/Evaluation/metrics.py:276: RuntimeWarning: overflow encountered in power\n",
      "  return np.sum(np.divide(np.power(2, scores) - 1, np.log2(np.arange(scores.shape[0], dtype=np.float64) + 2)),\n",
      "/Users/daniele/Desktop/RecSys/RecSysChallenge2023-Team/Evaluation/metrics.py:270: RuntimeWarning: invalid value encountered in double_scalars\n",
      "  ndcg_ = rank_dcg / ideal_dcg\n"
     ]
    },
    {
     "name": "stdout",
     "output_type": "stream",
     "text": [
      "EvaluatorHoldout: Processed 40033 (100.0%) in 12.15 sec. Users per second: 3294\n"
     ]
    },
    {
     "data": {
      "text/html": [
       "<div>\n",
       "<style scoped>\n",
       "    .dataframe tbody tr th:only-of-type {\n",
       "        vertical-align: middle;\n",
       "    }\n",
       "\n",
       "    .dataframe tbody tr th {\n",
       "        vertical-align: top;\n",
       "    }\n",
       "\n",
       "    .dataframe thead th {\n",
       "        text-align: right;\n",
       "    }\n",
       "</style>\n",
       "<table border=\"1\" class=\"dataframe\">\n",
       "  <thead>\n",
       "    <tr style=\"text-align: right;\">\n",
       "      <th></th>\n",
       "      <th>PRECISION</th>\n",
       "      <th>PRECISION_RECALL_MIN_DEN</th>\n",
       "      <th>RECALL</th>\n",
       "      <th>MAP</th>\n",
       "      <th>MAP_MIN_DEN</th>\n",
       "      <th>MRR</th>\n",
       "      <th>NDCG</th>\n",
       "      <th>F1</th>\n",
       "      <th>HIT_RATE</th>\n",
       "      <th>ARHR_ALL_HITS</th>\n",
       "      <th>...</th>\n",
       "      <th>COVERAGE_USER</th>\n",
       "      <th>COVERAGE_USER_HIT</th>\n",
       "      <th>USERS_IN_GT</th>\n",
       "      <th>DIVERSITY_GINI</th>\n",
       "      <th>SHANNON_ENTROPY</th>\n",
       "      <th>RATIO_DIVERSITY_HERFINDAHL</th>\n",
       "      <th>RATIO_DIVERSITY_GINI</th>\n",
       "      <th>RATIO_SHANNON_ENTROPY</th>\n",
       "      <th>RATIO_AVERAGE_POPULARITY</th>\n",
       "      <th>RATIO_NOVELTY</th>\n",
       "    </tr>\n",
       "    <tr>\n",
       "      <th>cutoff</th>\n",
       "      <th></th>\n",
       "      <th></th>\n",
       "      <th></th>\n",
       "      <th></th>\n",
       "      <th></th>\n",
       "      <th></th>\n",
       "      <th></th>\n",
       "      <th></th>\n",
       "      <th></th>\n",
       "      <th></th>\n",
       "      <th></th>\n",
       "      <th></th>\n",
       "      <th></th>\n",
       "      <th></th>\n",
       "      <th></th>\n",
       "      <th></th>\n",
       "      <th></th>\n",
       "      <th></th>\n",
       "      <th></th>\n",
       "      <th></th>\n",
       "      <th></th>\n",
       "    </tr>\n",
       "  </thead>\n",
       "  <tbody>\n",
       "    <tr>\n",
       "      <th>10</th>\n",
       "      <td>0.041099</td>\n",
       "      <td>0.069824</td>\n",
       "      <td>0.065316</td>\n",
       "      <td>0.020333</td>\n",
       "      <td>0.033679</td>\n",
       "      <td>0.134733</td>\n",
       "      <td>NaN</td>\n",
       "      <td>0.050452</td>\n",
       "      <td>0.271526</td>\n",
       "      <td>0.163997</td>\n",
       "      <td>...</td>\n",
       "      <td>0.961661</td>\n",
       "      <td>0.261116</td>\n",
       "      <td>0.961661</td>\n",
       "      <td>0.047223</td>\n",
       "      <td>9.460574</td>\n",
       "      <td>0.995186</td>\n",
       "      <td>0.10802</td>\n",
       "      <td>0.703496</td>\n",
       "      <td>3.478553</td>\n",
       "      <td>0.276984</td>\n",
       "    </tr>\n",
       "  </tbody>\n",
       "</table>\n",
       "<p>1 rows × 27 columns</p>\n",
       "</div>"
      ],
      "text/plain": [
       "       PRECISION PRECISION_RECALL_MIN_DEN    RECALL       MAP MAP_MIN_DEN  \\\n",
       "cutoff                                                                      \n",
       "10      0.041099                 0.069824  0.065316  0.020333    0.033679   \n",
       "\n",
       "             MRR NDCG        F1  HIT_RATE ARHR_ALL_HITS  ... COVERAGE_USER  \\\n",
       "cutoff                                                   ...                 \n",
       "10      0.134733  NaN  0.050452  0.271526      0.163997  ...      0.961661   \n",
       "\n",
       "       COVERAGE_USER_HIT USERS_IN_GT DIVERSITY_GINI SHANNON_ENTROPY  \\\n",
       "cutoff                                                                \n",
       "10              0.261116    0.961661       0.047223        9.460574   \n",
       "\n",
       "       RATIO_DIVERSITY_HERFINDAHL RATIO_DIVERSITY_GINI RATIO_SHANNON_ENTROPY  \\\n",
       "cutoff                                                                         \n",
       "10                       0.995186              0.10802              0.703496   \n",
       "\n",
       "       RATIO_AVERAGE_POPULARITY RATIO_NOVELTY  \n",
       "cutoff                                         \n",
       "10                     3.478553      0.276984  \n",
       "\n",
       "[1 rows x 27 columns]"
      ]
     },
     "execution_count": 16,
     "metadata": {},
     "output_type": "execute_result"
    }
   ],
   "source": [
    "evaluator_test = EvaluatorHoldout(URMv_test, [10])\n",
    "ris, _ = evaluator_test.evaluateRecommender(best_reference)\n",
    "ris"
   ]
  }
 ],
 "metadata": {
  "kernelspec": {
   "display_name": "base",
   "language": "python",
   "name": "python3"
  },
  "language_info": {
   "codemirror_mode": {
    "name": "ipython",
    "version": 3
   },
   "file_extension": ".py",
   "mimetype": "text/x-python",
   "name": "python",
   "nbconvert_exporter": "python",
   "pygments_lexer": "ipython3",
   "version": "3.9.13"
  },
  "orig_nbformat": 4,
  "vscode": {
   "interpreter": {
    "hash": "6e76083d1a5f4c0027e70cf105b7627b1b5e567462449feedfd1ad9407b42e24"
   }
  }
 },
 "nbformat": 4,
 "nbformat_minor": 2
}
