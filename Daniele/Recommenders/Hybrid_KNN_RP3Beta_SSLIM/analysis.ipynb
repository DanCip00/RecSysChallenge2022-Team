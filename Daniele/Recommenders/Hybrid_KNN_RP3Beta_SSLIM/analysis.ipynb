{
 "cells": [
  {
   "cell_type": "code",
   "execution_count": 9,
   "metadata": {},
   "outputs": [],
   "source": [
    "import os \n",
    "import sys\n",
    "while os.path.split(os.getcwd())[1] != 'RecSysChallenge2023-Team':\n",
    "    os.chdir('..')\n",
    "sys.path.insert(1, os.getcwd())\n",
    "\n",
    "import numpy as np "
   ]
  },
  {
   "cell_type": "code",
   "execution_count": 10,
   "metadata": {},
   "outputs": [],
   "source": [
    "path_save= \"Daniele/Recommenders/Hybrid_KNN_RP3Beta_SSLIM/saved_models\"\n",
    "if not os.path.exists(path_save):\n",
    "    os.makedirs(path_save)"
   ]
  },
  {
   "cell_type": "markdown",
   "metadata": {},
   "source": []
  },
  {
   "cell_type": "code",
   "execution_count": 11,
   "metadata": {},
   "outputs": [
    {
     "name": "stdout",
     "output_type": "stream",
     "text": [
      "Warning: 3 (0.01 %) of 41629 users have no train items\n",
      "Warning: 1497 (3.60 %) of 41629 users have no sampled items\n"
     ]
    },
    {
     "name": "stderr",
     "output_type": "stream",
     "text": [
      "100%|██████████| 27968/27968 [00:01<00:00, 16264.91it/s]\n",
      "100%|██████████| 841462/841462 [00:00<00:00, 1740269.91it/s]\n",
      "100%|██████████| 27968/27968 [00:01<00:00, 20999.12it/s]\n",
      "100%|██████████| 663370/663370 [00:00<00:00, 1816789.81it/s]\n",
      "100%|██████████| 27968/27968 [00:01<00:00, 16624.38it/s]\n",
      "100%|██████████| 841462/841462 [00:00<00:00, 1777141.25it/s]\n",
      "100%|██████████| 27968/27968 [00:01<00:00, 20418.72it/s]\n",
      "100%|██████████| 663370/663370 [00:00<00:00, 1670360.00it/s]\n"
     ]
    }
   ],
   "source": [
    "from Data_manager.split_functions.split_train_validation_random_holdout import split_train_in_two_percentage_global_sample\n",
    "from Evaluation.Evaluator import EvaluatorHoldout\n",
    "\n",
    "import Daniele.Utils.MyDataManager as dm \n",
    "import Daniele.Utils.MatrixManipulation as mm\n",
    "import Daniele.Utils.SaveSparceMatrix as ssm\n",
    "\n",
    "URMv = dm.getURMviews()\n",
    "URMo = dm.getURMopen()\n",
    "ICMt=dm.getICMt()\n",
    "ICMl=dm.getICMl()\n",
    "\n",
    "name=\"train.csv\"\n",
    "dir = os.path.join(path_save,name)\n",
    "if not os.path.exists(dir+\".csv\"):\n",
    "    URMv_train, URMv_test = split_train_in_two_percentage_global_sample(URMv, train_percentage = 0.80)\n",
    "\n",
    "    ssm.saveMatrix(dir,URMv_train)\n",
    "\n",
    "    name=\"test.csv\"\n",
    "    dir = os.path.join(path_save,name)\n",
    "    ssm.saveMatrix(dir,URMv_test)\n",
    "\n",
    "    urm_def = mm.defaultExplicitURM(urmv=URMv_train,urmo=URMo,icml=ICMl,icmt=ICMt, normalize=True, add_aug=True,appendICM=True)\n",
    "    name=\"urm_def.csv\"\n",
    "    dir = os.path.join(path_save,name)\n",
    "    ssm.saveMatrix(dir,urm_def)\n",
    "\n",
    "    urm_bin = mm.defaultExplicitURM(urmv=URMv_train,urmo=URMo, normalize=False, add_aug=True)\n",
    "    urm_bin.data = np.ones(len(urm_bin.data))\n",
    "    name=\"urm_bin.csv\"\n",
    "    dir = os.path.join(path_save,name)\n",
    "    ssm.saveMatrix(dir,urm_bin)\n",
    "\n",
    "else:\n",
    "    URMv_train=ssm.readMatrix(dir)\n",
    "\n",
    "    name=\"test.csv\"\n",
    "    dir = os.path.join(path_save,name)\n",
    "    URMv_test=ssm.readMatrix(dir)\n",
    "\n",
    "    name=\"urm_def.csv\"\n",
    "    dir = os.path.join(path_save,name)\n",
    "    urm_def = ssm.readMatrix(dir)\n",
    "\n",
    "    name=\"urm_bin.csv\"\n",
    "    dir = os.path.join(path_save,name)\n",
    "    urm_bin = ssm.readMatrix(dir)\n",
    "\n"
   ]
  },
  {
   "attachments": {},
   "cell_type": "markdown",
   "metadata": {},
   "source": [
    "### SSLIIM"
   ]
  },
  {
   "cell_type": "code",
   "execution_count": 12,
   "metadata": {},
   "outputs": [
    {
     "name": "stdout",
     "output_type": "stream",
     "text": [
      "SLIM_BPR_Recommender: URM Detected 2 ( 0.0%) users with no interactions.\n",
      "Unable to read memory status: list index out of range\n",
      "SLIM_BPR_Recommender: Automatic selection of fastest train mode. Unable to get current RAM status, you may be using a non-Linux operating system. Using dense matrix.\n"
     ]
    },
    {
     "name": "stderr",
     "output_type": "stream",
     "text": [
      "/bin/sh: free: command not found\n"
     ]
    },
    {
     "name": "stdout",
     "output_type": "stream",
     "text": [
      "Processed 70335 (100.0%) in 3.63 sec. BPR loss is 8.31E-01. Sample per second: 19371\n",
      "SLIM_BPR_Recommender: Epoch 1 of 25. Elapsed time 3.04 sec\n",
      "Processed 70335 (100.0%) in 2.55 sec. BPR loss is 3.10E+00. Sample per second: 27560\n",
      "SLIM_BPR_Recommender: Epoch 2 of 25. Elapsed time 4.95 sec\n",
      "Processed 70335 (100.0%) in 0.95 sec. BPR loss is 5.52E+00. Sample per second: 74238\n",
      "SLIM_BPR_Recommender: Epoch 3 of 25. Elapsed time 5.35 sec\n",
      "Processed 70335 (100.0%) in 1.18 sec. BPR loss is 7.52E+00. Sample per second: 59478\n",
      "SLIM_BPR_Recommender: Epoch 4 of 25. Elapsed time 5.58 sec\n",
      "Processed 70335 (100.0%) in 0.41 sec. BPR loss is 9.39E+00. Sample per second: 170081\n",
      "SLIM_BPR_Recommender: Epoch 5 of 25. Elapsed time 5.81 sec\n",
      "Processed 70335 (100.0%) in 0.63 sec. BPR loss is 1.12E+01. Sample per second: 111469\n",
      "SLIM_BPR_Recommender: Epoch 6 of 25. Elapsed time 6.03 sec\n",
      "Processed 70335 (100.0%) in 0.83 sec. BPR loss is 1.35E+01. Sample per second: 84648\n",
      "SLIM_BPR_Recommender: Epoch 7 of 25. Elapsed time 6.23 sec\n",
      "Processed 70335 (100.0%) in 1.14 sec. BPR loss is 1.49E+01. Sample per second: 61436\n",
      "SLIM_BPR_Recommender: Epoch 8 of 25. Elapsed time 6.54 sec\n",
      "Processed 70335 (100.0%) in 0.56 sec. BPR loss is 1.73E+01. Sample per second: 124596\n",
      "SLIM_BPR_Recommender: Epoch 9 of 25. Elapsed time 6.97 sec\n",
      "Processed 70335 (100.0%) in 0.93 sec. BPR loss is 1.84E+01. Sample per second: 76006\n",
      "SLIM_BPR_Recommender: Epoch 10 of 25. Elapsed time 7.32 sec\n",
      "Processed 70335 (100.0%) in 1.26 sec. BPR loss is 2.08E+01. Sample per second: 55847\n",
      "SLIM_BPR_Recommender: Epoch 11 of 25. Elapsed time 7.66 sec\n",
      "Processed 70335 (100.0%) in 0.64 sec. BPR loss is 2.25E+01. Sample per second: 109852\n",
      "SLIM_BPR_Recommender: Epoch 12 of 25. Elapsed time 8.04 sec\n",
      "Processed 70335 (100.0%) in 0.92 sec. BPR loss is 2.28E+01. Sample per second: 76398\n",
      "SLIM_BPR_Recommender: Epoch 13 of 25. Elapsed time 8.32 sec\n",
      "Processed 70335 (100.0%) in 1.14 sec. BPR loss is 2.56E+01. Sample per second: 61459\n",
      "SLIM_BPR_Recommender: Epoch 14 of 25. Elapsed time 8.54 sec\n",
      "Processed 70335 (100.0%) in 0.38 sec. BPR loss is 2.67E+01. Sample per second: 183255\n",
      "SLIM_BPR_Recommender: Epoch 15 of 25. Elapsed time 8.78 sec\n",
      "Processed 70335 (100.0%) in 0.63 sec. BPR loss is 2.97E+01. Sample per second: 111379\n",
      "SLIM_BPR_Recommender: Epoch 16 of 25. Elapsed time 9.03 sec\n",
      "Processed 70335 (100.0%) in 0.90 sec. BPR loss is 3.15E+01. Sample per second: 78365\n",
      "SLIM_BPR_Recommender: Epoch 17 of 25. Elapsed time 9.30 sec\n",
      "Processed 70335 (100.0%) in 1.15 sec. BPR loss is 3.28E+01. Sample per second: 61156\n",
      "SLIM_BPR_Recommender: Epoch 18 of 25. Elapsed time 9.55 sec\n",
      "Processed 70335 (100.0%) in 0.35 sec. BPR loss is 3.37E+01. Sample per second: 201128\n",
      "SLIM_BPR_Recommender: Epoch 19 of 25. Elapsed time 9.75 sec\n",
      "Processed 70335 (100.0%) in 0.52 sec. BPR loss is 3.62E+01. Sample per second: 135494\n",
      "SLIM_BPR_Recommender: Epoch 20 of 25. Elapsed time 9.92 sec\n",
      "Processed 70335 (100.0%) in 0.70 sec. BPR loss is 3.90E+01. Sample per second: 100136\n",
      "SLIM_BPR_Recommender: Epoch 21 of 25. Elapsed time 10.10 sec\n",
      "Processed 70335 (100.0%) in 0.88 sec. BPR loss is 4.07E+01. Sample per second: 80092\n",
      "SLIM_BPR_Recommender: Epoch 22 of 25. Elapsed time 10.28 sec\n",
      "Processed 70335 (100.0%) in 1.03 sec. BPR loss is 4.27E+01. Sample per second: 68147\n",
      "SLIM_BPR_Recommender: Epoch 23 of 25. Elapsed time 10.43 sec\n",
      "Processed 70335 (100.0%) in 0.18 sec. BPR loss is 4.30E+01. Sample per second: 386486\n",
      "SLIM_BPR_Recommender: Epoch 24 of 25. Elapsed time 10.58 sec\n",
      "Processed 70335 (100.0%) in 0.33 sec. BPR loss is 4.56E+01. Sample per second: 215886\n",
      "SLIM_BPR_Recommender: Epoch 25 of 25. Elapsed time 10.72 sec\n",
      "SLIM_BPR_Recommender: Terminating at epoch 25. Elapsed time 22.36 sec\n",
      "Deallocating Cython objects\n",
      "SLIM_BPR_Recommender: Saving model in file 'Daniele/Recommenders/Hybrid_KNN_RP3Beta_SSLIM/saved_modelssslim01'\n",
      "SLIM_BPR_Recommender: Saving complete\n"
     ]
    }
   ],
   "source": [
    "from Recommenders.SLIM.Cython.SLIM_BPR_Cython import SLIM_BPR_Cython\n",
    "name=\"sslim01\"\n",
    "dir = os.path.join(path_save,name)\n",
    "\n",
    "sslim_recommender = SLIM_BPR_Cython(URM_train=urm_def)\n",
    "if not os.path.exists(dir+\".zip\"):\n",
    "    sslim_recommender.fit(topK= 305, epochs=25,symmetric=True, sgd_mode = 'adam', lambda_i = 0.0008132913041259862, lambda_j=0.004889521240194745, learning_rate = 0.005381553515814384)\n",
    "    sslim_recommender.save_model(path_save,name)\n",
    "else:\n",
    "    sslim_recommender.load_model(path_save,name)\n",
    "   "
   ]
  },
  {
   "attachments": {},
   "cell_type": "markdown",
   "metadata": {},
   "source": [
    "### KNN_CFCBF "
   ]
  },
  {
   "cell_type": "code",
   "execution_count": 13,
   "metadata": {},
   "outputs": [
    {
     "name": "stdout",
     "output_type": "stream",
     "text": [
      "KNN_CFCBF_custom: URM Detected 3461 (12.4%) items with no interactions.\n",
      "Beta-> 1.0 \tICM_weight-> 1.0\n",
      "Similarity column 27968 (100.0%), 2482.14 column/sec. Elapsed time 11.27 sec\n",
      "KNN_CFCBF_custom: Saving model in file 'Daniele/Recommenders/Hybrid_KNN_RP3Beta_SSLIM/saved_modelsknn_cfcbf'\n",
      "KNN_CFCBF_custom: Saving complete\n"
     ]
    }
   ],
   "source": [
    "from Daniele.Recommenders.KNN_CFCBF.ItemKNN_CFCBF_Hybrid_Recommender import KNN_CFCBF_custom\n",
    "name=\"knn_cfcbf\"\n",
    "dir = os.path.join(path_save,name)\n",
    "\n",
    "KNN_recommender = KNN_CFCBF_custom(URMv_train,URMo,ICM_train=mm.augmentedICM(ICMt,ICMl))\n",
    "if not os.path.exists(dir+\".zip\"):\n",
    "    KNN_recommender.fit(topK= 744, shrink= 457, similarity= 'cosine', normalize= True, feature_weighting='TF-IDF')\n",
    "    KNN_recommender.save_model(path_save,name)\n",
    "else:\n",
    "    KNN_recommender.load_model(path_save,name)"
   ]
  },
  {
   "attachments": {},
   "cell_type": "markdown",
   "metadata": {},
   "source": [
    "### RP3Beta \n"
   ]
  },
  {
   "cell_type": "code",
   "execution_count": 14,
   "metadata": {},
   "outputs": [
    {
     "name": "stdout",
     "output_type": "stream",
     "text": [
      "RP3betaRecommender: URM Detected 3461 (12.4%) items with no interactions.\n",
      "RP3betaRecommender: Similarity column 27968 (100.0%), 3957.34 column/sec. Elapsed time 7.07 sec\n",
      "RP3betaRecommender: Saving model in file 'Daniele/Recommenders/Hybrid_KNN_RP3Beta_SSLIM/saved_modelsrp3beta'\n",
      "RP3betaRecommender: Saving complete\n"
     ]
    }
   ],
   "source": [
    "from Recommenders.GraphBased.RP3betaRecommender import RP3betaRecommender\n",
    "name=\"rp3beta\"\n",
    "dir = os.path.join(path_save,name)\n",
    "\n",
    "\n",
    "rp3beta_recommender = RP3betaRecommender(urm_bin)\n",
    "if not os.path.exists(dir+\".zip\"):\n",
    "    rp3beta_recommender.fit(topK= 89, alpha= 0.6361002951626124, beta= 0.27432996564004203, normalize_similarity= True)\n",
    "    rp3beta_recommender.save_model(path_save,name)\n",
    "else:\n",
    "    rp3beta_recommender.load_model(path_save,name)"
   ]
  },
  {
   "attachments": {},
   "cell_type": "markdown",
   "metadata": {},
   "source": [
    "### RP3Beta - KNN_CFCBF"
   ]
  },
  {
   "cell_type": "code",
   "execution_count": 15,
   "metadata": {},
   "outputs": [
    {
     "name": "stdout",
     "output_type": "stream",
     "text": [
      "ItemKNNCustomSimilarityRecommender: URM Detected 2 ( 0.0%) users with no interactions.\n",
      "ItemKNNCustomSimilarityRecommender: Saving model in file 'Daniele/Recommenders/Hybrid_KNN_RP3Beta_SSLIM/saved_modelsrp3beta-knn'\n",
      "ItemKNNCustomSimilarityRecommender: Saving complete\n"
     ]
    }
   ],
   "source": [
    "from Recommenders.KNN.ItemKNNCustomSimilarityRecommender import ItemKNNCustomSimilarityRecommender\n",
    "alpha_knn_rp3 = 0.7\n",
    "name=\"rp3beta-knn\"\n",
    "dir = os.path.join(path_save,name)\n",
    "\n",
    "\n",
    "knn_rp3_recommender = ItemKNNCustomSimilarityRecommender(urm_def)\n",
    "if not os.path.exists(dir+\".zip\"):\n",
    "    knn_rp3_recommender.fit((1 - alpha_knn_rp3) * KNN_recommender.W_sparse + alpha_knn_rp3* rp3beta_recommender.W_sparse)\n",
    "    knn_rp3_recommender.save_model(path_save,name)\n",
    "else:\n",
    "    knn_rp3_recommender.load_model(path_save,name)"
   ]
  },
  {
   "attachments": {},
   "cell_type": "markdown",
   "metadata": {},
   "source": [
    "### TopPop"
   ]
  },
  {
   "cell_type": "code",
   "execution_count": 16,
   "metadata": {},
   "outputs": [
    {
     "name": "stdout",
     "output_type": "stream",
     "text": [
      "TopPopRecommender: URM Detected 3461 (12.4%) items with no interactions.\n",
      "TopPopRecommender: Saving model in file 'Daniele/Recommenders/Hybrid_KNN_RP3Beta_SSLIM/saved_modelsTopPop'\n",
      "TopPopRecommender: Saving complete\n"
     ]
    }
   ],
   "source": [
    "from Recommenders.NonPersonalizedRecommender import TopPop\n",
    "name=\"TopPop\"\n",
    "dir = os.path.join(path_save,name)\n",
    "\n",
    "most_viewed = TopPop(urm_bin)\n",
    "if not os.path.exists(dir+\".zip\"):\n",
    "    most_viewed.fit()\n",
    "    most_viewed.save_model(path_save,name)\n",
    "else:\n",
    "    most_viewed.load_model(path_save,name)"
   ]
  },
  {
   "attachments": {},
   "cell_type": "markdown",
   "metadata": {},
   "source": [
    "### REFERENCE RP3Beta 0.052"
   ]
  },
  {
   "cell_type": "code",
   "execution_count": 17,
   "metadata": {},
   "outputs": [
    {
     "name": "stdout",
     "output_type": "stream",
     "text": [
      "RP3betaRecommender: URM Detected 3461 (12.4%) items with no interactions.\n",
      "RP3betaRecommender: Similarity column 27968 (100.0%), 3942.38 column/sec. Elapsed time 7.09 sec\n"
     ]
    }
   ],
   "source": [
    "best_reference = RP3betaRecommender(urm_bin)\n",
    "#{'topK': 106, 'alpha': 0.6155817289031643, 'beta': 0.33427474623540737, 'normalize_similarity': True} -> MAP 0.0276355\n",
    "best_reference.fit(topK= 106, alpha= 0.6155817289031643, beta= 0.33427474623540737, normalize_similarity= True)\n"
   ]
  },
  {
   "attachments": {},
   "cell_type": "markdown",
   "metadata": {},
   "source": [
    "### Hybrid"
   ]
  },
  {
   "cell_type": "code",
   "execution_count": 18,
   "metadata": {},
   "outputs": [
    {
     "name": "stderr",
     "output_type": "stream",
     "text": [
      "100%|██████████| 27968/27968 [00:01<00:00, 15556.57it/s]\n",
      "100%|██████████| 841462/841462 [00:00<00:00, 1841177.40it/s]\n",
      "100%|██████████| 27968/27968 [00:01<00:00, 20619.76it/s]\n",
      "100%|██████████| 663370/663370 [00:00<00:00, 1795225.71it/s]\n",
      "100%|██████████| 27968/27968 [00:01<00:00, 16393.77it/s]\n",
      "100%|██████████| 841462/841462 [00:00<00:00, 1810627.44it/s]\n",
      "100%|██████████| 27968/27968 [00:01<00:00, 19990.38it/s]\n",
      "100%|██████████| 663370/663370 [00:00<00:00, 1815357.89it/s]\n",
      "100%|██████████| 27968/27968 [00:01<00:00, 14187.63it/s]\n",
      "100%|██████████| 841462/841462 [00:00<00:00, 1847275.57it/s]\n",
      "100%|██████████| 27968/27968 [00:01<00:00, 20806.78it/s]\n",
      "100%|██████████| 663370/663370 [00:00<00:00, 1225771.13it/s]\n"
     ]
    },
    {
     "name": "stdout",
     "output_type": "stream",
     "text": [
      "RP3BetaKNNRecommender: URM Detected 3461 (12.4%) items with no interactions.\n"
     ]
    }
   ],
   "source": [
    "from Daniele.Recommenders.Hybrid_KNN_RP3Beta_SSLIM.hybrid import SSLIMRP3BetaKNNRecommender\n",
    "\n",
    "hybrid = SSLIMRP3BetaKNNRecommender(URMv_train,URMo,ICMt,ICMl)\n",
    "hybrid.rp3beta_recommender = rp3beta_recommender\n",
    "hybrid.KNN_recommender = KNN_recommender\n",
    "hybrid.sslim_recommender = sslim_recommender\n",
    "hybrid.knn_rp3_recommender = knn_rp3_recommender\n",
    "hybrid.most_viewed = most_viewed\n",
    "\n",
    "# {'peso_1': 0.06475010925251191, 'peso_2': 0.027199820509343116, 'interactions_threshold': 7}\n",
    "hybrid.peso_1=0.06475010925251191\n",
    "hybrid.peso_2=0.027199820509343116\n",
    "hybrid.interactions_threshold =7"
   ]
  },
  {
   "attachments": {},
   "cell_type": "markdown",
   "metadata": {},
   "source": [
    "### Users group"
   ]
  },
  {
   "cell_type": "code",
   "execution_count": 19,
   "metadata": {},
   "outputs": [
    {
     "name": "stdout",
     "output_type": "stream",
     "text": [
      "Group 0, #users in group 2081, average p.len 5.12, median 5.0, min 0, max 6\n",
      "Group 1, #users in group 2081, average p.len 7.23, median 7.0, min 6, max 8\n",
      "Group 2, #users in group 2081, average p.len 8.36, median 8.0, min 8, max 9\n",
      "Group 3, #users in group 2081, average p.len 9.29, median 9.0, min 9, max 10\n",
      "Group 4, #users in group 2081, average p.len 10.14, median 10.0, min 10, max 11\n",
      "Group 5, #users in group 2081, average p.len 11.00, median 11.0, min 11, max 11\n",
      "Group 6, #users in group 2081, average p.len 11.97, median 12.0, min 11, max 12\n",
      "Group 7, #users in group 2081, average p.len 12.86, median 13.0, min 12, max 13\n",
      "Group 8, #users in group 2081, average p.len 13.75, median 14.0, min 13, max 14\n",
      "Group 9, #users in group 2081, average p.len 14.73, median 15.0, min 14, max 15\n",
      "Group 10, #users in group 2081, average p.len 15.81, median 16.0, min 15, max 16\n",
      "Group 11, #users in group 2081, average p.len 17.23, median 17.0, min 16, max 18\n",
      "Group 12, #users in group 2081, average p.len 18.63, median 19.0, min 18, max 20\n",
      "Group 13, #users in group 2081, average p.len 20.54, median 21.0, min 20, max 22\n",
      "Group 14, #users in group 2081, average p.len 22.84, median 23.0, min 22, max 24\n",
      "Group 15, #users in group 2081, average p.len 25.63, median 26.0, min 24, max 27\n",
      "Group 16, #users in group 2081, average p.len 29.30, median 29.0, min 27, max 32\n",
      "Group 17, #users in group 2081, average p.len 34.67, median 35.0, min 32, max 38\n",
      "Group 18, #users in group 2081, average p.len 43.37, median 43.0, min 38, max 50\n",
      "Group 19, #users in group 2081, average p.len 70.77, median 63.0, min 50, max 219\n"
     ]
    }
   ],
   "source": [
    "import numpy as np \n",
    "import scipy.sparse as sps\n",
    "\n",
    "profile_length = np.ediff1d(sps.csr_matrix(URMv_train).indptr)\n",
    "profile_length, profile_length.shape\n",
    "\n",
    "block_size = int(len(profile_length)*0.05)\n",
    "sorted_users = np.argsort(profile_length)\n",
    "\n",
    "for group_id in range(0, 20):\n",
    "    start_pos = group_id * block_size\n",
    "    end_pos = min((group_id+1) * block_size, len(profile_length))\n",
    "    \n",
    "    users_in_group = sorted_users[start_pos:end_pos]\n",
    "    \n",
    "    users_in_group_p_len = profile_length[users_in_group]\n",
    "    \n",
    "    print(\"Group {}, #users in group {}, average p.len {:.2f}, median {}, min {}, max {}\".format(\n",
    "        group_id, \n",
    "        users_in_group.shape[0],\n",
    "        users_in_group_p_len.mean(),\n",
    "        np.median(users_in_group_p_len),\n",
    "        users_in_group_p_len.min(),\n",
    "        users_in_group_p_len.max()))"
   ]
  },
  {
   "cell_type": "code",
   "execution_count": 20,
   "metadata": {},
   "outputs": [],
   "source": [
    "MAP_recommender_per_group = {}\n",
    "recommender_object_dict = {}\n",
    "\n",
    "recommender_class = {#\"rp3beta_recommender\" : rp3beta_recommender,\n",
    "                     #\"KNN_recommender\" : KNN_recommender,\n",
    "                     \"sslim_recommender\" : sslim_recommender,\n",
    "                     \"knn_rp3_recommender\" : knn_rp3_recommender,\n",
    "                     #\"most_viewed\" : most_viewed,\n",
    "                     \"best_reference\" :best_reference,\n",
    "                     \"hybrid\" : hybrid,\n",
    "                     }\n",
    "\n",
    "\n",
    "for label, recommender_obj in recommender_class.items():\n",
    "    recommender_object_dict[label] = recommender_obj"
   ]
  },
  {
   "cell_type": "code",
   "execution_count": 21,
   "metadata": {},
   "outputs": [
    {
     "name": "stdout",
     "output_type": "stream",
     "text": [
      "Group 0, #users in group 2081, average p.len 5.12, median 5.0, min 0, max 6\n",
      "EvaluatorHoldout: Ignoring 1497 ( 3.6%) Users that have less than 1 test interactions\n",
      "EvaluatorHoldout: Ignoring 39548 Users\n",
      "EvaluatorHoldout: Processed 1909 (100.0%) in 1.36 sec. Users per second: 1407\n",
      "EvaluatorHoldout: Processed 1909 (100.0%) in 1.75 sec. Users per second: 1091\n",
      "EvaluatorHoldout: Processed 1909 (100.0%) in 1.19 sec. Users per second: 1608\n",
      "toppop\n",
      "toppop\n",
      "toppop\n",
      "EvaluatorHoldout: Processed 1909 (100.0%) in 1.65 sec. Users per second: 1153\n",
      "Group 1, #users in group 2081, average p.len 7.23, median 7.0, min 6, max 8\n",
      "EvaluatorHoldout: Ignoring 1497 ( 3.6%) Users that have less than 1 test interactions\n",
      "EvaluatorHoldout: Ignoring 39548 Users\n",
      "EvaluatorHoldout: Processed 1916 (100.0%) in 1.39 sec. Users per second: 1378\n",
      "EvaluatorHoldout: Processed 1916 (100.0%) in 1.78 sec. Users per second: 1074\n",
      "EvaluatorHoldout: Processed 1916 (100.0%) in 1.33 sec. Users per second: 1446\n",
      "EvaluatorHoldout: Processed 1916 (100.0%) in 3.22 sec. Users per second: 594\n",
      "Group 2, #users in group 2081, average p.len 8.36, median 8.0, min 8, max 9\n",
      "EvaluatorHoldout: Ignoring 1497 ( 3.6%) Users that have less than 1 test interactions\n",
      "EvaluatorHoldout: Ignoring 39548 Users\n",
      "EvaluatorHoldout: Processed 1931 (100.0%) in 1.36 sec. Users per second: 1423\n",
      "EvaluatorHoldout: Processed 1931 (100.0%) in 1.87 sec. Users per second: 1032\n",
      "EvaluatorHoldout: Processed 1931 (100.0%) in 1.21 sec. Users per second: 1593\n",
      "EvaluatorHoldout: Processed 1931 (100.0%) in 3.13 sec. Users per second: 617\n",
      "Group 3, #users in group 2081, average p.len 9.29, median 9.0, min 9, max 10\n",
      "EvaluatorHoldout: Ignoring 1497 ( 3.6%) Users that have less than 1 test interactions\n",
      "EvaluatorHoldout: Ignoring 39548 Users\n",
      "EvaluatorHoldout: Processed 1917 (100.0%) in 1.46 sec. Users per second: 1311\n",
      "EvaluatorHoldout: Processed 1917 (100.0%) in 1.87 sec. Users per second: 1025\n",
      "EvaluatorHoldout: Processed 1917 (100.0%) in 1.22 sec. Users per second: 1577\n",
      "EvaluatorHoldout: Processed 1917 (100.0%) in 3.95 sec. Users per second: 485\n",
      "Group 4, #users in group 2081, average p.len 10.14, median 10.0, min 10, max 11\n",
      "EvaluatorHoldout: Ignoring 1497 ( 3.6%) Users that have less than 1 test interactions\n",
      "EvaluatorHoldout: Ignoring 39548 Users\n",
      "EvaluatorHoldout: Processed 1948 (100.0%) in 1.71 sec. Users per second: 1138\n",
      "EvaluatorHoldout: Processed 1948 (100.0%) in 2.03 sec. Users per second: 961\n",
      "EvaluatorHoldout: Processed 1948 (100.0%) in 1.26 sec. Users per second: 1551\n",
      "EvaluatorHoldout: Processed 1948 (100.0%) in 3.26 sec. Users per second: 598\n",
      "Group 5, #users in group 2081, average p.len 11.00, median 11.0, min 11, max 11\n",
      "EvaluatorHoldout: Ignoring 1497 ( 3.6%) Users that have less than 1 test interactions\n",
      "EvaluatorHoldout: Ignoring 39548 Users\n",
      "EvaluatorHoldout: Processed 1961 (100.0%) in 1.39 sec. Users per second: 1415\n",
      "EvaluatorHoldout: Processed 1961 (100.0%) in 2.19 sec. Users per second: 894\n",
      "EvaluatorHoldout: Processed 1961 (100.0%) in 1.35 sec. Users per second: 1450\n",
      "EvaluatorHoldout: Processed 1961 (100.0%) in 3.30 sec. Users per second: 593\n",
      "Group 6, #users in group 2081, average p.len 11.97, median 12.0, min 11, max 12\n",
      "EvaluatorHoldout: Ignoring 1497 ( 3.6%) Users that have less than 1 test interactions\n",
      "EvaluatorHoldout: Ignoring 39548 Users\n",
      "EvaluatorHoldout: Processed 1967 (100.0%) in 1.40 sec. Users per second: 1400\n",
      "EvaluatorHoldout: Processed 1967 (100.0%) in 2.26 sec. Users per second: 872\n",
      "EvaluatorHoldout: Processed 1967 (100.0%) in 1.22 sec. Users per second: 1610\n",
      "EvaluatorHoldout: Processed 1967 (100.0%) in 3.56 sec. Users per second: 553\n",
      "Group 7, #users in group 2081, average p.len 12.86, median 13.0, min 12, max 13\n",
      "EvaluatorHoldout: Ignoring 1497 ( 3.6%) Users that have less than 1 test interactions\n",
      "EvaluatorHoldout: Ignoring 39548 Users\n",
      "EvaluatorHoldout: Processed 1976 (100.0%) in 1.44 sec. Users per second: 1372\n",
      "EvaluatorHoldout: Processed 1976 (100.0%) in 2.06 sec. Users per second: 960\n",
      "EvaluatorHoldout: Processed 1976 (100.0%) in 1.30 sec. Users per second: 1517\n",
      "EvaluatorHoldout: Processed 1976 (100.0%) in 3.39 sec. Users per second: 584\n",
      "Group 8, #users in group 2081, average p.len 13.75, median 14.0, min 13, max 14\n",
      "EvaluatorHoldout: Ignoring 1497 ( 3.6%) Users that have less than 1 test interactions\n",
      "EvaluatorHoldout: Ignoring 39548 Users\n",
      "EvaluatorHoldout: Processed 1984 (100.0%) in 1.46 sec. Users per second: 1355\n",
      "EvaluatorHoldout: Processed 1984 (100.0%) in 2.10 sec. Users per second: 945\n",
      "EvaluatorHoldout: Processed 1984 (100.0%) in 1.28 sec. Users per second: 1556\n",
      "EvaluatorHoldout: Processed 1984 (100.0%) in 3.46 sec. Users per second: 573\n",
      "Group 9, #users in group 2081, average p.len 14.73, median 15.0, min 14, max 15\n",
      "EvaluatorHoldout: Ignoring 1497 ( 3.6%) Users that have less than 1 test interactions\n",
      "EvaluatorHoldout: Ignoring 39548 Users\n",
      "EvaluatorHoldout: Processed 1999 (100.0%) in 1.45 sec. Users per second: 1375\n",
      "EvaluatorHoldout: Processed 1999 (100.0%) in 2.12 sec. Users per second: 941\n",
      "EvaluatorHoldout: Processed 1999 (100.0%) in 1.27 sec. Users per second: 1580\n",
      "EvaluatorHoldout: Processed 1999 (100.0%) in 2.71 sec. Users per second: 736\n",
      "Group 10, #users in group 2081, average p.len 15.81, median 16.0, min 15, max 16\n",
      "EvaluatorHoldout: Ignoring 1497 ( 3.6%) Users that have less than 1 test interactions\n",
      "EvaluatorHoldout: Ignoring 39548 Users\n",
      "EvaluatorHoldout: Processed 2025 (100.0%) in 1.48 sec. Users per second: 1370\n",
      "EvaluatorHoldout: Processed 2025 (100.0%) in 2.18 sec. Users per second: 929\n",
      "EvaluatorHoldout: Processed 2025 (100.0%) in 1.26 sec. Users per second: 1602\n",
      "EvaluatorHoldout: Processed 2025 (100.0%) in 2.71 sec. Users per second: 748\n",
      "Group 11, #users in group 2081, average p.len 17.23, median 17.0, min 16, max 18\n",
      "EvaluatorHoldout: Ignoring 1497 ( 3.6%) Users that have less than 1 test interactions\n",
      "EvaluatorHoldout: Ignoring 39548 Users\n",
      "EvaluatorHoldout: Processed 2033 (100.0%) in 1.62 sec. Users per second: 1251\n",
      "EvaluatorHoldout: Processed 2033 (100.0%) in 2.26 sec. Users per second: 900\n",
      "EvaluatorHoldout: Processed 2033 (100.0%) in 1.38 sec. Users per second: 1472\n",
      "EvaluatorHoldout: Processed 2033 (100.0%) in 2.53 sec. Users per second: 802\n",
      "Group 12, #users in group 2081, average p.len 18.63, median 19.0, min 18, max 20\n",
      "EvaluatorHoldout: Ignoring 1497 ( 3.6%) Users that have less than 1 test interactions\n",
      "EvaluatorHoldout: Ignoring 39548 Users\n",
      "EvaluatorHoldout: Processed 2040 (100.0%) in 1.52 sec. Users per second: 1345\n",
      "EvaluatorHoldout: Processed 2040 (100.0%) in 2.25 sec. Users per second: 905\n",
      "EvaluatorHoldout: Processed 2040 (100.0%) in 1.29 sec. Users per second: 1583\n",
      "EvaluatorHoldout: Processed 2040 (100.0%) in 2.54 sec. Users per second: 803\n",
      "Group 13, #users in group 2081, average p.len 20.54, median 21.0, min 20, max 22\n",
      "EvaluatorHoldout: Ignoring 1497 ( 3.6%) Users that have less than 1 test interactions\n",
      "EvaluatorHoldout: Ignoring 39548 Users\n",
      "EvaluatorHoldout: Processed 2057 (100.0%) in 1.54 sec. Users per second: 1337\n",
      "EvaluatorHoldout: Processed 2057 (100.0%) in 2.31 sec. Users per second: 892\n",
      "EvaluatorHoldout: Processed 2057 (100.0%) in 1.30 sec. Users per second: 1581\n",
      "EvaluatorHoldout: Processed 2057 (100.0%) in 2.57 sec. Users per second: 800\n",
      "Group 14, #users in group 2081, average p.len 22.84, median 23.0, min 22, max 24\n",
      "EvaluatorHoldout: Ignoring 1497 ( 3.6%) Users that have less than 1 test interactions\n",
      "EvaluatorHoldout: Ignoring 39548 Users\n",
      "EvaluatorHoldout: Processed 2068 (100.0%) in 1.55 sec. Users per second: 1338\n",
      "EvaluatorHoldout: Processed 2068 (100.0%) in 2.36 sec. Users per second: 875\n",
      "EvaluatorHoldout: Processed 2068 (100.0%) in 1.30 sec. Users per second: 1586\n",
      "EvaluatorHoldout: Processed 2068 (100.0%) in 1.58 sec. Users per second: 1309\n",
      "Group 15, #users in group 2081, average p.len 25.63, median 26.0, min 24, max 27\n",
      "EvaluatorHoldout: Ignoring 1497 ( 3.6%) Users that have less than 1 test interactions\n",
      "EvaluatorHoldout: Ignoring 39548 Users\n",
      "EvaluatorHoldout: Processed 2072 (100.0%) in 1.59 sec. Users per second: 1303\n",
      "EvaluatorHoldout: Processed 2072 (100.0%) in 2.42 sec. Users per second: 857\n",
      "EvaluatorHoldout: Processed 2072 (100.0%) in 1.32 sec. Users per second: 1573\n",
      "EvaluatorHoldout: Processed 2072 (100.0%) in 1.59 sec. Users per second: 1303\n",
      "Group 16, #users in group 2081, average p.len 29.30, median 29.0, min 27, max 32\n",
      "EvaluatorHoldout: Ignoring 1497 ( 3.6%) Users that have less than 1 test interactions\n",
      "EvaluatorHoldout: Ignoring 39548 Users\n",
      "EvaluatorHoldout: Processed 2078 (100.0%) in 1.62 sec. Users per second: 1281\n",
      "EvaluatorHoldout: Processed 2078 (100.0%) in 2.55 sec. Users per second: 816\n",
      "EvaluatorHoldout: Processed 2078 (100.0%) in 1.54 sec. Users per second: 1346\n",
      "EvaluatorHoldout: Processed 2078 (100.0%) in 1.69 sec. Users per second: 1228\n",
      "Group 17, #users in group 2081, average p.len 34.67, median 35.0, min 32, max 38\n",
      "EvaluatorHoldout: Ignoring 1497 ( 3.6%) Users that have less than 1 test interactions\n",
      "EvaluatorHoldout: Ignoring 39548 Users\n",
      "EvaluatorHoldout: Processed 2080 (100.0%) in 1.78 sec. Users per second: 1167\n"
     ]
    }
   ],
   "source": [
    "cutoff = 10\n",
    "\n",
    "for group_id in range(0, 20):\n",
    "    \n",
    "    start_pos = group_id*block_size\n",
    "    end_pos = min((group_id+1)*block_size, len(profile_length))\n",
    "    \n",
    "    users_in_group = sorted_users[start_pos:end_pos]\n",
    "    \n",
    "    users_in_group_p_len = profile_length[users_in_group]\n",
    "    \n",
    "    print(\"Group {}, #users in group {}, average p.len {:.2f}, median {}, min {}, max {}\".format(\n",
    "        group_id, \n",
    "        users_in_group.shape[0],\n",
    "        users_in_group_p_len.mean(),\n",
    "        np.median(users_in_group_p_len),\n",
    "        users_in_group_p_len.min(),\n",
    "        users_in_group_p_len.max()))\n",
    "    \n",
    "    \n",
    "    users_not_in_group_flag = np.isin(sorted_users, users_in_group, invert=True)\n",
    "    users_not_in_group = sorted_users[users_not_in_group_flag]\n",
    "    \n",
    "    evaluator_test = EvaluatorHoldout(URMv_test, cutoff_list=[cutoff], ignore_users=users_not_in_group)\n",
    "    \n",
    "    for label, recommender in recommender_object_dict.items():\n",
    "        result_df, _ = evaluator_test.evaluateRecommender(recommender)\n",
    "        if label in MAP_recommender_per_group:\n",
    "            MAP_recommender_per_group[label].append(result_df.loc[cutoff][\"MAP\"])\n",
    "        else:\n",
    "            MAP_recommender_per_group[label] = [result_df.loc[cutoff][\"MAP\"]]"
   ]
  },
  {
   "cell_type": "code",
   "execution_count": null,
   "metadata": {},
   "outputs": [
    {
     "data": {
      "image/png": "[encoded data removed]",
      "text/plain": [
       "<Figure size 1400x700 with 1 Axes>"
      ]
     },
     "metadata": {},
     "output_type": "display_data"
    }
   ],
   "source": [
    "import matplotlib.pyplot as plt\n",
    "%matplotlib inline  \n",
    "\n",
    "_ = plt.figure(figsize=(14, 7))\n",
    "for label, recommender in recommender_object_dict.items():\n",
    "    results = MAP_recommender_per_group[label]\n",
    "    plt.scatter(x=np.arange(0,len(results)), y=results, label=label,)\n",
    "plt.ylabel('MAP')\n",
    "plt.xlabel('User Group')\n",
    "plt.legend()\n",
    "plt.show()"
   ]
  },
  {
   "attachments": {},
   "cell_type": "markdown",
   "metadata": {},
   "source": [
    "### Evaluation"
   ]
  },
  {
   "cell_type": "code",
   "execution_count": null,
   "metadata": {},
   "outputs": [
    {
     "name": "stdout",
     "output_type": "stream",
     "text": [
      "EvaluatorHoldout: Ignoring 1596 ( 3.8%) Users that have less than 1 test interactions\n"
     ]
    },
    {
     "name": "stderr",
     "output_type": "stream",
     "text": [
      "/Users/daniele/Desktop/RecSys/RecSysChallenge2023-Team/Evaluation/metrics.py:276: RuntimeWarning: overflow encountered in power\n",
      "  return np.sum(np.divide(np.power(2, scores) - 1, np.log2(np.arange(scores.shape[0], dtype=np.float64) + 2)),\n",
      "/Users/daniele/Desktop/RecSys/RecSysChallenge2023-Team/Evaluation/metrics.py:270: RuntimeWarning: invalid value encountered in double_scalars\n",
      "  ndcg_ = rank_dcg / ideal_dcg\n"
     ]
    },
    {
     "name": "stdout",
     "output_type": "stream",
     "text": [
      "EvaluatorHoldout: Processed 40033 (100.0%) in 37.48 sec. Users per second: 1068\n"
     ]
    },
    {
     "data": {
      "text/html": [
       "<div>\n",
       "<style scoped>\n",
       "    .dataframe tbody tr th:only-of-type {\n",
       "        vertical-align: middle;\n",
       "    }\n",
       "\n",
       "    .dataframe tbody tr th {\n",
       "        vertical-align: top;\n",
       "    }\n",
       "\n",
       "    .dataframe thead th {\n",
       "        text-align: right;\n",
       "    }\n",
       "</style>\n",
       "<table border=\"1\" class=\"dataframe\">\n",
       "  <thead>\n",
       "    <tr style=\"text-align: right;\">\n",
       "      <th></th>\n",
       "      <th>PRECISION</th>\n",
       "      <th>PRECISION_RECALL_MIN_DEN</th>\n",
       "      <th>RECALL</th>\n",
       "      <th>MAP</th>\n",
       "      <th>MAP_MIN_DEN</th>\n",
       "      <th>MRR</th>\n",
       "      <th>NDCG</th>\n",
       "      <th>F1</th>\n",
       "      <th>HIT_RATE</th>\n",
       "      <th>ARHR_ALL_HITS</th>\n",
       "      <th>...</th>\n",
       "      <th>COVERAGE_USER</th>\n",
       "      <th>COVERAGE_USER_HIT</th>\n",
       "      <th>USERS_IN_GT</th>\n",
       "      <th>DIVERSITY_GINI</th>\n",
       "      <th>SHANNON_ENTROPY</th>\n",
       "      <th>RATIO_DIVERSITY_HERFINDAHL</th>\n",
       "      <th>RATIO_DIVERSITY_GINI</th>\n",
       "      <th>RATIO_SHANNON_ENTROPY</th>\n",
       "      <th>RATIO_AVERAGE_POPULARITY</th>\n",
       "      <th>RATIO_NOVELTY</th>\n",
       "    </tr>\n",
       "    <tr>\n",
       "      <th>cutoff</th>\n",
       "      <th></th>\n",
       "      <th></th>\n",
       "      <th></th>\n",
       "      <th></th>\n",
       "      <th></th>\n",
       "      <th></th>\n",
       "      <th></th>\n",
       "      <th></th>\n",
       "      <th></th>\n",
       "      <th></th>\n",
       "      <th></th>\n",
       "      <th></th>\n",
       "      <th></th>\n",
       "      <th></th>\n",
       "      <th></th>\n",
       "      <th></th>\n",
       "      <th></th>\n",
       "      <th></th>\n",
       "      <th></th>\n",
       "      <th></th>\n",
       "      <th></th>\n",
       "    </tr>\n",
       "  </thead>\n",
       "  <tbody>\n",
       "    <tr>\n",
       "      <th>10</th>\n",
       "      <td>0.041578</td>\n",
       "      <td>0.07059</td>\n",
       "      <td>0.066041</td>\n",
       "      <td>0.020595</td>\n",
       "      <td>0.034159</td>\n",
       "      <td>0.135919</td>\n",
       "      <td>NaN</td>\n",
       "      <td>0.051029</td>\n",
       "      <td>0.27315</td>\n",
       "      <td>0.165769</td>\n",
       "      <td>...</td>\n",
       "      <td>0.961661</td>\n",
       "      <td>0.262677</td>\n",
       "      <td>0.961661</td>\n",
       "      <td>0.026109</td>\n",
       "      <td>8.756322</td>\n",
       "      <td>0.991906</td>\n",
       "      <td>0.059701</td>\n",
       "      <td>0.651108</td>\n",
       "      <td>4.260861</td>\n",
       "      <td>0.266761</td>\n",
       "    </tr>\n",
       "  </tbody>\n",
       "</table>\n",
       "<p>1 rows × 27 columns</p>\n",
       "</div>"
      ],
      "text/plain": [
       "       PRECISION PRECISION_RECALL_MIN_DEN    RECALL       MAP MAP_MIN_DEN  \\\n",
       "cutoff                                                                      \n",
       "10      0.041578                  0.07059  0.066041  0.020595    0.034159   \n",
       "\n",
       "             MRR NDCG        F1 HIT_RATE ARHR_ALL_HITS  ... COVERAGE_USER  \\\n",
       "cutoff                                                  ...                 \n",
       "10      0.135919  NaN  0.051029  0.27315      0.165769  ...      0.961661   \n",
       "\n",
       "       COVERAGE_USER_HIT USERS_IN_GT DIVERSITY_GINI SHANNON_ENTROPY  \\\n",
       "cutoff                                                                \n",
       "10              0.262677    0.961661       0.026109        8.756322   \n",
       "\n",
       "       RATIO_DIVERSITY_HERFINDAHL RATIO_DIVERSITY_GINI RATIO_SHANNON_ENTROPY  \\\n",
       "cutoff                                                                         \n",
       "10                       0.991906             0.059701              0.651108   \n",
       "\n",
       "       RATIO_AVERAGE_POPULARITY RATIO_NOVELTY  \n",
       "cutoff                                         \n",
       "10                     4.260861      0.266761  \n",
       "\n",
       "[1 rows x 27 columns]"
      ]
     },
     "execution_count": 15,
     "metadata": {},
     "output_type": "execute_result"
    }
   ],
   "source": [
    "evaluator_test = EvaluatorHoldout(URMv_test, [10])\n",
    "ris, _ = evaluator_test.evaluateRecommender(hybrid)\n",
    "ris"
   ]
  },
  {
   "cell_type": "code",
   "execution_count": null,
   "metadata": {},
   "outputs": [
    {
     "name": "stdout",
     "output_type": "stream",
     "text": [
      "EvaluatorHoldout: Ignoring 1596 ( 3.8%) Users that have less than 1 test interactions\n"
     ]
    },
    {
     "name": "stderr",
     "output_type": "stream",
     "text": [
      "/Users/daniele/Desktop/RecSys/RecSysChallenge2023-Team/Evaluation/metrics.py:276: RuntimeWarning: overflow encountered in power\n",
      "  return np.sum(np.divide(np.power(2, scores) - 1, np.log2(np.arange(scores.shape[0], dtype=np.float64) + 2)),\n",
      "/Users/daniele/Desktop/RecSys/RecSysChallenge2023-Team/Evaluation/metrics.py:270: RuntimeWarning: invalid value encountered in double_scalars\n",
      "  ndcg_ = rank_dcg / ideal_dcg\n"
     ]
    },
    {
     "name": "stdout",
     "output_type": "stream",
     "text": [
      "EvaluatorHoldout: Processed 40033 (100.0%) in 12.69 sec. Users per second: 3155\n"
     ]
    },
    {
     "data": {
      "text/html": [
       "<div>\n",
       "<style scoped>\n",
       "    .dataframe tbody tr th:only-of-type {\n",
       "        vertical-align: middle;\n",
       "    }\n",
       "\n",
       "    .dataframe tbody tr th {\n",
       "        vertical-align: top;\n",
       "    }\n",
       "\n",
       "    .dataframe thead th {\n",
       "        text-align: right;\n",
       "    }\n",
       "</style>\n",
       "<table border=\"1\" class=\"dataframe\">\n",
       "  <thead>\n",
       "    <tr style=\"text-align: right;\">\n",
       "      <th></th>\n",
       "      <th>PRECISION</th>\n",
       "      <th>PRECISION_RECALL_MIN_DEN</th>\n",
       "      <th>RECALL</th>\n",
       "      <th>MAP</th>\n",
       "      <th>MAP_MIN_DEN</th>\n",
       "      <th>MRR</th>\n",
       "      <th>NDCG</th>\n",
       "      <th>F1</th>\n",
       "      <th>HIT_RATE</th>\n",
       "      <th>ARHR_ALL_HITS</th>\n",
       "      <th>...</th>\n",
       "      <th>COVERAGE_USER</th>\n",
       "      <th>COVERAGE_USER_HIT</th>\n",
       "      <th>USERS_IN_GT</th>\n",
       "      <th>DIVERSITY_GINI</th>\n",
       "      <th>SHANNON_ENTROPY</th>\n",
       "      <th>RATIO_DIVERSITY_HERFINDAHL</th>\n",
       "      <th>RATIO_DIVERSITY_GINI</th>\n",
       "      <th>RATIO_SHANNON_ENTROPY</th>\n",
       "      <th>RATIO_AVERAGE_POPULARITY</th>\n",
       "      <th>RATIO_NOVELTY</th>\n",
       "    </tr>\n",
       "    <tr>\n",
       "      <th>cutoff</th>\n",
       "      <th></th>\n",
       "      <th></th>\n",
       "      <th></th>\n",
       "      <th></th>\n",
       "      <th></th>\n",
       "      <th></th>\n",
       "      <th></th>\n",
       "      <th></th>\n",
       "      <th></th>\n",
       "      <th></th>\n",
       "      <th></th>\n",
       "      <th></th>\n",
       "      <th></th>\n",
       "      <th></th>\n",
       "      <th></th>\n",
       "      <th></th>\n",
       "      <th></th>\n",
       "      <th></th>\n",
       "      <th></th>\n",
       "      <th></th>\n",
       "      <th></th>\n",
       "    </tr>\n",
       "  </thead>\n",
       "  <tbody>\n",
       "    <tr>\n",
       "      <th>10</th>\n",
       "      <td>0.041099</td>\n",
       "      <td>0.069824</td>\n",
       "      <td>0.065316</td>\n",
       "      <td>0.020333</td>\n",
       "      <td>0.033679</td>\n",
       "      <td>0.134733</td>\n",
       "      <td>NaN</td>\n",
       "      <td>0.050452</td>\n",
       "      <td>0.271526</td>\n",
       "      <td>0.163997</td>\n",
       "      <td>...</td>\n",
       "      <td>0.961661</td>\n",
       "      <td>0.261116</td>\n",
       "      <td>0.961661</td>\n",
       "      <td>0.047223</td>\n",
       "      <td>9.460574</td>\n",
       "      <td>0.995186</td>\n",
       "      <td>0.10802</td>\n",
       "      <td>0.703496</td>\n",
       "      <td>3.478553</td>\n",
       "      <td>0.276984</td>\n",
       "    </tr>\n",
       "  </tbody>\n",
       "</table>\n",
       "<p>1 rows × 27 columns</p>\n",
       "</div>"
      ],
      "text/plain": [
       "       PRECISION PRECISION_RECALL_MIN_DEN    RECALL       MAP MAP_MIN_DEN  \\\n",
       "cutoff                                                                      \n",
       "10      0.041099                 0.069824  0.065316  0.020333    0.033679   \n",
       "\n",
       "             MRR NDCG        F1  HIT_RATE ARHR_ALL_HITS  ... COVERAGE_USER  \\\n",
       "cutoff                                                   ...                 \n",
       "10      0.134733  NaN  0.050452  0.271526      0.163997  ...      0.961661   \n",
       "\n",
       "       COVERAGE_USER_HIT USERS_IN_GT DIVERSITY_GINI SHANNON_ENTROPY  \\\n",
       "cutoff                                                                \n",
       "10              0.261116    0.961661       0.047223        9.460574   \n",
       "\n",
       "       RATIO_DIVERSITY_HERFINDAHL RATIO_DIVERSITY_GINI RATIO_SHANNON_ENTROPY  \\\n",
       "cutoff                                                                         \n",
       "10                       0.995186              0.10802              0.703496   \n",
       "\n",
       "       RATIO_AVERAGE_POPULARITY RATIO_NOVELTY  \n",
       "cutoff                                         \n",
       "10                     3.478553      0.276984  \n",
       "\n",
       "[1 rows x 27 columns]"
      ]
     },
     "execution_count": 16,
     "metadata": {},
     "output_type": "execute_result"
    }
   ],
   "source": [
    "evaluator_test = EvaluatorHoldout(URMv_test, [10])\n",
    "ris, _ = evaluator_test.evaluateRecommender(best_reference)\n",
    "ris"
   ]
  }
 ],
 "metadata": {
  "kernelspec": {
   "display_name": "base",
   "language": "python",
   "name": "python3"
  },
  "language_info": {
   "codemirror_mode": {
    "name": "ipython",
    "version": 3
   },
   "file_extension": ".py",
   "mimetype": "text/x-python",
   "name": "python",
   "nbconvert_exporter": "python",
   "pygments_lexer": "ipython3",
   "version": "3.9.13"
  },
  "orig_nbformat": 4,
  "vscode": {
   "interpreter": {
    "hash": "6e76083d1a5f4c0027e70cf105b7627b1b5e567462449feedfd1ad9407b42e24"
   }
  }
 },
 "nbformat": 4,
 "nbformat_minor": 2
}
