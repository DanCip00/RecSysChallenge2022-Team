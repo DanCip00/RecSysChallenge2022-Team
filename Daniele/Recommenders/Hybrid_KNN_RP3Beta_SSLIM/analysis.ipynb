{
 "cells": [
  {
   "cell_type": "code",
   "execution_count": 15,
   "metadata": {},
   "outputs": [],
   "source": [
    "import os \n",
    "import sys\n",
    "while os.path.split(os.getcwd())[1] != 'RecSysChallenge2023-Team':\n",
    "    os.chdir('..')\n",
    "sys.path.insert(1, os.getcwd())\n",
    "\n",
    "import numpy as np "
   ]
  },
  {
   "cell_type": "code",
   "execution_count": 16,
   "metadata": {},
   "outputs": [
    {
     "name": "stdout",
     "output_type": "stream",
     "text": [
      "Warning: 1608 (3.86 %) of 41629 users have no sampled items\n"
     ]
    },
    {
     "name": "stderr",
     "output_type": "stream",
     "text": [
      "100%|██████████| 27968/27968 [00:02<00:00, 11268.71it/s]\n",
      "100%|██████████| 841462/841462 [00:00<00:00, 1049837.98it/s]\n",
      "100%|██████████| 27968/27968 [00:02<00:00, 11336.78it/s]\n",
      "100%|██████████| 663370/663370 [00:01<00:00, 562711.05it/s]\n",
      "100%|██████████| 27968/27968 [00:01<00:00, 16547.05it/s]\n",
      "100%|██████████| 841462/841462 [00:00<00:00, 1777415.12it/s]\n",
      "100%|██████████| 27968/27968 [00:01<00:00, 20987.66it/s]\n",
      "100%|██████████| 663370/663370 [00:00<00:00, 1812193.89it/s]\n"
     ]
    }
   ],
   "source": [
    "from Data_manager.split_functions.split_train_validation_random_holdout import split_train_in_two_percentage_global_sample\n",
    "from Evaluation.Evaluator import EvaluatorHoldout\n",
    "\n",
    "import Daniele.Utils.MyDataManager as dm \n",
    "import Daniele.Utils.MatrixManipulation as mm\n",
    "\n",
    "URMv = dm.getURMviews()\n",
    "URMo = dm.getURMopen()\n",
    "ICMt=dm.getICMt()\n",
    "ICMl=dm.getICMl()\n",
    "\n",
    "\n",
    "URMv_train, URMv_test = split_train_in_two_percentage_global_sample(URMv, train_percentage = 0.80)\n",
    "\n",
    "urm_def = mm.defaultExplicitURM(urmv=URMv_train,urmo=URMo,icml=ICMl,icmt=ICMt, normalize=True, add_aug=True,appendICM=True)\n",
    "\n",
    "urm_bin = mm.defaultExplicitURM(urmv=URMv_train,urmo=URMo, normalize=False, add_aug=True)\n",
    "urm_bin.data = np.ones(len(urm_bin.data))"
   ]
  },
  {
   "attachments": {},
   "cell_type": "markdown",
   "metadata": {},
   "source": [
    "### SSLIIM"
   ]
  },
  {
   "cell_type": "code",
   "execution_count": 17,
   "metadata": {},
   "outputs": [
    {
     "name": "stdout",
     "output_type": "stream",
     "text": [
      "SLIM_BPR_Recommender: URM Detected 2 ( 0.0%) users with no interactions.\n",
      "Unable to read memory status: list index out of range\n",
      "SLIM_BPR_Recommender: Automatic selection of fastest train mode. Unable to get current RAM status, you may be using a non-Linux operating system. Using dense matrix.\n"
     ]
    },
    {
     "name": "stderr",
     "output_type": "stream",
     "text": [
      "/bin/sh: free: command not found\n"
     ]
    },
    {
     "name": "stdout",
     "output_type": "stream",
     "text": [
      "Processed 70441 (100.0%) in 1.40 sec. BPR loss is 8.40E-01. Sample per second: 50320\n",
      "SLIM_BPR_Recommender: Epoch 1 of 25. Elapsed time 0.71 sec\n",
      "Processed 70441 (100.0%) in 0.61 sec. BPR loss is 3.09E+00. Sample per second: 116225\n",
      "SLIM_BPR_Recommender: Epoch 2 of 25. Elapsed time 0.92 sec\n",
      "Processed 70441 (100.0%) in 0.76 sec. BPR loss is 5.28E+00. Sample per second: 92703\n",
      "SLIM_BPR_Recommender: Epoch 3 of 25. Elapsed time 1.07 sec\n",
      "Processed 70441 (100.0%) in 0.91 sec. BPR loss is 7.17E+00. Sample per second: 77314\n",
      "SLIM_BPR_Recommender: Epoch 4 of 25. Elapsed time 1.22 sec\n",
      "Processed 70441 (100.0%) in 1.05 sec. BPR loss is 9.47E+00. Sample per second: 66810\n",
      "SLIM_BPR_Recommender: Epoch 5 of 25. Elapsed time 1.37 sec\n",
      "Processed 70441 (100.0%) in 0.23 sec. BPR loss is 1.12E+01. Sample per second: 312595\n",
      "SLIM_BPR_Recommender: Epoch 6 of 25. Elapsed time 1.54 sec\n",
      "Processed 70441 (100.0%) in 0.37 sec. BPR loss is 1.26E+01. Sample per second: 189259\n",
      "SLIM_BPR_Recommender: Epoch 7 of 25. Elapsed time 1.68 sec\n",
      "Processed 70441 (100.0%) in 0.51 sec. BPR loss is 1.46E+01. Sample per second: 136853\n",
      "SLIM_BPR_Recommender: Epoch 8 of 25. Elapsed time 1.83 sec\n",
      "Processed 70441 (100.0%) in 0.66 sec. BPR loss is 1.72E+01. Sample per second: 107326\n",
      "SLIM_BPR_Recommender: Epoch 9 of 25. Elapsed time 1.97 sec\n",
      "Processed 70441 (100.0%) in 0.83 sec. BPR loss is 1.79E+01. Sample per second: 85143\n",
      "SLIM_BPR_Recommender: Epoch 10 of 25. Elapsed time 2.14 sec\n",
      "Processed 70441 (100.0%) in 1.00 sec. BPR loss is 2.07E+01. Sample per second: 70329\n",
      "SLIM_BPR_Recommender: Epoch 11 of 25. Elapsed time 2.31 sec\n",
      "Processed 70441 (100.0%) in 0.20 sec. BPR loss is 2.24E+01. Sample per second: 360358\n",
      "SLIM_BPR_Recommender: Epoch 12 of 25. Elapsed time 2.51 sec\n",
      "Processed 70441 (100.0%) in 0.38 sec. BPR loss is 2.37E+01. Sample per second: 186293\n",
      "SLIM_BPR_Recommender: Epoch 13 of 25. Elapsed time 2.69 sec\n",
      "Processed 70441 (100.0%) in 0.61 sec. BPR loss is 2.63E+01. Sample per second: 115740\n",
      "SLIM_BPR_Recommender: Epoch 14 of 25. Elapsed time 2.92 sec\n",
      "Processed 70441 (100.0%) in 0.80 sec. BPR loss is 2.70E+01. Sample per second: 87971\n",
      "SLIM_BPR_Recommender: Epoch 15 of 25. Elapsed time 3.11 sec\n",
      "Processed 70441 (100.0%) in 0.97 sec. BPR loss is 2.89E+01. Sample per second: 72371\n",
      "SLIM_BPR_Recommender: Epoch 16 of 25. Elapsed time 3.28 sec\n",
      "Processed 70441 (100.0%) in 1.15 sec. BPR loss is 3.06E+01. Sample per second: 61154\n",
      "SLIM_BPR_Recommender: Epoch 17 of 25. Elapsed time 3.46 sec\n",
      "Processed 70441 (100.0%) in 0.31 sec. BPR loss is 3.16E+01. Sample per second: 225893\n",
      "SLIM_BPR_Recommender: Epoch 18 of 25. Elapsed time 3.62 sec\n",
      "Processed 70441 (100.0%) in 0.48 sec. BPR loss is 3.49E+01. Sample per second: 148159\n",
      "SLIM_BPR_Recommender: Epoch 19 of 25. Elapsed time 3.79 sec\n",
      "Processed 70441 (100.0%) in 0.63 sec. BPR loss is 3.51E+01. Sample per second: 112283\n",
      "SLIM_BPR_Recommender: Epoch 20 of 25. Elapsed time 3.94 sec\n",
      "Processed 70441 (100.0%) in 0.81 sec. BPR loss is 3.79E+01. Sample per second: 86781\n",
      "SLIM_BPR_Recommender: Epoch 21 of 25. Elapsed time 4.12 sec\n",
      "Processed 70441 (100.0%) in 0.99 sec. BPR loss is 3.84E+01. Sample per second: 70977\n",
      "SLIM_BPR_Recommender: Epoch 22 of 25. Elapsed time 4.30 sec\n",
      "Processed 70441 (100.0%) in 1.14 sec. BPR loss is 4.21E+01. Sample per second: 61881\n",
      "SLIM_BPR_Recommender: Epoch 23 of 25. Elapsed time 4.45 sec\n",
      "Processed 70441 (100.0%) in 0.29 sec. BPR loss is 4.32E+01. Sample per second: 242794\n",
      "SLIM_BPR_Recommender: Epoch 24 of 25. Elapsed time 4.60 sec\n",
      "Processed 70441 (100.0%) in 0.47 sec. BPR loss is 4.50E+01. Sample per second: 151206\n",
      "SLIM_BPR_Recommender: Epoch 25 of 25. Elapsed time 4.78 sec\n",
      "SLIM_BPR_Recommender: Terminating at epoch 25. Elapsed time 17.54 sec\n",
      "Deallocating Cython objects\n"
     ]
    }
   ],
   "source": [
    "from Recommenders.SLIM.Cython.SLIM_BPR_Cython import SLIM_BPR_Cython\n",
    "\n",
    "sslim_recommender = SLIM_BPR_Cython(URM_train=urm_def)\n",
    "sslim_recommender.fit(topK= 305, epochs=25,symmetric=True, sgd_mode = 'adam', lambda_i = 0.0008132913041259862, lambda_j=0.004889521240194745, learning_rate = 0.005381553515814384)"
   ]
  },
  {
   "attachments": {},
   "cell_type": "markdown",
   "metadata": {},
   "source": [
    "### KNN_CFCBF "
   ]
  },
  {
   "cell_type": "code",
   "execution_count": 18,
   "metadata": {},
   "outputs": [
    {
     "name": "stdout",
     "output_type": "stream",
     "text": [
      "KNN_CFCBF_custom: URM Detected 3461 (12.4%) items with no interactions.\n",
      "Beta-> 1.0 \tICM_weight-> 1.0\n",
      "Similarity column 27968 (100.0%), 2838.84 column/sec. Elapsed time 9.85 sec\n"
     ]
    }
   ],
   "source": [
    "from Daniele.Recommenders.KNN_CFCBF.ItemKNN_CFCBF_Hybrid_Recommender import KNN_CFCBF_custom\n",
    "\n",
    "KNN_recommender = KNN_CFCBF_custom(URMv_train,URMo,ICM_train=mm.augmentedICM(ICMt,ICMl))\n",
    "KNN_recommender.fit(topK= 744, shrink= 457, similarity= 'cosine', normalize= True, feature_weighting='TF-IDF')"
   ]
  },
  {
   "attachments": {},
   "cell_type": "markdown",
   "metadata": {},
   "source": [
    "### RP3Beta \n"
   ]
  },
  {
   "cell_type": "code",
   "execution_count": 19,
   "metadata": {},
   "outputs": [
    {
     "name": "stdout",
     "output_type": "stream",
     "text": [
      "RP3betaRecommender: URM Detected 3461 (12.4%) items with no interactions.\n",
      "RP3betaRecommender: Similarity column 27968 (100.0%), 4372.72 column/sec. Elapsed time 6.40 sec\n"
     ]
    }
   ],
   "source": [
    "from Recommenders.GraphBased.RP3betaRecommender import RP3betaRecommender\n",
    "\n",
    "rp3beta_recommender = RP3betaRecommender(urm_bin)\n",
    "rp3beta_recommender.fit(topK= 89, alpha= 0.6361002951626124, beta= 0.27432996564004203, normalize_similarity= True)"
   ]
  },
  {
   "attachments": {},
   "cell_type": "markdown",
   "metadata": {},
   "source": [
    "### RP3Beta - KNN_CFCBF"
   ]
  },
  {
   "cell_type": "code",
   "execution_count": 20,
   "metadata": {},
   "outputs": [
    {
     "name": "stdout",
     "output_type": "stream",
     "text": [
      "ItemKNNCustomSimilarityRecommender: URM Detected 2 ( 0.0%) users with no interactions.\n"
     ]
    }
   ],
   "source": [
    "from Recommenders.KNN.ItemKNNCustomSimilarityRecommender import ItemKNNCustomSimilarityRecommender\n",
    "alpha_knn_rp3 = 0.7\n",
    "\n",
    "knn_rp3_recommender = ItemKNNCustomSimilarityRecommender(urm_def)\n",
    "knn_rp3_recommender.fit((1 - alpha_knn_rp3) * KNN_recommender.W_sparse + alpha_knn_rp3* rp3beta_recommender.W_sparse)"
   ]
  },
  {
   "attachments": {},
   "cell_type": "markdown",
   "metadata": {},
   "source": [
    "### TopPop"
   ]
  },
  {
   "cell_type": "code",
   "execution_count": 21,
   "metadata": {},
   "outputs": [
    {
     "name": "stdout",
     "output_type": "stream",
     "text": [
      "TopPopRecommender: URM Detected 3461 (12.4%) items with no interactions.\n"
     ]
    }
   ],
   "source": [
    "from Recommenders.NonPersonalizedRecommender import TopPop\n",
    "\n",
    "most_viewed = TopPop(urm_bin)\n",
    "most_viewed.fit()"
   ]
  },
  {
   "attachments": {},
   "cell_type": "markdown",
   "metadata": {},
   "source": [
    "### REFERENCE RP3Beta 0.052"
   ]
  },
  {
   "cell_type": "code",
   "execution_count": 32,
   "metadata": {},
   "outputs": [
    {
     "name": "stdout",
     "output_type": "stream",
     "text": [
      "RP3betaRecommender: URM Detected 3461 (12.4%) items with no interactions.\n",
      "RP3betaRecommender: Similarity column 27968 (100.0%), 3831.31 column/sec. Elapsed time 7.30 sec\n"
     ]
    }
   ],
   "source": [
    "best_reference = RP3betaRecommender(urm_bin)\n",
    "#{'topK': 106, 'alpha': 0.6155817289031643, 'beta': 0.33427474623540737, 'normalize_similarity': True} -> MAP 0.0276355\n",
    "best_reference.fit(topK= 106, alpha= 0.6155817289031643, beta= 0.33427474623540737, normalize_similarity= True)\n"
   ]
  },
  {
   "attachments": {},
   "cell_type": "markdown",
   "metadata": {},
   "source": [
    "### Hybrid"
   ]
  },
  {
   "cell_type": "code",
   "execution_count": 38,
   "metadata": {},
   "outputs": [
    {
     "name": "stderr",
     "output_type": "stream",
     "text": [
      "100%|██████████| 27968/27968 [00:04<00:00, 6750.73it/s]\n",
      "100%|██████████| 841462/841462 [00:01<00:00, 544277.02it/s]\n",
      "100%|██████████| 27968/27968 [00:03<00:00, 7761.26it/s]\n",
      "100%|██████████| 663370/663370 [00:00<00:00, 981315.01it/s]\n",
      "100%|██████████| 27968/27968 [00:03<00:00, 7887.07it/s]\n",
      "100%|██████████| 841462/841462 [00:00<00:00, 981090.76it/s]\n",
      "100%|██████████| 27968/27968 [00:03<00:00, 8492.22it/s]\n",
      "100%|██████████| 663370/663370 [00:00<00:00, 911400.22it/s]\n",
      "100%|██████████| 27968/27968 [00:03<00:00, 7833.50it/s]\n",
      "100%|██████████| 841462/841462 [00:00<00:00, 974411.97it/s]\n",
      "100%|██████████| 27968/27968 [00:03<00:00, 9239.49it/s]\n",
      "100%|██████████| 663370/663370 [00:00<00:00, 963090.25it/s]\n"
     ]
    },
    {
     "name": "stdout",
     "output_type": "stream",
     "text": [
      "RP3BetaKNNRecommender: URM Detected 3461 (12.4%) items with no interactions.\n"
     ]
    }
   ],
   "source": [
    "from Daniele.Recommenders.Hybrid_KNN_RP3Beta_SSLIM.hybrid import SSLIMRP3BetaKNNRecommender\n",
    "\n",
    "hybrid = SSLIMRP3BetaKNNRecommender(URMv_train,URMo,ICMt,ICMl)\n",
    "hybrid.rp3beta_recommender = rp3beta_recommender\n",
    "hybrid.KNN_recommender = KNN_recommender\n",
    "hybrid.sslim_recommender = sslim_recommender\n",
    "hybrid.knn_rp3_recommender = knn_rp3_recommender\n",
    "hybrid.most_viewed = most_viewed"
   ]
  },
  {
   "attachments": {},
   "cell_type": "markdown",
   "metadata": {},
   "source": [
    "### Users group"
   ]
  },
  {
   "cell_type": "code",
   "execution_count": 23,
   "metadata": {},
   "outputs": [
    {
     "name": "stdout",
     "output_type": "stream",
     "text": [
      "Group 0, #users in group 2081, average p.len 6.98, median 7.0, min 2, max 9\n",
      "Group 1, #users in group 2081, average p.len 9.43, median 9.0, min 9, max 10\n",
      "Group 2, #users in group 2081, average p.len 10.69, median 11.0, min 10, max 11\n",
      "Group 3, #users in group 2081, average p.len 11.83, median 12.0, min 11, max 12\n",
      "Group 4, #users in group 2081, average p.len 12.88, median 13.0, min 12, max 13\n",
      "Group 5, #users in group 2081, average p.len 13.92, median 14.0, min 13, max 14\n",
      "Group 6, #users in group 2081, average p.len 14.92, median 15.0, min 14, max 15\n",
      "Group 7, #users in group 2081, average p.len 16.00, median 16.0, min 15, max 17\n",
      "Group 8, #users in group 2081, average p.len 17.22, median 17.0, min 17, max 18\n",
      "Group 9, #users in group 2081, average p.len 18.42, median 18.0, min 18, max 19\n",
      "Group 10, #users in group 2081, average p.len 19.75, median 20.0, min 19, max 21\n",
      "Group 11, #users in group 2081, average p.len 21.44, median 21.0, min 21, max 22\n",
      "Group 12, #users in group 2081, average p.len 23.21, median 23.0, min 22, max 24\n",
      "Group 13, #users in group 2081, average p.len 25.49, median 25.0, min 24, max 27\n",
      "Group 14, #users in group 2081, average p.len 28.37, median 28.0, min 27, max 30\n",
      "Group 15, #users in group 2081, average p.len 31.88, median 32.0, min 30, max 34\n",
      "Group 16, #users in group 2081, average p.len 36.44, median 36.0, min 34, max 39\n",
      "Group 17, #users in group 2081, average p.len 43.14, median 43.0, min 39, max 48\n",
      "Group 18, #users in group 2081, average p.len 54.12, median 54.0, min 48, max 62\n",
      "Group 19, #users in group 2081, average p.len 87.91, median 78.0, min 62, max 281\n"
     ]
    }
   ],
   "source": [
    "import numpy as np \n",
    "import scipy.sparse as sps\n",
    "\n",
    "profile_length = np.ediff1d(sps.csr_matrix(URMv).indptr)\n",
    "profile_length, profile_length.shape\n",
    "\n",
    "block_size = int(len(profile_length)*0.05)\n",
    "sorted_users = np.argsort(profile_length)\n",
    "\n",
    "for group_id in range(0, 20):\n",
    "    start_pos = group_id * block_size\n",
    "    end_pos = min((group_id+1) * block_size, len(profile_length))\n",
    "    \n",
    "    users_in_group = sorted_users[start_pos:end_pos]\n",
    "    \n",
    "    users_in_group_p_len = profile_length[users_in_group]\n",
    "    \n",
    "    print(\"Group {}, #users in group {}, average p.len {:.2f}, median {}, min {}, max {}\".format(\n",
    "        group_id, \n",
    "        users_in_group.shape[0],\n",
    "        users_in_group_p_len.mean(),\n",
    "        np.median(users_in_group_p_len),\n",
    "        users_in_group_p_len.min(),\n",
    "        users_in_group_p_len.max()))"
   ]
  },
  {
   "cell_type": "code",
   "execution_count": 35,
   "metadata": {},
   "outputs": [],
   "source": [
    "MAP_recommender_per_group = {}\n",
    "recommender_object_dict = {}\n",
    "\n",
    "recommender_class = {\"best_reference\" :best_reference,\n",
    "                     \"hybrid\" : hybrid,\n",
    "                     \"rp3beta_recommender\" : rp3beta_recommender,\n",
    "                     #\"KNN_recommender\" : KNN_recommender,\n",
    "                     #\"sslim_recommender\" : sslim_recommender,\n",
    "                     \"knn_rp3_recommender\" : knn_rp3_recommender,\n",
    "                     #\"most_viewed\" : most_viewed,\n",
    "                     }\n",
    "\n",
    "\n",
    "for label, recommender_obj in recommender_class.items():\n",
    "    recommender_object_dict[label] = recommender_obj"
   ]
  },
  {
   "cell_type": "code",
   "execution_count": 36,
   "metadata": {},
   "outputs": [
    {
     "name": "stdout",
     "output_type": "stream",
     "text": [
      "Group 0, #users in group 2081, average p.len 6.98, median 7.0, min 2, max 9\n",
      "EvaluatorHoldout: Ignoring 1608 ( 3.9%) Users that have less than 1 test interactions\n",
      "EvaluatorHoldout: Ignoring 39548 Users\n",
      "EvaluatorHoldout: Processed 1630 (100.0%) in 1.65 sec. Users per second: 986\n",
      "EvaluatorHoldout: Processed 1630 (100.0%) in 1.73 sec. Users per second: 943\n",
      "EvaluatorHoldout: Processed 1630 (100.0%) in 1.56 sec. Users per second: 1042\n",
      "EvaluatorHoldout: Processed 1630 (100.0%) in 2.01 sec. Users per second: 811\n",
      "Group 1, #users in group 2081, average p.len 9.43, median 9.0, min 9, max 10\n",
      "EvaluatorHoldout: Ignoring 1608 ( 3.9%) Users that have less than 1 test interactions\n",
      "EvaluatorHoldout: Ignoring 39548 Users\n",
      "EvaluatorHoldout: Processed 1811 (100.0%) in 1.64 sec. Users per second: 1105\n",
      "EvaluatorHoldout: Processed 1811 (100.0%) in 1.78 sec. Users per second: 1019\n",
      "EvaluatorHoldout: Processed 1811 (100.0%) in 1.63 sec. Users per second: 1114\n",
      "EvaluatorHoldout: Processed 1811 (100.0%) in 2.17 sec. Users per second: 834\n",
      "Group 2, #users in group 2081, average p.len 10.69, median 11.0, min 10, max 11\n",
      "EvaluatorHoldout: Ignoring 1608 ( 3.9%) Users that have less than 1 test interactions\n",
      "EvaluatorHoldout: Ignoring 39548 Users\n",
      "EvaluatorHoldout: Processed 1882 (100.0%) in 1.67 sec. Users per second: 1127\n",
      "EvaluatorHoldout: Processed 1882 (100.0%) in 2.17 sec. Users per second: 867\n",
      "EvaluatorHoldout: Processed 1882 (100.0%) in 1.65 sec. Users per second: 1140\n",
      "EvaluatorHoldout: Processed 1882 (100.0%) in 2.25 sec. Users per second: 836\n",
      "Group 3, #users in group 2081, average p.len 11.83, median 12.0, min 11, max 12\n",
      "EvaluatorHoldout: Ignoring 1608 ( 3.9%) Users that have less than 1 test interactions\n",
      "EvaluatorHoldout: Ignoring 39548 Users\n",
      "EvaluatorHoldout: Processed 1910 (100.0%) in 1.69 sec. Users per second: 1131\n",
      "EvaluatorHoldout: Processed 1910 (100.0%) in 2.71 sec. Users per second: 704\n",
      "EvaluatorHoldout: Processed 1910 (100.0%) in 1.66 sec. Users per second: 1148\n",
      "EvaluatorHoldout: Processed 1910 (100.0%) in 2.31 sec. Users per second: 827\n",
      "Group 4, #users in group 2081, average p.len 12.88, median 13.0, min 12, max 13\n",
      "EvaluatorHoldout: Ignoring 1608 ( 3.9%) Users that have less than 1 test interactions\n",
      "EvaluatorHoldout: Ignoring 39548 Users\n",
      "EvaluatorHoldout: Processed 1948 (100.0%) in 1.71 sec. Users per second: 1141\n",
      "EvaluatorHoldout: Processed 1948 (100.0%) in 3.16 sec. Users per second: 616\n",
      "EvaluatorHoldout: Processed 1948 (100.0%) in 1.68 sec. Users per second: 1161\n",
      "EvaluatorHoldout: Processed 1948 (100.0%) in 2.37 sec. Users per second: 823\n",
      "Group 5, #users in group 2081, average p.len 13.92, median 14.0, min 13, max 14\n",
      "EvaluatorHoldout: Ignoring 1608 ( 3.9%) Users that have less than 1 test interactions\n",
      "EvaluatorHoldout: Ignoring 39548 Users\n",
      "EvaluatorHoldout: Processed 1993 (100.0%) in 1.73 sec. Users per second: 1154\n",
      "EvaluatorHoldout: Processed 1993 (100.0%) in 3.40 sec. Users per second: 587\n",
      "EvaluatorHoldout: Processed 1993 (100.0%) in 1.69 sec. Users per second: 1177\n",
      "EvaluatorHoldout: Processed 1993 (100.0%) in 2.44 sec. Users per second: 816\n",
      "Group 6, #users in group 2081, average p.len 14.92, median 15.0, min 14, max 15\n",
      "EvaluatorHoldout: Ignoring 1608 ( 3.9%) Users that have less than 1 test interactions\n",
      "EvaluatorHoldout: Ignoring 39548 Users\n",
      "EvaluatorHoldout: Processed 2004 (100.0%) in 1.76 sec. Users per second: 1138\n",
      "EvaluatorHoldout: Processed 2004 (100.0%) in 3.68 sec. Users per second: 545\n",
      "EvaluatorHoldout: Processed 2004 (100.0%) in 1.70 sec. Users per second: 1176\n",
      "EvaluatorHoldout: Processed 2004 (100.0%) in 2.48 sec. Users per second: 807\n",
      "Group 7, #users in group 2081, average p.len 16.00, median 16.0, min 15, max 17\n",
      "EvaluatorHoldout: Ignoring 1608 ( 3.9%) Users that have less than 1 test interactions\n",
      "EvaluatorHoldout: Ignoring 39548 Users\n",
      "EvaluatorHoldout: Processed 2022 (100.0%) in 1.74 sec. Users per second: 1164\n",
      "EvaluatorHoldout: Processed 2022 (100.0%) in 3.74 sec. Users per second: 541\n",
      "EvaluatorHoldout: Processed 2022 (100.0%) in 1.72 sec. Users per second: 1176\n",
      "EvaluatorHoldout: Processed 2022 (100.0%) in 2.51 sec. Users per second: 804\n",
      "Group 8, #users in group 2081, average p.len 17.22, median 17.0, min 17, max 18\n",
      "EvaluatorHoldout: Ignoring 1608 ( 3.9%) Users that have less than 1 test interactions\n",
      "EvaluatorHoldout: Ignoring 39548 Users\n",
      "EvaluatorHoldout: Processed 2031 (100.0%) in 1.77 sec. Users per second: 1150\n",
      "EvaluatorHoldout: Processed 2031 (100.0%) in 3.78 sec. Users per second: 537\n",
      "EvaluatorHoldout: Processed 2031 (100.0%) in 1.72 sec. Users per second: 1178\n",
      "EvaluatorHoldout: Processed 2031 (100.0%) in 2.58 sec. Users per second: 788\n",
      "Group 9, #users in group 2081, average p.len 18.42, median 18.0, min 18, max 19\n",
      "EvaluatorHoldout: Ignoring 1608 ( 3.9%) Users that have less than 1 test interactions\n",
      "EvaluatorHoldout: Ignoring 39548 Users\n",
      "EvaluatorHoldout: Processed 2032 (100.0%) in 1.75 sec. Users per second: 1162\n",
      "EvaluatorHoldout: Processed 2032 (100.0%) in 3.87 sec. Users per second: 526\n",
      "EvaluatorHoldout: Processed 2032 (100.0%) in 1.73 sec. Users per second: 1173\n",
      "EvaluatorHoldout: Processed 2032 (100.0%) in 2.61 sec. Users per second: 779\n",
      "Group 10, #users in group 2081, average p.len 19.75, median 20.0, min 19, max 21\n",
      "EvaluatorHoldout: Ignoring 1608 ( 3.9%) Users that have less than 1 test interactions\n",
      "EvaluatorHoldout: Ignoring 39548 Users\n",
      "EvaluatorHoldout: Processed 2052 (100.0%) in 1.77 sec. Users per second: 1157\n",
      "EvaluatorHoldout: Processed 2052 (100.0%) in 3.93 sec. Users per second: 522\n",
      "EvaluatorHoldout: Processed 2052 (100.0%) in 1.74 sec. Users per second: 1179\n",
      "EvaluatorHoldout: Processed 2052 (100.0%) in 2.66 sec. Users per second: 771\n",
      "Group 11, #users in group 2081, average p.len 21.44, median 21.0, min 21, max 22\n",
      "EvaluatorHoldout: Ignoring 1608 ( 3.9%) Users that have less than 1 test interactions\n",
      "EvaluatorHoldout: Ignoring 39548 Users\n",
      "EvaluatorHoldout: Processed 2069 (100.0%) in 1.78 sec. Users per second: 1161\n",
      "EvaluatorHoldout: Processed 2069 (100.0%) in 3.97 sec. Users per second: 521\n",
      "EvaluatorHoldout: Processed 2069 (100.0%) in 1.75 sec. Users per second: 1185\n",
      "EvaluatorHoldout: Processed 2069 (100.0%) in 2.72 sec. Users per second: 759\n",
      "Group 12, #users in group 2081, average p.len 23.21, median 23.0, min 22, max 24\n",
      "EvaluatorHoldout: Ignoring 1608 ( 3.9%) Users that have less than 1 test interactions\n",
      "EvaluatorHoldout: Ignoring 39548 Users\n",
      "EvaluatorHoldout: Processed 2069 (100.0%) in 1.79 sec. Users per second: 1154\n",
      "EvaluatorHoldout: Processed 2069 (100.0%) in 3.64 sec. Users per second: 569\n",
      "EvaluatorHoldout: Processed 2069 (100.0%) in 1.77 sec. Users per second: 1166\n",
      "EvaluatorHoldout: Processed 2069 (100.0%) in 2.76 sec. Users per second: 749\n",
      "Group 13, #users in group 2081, average p.len 25.49, median 25.0, min 24, max 27\n",
      "EvaluatorHoldout: Ignoring 1608 ( 3.9%) Users that have less than 1 test interactions\n",
      "EvaluatorHoldout: Ignoring 39548 Users\n",
      "EvaluatorHoldout: Processed 2076 (100.0%) in 1.80 sec. Users per second: 1155\n",
      "EvaluatorHoldout: Processed 2076 (100.0%) in 3.07 sec. Users per second: 676\n",
      "EvaluatorHoldout: Processed 2076 (100.0%) in 1.76 sec. Users per second: 1179\n",
      "EvaluatorHoldout: Processed 2076 (100.0%) in 2.81 sec. Users per second: 738\n",
      "Group 14, #users in group 2081, average p.len 28.37, median 28.0, min 27, max 30\n",
      "EvaluatorHoldout: Ignoring 1608 ( 3.9%) Users that have less than 1 test interactions\n",
      "EvaluatorHoldout: Ignoring 39548 Users\n",
      "EvaluatorHoldout: Processed 2078 (100.0%) in 1.81 sec. Users per second: 1151\n",
      "EvaluatorHoldout: Processed 2078 (100.0%) in 2.23 sec. Users per second: 932\n",
      "EvaluatorHoldout: Processed 2078 (100.0%) in 1.77 sec. Users per second: 1172\n",
      "EvaluatorHoldout: Processed 2078 (100.0%) in 2.87 sec. Users per second: 725\n",
      "Group 15, #users in group 2081, average p.len 31.88, median 32.0, min 30, max 34\n",
      "EvaluatorHoldout: Ignoring 1608 ( 3.9%) Users that have less than 1 test interactions\n",
      "EvaluatorHoldout: Ignoring 39548 Users\n",
      "EvaluatorHoldout: Processed 2081 (100.0%) in 1.85 sec. Users per second: 1122\n"
     ]
    },
    {
     "name": "stderr",
     "output_type": "stream",
     "text": [
      "/Users/daniele/Desktop/RecSys/RecSysChallenge2023-Team/Evaluation/metrics.py:276: RuntimeWarning: overflow encountered in power\n",
      "  return np.sum(np.divide(np.power(2, scores) - 1, np.log2(np.arange(scores.shape[0], dtype=np.float64) + 2)),\n",
      "/Users/daniele/Desktop/RecSys/RecSysChallenge2023-Team/Evaluation/metrics.py:270: RuntimeWarning: invalid value encountered in double_scalars\n",
      "  ndcg_ = rank_dcg / ideal_dcg\n"
     ]
    },
    {
     "name": "stdout",
     "output_type": "stream",
     "text": [
      "EvaluatorHoldout: Processed 2081 (100.0%) in 1.97 sec. Users per second: 1055\n",
      "EvaluatorHoldout: Processed 2081 (100.0%) in 1.79 sec. Users per second: 1162\n"
     ]
    },
    {
     "name": "stderr",
     "output_type": "stream",
     "text": [
      "/Users/daniele/Desktop/RecSys/RecSysChallenge2023-Team/Evaluation/metrics.py:276: RuntimeWarning: overflow encountered in power\n",
      "  return np.sum(np.divide(np.power(2, scores) - 1, np.log2(np.arange(scores.shape[0], dtype=np.float64) + 2)),\n"
     ]
    },
    {
     "name": "stdout",
     "output_type": "stream",
     "text": [
      "EvaluatorHoldout: Processed 2081 (100.0%) in 2.94 sec. Users per second: 707\n",
      "Group 16, #users in group 2081, average p.len 36.44, median 36.0, min 34, max 39\n",
      "EvaluatorHoldout: Ignoring 1608 ( 3.9%) Users that have less than 1 test interactions\n",
      "EvaluatorHoldout: Ignoring 39548 Users\n",
      "EvaluatorHoldout: Processed 2081 (100.0%) in 1.85 sec. Users per second: 1127\n",
      "EvaluatorHoldout: Processed 2081 (100.0%) in 1.92 sec. Users per second: 1086\n",
      "EvaluatorHoldout: Processed 2081 (100.0%) in 1.81 sec. Users per second: 1152\n",
      "EvaluatorHoldout: Processed 2081 (100.0%) in 2.99 sec. Users per second: 697\n",
      "Group 17, #users in group 2081, average p.len 43.14, median 43.0, min 39, max 48\n",
      "EvaluatorHoldout: Ignoring 1608 ( 3.9%) Users that have less than 1 test interactions\n",
      "EvaluatorHoldout: Ignoring 39548 Users\n",
      "EvaluatorHoldout: Processed 2081 (100.0%) in 1.86 sec. Users per second: 1119\n"
     ]
    },
    {
     "name": "stderr",
     "output_type": "stream",
     "text": [
      "/Users/daniele/Desktop/RecSys/RecSysChallenge2023-Team/Evaluation/metrics.py:276: RuntimeWarning: overflow encountered in power\n",
      "  return np.sum(np.divide(np.power(2, scores) - 1, np.log2(np.arange(scores.shape[0], dtype=np.float64) + 2)),\n"
     ]
    },
    {
     "name": "stdout",
     "output_type": "stream",
     "text": [
      "EvaluatorHoldout: Processed 2081 (100.0%) in 1.92 sec. Users per second: 1083\n"
     ]
    },
    {
     "name": "stderr",
     "output_type": "stream",
     "text": [
      "/Users/daniele/Desktop/RecSys/RecSysChallenge2023-Team/Evaluation/metrics.py:276: RuntimeWarning: overflow encountered in power\n",
      "  return np.sum(np.divide(np.power(2, scores) - 1, np.log2(np.arange(scores.shape[0], dtype=np.float64) + 2)),\n"
     ]
    },
    {
     "name": "stdout",
     "output_type": "stream",
     "text": [
      "EvaluatorHoldout: Processed 2081 (100.0%) in 1.82 sec. Users per second: 1142\n"
     ]
    },
    {
     "name": "stderr",
     "output_type": "stream",
     "text": [
      "/Users/daniele/Desktop/RecSys/RecSysChallenge2023-Team/Evaluation/metrics.py:276: RuntimeWarning: overflow encountered in power\n",
      "  return np.sum(np.divide(np.power(2, scores) - 1, np.log2(np.arange(scores.shape[0], dtype=np.float64) + 2)),\n",
      "/Users/daniele/Desktop/RecSys/RecSysChallenge2023-Team/Evaluation/metrics.py:276: RuntimeWarning: overflow encountered in power\n",
      "  return np.sum(np.divide(np.power(2, scores) - 1, np.log2(np.arange(scores.shape[0], dtype=np.float64) + 2)),\n"
     ]
    },
    {
     "name": "stdout",
     "output_type": "stream",
     "text": [
      "EvaluatorHoldout: Processed 2081 (100.0%) in 3.07 sec. Users per second: 679\n",
      "Group 18, #users in group 2081, average p.len 54.12, median 54.0, min 48, max 62\n",
      "EvaluatorHoldout: Ignoring 1608 ( 3.9%) Users that have less than 1 test interactions\n",
      "EvaluatorHoldout: Ignoring 39548 Users\n",
      "EvaluatorHoldout: Processed 2081 (100.0%) in 1.89 sec. Users per second: 1099\n",
      "EvaluatorHoldout: Processed 2081 (100.0%) in 1.95 sec. Users per second: 1068\n",
      "EvaluatorHoldout: Processed 2081 (100.0%) in 1.84 sec. Users per second: 1130\n",
      "EvaluatorHoldout: Processed 2081 (100.0%) in 3.18 sec. Users per second: 654\n",
      "Group 19, #users in group 2081, average p.len 87.91, median 78.0, min 62, max 281\n",
      "EvaluatorHoldout: Ignoring 1608 ( 3.9%) Users that have less than 1 test interactions\n",
      "EvaluatorHoldout: Ignoring 39548 Users\n",
      "EvaluatorHoldout: Processed 2081 (100.0%) in 2.01 sec. Users per second: 1034\n",
      "EvaluatorHoldout: Processed 2081 (100.0%) in 2.04 sec. Users per second: 1020\n",
      "EvaluatorHoldout: Processed 2081 (100.0%) in 1.94 sec. Users per second: 1072\n",
      "EvaluatorHoldout: Processed 2081 (100.0%) in 3.47 sec. Users per second: 600\n"
     ]
    }
   ],
   "source": [
    "cutoff = 10\n",
    "\n",
    "for group_id in range(0, 20):\n",
    "    \n",
    "    start_pos = group_id*block_size\n",
    "    end_pos = min((group_id+1)*block_size, len(profile_length))\n",
    "    \n",
    "    users_in_group = sorted_users[start_pos:end_pos]\n",
    "    \n",
    "    users_in_group_p_len = profile_length[users_in_group]\n",
    "    \n",
    "    print(\"Group {}, #users in group {}, average p.len {:.2f}, median {}, min {}, max {}\".format(\n",
    "        group_id, \n",
    "        users_in_group.shape[0],\n",
    "        users_in_group_p_len.mean(),\n",
    "        np.median(users_in_group_p_len),\n",
    "        users_in_group_p_len.min(),\n",
    "        users_in_group_p_len.max()))\n",
    "    \n",
    "    \n",
    "    users_not_in_group_flag = np.isin(sorted_users, users_in_group, invert=True)\n",
    "    users_not_in_group = sorted_users[users_not_in_group_flag]\n",
    "    \n",
    "    evaluator_test = EvaluatorHoldout(URMv_test, cutoff_list=[cutoff], ignore_users=users_not_in_group)\n",
    "    \n",
    "    for label, recommender in recommender_object_dict.items():\n",
    "        result_df, _ = evaluator_test.evaluateRecommender(recommender)\n",
    "        if label in MAP_recommender_per_group:\n",
    "            MAP_recommender_per_group[label].append(result_df.loc[cutoff][\"MAP\"])\n",
    "        else:\n",
    "            MAP_recommender_per_group[label] = [result_df.loc[cutoff][\"MAP\"]]"
   ]
  },
  {
   "cell_type": "code",
   "execution_count": 37,
   "metadata": {},
   "outputs": [
    {
     "data": {
      "image/png": "[encoded data removed]",
      "text/plain": [
       "<Figure size 1400x1400 with 1 Axes>"
      ]
     },
     "metadata": {},
     "output_type": "display_data"
    }
   ],
   "source": [
    "import matplotlib.pyplot as plt\n",
    "%matplotlib inline  \n",
    "\n",
    "_ = plt.figure(figsize=(14, 14))\n",
    "for label, recommender in recommender_object_dict.items():\n",
    "    results = MAP_recommender_per_group[label]\n",
    "    plt.scatter(x=np.arange(0,len(results)), y=results, label=label,)\n",
    "plt.ylabel('MAP')\n",
    "plt.xlabel('User Group')\n",
    "plt.legend()\n",
    "plt.show()"
   ]
  },
  {
   "cell_type": "code",
   "execution_count": 30,
   "metadata": {},
   "outputs": [
    {
     "name": "stdout",
     "output_type": "stream",
     "text": [
      "EvaluatorHoldout: Ignoring 1608 ( 3.9%) Users that have less than 1 test interactions\n"
     ]
    },
    {
     "name": "stderr",
     "output_type": "stream",
     "text": [
      "/Users/daniele/Desktop/RecSys/RecSysChallenge2023-Team/Evaluation/metrics.py:276: RuntimeWarning: overflow encountered in power\n",
      "  return np.sum(np.divide(np.power(2, scores) - 1, np.log2(np.arange(scores.shape[0], dtype=np.float64) + 2)),\n",
      "/Users/daniele/Desktop/RecSys/RecSysChallenge2023-Team/Evaluation/metrics.py:270: RuntimeWarning: invalid value encountered in double_scalars\n",
      "  ndcg_ = rank_dcg / ideal_dcg\n"
     ]
    },
    {
     "name": "stdout",
     "output_type": "stream",
     "text": [
      "EvaluatorHoldout: Processed 40021 (100.0%) in 59.77 sec. Users per second: 670\n"
     ]
    },
    {
     "data": {
      "text/html": [
       "<div>\n",
       "<style scoped>\n",
       "    .dataframe tbody tr th:only-of-type {\n",
       "        vertical-align: middle;\n",
       "    }\n",
       "\n",
       "    .dataframe tbody tr th {\n",
       "        vertical-align: top;\n",
       "    }\n",
       "\n",
       "    .dataframe thead th {\n",
       "        text-align: right;\n",
       "    }\n",
       "</style>\n",
       "<table border=\"1\" class=\"dataframe\">\n",
       "  <thead>\n",
       "    <tr style=\"text-align: right;\">\n",
       "      <th></th>\n",
       "      <th>PRECISION</th>\n",
       "      <th>PRECISION_RECALL_MIN_DEN</th>\n",
       "      <th>RECALL</th>\n",
       "      <th>MAP</th>\n",
       "      <th>MAP_MIN_DEN</th>\n",
       "      <th>MRR</th>\n",
       "      <th>NDCG</th>\n",
       "      <th>F1</th>\n",
       "      <th>HIT_RATE</th>\n",
       "      <th>ARHR_ALL_HITS</th>\n",
       "      <th>...</th>\n",
       "      <th>COVERAGE_USER</th>\n",
       "      <th>COVERAGE_USER_HIT</th>\n",
       "      <th>USERS_IN_GT</th>\n",
       "      <th>DIVERSITY_GINI</th>\n",
       "      <th>SHANNON_ENTROPY</th>\n",
       "      <th>RATIO_DIVERSITY_HERFINDAHL</th>\n",
       "      <th>RATIO_DIVERSITY_GINI</th>\n",
       "      <th>RATIO_SHANNON_ENTROPY</th>\n",
       "      <th>RATIO_AVERAGE_POPULARITY</th>\n",
       "      <th>RATIO_NOVELTY</th>\n",
       "    </tr>\n",
       "    <tr>\n",
       "      <th>cutoff</th>\n",
       "      <th></th>\n",
       "      <th></th>\n",
       "      <th></th>\n",
       "      <th></th>\n",
       "      <th></th>\n",
       "      <th></th>\n",
       "      <th></th>\n",
       "      <th></th>\n",
       "      <th></th>\n",
       "      <th></th>\n",
       "      <th></th>\n",
       "      <th></th>\n",
       "      <th></th>\n",
       "      <th></th>\n",
       "      <th></th>\n",
       "      <th></th>\n",
       "      <th></th>\n",
       "      <th></th>\n",
       "      <th></th>\n",
       "      <th></th>\n",
       "      <th></th>\n",
       "    </tr>\n",
       "  </thead>\n",
       "  <tbody>\n",
       "    <tr>\n",
       "      <th>10</th>\n",
       "      <td>0.055968</td>\n",
       "      <td>0.096952</td>\n",
       "      <td>0.091091</td>\n",
       "      <td>0.026825</td>\n",
       "      <td>0.04418</td>\n",
       "      <td>0.168373</td>\n",
       "      <td>NaN</td>\n",
       "      <td>0.069335</td>\n",
       "      <td>0.354439</td>\n",
       "      <td>0.210658</td>\n",
       "      <td>...</td>\n",
       "      <td>0.961373</td>\n",
       "      <td>0.340748</td>\n",
       "      <td>0.961373</td>\n",
       "      <td>0.151577</td>\n",
       "      <td>10.224141</td>\n",
       "      <td>0.994688</td>\n",
       "      <td>0.392501</td>\n",
       "      <td>0.77539</td>\n",
       "      <td>3.268005</td>\n",
       "      <td>0.419111</td>\n",
       "    </tr>\n",
       "  </tbody>\n",
       "</table>\n",
       "<p>1 rows × 27 columns</p>\n",
       "</div>"
      ],
      "text/plain": [
       "       PRECISION PRECISION_RECALL_MIN_DEN    RECALL       MAP MAP_MIN_DEN  \\\n",
       "cutoff                                                                      \n",
       "10      0.055968                 0.096952  0.091091  0.026825     0.04418   \n",
       "\n",
       "             MRR NDCG        F1  HIT_RATE ARHR_ALL_HITS  ... COVERAGE_USER  \\\n",
       "cutoff                                                   ...                 \n",
       "10      0.168373  NaN  0.069335  0.354439      0.210658  ...      0.961373   \n",
       "\n",
       "       COVERAGE_USER_HIT USERS_IN_GT DIVERSITY_GINI SHANNON_ENTROPY  \\\n",
       "cutoff                                                                \n",
       "10              0.340748    0.961373       0.151577       10.224141   \n",
       "\n",
       "       RATIO_DIVERSITY_HERFINDAHL RATIO_DIVERSITY_GINI RATIO_SHANNON_ENTROPY  \\\n",
       "cutoff                                                                         \n",
       "10                       0.994688             0.392501               0.77539   \n",
       "\n",
       "       RATIO_AVERAGE_POPULARITY RATIO_NOVELTY  \n",
       "cutoff                                         \n",
       "10                     3.268005      0.419111  \n",
       "\n",
       "[1 rows x 27 columns]"
      ]
     },
     "execution_count": 30,
     "metadata": {},
     "output_type": "execute_result"
    }
   ],
   "source": [
    "evaluator_test = EvaluatorHoldout(URMv_test, [10])\n",
    "ris, _ = evaluator_test.evaluateRecommender(hybrid)\n",
    "ris"
   ]
  },
  {
   "cell_type": "code",
   "execution_count": 28,
   "metadata": {},
   "outputs": [
    {
     "name": "stderr",
     "output_type": "stream",
     "text": [
      "100%|██████████| 41116/41116 [00:31<00:00, 1303.91it/s]\n"
     ]
    }
   ],
   "source": [
    "from tqdm import tqdm\n",
    "\n",
    "f = open(\"submission.csv\", \"w+\")\n",
    "f.write(\"user_id,item_list\\n\")\n",
    "for t in tqdm(dm.getUserIDtest_df().user_id):\n",
    "    recommended_items = recommender.recommend(t, cutoff=10, remove_seen_flag=True)\n",
    "    well_formatted = \" \".join([str(x) for x in recommended_items])\n",
    "    f.write(f\"{t}, {well_formatted}\\n\")"
   ]
  }
 ],
 "metadata": {
  "kernelspec": {
   "display_name": "base",
   "language": "python",
   "name": "python3"
  },
  "language_info": {
   "codemirror_mode": {
    "name": "ipython",
    "version": 3
   },
   "file_extension": ".py",
   "mimetype": "text/x-python",
   "name": "python",
   "nbconvert_exporter": "python",
   "pygments_lexer": "ipython3",
   "version": "3.9.13"
  },
  "orig_nbformat": 4,
  "vscode": {
   "interpreter": {
    "hash": "6e76083d1a5f4c0027e70cf105b7627b1b5e567462449feedfd1ad9407b42e24"
   }
  }
 },
 "nbformat": 4,
 "nbformat_minor": 2
}
