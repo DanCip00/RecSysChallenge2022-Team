{
 "cells": [
  {
   "cell_type": "markdown",
   "metadata": {},
   "source": [
    "## Simple XGBoost tutorial\n"
   ]
  },
  {
   "cell_type": "markdown",
   "metadata": {},
   "source": [
    "We will use the trivial **Iris Dataset** which you can get from directly from sklearn or from the UCI repository.\n",
    "\n",
    "First of all, let's import what is needed:"
   ]
  },
  {
   "cell_type": "code",
   "execution_count": 5,
   "metadata": {},
   "outputs": [
    {
     "ename": "ModuleNotFoundError",
     "evalue": "No module named 'xgboost'",
     "output_type": "error",
     "traceback": [
      "\u001b[0;31m---------------------------------------------------------------------------\u001b[0m",
      "\u001b[0;31mModuleNotFoundError\u001b[0m                       Traceback (most recent call last)",
      "Cell \u001b[0;32mIn [5], line 2\u001b[0m\n\u001b[1;32m      1\u001b[0m \u001b[39mimport\u001b[39;00m \u001b[39mnumpy\u001b[39;00m \u001b[39mas\u001b[39;00m \u001b[39mnp\u001b[39;00m\n\u001b[0;32m----> 2\u001b[0m \u001b[39mimport\u001b[39;00m \u001b[39mxgboost\u001b[39;00m \u001b[39mas\u001b[39;00m \u001b[39mxgb\u001b[39;00m\n\u001b[1;32m      3\u001b[0m \u001b[39mfrom\u001b[39;00m \u001b[39msklearn\u001b[39;00m\u001b[39m.\u001b[39;00m\u001b[39mmodel_selection\u001b[39;00m \u001b[39mimport\u001b[39;00m train_test_split\n",
      "\u001b[0;31mModuleNotFoundError\u001b[0m: No module named 'xgboost'"
     ]
    }
   ],
   "source": [
    "import numpy as np\n",
    "import xgboost as xgb\n",
    "from sklearn.model_selection import train_test_split"
   ]
  },
  {
   "cell_type": "markdown",
   "metadata": {},
   "source": [
    "Load the Iris dataset and split in train and test following the thumb rule of 80/20:"
   ]
  },
  {
   "cell_type": "code",
   "execution_count": 27,
   "metadata": {},
   "outputs": [
    {
     "name": "stdout",
     "output_type": "stream",
     "text": [
      "/Users/daniele/Desktop/RecSys/RecSysChallenge2023-Team\n"
     ]
    },
    {
     "ename": "ModuleNotFoundError",
     "evalue": "No module named 'similaripy'",
     "output_type": "error",
     "traceback": [
      "\u001b[0;31m---------------------------------------------------------------------------\u001b[0m",
      "\u001b[0;31mModuleNotFoundError\u001b[0m                       Traceback (most recent call last)",
      "Cell \u001b[0;32mIn [27], line 3\u001b[0m\n\u001b[1;32m      1\u001b[0m \u001b[39mfrom\u001b[39;00m \u001b[39mData_manager\u001b[39;00m\u001b[39m.\u001b[39;00m\u001b[39msplit_functions\u001b[39;00m\u001b[39m.\u001b[39;00m\u001b[39msplit_train_validation_random_holdout\u001b[39;00m \u001b[39mimport\u001b[39;00m split_train_in_two_percentage_global_sample\n\u001b[1;32m      2\u001b[0m \u001b[39mimport\u001b[39;00m \u001b[39mDaniele\u001b[39;00m\u001b[39m.\u001b[39;00m\u001b[39mUtils\u001b[39;00m\u001b[39m.\u001b[39;00m\u001b[39mMyDataManager\u001b[39;00m \u001b[39mas\u001b[39;00m \u001b[39mdm\u001b[39;00m\n\u001b[0;32m----> 3\u001b[0m \u001b[39mimport\u001b[39;00m \u001b[39mDaniele\u001b[39;00m\u001b[39m.\u001b[39;00m\u001b[39mUtils\u001b[39;00m\u001b[39m.\u001b[39;00m\u001b[39mMatrixManipulation\u001b[39;00m \u001b[39mas\u001b[39;00m \u001b[39mmm\u001b[39;00m\n\u001b[1;32m      4\u001b[0m \u001b[39mimport\u001b[39;00m \u001b[39mDaniele\u001b[39;00m\u001b[39m.\u001b[39;00m\u001b[39mUtils\u001b[39;00m\u001b[39m.\u001b[39;00m\u001b[39mSaveSparceMatrix\u001b[39;00m \u001b[39mas\u001b[39;00m \u001b[39mssm\u001b[39;00m\n\u001b[1;32m      6\u001b[0m URMv \u001b[39m=\u001b[39m dm\u001b[39m.\u001b[39mgetURMviews()\n",
      "File \u001b[0;32m~/Desktop/RecSys/RecSysChallenge2023-Team/Daniele/Utils/MatrixManipulation.py:11\u001b[0m\n\u001b[1;32m      9\u001b[0m \u001b[39mfrom\u001b[39;00m \u001b[39mtqdm\u001b[39;00m \u001b[39mimport\u001b[39;00m tqdm\n\u001b[1;32m     10\u001b[0m \u001b[39mimport\u001b[39;00m \u001b[39mnumpy\u001b[39;00m \u001b[39mas\u001b[39;00m \u001b[39mnp\u001b[39;00m\n\u001b[0;32m---> 11\u001b[0m \u001b[39mimport\u001b[39;00m \u001b[39msimilaripy\u001b[39;00m\n\u001b[1;32m     12\u001b[0m \u001b[39mimport\u001b[39;00m \u001b[39mmath\u001b[39;00m \n\u001b[1;32m     14\u001b[0m \u001b[39mdef\u001b[39;00m \u001b[39m_norma_exp\u001b[39m(urm, slope, center,verbose\u001b[39m=\u001b[39m\u001b[39mFalse\u001b[39;00m):\n\u001b[1;32m     15\u001b[0m         \u001b[39m# Normalization\u001b[39;00m\n",
      "\u001b[0;31mModuleNotFoundError\u001b[0m: No module named 'similaripy'"
     ]
    }
   ],
   "source": [
    "from Data_manager.split_functions.split_train_validation_random_holdout import split_train_in_two_percentage_global_sample\n",
    "import Daniele.Utils.MyDataManager as dm\n",
    "import Daniele.Utils.MatrixManipulation as mm\n",
    "import Daniele.Utils.SaveSparceMatrix as ssm\n",
    "\n",
    "URMv = dm.getURMviews()\n",
    "URMo = dm.getURMopen()\n",
    "ICMt = dm.getICMt()\n",
    "ICMl = dm.getICMl()\n",
    "\n",
    "URMv_train, URMv_test = split_train_in_two_percentage_global_sample(URMv, train_percentage = 0.80)\n",
    "\n",
    "urm_def = mm.defaultExplicitURM(urmv=URMv_train,urmo=URMo,icml=ICMl,icmt=ICMt, normalize=True, add_aug=True,appendICM=True)"
   ]
  },
  {
   "cell_type": "markdown",
   "metadata": {},
   "source": [
    "Use **DMatrix** as data structures for both train and test. \n",
    "\n",
    "DMatrix is a internal data structure that used by XGBoost which is optimized for both memory efficiency and training speed.\n",
    "You can construct DMatrix from numpy.arrays:"
   ]
  },
  {
   "cell_type": "markdown",
   "metadata": {},
   "source": []
  },
  {
   "cell_type": "code",
   "execution_count": null,
   "metadata": {},
   "outputs": [],
   "source": [
    "dtrain = xgb.DMatrix(URMv_train, label=y_train)\n",
    "dtest = xgb.DMatrix(X_test, label=y_test)"
   ]
  },
  {
   "cell_type": "markdown",
   "metadata": {},
   "source": [
    "Set XGBoost parameters:\n",
    "\n",
    "merror: Multiclass classification error rate. It is calculated as #(wrong cases)/#(all cases)."
   ]
  },
  {
   "cell_type": "code",
   "execution_count": null,
   "metadata": {},
   "outputs": [],
   "source": [
    "params = {\n",
    "    'max_depth': 3,  # the maximum depth of each tree\n",
    "    'eta': 0.3,  # step for each iteration\n",
    "    'silent': 1, # keep it quiet\n",
    "    'objective': 'multi:softprob',  # error evaluation for multiclass training\n",
    "    'num_class': 3, # the number of classes \n",
    "    'eval_metric': 'merror'} # evaluation metric \n",
    "\n",
    "num_round = 20  # the number of training iterations (number of trees)"
   ]
  },
  {
   "cell_type": "markdown",
   "metadata": {},
   "source": [
    "Create a model and fit it with params:\n",
    "\n",
    "(We could have used also XGBClassifier, which is a scikit-learn compatible class. It is basically just a wrapper over the xgb.train function)."
   ]
  },
  {
   "cell_type": "code",
   "execution_count": null,
   "metadata": {},
   "outputs": [
    {
     "name": "stdout",
     "output_type": "stream",
     "text": [
      "[0]\ttrain-merror:0.016667\n",
      "[2]\ttrain-merror:0.016667\n",
      "[4]\ttrain-merror:0.016667\n",
      "[6]\ttrain-merror:0.016667\n",
      "[8]\ttrain-merror:0.016667\n",
      "[10]\ttrain-merror:0.016667\n",
      "[12]\ttrain-merror:0.016667\n",
      "[14]\ttrain-merror:0.016667\n",
      "[16]\ttrain-merror:0.016667\n",
      "[18]\ttrain-merror:0.008333\n",
      "[19]\ttrain-merror:0.008333\n"
     ]
    }
   ],
   "source": [
    "model = xgb.train(params,\n",
    "                  dtrain,\n",
    "                  num_round,\n",
    "                  verbose_eval=2,\n",
    "                  evals=[(dtrain, 'train')])"
   ]
  },
  {
   "cell_type": "code",
   "execution_count": null,
   "metadata": {},
   "outputs": [
    {
     "name": "stdout",
     "output_type": "stream",
     "text": [
      "Precision: 0.95 %\n"
     ]
    }
   ],
   "source": [
    "from sklearn.metrics import precision_score\n",
    "\n",
    "preds = model.predict(dtest)\n",
    "best_preds = np.asarray([np.argmax(line) for line in preds])\n",
    "print(\"Precision: {:.2f} %\".format(precision_score(y_test, best_preds, average='macro')))"
   ]
  },
  {
   "cell_type": "markdown",
   "metadata": {},
   "source": [
    "It is possible to show with an histogram the importance of each feature:"
   ]
  },
  {
   "cell_type": "code",
   "execution_count": null,
   "metadata": {},
   "outputs": [],
   "source": [
    "%matplotlib inline\n",
    "from xgboost import plot_importance"
   ]
  },
  {
   "cell_type": "markdown",
   "metadata": {},
   "source": [
    "**Gain:** it implies the relative contribution of the corresponding feature to the model calculated by taking each feature's contribution for each tree in the model. A higher value of this metric when compared to another feature implies it is more important for generating a prediction."
   ]
  },
  {
   "cell_type": "code",
   "execution_count": null,
   "metadata": {},
   "outputs": [
    {
     "data": {
      "text/plain": [
       "<matplotlib.axes._subplots.AxesSubplot at 0x7f37541cfc18>"
      ]
     },
     "execution_count": 9,
     "metadata": {},
     "output_type": "execute_result"
    },
    {
     "data": {
      "image/png": "[encoded data removed]",
      "text/plain": [
       "<Figure size 432x288 with 1 Axes>"
      ]
     },
     "metadata": {
      "needs_background": "light"
     },
     "output_type": "display_data"
    }
   ],
   "source": [
    "plot_importance(model, importance_type='gain', title='Gain')"
   ]
  },
  {
   "cell_type": "markdown",
   "metadata": {},
   "source": [
    "**Cover:** The Cover metric means the relative number of observations related to this feature. Therefore is the number of observations for which the leaf node is determined by the feature. This number will be calculated for all the features in the dataset and the cover will be expressed as a percentage over all features' cover metrics."
   ]
  },
  {
   "cell_type": "code",
   "execution_count": null,
   "metadata": {},
   "outputs": [
    {
     "data": {
      "text/plain": [
       "<matplotlib.axes._subplots.AxesSubplot at 0x7f37540fa9b0>"
      ]
     },
     "execution_count": 10,
     "metadata": {},
     "output_type": "execute_result"
    },
    {
     "data": {
      "image/png": "[encoded data removed]",
      "text/plain": [
       "<Figure size 432x288 with 1 Axes>"
      ]
     },
     "metadata": {
      "needs_background": "light"
     },
     "output_type": "display_data"
    }
   ],
   "source": [
    "plot_importance(model, importance_type='cover', title='Cover')"
   ]
  },
  {
   "cell_type": "markdown",
   "metadata": {},
   "source": [
    "**Weight (Frequence):** is the percentage representing the relative number of times a particular feature occurs in the trees of the model. Is the number of splits in which the particular feature occurred."
   ]
  },
  {
   "cell_type": "code",
   "execution_count": null,
   "metadata": {},
   "outputs": [
    {
     "data": {
      "text/plain": [
       "<matplotlib.axes._subplots.AxesSubplot at 0x7f375406f7f0>"
      ]
     },
     "execution_count": 11,
     "metadata": {},
     "output_type": "execute_result"
    },
    {
     "data": {
      "image/png": "[encoded data removed]",
      "text/plain": [
       "<Figure size 432x288 with 1 Axes>"
      ]
     },
     "metadata": {
      "needs_background": "light"
     },
     "output_type": "display_data"
    }
   ],
   "source": [
    "plot_importance(model, importance_type='weight', title='Weight (Frequence)')"
   ]
  },
  {
   "cell_type": "markdown",
   "metadata": {},
   "source": [
    "In order to avoid overfitting, we can use the early stopping technique looking at the error on our local validation set. Let's try it:"
   ]
  },
  {
   "cell_type": "code",
   "execution_count": null,
   "metadata": {},
   "outputs": [],
   "source": [
    "X_train, X_val, y_train, y_val = train_test_split(X_train, y_train, test_size=0.2, random_state=3)\n",
    "\n",
    "dtrain = xgb.DMatrix(X_train, label=y_train)\n",
    "dval = xgb.DMatrix(X_val, label=y_val)"
   ]
  },
  {
   "cell_type": "code",
   "execution_count": null,
   "metadata": {},
   "outputs": [
    {
     "name": "stdout",
     "output_type": "stream",
     "text": [
      "[0]\ttrain-merror:0.020833\tvalidation-merror:0\n",
      "Multiple eval metrics have been passed: 'validation-merror' will be used for early stopping.\n",
      "\n",
      "Will train until validation-merror hasn't improved in 20 rounds.\n",
      "[2]\ttrain-merror:0.020833\tvalidation-merror:0\n",
      "[4]\ttrain-merror:0.020833\tvalidation-merror:0\n",
      "[6]\ttrain-merror:0.010417\tvalidation-merror:0.041667\n",
      "[8]\ttrain-merror:0.010417\tvalidation-merror:0.041667\n",
      "[10]\ttrain-merror:0\tvalidation-merror:0.083333\n",
      "[12]\ttrain-merror:0\tvalidation-merror:0.041667\n",
      "[14]\ttrain-merror:0\tvalidation-merror:0.083333\n",
      "[16]\ttrain-merror:0\tvalidation-merror:0.083333\n",
      "[18]\ttrain-merror:0\tvalidation-merror:0.083333\n",
      "[19]\ttrain-merror:0\tvalidation-merror:0.083333\n"
     ]
    }
   ],
   "source": [
    "model = xgb.train(params,\n",
    "                  dtrain,\n",
    "                  num_round,\n",
    "                  verbose_eval=2,\n",
    "                  evals=[(dtrain, 'train'), (dval, 'validation')],\n",
    "                  early_stopping_rounds=20)"
   ]
  },
  {
   "cell_type": "markdown",
   "metadata": {},
   "source": [
    "### If we plot the precision and feature weight we may see changes in the values"
   ]
  },
  {
   "cell_type": "code",
   "execution_count": null,
   "metadata": {},
   "outputs": [
    {
     "name": "stdout",
     "output_type": "stream",
     "text": [
      "Precision: 0.95 %\n"
     ]
    }
   ],
   "source": [
    "preds = model.predict(dtest)\n",
    "best_preds = np.asarray([np.argmax(line) for line in preds])\n",
    "print(\"Precision: {:.2f} %\".format(precision_score(y_test, best_preds, average='macro')))"
   ]
  },
  {
   "cell_type": "code",
   "execution_count": null,
   "metadata": {},
   "outputs": [
    {
     "data": {
      "text/plain": [
       "<matplotlib.axes._subplots.AxesSubplot at 0x7f374ffcf780>"
      ]
     },
     "execution_count": 15,
     "metadata": {},
     "output_type": "execute_result"
    },
    {
     "data": {
      "image/png": "[encoded data removed]",
      "text/plain": [
       "<Figure size 432x288 with 1 Axes>"
      ]
     },
     "metadata": {
      "needs_background": "light"
     },
     "output_type": "display_data"
    }
   ],
   "source": [
    "plot_importance(model, importance_type='weight', title='Weight (Frequence)')"
   ]
  },
  {
   "cell_type": "markdown",
   "metadata": {},
   "source": [
    "## How to use XGBoost in RecSys?"
   ]
  },
  {
   "cell_type": "markdown",
   "metadata": {},
   "source": [
    "## Hint: reranking and hybridization\n",
    "\n",
    "### Steps:\n",
    "* Run your best algorithm and select a number of recommendations higher than the target cutoff, for example if you have to compute MAP@10, get 20 recommendations\n",
    "* Build a dataframe whose samples are the user-item recommendations\n",
    "* Add for each interaction some content features: item features, user features\n",
    "* Add for each interaction some features derived by other algorithms: CBF prediction, hybrid prediction\n",
    "* Add for each interaction other miscellaneous information: profile length, item popularity .."
   ]
  },
  {
   "cell_type": "markdown",
   "metadata": {},
   "source": [
    "## Dummy example"
   ]
  },
  {
   "cell_type": "code",
   "execution_count": 49,
   "metadata": {},
   "outputs": [],
   "source": [
    "import os \n",
    "import sys\n",
    "while os.path.split(os.getcwd())[1] != 'RecSysChallenge2023-Team':\n",
    "    os.chdir('..')\n",
    "sys.path.insert(1, os.getcwd())"
   ]
  },
  {
   "cell_type": "code",
   "execution_count": 50,
   "metadata": {},
   "outputs": [],
   "source": [
    "path_save= \"Daniele/Recommenders/XGBoot/saved_models\"\n",
    "if not os.path.exists(path_save):\n",
    "    os.makedirs(path_save)"
   ]
  },
  {
   "cell_type": "code",
   "execution_count": 51,
   "metadata": {},
   "outputs": [
    {
     "name": "stdout",
     "output_type": "stream",
     "text": [
      "Warning: 1552 (3.73 %) of 41629 users have no sampled items\n"
     ]
    },
    {
     "name": "stderr",
     "output_type": "stream",
     "text": [
      "100%|██████████| 27968/27968 [00:03<00:00, 7843.40it/s]\n",
      "100%|██████████| 841462/841462 [00:00<00:00, 983783.10it/s] \n",
      "100%|██████████| 27968/27968 [00:05<00:00, 5051.51it/s]\n",
      "100%|██████████| 663370/663370 [00:01<00:00, 618377.39it/s]\n",
      "100%|██████████| 27968/27968 [00:03<00:00, 7248.28it/s]\n",
      "100%|██████████| 841462/841462 [00:00<00:00, 982247.65it/s]\n",
      "100%|██████████| 27968/27968 [00:05<00:00, 5309.84it/s]\n",
      "100%|██████████| 663370/663370 [00:01<00:00, 604442.17it/s]\n"
     ]
    }
   ],
   "source": [
    "from Data_manager.split_functions.split_train_validation_random_holdout import split_train_in_two_percentage_global_sample\n",
    "from Evaluation.Evaluator import EvaluatorHoldout\n",
    "\n",
    "import Daniele.Utils.MyDataManager as dm \n",
    "import Daniele.Utils.MatrixManipulation as mm\n",
    "import Daniele.Utils.SaveSparceMatrix as ssm\n",
    "\n",
    "URMv = dm.getURMviews()\n",
    "URMo = dm.getURMopen()\n",
    "ICMt=dm.getICMt()\n",
    "ICMl=dm.getICMl()\n",
    "\n",
    "name=\"train.csv\"\n",
    "dir = os.path.join(path_save,name)\n",
    "if not os.path.exists(dir):\n",
    "    URMv_train, URMv_test = split_train_in_two_percentage_global_sample(URMv, train_percentage = 0.80)\n",
    "\n",
    "    ssm.saveMatrix(dir,URMv_train)\n",
    "\n",
    "    name=\"test.csv\"\n",
    "    dir = os.path.join(path_save,name)\n",
    "    ssm.saveMatrix(dir,URMv_test)\n",
    "\n",
    "    urm_def = mm.defaultExplicitURM(urmv=URMv_train,urmo=URMo,icml=ICMl,icmt=ICMt, normalize=True, add_aug=True,appendICM=True)\n",
    "    name=\"urm_def.csv\"\n",
    "    dir = os.path.join(path_save,name)\n",
    "    ssm.saveMatrix(dir,urm_def)\n",
    "\n",
    "    urm_bin = mm.defaultExplicitURM(urmv=URMv_train,urmo=URMo, normalize=False, add_aug=True)\n",
    "    urm_bin.data = np.ones(len(urm_bin.data))\n",
    "    name=\"urm_bin.csv\"\n",
    "    dir = os.path.join(path_save,name)\n",
    "    ssm.saveMatrix(dir,urm_bin)\n",
    "\n",
    "else:\n",
    "    URMv_train=ssm.readMatrix(dir)\n",
    "\n",
    "    name=\"test.csv\"\n",
    "    dir = os.path.join(path_save,name)\n",
    "    URMv_test=ssm.readMatrix(dir)\n",
    "\n",
    "    name=\"urm_def.csv\"\n",
    "    dir = os.path.join(path_save,name)\n",
    "    urm_def = ssm.readMatrix(dir)\n",
    "\n",
    "    name=\"urm_bin.csv\"\n",
    "    dir = os.path.join(path_save,name)\n",
    "    urm_bin = ssm.readMatrix(dir)\n"
   ]
  },
  {
   "cell_type": "code",
   "execution_count": 52,
   "metadata": {},
   "outputs": [],
   "source": [
    "################################# IMPORT RECOMMENDERS #################################\n",
    "\n",
    "from Recommenders.BaseSimilarityMatrixRecommender import BaseItemSimilarityMatrixRecommender\n",
    "from Daniele.Recommenders.KNN_CFCBF.ItemKNN_CFCBF_Hybrid_Recommender import KNN_CFCBF_custom\n",
    "from Recommenders.KNN.ItemKNNCustomSimilarityRecommender import ItemKNNCustomSimilarityRecommender\n",
    "from Recommenders.SLIM.Cython.SLIM_BPR_Cython import SLIM_BPR_Cython\n",
    "from Recommenders.GraphBased.RP3betaRecommender import RP3betaRecommender\n",
    "from Recommenders.NonPersonalizedRecommender import TopPop\n",
    "\n",
    "################################## IMPORT LIBRARIES ##################################\n",
    "\n",
    "import pandas as pd\n",
    "from numpy import linalg as LA\n",
    "import Daniele.Utils.MatrixManipulation as mm \n",
    "import scipy.sparse as sps\n",
    "from tqdm import tqdm\n",
    "import numpy as np\n",
    "\n",
    "\n",
    "#################################### HYBRID CLASS ####################################\n",
    "class SSLIMRP3BetaKNNRecommender(BaseItemSimilarityMatrixRecommender):\n",
    "    RECOMMENDER_NAME = \"RP3BetaKNNRecommender\"\n",
    "\n",
    "\n",
    "    def __init__(self, urmv,urmo,icmt,icml):\n",
    "        \n",
    "        self.urmv = mm.explicitURM(urmv,slope=0.01, n_remove=2750, shrink_bias=85,bias='item', new_val = 0)\n",
    "        self.urmo = mm.explicitURM(urmo, slope=0.01, n_remove = 10000, shrink_bias = 25,bias='user', new_val = 30)\n",
    "        self.ICM_type = mm.augmentedICM(icmt,icml)\n",
    "\n",
    "        urm = mm.defaultExplicitURM(urmv=urmv,urmo=urmo, normalize=False, add_aug=True)\n",
    "        urm.data = np.ones(len(urm.data))\n",
    "        self.urm_bin = urm\n",
    "\n",
    "        self.urm_def = mm.defaultExplicitURM(urmv=urmv,urmo=urmo,icml=icml,icmt=icmt, normalize=True, add_aug=True,appendICM=True)\n",
    "\n",
    "        self.interactions_threshold = 21\n",
    "        super().__init__(self.urm_bin)\n",
    "\n",
    "    def fit(self, alpha_knn_rp3=0.3,\n",
    "            \n",
    "            topK_rp3beta= 89, alpha_rp3beta =0.6361002951626124, beta_rp3beta= 0.27432996564004203, normalize_similarity_rp3beta= True,\n",
    "            topK_knn= 744, shrink_knn= 457, similarity_knn= 'cosine', normalize_knn= True, feature_weighting_knn='TF-IDF',\n",
    "            topK_sslim= 305, epochs_sslim=25,symmetric_sslim=True, sgd_mode_sslim = 'adam', lambda_i_sslim = 0.00048157278406027107, lambda_j_sslim=0.0002827394953195856, learning_rate_sslim = 0.009845463659115065,\n",
    "            peso_1=0.6,peso_2=0.4,interactions_threshold =12\n",
    "\n",
    "            ):\n",
    "        self.peso_1 = peso_1\n",
    "        self.peso_2 = peso_2\n",
    "        self.interactions_threshold = interactions_threshold\n",
    "\n",
    "        self.rp3beta_recommender = RP3betaRecommender(self.urm_bin)\n",
    "        self.KNN_recommender = KNN_CFCBF_custom(self.urmv,self.urmo,ICM_train=self.ICM_type)\n",
    "        self.sslim_recommender = SLIM_BPR_Cython(URM_train=self.urm_def)\n",
    "        self.knn_rp3_recommender = ItemKNNCustomSimilarityRecommender(self.urm_def)\n",
    "        self.most_viewed = TopPop(self.urm_bin)\n",
    "\n",
    "        self.most_viewed.fit()\n",
    "        # {'topK': 89, 'alpha': 0.6361002951626124, 'beta': 0.27432996564004203, 'normalize_similarity': True} -> opt_top\n",
    "        self.rp3beta_recommender.fit(topK= topK_rp3beta, alpha= alpha_rp3beta, beta= beta_rp3beta, normalize_similarity= normalize_similarity_rp3beta)\n",
    "        \n",
    "        # {'topK': 744, 'shrink': 457, 'similarity': 'cosine', 'normalize': True, 'feature_weighting': 'TF-IDF'} -> opt_top\n",
    "        self.KNN_recommender.fit(topK= topK_knn, shrink= shrink_knn, similarity= similarity_knn, normalize= normalize_knn, feature_weighting=feature_weighting_knn)\n",
    "\n",
    "        # {'topK': 305, 'epochs': 25, 'symmetric': True, 'sgd_mode': 'adam', 'lambda_i': 0.0008132913041259862, 'lambda_j': 0.004889521240194745, 'learning_rate': 0.005381553515814384}\n",
    "        # {'topK': 109, 'epochs': 25, 'symmetric': True, 'sgd_mode': 'adam', 'lambda_i': 0.00048157278406027107, 'lambda_j': 0.0002827394953195856, 'learning_rate': 0.009845463659115065}\n",
    "        self.sslim_recommender.fit(topK= topK_sslim, epochs=epochs_sslim,symmetric=symmetric_sslim, sgd_mode = sgd_mode_sslim, lambda_i = lambda_i_sslim, lambda_j=lambda_j_sslim, learning_rate = learning_rate_sslim)\n",
    "\n",
    "        # alpha =0.3\n",
    "        self.knn_rp3_recommender.fit((1 - alpha_knn_rp3) * self.KNN_recommender.W_sparse + alpha_knn_rp3* self.rp3beta_recommender.W_sparse)\n",
    "\n",
    "    def _compute_item_score(self,\n",
    "                            user_id_array,\n",
    "                            items_to_compute=None\n",
    "                            ):\n",
    "\n",
    "\n",
    "        item_weights = np.empty([len(user_id_array), self.urm_def.shape[1]])\n",
    "        for i in range(len(user_id_array)):\n",
    "\n",
    "            interactions = len(self.urmv[user_id_array[i],:].indices)\n",
    "\n",
    "            if interactions >= 22:  # -> g.14\n",
    "            \n",
    "                w1 = self.rp3beta_recommender._compute_item_score([user_id_array[i]])\n",
    "                #w1 = w1 / np.linalg.norm(w1, 2)\n",
    "                item_weights[i,:] = w1 \n",
    "\n",
    "            elif interactions >= 15: # -> g. 10\n",
    "\n",
    "                w1 = self.knn_rp3_recommender._compute_item_score([user_id_array[i]])\n",
    "                item_weights[i,:] = w1\n",
    "\n",
    "            elif interactions >= self.interactions_threshold: #12 -> g. 7 \n",
    "            \n",
    "                \n",
    "                #KNN-RP3Beta-SSLIM \n",
    "                w1 = self.knn_rp3_recommender._compute_item_score([user_id_array[i]])\n",
    "                w1 = w1 / np.linalg.norm(w1, 2)\n",
    "\n",
    "                w2 = self.sslim_recommender._compute_item_score([user_id_array[i]])\n",
    "                w2 = w2 / np.linalg.norm(w2, 2)\n",
    "                item_weights[i,:] = w1*self.peso_1+w2*self.peso_2\n",
    "\n",
    "                \n",
    "                \"\"\"\n",
    "                RP3Beta-KNN\n",
    "                w1 = self.rp3beta_recommender._compute_item_score([user_id_array[i]])\n",
    "                w1 = w1 / np.linalg.norm(w1, 2)\n",
    "\n",
    "                w2 = self.KNN_recommender._compute_item_score([user_id_array[i]])\n",
    "                w2 = w2 / np.linalg.norm(w2, 2)\n",
    "                item_weights[i,:] = w1*self.peso_1+w2*self.peso_2\n",
    "                \"\"\"\n",
    "                #w1 = self.knn_rp3_recommender._compute_item_score([user_id_array[i]])\n",
    "                #item_weights[i,:] = w1\n",
    "                \n",
    "                \n",
    "\n",
    "            elif interactions >= 1:\n",
    "            \n",
    "                w1 = self.sslim_recommender._compute_item_score([user_id_array[i]])\n",
    "                item_weights[i,:] = w1 \n",
    "\n",
    "            else:\n",
    "                print(\"topPop\")\n",
    "                w1 = self.most_viewed._compute_item_score([user_id_array[i]])\n",
    "                item_weights[i,:] = w1 \n",
    "\n",
    "        return item_weights\n"
   ]
  },
  {
   "cell_type": "code",
   "execution_count": 53,
   "metadata": {},
   "outputs": [
    {
     "name": "stdout",
     "output_type": "stream",
     "text": [
      "SLIM_BPR_Recommender: URM Detected 2 ( 0.0%) users with no interactions.\n",
      "Deallocating Cython objects\n",
      "Unable to read memory status: list index out of range\n",
      "SLIM_BPR_Recommender: Automatic selection of fastest train mode. Unable to get current RAM status, you may be using a non-Linux operating system. Using dense matrix.\n"
     ]
    },
    {
     "name": "stderr",
     "output_type": "stream",
     "text": [
      "/bin/sh: free: command not found\n"
     ]
    },
    {
     "name": "stdout",
     "output_type": "stream",
     "text": [
      "Processed 70388 (100.0%) in 4.23 sec. BPR loss is 1.39E+00. Sample per second: 16610\n",
      "SLIM_BPR_Recommender: Epoch 1 of 15. Elapsed time 3.38 sec\n",
      "Processed 70388 (100.0%) in 3.08 sec. BPR loss is 4.75E+00. Sample per second: 22802\n",
      "SLIM_BPR_Recommender: Epoch 2 of 15. Elapsed time 6.21 sec\n",
      "Processed 70388 (100.0%) in 0.87 sec. BPR loss is 7.92E+00. Sample per second: 80738\n",
      "SLIM_BPR_Recommender: Epoch 3 of 15. Elapsed time 6.99 sec\n",
      "Processed 70388 (100.0%) in 1.34 sec. BPR loss is 1.12E+01. Sample per second: 52509\n",
      "SLIM_BPR_Recommender: Epoch 4 of 15. Elapsed time 7.46 sec\n",
      "Processed 70388 (100.0%) in 0.65 sec. BPR loss is 1.36E+01. Sample per second: 108291\n",
      "SLIM_BPR_Recommender: Epoch 5 of 15. Elapsed time 7.77 sec\n",
      "Processed 70388 (100.0%) in 0.82 sec. BPR loss is 1.74E+01. Sample per second: 85797\n",
      "SLIM_BPR_Recommender: Epoch 6 of 15. Elapsed time 7.94 sec\n",
      "Processed 70388 (100.0%) in 0.97 sec. BPR loss is 2.05E+01. Sample per second: 72705\n",
      "SLIM_BPR_Recommender: Epoch 7 of 15. Elapsed time 8.09 sec\n",
      "Processed 70388 (100.0%) in 1.11 sec. BPR loss is 2.17E+01. Sample per second: 63383\n",
      "SLIM_BPR_Recommender: Epoch 8 of 15. Elapsed time 8.23 sec\n",
      "Processed 70388 (100.0%) in 0.29 sec. BPR loss is 2.56E+01. Sample per second: 245294\n",
      "SLIM_BPR_Recommender: Epoch 9 of 15. Elapsed time 8.40 sec\n",
      "Processed 70388 (100.0%) in 0.51 sec. BPR loss is 2.79E+01. Sample per second: 138826\n",
      "SLIM_BPR_Recommender: Epoch 10 of 15. Elapsed time 8.62 sec\n",
      "Processed 70388 (100.0%) in 0.66 sec. BPR loss is 3.06E+01. Sample per second: 107124\n",
      "SLIM_BPR_Recommender: Epoch 11 of 15. Elapsed time 8.77 sec\n",
      "Processed 70388 (100.0%) in 0.81 sec. BPR loss is 3.22E+01. Sample per second: 86637\n",
      "SLIM_BPR_Recommender: Epoch 12 of 15. Elapsed time 8.93 sec\n",
      "Processed 70388 (100.0%) in 0.98 sec. BPR loss is 3.53E+01. Sample per second: 71596\n",
      "SLIM_BPR_Recommender: Epoch 13 of 15. Elapsed time 9.10 sec\n",
      "Processed 70388 (100.0%) in 1.17 sec. BPR loss is 3.91E+01. Sample per second: 60237\n",
      "SLIM_BPR_Recommender: Epoch 14 of 15. Elapsed time 9.29 sec\n",
      "Processed 70388 (100.0%) in 0.36 sec. BPR loss is 4.13E+01. Sample per second: 193210\n",
      "SLIM_BPR_Recommender: Epoch 15 of 15. Elapsed time 9.48 sec\n",
      "SLIM_BPR_Recommender: Terminating at epoch 15. Elapsed time 18.14 sec\n",
      "Deallocating Cython objects\n",
      "SLIM_BPR_Recommender: Saving model in file 'Daniele/Recommenders/XGBoot/saved_modelssslim01'\n",
      "SLIM_BPR_Recommender: Saving complete\n"
     ]
    }
   ],
   "source": [
    "from Recommenders.SLIM.Cython.SLIM_BPR_Cython import SLIM_BPR_Cython\n",
    "name=\"sslim01\"\n",
    "dir = os.path.join(path_save,name)\n",
    "\n",
    "sslim_recommender = SLIM_BPR_Cython(URM_train=urm_def)\n",
    "if not os.path.exists(dir+\".zip\"):\n",
    "    #{'topK': 51, 'epochs': 15, 'symmetric': True, 'sgd_mode': 'adam', 'lambda_i': 1e-05, 'lambda_j': 0.003215687724797301, 'learning_rate': 0.007114410195895492}\n",
    "    sslim_recommender.fit(topK= 51, epochs=15,symmetric=True, sgd_mode = 'adam', lambda_i = 1e-05, lambda_j=0.003215687724797301, learning_rate = 0.007114410195895492)\n",
    "    sslim_recommender.save_model(path_save,name)\n",
    "else:\n",
    "    sslim_recommender.load_model(path_save,name)\n",
    "\n",
    "   "
   ]
  },
  {
   "attachments": {},
   "cell_type": "markdown",
   "metadata": {},
   "source": [
    "### KNN_CFCBF "
   ]
  },
  {
   "cell_type": "code",
   "execution_count": 54,
   "metadata": {},
   "outputs": [
    {
     "name": "stdout",
     "output_type": "stream",
     "text": [
      "KNN_CFCBF_custom: URM Detected 3461 (12.4%) items with no interactions.\n",
      "Beta-> 1.0 \tICM_weight-> 1.0\n",
      "Similarity column 27968 (100.0%), 2217.13 column/sec. Elapsed time 12.61 sec\n",
      "KNN_CFCBF_custom: Saving model in file 'Daniele/Recommenders/XGBoot/saved_modelsknn_cfcbf'\n",
      "KNN_CFCBF_custom: Saving complete\n"
     ]
    }
   ],
   "source": [
    "from Daniele.Recommenders.KNN_CFCBF.ItemKNN_CFCBF_Hybrid_Recommender import KNN_CFCBF_custom\n",
    "name=\"knn_cfcbf\"\n",
    "dir = os.path.join(path_save,name)\n",
    "\n",
    "KNN_recommender = KNN_CFCBF_custom(URMv_train,URMo,ICM_train=mm.augmentedICM(ICMt,ICMl))\n",
    "if not os.path.exists(dir+\".zip\"):\n",
    "    KNN_recommender.fit(topK= 744, shrink= 457, similarity= 'cosine', normalize= True, feature_weighting='TF-IDF')\n",
    "    KNN_recommender.save_model(path_save,name)\n",
    "else:\n",
    "    KNN_recommender.load_model(path_save,name)"
   ]
  },
  {
   "attachments": {},
   "cell_type": "markdown",
   "metadata": {},
   "source": [
    "### RP3Beta \n"
   ]
  },
  {
   "cell_type": "code",
   "execution_count": 55,
   "metadata": {},
   "outputs": [
    {
     "name": "stdout",
     "output_type": "stream",
     "text": [
      "RP3betaRecommender: URM Detected 3461 (12.4%) items with no interactions.\n",
      "RP3betaRecommender: Similarity column 27968 (100.0%), 3137.57 column/sec. Elapsed time 8.91 sec\n",
      "RP3betaRecommender: Saving model in file 'Daniele/Recommenders/XGBoot/saved_modelsrp3beta'\n",
      "RP3betaRecommender: Saving complete\n"
     ]
    }
   ],
   "source": [
    "from Recommenders.GraphBased.RP3betaRecommender import RP3betaRecommender\n",
    "name=\"rp3beta\"\n",
    "dir = os.path.join(path_save,name)\n",
    "\n",
    "\n",
    "rp3beta_recommender = RP3betaRecommender(urm_bin)\n",
    "if not os.path.exists(dir+\".zip\"):\n",
    "    rp3beta_recommender.fit(topK= 89, alpha= 0.6361002951626124, beta= 0.27432996564004203, normalize_similarity= True)\n",
    "    rp3beta_recommender.save_model(path_save,name)\n",
    "else:\n",
    "    rp3beta_recommender.load_model(path_save,name)"
   ]
  },
  {
   "attachments": {},
   "cell_type": "markdown",
   "metadata": {},
   "source": [
    "### RP3Beta - KNN_CFCBF"
   ]
  },
  {
   "cell_type": "code",
   "execution_count": 56,
   "metadata": {},
   "outputs": [
    {
     "name": "stdout",
     "output_type": "stream",
     "text": [
      "ItemKNNCustomSimilarityRecommender: URM Detected 2 ( 0.0%) users with no interactions.\n",
      "ItemKNNCustomSimilarityRecommender: Saving model in file 'Daniele/Recommenders/XGBoot/saved_modelsrp3beta-knn'\n",
      "ItemKNNCustomSimilarityRecommender: Saving complete\n"
     ]
    }
   ],
   "source": [
    "from Recommenders.KNN.ItemKNNCustomSimilarityRecommender import ItemKNNCustomSimilarityRecommender\n",
    "alpha_knn_rp3 = 0.7\n",
    "name=\"rp3beta-knn\"\n",
    "dir = os.path.join(path_save,name)\n",
    "\n",
    "\n",
    "knn_rp3_recommender = ItemKNNCustomSimilarityRecommender(urm_def)\n",
    "if not os.path.exists(dir+\".zip\"):\n",
    "    knn_rp3_recommender.fit((1 - alpha_knn_rp3) * KNN_recommender.W_sparse + alpha_knn_rp3* rp3beta_recommender.W_sparse)\n",
    "    knn_rp3_recommender.save_model(path_save,name)\n",
    "else:\n",
    "    knn_rp3_recommender.load_model(path_save,name)"
   ]
  },
  {
   "attachments": {},
   "cell_type": "markdown",
   "metadata": {},
   "source": [
    "### TopPop"
   ]
  },
  {
   "cell_type": "code",
   "execution_count": 57,
   "metadata": {},
   "outputs": [
    {
     "name": "stdout",
     "output_type": "stream",
     "text": [
      "TopPopRecommender: URM Detected 3461 (12.4%) items with no interactions.\n",
      "TopPopRecommender: Saving model in file 'Daniele/Recommenders/XGBoot/saved_modelsTopPop'\n",
      "TopPopRecommender: Saving complete\n"
     ]
    }
   ],
   "source": [
    "from Recommenders.NonPersonalizedRecommender import TopPop\n",
    "name=\"TopPop\"\n",
    "dir = os.path.join(path_save,name)\n",
    "\n",
    "most_viewed = TopPop(urm_bin)\n",
    "if not os.path.exists(dir+\".zip\"):\n",
    "    most_viewed.fit()\n",
    "    most_viewed.save_model(path_save,name)\n",
    "else:\n",
    "    most_viewed.load_model(path_save,name)"
   ]
  },
  {
   "attachments": {},
   "cell_type": "markdown",
   "metadata": {},
   "source": [
    "### REFERENCE RP3Beta 0.052"
   ]
  },
  {
   "cell_type": "code",
   "execution_count": 58,
   "metadata": {},
   "outputs": [
    {
     "name": "stdout",
     "output_type": "stream",
     "text": [
      "RP3betaRecommender: URM Detected 3461 (12.4%) items with no interactions.\n",
      "RP3betaRecommender: Similarity column 27968 (100.0%), 3069.50 column/sec. Elapsed time 9.11 sec\n"
     ]
    }
   ],
   "source": [
    "best_reference = RP3betaRecommender(urm_bin)\n",
    "#{'topK': 106, 'alpha': 0.6155817289031643, 'beta': 0.33427474623540737, 'normalize_similarity': True} -> MAP 0.0276355\n",
    "best_reference.fit(topK= 106, alpha= 0.6155817289031643, beta= 0.33427474623540737, normalize_similarity= True)\n"
   ]
  },
  {
   "attachments": {},
   "cell_type": "markdown",
   "metadata": {},
   "source": [
    "### Hybrid"
   ]
  },
  {
   "cell_type": "code",
   "execution_count": 59,
   "metadata": {},
   "outputs": [
    {
     "name": "stderr",
     "output_type": "stream",
     "text": [
      "100%|██████████| 27968/27968 [00:03<00:00, 7566.28it/s]\n",
      "100%|██████████| 841462/841462 [00:00<00:00, 982971.52it/s]\n",
      "100%|██████████| 27968/27968 [00:03<00:00, 8952.81it/s]\n",
      "100%|██████████| 663370/663370 [00:00<00:00, 901408.38it/s]\n",
      "100%|██████████| 27968/27968 [00:03<00:00, 7693.03it/s]\n",
      "100%|██████████| 841462/841462 [00:00<00:00, 983327.55it/s]\n",
      "100%|██████████| 27968/27968 [00:03<00:00, 9168.80it/s]\n",
      "100%|██████████| 663370/663370 [00:00<00:00, 979855.26it/s]\n",
      "100%|██████████| 27968/27968 [00:03<00:00, 7754.18it/s]\n",
      "100%|██████████| 841462/841462 [00:00<00:00, 975343.68it/s]\n",
      "100%|██████████| 27968/27968 [00:03<00:00, 9172.44it/s]\n",
      "100%|██████████| 663370/663370 [00:00<00:00, 969142.26it/s]\n"
     ]
    },
    {
     "name": "stdout",
     "output_type": "stream",
     "text": [
      "RP3BetaKNNRecommender: URM Detected 3461 (12.4%) items with no interactions.\n"
     ]
    }
   ],
   "source": [
    "from Daniele.Recommenders.Hybrid_KNN_RP3Beta_SSLIM.hybrid import SSLIMRP3BetaKNNRecommender\n",
    "\n",
    "hybrid = SSLIMRP3BetaKNNRecommender(URMv_train,URMo,ICMt,ICMl)\n",
    "hybrid.rp3beta_recommender = rp3beta_recommender\n",
    "hybrid.KNN_recommender = KNN_recommender\n",
    "hybrid.sslim_recommender = sslim_recommender\n",
    "hybrid.knn_rp3_recommender = knn_rp3_recommender\n",
    "hybrid.most_viewed = most_viewed\n",
    "\n",
    "# {'peso_1': 0.06475010925251191, 'peso_2': 0.027199820509343116, 'interactions_threshold': 7}\n",
    "hybrid.peso_1=0.06475010925251191\n",
    "hybrid.peso_2=0.027199820509343116\n",
    "hybrid.interactions_threshold =7"
   ]
  },
  {
   "cell_type": "markdown",
   "metadata": {},
   "source": [
    "## Build the dataframe with the predictions\n",
    "\n"
   ]
  },
  {
   "cell_type": "code",
   "execution_count": 66,
   "metadata": {},
   "outputs": [],
   "source": [
    "import numpy as np\n",
    "cutoff = 10\n",
    "user_recommendations_items = []\n",
    "user_recommendations_user_id = []\n",
    "\n",
    "for n_user in np.unique(URMv_train.tocsc().indices):\n",
    "    \n",
    "    recommendations = hybrid.recommend(n_user, cutoff = 10)\n",
    "    \n",
    "    user_recommendations_items.extend(recommendations)\n",
    "    user_recommendations_user_id.extend([n_user]*len(recommendations))\n",
    "    \n",
    "    "
   ]
  },
  {
   "cell_type": "code",
   "execution_count": 67,
   "metadata": {},
   "outputs": [
    {
     "data": {
      "text/html": [
       "<div>\n",
       "<style scoped>\n",
       "    .dataframe tbody tr th:only-of-type {\n",
       "        vertical-align: middle;\n",
       "    }\n",
       "\n",
       "    .dataframe tbody tr th {\n",
       "        vertical-align: top;\n",
       "    }\n",
       "\n",
       "    .dataframe thead th {\n",
       "        text-align: right;\n",
       "    }\n",
       "</style>\n",
       "<table border=\"1\" class=\"dataframe\">\n",
       "  <thead>\n",
       "    <tr style=\"text-align: right;\">\n",
       "      <th></th>\n",
       "      <th>user_id</th>\n",
       "      <th>item_id</th>\n",
       "    </tr>\n",
       "  </thead>\n",
       "  <tbody>\n",
       "    <tr>\n",
       "      <th>0</th>\n",
       "      <td>0</td>\n",
       "      <td>20</td>\n",
       "    </tr>\n",
       "    <tr>\n",
       "      <th>1</th>\n",
       "      <td>0</td>\n",
       "      <td>56</td>\n",
       "    </tr>\n",
       "    <tr>\n",
       "      <th>2</th>\n",
       "      <td>0</td>\n",
       "      <td>25</td>\n",
       "    </tr>\n",
       "    <tr>\n",
       "      <th>3</th>\n",
       "      <td>0</td>\n",
       "      <td>391</td>\n",
       "    </tr>\n",
       "    <tr>\n",
       "      <th>4</th>\n",
       "      <td>0</td>\n",
       "      <td>29</td>\n",
       "    </tr>\n",
       "    <tr>\n",
       "      <th>...</th>\n",
       "      <td>...</td>\n",
       "      <td>...</td>\n",
       "    </tr>\n",
       "    <tr>\n",
       "      <th>416285</th>\n",
       "      <td>41628</td>\n",
       "      <td>771</td>\n",
       "    </tr>\n",
       "    <tr>\n",
       "      <th>416286</th>\n",
       "      <td>41628</td>\n",
       "      <td>763</td>\n",
       "    </tr>\n",
       "    <tr>\n",
       "      <th>416287</th>\n",
       "      <td>41628</td>\n",
       "      <td>10542</td>\n",
       "    </tr>\n",
       "    <tr>\n",
       "      <th>416288</th>\n",
       "      <td>41628</td>\n",
       "      <td>9338</td>\n",
       "    </tr>\n",
       "    <tr>\n",
       "      <th>416289</th>\n",
       "      <td>41628</td>\n",
       "      <td>14709</td>\n",
       "    </tr>\n",
       "  </tbody>\n",
       "</table>\n",
       "<p>416290 rows × 2 columns</p>\n",
       "</div>"
      ],
      "text/plain": [
       "        user_id  item_id\n",
       "0             0       20\n",
       "1             0       56\n",
       "2             0       25\n",
       "3             0      391\n",
       "4             0       29\n",
       "...         ...      ...\n",
       "416285    41628      771\n",
       "416286    41628      763\n",
       "416287    41628    10542\n",
       "416288    41628     9338\n",
       "416289    41628    14709\n",
       "\n",
       "[416290 rows x 2 columns]"
      ]
     },
     "execution_count": 67,
     "metadata": {},
     "output_type": "execute_result"
    }
   ],
   "source": [
    "\n",
    "import pandas as pd\n",
    "\n",
    "train_dataframe = pd.DataFrame({\"user_id\":user_recommendations_user_id, \"item_id\":user_recommendations_items})\n",
    "train_dataframe"
   ]
  },
  {
   "cell_type": "markdown",
   "metadata": {},
   "source": [
    "## Now let's add some features. For example, the prediction of another algorithm\n"
   ]
  },
  {
   "cell_type": "code",
   "execution_count": 68,
   "metadata": {},
   "outputs": [
    {
     "name": "stdout",
     "output_type": "stream",
     "text": [
      "TopPopRecommender: URM Detected 2 ( 0.0%) users with no interactions.\n"
     ]
    }
   ],
   "source": [
    "from Recommenders.NonPersonalizedRecommender import TopPop\n",
    "\n",
    "topPop = TopPop(urm_def)\n",
    "topPop.fit()\n",
    "\n",
    "\n",
    "rp3beta_score_list = []\n",
    "knn_score_list = []\n",
    "sslim_score_list = []\n",
    "topPop_score_list = []\n",
    "\n",
    "\n",
    "for user_id, item_id in zip(user_recommendations_user_id, user_recommendations_items):\n",
    "    \n",
    "    rp3beta_score_list.append(rp3beta_recommender._compute_item_score([user_id])[0,item_id])\n",
    "    knn_score_list.append(KNN_recommender._compute_item_score([user_id])[0,item_id])\n",
    "    sslim_score_list.append(sslim_recommender._compute_item_score([user_id])[0,item_id])\n",
    "    topPop_score_list.append(topPop._compute_item_score([user_id])[0,item_id])\n",
    "\n",
    "    \n",
    "    "
   ]
  },
  {
   "cell_type": "code",
   "execution_count": 69,
   "metadata": {},
   "outputs": [
    {
     "data": {
      "text/html": [
       "<div>\n",
       "<style scoped>\n",
       "    .dataframe tbody tr th:only-of-type {\n",
       "        vertical-align: middle;\n",
       "    }\n",
       "\n",
       "    .dataframe tbody tr th {\n",
       "        vertical-align: top;\n",
       "    }\n",
       "\n",
       "    .dataframe thead th {\n",
       "        text-align: right;\n",
       "    }\n",
       "</style>\n",
       "<table border=\"1\" class=\"dataframe\">\n",
       "  <thead>\n",
       "    <tr style=\"text-align: right;\">\n",
       "      <th></th>\n",
       "      <th>user_id</th>\n",
       "      <th>item_id</th>\n",
       "      <th>item_popularity</th>\n",
       "      <th>rp3beta</th>\n",
       "      <th>knn</th>\n",
       "      <th>sslim</th>\n",
       "    </tr>\n",
       "  </thead>\n",
       "  <tbody>\n",
       "    <tr>\n",
       "      <th>0</th>\n",
       "      <td>0</td>\n",
       "      <td>20</td>\n",
       "      <td>6800.0</td>\n",
       "      <td>0.107955</td>\n",
       "      <td>10.014235</td>\n",
       "      <td>76.961441</td>\n",
       "    </tr>\n",
       "    <tr>\n",
       "      <th>1</th>\n",
       "      <td>0</td>\n",
       "      <td>56</td>\n",
       "      <td>7413.0</td>\n",
       "      <td>0.025707</td>\n",
       "      <td>8.815165</td>\n",
       "      <td>61.890686</td>\n",
       "    </tr>\n",
       "    <tr>\n",
       "      <th>2</th>\n",
       "      <td>0</td>\n",
       "      <td>25</td>\n",
       "      <td>5646.0</td>\n",
       "      <td>0.105755</td>\n",
       "      <td>8.885763</td>\n",
       "      <td>55.409180</td>\n",
       "    </tr>\n",
       "    <tr>\n",
       "      <th>3</th>\n",
       "      <td>0</td>\n",
       "      <td>391</td>\n",
       "      <td>541.0</td>\n",
       "      <td>0.125130</td>\n",
       "      <td>12.861572</td>\n",
       "      <td>32.826801</td>\n",
       "    </tr>\n",
       "    <tr>\n",
       "      <th>4</th>\n",
       "      <td>0</td>\n",
       "      <td>29</td>\n",
       "      <td>5168.0</td>\n",
       "      <td>0.096285</td>\n",
       "      <td>8.316058</td>\n",
       "      <td>56.593971</td>\n",
       "    </tr>\n",
       "    <tr>\n",
       "      <th>...</th>\n",
       "      <td>...</td>\n",
       "      <td>...</td>\n",
       "      <td>...</td>\n",
       "      <td>...</td>\n",
       "      <td>...</td>\n",
       "      <td>...</td>\n",
       "    </tr>\n",
       "    <tr>\n",
       "      <th>416285</th>\n",
       "      <td>41628</td>\n",
       "      <td>771</td>\n",
       "      <td>3251.0</td>\n",
       "      <td>0.081100</td>\n",
       "      <td>3.845330</td>\n",
       "      <td>30.612150</td>\n",
       "    </tr>\n",
       "    <tr>\n",
       "      <th>416286</th>\n",
       "      <td>41628</td>\n",
       "      <td>763</td>\n",
       "      <td>725.0</td>\n",
       "      <td>0.053273</td>\n",
       "      <td>3.545811</td>\n",
       "      <td>17.598286</td>\n",
       "    </tr>\n",
       "    <tr>\n",
       "      <th>416287</th>\n",
       "      <td>41628</td>\n",
       "      <td>10542</td>\n",
       "      <td>104.0</td>\n",
       "      <td>0.023093</td>\n",
       "      <td>3.602091</td>\n",
       "      <td>2.571653</td>\n",
       "    </tr>\n",
       "    <tr>\n",
       "      <th>416288</th>\n",
       "      <td>41628</td>\n",
       "      <td>9338</td>\n",
       "      <td>45.0</td>\n",
       "      <td>0.024053</td>\n",
       "      <td>3.332863</td>\n",
       "      <td>0.000000</td>\n",
       "    </tr>\n",
       "    <tr>\n",
       "      <th>416289</th>\n",
       "      <td>41628</td>\n",
       "      <td>14709</td>\n",
       "      <td>69.0</td>\n",
       "      <td>0.038939</td>\n",
       "      <td>2.933675</td>\n",
       "      <td>4.046060</td>\n",
       "    </tr>\n",
       "  </tbody>\n",
       "</table>\n",
       "<p>416290 rows × 6 columns</p>\n",
       "</div>"
      ],
      "text/plain": [
       "        user_id  item_id  item_popularity   rp3beta        knn      sslim\n",
       "0             0       20           6800.0  0.107955  10.014235  76.961441\n",
       "1             0       56           7413.0  0.025707   8.815165  61.890686\n",
       "2             0       25           5646.0  0.105755   8.885763  55.409180\n",
       "3             0      391            541.0  0.125130  12.861572  32.826801\n",
       "4             0       29           5168.0  0.096285   8.316058  56.593971\n",
       "...         ...      ...              ...       ...        ...        ...\n",
       "416285    41628      771           3251.0  0.081100   3.845330  30.612150\n",
       "416286    41628      763            725.0  0.053273   3.545811  17.598286\n",
       "416287    41628    10542            104.0  0.023093   3.602091   2.571653\n",
       "416288    41628     9338             45.0  0.024053   3.332863   0.000000\n",
       "416289    41628    14709             69.0  0.038939   2.933675   4.046060\n",
       "\n",
       "[416290 rows x 6 columns]"
      ]
     },
     "execution_count": 69,
     "metadata": {},
     "output_type": "execute_result"
    }
   ],
   "source": [
    "train_dataframe['item_popularity'] = pd.Series(topPop_score_list, index=train_dataframe.index)\n",
    "train_dataframe['rp3beta']= pd.Series(rp3beta_score_list, index=train_dataframe.index)\n",
    "train_dataframe['knn']= pd.Series(knn_score_list, index=train_dataframe.index)\n",
    "train_dataframe['sslim']= pd.Series(sslim_score_list, index=train_dataframe.index)\n",
    "train_dataframe"
   ]
  },
  {
   "cell_type": "markdown",
   "metadata": {},
   "source": [
    "## Or the profile length"
   ]
  },
  {
   "cell_type": "code",
   "execution_count": 70,
   "metadata": {},
   "outputs": [],
   "source": [
    "user_profile_len = np.ediff1d(urm_def.indptr)"
   ]
  },
  {
   "cell_type": "code",
   "execution_count": 71,
   "metadata": {},
   "outputs": [],
   "source": [
    "user_profile_len_list = []\n",
    "\n",
    "target_feature = 1\n",
    "\n",
    "for user_id, item_id in zip(user_recommendations_user_id, user_recommendations_items):\n",
    "    \n",
    "    user_profile_len_list.append(user_profile_len[user_id])\n",
    "    "
   ]
  },
  {
   "cell_type": "code",
   "execution_count": 72,
   "metadata": {},
   "outputs": [
    {
     "data": {
      "text/html": [
       "<div>\n",
       "<style scoped>\n",
       "    .dataframe tbody tr th:only-of-type {\n",
       "        vertical-align: middle;\n",
       "    }\n",
       "\n",
       "    .dataframe tbody tr th {\n",
       "        vertical-align: top;\n",
       "    }\n",
       "\n",
       "    .dataframe thead th {\n",
       "        text-align: right;\n",
       "    }\n",
       "</style>\n",
       "<table border=\"1\" class=\"dataframe\">\n",
       "  <thead>\n",
       "    <tr style=\"text-align: right;\">\n",
       "      <th></th>\n",
       "      <th>user_id</th>\n",
       "      <th>item_id</th>\n",
       "      <th>item_popularity</th>\n",
       "      <th>rp3beta</th>\n",
       "      <th>knn</th>\n",
       "      <th>sslim</th>\n",
       "      <th>user_profile_len</th>\n",
       "    </tr>\n",
       "  </thead>\n",
       "  <tbody>\n",
       "    <tr>\n",
       "      <th>0</th>\n",
       "      <td>0</td>\n",
       "      <td>20</td>\n",
       "      <td>6800.0</td>\n",
       "      <td>0.107955</td>\n",
       "      <td>10.014235</td>\n",
       "      <td>76.961441</td>\n",
       "      <td>64</td>\n",
       "    </tr>\n",
       "    <tr>\n",
       "      <th>1</th>\n",
       "      <td>0</td>\n",
       "      <td>56</td>\n",
       "      <td>7413.0</td>\n",
       "      <td>0.025707</td>\n",
       "      <td>8.815165</td>\n",
       "      <td>61.890686</td>\n",
       "      <td>64</td>\n",
       "    </tr>\n",
       "    <tr>\n",
       "      <th>2</th>\n",
       "      <td>0</td>\n",
       "      <td>25</td>\n",
       "      <td>5646.0</td>\n",
       "      <td>0.105755</td>\n",
       "      <td>8.885763</td>\n",
       "      <td>55.409180</td>\n",
       "      <td>64</td>\n",
       "    </tr>\n",
       "    <tr>\n",
       "      <th>3</th>\n",
       "      <td>0</td>\n",
       "      <td>391</td>\n",
       "      <td>541.0</td>\n",
       "      <td>0.125130</td>\n",
       "      <td>12.861572</td>\n",
       "      <td>32.826801</td>\n",
       "      <td>64</td>\n",
       "    </tr>\n",
       "    <tr>\n",
       "      <th>4</th>\n",
       "      <td>0</td>\n",
       "      <td>29</td>\n",
       "      <td>5168.0</td>\n",
       "      <td>0.096285</td>\n",
       "      <td>8.316058</td>\n",
       "      <td>56.593971</td>\n",
       "      <td>64</td>\n",
       "    </tr>\n",
       "    <tr>\n",
       "      <th>...</th>\n",
       "      <td>...</td>\n",
       "      <td>...</td>\n",
       "      <td>...</td>\n",
       "      <td>...</td>\n",
       "      <td>...</td>\n",
       "      <td>...</td>\n",
       "      <td>...</td>\n",
       "    </tr>\n",
       "    <tr>\n",
       "      <th>416285</th>\n",
       "      <td>41628</td>\n",
       "      <td>771</td>\n",
       "      <td>3251.0</td>\n",
       "      <td>0.081100</td>\n",
       "      <td>3.845330</td>\n",
       "      <td>30.612150</td>\n",
       "      <td>23</td>\n",
       "    </tr>\n",
       "    <tr>\n",
       "      <th>416286</th>\n",
       "      <td>41628</td>\n",
       "      <td>763</td>\n",
       "      <td>725.0</td>\n",
       "      <td>0.053273</td>\n",
       "      <td>3.545811</td>\n",
       "      <td>17.598286</td>\n",
       "      <td>23</td>\n",
       "    </tr>\n",
       "    <tr>\n",
       "      <th>416287</th>\n",
       "      <td>41628</td>\n",
       "      <td>10542</td>\n",
       "      <td>104.0</td>\n",
       "      <td>0.023093</td>\n",
       "      <td>3.602091</td>\n",
       "      <td>2.571653</td>\n",
       "      <td>23</td>\n",
       "    </tr>\n",
       "    <tr>\n",
       "      <th>416288</th>\n",
       "      <td>41628</td>\n",
       "      <td>9338</td>\n",
       "      <td>45.0</td>\n",
       "      <td>0.024053</td>\n",
       "      <td>3.332863</td>\n",
       "      <td>0.000000</td>\n",
       "      <td>23</td>\n",
       "    </tr>\n",
       "    <tr>\n",
       "      <th>416289</th>\n",
       "      <td>41628</td>\n",
       "      <td>14709</td>\n",
       "      <td>69.0</td>\n",
       "      <td>0.038939</td>\n",
       "      <td>2.933675</td>\n",
       "      <td>4.046060</td>\n",
       "      <td>23</td>\n",
       "    </tr>\n",
       "  </tbody>\n",
       "</table>\n",
       "<p>416290 rows × 7 columns</p>\n",
       "</div>"
      ],
      "text/plain": [
       "        user_id  item_id  item_popularity   rp3beta        knn      sslim  \\\n",
       "0             0       20           6800.0  0.107955  10.014235  76.961441   \n",
       "1             0       56           7413.0  0.025707   8.815165  61.890686   \n",
       "2             0       25           5646.0  0.105755   8.885763  55.409180   \n",
       "3             0      391            541.0  0.125130  12.861572  32.826801   \n",
       "4             0       29           5168.0  0.096285   8.316058  56.593971   \n",
       "...         ...      ...              ...       ...        ...        ...   \n",
       "416285    41628      771           3251.0  0.081100   3.845330  30.612150   \n",
       "416286    41628      763            725.0  0.053273   3.545811  17.598286   \n",
       "416287    41628    10542            104.0  0.023093   3.602091   2.571653   \n",
       "416288    41628     9338             45.0  0.024053   3.332863   0.000000   \n",
       "416289    41628    14709             69.0  0.038939   2.933675   4.046060   \n",
       "\n",
       "        user_profile_len  \n",
       "0                     64  \n",
       "1                     64  \n",
       "2                     64  \n",
       "3                     64  \n",
       "4                     64  \n",
       "...                  ...  \n",
       "416285                23  \n",
       "416286                23  \n",
       "416287                23  \n",
       "416288                23  \n",
       "416289                23  \n",
       "\n",
       "[416290 rows x 7 columns]"
      ]
     },
     "execution_count": 72,
     "metadata": {},
     "output_type": "execute_result"
    }
   ],
   "source": [
    "train_dataframe['user_profile_len'] = pd.Series(user_profile_len_list, index=train_dataframe.index)\n",
    "train_dataframe"
   ]
  },
  {
   "cell_type": "markdown",
   "metadata": {},
   "source": [
    "## the same can be done with item features\n",
    "\n"
   ]
  },
  {
   "cell_type": "code",
   "execution_count": 73,
   "metadata": {},
   "outputs": [
    {
     "data": {
      "text/plain": [
       "'\\nfeature_list = [[]]*ICM_all.shape[1]\\n\\n\\nfor i in range(ICM_all.shape[1]):\\n    target_feature = i\\n    print(i)\\n    for user_id, item_id in zip(user_recommendations_user_id, user_recommendations_items):\\n        item_features = ICM_all[item_id,:]\\n        if target_feature in item_features.indices:\\n            feature_list[i].append(1)\\n        else:\\n            feature_list[i].append(0)    \\n\\n        \\n'"
      ]
     },
     "execution_count": 73,
     "metadata": {},
     "output_type": "execute_result"
    }
   ],
   "source": [
    "features_df = pd.DataFrame.sparse.from_spmatrix(mm.augmentedICM(dm.getICMt(),dm.getICMl()))\n",
    "training_dataframe = training_dataframe.set_index('ItemID').join(features_df, how='inner')\n",
    "training_dataframe = training_dataframe.reset_index()\n",
    "training_dataframe = training_dataframe.rename(columns = {\"index\": \"ItemID\"})\n"
   ]
  },
  {
   "cell_type": "code",
   "execution_count": 74,
   "metadata": {},
   "outputs": [
    {
     "data": {
      "text/plain": [
       "\"\\nfor i in range(ICM_all.shape[1]):\\n    train_dataframe['item_feature_'+i] = pd.Series(feature_list[i], index=train_dataframe.index)\\ntrain_dataframe\\n\""
      ]
     },
     "execution_count": 74,
     "metadata": {},
     "output_type": "execute_result"
    }
   ],
   "source": [
    "\"\"\"\n",
    "for i in range(ICM_all.shape[1]):\n",
    "    train_dataframe['item_feature_'+i] = pd.Series(feature_list[i], index=train_dataframe.index)\n",
    "train_dataframe\n",
    "\"\"\""
   ]
  },
  {
   "cell_type": "markdown",
   "metadata": {},
   "source": [
    "## Then you can train XGBoost to rerank those prediction using as lable whether they should be recommended or not"
   ]
  },
  {
   "cell_type": "code",
   "execution_count": null,
   "metadata": {},
   "outputs": [],
   "source": [
    "y_train = train_dataframe['']"
   ]
  },
  {
   "cell_type": "code",
   "execution_count": 75,
   "metadata": {},
   "outputs": [],
   "source": [
    "import xgboost as xgb\n",
    "\n",
    "dtrain = xgb.DMatrix(train_dataframe)\n",
    "dtest = xgb.DMatrix(URMv_test)"
   ]
  },
  {
   "cell_type": "markdown",
   "metadata": {},
   "source": [
    "Set XGBoost parameters:\n",
    "\n",
    "merror: Multiclass classification error rate. It is calculated as #(wrong cases)/#(all cases)."
   ]
  },
  {
   "cell_type": "code",
   "execution_count": 76,
   "metadata": {},
   "outputs": [],
   "source": [
    "params = {\n",
    "    'max_depth': 3,  # the maximum depth of each tree\n",
    "    'eta': 0.3,  # step for each iteration\n",
    "    'silent': 1, # keep it quiet\n",
    "    'objective': 'multi:softprob',  # error evaluation for multiclass training\n",
    "    'num_class': 3, # the number of classes \n",
    "    'eval_metric': 'merror'} # evaluation metric \n",
    "\n",
    "num_round = 20  # the number of training iterations (number of trees)"
   ]
  },
  {
   "cell_type": "markdown",
   "metadata": {},
   "source": [
    "Create a model and fit it with params:\n",
    "\n",
    "(We could have used also XGBClassifier, which is a scikit-learn compatible class. It is basically just a wrapper over the xgb.train function)."
   ]
  },
  {
   "cell_type": "code",
   "execution_count": 77,
   "metadata": {},
   "outputs": [
    {
     "name": "stdout",
     "output_type": "stream",
     "text": [
      "[14:09:26] WARNING: /Users/runner/miniforge3/conda-bld/xgboost-split_1667849614592/work/src/learner.cc:767: \n",
      "Parameters: { \"silent\" } are not used.\n",
      "\n"
     ]
    },
    {
     "ename": "XGBoostError",
     "evalue": "[14:09:26] /Users/runner/miniforge3/conda-bld/xgboost-split_1667849614592/work/src/gbm/gbtree.cc:371: Check failed: gpair->Size() == p_fmat->Info().num_row_ (0 vs. 416290) : Mismatching size between number of rows from input data and size of gradient vector.\nStack trace:\n  [bt] (0) 1   libxgboost.dylib                    0x000000028056ed98 dmlc::LogMessageFatal::~LogMessageFatal() + 124\n  [bt] (1) 2   libxgboost.dylib                    0x000000028065f5e8 xgboost::gbm::GBTree::BoostNewTrees(xgboost::HostDeviceVector<xgboost::detail::GradientPairInternal<float> >*, xgboost::DMatrix*, int, std::__1::vector<std::__1::unique_ptr<xgboost::RegTree, std::__1::default_delete<xgboost::RegTree> >, std::__1::allocator<std::__1::unique_ptr<xgboost::RegTree, std::__1::default_delete<xgboost::RegTree> > > >*) + 1760\n  [bt] (2) 3   libxgboost.dylib                    0x0000000280659b68 xgboost::gbm::GBTree::DoBoost(xgboost::DMatrix*, xgboost::HostDeviceVector<xgboost::detail::GradientPairInternal<float> >*, xgboost::PredictionCacheEntry*, xgboost::ObjFunction const*) + 1164\n  [bt] (3) 4   libxgboost.dylib                    0x00000002806782a0 xgboost::LearnerImpl::UpdateOneIter(int, std::__1::shared_ptr<xgboost::DMatrix>) + 708\n  [bt] (4) 5   libxgboost.dylib                    0x0000000280588b18 XGBoosterUpdateOneIter + 160\n  [bt] (5) 6   libffi.8.dylib                      0x000000010377004c ffi_call_SYSV + 76\n  [bt] (6) 7   libffi.8.dylib                      0x000000010376d790 ffi_call_int + 1256\n  [bt] (7) 8   _ctypes.cpython-39-darwin.so        0x00000001037504a4 _ctypes_callproc + 1324\n  [bt] (8) 9   _ctypes.cpython-39-darwin.so        0x000000010374a804 PyCFuncPtr_call + 1180\n\n",
     "output_type": "error",
     "traceback": [
      "\u001b[0;31m---------------------------------------------------------------------------\u001b[0m",
      "\u001b[0;31mXGBoostError\u001b[0m                              Traceback (most recent call last)",
      "\u001b[1;32m/Users/daniele/Desktop/RecSys/RecSysChallenge2023-Team/Daniele/Recommenders/XGBoot/Practice extra 8 - XGBoost basics.ipynb Cell 66\u001b[0m in \u001b[0;36m<cell line: 1>\u001b[0;34m()\u001b[0m\n\u001b[0;32m----> <a href='vscode-notebook-cell:/Users/daniele/Desktop/RecSys/RecSysChallenge2023-Team/Daniele/Recommenders/XGBoot/Practice%20extra%208%20-%20XGBoost%20basics.ipynb#Y114sZmlsZQ%3D%3D?line=0'>1</a>\u001b[0m model \u001b[39m=\u001b[39m xgb\u001b[39m.\u001b[39;49mtrain(params,\n\u001b[1;32m      <a href='vscode-notebook-cell:/Users/daniele/Desktop/RecSys/RecSysChallenge2023-Team/Daniele/Recommenders/XGBoot/Practice%20extra%208%20-%20XGBoost%20basics.ipynb#Y114sZmlsZQ%3D%3D?line=1'>2</a>\u001b[0m                   dtrain,\n\u001b[1;32m      <a href='vscode-notebook-cell:/Users/daniele/Desktop/RecSys/RecSysChallenge2023-Team/Daniele/Recommenders/XGBoot/Practice%20extra%208%20-%20XGBoost%20basics.ipynb#Y114sZmlsZQ%3D%3D?line=2'>3</a>\u001b[0m                   num_round,\n\u001b[1;32m      <a href='vscode-notebook-cell:/Users/daniele/Desktop/RecSys/RecSysChallenge2023-Team/Daniele/Recommenders/XGBoot/Practice%20extra%208%20-%20XGBoost%20basics.ipynb#Y114sZmlsZQ%3D%3D?line=3'>4</a>\u001b[0m                   verbose_eval\u001b[39m=\u001b[39;49m\u001b[39m2\u001b[39;49m,\n\u001b[1;32m      <a href='vscode-notebook-cell:/Users/daniele/Desktop/RecSys/RecSysChallenge2023-Team/Daniele/Recommenders/XGBoot/Practice%20extra%208%20-%20XGBoost%20basics.ipynb#Y114sZmlsZQ%3D%3D?line=4'>5</a>\u001b[0m                   evals\u001b[39m=\u001b[39;49m[(dtrain, \u001b[39m'\u001b[39;49m\u001b[39mtrain\u001b[39;49m\u001b[39m'\u001b[39;49m)],\n\u001b[1;32m      <a href='vscode-notebook-cell:/Users/daniele/Desktop/RecSys/RecSysChallenge2023-Team/Daniele/Recommenders/XGBoot/Practice%20extra%208%20-%20XGBoost%20basics.ipynb#Y114sZmlsZQ%3D%3D?line=5'>6</a>\u001b[0m                   early_stopping_rounds\u001b[39m=\u001b[39;49m\u001b[39m20\u001b[39;49m\n\u001b[1;32m      <a href='vscode-notebook-cell:/Users/daniele/Desktop/RecSys/RecSysChallenge2023-Team/Daniele/Recommenders/XGBoot/Practice%20extra%208%20-%20XGBoost%20basics.ipynb#Y114sZmlsZQ%3D%3D?line=6'>7</a>\u001b[0m                   )\n",
      "File \u001b[0;32m~/opt/anaconda3/lib/python3.9/site-packages/xgboost/core.py:620\u001b[0m, in \u001b[0;36mrequire_keyword_args.<locals>.throw_if.<locals>.inner_f\u001b[0;34m(*args, **kwargs)\u001b[0m\n\u001b[1;32m    618\u001b[0m \u001b[39mfor\u001b[39;00m k, arg \u001b[39min\u001b[39;00m \u001b[39mzip\u001b[39m(sig\u001b[39m.\u001b[39mparameters, args):\n\u001b[1;32m    619\u001b[0m     kwargs[k] \u001b[39m=\u001b[39m arg\n\u001b[0;32m--> 620\u001b[0m \u001b[39mreturn\u001b[39;00m func(\u001b[39m*\u001b[39;49m\u001b[39m*\u001b[39;49mkwargs)\n",
      "File \u001b[0;32m~/opt/anaconda3/lib/python3.9/site-packages/xgboost/training.py:185\u001b[0m, in \u001b[0;36mtrain\u001b[0;34m(params, dtrain, num_boost_round, evals, obj, feval, maximize, early_stopping_rounds, evals_result, verbose_eval, xgb_model, callbacks, custom_metric)\u001b[0m\n\u001b[1;32m    183\u001b[0m \u001b[39mif\u001b[39;00m cb_container\u001b[39m.\u001b[39mbefore_iteration(bst, i, dtrain, evals):\n\u001b[1;32m    184\u001b[0m     \u001b[39mbreak\u001b[39;00m\n\u001b[0;32m--> 185\u001b[0m bst\u001b[39m.\u001b[39;49mupdate(dtrain, i, obj)\n\u001b[1;32m    186\u001b[0m \u001b[39mif\u001b[39;00m cb_container\u001b[39m.\u001b[39mafter_iteration(bst, i, dtrain, evals):\n\u001b[1;32m    187\u001b[0m     \u001b[39mbreak\u001b[39;00m\n",
      "File \u001b[0;32m~/opt/anaconda3/lib/python3.9/site-packages/xgboost/core.py:1918\u001b[0m, in \u001b[0;36mBooster.update\u001b[0;34m(self, dtrain, iteration, fobj)\u001b[0m\n\u001b[1;32m   1915\u001b[0m \u001b[39mself\u001b[39m\u001b[39m.\u001b[39m_validate_dmatrix_features(dtrain)\n\u001b[1;32m   1917\u001b[0m \u001b[39mif\u001b[39;00m fobj \u001b[39mis\u001b[39;00m \u001b[39mNone\u001b[39;00m:\n\u001b[0;32m-> 1918\u001b[0m     _check_call(_LIB\u001b[39m.\u001b[39;49mXGBoosterUpdateOneIter(\u001b[39mself\u001b[39;49m\u001b[39m.\u001b[39;49mhandle,\n\u001b[1;32m   1919\u001b[0m                                             ctypes\u001b[39m.\u001b[39;49mc_int(iteration),\n\u001b[1;32m   1920\u001b[0m                                             dtrain\u001b[39m.\u001b[39;49mhandle))\n\u001b[1;32m   1921\u001b[0m \u001b[39melse\u001b[39;00m:\n\u001b[1;32m   1922\u001b[0m     pred \u001b[39m=\u001b[39m \u001b[39mself\u001b[39m\u001b[39m.\u001b[39mpredict(dtrain, output_margin\u001b[39m=\u001b[39m\u001b[39mTrue\u001b[39;00m, training\u001b[39m=\u001b[39m\u001b[39mTrue\u001b[39;00m)\n",
      "File \u001b[0;32m~/opt/anaconda3/lib/python3.9/site-packages/xgboost/core.py:279\u001b[0m, in \u001b[0;36m_check_call\u001b[0;34m(ret)\u001b[0m\n\u001b[1;32m    268\u001b[0m \u001b[39m\"\"\"Check the return value of C API call\u001b[39;00m\n\u001b[1;32m    269\u001b[0m \n\u001b[1;32m    270\u001b[0m \u001b[39mThis function will raise exception when error occurs.\u001b[39;00m\n\u001b[0;32m   (...)\u001b[0m\n\u001b[1;32m    276\u001b[0m \u001b[39m    return value from API calls\u001b[39;00m\n\u001b[1;32m    277\u001b[0m \u001b[39m\"\"\"\u001b[39;00m\n\u001b[1;32m    278\u001b[0m \u001b[39mif\u001b[39;00m ret \u001b[39m!=\u001b[39m \u001b[39m0\u001b[39m:\n\u001b[0;32m--> 279\u001b[0m     \u001b[39mraise\u001b[39;00m XGBoostError(py_str(_LIB\u001b[39m.\u001b[39mXGBGetLastError()))\n",
      "\u001b[0;31mXGBoostError\u001b[0m: [14:09:26] /Users/runner/miniforge3/conda-bld/xgboost-split_1667849614592/work/src/gbm/gbtree.cc:371: Check failed: gpair->Size() == p_fmat->Info().num_row_ (0 vs. 416290) : Mismatching size between number of rows from input data and size of gradient vector.\nStack trace:\n  [bt] (0) 1   libxgboost.dylib                    0x000000028056ed98 dmlc::LogMessageFatal::~LogMessageFatal() + 124\n  [bt] (1) 2   libxgboost.dylib                    0x000000028065f5e8 xgboost::gbm::GBTree::BoostNewTrees(xgboost::HostDeviceVector<xgboost::detail::GradientPairInternal<float> >*, xgboost::DMatrix*, int, std::__1::vector<std::__1::unique_ptr<xgboost::RegTree, std::__1::default_delete<xgboost::RegTree> >, std::__1::allocator<std::__1::unique_ptr<xgboost::RegTree, std::__1::default_delete<xgboost::RegTree> > > >*) + 1760\n  [bt] (2) 3   libxgboost.dylib                    0x0000000280659b68 xgboost::gbm::GBTree::DoBoost(xgboost::DMatrix*, xgboost::HostDeviceVector<xgboost::detail::GradientPairInternal<float> >*, xgboost::PredictionCacheEntry*, xgboost::ObjFunction const*) + 1164\n  [bt] (3) 4   libxgboost.dylib                    0x00000002806782a0 xgboost::LearnerImpl::UpdateOneIter(int, std::__1::shared_ptr<xgboost::DMatrix>) + 708\n  [bt] (4) 5   libxgboost.dylib                    0x0000000280588b18 XGBoosterUpdateOneIter + 160\n  [bt] (5) 6   libffi.8.dylib                      0x000000010377004c ffi_call_SYSV + 76\n  [bt] (6) 7   libffi.8.dylib                      0x000000010376d790 ffi_call_int + 1256\n  [bt] (7) 8   _ctypes.cpython-39-darwin.so        0x00000001037504a4 _ctypes_callproc + 1324\n  [bt] (8) 9   _ctypes.cpython-39-darwin.so        0x000000010374a804 PyCFuncPtr_call + 1180\n\n"
     ]
    }
   ],
   "source": [
    "model = xgb.train(params,\n",
    "                  dtrain,\n",
    "                  num_round,\n",
    "                  verbose_eval=2,\n",
    "                  evals=[(dtrain, 'train')],\n",
    "                  early_stopping_rounds=20\n",
    "                  )"
   ]
  },
  {
   "cell_type": "code",
   "execution_count": null,
   "metadata": {},
   "outputs": [
    {
     "name": "stdout",
     "output_type": "stream",
     "text": [
      "Precision: 0.95 %\n"
     ]
    }
   ],
   "source": [
    "from sklearn.metrics import precision_score\n",
    "\n",
    "preds = model.predict(dtest)\n",
    "best_preds = np.asarray([np.argmax(line) for line in preds])\n",
    "print(\"Precision: {:.2f} %\".format(precision_score(y_test, best_preds, average='macro')))"
   ]
  },
  {
   "cell_type": "markdown",
   "metadata": {},
   "source": [
    "It is possible to show with an histogram the importance of each feature:"
   ]
  },
  {
   "cell_type": "code",
   "execution_count": null,
   "metadata": {},
   "outputs": [],
   "source": [
    "%matplotlib inline\n",
    "from xgboost import plot_importance"
   ]
  },
  {
   "cell_type": "markdown",
   "metadata": {},
   "source": [
    "**Gain:** it implies the relative contribution of the corresponding feature to the model calculated by taking each feature's contribution for each tree in the model. A higher value of this metric when compared to another feature implies it is more important for generating a prediction."
   ]
  },
  {
   "cell_type": "code",
   "execution_count": null,
   "metadata": {},
   "outputs": [
    {
     "data": {
      "text/plain": [
       "<matplotlib.axes._subplots.AxesSubplot at 0x7f37541cfc18>"
      ]
     },
     "metadata": {},
     "output_type": "display_data"
    },
    {
     "data": {
      "image/png": "[encoded data removed]",
      "text/plain": [
       "<Figure size 432x288 with 1 Axes>"
      ]
     },
     "metadata": {},
     "output_type": "display_data"
    }
   ],
   "source": [
    "plot_importance(model, importance_type='gain', title='Gain')"
   ]
  },
  {
   "cell_type": "markdown",
   "metadata": {},
   "source": [
    "**Cover:** The Cover metric means the relative number of observations related to this feature. Therefore is the number of observations for which the leaf node is determined by the feature. This number will be calculated for all the features in the dataset and the cover will be expressed as a percentage over all features' cover metrics."
   ]
  },
  {
   "cell_type": "code",
   "execution_count": null,
   "metadata": {},
   "outputs": [
    {
     "data": {
      "text/plain": [
       "<matplotlib.axes._subplots.AxesSubplot at 0x7f37540fa9b0>"
      ]
     },
     "metadata": {},
     "output_type": "display_data"
    },
    {
     "data": {
      "image/png": "[encoded data removed]",
      "text/plain": [
       "<Figure size 432x288 with 1 Axes>"
      ]
     },
     "metadata": {},
     "output_type": "display_data"
    }
   ],
   "source": [
    "plot_importance(model, importance_type='cover', title='Cover')"
   ]
  },
  {
   "cell_type": "markdown",
   "metadata": {},
   "source": [
    "**Weight (Frequence):** is the percentage representing the relative number of times a particular feature occurs in the trees of the model. Is the number of splits in which the particular feature occurred."
   ]
  },
  {
   "cell_type": "code",
   "execution_count": null,
   "metadata": {},
   "outputs": [
    {
     "data": {
      "text/plain": [
       "<matplotlib.axes._subplots.AxesSubplot at 0x7f375406f7f0>"
      ]
     },
     "metadata": {},
     "output_type": "display_data"
    },
    {
     "data": {
      "image/png": "[encoded data removed]",
      "text/plain": [
       "<Figure size 432x288 with 1 Axes>"
      ]
     },
     "metadata": {},
     "output_type": "display_data"
    }
   ],
   "source": [
    "plot_importance(model, importance_type='weight', title='Weight (Frequence)')"
   ]
  }
 ],
 "metadata": {
  "kernelspec": {
   "display_name": "base",
   "language": "python",
   "name": "python3"
  },
  "language_info": {
   "codemirror_mode": {
    "name": "ipython",
    "version": 3
   },
   "file_extension": ".py",
   "mimetype": "text/x-python",
   "name": "python",
   "nbconvert_exporter": "python",
   "pygments_lexer": "ipython3",
   "version": "3.9.13 | packaged by conda-forge | (main, May 27 2022, 17:00:33) \n[Clang 13.0.1 ]"
  },
  "vscode": {
   "interpreter": {
    "hash": "6e76083d1a5f4c0027e70cf105b7627b1b5e567462449feedfd1ad9407b42e24"
   }
  }
 },
 "nbformat": 4,
 "nbformat_minor": 2
}
