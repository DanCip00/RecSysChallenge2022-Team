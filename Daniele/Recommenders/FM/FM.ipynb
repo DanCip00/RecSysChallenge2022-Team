{
 "cells": [
  {
   "cell_type": "code",
   "execution_count": 1,
   "metadata": {},
   "outputs": [],
   "source": [
    "import os \n",
    "import sys\n",
    "while os.path.split(os.getcwd())[1] != 'RecSysChallenge2023-Team':\n",
    "    os.chdir('..')\n",
    "sys.path.insert(1, os.getcwd())\n",
    "\n",
    "import numpy as np "
   ]
  },
  {
   "cell_type": "code",
   "execution_count": 2,
   "metadata": {},
   "outputs": [],
   "source": [
    "path_save= \"Daniele/Recommenders/FM/saved_models\"\n",
    "if not os.path.exists(path_save):\n",
    "    os.makedirs(path_save)"
   ]
  },
  {
   "cell_type": "markdown",
   "metadata": {},
   "source": []
  },
  {
   "cell_type": "code",
   "execution_count": 3,
   "metadata": {},
   "outputs": [
    {
     "name": "stdout",
     "output_type": "stream",
     "text": [
      "/Users/daniele/Desktop/RecSys/RecSysChallenge2023-Team\n"
     ]
    }
   ],
   "source": [
    "from Data_manager.split_functions.split_train_validation_random_holdout import split_train_in_two_percentage_global_sample\n",
    "from Evaluation.Evaluator import EvaluatorHoldout\n",
    "\n",
    "import Daniele.Utils.MyDataManager as dm \n",
    "import Daniele.Utils.MatrixManipulation as mm\n",
    "import Daniele.Utils.SaveSparceMatrix as ssm\n",
    "import scipy.sparse as sps\n",
    "\n",
    "URMv = dm.getURMviews()\n",
    "URMo = dm.getURMopen()\n",
    "ICMt=dm.getICMt()\n",
    "ICMl=dm.getICMl()\n",
    "\n",
    "name=\"train.csv\"\n",
    "dir = os.path.join(path_save,name)\n",
    "if not os.path.exists(dir):\n",
    "    URMv_train, URMv_test = split_train_in_two_percentage_global_sample(URMv, train_percentage = 0.80)\n",
    "\n",
    "    ssm.saveMatrix(dir,URMv_train)\n",
    "\n",
    "    name=\"test.csv\"\n",
    "    dir = os.path.join(path_save,name)\n",
    "    ssm.saveMatrix(dir,URMv_test)\n",
    "\n",
    "    urm_def = mm.defaultExplicitURM(urmv=URMv_train,urmo=URMo,icml=ICMl,icmt=ICMt, normalize=True, add_aug=True,appendICM=False)\n",
    "    name=\"urm_def.csv\"\n",
    "    dir = os.path.join(path_save,name)\n",
    "    ssm.saveMatrix(dir,urm_def)\n",
    "\n",
    "    urm_bin = mm.defaultExplicitURM(urmv=URMv_train,urmo=URMo, normalize=False, add_aug=False)\n",
    "    urm_bin.data = np.ones(len(urm_bin.data))\n",
    "    name=\"urm_bin.csv\"\n",
    "    dir = os.path.join(path_save,name)\n",
    "    ssm.saveMatrix(dir,urm_bin)\n",
    "    \n",
    "else:\n",
    "    URMv_train=ssm.readMatrix(dir)\n",
    "\n",
    "    name=\"test.csv\"\n",
    "    dir = os.path.join(path_save,name)\n",
    "    URMv_test=ssm.readMatrix(dir)\n",
    "\n",
    "    name=\"urm_def.csv\"\n",
    "    dir = os.path.join(path_save,name)\n",
    "    urm_def = ssm.readMatrix(dir)\n",
    "\n",
    "    name=\"urm_bin.csv\"\n",
    "    dir = os.path.join(path_save,name)\n",
    "    urm_bin = ssm.readMatrix(dir)\n"
   ]
  },
  {
   "cell_type": "code",
   "execution_count": 4,
   "metadata": {},
   "outputs": [
    {
     "name": "stdout",
     "output_type": "stream",
     "text": [
      "EvaluatorHoldout: Ignoring 1559 ( 3.7%) Users that have less than 1 test interactions\n"
     ]
    }
   ],
   "source": [
    "from Evaluation.Evaluator import EvaluatorHoldout\n",
    "\n",
    "evaluator_test = EvaluatorHoldout(URMv_test, cutoff_list=[10])"
   ]
  },
  {
   "attachments": {},
   "cell_type": "markdown",
   "metadata": {},
   "source": [
    "### Recommenders"
   ]
  },
  {
   "cell_type": "code",
   "execution_count": 5,
   "metadata": {},
   "outputs": [
    {
     "name": "stdout",
     "output_type": "stream",
     "text": [
      "SLIMElasticNetRecommender: URM Detected 3461 (12.4%) items with no interactions.\n",
      "SLIMElasticNetRecommender: Loading model from file 'Daniele/Recommenders/FM/saved_modelsslim_elastic_high'\n",
      "SLIMElasticNetRecommender: Loading complete\n"
     ]
    }
   ],
   "source": [
    "from Recommenders.SLIM.SLIMElasticNetRecommender import MultiThreadSLIM_SLIMElasticNetRecommender\n",
    "name=\"slim_elastic_high\"\n",
    "dir = os.path.join(path_save,name)\n",
    "\n",
    "slim_elastic_high = MultiThreadSLIM_SLIMElasticNetRecommender(URM_train=urm_bin)\n",
    "if not os.path.exists(dir+\".zip\"):\n",
    "    \n",
    "    # {'alpha': 0.002930092866966509, 'l1_ratio': 0.006239337272696024, 'topK': 882} -> MAP 0.0422894\n",
    "    slim_elastic_high.fit(alpha=0.002930092866966509, l1_ratio=0.006239337272696024, topK=882)\n",
    "    slim_elastic_high.save_model(path_save,name)\n",
    "else:\n",
    "    slim_elastic_high.load_model(path_save,name)\n",
    "\n",
    "r_slim = slim_elastic_high._compute_item_score(range(dm.n_users))\n",
    "r_slim = sps.coo_matrix(r_slim)"
   ]
  },
  {
   "cell_type": "code",
   "execution_count": 7,
   "metadata": {},
   "outputs": [
    {
     "name": "stdout",
     "output_type": "stream",
     "text": [
      "RP3betaRecommender: URM Detected 3461 (12.4%) items with no interactions.\n",
      "RP3betaRecommender: Similarity column 27968 (100.0%), 4135.00 column/sec. Elapsed time 6.76 sec\n"
     ]
    }
   ],
   "source": [
    "from Recommenders.GraphBased.RP3betaRecommender import RP3betaRecommender\n",
    "\n",
    "rp3beta_high = RP3betaRecommender(urm_bin)\n",
    "# {'topK': 91, 'alpha': 0.7758215673815734, 'beta': 0.2719143753442684, 'normalize_similarity': True} -> MAP 0.0.0273508\n",
    "rp3beta_high.fit( topK=91, alpha=0.7758215673815734, beta=0.2719143753442684, normalize_similarity=True )\n",
    "\n",
    "r_rp3beta = rp3beta_high._compute_item_score(range(dm.n_users))\n",
    "r_rp3beta = sps.coo_matrix(r_rp3beta)"
   ]
  },
  {
   "attachments": {},
   "cell_type": "markdown",
   "metadata": {},
   "source": [
    "### CLASSE"
   ]
  },
  {
   "cell_type": "code",
   "execution_count": 6,
   "metadata": {},
   "outputs": [
    {
     "name": "stderr",
     "output_type": "stream",
     "text": [
      "/Users/daniele/opt/anaconda3/lib/python3.9/site-packages/lightfm/_lightfm_fast.py:9: UserWarning: LightFM was compiled without OpenMP support. Only a single thread will be used.\n",
      "  warnings.warn(\n"
     ]
    }
   ],
   "source": [
    "from Recommenders.BaseRecommender import BaseRecommender\n",
    "from lightfm import LightFM\n",
    "import numpy as np\n",
    "from  tqdm import tqdm\n",
    "\n",
    "class LightFMCFRecommender(BaseRecommender):\n",
    "    \"\"\"LightFMCFRecommender\"\"\"\n",
    "\n",
    "    RECOMMENDER_NAME = \"LightFMCFRecommender\"\n",
    "\n",
    "    def __init__(self, URM_train,user_features = None):\n",
    "        self.user_features = user_features\n",
    "        super(LightFMCFRecommender, self).__init__(URM_train)\n",
    "\n",
    "\n",
    "    def fit(self, epochs = 300, alpha = 1e-6, n_factors = 10, n_threads = 4):\n",
    "        \n",
    "        # Let's fit a WARP model\n",
    "        self.lightFM_model = LightFM(loss='bpr',    # warp\n",
    "                                     item_alpha=alpha,\n",
    "                                     no_components=n_factors)\n",
    "        batch_size = 2\n",
    "        best_map=-1\n",
    "        best_epoch = 0 \n",
    "        for i in tqdm(range (1,int(epochs/batch_size)+1)):\n",
    "            print(\"Epochs->\",batch_size*i)\n",
    "            self.lightFM_model = self.lightFM_model.fit_partial(self.URM_train, \n",
    "                                        epochs=i*batch_size,\n",
    "                                        user_features = self.user_features,\n",
    "                                        num_threads=n_threads)\n",
    "            result_df, _ = evaluator_test.evaluateRecommender(self)\n",
    "            print(\"Iter \",i,\": Epochs->\",batch_size*i,\"\\tMAP ->\",result_df[\"MAP\"].values[0])\n",
    "            if result_df[\"MAP\"].values[0] > best_map : \n",
    "                best_map = result_df[\"MAP\"].values[0]\n",
    "                best_epoch = i * batch_size\n",
    "        print(\"Best MAP -> \",best_map,\"\\t Best epoch -> \",best_epoch)\n",
    "        \n",
    "\n",
    "                                       \n",
    "    def _compute_item_score(self, user_id_array, items_to_compute = None):\n",
    "        \n",
    "        # Create a single (n_items, ) array with the item score, then copy it for every user\n",
    "        items_to_compute = np.arange(self.n_items)\n",
    "        \n",
    "        item_scores = - np.ones((len(user_id_array), self.n_items)) * np.inf\n",
    "\n",
    "        for user_index, user_id in enumerate(user_id_array):\n",
    "            item_scores[user_index] = self.lightFM_model.predict(int(user_id), \n",
    "                                                                 items_to_compute)\n",
    "\n",
    "        return item_scores\n"
   ]
  },
  {
   "cell_type": "code",
   "execution_count": 49,
   "metadata": {},
   "outputs": [
    {
     "name": "stdout",
     "output_type": "stream",
     "text": [
      "LightFMCFRecommender: URM Detected 3461 (12.4%) items with no interactions.\n"
     ]
    },
    {
     "name": "stderr",
     "output_type": "stream",
     "text": [
      "  0%|          | 0/2 [00:00<?, ?it/s]"
     ]
    },
    {
     "name": "stdout",
     "output_type": "stream",
     "text": [
      "Epochs-> 5\n",
      "EvaluatorHoldout: Processed 40070 (100.0%) in 51.89 sec. Users per second: 772\n"
     ]
    },
    {
     "name": "stderr",
     "output_type": "stream",
     "text": [
      " 50%|█████     | 1/2 [01:02<01:02, 62.67s/it]"
     ]
    },
    {
     "name": "stdout",
     "output_type": "stream",
     "text": [
      "Iter  1 : Epochs-> 5 \tMAP -> cutoff\n",
      "10    0.010107\n",
      "Name: MAP, dtype: object\n",
      "Epochs-> 10\n"
     ]
    },
    {
     "name": "stderr",
     "output_type": "stream",
     "text": [
      "/Users/daniele/Desktop/RecSys/RecSysChallenge2023-Team/Evaluation/metrics.py:276: RuntimeWarning: overflow encountered in power\n",
      "  return np.sum(np.divide(np.power(2, scores) - 1, np.log2(np.arange(scores.shape[0], dtype=np.float64) + 2)),\n"
     ]
    },
    {
     "name": "stdout",
     "output_type": "stream",
     "text": [
      "EvaluatorHoldout: Processed 40070 (100.0%) in 51.39 sec. Users per second: 780\n"
     ]
    },
    {
     "name": "stderr",
     "output_type": "stream",
     "text": [
      "100%|██████████| 2/2 [02:14<00:00, 67.27s/it]"
     ]
    },
    {
     "name": "stdout",
     "output_type": "stream",
     "text": [
      "Iter  2 : Epochs-> 10 \tMAP -> cutoff\n",
      "10    0.009821\n",
      "Name: MAP, dtype: object\n"
     ]
    },
    {
     "name": "stderr",
     "output_type": "stream",
     "text": [
      "\n",
      "/Users/daniele/Desktop/RecSys/RecSysChallenge2023-Team/Evaluation/metrics.py:276: RuntimeWarning: overflow encountered in power\n",
      "  return np.sum(np.divide(np.power(2, scores) - 1, np.log2(np.arange(scores.shape[0], dtype=np.float64) + 2)),\n"
     ]
    },
    {
     "name": "stdout",
     "output_type": "stream",
     "text": [
      "EvaluatorHoldout: Processed 40070 (100.0%) in 51.41 sec. Users per second: 779\n"
     ]
    },
    {
     "data": {
      "text/html": [
       "<div>\n",
       "<style scoped>\n",
       "    .dataframe tbody tr th:only-of-type {\n",
       "        vertical-align: middle;\n",
       "    }\n",
       "\n",
       "    .dataframe tbody tr th {\n",
       "        vertical-align: top;\n",
       "    }\n",
       "\n",
       "    .dataframe thead th {\n",
       "        text-align: right;\n",
       "    }\n",
       "</style>\n",
       "<table border=\"1\" class=\"dataframe\">\n",
       "  <thead>\n",
       "    <tr style=\"text-align: right;\">\n",
       "      <th></th>\n",
       "      <th>PRECISION</th>\n",
       "      <th>PRECISION_RECALL_MIN_DEN</th>\n",
       "      <th>RECALL</th>\n",
       "      <th>MAP</th>\n",
       "      <th>MAP_MIN_DEN</th>\n",
       "      <th>MRR</th>\n",
       "      <th>NDCG</th>\n",
       "      <th>F1</th>\n",
       "      <th>HIT_RATE</th>\n",
       "      <th>ARHR_ALL_HITS</th>\n",
       "      <th>...</th>\n",
       "      <th>COVERAGE_USER</th>\n",
       "      <th>COVERAGE_USER_HIT</th>\n",
       "      <th>USERS_IN_GT</th>\n",
       "      <th>DIVERSITY_GINI</th>\n",
       "      <th>SHANNON_ENTROPY</th>\n",
       "      <th>RATIO_DIVERSITY_HERFINDAHL</th>\n",
       "      <th>RATIO_DIVERSITY_GINI</th>\n",
       "      <th>RATIO_SHANNON_ENTROPY</th>\n",
       "      <th>RATIO_AVERAGE_POPULARITY</th>\n",
       "      <th>RATIO_NOVELTY</th>\n",
       "    </tr>\n",
       "    <tr>\n",
       "      <th>cutoff</th>\n",
       "      <th></th>\n",
       "      <th></th>\n",
       "      <th></th>\n",
       "      <th></th>\n",
       "      <th></th>\n",
       "      <th></th>\n",
       "      <th></th>\n",
       "      <th></th>\n",
       "      <th></th>\n",
       "      <th></th>\n",
       "      <th></th>\n",
       "      <th></th>\n",
       "      <th></th>\n",
       "      <th></th>\n",
       "      <th></th>\n",
       "      <th></th>\n",
       "      <th></th>\n",
       "      <th></th>\n",
       "      <th></th>\n",
       "      <th></th>\n",
       "      <th></th>\n",
       "    </tr>\n",
       "  </thead>\n",
       "  <tbody>\n",
       "    <tr>\n",
       "      <th>10</th>\n",
       "      <td>0.02157</td>\n",
       "      <td>0.034411</td>\n",
       "      <td>0.031829</td>\n",
       "      <td>0.009821</td>\n",
       "      <td>0.015437</td>\n",
       "      <td>0.071608</td>\n",
       "      <td>0.027609</td>\n",
       "      <td>0.025714</td>\n",
       "      <td>0.158048</td>\n",
       "      <td>0.083126</td>\n",
       "      <td>...</td>\n",
       "      <td>0.96255</td>\n",
       "      <td>0.15213</td>\n",
       "      <td>0.96255</td>\n",
       "      <td>0.020775</td>\n",
       "      <td>9.567265</td>\n",
       "      <td>0.99818</td>\n",
       "      <td>0.047508</td>\n",
       "      <td>0.711418</td>\n",
       "      <td>2.063198</td>\n",
       "      <td>0.293197</td>\n",
       "    </tr>\n",
       "  </tbody>\n",
       "</table>\n",
       "<p>1 rows × 27 columns</p>\n",
       "</div>"
      ],
      "text/plain": [
       "       PRECISION PRECISION_RECALL_MIN_DEN    RECALL       MAP MAP_MIN_DEN  \\\n",
       "cutoff                                                                      \n",
       "10       0.02157                 0.034411  0.031829  0.009821    0.015437   \n",
       "\n",
       "             MRR      NDCG        F1  HIT_RATE ARHR_ALL_HITS  ...  \\\n",
       "cutoff                                                        ...   \n",
       "10      0.071608  0.027609  0.025714  0.158048      0.083126  ...   \n",
       "\n",
       "       COVERAGE_USER COVERAGE_USER_HIT USERS_IN_GT DIVERSITY_GINI  \\\n",
       "cutoff                                                              \n",
       "10           0.96255           0.15213     0.96255       0.020775   \n",
       "\n",
       "       SHANNON_ENTROPY RATIO_DIVERSITY_HERFINDAHL RATIO_DIVERSITY_GINI  \\\n",
       "cutoff                                                                   \n",
       "10            9.567265                    0.99818             0.047508   \n",
       "\n",
       "       RATIO_SHANNON_ENTROPY RATIO_AVERAGE_POPULARITY RATIO_NOVELTY  \n",
       "cutoff                                                               \n",
       "10                  0.711418                 2.063198      0.293197  \n",
       "\n",
       "[1 rows x 27 columns]"
      ]
     },
     "execution_count": 49,
     "metadata": {},
     "output_type": "execute_result"
    }
   ],
   "source": [
    "# Prova con BINARIA\n",
    "\n",
    "recommender = LightFMCFRecommender(urm_bin)\n",
    "recommender.fit(epochs = 10)\n",
    "\n",
    "result_df, _ = evaluator_test.evaluateRecommender(recommender)\n",
    "result_df"
   ]
  },
  {
   "cell_type": "code",
   "execution_count": 61,
   "metadata": {},
   "outputs": [
    {
     "data": {
      "text/plain": [
       "0.00982103045860244"
      ]
     },
     "execution_count": 61,
     "metadata": {},
     "output_type": "execute_result"
    }
   ],
   "source": [
    "result_df[\"MAP\"].values[0]"
   ]
  },
  {
   "cell_type": "code",
   "execution_count": null,
   "metadata": {},
   "outputs": [
    {
     "name": "stdout",
     "output_type": "stream",
     "text": [
      "LightFMCFRecommender: URM Detected 3461 (12.4%) items with no interactions.\n"
     ]
    },
    {
     "name": "stderr",
     "output_type": "stream",
     "text": [
      "  0%|          | 0/2 [00:00<?, ?it/s]"
     ]
    },
    {
     "name": "stdout",
     "output_type": "stream",
     "text": [
      "Epochs-> 5\n"
     ]
    },
    {
     "name": "stderr",
     "output_type": "stream",
     "text": [
      "  0%|          | 0/2 [00:06<?, ?it/s]\n"
     ]
    },
    {
     "ename": "KeyboardInterrupt",
     "evalue": "",
     "output_type": "error",
     "traceback": [
      "\u001b[0;31m---------------------------------------------------------------------------\u001b[0m",
      "\u001b[0;31mKeyboardInterrupt\u001b[0m                         Traceback (most recent call last)",
      "\u001b[1;32m/Users/daniele/Desktop/RecSys/RecSysChallenge2023-Team/Daniele/Recommenders/FM/FM.ipynb Cell 13\u001b[0m in \u001b[0;36m<cell line: 4>\u001b[0;34m()\u001b[0m\n\u001b[1;32m      <a href='vscode-notebook-cell:/Users/daniele/Desktop/RecSys/RecSysChallenge2023-Team/Daniele/Recommenders/FM/FM.ipynb#X13sZmlsZQ%3D%3D?line=0'>1</a>\u001b[0m \u001b[39m# Prova con ESPLICITA\u001b[39;00m\n\u001b[1;32m      <a href='vscode-notebook-cell:/Users/daniele/Desktop/RecSys/RecSysChallenge2023-Team/Daniele/Recommenders/FM/FM.ipynb#X13sZmlsZQ%3D%3D?line=2'>3</a>\u001b[0m recommender \u001b[39m=\u001b[39m LightFMCFRecommender(urm_def)\n\u001b[0;32m----> <a href='vscode-notebook-cell:/Users/daniele/Desktop/RecSys/RecSysChallenge2023-Team/Daniele/Recommenders/FM/FM.ipynb#X13sZmlsZQ%3D%3D?line=3'>4</a>\u001b[0m recommender\u001b[39m.\u001b[39;49mfit(epochs \u001b[39m=\u001b[39;49m \u001b[39m10\u001b[39;49m)\n\u001b[1;32m      <a href='vscode-notebook-cell:/Users/daniele/Desktop/RecSys/RecSysChallenge2023-Team/Daniele/Recommenders/FM/FM.ipynb#X13sZmlsZQ%3D%3D?line=5'>6</a>\u001b[0m result_df, _ \u001b[39m=\u001b[39m evaluator_test\u001b[39m.\u001b[39mevaluateRecommender(recommender)\n\u001b[1;32m      <a href='vscode-notebook-cell:/Users/daniele/Desktop/RecSys/RecSysChallenge2023-Team/Daniele/Recommenders/FM/FM.ipynb#X13sZmlsZQ%3D%3D?line=6'>7</a>\u001b[0m result_df\n",
      "\u001b[1;32m/Users/daniele/Desktop/RecSys/RecSysChallenge2023-Team/Daniele/Recommenders/FM/FM.ipynb Cell 13\u001b[0m in \u001b[0;36mLightFMCFRecommender.fit\u001b[0;34m(self, epochs, alpha, n_factors, n_threads)\u001b[0m\n\u001b[1;32m     <a href='vscode-notebook-cell:/Users/daniele/Desktop/RecSys/RecSysChallenge2023-Team/Daniele/Recommenders/FM/FM.ipynb#X13sZmlsZQ%3D%3D?line=22'>23</a>\u001b[0m \u001b[39mfor\u001b[39;00m i \u001b[39min\u001b[39;00m tqdm(\u001b[39mrange\u001b[39m (\u001b[39m1\u001b[39m,\u001b[39mint\u001b[39m(epochs\u001b[39m/\u001b[39mbatch_size)\u001b[39m+\u001b[39m\u001b[39m1\u001b[39m)):\n\u001b[1;32m     <a href='vscode-notebook-cell:/Users/daniele/Desktop/RecSys/RecSysChallenge2023-Team/Daniele/Recommenders/FM/FM.ipynb#X13sZmlsZQ%3D%3D?line=23'>24</a>\u001b[0m     \u001b[39mprint\u001b[39m(\u001b[39m\"\u001b[39m\u001b[39mEpochs->\u001b[39m\u001b[39m\"\u001b[39m,batch_size\u001b[39m*\u001b[39mi)\n\u001b[0;32m---> <a href='vscode-notebook-cell:/Users/daniele/Desktop/RecSys/RecSysChallenge2023-Team/Daniele/Recommenders/FM/FM.ipynb#X13sZmlsZQ%3D%3D?line=24'>25</a>\u001b[0m     \u001b[39mself\u001b[39m\u001b[39m.\u001b[39mlightFM_model \u001b[39m=\u001b[39m \u001b[39mself\u001b[39;49m\u001b[39m.\u001b[39;49mlightFM_model\u001b[39m.\u001b[39;49mfit_partial(\u001b[39mself\u001b[39;49m\u001b[39m.\u001b[39;49mURM_train, \n\u001b[1;32m     <a href='vscode-notebook-cell:/Users/daniele/Desktop/RecSys/RecSysChallenge2023-Team/Daniele/Recommenders/FM/FM.ipynb#X13sZmlsZQ%3D%3D?line=25'>26</a>\u001b[0m                                 epochs\u001b[39m=\u001b[39;49mi\u001b[39m*\u001b[39;49mbatch_size,\n\u001b[1;32m     <a href='vscode-notebook-cell:/Users/daniele/Desktop/RecSys/RecSysChallenge2023-Team/Daniele/Recommenders/FM/FM.ipynb#X13sZmlsZQ%3D%3D?line=26'>27</a>\u001b[0m                                 user_features \u001b[39m=\u001b[39;49m \u001b[39mself\u001b[39;49m\u001b[39m.\u001b[39;49muser_features,\n\u001b[1;32m     <a href='vscode-notebook-cell:/Users/daniele/Desktop/RecSys/RecSysChallenge2023-Team/Daniele/Recommenders/FM/FM.ipynb#X13sZmlsZQ%3D%3D?line=27'>28</a>\u001b[0m                                 num_threads\u001b[39m=\u001b[39;49mn_threads)\n\u001b[1;32m     <a href='vscode-notebook-cell:/Users/daniele/Desktop/RecSys/RecSysChallenge2023-Team/Daniele/Recommenders/FM/FM.ipynb#X13sZmlsZQ%3D%3D?line=28'>29</a>\u001b[0m     result_df, _ \u001b[39m=\u001b[39m evaluator_test\u001b[39m.\u001b[39mevaluateRecommender(\u001b[39mself\u001b[39m)\n\u001b[1;32m     <a href='vscode-notebook-cell:/Users/daniele/Desktop/RecSys/RecSysChallenge2023-Team/Daniele/Recommenders/FM/FM.ipynb#X13sZmlsZQ%3D%3D?line=29'>30</a>\u001b[0m     \u001b[39mprint\u001b[39m(\u001b[39m\"\u001b[39m\u001b[39mIter \u001b[39m\u001b[39m\"\u001b[39m,i,\u001b[39m\"\u001b[39m\u001b[39m: Epochs->\u001b[39m\u001b[39m\"\u001b[39m,batch_size\u001b[39m*\u001b[39mi,\u001b[39m\"\u001b[39m\u001b[39m\\t\u001b[39;00m\u001b[39mMAP ->\u001b[39m\u001b[39m\"\u001b[39m,result_df[\u001b[39m\"\u001b[39m\u001b[39mMAP\u001b[39m\u001b[39m\"\u001b[39m])\n",
      "File \u001b[0;32m~/opt/anaconda3/lib/python3.9/site-packages/lightfm/lightfm.py:638\u001b[0m, in \u001b[0;36mLightFM.fit_partial\u001b[0;34m(self, interactions, user_features, item_features, sample_weight, epochs, num_threads, verbose)\u001b[0m\n\u001b[1;32m    635\u001b[0m     \u001b[39mraise\u001b[39;00m \u001b[39mValueError\u001b[39;00m(\u001b[39m\"\u001b[39m\u001b[39mNumber of threads must be 1 or larger.\u001b[39m\u001b[39m\"\u001b[39m)\n\u001b[1;32m    637\u001b[0m \u001b[39mfor\u001b[39;00m _ \u001b[39min\u001b[39;00m \u001b[39mself\u001b[39m\u001b[39m.\u001b[39m_progress(epochs, verbose\u001b[39m=\u001b[39mverbose):\n\u001b[0;32m--> 638\u001b[0m     \u001b[39mself\u001b[39;49m\u001b[39m.\u001b[39;49m_run_epoch(\n\u001b[1;32m    639\u001b[0m         item_features,\n\u001b[1;32m    640\u001b[0m         user_features,\n\u001b[1;32m    641\u001b[0m         interactions,\n\u001b[1;32m    642\u001b[0m         sample_weight_data,\n\u001b[1;32m    643\u001b[0m         num_threads,\n\u001b[1;32m    644\u001b[0m         \u001b[39mself\u001b[39;49m\u001b[39m.\u001b[39;49mloss,\n\u001b[1;32m    645\u001b[0m     )\n\u001b[1;32m    647\u001b[0m     \u001b[39mself\u001b[39m\u001b[39m.\u001b[39m_check_finite()\n\u001b[1;32m    649\u001b[0m \u001b[39mreturn\u001b[39;00m \u001b[39mself\u001b[39m\n",
      "File \u001b[0;32m~/opt/anaconda3/lib/python3.9/site-packages/lightfm/lightfm.py:696\u001b[0m, in \u001b[0;36mLightFM._run_epoch\u001b[0;34m(self, item_features, user_features, interactions, sample_weight, num_threads, loss)\u001b[0m\n\u001b[1;32m    679\u001b[0m     fit_warp(\n\u001b[1;32m    680\u001b[0m         CSRMatrix(item_features),\n\u001b[1;32m    681\u001b[0m         CSRMatrix(user_features),\n\u001b[0;32m   (...)\u001b[0m\n\u001b[1;32m    693\u001b[0m         \u001b[39mself\u001b[39m\u001b[39m.\u001b[39mrandom_state,\n\u001b[1;32m    694\u001b[0m     )\n\u001b[1;32m    695\u001b[0m \u001b[39melif\u001b[39;00m loss \u001b[39m==\u001b[39m \u001b[39m\"\u001b[39m\u001b[39mbpr\u001b[39m\u001b[39m\"\u001b[39m:\n\u001b[0;32m--> 696\u001b[0m     fit_bpr(\n\u001b[1;32m    697\u001b[0m         CSRMatrix(item_features),\n\u001b[1;32m    698\u001b[0m         CSRMatrix(user_features),\n\u001b[1;32m    699\u001b[0m         positives_lookup,\n\u001b[1;32m    700\u001b[0m         interactions\u001b[39m.\u001b[39;49mrow,\n\u001b[1;32m    701\u001b[0m         interactions\u001b[39m.\u001b[39;49mcol,\n\u001b[1;32m    702\u001b[0m         interactions\u001b[39m.\u001b[39;49mdata,\n\u001b[1;32m    703\u001b[0m         sample_weight,\n\u001b[1;32m    704\u001b[0m         shuffle_indices,\n\u001b[1;32m    705\u001b[0m         lightfm_data,\n\u001b[1;32m    706\u001b[0m         \u001b[39mself\u001b[39;49m\u001b[39m.\u001b[39;49mlearning_rate,\n\u001b[1;32m    707\u001b[0m         \u001b[39mself\u001b[39;49m\u001b[39m.\u001b[39;49mitem_alpha,\n\u001b[1;32m    708\u001b[0m         \u001b[39mself\u001b[39;49m\u001b[39m.\u001b[39;49muser_alpha,\n\u001b[1;32m    709\u001b[0m         num_threads,\n\u001b[1;32m    710\u001b[0m         \u001b[39mself\u001b[39;49m\u001b[39m.\u001b[39;49mrandom_state,\n\u001b[1;32m    711\u001b[0m     )\n\u001b[1;32m    712\u001b[0m \u001b[39melif\u001b[39;00m loss \u001b[39m==\u001b[39m \u001b[39m\"\u001b[39m\u001b[39mwarp-kos\u001b[39m\u001b[39m\"\u001b[39m:\n\u001b[1;32m    713\u001b[0m     fit_warp_kos(\n\u001b[1;32m    714\u001b[0m         CSRMatrix(item_features),\n\u001b[1;32m    715\u001b[0m         CSRMatrix(user_features),\n\u001b[0;32m   (...)\u001b[0m\n\u001b[1;32m    726\u001b[0m         \u001b[39mself\u001b[39m\u001b[39m.\u001b[39mrandom_state,\n\u001b[1;32m    727\u001b[0m     )\n",
      "\u001b[0;31mKeyboardInterrupt\u001b[0m: "
     ]
    }
   ],
   "source": [
    "# Prova con ESPLICITA\n",
    "\n",
    "recommender = LightFMCFRecommender(urm_def)\n",
    "recommender.fit(epochs = 10)\n",
    "\n",
    "result_df, _ = evaluator_test.evaluateRecommender(recommender)\n",
    "result_df"
   ]
  },
  {
   "cell_type": "code",
   "execution_count": 63,
   "metadata": {},
   "outputs": [
    {
     "name": "stdout",
     "output_type": "stream",
     "text": [
      "LightFMCFRecommender: URM Detected 3461 (12.4%) items with no interactions.\n"
     ]
    },
    {
     "name": "stderr",
     "output_type": "stream",
     "text": [
      "  0%|          | 0/2 [00:00<?, ?it/s]"
     ]
    },
    {
     "name": "stdout",
     "output_type": "stream",
     "text": [
      "Epochs-> 5\n"
     ]
    }
   ],
   "source": [
    "recommender = LightFMCFRecommender(urm_def,r_slim)\n",
    "recommender.fit(epochs = 10)\n",
    "\n",
    "result_df, _ = evaluator_test.evaluateRecommender(recommender)\n",
    "result_df"
   ]
  },
  {
   "cell_type": "code",
   "execution_count": 33,
   "metadata": {},
   "outputs": [
    {
     "ename": "TypeError",
     "evalue": "only integer scalar arrays can be converted to a scalar index",
     "output_type": "error",
     "traceback": [
      "\u001b[0;31m---------------------------------------------------------------------------\u001b[0m",
      "\u001b[0;31mTypeError\u001b[0m                                 Traceback (most recent call last)",
      "\u001b[1;32m/Users/daniele/Desktop/RecSys/RecSysChallenge2023-Team/Daniele/Recommenders/FM/FM.ipynb Cell 15\u001b[0m in \u001b[0;36m<cell line: 4>\u001b[0;34m()\u001b[0m\n\u001b[1;32m      <a href='vscode-notebook-cell:/Users/daniele/Desktop/RecSys/RecSysChallenge2023-Team/Daniele/Recommenders/FM/FM.ipynb#X23sZmlsZQ%3D%3D?line=0'>1</a>\u001b[0m user_popularity \u001b[39m=\u001b[39m np\u001b[39m.\u001b[39mediff1d(sps\u001b[39m.\u001b[39mcsr_matrix(urm_def)\u001b[39m.\u001b[39mindptr)\n\u001b[0;32m----> <a href='vscode-notebook-cell:/Users/daniele/Desktop/RecSys/RecSysChallenge2023-Team/Daniele/Recommenders/FM/FM.ipynb#X23sZmlsZQ%3D%3D?line=3'>4</a>\u001b[0m u1 \u001b[39m=\u001b[39m sps\u001b[39m.\u001b[39mcsr_matrix(users[sort[:\u001b[39mint\u001b[39;49m(dm\u001b[39m.\u001b[39;49mn_users\u001b[39m/\u001b[39;49m\u001b[39m2\u001b[39;49m)]],shape\u001b[39m=\u001b[39m(\u001b[39m1\u001b[39m,dm\u001b[39m.\u001b[39mn_users))\n\u001b[1;32m      <a href='vscode-notebook-cell:/Users/daniele/Desktop/RecSys/RecSysChallenge2023-Team/Daniele/Recommenders/FM/FM.ipynb#X23sZmlsZQ%3D%3D?line=4'>5</a>\u001b[0m u2 \u001b[39m=\u001b[39m sps\u001b[39m.\u001b[39mcsr_matrix(users[sort[\u001b[39mint\u001b[39m(dm\u001b[39m.\u001b[39mn_users\u001b[39m/\u001b[39m\u001b[39m2\u001b[39m)]:],shape\u001b[39m=\u001b[39m(\u001b[39m1\u001b[39m,dm\u001b[39m.\u001b[39mn_users))\n\u001b[1;32m      <a href='vscode-notebook-cell:/Users/daniele/Desktop/RecSys/RecSysChallenge2023-Team/Daniele/Recommenders/FM/FM.ipynb#X23sZmlsZQ%3D%3D?line=5'>6</a>\u001b[0m u2\u001b[39m.\u001b[39mtocoo()\u001b[39m.\u001b[39mcol\u001b[39m.\u001b[39mmax()\n",
      "\u001b[0;31mTypeError\u001b[0m: only integer scalar arrays can be converted to a scalar index"
     ]
    }
   ],
   "source": [
    "user_popularity = np.ediff1d(sps.csr_matrix(urm_def).indptr)\n",
    "\n",
    "\n",
    "u1 = sps.csr_matrix(users[sort[:int(dm.n_users/2)]],shape=(1,dm.n_users))\n",
    "u2 = sps.csr_matrix(users[sort[int(dm.n_users/2)]:],shape=(1,dm.n_users))\n",
    "u2.tocoo().col.max()"
   ]
  },
  {
   "cell_type": "code",
   "execution_count": 34,
   "metadata": {},
   "outputs": [
    {
     "name": "stdout",
     "output_type": "stream",
     "text": [
      "LightFMCFRecommender: URM Detected 3461 (12.4%) items with no interactions.\n"
     ]
    }
   ],
   "source": [
    "user_popularity = np.ediff1d(sps.csr_matrix(urm_def).indptr)\n",
    "sort = np.argsort(user_popularity)\n",
    "u = sps.coo_matrix(user_popularity)\n",
    "\n",
    "recommender = LightFMCFRecommender(urm_def,sps.hstack([r_slim,r_rp3beta,u.T]))"
   ]
  },
  {
   "cell_type": "code",
   "execution_count": null,
   "metadata": {},
   "outputs": [],
   "source": [
    "user_popularity = np.ediff1d(sps.csr_matrix(urm_bin).indptr)\n",
    "sort = np.argsort(user_popularity)\n",
    "\n",
    "u1 = sps.csr_matrix(user_popularity[:int(dm.n_users/2)])\n",
    "u2 = sps.csr_matrix(user_popularity[int(dm.n_users/2):])\n",
    "\n",
    "recommender = LightFMCFRecommender(urm_def,sps.hstack(r_slim,r_rp3beta,u1,u2))\n",
    "recommender.fit()\n",
    "\n",
    "result_df, _ = evaluator_test.evaluateRecommender(recommender)\n",
    "result_df "
   ]
  }
 ],
 "metadata": {
  "kernelspec": {
   "display_name": "base",
   "language": "python",
   "name": "python3"
  },
  "language_info": {
   "codemirror_mode": {
    "name": "ipython",
    "version": 3
   },
   "file_extension": ".py",
   "mimetype": "text/x-python",
   "name": "python",
   "nbconvert_exporter": "python",
   "pygments_lexer": "ipython3",
   "version": "3.9.13 | packaged by conda-forge | (main, May 27 2022, 17:00:33) \n[Clang 13.0.1 ]"
  },
  "orig_nbformat": 4,
  "vscode": {
   "interpreter": {
    "hash": "6e76083d1a5f4c0027e70cf105b7627b1b5e567462449feedfd1ad9407b42e24"
   }
  }
 },
 "nbformat": 4,
 "nbformat_minor": 2
}
