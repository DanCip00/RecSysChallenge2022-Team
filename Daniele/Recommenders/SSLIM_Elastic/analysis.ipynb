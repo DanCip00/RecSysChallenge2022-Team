{
 "cells": [
  {
   "attachments": {},
   "cell_type": "markdown",
   "metadata": {},
   "source": [
    "### Comparazione vari SLIM Elsatic"
   ]
  },
  {
   "cell_type": "code",
   "execution_count": 2,
   "metadata": {},
   "outputs": [],
   "source": [
    "import os \n",
    "import sys\n",
    "while os.path.split(os.getcwd())[1] != 'RecSysChallenge2023-Team':\n",
    "    os.chdir('..')\n",
    "sys.path.insert(1, os.getcwd())\n",
    "\n",
    "import numpy as np "
   ]
  },
  {
   "cell_type": "code",
   "execution_count": 3,
   "metadata": {},
   "outputs": [],
   "source": [
    "path_save= \"Daniele/Recommenders/SSLIM_Elastic/saved_models\"\n",
    "if not os.path.exists(path_save):\n",
    "    os.makedirs(path_save)"
   ]
  },
  {
   "cell_type": "markdown",
   "metadata": {},
   "source": []
  },
  {
   "cell_type": "code",
   "execution_count": 4,
   "metadata": {},
   "outputs": [
    {
     "name": "stdout",
     "output_type": "stream",
     "text": [
      "/Users/daniele/Desktop/RecSys/RecSysChallenge2023-Team\n"
     ]
    }
   ],
   "source": [
    "from Data_manager.split_functions.split_train_validation_random_holdout import split_train_in_two_percentage_global_sample\n",
    "from Evaluation.Evaluator import EvaluatorHoldout\n",
    "\n",
    "import Daniele.Utils.MyDataManager as dm \n",
    "import Daniele.Utils.MatrixManipulation as mm\n",
    "import Daniele.Utils.SaveSparceMatrix as ssm\n",
    "\n",
    "URMv = dm.getURMviews()\n",
    "URMo = dm.getURMopen()\n",
    "ICMt=dm.getICMt()\n",
    "ICMl=dm.getICMl()\n",
    "\n",
    "name=\"train.csv\"\n",
    "dir = os.path.join(path_save,name)\n",
    "if not os.path.exists(dir):\n",
    "    URMv_train, URMv_test = split_train_in_two_percentage_global_sample(URMv, train_percentage = 0.80)\n",
    "\n",
    "    ssm.saveMatrix(dir,URMv_train)\n",
    "\n",
    "    name=\"test.csv\"\n",
    "    dir = os.path.join(path_save,name)\n",
    "    ssm.saveMatrix(dir,URMv_test)\n",
    "\n",
    "    urm_def = mm.defaultExplicitURM(urmv=URMv_train,urmo=URMo,icml=ICMl,icmt=ICMt, normalize=True, add_aug=True,appendICM=True)\n",
    "    name=\"urm_def.csv\"\n",
    "    dir = os.path.join(path_save,name)\n",
    "    ssm.saveMatrix(dir,urm_def)\n",
    "\n",
    "    urm_bin = mm.defaultExplicitURM(urmv=URMv_train,urmo=URMo, normalize=False, add_aug=True)\n",
    "    urm_bin.data = np.ones(len(urm_bin.data))\n",
    "    name=\"urm_bin.csv\"\n",
    "    dir = os.path.join(path_save,name)\n",
    "    ssm.saveMatrix(dir,urm_bin)\n",
    "\n",
    "else:\n",
    "    URMv_train=ssm.readMatrix(dir)\n",
    "\n",
    "    name=\"test.csv\"\n",
    "    dir = os.path.join(path_save,name)\n",
    "    URMv_test=ssm.readMatrix(dir)\n",
    "\n",
    "    name=\"urm_def.csv\"\n",
    "    dir = os.path.join(path_save,name)\n",
    "    urm_def = ssm.readMatrix(dir)\n",
    "\n",
    "    name=\"urm_bin.csv\"\n",
    "    dir = os.path.join(path_save,name)\n",
    "    urm_bin = ssm.readMatrix(dir)\n",
    "\n"
   ]
  },
  {
   "cell_type": "code",
   "execution_count": 5,
   "metadata": {},
   "outputs": [],
   "source": [
    "import os \n",
    "import sys\n",
    "while os.path.split(os.getcwd())[1] != 'RecSysChallenge2023-Team':\n",
    "    os.chdir('..')\n",
    "sys.path.insert(1, os.getcwd())\n",
    "\n",
    "import numpy as np"
   ]
  },
  {
   "attachments": {},
   "cell_type": "markdown",
   "metadata": {},
   "source": [
    "### SLIIM-Elastic REFERENCE 0.05732"
   ]
  },
  {
   "cell_type": "code",
   "execution_count": 5,
   "metadata": {},
   "outputs": [
    {
     "name": "stdout",
     "output_type": "stream",
     "text": [
      "SLIMElasticNetRecommender: URM Detected 3461 (12.4%) items with no interactions.\n",
      "SLIMElasticNetRecommender: Loading model from file 'Daniele/Recommenders/SSLIM_Elastic/saved_modelsslim_reference'\n",
      "SLIMElasticNetRecommender: Loading complete\n"
     ]
    }
   ],
   "source": [
    "from Recommenders.SLIM.SLIMElasticNetRecommender import MultiThreadSLIM_SLIMElasticNetRecommender\n",
    "name=\"slim_reference\"\n",
    "dir = os.path.join(path_save,name)\n",
    "\n",
    "slim_reference = MultiThreadSLIM_SLIMElasticNetRecommender(URM_train=urm_bin)\n",
    "if not os.path.exists(dir+\".zip\"):\n",
    "    \n",
    "    slim_reference.fit(alpha=7.3447282e-7, l1_ratio=0.007759, topK=739)\n",
    "    slim_reference.save_model(path_save,name)\n",
    "else:\n",
    "    slim_reference.load_model(path_save,name)"
   ]
  },
  {
   "attachments": {},
   "cell_type": "markdown",
   "metadata": {},
   "source": [
    "### SLIM-Elastic Submit hybrid "
   ]
  },
  {
   "cell_type": "code",
   "execution_count": 6,
   "metadata": {},
   "outputs": [
    {
     "name": "stdout",
     "output_type": "stream",
     "text": [
      "SLIMElasticNetRecommender: URM Detected 3461 (12.4%) items with no interactions.\n",
      "SLIMElasticNetRecommender: Loading model from file 'Daniele/Recommenders/SSLIM_Elastic/saved_modelssubmit_hybrid_federico'\n",
      "SLIMElasticNetRecommender: Loading complete\n"
     ]
    }
   ],
   "source": [
    "from Recommenders.SLIM.SLIMElasticNetRecommender import MultiThreadSLIM_SLIMElasticNetRecommender\n",
    "name=\"submit_hybrid_federico\"\n",
    "dir = os.path.join(path_save,name)\n",
    "\n",
    "submit_hybrid_federico = MultiThreadSLIM_SLIMElasticNetRecommender(URM_train=urm_bin)\n",
    "if not os.path.exists(dir+\".zip\"):\n",
    "    \n",
    "    submit_hybrid_federico.fit(alpha=0.003271, l1_ratio=0.006095, topK=884)\n",
    "    submit_hybrid_federico.save_model(path_save,name)\n",
    "else:\n",
    "    submit_hybrid_federico.load_model(path_save,name)"
   ]
  },
  {
   "attachments": {},
   "cell_type": "markdown",
   "metadata": {},
   "source": [
    "### SLIM-Elastic opt HIGH"
   ]
  },
  {
   "cell_type": "code",
   "execution_count": 6,
   "metadata": {},
   "outputs": [
    {
     "name": "stdout",
     "output_type": "stream",
     "text": [
      "SLIMElasticNetRecommender: URM Detected 3461 (12.4%) items with no interactions.\n",
      "SLIMElasticNetRecommender: Loading model from file 'Daniele/Recommenders/SSLIM_Elastic/saved_modelsslim_elastic_high'\n",
      "SLIMElasticNetRecommender: Loading complete\n"
     ]
    }
   ],
   "source": [
    "from Recommenders.SLIM.SLIMElasticNetRecommender import MultiThreadSLIM_SLIMElasticNetRecommender\n",
    "name=\"slim_elastic_high\"\n",
    "dir = os.path.join(path_save,name)\n",
    "\n",
    "slim_elastic_high = MultiThreadSLIM_SLIMElasticNetRecommender(URM_train=urm_bin)\n",
    "if not os.path.exists(dir+\".zip\"):\n",
    "    \n",
    "    # {'alpha': 0.002930092866966509, 'l1_ratio': 0.006239337272696024, 'topK': 882} -> MAP 0.0422894\n",
    "    slim_elastic_high.fit(alpha=0.002930092866966509, l1_ratio=0.006239337272696024, topK=882)\n",
    "    slim_elastic_high.save_model(path_save,name)\n",
    "else:\n",
    "    slim_elastic_high.load_model(path_save,name)"
   ]
  },
  {
   "cell_type": "markdown",
   "metadata": {},
   "source": []
  },
  {
   "attachments": {},
   "cell_type": "markdown",
   "metadata": {},
   "source": [
    "### SSLIIM BPR"
   ]
  },
  {
   "cell_type": "code",
   "execution_count": 10,
   "metadata": {},
   "outputs": [
    {
     "name": "stdout",
     "output_type": "stream",
     "text": [
      "SLIM_BPR_Recommender: URM Detected 2 ( 0.0%) users with no interactions.\n",
      "SLIM_BPR_Recommender: Loading model from file 'Daniele/Recommenders/SSLIM_Elastic/saved_modelssslim01'\n",
      "SLIM_BPR_Recommender: Loading complete\n"
     ]
    }
   ],
   "source": [
    "from Recommenders.SLIM.Cython.SLIM_BPR_Cython import SLIM_BPR_Cython\n",
    "name=\"sslim01\"\n",
    "dir = os.path.join(path_save,name)\n",
    "\n",
    "sslim_recommender = SLIM_BPR_Cython(URM_train=urm_def)\n",
    "if not os.path.exists(dir+\".zip\"):\n",
    "    #{'topK': 51, 'epochs': 15, 'symmetric': True, 'sgd_mode': 'adam', 'lambda_i': 1e-05, 'lambda_j': 0.003215687724797301, 'learning_rate': 0.007114410195895492} -> MAP 0.0078853\n",
    "    sslim_recommender.fit(topK= 51, epochs=15,symmetric=True, sgd_mode = 'adam', lambda_i = 1e-05, lambda_j=0.003215687724797301, learning_rate = 0.007114410195895492)\n",
    "    sslim_recommender.save_model(path_save,name)\n",
    "else:\n",
    "    sslim_recommender.load_model(path_save,name)\n",
    "\n",
    "   "
   ]
  },
  {
   "attachments": {},
   "cell_type": "markdown",
   "metadata": {},
   "source": [
    "### Hybrid BPR Elastic"
   ]
  },
  {
   "cell_type": "code",
   "execution_count": 9,
   "metadata": {},
   "outputs": [
    {
     "name": "stdout",
     "output_type": "stream",
     "text": [
      "ItemKNNCustomSimilarityRecommender: URM Detected 3461 (12.4%) items with no interactions.\n"
     ]
    }
   ],
   "source": [
    "from Recommenders.KNN.ItemKNNCustomSimilarityRecommender import ItemKNNCustomSimilarityRecommender\n",
    "alpha = 0.7\n",
    "\n",
    "BPR_Elastic_7= ItemKNNCustomSimilarityRecommender(urm_bin)\n",
    "BPR_Elastic_7.fit((1 - alpha) * sslim_recommender.W_sparse + alpha* slim_elastic_high.W_sparse)"
   ]
  },
  {
   "attachments": {},
   "cell_type": "markdown",
   "metadata": {},
   "source": [
    "### Hybrid BPR - SLIM Elastic"
   ]
  },
  {
   "cell_type": "code",
   "execution_count": 10,
   "metadata": {},
   "outputs": [
    {
     "name": "stdout",
     "output_type": "stream",
     "text": [
      "RP3BetaKNNRecommender: URM Detected 3461 (12.4%) items with no interactions.\n",
      "Recommender_Base_Class: URM Detected 3461 (12.4%) items with no interactions.\n",
      "Recommender_Base_Class: URM Detected 3461 (12.4%) items with no interactions.\n",
      "Recommender_Base_Class: URM Detected 3461 (12.4%) items with no interactions.\n"
     ]
    }
   ],
   "source": [
    "from Daniele.Recommenders.Hybrid_fede.hybrid import SSLIMRP3BetaKNNRecommender\n",
    "from Recommenders.BaseSimilarityMatrixRecommender import BaseItemSimilarityMatrixRecommender\n",
    "RP3Beta_SLIM = SSLIMRP3BetaKNNRecommender(urm_bin)\n",
    "\n",
    "\n",
    "class Hybrid (BaseItemSimilarityMatrixRecommender):\n",
    "\n",
    "    def insert_recommenders(self,sslim, elastic,alpha = 0.2):\n",
    "        self.sslim = sslim \n",
    "        self.elastic = elastic\n",
    "        self.alpha = alpha\n",
    "\n",
    "    def _compute_item_score(self, user_id_array, items_to_compute=None):\n",
    "            \n",
    "\n",
    "            w1 = self.sslim._compute_item_score(user_id_array)\n",
    "            w1 = w1 / np.linalg.norm(w1, 2)\n",
    "\n",
    "            w2 = self.elastic._compute_item_score(user_id_array)\n",
    "            w2 = w2 / np.linalg.norm(w2, 2)\n",
    "\n",
    "            \n",
    "            item_weights = self.alpha * w1 + (1 - self.alpha) * w2\n",
    "\n",
    "            return item_weights\n",
    "\n",
    "\n",
    "\n",
    "BPR_Elastic_cis_2 = Hybrid(urm_bin)\n",
    "BPR_Elastic_cis_2.insert_recommenders(sslim_recommender,slim_elastic_high,0.2)\n",
    "\n"
   ]
  },
  {
   "attachments": {},
   "cell_type": "markdown",
   "metadata": {},
   "source": [
    "### Users group"
   ]
  },
  {
   "cell_type": "code",
   "execution_count": 13,
   "metadata": {},
   "outputs": [
    {
     "name": "stdout",
     "output_type": "stream",
     "text": [
      "Group 0, #users in group 2081, average p.len 6.98, median 7.0, min 2, max 9\n",
      "Group 1, #users in group 2081, average p.len 9.43, median 9.0, min 9, max 10\n",
      "Group 2, #users in group 2081, average p.len 10.69, median 11.0, min 10, max 11\n",
      "Group 3, #users in group 2081, average p.len 11.83, median 12.0, min 11, max 12\n",
      "Group 4, #users in group 2081, average p.len 12.88, median 13.0, min 12, max 13\n",
      "Group 5, #users in group 2081, average p.len 13.92, median 14.0, min 13, max 14\n",
      "Group 6, #users in group 2081, average p.len 14.92, median 15.0, min 14, max 15\n",
      "Group 7, #users in group 2081, average p.len 16.00, median 16.0, min 15, max 17\n",
      "Group 8, #users in group 2081, average p.len 17.22, median 17.0, min 17, max 18\n",
      "Group 9, #users in group 2081, average p.len 18.42, median 18.0, min 18, max 19\n",
      "Group 10, #users in group 2081, average p.len 19.75, median 20.0, min 19, max 21\n",
      "Group 11, #users in group 2081, average p.len 21.44, median 21.0, min 21, max 22\n",
      "Group 12, #users in group 2081, average p.len 23.21, median 23.0, min 22, max 24\n",
      "Group 13, #users in group 2081, average p.len 25.49, median 25.0, min 24, max 27\n",
      "Group 14, #users in group 2081, average p.len 28.37, median 28.0, min 27, max 30\n",
      "Group 15, #users in group 2081, average p.len 31.88, median 32.0, min 30, max 34\n",
      "Group 16, #users in group 2081, average p.len 36.44, median 36.0, min 34, max 39\n",
      "Group 17, #users in group 2081, average p.len 43.14, median 43.0, min 39, max 48\n",
      "Group 18, #users in group 2081, average p.len 54.12, median 54.0, min 48, max 62\n",
      "Group 19, #users in group 2081, average p.len 87.91, median 78.0, min 62, max 281\n"
     ]
    }
   ],
   "source": [
    "import numpy as np \n",
    "import scipy.sparse as sps\n",
    "\n",
    "profile_length = np.ediff1d(sps.csr_matrix(URMv).indptr)\n",
    "profile_length, profile_length.shape\n",
    "\n",
    "block_size = int(len(profile_length)*0.05)\n",
    "sorted_users = np.argsort(profile_length)\n",
    "\n",
    "for group_id in range(0, 20):\n",
    "    start_pos = group_id * block_size\n",
    "    end_pos = min((group_id+1) * block_size, len(profile_length))\n",
    "    \n",
    "    users_in_group = sorted_users[start_pos:end_pos]\n",
    "    \n",
    "    users_in_group_p_len = profile_length[users_in_group]\n",
    "    \n",
    "    print(\"Group {}, #users in group {}, average p.len {:.2f}, median {}, min {}, max {}\".format(\n",
    "        group_id, \n",
    "        users_in_group.shape[0],\n",
    "        users_in_group_p_len.mean(),\n",
    "        np.median(users_in_group_p_len),\n",
    "        users_in_group_p_len.min(),\n",
    "        users_in_group_p_len.max()))"
   ]
  },
  {
   "cell_type": "code",
   "execution_count": 1,
   "metadata": {},
   "outputs": [
    {
     "ename": "NameError",
     "evalue": "name 'slim_reference' is not defined",
     "output_type": "error",
     "traceback": [
      "\u001b[0;31m---------------------------------------------------------------------------\u001b[0m",
      "\u001b[0;31mNameError\u001b[0m                                 Traceback (most recent call last)",
      "\u001b[1;32m/Users/daniele/Desktop/RecSys/RecSysChallenge2023-Team/Daniele/Recommenders/SSLIM_Elastic/analysis.ipynb Cell 22\u001b[0m in \u001b[0;36m<cell line: 4>\u001b[0;34m()\u001b[0m\n\u001b[1;32m      <a href='vscode-notebook-cell:/Users/daniele/Desktop/RecSys/RecSysChallenge2023-Team/Daniele/Recommenders/SSLIM_Elastic/analysis.ipynb#X30sZmlsZQ%3D%3D?line=0'>1</a>\u001b[0m MAP_recommender_per_group \u001b[39m=\u001b[39m {}\n\u001b[1;32m      <a href='vscode-notebook-cell:/Users/daniele/Desktop/RecSys/RecSysChallenge2023-Team/Daniele/Recommenders/SSLIM_Elastic/analysis.ipynb#X30sZmlsZQ%3D%3D?line=1'>2</a>\u001b[0m recommender_object_dict \u001b[39m=\u001b[39m {}\n\u001b[0;32m----> <a href='vscode-notebook-cell:/Users/daniele/Desktop/RecSys/RecSysChallenge2023-Team/Daniele/Recommenders/SSLIM_Elastic/analysis.ipynb#X30sZmlsZQ%3D%3D?line=3'>4</a>\u001b[0m recommender_class \u001b[39m=\u001b[39m {\u001b[39m\"\u001b[39m\u001b[39mslim_reference\u001b[39m\u001b[39m\"\u001b[39m :slim_reference,\n\u001b[1;32m      <a href='vscode-notebook-cell:/Users/daniele/Desktop/RecSys/RecSysChallenge2023-Team/Daniele/Recommenders/SSLIM_Elastic/analysis.ipynb#X30sZmlsZQ%3D%3D?line=4'>5</a>\u001b[0m                      \u001b[39m\"\u001b[39m\u001b[39msubmit_hybrid_federico\u001b[39m\u001b[39m\"\u001b[39m : submit_hybrid_federico,\n\u001b[1;32m      <a href='vscode-notebook-cell:/Users/daniele/Desktop/RecSys/RecSysChallenge2023-Team/Daniele/Recommenders/SSLIM_Elastic/analysis.ipynb#X30sZmlsZQ%3D%3D?line=5'>6</a>\u001b[0m                      \u001b[39m\"\u001b[39m\u001b[39mslim_elastic_high\u001b[39m\u001b[39m\"\u001b[39m : slim_elastic_high,\n\u001b[1;32m      <a href='vscode-notebook-cell:/Users/daniele/Desktop/RecSys/RecSysChallenge2023-Team/Daniele/Recommenders/SSLIM_Elastic/analysis.ipynb#X30sZmlsZQ%3D%3D?line=6'>7</a>\u001b[0m                      \u001b[39m\"\u001b[39m\u001b[39mBPR_low\u001b[39m\u001b[39m\"\u001b[39m: sslim_recommender,                               \n\u001b[1;32m      <a href='vscode-notebook-cell:/Users/daniele/Desktop/RecSys/RecSysChallenge2023-Team/Daniele/Recommenders/SSLIM_Elastic/analysis.ipynb#X30sZmlsZQ%3D%3D?line=7'>8</a>\u001b[0m                      \u001b[39m\"\u001b[39m\u001b[39mBPR_Elastic_0.7\u001b[39m\u001b[39m\"\u001b[39m : BPR_Elastic_7,                             \n\u001b[1;32m      <a href='vscode-notebook-cell:/Users/daniele/Desktop/RecSys/RecSysChallenge2023-Team/Daniele/Recommenders/SSLIM_Elastic/analysis.ipynb#X30sZmlsZQ%3D%3D?line=8'>9</a>\u001b[0m                      \u001b[39m\"\u001b[39m\u001b[39mBPR_Elastic_cis 0.2\u001b[39m\u001b[39m\"\u001b[39m : BPR_Elastic_cis_2,           \n\u001b[1;32m     <a href='vscode-notebook-cell:/Users/daniele/Desktop/RecSys/RecSysChallenge2023-Team/Daniele/Recommenders/SSLIM_Elastic/analysis.ipynb#X30sZmlsZQ%3D%3D?line=9'>10</a>\u001b[0m                      }\n\u001b[1;32m     <a href='vscode-notebook-cell:/Users/daniele/Desktop/RecSys/RecSysChallenge2023-Team/Daniele/Recommenders/SSLIM_Elastic/analysis.ipynb#X30sZmlsZQ%3D%3D?line=12'>13</a>\u001b[0m \u001b[39mfor\u001b[39;00m label, recommender_obj \u001b[39min\u001b[39;00m recommender_class\u001b[39m.\u001b[39mitems():\n\u001b[1;32m     <a href='vscode-notebook-cell:/Users/daniele/Desktop/RecSys/RecSysChallenge2023-Team/Daniele/Recommenders/SSLIM_Elastic/analysis.ipynb#X30sZmlsZQ%3D%3D?line=13'>14</a>\u001b[0m     recommender_object_dict[label] \u001b[39m=\u001b[39m recommender_obj\n",
      "\u001b[0;31mNameError\u001b[0m: name 'slim_reference' is not defined"
     ]
    }
   ],
   "source": [
    "MAP_recommender_per_group = {}\n",
    "recommender_object_dict = {}\n",
    "\n",
    "recommender_class = {\"slim_reference\" :slim_reference,\n",
    "                     \"submit_hybrid_federico\" : submit_hybrid_federico,\n",
    "                     \"slim_elastic_high\" : slim_elastic_high,\n",
    "                     \"BPR_low\": sslim_recommender,                               \n",
    "                     \"BPR_Elastic_0.7\" : BPR_Elastic_7,                             \n",
    "                     \"BPR_Elastic_cis 0.2\" : BPR_Elastic_cis_2,           \n",
    "                     }\n",
    "\n",
    "\n",
    "for label, recommender_obj in recommender_class.items():\n",
    "    recommender_object_dict[label] = recommender_obj"
   ]
  },
  {
   "cell_type": "code",
   "execution_count": 13,
   "metadata": {},
   "outputs": [
    {
     "name": "stdout",
     "output_type": "stream",
     "text": [
      "Group 0, #users in group 2081, average p.len 6.98, median 7.0, min 2, max 9\n",
      "EvaluatorHoldout: Ignoring 1559 ( 3.7%) Users that have less than 1 test interactions\n",
      "EvaluatorHoldout: Ignoring 39548 Users\n",
      "EvaluatorHoldout: Processed 1625 (100.0%) in 1.50 sec. Users per second: 1087\n",
      "EvaluatorHoldout: Processed 1625 (100.0%) in 1.44 sec. Users per second: 1126\n",
      "EvaluatorHoldout: Processed 1625 (100.0%) in 1.39 sec. Users per second: 1173\n",
      "EvaluatorHoldout: Processed 1625 (100.0%) in 1.47 sec. Users per second: 1109\n",
      "EvaluatorHoldout: Processed 1625 (100.0%) in 1.70 sec. Users per second: 954\n",
      "EvaluatorHoldout: Processed 1625 (100.0%) in 15.58 sec. Users per second: 104\n",
      "EvaluatorHoldout: Processed 1625 (100.0%) in 15.01 sec. Users per second: 108\n",
      "EvaluatorHoldout: Processed 1625 (100.0%) in 14.73 sec. Users per second: 110\n",
      "Group 1, #users in group 2081, average p.len 9.43, median 9.0, min 9, max 10\n",
      "EvaluatorHoldout: Ignoring 1559 ( 3.7%) Users that have less than 1 test interactions\n",
      "EvaluatorHoldout: Ignoring 39548 Users\n",
      "EvaluatorHoldout: Processed 1844 (100.0%) in 1.49 sec. Users per second: 1239\n",
      "EvaluatorHoldout: Processed 1844 (100.0%) in 1.50 sec. Users per second: 1226\n",
      "EvaluatorHoldout: Processed 1844 (100.0%) in 1.56 sec. Users per second: 1183\n",
      "EvaluatorHoldout: Processed 1844 (100.0%) in 1.14 sec. Users per second: 1621\n",
      "EvaluatorHoldout: Processed 1844 (100.0%) in 1.45 sec. Users per second: 1268\n",
      "EvaluatorHoldout: Processed 1844 (100.0%) in 24.27 sec. Users per second: 76\n",
      "EvaluatorHoldout: Processed 1844 (100.0%) in 15.36 sec. Users per second: 120\n",
      "EvaluatorHoldout: Processed 1844 (100.0%) in 14.22 sec. Users per second: 130\n",
      "Group 2, #users in group 2081, average p.len 10.69, median 11.0, min 10, max 11\n",
      "EvaluatorHoldout: Ignoring 1559 ( 3.7%) Users that have less than 1 test interactions\n",
      "EvaluatorHoldout: Ignoring 39548 Users\n",
      "EvaluatorHoldout: Processed 1895 (100.0%) in 1.49 sec. Users per second: 1274\n",
      "EvaluatorHoldout: Processed 1895 (100.0%) in 1.52 sec. Users per second: 1249\n",
      "EvaluatorHoldout: Processed 1895 (100.0%) in 1.50 sec. Users per second: 1264\n",
      "EvaluatorHoldout: Processed 1895 (100.0%) in 1.14 sec. Users per second: 1656\n",
      "EvaluatorHoldout: Processed 1895 (100.0%) in 1.51 sec. Users per second: 1258\n",
      "EvaluatorHoldout: Processed 1895 (100.0%) in 15.79 sec. Users per second: 120\n",
      "EvaluatorHoldout: Processed 1895 (100.0%) in 14.85 sec. Users per second: 128\n",
      "EvaluatorHoldout: Processed 1895 (100.0%) in 29.67 sec. Users per second: 64\n",
      "Group 3, #users in group 2081, average p.len 11.83, median 12.0, min 11, max 12\n",
      "EvaluatorHoldout: Ignoring 1559 ( 3.7%) Users that have less than 1 test interactions\n",
      "EvaluatorHoldout: Ignoring 39548 Users\n",
      "EvaluatorHoldout: Processed 1908 (100.0%) in 1.59 sec. Users per second: 1201\n",
      "EvaluatorHoldout: Processed 1908 (100.0%) in 1.58 sec. Users per second: 1204\n",
      "EvaluatorHoldout: Processed 1908 (100.0%) in 1.57 sec. Users per second: 1218\n",
      "EvaluatorHoldout: Processed 1908 (100.0%) in 1.19 sec. Users per second: 1605\n",
      "EvaluatorHoldout: Processed 1908 (100.0%) in 1.58 sec. Users per second: 1207\n",
      "EvaluatorHoldout: Processed 1908 (100.0%) in 16.05 sec. Users per second: 119\n",
      "EvaluatorHoldout: Processed 1908 (100.0%) in 15.12 sec. Users per second: 126\n",
      "EvaluatorHoldout: Processed 1908 (100.0%) in 15.15 sec. Users per second: 126\n",
      "Group 4, #users in group 2081, average p.len 12.88, median 13.0, min 12, max 13\n",
      "EvaluatorHoldout: Ignoring 1559 ( 3.7%) Users that have less than 1 test interactions\n",
      "EvaluatorHoldout: Ignoring 39548 Users\n",
      "EvaluatorHoldout: Processed 1953 (100.0%) in 1.56 sec. Users per second: 1249\n",
      "EvaluatorHoldout: Processed 1953 (100.0%) in 1.61 sec. Users per second: 1213\n",
      "EvaluatorHoldout: Processed 1953 (100.0%) in 1.59 sec. Users per second: 1229\n",
      "EvaluatorHoldout: Processed 1953 (100.0%) in 1.17 sec. Users per second: 1676\n",
      "EvaluatorHoldout: Processed 1953 (100.0%) in 1.60 sec. Users per second: 1219\n",
      "EvaluatorHoldout: Processed 1953 (100.0%) in 15.98 sec. Users per second: 122\n",
      "EvaluatorHoldout: Processed 1953 (100.0%) in 16.44 sec. Users per second: 119\n",
      "EvaluatorHoldout: Processed 1953 (100.0%) in 15.71 sec. Users per second: 124\n",
      "Group 5, #users in group 2081, average p.len 13.92, median 14.0, min 13, max 14\n",
      "EvaluatorHoldout: Ignoring 1559 ( 3.7%) Users that have less than 1 test interactions\n",
      "EvaluatorHoldout: Ignoring 39548 Users\n",
      "EvaluatorHoldout: Processed 1984 (100.0%) in 1.57 sec. Users per second: 1260\n",
      "EvaluatorHoldout: Processed 1984 (100.0%) in 1.66 sec. Users per second: 1199\n",
      "EvaluatorHoldout: Processed 1984 (100.0%) in 1.64 sec. Users per second: 1213\n",
      "EvaluatorHoldout: Processed 1984 (100.0%) in 1.17 sec. Users per second: 1693\n",
      "EvaluatorHoldout: Processed 1984 (100.0%) in 1.66 sec. Users per second: 1198\n",
      "EvaluatorHoldout: Processed 1984 (100.0%) in 16.13 sec. Users per second: 123\n",
      "EvaluatorHoldout: Processed 1984 (100.0%) in 16.02 sec. Users per second: 124\n",
      "EvaluatorHoldout: Processed 1984 (100.0%) in 18.49 sec. Users per second: 107\n",
      "Group 6, #users in group 2081, average p.len 14.92, median 15.0, min 14, max 15\n",
      "EvaluatorHoldout: Ignoring 1559 ( 3.7%) Users that have less than 1 test interactions\n",
      "EvaluatorHoldout: Ignoring 39548 Users\n",
      "EvaluatorHoldout: Processed 2005 (100.0%) in 2.26 sec. Users per second: 886\n",
      "EvaluatorHoldout: Processed 2005 (100.0%) in 1.91 sec. Users per second: 1050\n",
      "EvaluatorHoldout: Processed 2005 (100.0%) in 1.68 sec. Users per second: 1194\n",
      "EvaluatorHoldout: Processed 2005 (100.0%) in 1.19 sec. Users per second: 1691\n",
      "EvaluatorHoldout: Processed 2005 (100.0%) in 1.70 sec. Users per second: 1177\n",
      "EvaluatorHoldout: Processed 2005 (100.0%) in 19.72 sec. Users per second: 102\n",
      "EvaluatorHoldout: Processed 2005 (100.0%) in 14.51 sec. Users per second: 138\n",
      "EvaluatorHoldout: Processed 2005 (100.0%) in 15.17 sec. Users per second: 132\n",
      "Group 7, #users in group 2081, average p.len 16.00, median 16.0, min 15, max 17\n",
      "EvaluatorHoldout: Ignoring 1559 ( 3.7%) Users that have less than 1 test interactions\n",
      "EvaluatorHoldout: Ignoring 39548 Users\n",
      "EvaluatorHoldout: Processed 2027 (100.0%) in 1.72 sec. Users per second: 1175\n",
      "EvaluatorHoldout: Processed 2027 (100.0%) in 1.77 sec. Users per second: 1147\n",
      "EvaluatorHoldout: Processed 2027 (100.0%) in 1.73 sec. Users per second: 1173\n",
      "EvaluatorHoldout: Processed 2027 (100.0%) in 1.18 sec. Users per second: 1711\n",
      "EvaluatorHoldout: Processed 2027 (100.0%) in 1.73 sec. Users per second: 1171\n",
      "EvaluatorHoldout: Processed 2027 (100.0%) in 15.86 sec. Users per second: 128\n",
      "EvaluatorHoldout: Processed 2027 (100.0%) in 16.15 sec. Users per second: 126\n",
      "EvaluatorHoldout: Processed 2027 (100.0%) in 16.15 sec. Users per second: 126\n",
      "Group 8, #users in group 2081, average p.len 17.22, median 17.0, min 17, max 18\n",
      "EvaluatorHoldout: Ignoring 1559 ( 3.7%) Users that have less than 1 test interactions\n",
      "EvaluatorHoldout: Ignoring 39548 Users\n",
      "EvaluatorHoldout: Processed 2035 (100.0%) in 1.75 sec. Users per second: 1164\n",
      "EvaluatorHoldout: Processed 2035 (100.0%) in 1.92 sec. Users per second: 1061\n",
      "EvaluatorHoldout: Processed 2035 (100.0%) in 1.95 sec. Users per second: 1045\n",
      "EvaluatorHoldout: Processed 2035 (100.0%) in 1.24 sec. Users per second: 1640\n",
      "EvaluatorHoldout: Processed 2035 (100.0%) in 1.82 sec. Users per second: 1120\n",
      "EvaluatorHoldout: Processed 2035 (100.0%) in 19.37 sec. Users per second: 105\n",
      "EvaluatorHoldout: Processed 2035 (100.0%) in 17.03 sec. Users per second: 120\n",
      "EvaluatorHoldout: Processed 2035 (100.0%) in 16.72 sec. Users per second: 122\n",
      "Group 9, #users in group 2081, average p.len 18.42, median 18.0, min 18, max 19\n",
      "EvaluatorHoldout: Ignoring 1559 ( 3.7%) Users that have less than 1 test interactions\n",
      "EvaluatorHoldout: Ignoring 39548 Users\n"
     ]
    },
    {
     "name": "stderr",
     "output_type": "stream",
     "text": [
      "/Users/daniele/Desktop/RecSys/RecSysChallenge2023-Team/Evaluation/metrics.py:276: RuntimeWarning: overflow encountered in power\n",
      "  return np.sum(np.divide(np.power(2, scores) - 1, np.log2(np.arange(scores.shape[0], dtype=np.float64) + 2)),\n"
     ]
    },
    {
     "name": "stdout",
     "output_type": "stream",
     "text": [
      "EvaluatorHoldout: Processed 2048 (100.0%) in 1.76 sec. Users per second: 1166\n"
     ]
    },
    {
     "name": "stderr",
     "output_type": "stream",
     "text": [
      "/Users/daniele/Desktop/RecSys/RecSysChallenge2023-Team/Evaluation/metrics.py:276: RuntimeWarning: overflow encountered in power\n",
      "  return np.sum(np.divide(np.power(2, scores) - 1, np.log2(np.arange(scores.shape[0], dtype=np.float64) + 2)),\n",
      "/Users/daniele/Desktop/RecSys/RecSysChallenge2023-Team/Evaluation/metrics.py:270: RuntimeWarning: invalid value encountered in double_scalars\n",
      "  ndcg_ = rank_dcg / ideal_dcg\n"
     ]
    },
    {
     "name": "stdout",
     "output_type": "stream",
     "text": [
      "EvaluatorHoldout: Processed 2048 (100.0%) in 1.89 sec. Users per second: 1082\n"
     ]
    },
    {
     "name": "stderr",
     "output_type": "stream",
     "text": [
      "/Users/daniele/Desktop/RecSys/RecSysChallenge2023-Team/Evaluation/metrics.py:276: RuntimeWarning: overflow encountered in power\n",
      "  return np.sum(np.divide(np.power(2, scores) - 1, np.log2(np.arange(scores.shape[0], dtype=np.float64) + 2)),\n",
      "/Users/daniele/Desktop/RecSys/RecSysChallenge2023-Team/Evaluation/metrics.py:270: RuntimeWarning: invalid value encountered in double_scalars\n",
      "  ndcg_ = rank_dcg / ideal_dcg\n"
     ]
    },
    {
     "name": "stdout",
     "output_type": "stream",
     "text": [
      "EvaluatorHoldout: Processed 2048 (100.0%) in 1.86 sec. Users per second: 1100\n"
     ]
    },
    {
     "name": "stderr",
     "output_type": "stream",
     "text": [
      "/Users/daniele/Desktop/RecSys/RecSysChallenge2023-Team/Evaluation/metrics.py:276: RuntimeWarning: overflow encountered in power\n",
      "  return np.sum(np.divide(np.power(2, scores) - 1, np.log2(np.arange(scores.shape[0], dtype=np.float64) + 2)),\n",
      "/Users/daniele/Desktop/RecSys/RecSysChallenge2023-Team/Evaluation/metrics.py:270: RuntimeWarning: invalid value encountered in double_scalars\n",
      "  ndcg_ = rank_dcg / ideal_dcg\n"
     ]
    },
    {
     "name": "stdout",
     "output_type": "stream",
     "text": [
      "EvaluatorHoldout: Processed 2048 (100.0%) in 1.60 sec. Users per second: 1283\n"
     ]
    },
    {
     "name": "stderr",
     "output_type": "stream",
     "text": [
      "/Users/daniele/Desktop/RecSys/RecSysChallenge2023-Team/Evaluation/metrics.py:276: RuntimeWarning: overflow encountered in power\n",
      "  return np.sum(np.divide(np.power(2, scores) - 1, np.log2(np.arange(scores.shape[0], dtype=np.float64) + 2)),\n",
      "/Users/daniele/Desktop/RecSys/RecSysChallenge2023-Team/Evaluation/metrics.py:270: RuntimeWarning: invalid value encountered in double_scalars\n",
      "  ndcg_ = rank_dcg / ideal_dcg\n"
     ]
    },
    {
     "name": "stdout",
     "output_type": "stream",
     "text": [
      "EvaluatorHoldout: Processed 2048 (100.0%) in 2.53 sec. Users per second: 810\n"
     ]
    },
    {
     "name": "stderr",
     "output_type": "stream",
     "text": [
      "/Users/daniele/Desktop/RecSys/RecSysChallenge2023-Team/Evaluation/metrics.py:276: RuntimeWarning: overflow encountered in power\n",
      "  return np.sum(np.divide(np.power(2, scores) - 1, np.log2(np.arange(scores.shape[0], dtype=np.float64) + 2)),\n",
      "/Users/daniele/Desktop/RecSys/RecSysChallenge2023-Team/Evaluation/metrics.py:270: RuntimeWarning: invalid value encountered in double_scalars\n",
      "  ndcg_ = rank_dcg / ideal_dcg\n"
     ]
    },
    {
     "name": "stdout",
     "output_type": "stream",
     "text": [
      "EvaluatorHoldout: Processed 2048 (100.0%) in 29.20 sec. Users per second: 70\n"
     ]
    },
    {
     "name": "stderr",
     "output_type": "stream",
     "text": [
      "/Users/daniele/Desktop/RecSys/RecSysChallenge2023-Team/Evaluation/metrics.py:276: RuntimeWarning: overflow encountered in power\n",
      "  return np.sum(np.divide(np.power(2, scores) - 1, np.log2(np.arange(scores.shape[0], dtype=np.float64) + 2)),\n",
      "/Users/daniele/Desktop/RecSys/RecSysChallenge2023-Team/Evaluation/metrics.py:270: RuntimeWarning: invalid value encountered in double_scalars\n",
      "  ndcg_ = rank_dcg / ideal_dcg\n"
     ]
    },
    {
     "name": "stdout",
     "output_type": "stream",
     "text": [
      "EvaluatorHoldout: Processed 2048 (100.0%) in 14.94 sec. Users per second: 137\n"
     ]
    },
    {
     "name": "stderr",
     "output_type": "stream",
     "text": [
      "/Users/daniele/Desktop/RecSys/RecSysChallenge2023-Team/Evaluation/metrics.py:276: RuntimeWarning: overflow encountered in power\n",
      "  return np.sum(np.divide(np.power(2, scores) - 1, np.log2(np.arange(scores.shape[0], dtype=np.float64) + 2)),\n",
      "/Users/daniele/Desktop/RecSys/RecSysChallenge2023-Team/Evaluation/metrics.py:270: RuntimeWarning: invalid value encountered in double_scalars\n",
      "  ndcg_ = rank_dcg / ideal_dcg\n"
     ]
    },
    {
     "name": "stdout",
     "output_type": "stream",
     "text": [
      "EvaluatorHoldout: Processed 2048 (100.0%) in 15.18 sec. Users per second: 135\n",
      "Group 10, #users in group 2081, average p.len 19.75, median 20.0, min 19, max 21\n",
      "EvaluatorHoldout: Ignoring 1559 ( 3.7%) Users that have less than 1 test interactions\n",
      "EvaluatorHoldout: Ignoring 39548 Users\n",
      "EvaluatorHoldout: Processed 2047 (100.0%) in 1.79 sec. Users per second: 1144\n",
      "EvaluatorHoldout: Processed 2047 (100.0%) in 1.89 sec. Users per second: 1082\n",
      "EvaluatorHoldout: Processed 2047 (100.0%) in 1.88 sec. Users per second: 1089\n",
      "EvaluatorHoldout: Processed 2047 (100.0%) in 1.23 sec. Users per second: 1667\n",
      "EvaluatorHoldout: Processed 2047 (100.0%) in 1.88 sec. Users per second: 1089\n",
      "EvaluatorHoldout: Processed 2047 (100.0%) in 34.32 sec. Users per second: 60\n",
      "EvaluatorHoldout: Processed 2047 (100.0%) in 17.25 sec. Users per second: 119\n",
      "EvaluatorHoldout: Processed 2047 (100.0%) in 23.24 sec. Users per second: 88\n",
      "Group 11, #users in group 2081, average p.len 21.44, median 21.0, min 21, max 22\n",
      "EvaluatorHoldout: Ignoring 1559 ( 3.7%) Users that have less than 1 test interactions\n",
      "EvaluatorHoldout: Ignoring 39548 Users\n",
      "EvaluatorHoldout: Processed 2064 (100.0%) in 1.83 sec. Users per second: 1127\n",
      "EvaluatorHoldout: Processed 2064 (100.0%) in 2.02 sec. Users per second: 1023\n",
      "EvaluatorHoldout: Processed 2064 (100.0%) in 1.93 sec. Users per second: 1068\n",
      "EvaluatorHoldout: Processed 2064 (100.0%) in 1.23 sec. Users per second: 1680\n",
      "EvaluatorHoldout: Processed 2064 (100.0%) in 1.98 sec. Users per second: 1043\n",
      "EvaluatorHoldout: Processed 2064 (100.0%) in 39.16 sec. Users per second: 53\n",
      "EvaluatorHoldout: Processed 2064 (100.0%) in 31.68 sec. Users per second: 65\n",
      "EvaluatorHoldout: Processed 2064 (100.0%) in 16.89 sec. Users per second: 122\n",
      "Group 12, #users in group 2081, average p.len 23.21, median 23.0, min 22, max 24\n",
      "EvaluatorHoldout: Ignoring 1559 ( 3.7%) Users that have less than 1 test interactions\n",
      "EvaluatorHoldout: Ignoring 39548 Users\n",
      "EvaluatorHoldout: Processed 2072 (100.0%) in 1.82 sec. Users per second: 1140\n",
      "EvaluatorHoldout: Processed 2072 (100.0%) in 2.01 sec. Users per second: 1029\n",
      "EvaluatorHoldout: Processed 2072 (100.0%) in 1.98 sec. Users per second: 1045\n",
      "EvaluatorHoldout: Processed 2072 (100.0%) in 1.24 sec. Users per second: 1673\n",
      "EvaluatorHoldout: Processed 2072 (100.0%) in 2.01 sec. Users per second: 1029\n",
      "EvaluatorHoldout: Processed 2072 (100.0%) in 16.63 sec. Users per second: 125\n",
      "EvaluatorHoldout: Processed 2072 (100.0%) in 17.13 sec. Users per second: 121\n",
      "EvaluatorHoldout: Processed 2072 (100.0%) in 20.03 sec. Users per second: 103\n",
      "Group 13, #users in group 2081, average p.len 25.49, median 25.0, min 24, max 27\n",
      "EvaluatorHoldout: Ignoring 1559 ( 3.7%) Users that have less than 1 test interactions\n",
      "EvaluatorHoldout: Ignoring 39548 Users\n",
      "EvaluatorHoldout: Processed 2074 (100.0%) in 1.86 sec. Users per second: 1113\n",
      "EvaluatorHoldout: Processed 2074 (100.0%) in 2.16 sec. Users per second: 959\n",
      "EvaluatorHoldout: Processed 2074 (100.0%) in 2.06 sec. Users per second: 1008\n",
      "EvaluatorHoldout: Processed 2074 (100.0%) in 1.24 sec. Users per second: 1672\n",
      "EvaluatorHoldout: Processed 2074 (100.0%) in 2.21 sec. Users per second: 939\n",
      "EvaluatorHoldout: Processed 2074 (100.0%) in 32.49 sec. Users per second: 64\n",
      "EvaluatorHoldout: Processed 2074 (100.0%) in 21.74 sec. Users per second: 95\n",
      "EvaluatorHoldout: Processed 2074 (100.0%) in 39.85 sec. Users per second: 52\n",
      "Group 14, #users in group 2081, average p.len 28.37, median 28.0, min 27, max 30\n",
      "EvaluatorHoldout: Ignoring 1559 ( 3.7%) Users that have less than 1 test interactions\n",
      "EvaluatorHoldout: Ignoring 39548 Users\n",
      "EvaluatorHoldout: Processed 2078 (100.0%) in 1.88 sec. Users per second: 1104\n",
      "EvaluatorHoldout: Processed 2078 (100.0%) in 2.19 sec. Users per second: 950\n",
      "EvaluatorHoldout: Processed 2078 (100.0%) in 2.14 sec. Users per second: 972\n",
      "EvaluatorHoldout: Processed 2078 (100.0%) in 1.26 sec. Users per second: 1652\n",
      "EvaluatorHoldout: Processed 2078 (100.0%) in 2.18 sec. Users per second: 955\n",
      "EvaluatorHoldout: Processed 2078 (100.0%) in 22.03 sec. Users per second: 94\n",
      "EvaluatorHoldout: Processed 2078 (100.0%) in 36.88 sec. Users per second: 56\n",
      "EvaluatorHoldout: Processed 2078 (100.0%) in 17.64 sec. Users per second: 118\n",
      "Group 15, #users in group 2081, average p.len 31.88, median 32.0, min 30, max 34\n",
      "EvaluatorHoldout: Ignoring 1559 ( 3.7%) Users that have less than 1 test interactions\n",
      "EvaluatorHoldout: Ignoring 39548 Users\n",
      "EvaluatorHoldout: Processed 2078 (100.0%) in 1.95 sec. Users per second: 1064\n",
      "EvaluatorHoldout: Processed 2078 (100.0%) in 2.39 sec. Users per second: 870\n",
      "EvaluatorHoldout: Processed 2078 (100.0%) in 2.16 sec. Users per second: 962\n",
      "EvaluatorHoldout: Processed 2078 (100.0%) in 1.25 sec. Users per second: 1663\n",
      "EvaluatorHoldout: Processed 2078 (100.0%) in 2.18 sec. Users per second: 952\n",
      "EvaluatorHoldout: Processed 2078 (100.0%) in 17.39 sec. Users per second: 120\n",
      "EvaluatorHoldout: Processed 2078 (100.0%) in 19.82 sec. Users per second: 105\n",
      "EvaluatorHoldout: Processed 2078 (100.0%) in 27.50 sec. Users per second: 76\n",
      "Group 16, #users in group 2081, average p.len 36.44, median 36.0, min 34, max 39\n",
      "EvaluatorHoldout: Ignoring 1559 ( 3.7%) Users that have less than 1 test interactions\n",
      "EvaluatorHoldout: Ignoring 39548 Users\n",
      "EvaluatorHoldout: Processed 2081 (100.0%) in 1.95 sec. Users per second: 1069\n",
      "EvaluatorHoldout: Processed 2081 (100.0%) in 2.29 sec. Users per second: 909\n",
      "EvaluatorHoldout: Processed 2081 (100.0%) in 2.23 sec. Users per second: 932\n",
      "EvaluatorHoldout: Processed 2081 (100.0%) in 1.27 sec. Users per second: 1639\n",
      "EvaluatorHoldout: Processed 2081 (100.0%) in 2.26 sec. Users per second: 920\n",
      "EvaluatorHoldout: Processed 2081 (100.0%) in 17.93 sec. Users per second: 116\n",
      "EvaluatorHoldout: Processed 2081 (100.0%) in 21.09 sec. Users per second: 99\n",
      "EvaluatorHoldout: Processed 2081 (100.0%) in 33.38 sec. Users per second: 62\n",
      "Group 17, #users in group 2081, average p.len 43.14, median 43.0, min 39, max 48\n",
      "EvaluatorHoldout: Ignoring 1559 ( 3.7%) Users that have less than 1 test interactions\n",
      "EvaluatorHoldout: Ignoring 39548 Users\n",
      "EvaluatorHoldout: Processed 2081 (100.0%) in 2.00 sec. Users per second: 1042\n"
     ]
    },
    {
     "name": "stderr",
     "output_type": "stream",
     "text": [
      "/Users/daniele/Desktop/RecSys/RecSysChallenge2023-Team/Evaluation/metrics.py:276: RuntimeWarning: overflow encountered in power\n",
      "  return np.sum(np.divide(np.power(2, scores) - 1, np.log2(np.arange(scores.shape[0], dtype=np.float64) + 2)),\n"
     ]
    },
    {
     "name": "stdout",
     "output_type": "stream",
     "text": [
      "EvaluatorHoldout: Processed 2081 (100.0%) in 2.34 sec. Users per second: 888\n"
     ]
    },
    {
     "name": "stderr",
     "output_type": "stream",
     "text": [
      "/Users/daniele/Desktop/RecSys/RecSysChallenge2023-Team/Evaluation/metrics.py:276: RuntimeWarning: overflow encountered in power\n",
      "  return np.sum(np.divide(np.power(2, scores) - 1, np.log2(np.arange(scores.shape[0], dtype=np.float64) + 2)),\n"
     ]
    },
    {
     "name": "stdout",
     "output_type": "stream",
     "text": [
      "EvaluatorHoldout: Processed 2081 (100.0%) in 2.39 sec. Users per second: 872\n"
     ]
    },
    {
     "name": "stderr",
     "output_type": "stream",
     "text": [
      "/Users/daniele/Desktop/RecSys/RecSysChallenge2023-Team/Evaluation/metrics.py:276: RuntimeWarning: overflow encountered in power\n",
      "  return np.sum(np.divide(np.power(2, scores) - 1, np.log2(np.arange(scores.shape[0], dtype=np.float64) + 2)),\n"
     ]
    },
    {
     "name": "stdout",
     "output_type": "stream",
     "text": [
      "EvaluatorHoldout: Processed 2081 (100.0%) in 1.28 sec. Users per second: 1622\n"
     ]
    },
    {
     "name": "stderr",
     "output_type": "stream",
     "text": [
      "/Users/daniele/Desktop/RecSys/RecSysChallenge2023-Team/Evaluation/metrics.py:276: RuntimeWarning: overflow encountered in power\n",
      "  return np.sum(np.divide(np.power(2, scores) - 1, np.log2(np.arange(scores.shape[0], dtype=np.float64) + 2)),\n"
     ]
    },
    {
     "name": "stdout",
     "output_type": "stream",
     "text": [
      "EvaluatorHoldout: Processed 2081 (100.0%) in 2.32 sec. Users per second: 895\n"
     ]
    },
    {
     "name": "stderr",
     "output_type": "stream",
     "text": [
      "/Users/daniele/Desktop/RecSys/RecSysChallenge2023-Team/Evaluation/metrics.py:276: RuntimeWarning: overflow encountered in power\n",
      "  return np.sum(np.divide(np.power(2, scores) - 1, np.log2(np.arange(scores.shape[0], dtype=np.float64) + 2)),\n",
      "/Users/daniele/Desktop/RecSys/RecSysChallenge2023-Team/Evaluation/metrics.py:276: RuntimeWarning: overflow encountered in power\n",
      "  return np.sum(np.divide(np.power(2, scores) - 1, np.log2(np.arange(scores.shape[0], dtype=np.float64) + 2)),\n"
     ]
    },
    {
     "name": "stdout",
     "output_type": "stream",
     "text": [
      "EvaluatorHoldout: Processed 2081 (100.0%) in 17.90 sec. Users per second: 116\n"
     ]
    },
    {
     "name": "stderr",
     "output_type": "stream",
     "text": [
      "/Users/daniele/Desktop/RecSys/RecSysChallenge2023-Team/Evaluation/metrics.py:276: RuntimeWarning: overflow encountered in power\n",
      "  return np.sum(np.divide(np.power(2, scores) - 1, np.log2(np.arange(scores.shape[0], dtype=np.float64) + 2)),\n"
     ]
    },
    {
     "name": "stdout",
     "output_type": "stream",
     "text": [
      "EvaluatorHoldout: Processed 2081 (100.0%) in 20.95 sec. Users per second: 99\n"
     ]
    },
    {
     "name": "stderr",
     "output_type": "stream",
     "text": [
      "/Users/daniele/Desktop/RecSys/RecSysChallenge2023-Team/Evaluation/metrics.py:276: RuntimeWarning: overflow encountered in power\n",
      "  return np.sum(np.divide(np.power(2, scores) - 1, np.log2(np.arange(scores.shape[0], dtype=np.float64) + 2)),\n"
     ]
    },
    {
     "name": "stdout",
     "output_type": "stream",
     "text": [
      "EvaluatorHoldout: Processed 2081 (100.0%) in 38.76 sec. Users per second: 54\n",
      "Group 18, #users in group 2081, average p.len 54.12, median 54.0, min 48, max 62\n",
      "EvaluatorHoldout: Ignoring 1559 ( 3.7%) Users that have less than 1 test interactions\n",
      "EvaluatorHoldout: Ignoring 39548 Users\n",
      "EvaluatorHoldout: Processed 2081 (100.0%) in 2.12 sec. Users per second: 984\n"
     ]
    },
    {
     "name": "stderr",
     "output_type": "stream",
     "text": [
      "/Users/daniele/Desktop/RecSys/RecSysChallenge2023-Team/Evaluation/metrics.py:276: RuntimeWarning: overflow encountered in power\n",
      "  return np.sum(np.divide(np.power(2, scores) - 1, np.log2(np.arange(scores.shape[0], dtype=np.float64) + 2)),\n"
     ]
    },
    {
     "name": "stdout",
     "output_type": "stream",
     "text": [
      "EvaluatorHoldout: Processed 2081 (100.0%) in 2.48 sec. Users per second: 839\n"
     ]
    },
    {
     "name": "stderr",
     "output_type": "stream",
     "text": [
      "/Users/daniele/Desktop/RecSys/RecSysChallenge2023-Team/Evaluation/metrics.py:276: RuntimeWarning: overflow encountered in power\n",
      "  return np.sum(np.divide(np.power(2, scores) - 1, np.log2(np.arange(scores.shape[0], dtype=np.float64) + 2)),\n"
     ]
    },
    {
     "name": "stdout",
     "output_type": "stream",
     "text": [
      "EvaluatorHoldout: Processed 2081 (100.0%) in 2.43 sec. Users per second: 856\n"
     ]
    },
    {
     "name": "stderr",
     "output_type": "stream",
     "text": [
      "/Users/daniele/Desktop/RecSys/RecSysChallenge2023-Team/Evaluation/metrics.py:276: RuntimeWarning: overflow encountered in power\n",
      "  return np.sum(np.divide(np.power(2, scores) - 1, np.log2(np.arange(scores.shape[0], dtype=np.float64) + 2)),\n"
     ]
    },
    {
     "name": "stdout",
     "output_type": "stream",
     "text": [
      "EvaluatorHoldout: Processed 2081 (100.0%) in 1.30 sec. Users per second: 1599\n"
     ]
    },
    {
     "name": "stderr",
     "output_type": "stream",
     "text": [
      "/Users/daniele/Desktop/RecSys/RecSysChallenge2023-Team/Evaluation/metrics.py:276: RuntimeWarning: overflow encountered in power\n",
      "  return np.sum(np.divide(np.power(2, scores) - 1, np.log2(np.arange(scores.shape[0], dtype=np.float64) + 2)),\n"
     ]
    },
    {
     "name": "stdout",
     "output_type": "stream",
     "text": [
      "EvaluatorHoldout: Processed 2081 (100.0%) in 2.45 sec. Users per second: 849\n"
     ]
    },
    {
     "name": "stderr",
     "output_type": "stream",
     "text": [
      "/Users/daniele/Desktop/RecSys/RecSysChallenge2023-Team/Evaluation/metrics.py:276: RuntimeWarning: overflow encountered in power\n",
      "  return np.sum(np.divide(np.power(2, scores) - 1, np.log2(np.arange(scores.shape[0], dtype=np.float64) + 2)),\n"
     ]
    },
    {
     "name": "stdout",
     "output_type": "stream",
     "text": [
      "EvaluatorHoldout: Processed 2081 (100.0%) in 19.65 sec. Users per second: 106\n"
     ]
    },
    {
     "name": "stderr",
     "output_type": "stream",
     "text": [
      "/Users/daniele/Desktop/RecSys/RecSysChallenge2023-Team/Evaluation/metrics.py:276: RuntimeWarning: overflow encountered in power\n",
      "  return np.sum(np.divide(np.power(2, scores) - 1, np.log2(np.arange(scores.shape[0], dtype=np.float64) + 2)),\n"
     ]
    },
    {
     "name": "stdout",
     "output_type": "stream",
     "text": [
      "EvaluatorHoldout: Processed 2081 (100.0%) in 16.03 sec. Users per second: 130\n"
     ]
    },
    {
     "name": "stderr",
     "output_type": "stream",
     "text": [
      "/Users/daniele/Desktop/RecSys/RecSysChallenge2023-Team/Evaluation/metrics.py:276: RuntimeWarning: overflow encountered in power\n",
      "  return np.sum(np.divide(np.power(2, scores) - 1, np.log2(np.arange(scores.shape[0], dtype=np.float64) + 2)),\n"
     ]
    },
    {
     "name": "stdout",
     "output_type": "stream",
     "text": [
      "EvaluatorHoldout: Processed 2081 (100.0%) in 15.50 sec. Users per second: 134\n",
      "Group 19, #users in group 2081, average p.len 87.91, median 78.0, min 62, max 281\n",
      "EvaluatorHoldout: Ignoring 1559 ( 3.7%) Users that have less than 1 test interactions\n",
      "EvaluatorHoldout: Ignoring 39548 Users\n",
      "EvaluatorHoldout: Processed 2081 (100.0%) in 2.40 sec. Users per second: 869\n",
      "EvaluatorHoldout: Processed 2081 (100.0%) in 2.64 sec. Users per second: 788\n",
      "EvaluatorHoldout: Processed 2081 (100.0%) in 2.63 sec. Users per second: 792\n",
      "EvaluatorHoldout: Processed 2081 (100.0%) in 1.35 sec. Users per second: 1540\n",
      "EvaluatorHoldout: Processed 2081 (100.0%) in 2.62 sec. Users per second: 794\n",
      "EvaluatorHoldout: Processed 2081 (100.0%) in 17.28 sec. Users per second: 120\n",
      "EvaluatorHoldout: Processed 2081 (100.0%) in 18.69 sec. Users per second: 111\n",
      "EvaluatorHoldout: Processed 2081 (100.0%) in 31.95 sec. Users per second: 65\n"
     ]
    }
   ],
   "source": [
    "cutoff = 10\n",
    "\n",
    "for group_id in range(0, 20):\n",
    "    \n",
    "    start_pos = group_id*block_size\n",
    "    end_pos = min((group_id+1)*block_size, len(profile_length))\n",
    "    \n",
    "    users_in_group = sorted_users[start_pos:end_pos]\n",
    "    \n",
    "    users_in_group_p_len = profile_length[users_in_group]\n",
    "    \n",
    "    print(\"Group {}, #users in group {}, average p.len {:.2f}, median {}, min {}, max {}\".format(\n",
    "        group_id, \n",
    "        users_in_group.shape[0],\n",
    "        users_in_group_p_len.mean(),\n",
    "        np.median(users_in_group_p_len),\n",
    "        users_in_group_p_len.min(),\n",
    "        users_in_group_p_len.max()))\n",
    "    \n",
    "    \n",
    "    users_not_in_group_flag = np.isin(sorted_users, users_in_group, invert=True)\n",
    "    users_not_in_group = sorted_users[users_not_in_group_flag]\n",
    "    \n",
    "    evaluator_test = EvaluatorHoldout(URMv_test, cutoff_list=[cutoff], ignore_users=users_not_in_group)\n",
    "    \n",
    "    for label, recommender in recommender_object_dict.items():\n",
    "        result_df, _ = evaluator_test.evaluateRecommender(recommender)\n",
    "        if label in MAP_recommender_per_group:\n",
    "            MAP_recommender_per_group[label].append(result_df.loc[cutoff][\"MAP\"])\n",
    "        else:\n",
    "            MAP_recommender_per_group[label] = [result_df.loc[cutoff][\"MAP\"]]"
   ]
  },
  {
   "cell_type": "code",
   "execution_count": 17,
   "metadata": {},
   "outputs": [
    {
     "data": {
      "image/png": "[encoded data removed]",
      "text/plain": [
       "<Figure size 1400x2000 with 1 Axes>"
      ]
     },
     "metadata": {},
     "output_type": "display_data"
    }
   ],
   "source": [
    "import matplotlib.pyplot as plt\n",
    "%matplotlib inline  \n",
    "\n",
    "_ = plt.figure(figsize=(14, 20))\n",
    "for label, recommender in reversed( recommender_object_dict.items()):\n",
    "    results = MAP_recommender_per_group[label]\n",
    "    plt.scatter(x=np.arange(0,len(results)), y=results, label=label,)\n",
    "plt.ylabel('MAP')\n",
    "plt.xlabel('User Group')\n",
    "plt.legend()\n",
    "plt.show()"
   ]
  },
  {
   "cell_type": "code",
   "execution_count": 15,
   "metadata": {},
   "outputs": [
    {
     "name": "stdout",
     "output_type": "stream",
     "text": [
      "EvaluatorHoldout: Ignoring 1559 ( 3.7%) Users that have less than 1 test interactions\n"
     ]
    },
    {
     "name": "stderr",
     "output_type": "stream",
     "text": [
      "/Users/daniele/Desktop/RecSys/RecSysChallenge2023-Team/Evaluation/metrics.py:276: RuntimeWarning: overflow encountered in power\n",
      "  return np.sum(np.divide(np.power(2, scores) - 1, np.log2(np.arange(scores.shape[0], dtype=np.float64) + 2)),\n",
      "/Users/daniele/Desktop/RecSys/RecSysChallenge2023-Team/Evaluation/metrics.py:270: RuntimeWarning: invalid value encountered in double_scalars\n",
      "  ndcg_ = rank_dcg / ideal_dcg\n"
     ]
    },
    {
     "name": "stdout",
     "output_type": "stream",
     "text": [
      "EvaluatorHoldout: Processed 40070 (100.0%) in 24.76 sec. Users per second: 1618\n"
     ]
    },
    {
     "data": {
      "text/html": [
       "<div>\n",
       "<style scoped>\n",
       "    .dataframe tbody tr th:only-of-type {\n",
       "        vertical-align: middle;\n",
       "    }\n",
       "\n",
       "    .dataframe tbody tr th {\n",
       "        vertical-align: top;\n",
       "    }\n",
       "\n",
       "    .dataframe thead th {\n",
       "        text-align: right;\n",
       "    }\n",
       "</style>\n",
       "<table border=\"1\" class=\"dataframe\">\n",
       "  <thead>\n",
       "    <tr style=\"text-align: right;\">\n",
       "      <th></th>\n",
       "      <th>PRECISION</th>\n",
       "      <th>PRECISION_RECALL_MIN_DEN</th>\n",
       "      <th>RECALL</th>\n",
       "      <th>MAP</th>\n",
       "      <th>MAP_MIN_DEN</th>\n",
       "      <th>MRR</th>\n",
       "      <th>NDCG</th>\n",
       "      <th>F1</th>\n",
       "      <th>HIT_RATE</th>\n",
       "      <th>ARHR_ALL_HITS</th>\n",
       "      <th>...</th>\n",
       "      <th>COVERAGE_USER</th>\n",
       "      <th>COVERAGE_USER_HIT</th>\n",
       "      <th>USERS_IN_GT</th>\n",
       "      <th>DIVERSITY_GINI</th>\n",
       "      <th>SHANNON_ENTROPY</th>\n",
       "      <th>RATIO_DIVERSITY_HERFINDAHL</th>\n",
       "      <th>RATIO_DIVERSITY_GINI</th>\n",
       "      <th>RATIO_SHANNON_ENTROPY</th>\n",
       "      <th>RATIO_AVERAGE_POPULARITY</th>\n",
       "      <th>RATIO_NOVELTY</th>\n",
       "    </tr>\n",
       "    <tr>\n",
       "      <th>cutoff</th>\n",
       "      <th></th>\n",
       "      <th></th>\n",
       "      <th></th>\n",
       "      <th></th>\n",
       "      <th></th>\n",
       "      <th></th>\n",
       "      <th></th>\n",
       "      <th></th>\n",
       "      <th></th>\n",
       "      <th></th>\n",
       "      <th></th>\n",
       "      <th></th>\n",
       "      <th></th>\n",
       "      <th></th>\n",
       "      <th></th>\n",
       "      <th></th>\n",
       "      <th></th>\n",
       "      <th></th>\n",
       "      <th></th>\n",
       "      <th></th>\n",
       "      <th></th>\n",
       "    </tr>\n",
       "  </thead>\n",
       "  <tbody>\n",
       "    <tr>\n",
       "      <th>10</th>\n",
       "      <td>0.042855</td>\n",
       "      <td>0.072939</td>\n",
       "      <td>0.068376</td>\n",
       "      <td>0.021321</td>\n",
       "      <td>0.035733</td>\n",
       "      <td>0.141354</td>\n",
       "      <td>NaN</td>\n",
       "      <td>0.052688</td>\n",
       "      <td>0.282705</td>\n",
       "      <td>0.172032</td>\n",
       "      <td>...</td>\n",
       "      <td>0.96255</td>\n",
       "      <td>0.272118</td>\n",
       "      <td>0.96255</td>\n",
       "      <td>0.016824</td>\n",
       "      <td>8.968007</td>\n",
       "      <td>0.995176</td>\n",
       "      <td>0.038472</td>\n",
       "      <td>0.666857</td>\n",
       "      <td>3.618898</td>\n",
       "      <td>0.268092</td>\n",
       "    </tr>\n",
       "  </tbody>\n",
       "</table>\n",
       "<p>1 rows × 27 columns</p>\n",
       "</div>"
      ],
      "text/plain": [
       "       PRECISION PRECISION_RECALL_MIN_DEN    RECALL       MAP MAP_MIN_DEN  \\\n",
       "cutoff                                                                      \n",
       "10      0.042855                 0.072939  0.068376  0.021321    0.035733   \n",
       "\n",
       "             MRR NDCG        F1  HIT_RATE ARHR_ALL_HITS  ... COVERAGE_USER  \\\n",
       "cutoff                                                   ...                 \n",
       "10      0.141354  NaN  0.052688  0.282705      0.172032  ...       0.96255   \n",
       "\n",
       "       COVERAGE_USER_HIT USERS_IN_GT DIVERSITY_GINI SHANNON_ENTROPY  \\\n",
       "cutoff                                                                \n",
       "10              0.272118     0.96255       0.016824        8.968007   \n",
       "\n",
       "       RATIO_DIVERSITY_HERFINDAHL RATIO_DIVERSITY_GINI RATIO_SHANNON_ENTROPY  \\\n",
       "cutoff                                                                         \n",
       "10                       0.995176             0.038472              0.666857   \n",
       "\n",
       "       RATIO_AVERAGE_POPULARITY RATIO_NOVELTY  \n",
       "cutoff                                         \n",
       "10                     3.618898      0.268092  \n",
       "\n",
       "[1 rows x 27 columns]"
      ]
     },
     "execution_count": 15,
     "metadata": {},
     "output_type": "execute_result"
    }
   ],
   "source": [
    "evaluator_test = EvaluatorHoldout(URMv_test, [10])\n",
    "ris, _ = evaluator_test.evaluateRecommender(slim_elastic_high)\n",
    "ris"
   ]
  },
  {
   "attachments": {},
   "cell_type": "markdown",
   "metadata": {},
   "source": [
    "### Altre prove"
   ]
  },
  {
   "cell_type": "code",
   "execution_count": 7,
   "metadata": {},
   "outputs": [
    {
     "name": "stdout",
     "output_type": "stream",
     "text": [
      "ItemKNN_CFCBF_HybridRecommender: URM Detected 2 ( 0.0%) users with no interactions.\n",
      "Similarity column 27968 (100.0%), 2511.94 column/sec. Elapsed time 11.13 sec\n"
     ]
    }
   ],
   "source": [
    "from Recommenders.KNN.ItemKNN_CFCBF_Hybrid_Recommender import ItemKNN_CFCBF_Hybrid_Recommender\n",
    "\n",
    "knn = ItemKNN_CFCBF_Hybrid_Recommender(urm_def,mm.augmentedICM(ICMt, ICMl)) \n",
    "knn.fit(topK= 674, shrink= 613, similarity= 'cosine', normalize= True, feature_weighting='TF-IDF')"
   ]
  },
  {
   "cell_type": "code",
   "execution_count": 8,
   "metadata": {},
   "outputs": [
    {
     "name": "stdout",
     "output_type": "stream",
     "text": [
      "RP3betaRecommender: URM Detected 3461 (12.4%) items with no interactions.\n",
      "RP3betaRecommender: Similarity column 27968 (100.0%), 4321.31 column/sec. Elapsed time 6.47 sec\n"
     ]
    }
   ],
   "source": [
    "from Recommenders.GraphBased.RP3betaRecommender import RP3betaRecommender\n",
    "\n",
    "rp3beta_high = RP3betaRecommender(urm_bin)\n",
    "# {'topK': 91, 'alpha': 0.7758215673815734, 'beta': 0.2719143753442684, 'normalize_similarity': True} -> MAP 0.0.0273508\n",
    "rp3beta_high.fit( topK=91, alpha=0.7758215673815734, beta=0.2719143753442684, normalize_similarity=True )"
   ]
  },
  {
   "cell_type": "code",
   "execution_count": 11,
   "metadata": {},
   "outputs": [],
   "source": [
    "MAP_recommender_per_group = {}\n",
    "recommender_object_dict = {}\n",
    "\n",
    "recommender_class = {\"knn\" :knn,\n",
    "                     \"rp3beta_high\" : rp3beta_high,\n",
    "                     \"slim_elastic_high\" : slim_elastic_high,\n",
    "                     \"BPR_low\": sslim_recommender,                               \n",
    "                     \n",
    "                     }\n",
    "\n",
    "\n",
    "for label, recommender_obj in recommender_class.items():\n",
    "    recommender_object_dict[label] = recommender_obj"
   ]
  },
  {
   "cell_type": "code",
   "execution_count": 14,
   "metadata": {},
   "outputs": [
    {
     "name": "stdout",
     "output_type": "stream",
     "text": [
      "Group 0, #users in group 2081, average p.len 6.98, median 7.0, min 2, max 9\n",
      "EvaluatorHoldout: Ignoring 1559 ( 3.7%) Users that have less than 1 test interactions\n",
      "EvaluatorHoldout: Ignoring 39548 Users\n",
      "EvaluatorHoldout: Processed 1625 (100.0%) in 1.46 sec. Users per second: 1116\n",
      "EvaluatorHoldout: Processed 1625 (100.0%) in 1.15 sec. Users per second: 1419\n",
      "EvaluatorHoldout: Processed 1625 (100.0%) in 1.82 sec. Users per second: 894\n",
      "EvaluatorHoldout: Processed 1625 (100.0%) in 1.23 sec. Users per second: 1317\n",
      "Group 1, #users in group 2081, average p.len 9.43, median 9.0, min 9, max 10\n",
      "EvaluatorHoldout: Ignoring 1559 ( 3.7%) Users that have less than 1 test interactions\n",
      "EvaluatorHoldout: Ignoring 39548 Users\n",
      "EvaluatorHoldout: Processed 1844 (100.0%) in 1.57 sec. Users per second: 1172\n",
      "EvaluatorHoldout: Processed 1844 (100.0%) in 1.16 sec. Users per second: 1585\n",
      "EvaluatorHoldout: Processed 1844 (100.0%) in 2.35 sec. Users per second: 785\n",
      "EvaluatorHoldout: Processed 1844 (100.0%) in 1.95 sec. Users per second: 944\n",
      "Group 2, #users in group 2081, average p.len 10.69, median 11.0, min 10, max 11\n",
      "EvaluatorHoldout: Ignoring 1559 ( 3.7%) Users that have less than 1 test interactions\n",
      "EvaluatorHoldout: Ignoring 39548 Users\n",
      "EvaluatorHoldout: Processed 1895 (100.0%) in 2.09 sec. Users per second: 905\n",
      "EvaluatorHoldout: Processed 1895 (100.0%) in 1.20 sec. Users per second: 1583\n",
      "EvaluatorHoldout: Processed 1895 (100.0%) in 1.53 sec. Users per second: 1241\n",
      "EvaluatorHoldout: Processed 1895 (100.0%) in 1.15 sec. Users per second: 1647\n",
      "Group 3, #users in group 2081, average p.len 11.83, median 12.0, min 11, max 12\n",
      "EvaluatorHoldout: Ignoring 1559 ( 3.7%) Users that have less than 1 test interactions\n",
      "EvaluatorHoldout: Ignoring 39548 Users\n",
      "EvaluatorHoldout: Processed 1908 (100.0%) in 1.70 sec. Users per second: 1125\n",
      "EvaluatorHoldout: Processed 1908 (100.0%) in 1.22 sec. Users per second: 1562\n",
      "EvaluatorHoldout: Processed 1908 (100.0%) in 1.65 sec. Users per second: 1154\n",
      "EvaluatorHoldout: Processed 1908 (100.0%) in 1.20 sec. Users per second: 1593\n",
      "Group 4, #users in group 2081, average p.len 12.88, median 13.0, min 12, max 13\n",
      "EvaluatorHoldout: Ignoring 1559 ( 3.7%) Users that have less than 1 test interactions\n",
      "EvaluatorHoldout: Ignoring 39548 Users\n",
      "EvaluatorHoldout: Processed 1953 (100.0%) in 1.70 sec. Users per second: 1148\n",
      "EvaluatorHoldout: Processed 1953 (100.0%) in 1.20 sec. Users per second: 1627\n",
      "EvaluatorHoldout: Processed 1953 (100.0%) in 1.59 sec. Users per second: 1225\n",
      "EvaluatorHoldout: Processed 1953 (100.0%) in 1.16 sec. Users per second: 1678\n",
      "Group 5, #users in group 2081, average p.len 13.92, median 14.0, min 13, max 14\n",
      "EvaluatorHoldout: Ignoring 1559 ( 3.7%) Users that have less than 1 test interactions\n",
      "EvaluatorHoldout: Ignoring 39548 Users\n",
      "EvaluatorHoldout: Processed 1984 (100.0%) in 1.75 sec. Users per second: 1133\n",
      "EvaluatorHoldout: Processed 1984 (100.0%) in 1.22 sec. Users per second: 1632\n",
      "EvaluatorHoldout: Processed 1984 (100.0%) in 1.64 sec. Users per second: 1211\n",
      "EvaluatorHoldout: Processed 1984 (100.0%) in 1.20 sec. Users per second: 1658\n",
      "Group 6, #users in group 2081, average p.len 14.92, median 15.0, min 14, max 15\n",
      "EvaluatorHoldout: Ignoring 1559 ( 3.7%) Users that have less than 1 test interactions\n",
      "EvaluatorHoldout: Ignoring 39548 Users\n",
      "EvaluatorHoldout: Processed 2005 (100.0%) in 1.80 sec. Users per second: 1115\n",
      "EvaluatorHoldout: Processed 2005 (100.0%) in 1.22 sec. Users per second: 1650\n",
      "EvaluatorHoldout: Processed 2005 (100.0%) in 1.68 sec. Users per second: 1193\n",
      "EvaluatorHoldout: Processed 2005 (100.0%) in 1.19 sec. Users per second: 1687\n",
      "Group 7, #users in group 2081, average p.len 16.00, median 16.0, min 15, max 17\n",
      "EvaluatorHoldout: Ignoring 1559 ( 3.7%) Users that have less than 1 test interactions\n",
      "EvaluatorHoldout: Ignoring 39548 Users\n",
      "EvaluatorHoldout: Processed 2027 (100.0%) in 1.83 sec. Users per second: 1107\n",
      "EvaluatorHoldout: Processed 2027 (100.0%) in 1.23 sec. Users per second: 1649\n",
      "EvaluatorHoldout: Processed 2027 (100.0%) in 1.71 sec. Users per second: 1185\n",
      "EvaluatorHoldout: Processed 2027 (100.0%) in 1.18 sec. Users per second: 1717\n",
      "Group 8, #users in group 2081, average p.len 17.22, median 17.0, min 17, max 18\n",
      "EvaluatorHoldout: Ignoring 1559 ( 3.7%) Users that have less than 1 test interactions\n",
      "EvaluatorHoldout: Ignoring 39548 Users\n",
      "EvaluatorHoldout: Processed 2035 (100.0%) in 1.89 sec. Users per second: 1078\n",
      "EvaluatorHoldout: Processed 2035 (100.0%) in 1.23 sec. Users per second: 1652\n",
      "EvaluatorHoldout: Processed 2035 (100.0%) in 1.76 sec. Users per second: 1154\n",
      "EvaluatorHoldout: Processed 2035 (100.0%) in 1.19 sec. Users per second: 1712\n",
      "Group 9, #users in group 2081, average p.len 18.42, median 18.0, min 18, max 19\n",
      "EvaluatorHoldout: Ignoring 1559 ( 3.7%) Users that have less than 1 test interactions\n",
      "EvaluatorHoldout: Ignoring 39548 Users\n"
     ]
    },
    {
     "name": "stderr",
     "output_type": "stream",
     "text": [
      "/Users/daniele/Desktop/RecSys/RecSysChallenge2023-Team/Evaluation/metrics.py:276: RuntimeWarning: overflow encountered in power\n",
      "  return np.sum(np.divide(np.power(2, scores) - 1, np.log2(np.arange(scores.shape[0], dtype=np.float64) + 2)),\n",
      "/Users/daniele/Desktop/RecSys/RecSysChallenge2023-Team/Evaluation/metrics.py:270: RuntimeWarning: invalid value encountered in double_scalars\n",
      "  ndcg_ = rank_dcg / ideal_dcg\n"
     ]
    },
    {
     "name": "stdout",
     "output_type": "stream",
     "text": [
      "EvaluatorHoldout: Processed 2048 (100.0%) in 1.94 sec. Users per second: 1057\n"
     ]
    },
    {
     "name": "stderr",
     "output_type": "stream",
     "text": [
      "/Users/daniele/Desktop/RecSys/RecSysChallenge2023-Team/Evaluation/metrics.py:276: RuntimeWarning: overflow encountered in power\n",
      "  return np.sum(np.divide(np.power(2, scores) - 1, np.log2(np.arange(scores.shape[0], dtype=np.float64) + 2)),\n",
      "/Users/daniele/Desktop/RecSys/RecSysChallenge2023-Team/Evaluation/metrics.py:270: RuntimeWarning: invalid value encountered in double_scalars\n",
      "  ndcg_ = rank_dcg / ideal_dcg\n"
     ]
    },
    {
     "name": "stdout",
     "output_type": "stream",
     "text": [
      "EvaluatorHoldout: Processed 2048 (100.0%) in 1.26 sec. Users per second: 1632\n"
     ]
    },
    {
     "name": "stderr",
     "output_type": "stream",
     "text": [
      "/Users/daniele/Desktop/RecSys/RecSysChallenge2023-Team/Evaluation/metrics.py:276: RuntimeWarning: overflow encountered in power\n",
      "  return np.sum(np.divide(np.power(2, scores) - 1, np.log2(np.arange(scores.shape[0], dtype=np.float64) + 2)),\n",
      "/Users/daniele/Desktop/RecSys/RecSysChallenge2023-Team/Evaluation/metrics.py:270: RuntimeWarning: invalid value encountered in double_scalars\n",
      "  ndcg_ = rank_dcg / ideal_dcg\n"
     ]
    },
    {
     "name": "stdout",
     "output_type": "stream",
     "text": [
      "EvaluatorHoldout: Processed 2048 (100.0%) in 1.82 sec. Users per second: 1124\n"
     ]
    },
    {
     "name": "stderr",
     "output_type": "stream",
     "text": [
      "/Users/daniele/Desktop/RecSys/RecSysChallenge2023-Team/Evaluation/metrics.py:276: RuntimeWarning: overflow encountered in power\n",
      "  return np.sum(np.divide(np.power(2, scores) - 1, np.log2(np.arange(scores.shape[0], dtype=np.float64) + 2)),\n",
      "/Users/daniele/Desktop/RecSys/RecSysChallenge2023-Team/Evaluation/metrics.py:270: RuntimeWarning: invalid value encountered in double_scalars\n",
      "  ndcg_ = rank_dcg / ideal_dcg\n"
     ]
    },
    {
     "name": "stdout",
     "output_type": "stream",
     "text": [
      "EvaluatorHoldout: Processed 2048 (100.0%) in 1.22 sec. Users per second: 1676\n",
      "Group 10, #users in group 2081, average p.len 19.75, median 20.0, min 19, max 21\n",
      "EvaluatorHoldout: Ignoring 1559 ( 3.7%) Users that have less than 1 test interactions\n",
      "EvaluatorHoldout: Ignoring 39548 Users\n",
      "EvaluatorHoldout: Processed 2047 (100.0%) in 1.98 sec. Users per second: 1036\n",
      "EvaluatorHoldout: Processed 2047 (100.0%) in 1.25 sec. Users per second: 1635\n",
      "EvaluatorHoldout: Processed 2047 (100.0%) in 1.86 sec. Users per second: 1103\n",
      "EvaluatorHoldout: Processed 2047 (100.0%) in 1.20 sec. Users per second: 1700\n",
      "Group 11, #users in group 2081, average p.len 21.44, median 21.0, min 21, max 22\n",
      "EvaluatorHoldout: Ignoring 1559 ( 3.7%) Users that have less than 1 test interactions\n",
      "EvaluatorHoldout: Ignoring 39548 Users\n",
      "EvaluatorHoldout: Processed 2064 (100.0%) in 2.00 sec. Users per second: 1030\n",
      "EvaluatorHoldout: Processed 2064 (100.0%) in 1.26 sec. Users per second: 1642\n",
      "EvaluatorHoldout: Processed 2064 (100.0%) in 1.92 sec. Users per second: 1073\n",
      "EvaluatorHoldout: Processed 2064 (100.0%) in 1.21 sec. Users per second: 1702\n",
      "Group 12, #users in group 2081, average p.len 23.21, median 23.0, min 22, max 24\n",
      "EvaluatorHoldout: Ignoring 1559 ( 3.7%) Users that have less than 1 test interactions\n",
      "EvaluatorHoldout: Ignoring 39548 Users\n",
      "EvaluatorHoldout: Processed 2072 (100.0%) in 2.04 sec. Users per second: 1014\n",
      "EvaluatorHoldout: Processed 2072 (100.0%) in 1.27 sec. Users per second: 1637\n",
      "EvaluatorHoldout: Processed 2072 (100.0%) in 1.98 sec. Users per second: 1048\n",
      "EvaluatorHoldout: Processed 2072 (100.0%) in 1.22 sec. Users per second: 1698\n",
      "Group 13, #users in group 2081, average p.len 25.49, median 25.0, min 24, max 27\n",
      "EvaluatorHoldout: Ignoring 1559 ( 3.7%) Users that have less than 1 test interactions\n",
      "EvaluatorHoldout: Ignoring 39548 Users\n",
      "EvaluatorHoldout: Processed 2074 (100.0%) in 2.10 sec. Users per second: 987\n",
      "EvaluatorHoldout: Processed 2074 (100.0%) in 1.30 sec. Users per second: 1592\n",
      "EvaluatorHoldout: Processed 2074 (100.0%) in 2.05 sec. Users per second: 1009\n",
      "EvaluatorHoldout: Processed 2074 (100.0%) in 1.24 sec. Users per second: 1670\n",
      "Group 14, #users in group 2081, average p.len 28.37, median 28.0, min 27, max 30\n",
      "EvaluatorHoldout: Ignoring 1559 ( 3.7%) Users that have less than 1 test interactions\n",
      "EvaluatorHoldout: Ignoring 39548 Users\n",
      "EvaluatorHoldout: Processed 2078 (100.0%) in 2.13 sec. Users per second: 977\n",
      "EvaluatorHoldout: Processed 2078 (100.0%) in 1.29 sec. Users per second: 1614\n",
      "EvaluatorHoldout: Processed 2078 (100.0%) in 2.10 sec. Users per second: 990\n",
      "EvaluatorHoldout: Processed 2078 (100.0%) in 1.25 sec. Users per second: 1656\n",
      "Group 15, #users in group 2081, average p.len 31.88, median 32.0, min 30, max 34\n",
      "EvaluatorHoldout: Ignoring 1559 ( 3.7%) Users that have less than 1 test interactions\n",
      "EvaluatorHoldout: Ignoring 39548 Users\n",
      "EvaluatorHoldout: Processed 2078 (100.0%) in 2.20 sec. Users per second: 944\n",
      "EvaluatorHoldout: Processed 2078 (100.0%) in 1.29 sec. Users per second: 1607\n",
      "EvaluatorHoldout: Processed 2078 (100.0%) in 2.16 sec. Users per second: 960\n",
      "EvaluatorHoldout: Processed 2078 (100.0%) in 1.25 sec. Users per second: 1660\n",
      "Group 16, #users in group 2081, average p.len 36.44, median 36.0, min 34, max 39\n",
      "EvaluatorHoldout: Ignoring 1559 ( 3.7%) Users that have less than 1 test interactions\n",
      "EvaluatorHoldout: Ignoring 39548 Users\n",
      "EvaluatorHoldout: Processed 2081 (100.0%) in 2.24 sec. Users per second: 931\n",
      "EvaluatorHoldout: Processed 2081 (100.0%) in 1.31 sec. Users per second: 1585\n",
      "EvaluatorHoldout: Processed 2081 (100.0%) in 2.23 sec. Users per second: 934\n",
      "EvaluatorHoldout: Processed 2081 (100.0%) in 1.26 sec. Users per second: 1650\n",
      "Group 17, #users in group 2081, average p.len 43.14, median 43.0, min 39, max 48\n",
      "EvaluatorHoldout: Ignoring 1559 ( 3.7%) Users that have less than 1 test interactions\n",
      "EvaluatorHoldout: Ignoring 39548 Users\n",
      "EvaluatorHoldout: Processed 2081 (100.0%) in 2.37 sec. Users per second: 880\n"
     ]
    },
    {
     "name": "stderr",
     "output_type": "stream",
     "text": [
      "/Users/daniele/Desktop/RecSys/RecSysChallenge2023-Team/Evaluation/metrics.py:276: RuntimeWarning: overflow encountered in power\n",
      "  return np.sum(np.divide(np.power(2, scores) - 1, np.log2(np.arange(scores.shape[0], dtype=np.float64) + 2)),\n"
     ]
    },
    {
     "name": "stdout",
     "output_type": "stream",
     "text": [
      "EvaluatorHoldout: Processed 2081 (100.0%) in 1.34 sec. Users per second: 1552\n"
     ]
    },
    {
     "name": "stderr",
     "output_type": "stream",
     "text": [
      "/Users/daniele/Desktop/RecSys/RecSysChallenge2023-Team/Evaluation/metrics.py:276: RuntimeWarning: overflow encountered in power\n",
      "  return np.sum(np.divide(np.power(2, scores) - 1, np.log2(np.arange(scores.shape[0], dtype=np.float64) + 2)),\n"
     ]
    },
    {
     "name": "stdout",
     "output_type": "stream",
     "text": [
      "EvaluatorHoldout: Processed 2081 (100.0%) in 2.32 sec. Users per second: 899\n"
     ]
    },
    {
     "name": "stderr",
     "output_type": "stream",
     "text": [
      "/Users/daniele/Desktop/RecSys/RecSysChallenge2023-Team/Evaluation/metrics.py:276: RuntimeWarning: overflow encountered in power\n",
      "  return np.sum(np.divide(np.power(2, scores) - 1, np.log2(np.arange(scores.shape[0], dtype=np.float64) + 2)),\n"
     ]
    },
    {
     "name": "stdout",
     "output_type": "stream",
     "text": [
      "EvaluatorHoldout: Processed 2081 (100.0%) in 1.27 sec. Users per second: 1634\n"
     ]
    },
    {
     "name": "stderr",
     "output_type": "stream",
     "text": [
      "/Users/daniele/Desktop/RecSys/RecSysChallenge2023-Team/Evaluation/metrics.py:276: RuntimeWarning: overflow encountered in power\n",
      "  return np.sum(np.divide(np.power(2, scores) - 1, np.log2(np.arange(scores.shape[0], dtype=np.float64) + 2)),\n"
     ]
    },
    {
     "name": "stdout",
     "output_type": "stream",
     "text": [
      "Group 18, #users in group 2081, average p.len 54.12, median 54.0, min 48, max 62\n",
      "EvaluatorHoldout: Ignoring 1559 ( 3.7%) Users that have less than 1 test interactions\n",
      "EvaluatorHoldout: Ignoring 39548 Users\n",
      "EvaluatorHoldout: Processed 2081 (100.0%) in 2.40 sec. Users per second: 869\n"
     ]
    },
    {
     "name": "stderr",
     "output_type": "stream",
     "text": [
      "/Users/daniele/Desktop/RecSys/RecSysChallenge2023-Team/Evaluation/metrics.py:276: RuntimeWarning: overflow encountered in power\n",
      "  return np.sum(np.divide(np.power(2, scores) - 1, np.log2(np.arange(scores.shape[0], dtype=np.float64) + 2)),\n"
     ]
    },
    {
     "name": "stdout",
     "output_type": "stream",
     "text": [
      "EvaluatorHoldout: Processed 2081 (100.0%) in 1.37 sec. Users per second: 1521\n"
     ]
    },
    {
     "name": "stderr",
     "output_type": "stream",
     "text": [
      "/Users/daniele/Desktop/RecSys/RecSysChallenge2023-Team/Evaluation/metrics.py:276: RuntimeWarning: overflow encountered in power\n",
      "  return np.sum(np.divide(np.power(2, scores) - 1, np.log2(np.arange(scores.shape[0], dtype=np.float64) + 2)),\n"
     ]
    },
    {
     "name": "stdout",
     "output_type": "stream",
     "text": [
      "EvaluatorHoldout: Processed 2081 (100.0%) in 2.42 sec. Users per second: 859\n"
     ]
    },
    {
     "name": "stderr",
     "output_type": "stream",
     "text": [
      "/Users/daniele/Desktop/RecSys/RecSysChallenge2023-Team/Evaluation/metrics.py:276: RuntimeWarning: overflow encountered in power\n",
      "  return np.sum(np.divide(np.power(2, scores) - 1, np.log2(np.arange(scores.shape[0], dtype=np.float64) + 2)),\n"
     ]
    },
    {
     "name": "stdout",
     "output_type": "stream",
     "text": [
      "EvaluatorHoldout: Processed 2081 (100.0%) in 1.30 sec. Users per second: 1606\n"
     ]
    },
    {
     "name": "stderr",
     "output_type": "stream",
     "text": [
      "/Users/daniele/Desktop/RecSys/RecSysChallenge2023-Team/Evaluation/metrics.py:276: RuntimeWarning: overflow encountered in power\n",
      "  return np.sum(np.divide(np.power(2, scores) - 1, np.log2(np.arange(scores.shape[0], dtype=np.float64) + 2)),\n"
     ]
    },
    {
     "name": "stdout",
     "output_type": "stream",
     "text": [
      "Group 19, #users in group 2081, average p.len 87.91, median 78.0, min 62, max 281\n",
      "EvaluatorHoldout: Ignoring 1559 ( 3.7%) Users that have less than 1 test interactions\n",
      "EvaluatorHoldout: Ignoring 39548 Users\n",
      "EvaluatorHoldout: Processed 2081 (100.0%) in 2.64 sec. Users per second: 789\n",
      "EvaluatorHoldout: Processed 2081 (100.0%) in 1.45 sec. Users per second: 1431\n",
      "EvaluatorHoldout: Processed 2081 (100.0%) in 2.63 sec. Users per second: 792\n",
      "EvaluatorHoldout: Processed 2081 (100.0%) in 1.38 sec. Users per second: 1512\n"
     ]
    }
   ],
   "source": [
    "cutoff = 10\n",
    "\n",
    "for group_id in range(0, 20):\n",
    "    \n",
    "    start_pos = group_id*block_size\n",
    "    end_pos = min((group_id+1)*block_size, len(profile_length))\n",
    "    \n",
    "    users_in_group = sorted_users[start_pos:end_pos]\n",
    "    \n",
    "    users_in_group_p_len = profile_length[users_in_group]\n",
    "    \n",
    "    print(\"Group {}, #users in group {}, average p.len {:.2f}, median {}, min {}, max {}\".format(\n",
    "        group_id, \n",
    "        users_in_group.shape[0],\n",
    "        users_in_group_p_len.mean(),\n",
    "        np.median(users_in_group_p_len),\n",
    "        users_in_group_p_len.min(),\n",
    "        users_in_group_p_len.max()))\n",
    "    \n",
    "    \n",
    "    users_not_in_group_flag = np.isin(sorted_users, users_in_group, invert=True)\n",
    "    users_not_in_group = sorted_users[users_not_in_group_flag]\n",
    "    \n",
    "    evaluator_test = EvaluatorHoldout(URMv_test, cutoff_list=[cutoff], ignore_users=users_not_in_group)\n",
    "    \n",
    "    for label, recommender in recommender_object_dict.items():\n",
    "        result_df, _ = evaluator_test.evaluateRecommender(recommender)\n",
    "        if label in MAP_recommender_per_group:\n",
    "            MAP_recommender_per_group[label].append(result_df.loc[cutoff][\"MAP\"])\n",
    "        else:\n",
    "            MAP_recommender_per_group[label] = [result_df.loc[cutoff][\"MAP\"]]"
   ]
  },
  {
   "cell_type": "code",
   "execution_count": 15,
   "metadata": {},
   "outputs": [
    {
     "data": {
      "image/png": "[encoded data removed]",
      "text/plain": [
       "<Figure size 1400x2000 with 1 Axes>"
      ]
     },
     "metadata": {},
     "output_type": "display_data"
    }
   ],
   "source": [
    "import matplotlib.pyplot as plt\n",
    "%matplotlib inline  \n",
    "\n",
    "_ = plt.figure(figsize=(14, 20))\n",
    "for label, recommender in reversed( recommender_object_dict.items()):\n",
    "    results = MAP_recommender_per_group[label]\n",
    "    plt.scatter(x=np.arange(0,len(results)), y=results, label=label,)\n",
    "plt.ylabel('MAP')\n",
    "plt.xlabel('User Group')\n",
    "plt.legend()\n",
    "plt.show()"
   ]
  }
 ],
 "metadata": {
  "kernelspec": {
   "display_name": "base",
   "language": "python",
   "name": "python3"
  },
  "language_info": {
   "codemirror_mode": {
    "name": "ipython",
    "version": 3
   },
   "file_extension": ".py",
   "mimetype": "text/x-python",
   "name": "python",
   "nbconvert_exporter": "python",
   "pygments_lexer": "ipython3",
   "version": "3.9.13"
  },
  "orig_nbformat": 4,
  "vscode": {
   "interpreter": {
    "hash": "6e76083d1a5f4c0027e70cf105b7627b1b5e567462449feedfd1ad9407b42e24"
   }
  }
 },
 "nbformat": 4,
 "nbformat_minor": 2
}
