{
 "cells": [
  {
   "attachments": {},
   "cell_type": "markdown",
   "metadata": {},
   "source": [
    "### Comparazione vari SLIM Elsatic"
   ]
  },
  {
   "cell_type": "code",
   "execution_count": 1,
   "metadata": {},
   "outputs": [],
   "source": [
    "import os \n",
    "import sys\n",
    "while os.path.split(os.getcwd())[1] != 'RecSysChallenge2023-Team':\n",
    "    os.chdir('..')\n",
    "sys.path.insert(1, os.getcwd())\n",
    "\n",
    "import numpy as np "
   ]
  },
  {
   "cell_type": "code",
   "execution_count": 2,
   "metadata": {},
   "outputs": [],
   "source": [
    "path_save= \"Daniele/Recommenders/SSLIM_Elastic/saved_models\"\n",
    "if not os.path.exists(path_save):\n",
    "    os.makedirs(path_save)"
   ]
  },
  {
   "cell_type": "markdown",
   "metadata": {},
   "source": []
  },
  {
   "cell_type": "code",
   "execution_count": 3,
   "metadata": {},
   "outputs": [
    {
     "name": "stdout",
     "output_type": "stream",
     "text": [
      "/Users/daniele/Desktop/RecSys/RecSysChallenge2023-Team\n"
     ]
    }
   ],
   "source": [
    "from Data_manager.split_functions.split_train_validation_random_holdout import split_train_in_two_percentage_global_sample\n",
    "from Evaluation.Evaluator import EvaluatorHoldout\n",
    "\n",
    "import Daniele.Utils.MyDataManager as dm \n",
    "import Daniele.Utils.MatrixManipulation as mm\n",
    "import Daniele.Utils.SaveSparceMatrix as ssm\n",
    "\n",
    "URMv = dm.getURMviews()\n",
    "URMo = dm.getURMopen()\n",
    "ICMt=dm.getICMt()\n",
    "ICMl=dm.getICMl()\n",
    "\n",
    "name=\"train.csv\"\n",
    "dir = os.path.join(path_save,name)\n",
    "if not os.path.exists(dir):\n",
    "    URMv_train, URMv_test = split_train_in_two_percentage_global_sample(URMv, train_percentage = 0.80)\n",
    "\n",
    "    ssm.saveMatrix(dir,URMv_train)\n",
    "\n",
    "    name=\"test.csv\"\n",
    "    dir = os.path.join(path_save,name)\n",
    "    ssm.saveMatrix(dir,URMv_test)\n",
    "\n",
    "    urm_def = mm.defaultExplicitURM(urmv=URMv_train,urmo=URMo,icml=ICMl,icmt=ICMt, normalize=True, add_aug=True,appendICM=True)\n",
    "    name=\"urm_def.csv\"\n",
    "    dir = os.path.join(path_save,name)\n",
    "    ssm.saveMatrix(dir,urm_def)\n",
    "\n",
    "    urm_bin = mm.defaultExplicitURM(urmv=URMv_train,urmo=URMo, normalize=False, add_aug=True)\n",
    "    urm_bin.data = np.ones(len(urm_bin.data))\n",
    "    name=\"urm_bin.csv\"\n",
    "    dir = os.path.join(path_save,name)\n",
    "    ssm.saveMatrix(dir,urm_bin)\n",
    "\n",
    "else:\n",
    "    URMv_train=ssm.readMatrix(dir)\n",
    "\n",
    "    name=\"test.csv\"\n",
    "    dir = os.path.join(path_save,name)\n",
    "    URMv_test=ssm.readMatrix(dir)\n",
    "\n",
    "    name=\"urm_def.csv\"\n",
    "    dir = os.path.join(path_save,name)\n",
    "    urm_def = ssm.readMatrix(dir)\n",
    "\n",
    "    name=\"urm_bin.csv\"\n",
    "    dir = os.path.join(path_save,name)\n",
    "    urm_bin = ssm.readMatrix(dir)\n",
    "\n"
   ]
  },
  {
   "cell_type": "code",
   "execution_count": 4,
   "metadata": {},
   "outputs": [],
   "source": [
    "import os \n",
    "import sys\n",
    "while os.path.split(os.getcwd())[1] != 'RecSysChallenge2023-Team':\n",
    "    os.chdir('..')\n",
    "sys.path.insert(1, os.getcwd())\n",
    "\n",
    "import numpy as np"
   ]
  },
  {
   "attachments": {},
   "cell_type": "markdown",
   "metadata": {},
   "source": [
    "### SLIIM-Elastic REFERENCE 0.05732"
   ]
  },
  {
   "cell_type": "code",
   "execution_count": 5,
   "metadata": {},
   "outputs": [
    {
     "name": "stdout",
     "output_type": "stream",
     "text": [
      "SLIMElasticNetRecommender: URM Detected 3461 (12.4%) items with no interactions.\n"
     ]
    },
    {
     "name": "stderr",
     "output_type": "stream",
     "text": [
      "100%|██████████| 27968/27968 [51:50<00:00,  8.99it/s]   \n"
     ]
    },
    {
     "name": "stdout",
     "output_type": "stream",
     "text": [
      "SLIMElasticNetRecommender: Saving model in file 'Daniele/Recommenders/SSLIM_Elastic/saved_modelsslim_reference'\n",
      "SLIMElasticNetRecommender: Saving complete\n"
     ]
    }
   ],
   "source": [
    "from Recommenders.SLIM.SLIMElasticNetRecommender import MultiThreadSLIM_SLIMElasticNetRecommender\n",
    "name=\"slim_reference\"\n",
    "dir = os.path.join(path_save,name)\n",
    "\n",
    "slim_reference = MultiThreadSLIM_SLIMElasticNetRecommender(URM_train=urm_bin)\n",
    "if not os.path.exists(dir+\".zip\"):\n",
    "    \n",
    "    slim_reference.fit(alpha=7.3447282e-7, l1_ratio=0.007759, topK=739)\n",
    "    slim_reference.save_model(path_save,name)\n",
    "else:\n",
    "    slim_reference.load_model(path_save,name)"
   ]
  },
  {
   "attachments": {},
   "cell_type": "markdown",
   "metadata": {},
   "source": [
    "### SLIM-Elastic Submit hybrid "
   ]
  },
  {
   "cell_type": "code",
   "execution_count": 6,
   "metadata": {},
   "outputs": [
    {
     "name": "stdout",
     "output_type": "stream",
     "text": [
      "SLIMElasticNetRecommender: URM Detected 3461 (12.4%) items with no interactions.\n"
     ]
    },
    {
     "name": "stderr",
     "output_type": "stream",
     "text": [
      "100%|██████████| 27968/27968 [31:00<00:00, 15.03it/s]\n"
     ]
    },
    {
     "name": "stdout",
     "output_type": "stream",
     "text": [
      "SLIMElasticNetRecommender: Saving model in file 'Daniele/Recommenders/SSLIM_Elastic/saved_modelssubmit_hybrid_federico'\n",
      "SLIMElasticNetRecommender: Saving complete\n"
     ]
    }
   ],
   "source": [
    "from Recommenders.SLIM.SLIMElasticNetRecommender import MultiThreadSLIM_SLIMElasticNetRecommender\n",
    "name=\"submit_hybrid_federico\"\n",
    "dir = os.path.join(path_save,name)\n",
    "\n",
    "submit_hybrid_federico = MultiThreadSLIM_SLIMElasticNetRecommender(URM_train=urm_bin)\n",
    "if not os.path.exists(dir+\".zip\"):\n",
    "    \n",
    "    submit_hybrid_federico.fit(alpha=0.003271, l1_ratio=0.006095, topK=884)\n",
    "    submit_hybrid_federico.save_model(path_save,name)\n",
    "else:\n",
    "    submit_hybrid_federico.load_model(path_save,name)"
   ]
  },
  {
   "attachments": {},
   "cell_type": "markdown",
   "metadata": {},
   "source": [
    "### SLIM-Elastic opt HIGH"
   ]
  },
  {
   "cell_type": "code",
   "execution_count": 7,
   "metadata": {},
   "outputs": [
    {
     "name": "stdout",
     "output_type": "stream",
     "text": [
      "SLIMElasticNetRecommender: URM Detected 3461 (12.4%) items with no interactions.\n"
     ]
    },
    {
     "name": "stderr",
     "output_type": "stream",
     "text": [
      "100%|██████████| 27968/27968 [30:32<00:00, 15.26it/s]\n"
     ]
    },
    {
     "name": "stdout",
     "output_type": "stream",
     "text": [
      "SLIMElasticNetRecommender: Saving model in file 'Daniele/Recommenders/SSLIM_Elastic/saved_modelsslim_elastic_high'\n",
      "SLIMElasticNetRecommender: Saving complete\n"
     ]
    }
   ],
   "source": [
    "from Recommenders.SLIM.SLIMElasticNetRecommender import MultiThreadSLIM_SLIMElasticNetRecommender\n",
    "name=\"slim_elastic_high\"\n",
    "dir = os.path.join(path_save,name)\n",
    "\n",
    "slim_elastic_high = MultiThreadSLIM_SLIMElasticNetRecommender(URM_train=urm_bin)\n",
    "if not os.path.exists(dir+\".zip\"):\n",
    "    \n",
    "    # {'alpha': 0.002930092866966509, 'l1_ratio': 0.006239337272696024, 'topK': 882} -> MAP 0.0422894\n",
    "    slim_elastic_high.fit(alpha=0.002930092866966509, l1_ratio=0.006239337272696024, topK=882)\n",
    "    slim_elastic_high.save_model(path_save,name)\n",
    "else:\n",
    "    slim_elastic_high.load_model(path_save,name)"
   ]
  },
  {
   "attachments": {},
   "cell_type": "markdown",
   "metadata": {},
   "source": [
    "### Users group"
   ]
  },
  {
   "cell_type": "code",
   "execution_count": 8,
   "metadata": {},
   "outputs": [
    {
     "name": "stdout",
     "output_type": "stream",
     "text": [
      "Group 0, #users in group 2081, average p.len 6.98, median 7.0, min 2, max 9\n",
      "Group 1, #users in group 2081, average p.len 9.43, median 9.0, min 9, max 10\n",
      "Group 2, #users in group 2081, average p.len 10.69, median 11.0, min 10, max 11\n",
      "Group 3, #users in group 2081, average p.len 11.83, median 12.0, min 11, max 12\n",
      "Group 4, #users in group 2081, average p.len 12.88, median 13.0, min 12, max 13\n",
      "Group 5, #users in group 2081, average p.len 13.92, median 14.0, min 13, max 14\n",
      "Group 6, #users in group 2081, average p.len 14.92, median 15.0, min 14, max 15\n",
      "Group 7, #users in group 2081, average p.len 16.00, median 16.0, min 15, max 17\n",
      "Group 8, #users in group 2081, average p.len 17.22, median 17.0, min 17, max 18\n",
      "Group 9, #users in group 2081, average p.len 18.42, median 18.0, min 18, max 19\n",
      "Group 10, #users in group 2081, average p.len 19.75, median 20.0, min 19, max 21\n",
      "Group 11, #users in group 2081, average p.len 21.44, median 21.0, min 21, max 22\n",
      "Group 12, #users in group 2081, average p.len 23.21, median 23.0, min 22, max 24\n",
      "Group 13, #users in group 2081, average p.len 25.49, median 25.0, min 24, max 27\n",
      "Group 14, #users in group 2081, average p.len 28.37, median 28.0, min 27, max 30\n",
      "Group 15, #users in group 2081, average p.len 31.88, median 32.0, min 30, max 34\n",
      "Group 16, #users in group 2081, average p.len 36.44, median 36.0, min 34, max 39\n",
      "Group 17, #users in group 2081, average p.len 43.14, median 43.0, min 39, max 48\n",
      "Group 18, #users in group 2081, average p.len 54.12, median 54.0, min 48, max 62\n",
      "Group 19, #users in group 2081, average p.len 87.91, median 78.0, min 62, max 281\n"
     ]
    }
   ],
   "source": [
    "import numpy as np \n",
    "import scipy.sparse as sps\n",
    "\n",
    "profile_length = np.ediff1d(sps.csr_matrix(URMv).indptr)\n",
    "profile_length, profile_length.shape\n",
    "\n",
    "block_size = int(len(profile_length)*0.05)\n",
    "sorted_users = np.argsort(profile_length)\n",
    "\n",
    "for group_id in range(0, 20):\n",
    "    start_pos = group_id * block_size\n",
    "    end_pos = min((group_id+1) * block_size, len(profile_length))\n",
    "    \n",
    "    users_in_group = sorted_users[start_pos:end_pos]\n",
    "    \n",
    "    users_in_group_p_len = profile_length[users_in_group]\n",
    "    \n",
    "    print(\"Group {}, #users in group {}, average p.len {:.2f}, median {}, min {}, max {}\".format(\n",
    "        group_id, \n",
    "        users_in_group.shape[0],\n",
    "        users_in_group_p_len.mean(),\n",
    "        np.median(users_in_group_p_len),\n",
    "        users_in_group_p_len.min(),\n",
    "        users_in_group_p_len.max()))"
   ]
  },
  {
   "cell_type": "code",
   "execution_count": 9,
   "metadata": {},
   "outputs": [],
   "source": [
    "MAP_recommender_per_group = {}\n",
    "recommender_object_dict = {}\n",
    "\n",
    "recommender_class = {\"slim_reference\" :slim_reference,\n",
    "                     \"submit_hybrid_federico\" : submit_hybrid_federico,\n",
    "                     \"slim_elastic_high\" : slim_elastic_high,              \n",
    "                     }\n",
    "\n",
    "\n",
    "for label, recommender_obj in recommender_class.items():\n",
    "    recommender_object_dict[label] = recommender_obj"
   ]
  },
  {
   "cell_type": "code",
   "execution_count": 10,
   "metadata": {},
   "outputs": [
    {
     "name": "stdout",
     "output_type": "stream",
     "text": [
      "Group 0, #users in group 2081, average p.len 6.98, median 7.0, min 2, max 9\n",
      "EvaluatorHoldout: Ignoring 1559 ( 3.7%) Users that have less than 1 test interactions\n",
      "EvaluatorHoldout: Ignoring 39548 Users\n",
      "EvaluatorHoldout: Processed 1625 (100.0%) in 1.37 sec. Users per second: 1182\n",
      "EvaluatorHoldout: Processed 1625 (100.0%) in 1.37 sec. Users per second: 1186\n",
      "EvaluatorHoldout: Processed 1625 (100.0%) in 1.34 sec. Users per second: 1209\n",
      "Group 1, #users in group 2081, average p.len 9.43, median 9.0, min 9, max 10\n",
      "EvaluatorHoldout: Ignoring 1559 ( 3.7%) Users that have less than 1 test interactions\n",
      "EvaluatorHoldout: Ignoring 39548 Users\n",
      "EvaluatorHoldout: Processed 1844 (100.0%) in 2.01 sec. Users per second: 919\n",
      "EvaluatorHoldout: Processed 1844 (100.0%) in 3.20 sec. Users per second: 577\n",
      "EvaluatorHoldout: Processed 1844 (100.0%) in 2.01 sec. Users per second: 919\n",
      "Group 2, #users in group 2081, average p.len 10.69, median 11.0, min 10, max 11\n",
      "EvaluatorHoldout: Ignoring 1559 ( 3.7%) Users that have less than 1 test interactions\n",
      "EvaluatorHoldout: Ignoring 39548 Users\n",
      "EvaluatorHoldout: Processed 1895 (100.0%) in 1.55 sec. Users per second: 1225\n",
      "EvaluatorHoldout: Processed 1895 (100.0%) in 1.56 sec. Users per second: 1214\n",
      "EvaluatorHoldout: Processed 1895 (100.0%) in 1.56 sec. Users per second: 1215\n",
      "Group 3, #users in group 2081, average p.len 11.83, median 12.0, min 11, max 12\n",
      "EvaluatorHoldout: Ignoring 1559 ( 3.7%) Users that have less than 1 test interactions\n",
      "EvaluatorHoldout: Ignoring 39548 Users\n",
      "EvaluatorHoldout: Processed 1908 (100.0%) in 1.57 sec. Users per second: 1213\n",
      "EvaluatorHoldout: Processed 1908 (100.0%) in 1.86 sec. Users per second: 1027\n",
      "EvaluatorHoldout: Processed 1908 (100.0%) in 1.85 sec. Users per second: 1029\n",
      "Group 4, #users in group 2081, average p.len 12.88, median 13.0, min 12, max 13\n",
      "EvaluatorHoldout: Ignoring 1559 ( 3.7%) Users that have less than 1 test interactions\n",
      "EvaluatorHoldout: Ignoring 39548 Users\n",
      "EvaluatorHoldout: Processed 1953 (100.0%) in 1.59 sec. Users per second: 1230\n",
      "EvaluatorHoldout: Processed 1953 (100.0%) in 1.64 sec. Users per second: 1194\n",
      "EvaluatorHoldout: Processed 1953 (100.0%) in 1.60 sec. Users per second: 1219\n",
      "Group 5, #users in group 2081, average p.len 13.92, median 14.0, min 13, max 14\n",
      "EvaluatorHoldout: Ignoring 1559 ( 3.7%) Users that have less than 1 test interactions\n",
      "EvaluatorHoldout: Ignoring 39548 Users\n",
      "EvaluatorHoldout: Processed 1984 (100.0%) in 1.62 sec. Users per second: 1226\n",
      "EvaluatorHoldout: Processed 1984 (100.0%) in 1.72 sec. Users per second: 1151\n",
      "EvaluatorHoldout: Processed 1984 (100.0%) in 1.69 sec. Users per second: 1176\n",
      "Group 6, #users in group 2081, average p.len 14.92, median 15.0, min 14, max 15\n",
      "EvaluatorHoldout: Ignoring 1559 ( 3.7%) Users that have less than 1 test interactions\n",
      "EvaluatorHoldout: Ignoring 39548 Users\n",
      "EvaluatorHoldout: Processed 2005 (100.0%) in 1.66 sec. Users per second: 1206\n",
      "EvaluatorHoldout: Processed 2005 (100.0%) in 1.73 sec. Users per second: 1159\n",
      "EvaluatorHoldout: Processed 2005 (100.0%) in 1.72 sec. Users per second: 1167\n",
      "Group 7, #users in group 2081, average p.len 16.00, median 16.0, min 15, max 17\n",
      "EvaluatorHoldout: Ignoring 1559 ( 3.7%) Users that have less than 1 test interactions\n",
      "EvaluatorHoldout: Ignoring 39548 Users\n",
      "EvaluatorHoldout: Processed 2027 (100.0%) in 1.64 sec. Users per second: 1239\n",
      "EvaluatorHoldout: Processed 2027 (100.0%) in 1.81 sec. Users per second: 1119\n",
      "EvaluatorHoldout: Processed 2027 (100.0%) in 1.77 sec. Users per second: 1142\n",
      "Group 8, #users in group 2081, average p.len 17.22, median 17.0, min 17, max 18\n",
      "EvaluatorHoldout: Ignoring 1559 ( 3.7%) Users that have less than 1 test interactions\n",
      "EvaluatorHoldout: Ignoring 39548 Users\n",
      "EvaluatorHoldout: Processed 2035 (100.0%) in 1.69 sec. Users per second: 1206\n",
      "EvaluatorHoldout: Processed 2035 (100.0%) in 1.84 sec. Users per second: 1106\n",
      "EvaluatorHoldout: Processed 2035 (100.0%) in 1.83 sec. Users per second: 1109\n",
      "Group 9, #users in group 2081, average p.len 18.42, median 18.0, min 18, max 19\n",
      "EvaluatorHoldout: Ignoring 1559 ( 3.7%) Users that have less than 1 test interactions\n",
      "EvaluatorHoldout: Ignoring 39548 Users\n"
     ]
    },
    {
     "name": "stderr",
     "output_type": "stream",
     "text": [
      "/Users/daniele/Desktop/RecSys/RecSysChallenge2023-Team/Evaluation/metrics.py:276: RuntimeWarning: overflow encountered in power\n",
      "  return np.sum(np.divide(np.power(2, scores) - 1, np.log2(np.arange(scores.shape[0], dtype=np.float64) + 2)),\n"
     ]
    },
    {
     "name": "stdout",
     "output_type": "stream",
     "text": [
      "EvaluatorHoldout: Processed 2048 (100.0%) in 1.72 sec. Users per second: 1193\n"
     ]
    },
    {
     "name": "stderr",
     "output_type": "stream",
     "text": [
      "/Users/daniele/Desktop/RecSys/RecSysChallenge2023-Team/Evaluation/metrics.py:276: RuntimeWarning: overflow encountered in power\n",
      "  return np.sum(np.divide(np.power(2, scores) - 1, np.log2(np.arange(scores.shape[0], dtype=np.float64) + 2)),\n",
      "/Users/daniele/Desktop/RecSys/RecSysChallenge2023-Team/Evaluation/metrics.py:270: RuntimeWarning: invalid value encountered in double_scalars\n",
      "  ndcg_ = rank_dcg / ideal_dcg\n"
     ]
    },
    {
     "name": "stdout",
     "output_type": "stream",
     "text": [
      "EvaluatorHoldout: Processed 2048 (100.0%) in 1.94 sec. Users per second: 1055\n"
     ]
    },
    {
     "name": "stderr",
     "output_type": "stream",
     "text": [
      "/Users/daniele/Desktop/RecSys/RecSysChallenge2023-Team/Evaluation/metrics.py:276: RuntimeWarning: overflow encountered in power\n",
      "  return np.sum(np.divide(np.power(2, scores) - 1, np.log2(np.arange(scores.shape[0], dtype=np.float64) + 2)),\n",
      "/Users/daniele/Desktop/RecSys/RecSysChallenge2023-Team/Evaluation/metrics.py:270: RuntimeWarning: invalid value encountered in double_scalars\n",
      "  ndcg_ = rank_dcg / ideal_dcg\n"
     ]
    },
    {
     "name": "stdout",
     "output_type": "stream",
     "text": [
      "EvaluatorHoldout: Processed 2048 (100.0%) in 1.86 sec. Users per second: 1103\n",
      "Group 10, #users in group 2081, average p.len 19.75, median 20.0, min 19, max 21\n",
      "EvaluatorHoldout: Ignoring 1559 ( 3.7%) Users that have less than 1 test interactions\n",
      "EvaluatorHoldout: Ignoring 39548 Users\n",
      "EvaluatorHoldout: Processed 2047 (100.0%) in 1.70 sec. Users per second: 1204\n",
      "EvaluatorHoldout: Processed 2047 (100.0%) in 1.90 sec. Users per second: 1078\n",
      "EvaluatorHoldout: Processed 2047 (100.0%) in 1.91 sec. Users per second: 1071\n",
      "Group 11, #users in group 2081, average p.len 21.44, median 21.0, min 21, max 22\n",
      "EvaluatorHoldout: Ignoring 1559 ( 3.7%) Users that have less than 1 test interactions\n",
      "EvaluatorHoldout: Ignoring 39548 Users\n",
      "EvaluatorHoldout: Processed 2064 (100.0%) in 1.73 sec. Users per second: 1196\n",
      "EvaluatorHoldout: Processed 2064 (100.0%) in 2.00 sec. Users per second: 1030\n",
      "EvaluatorHoldout: Processed 2064 (100.0%) in 1.98 sec. Users per second: 1040\n",
      "Group 12, #users in group 2081, average p.len 23.21, median 23.0, min 22, max 24\n",
      "EvaluatorHoldout: Ignoring 1559 ( 3.7%) Users that have less than 1 test interactions\n",
      "EvaluatorHoldout: Ignoring 39548 Users\n",
      "EvaluatorHoldout: Processed 2072 (100.0%) in 1.74 sec. Users per second: 1188\n",
      "EvaluatorHoldout: Processed 2072 (100.0%) in 2.10 sec. Users per second: 985\n",
      "EvaluatorHoldout: Processed 2072 (100.0%) in 2.01 sec. Users per second: 1029\n",
      "Group 13, #users in group 2081, average p.len 25.49, median 25.0, min 24, max 27\n",
      "EvaluatorHoldout: Ignoring 1559 ( 3.7%) Users that have less than 1 test interactions\n",
      "EvaluatorHoldout: Ignoring 39548 Users\n",
      "EvaluatorHoldout: Processed 2074 (100.0%) in 1.76 sec. Users per second: 1182\n",
      "EvaluatorHoldout: Processed 2074 (100.0%) in 2.10 sec. Users per second: 986\n",
      "EvaluatorHoldout: Processed 2074 (100.0%) in 2.10 sec. Users per second: 986\n",
      "Group 14, #users in group 2081, average p.len 28.37, median 28.0, min 27, max 30\n",
      "EvaluatorHoldout: Ignoring 1559 ( 3.7%) Users that have less than 1 test interactions\n",
      "EvaluatorHoldout: Ignoring 39548 Users\n",
      "EvaluatorHoldout: Processed 2078 (100.0%) in 1.80 sec. Users per second: 1156\n",
      "EvaluatorHoldout: Processed 2078 (100.0%) in 2.20 sec. Users per second: 943\n",
      "EvaluatorHoldout: Processed 2078 (100.0%) in 2.14 sec. Users per second: 973\n",
      "Group 15, #users in group 2081, average p.len 31.88, median 32.0, min 30, max 34\n",
      "EvaluatorHoldout: Ignoring 1559 ( 3.7%) Users that have less than 1 test interactions\n",
      "EvaluatorHoldout: Ignoring 39548 Users\n",
      "EvaluatorHoldout: Processed 2078 (100.0%) in 1.81 sec. Users per second: 1146\n",
      "EvaluatorHoldout: Processed 2078 (100.0%) in 2.21 sec. Users per second: 940\n",
      "EvaluatorHoldout: Processed 2078 (100.0%) in 2.19 sec. Users per second: 950\n",
      "Group 16, #users in group 2081, average p.len 36.44, median 36.0, min 34, max 39\n",
      "EvaluatorHoldout: Ignoring 1559 ( 3.7%) Users that have less than 1 test interactions\n",
      "EvaluatorHoldout: Ignoring 39548 Users\n",
      "EvaluatorHoldout: Processed 2081 (100.0%) in 1.85 sec. Users per second: 1126\n",
      "EvaluatorHoldout: Processed 2081 (100.0%) in 2.32 sec. Users per second: 899\n",
      "EvaluatorHoldout: Processed 2081 (100.0%) in 2.27 sec. Users per second: 916\n",
      "Group 17, #users in group 2081, average p.len 43.14, median 43.0, min 39, max 48\n",
      "EvaluatorHoldout: Ignoring 1559 ( 3.7%) Users that have less than 1 test interactions\n",
      "EvaluatorHoldout: Ignoring 39548 Users\n",
      "EvaluatorHoldout: Processed 2081 (100.0%) in 1.93 sec. Users per second: 1077\n"
     ]
    },
    {
     "name": "stderr",
     "output_type": "stream",
     "text": [
      "/Users/daniele/Desktop/RecSys/RecSysChallenge2023-Team/Evaluation/metrics.py:276: RuntimeWarning: overflow encountered in power\n",
      "  return np.sum(np.divide(np.power(2, scores) - 1, np.log2(np.arange(scores.shape[0], dtype=np.float64) + 2)),\n"
     ]
    },
    {
     "name": "stdout",
     "output_type": "stream",
     "text": [
      "EvaluatorHoldout: Processed 2081 (100.0%) in 2.39 sec. Users per second: 869\n"
     ]
    },
    {
     "name": "stderr",
     "output_type": "stream",
     "text": [
      "/Users/daniele/Desktop/RecSys/RecSysChallenge2023-Team/Evaluation/metrics.py:276: RuntimeWarning: overflow encountered in power\n",
      "  return np.sum(np.divide(np.power(2, scores) - 1, np.log2(np.arange(scores.shape[0], dtype=np.float64) + 2)),\n"
     ]
    },
    {
     "name": "stdout",
     "output_type": "stream",
     "text": [
      "EvaluatorHoldout: Processed 2081 (100.0%) in 2.38 sec. Users per second: 876\n"
     ]
    },
    {
     "name": "stderr",
     "output_type": "stream",
     "text": [
      "/Users/daniele/Desktop/RecSys/RecSysChallenge2023-Team/Evaluation/metrics.py:276: RuntimeWarning: overflow encountered in power\n",
      "  return np.sum(np.divide(np.power(2, scores) - 1, np.log2(np.arange(scores.shape[0], dtype=np.float64) + 2)),\n"
     ]
    },
    {
     "name": "stdout",
     "output_type": "stream",
     "text": [
      "Group 18, #users in group 2081, average p.len 54.12, median 54.0, min 48, max 62\n",
      "EvaluatorHoldout: Ignoring 1559 ( 3.7%) Users that have less than 1 test interactions\n",
      "EvaluatorHoldout: Ignoring 39548 Users\n",
      "EvaluatorHoldout: Processed 2081 (100.0%) in 2.01 sec. Users per second: 1037\n"
     ]
    },
    {
     "name": "stderr",
     "output_type": "stream",
     "text": [
      "/Users/daniele/Desktop/RecSys/RecSysChallenge2023-Team/Evaluation/metrics.py:276: RuntimeWarning: overflow encountered in power\n",
      "  return np.sum(np.divide(np.power(2, scores) - 1, np.log2(np.arange(scores.shape[0], dtype=np.float64) + 2)),\n"
     ]
    },
    {
     "name": "stdout",
     "output_type": "stream",
     "text": [
      "EvaluatorHoldout: Processed 2081 (100.0%) in 2.44 sec. Users per second: 853\n"
     ]
    },
    {
     "name": "stderr",
     "output_type": "stream",
     "text": [
      "/Users/daniele/Desktop/RecSys/RecSysChallenge2023-Team/Evaluation/metrics.py:276: RuntimeWarning: overflow encountered in power\n",
      "  return np.sum(np.divide(np.power(2, scores) - 1, np.log2(np.arange(scores.shape[0], dtype=np.float64) + 2)),\n"
     ]
    },
    {
     "name": "stdout",
     "output_type": "stream",
     "text": [
      "EvaluatorHoldout: Processed 2081 (100.0%) in 2.48 sec. Users per second: 839\n"
     ]
    },
    {
     "name": "stderr",
     "output_type": "stream",
     "text": [
      "/Users/daniele/Desktop/RecSys/RecSysChallenge2023-Team/Evaluation/metrics.py:276: RuntimeWarning: overflow encountered in power\n",
      "  return np.sum(np.divide(np.power(2, scores) - 1, np.log2(np.arange(scores.shape[0], dtype=np.float64) + 2)),\n"
     ]
    },
    {
     "name": "stdout",
     "output_type": "stream",
     "text": [
      "Group 19, #users in group 2081, average p.len 87.91, median 78.0, min 62, max 281\n",
      "EvaluatorHoldout: Ignoring 1559 ( 3.7%) Users that have less than 1 test interactions\n",
      "EvaluatorHoldout: Ignoring 39548 Users\n",
      "EvaluatorHoldout: Processed 2081 (100.0%) in 2.30 sec. Users per second: 905\n",
      "EvaluatorHoldout: Processed 2081 (100.0%) in 2.74 sec. Users per second: 760\n",
      "EvaluatorHoldout: Processed 2081 (100.0%) in 2.69 sec. Users per second: 774\n"
     ]
    }
   ],
   "source": [
    "cutoff = 10\n",
    "\n",
    "for group_id in range(0, 20):\n",
    "    \n",
    "    start_pos = group_id*block_size\n",
    "    end_pos = min((group_id+1)*block_size, len(profile_length))\n",
    "    \n",
    "    users_in_group = sorted_users[start_pos:end_pos]\n",
    "    \n",
    "    users_in_group_p_len = profile_length[users_in_group]\n",
    "    \n",
    "    print(\"Group {}, #users in group {}, average p.len {:.2f}, median {}, min {}, max {}\".format(\n",
    "        group_id, \n",
    "        users_in_group.shape[0],\n",
    "        users_in_group_p_len.mean(),\n",
    "        np.median(users_in_group_p_len),\n",
    "        users_in_group_p_len.min(),\n",
    "        users_in_group_p_len.max()))\n",
    "    \n",
    "    \n",
    "    users_not_in_group_flag = np.isin(sorted_users, users_in_group, invert=True)\n",
    "    users_not_in_group = sorted_users[users_not_in_group_flag]\n",
    "    \n",
    "    evaluator_test = EvaluatorHoldout(URMv_test, cutoff_list=[cutoff], ignore_users=users_not_in_group)\n",
    "    \n",
    "    for label, recommender in recommender_object_dict.items():\n",
    "        result_df, _ = evaluator_test.evaluateRecommender(recommender)\n",
    "        if label in MAP_recommender_per_group:\n",
    "            MAP_recommender_per_group[label].append(result_df.loc[cutoff][\"MAP\"])\n",
    "        else:\n",
    "            MAP_recommender_per_group[label] = [result_df.loc[cutoff][\"MAP\"]]"
   ]
  },
  {
   "cell_type": "code",
   "execution_count": 11,
   "metadata": {},
   "outputs": [
    {
     "data": {
      "image/png": "[encoded data removed]",
      "text/plain": [
       "<Figure size 1400x1400 with 1 Axes>"
      ]
     },
     "metadata": {},
     "output_type": "display_data"
    }
   ],
   "source": [
    "import matplotlib.pyplot as plt\n",
    "%matplotlib inline  \n",
    "\n",
    "_ = plt.figure(figsize=(14, 14))\n",
    "for label, recommender in recommender_object_dict.items():\n",
    "    results = MAP_recommender_per_group[label]\n",
    "    plt.scatter(x=np.arange(0,len(results)), y=results, label=label,)\n",
    "plt.ylabel('MAP')\n",
    "plt.xlabel('User Group')\n",
    "plt.legend()\n",
    "plt.show()"
   ]
  },
  {
   "cell_type": "code",
   "execution_count": 12,
   "metadata": {},
   "outputs": [
    {
     "name": "stdout",
     "output_type": "stream",
     "text": [
      "EvaluatorHoldout: Ignoring 1559 ( 3.7%) Users that have less than 1 test interactions\n"
     ]
    },
    {
     "name": "stderr",
     "output_type": "stream",
     "text": [
      "/Users/daniele/Desktop/RecSys/RecSysChallenge2023-Team/Evaluation/metrics.py:276: RuntimeWarning: overflow encountered in power\n",
      "  return np.sum(np.divide(np.power(2, scores) - 1, np.log2(np.arange(scores.shape[0], dtype=np.float64) + 2)),\n",
      "/Users/daniele/Desktop/RecSys/RecSysChallenge2023-Team/Evaluation/metrics.py:270: RuntimeWarning: invalid value encountered in double_scalars\n",
      "  ndcg_ = rank_dcg / ideal_dcg\n"
     ]
    },
    {
     "name": "stdout",
     "output_type": "stream",
     "text": [
      "EvaluatorHoldout: Processed 40070 (100.0%) in 24.65 sec. Users per second: 1626\n"
     ]
    },
    {
     "data": {
      "text/html": [
       "<div>\n",
       "<style scoped>\n",
       "    .dataframe tbody tr th:only-of-type {\n",
       "        vertical-align: middle;\n",
       "    }\n",
       "\n",
       "    .dataframe tbody tr th {\n",
       "        vertical-align: top;\n",
       "    }\n",
       "\n",
       "    .dataframe thead th {\n",
       "        text-align: right;\n",
       "    }\n",
       "</style>\n",
       "<table border=\"1\" class=\"dataframe\">\n",
       "  <thead>\n",
       "    <tr style=\"text-align: right;\">\n",
       "      <th></th>\n",
       "      <th>PRECISION</th>\n",
       "      <th>PRECISION_RECALL_MIN_DEN</th>\n",
       "      <th>RECALL</th>\n",
       "      <th>MAP</th>\n",
       "      <th>MAP_MIN_DEN</th>\n",
       "      <th>MRR</th>\n",
       "      <th>NDCG</th>\n",
       "      <th>F1</th>\n",
       "      <th>HIT_RATE</th>\n",
       "      <th>ARHR_ALL_HITS</th>\n",
       "      <th>...</th>\n",
       "      <th>COVERAGE_USER</th>\n",
       "      <th>COVERAGE_USER_HIT</th>\n",
       "      <th>USERS_IN_GT</th>\n",
       "      <th>DIVERSITY_GINI</th>\n",
       "      <th>SHANNON_ENTROPY</th>\n",
       "      <th>RATIO_DIVERSITY_HERFINDAHL</th>\n",
       "      <th>RATIO_DIVERSITY_GINI</th>\n",
       "      <th>RATIO_SHANNON_ENTROPY</th>\n",
       "      <th>RATIO_AVERAGE_POPULARITY</th>\n",
       "      <th>RATIO_NOVELTY</th>\n",
       "    </tr>\n",
       "    <tr>\n",
       "      <th>cutoff</th>\n",
       "      <th></th>\n",
       "      <th></th>\n",
       "      <th></th>\n",
       "      <th></th>\n",
       "      <th></th>\n",
       "      <th></th>\n",
       "      <th></th>\n",
       "      <th></th>\n",
       "      <th></th>\n",
       "      <th></th>\n",
       "      <th></th>\n",
       "      <th></th>\n",
       "      <th></th>\n",
       "      <th></th>\n",
       "      <th></th>\n",
       "      <th></th>\n",
       "      <th></th>\n",
       "      <th></th>\n",
       "      <th></th>\n",
       "      <th></th>\n",
       "      <th></th>\n",
       "    </tr>\n",
       "  </thead>\n",
       "  <tbody>\n",
       "    <tr>\n",
       "      <th>10</th>\n",
       "      <td>0.042855</td>\n",
       "      <td>0.072939</td>\n",
       "      <td>0.068376</td>\n",
       "      <td>0.021321</td>\n",
       "      <td>0.035733</td>\n",
       "      <td>0.141354</td>\n",
       "      <td>NaN</td>\n",
       "      <td>0.052688</td>\n",
       "      <td>0.282705</td>\n",
       "      <td>0.172032</td>\n",
       "      <td>...</td>\n",
       "      <td>0.96255</td>\n",
       "      <td>0.272118</td>\n",
       "      <td>0.96255</td>\n",
       "      <td>0.016824</td>\n",
       "      <td>8.968007</td>\n",
       "      <td>0.995176</td>\n",
       "      <td>0.038472</td>\n",
       "      <td>0.666857</td>\n",
       "      <td>3.618898</td>\n",
       "      <td>0.268092</td>\n",
       "    </tr>\n",
       "  </tbody>\n",
       "</table>\n",
       "<p>1 rows × 27 columns</p>\n",
       "</div>"
      ],
      "text/plain": [
       "       PRECISION PRECISION_RECALL_MIN_DEN    RECALL       MAP MAP_MIN_DEN  \\\n",
       "cutoff                                                                      \n",
       "10      0.042855                 0.072939  0.068376  0.021321    0.035733   \n",
       "\n",
       "             MRR NDCG        F1  HIT_RATE ARHR_ALL_HITS  ... COVERAGE_USER  \\\n",
       "cutoff                                                   ...                 \n",
       "10      0.141354  NaN  0.052688  0.282705      0.172032  ...       0.96255   \n",
       "\n",
       "       COVERAGE_USER_HIT USERS_IN_GT DIVERSITY_GINI SHANNON_ENTROPY  \\\n",
       "cutoff                                                                \n",
       "10              0.272118     0.96255       0.016824        8.968007   \n",
       "\n",
       "       RATIO_DIVERSITY_HERFINDAHL RATIO_DIVERSITY_GINI RATIO_SHANNON_ENTROPY  \\\n",
       "cutoff                                                                         \n",
       "10                       0.995176             0.038472              0.666857   \n",
       "\n",
       "       RATIO_AVERAGE_POPULARITY RATIO_NOVELTY  \n",
       "cutoff                                         \n",
       "10                     3.618898      0.268092  \n",
       "\n",
       "[1 rows x 27 columns]"
      ]
     },
     "execution_count": 12,
     "metadata": {},
     "output_type": "execute_result"
    }
   ],
   "source": [
    "evaluator_test = EvaluatorHoldout(URMv_test, [10])\n",
    "ris, _ = evaluator_test.evaluateRecommender(slim_elastic_high)\n",
    "ris"
   ]
  }
 ],
 "metadata": {
  "kernelspec": {
   "display_name": "base",
   "language": "python",
   "name": "python3"
  },
  "language_info": {
   "codemirror_mode": {
    "name": "ipython",
    "version": 3
   },
   "file_extension": ".py",
   "mimetype": "text/x-python",
   "name": "python",
   "nbconvert_exporter": "python",
   "pygments_lexer": "ipython3",
   "version": "3.9.13"
  },
  "orig_nbformat": 4,
  "vscode": {
   "interpreter": {
    "hash": "6e76083d1a5f4c0027e70cf105b7627b1b5e567462449feedfd1ad9407b42e24"
   }
  }
 },
 "nbformat": 4,
 "nbformat_minor": 2
}
