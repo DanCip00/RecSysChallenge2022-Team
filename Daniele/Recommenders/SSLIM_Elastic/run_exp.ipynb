{
 "cells": [
  {
   "cell_type": "code",
   "execution_count": 1,
   "metadata": {},
   "outputs": [
    {
     "name": "stdout",
     "output_type": "stream",
     "text": [
      "/Users/daniele/Desktop/RecSys/RecSysChallenge2023-Team\n"
     ]
    },
    {
     "name": "stderr",
     "output_type": "stream",
     "text": [
      "100%|██████████| 27968/27968 [00:01<00:00, 16806.11it/s]\n",
      "100%|██████████| 1051828/1051828 [00:00<00:00, 1770983.51it/s]\n",
      "100%|██████████| 27968/27968 [00:01<00:00, 18732.74it/s]\n",
      "100%|██████████| 663370/663370 [00:00<00:00, 1036522.02it/s]\n"
     ]
    },
    {
     "name": "stdout",
     "output_type": "stream",
     "text": [
      "SLIMElasticNetRecommender: URM Detected 3461 (12.4%) items with no interactions.\n"
     ]
    },
    {
     "name": "stderr",
     "output_type": "stream",
     "text": [
      " 89%|████████▉ | 24872/27968 [15:37<43:37,  1.18it/s]  "
     ]
    },
    {
     "ename": "KeyboardInterrupt",
     "evalue": "",
     "output_type": "error",
     "traceback": [
      "\u001b[0;31m---------------------------------------------------------------------------\u001b[0m",
      "\u001b[0;31mIndexError\u001b[0m                                Traceback (most recent call last)",
      "File \u001b[0;32m~/opt/anaconda3/lib/python3.9/multiprocessing/pool.py:853\u001b[0m, in \u001b[0;36mIMapIterator.next\u001b[0;34m(self, timeout)\u001b[0m\n\u001b[1;32m    852\u001b[0m \u001b[39mtry\u001b[39;00m:\n\u001b[0;32m--> 853\u001b[0m     item \u001b[39m=\u001b[39m \u001b[39mself\u001b[39;49m\u001b[39m.\u001b[39;49m_items\u001b[39m.\u001b[39;49mpopleft()\n\u001b[1;32m    854\u001b[0m \u001b[39mexcept\u001b[39;00m \u001b[39mIndexError\u001b[39;00m:\n",
      "\u001b[0;31mIndexError\u001b[0m: pop from an empty deque",
      "\nDuring handling of the above exception, another exception occurred:\n",
      "\u001b[0;31mKeyboardInterrupt\u001b[0m                         Traceback (most recent call last)",
      "\u001b[1;32m/Users/daniele/Desktop/RecSys/RecSysChallenge2023-Team/Daniele/Recommenders/SSLIM_Elastic/run_exp.ipynb Cell 1\u001b[0m in \u001b[0;36m<cell line: 36>\u001b[0;34m()\u001b[0m\n\u001b[1;32m     <a href='vscode-notebook-cell:/Users/daniele/Desktop/RecSys/RecSysChallenge2023-Team/Daniele/Recommenders/SSLIM_Elastic/run_exp.ipynb#W0sZmlsZQ%3D%3D?line=32'>33</a>\u001b[0m recommender \u001b[39m=\u001b[39m MultiThreadSLIM_SLIMElasticNetRecommender(URM_all)\n\u001b[1;32m     <a href='vscode-notebook-cell:/Users/daniele/Desktop/RecSys/RecSysChallenge2023-Team/Daniele/Recommenders/SSLIM_Elastic/run_exp.ipynb#W0sZmlsZQ%3D%3D?line=34'>35</a>\u001b[0m \u001b[39m#{'alpha': 0.00403108385692859, 'l1_ratio': 0.005489484881997955, 'topK': 842} -> MAP 0.0285183\u001b[39;00m\n\u001b[0;32m---> <a href='vscode-notebook-cell:/Users/daniele/Desktop/RecSys/RecSysChallenge2023-Team/Daniele/Recommenders/SSLIM_Elastic/run_exp.ipynb#W0sZmlsZQ%3D%3D?line=35'>36</a>\u001b[0m recommender\u001b[39m.\u001b[39;49mfit(topK\u001b[39m=\u001b[39;49m \u001b[39m842\u001b[39;49m, alpha\u001b[39m=\u001b[39;49m \u001b[39m0.00403108385692859\u001b[39;49m, l1_ratio\u001b[39m=\u001b[39;49m \u001b[39m0.005489484881997955\u001b[39;49m,workers\u001b[39m=\u001b[39;49m\u001b[39m4\u001b[39;49m)\n\u001b[1;32m     <a href='vscode-notebook-cell:/Users/daniele/Desktop/RecSys/RecSysChallenge2023-Team/Daniele/Recommenders/SSLIM_Elastic/run_exp.ipynb#W0sZmlsZQ%3D%3D?line=39'>40</a>\u001b[0m f \u001b[39m=\u001b[39m \u001b[39mopen\u001b[39m(\u001b[39m\"\u001b[39m\u001b[39msubmission.csv\u001b[39m\u001b[39m\"\u001b[39m, \u001b[39m\"\u001b[39m\u001b[39mw+\u001b[39m\u001b[39m\"\u001b[39m)\n\u001b[1;32m     <a href='vscode-notebook-cell:/Users/daniele/Desktop/RecSys/RecSysChallenge2023-Team/Daniele/Recommenders/SSLIM_Elastic/run_exp.ipynb#W0sZmlsZQ%3D%3D?line=40'>41</a>\u001b[0m f\u001b[39m.\u001b[39mwrite(\u001b[39m\"\u001b[39m\u001b[39muser_id,item_list\u001b[39m\u001b[39m\\n\u001b[39;00m\u001b[39m\"\u001b[39m)\n",
      "File \u001b[0;32m~/Desktop/RecSys/RecSysChallenge2023-Team/Recommenders/SLIM/SLIMElasticNetRecommender.py:240\u001b[0m, in \u001b[0;36mMultiThreadSLIM_SLIMElasticNetRecommender.fit\u001b[0;34m(self, alpha, l1_ratio, positive_only, topK, verbose, workers)\u001b[0m\n\u001b[1;32m    238\u001b[0m \u001b[39m# res contains a vector of (values, rows, cols) tuples\u001b[39;00m\n\u001b[1;32m    239\u001b[0m values, rows, cols \u001b[39m=\u001b[39m [], [], []\n\u001b[0;32m--> 240\u001b[0m \u001b[39mfor\u001b[39;00m values_, rows_, cols_ \u001b[39min\u001b[39;00m pool\u001b[39m.\u001b[39mimap_unordered(_pfit, itemchunks, pool_chunksize):\n\u001b[1;32m    241\u001b[0m     values\u001b[39m.\u001b[39mextend(values_)\n\u001b[1;32m    242\u001b[0m     rows\u001b[39m.\u001b[39mextend(rows_)\n",
      "File \u001b[0;32m~/opt/anaconda3/lib/python3.9/multiprocessing/pool.py:448\u001b[0m, in \u001b[0;36m<genexpr>\u001b[0;34m(.0)\u001b[0m\n\u001b[1;32m    440\u001b[0m result \u001b[39m=\u001b[39m IMapUnorderedIterator(\u001b[39mself\u001b[39m)\n\u001b[1;32m    441\u001b[0m \u001b[39mself\u001b[39m\u001b[39m.\u001b[39m_taskqueue\u001b[39m.\u001b[39mput(\n\u001b[1;32m    442\u001b[0m     (\n\u001b[1;32m    443\u001b[0m         \u001b[39mself\u001b[39m\u001b[39m.\u001b[39m_guarded_task_generation(result\u001b[39m.\u001b[39m_job,\n\u001b[0;32m   (...)\u001b[0m\n\u001b[1;32m    446\u001b[0m         result\u001b[39m.\u001b[39m_set_length\n\u001b[1;32m    447\u001b[0m     ))\n\u001b[0;32m--> 448\u001b[0m \u001b[39mreturn\u001b[39;00m (item \u001b[39mfor\u001b[39;00m chunk \u001b[39min\u001b[39;00m result \u001b[39mfor\u001b[39;00m item \u001b[39min\u001b[39;00m chunk)\n",
      "File \u001b[0;32m~/opt/anaconda3/lib/python3.9/multiprocessing/pool.py:858\u001b[0m, in \u001b[0;36mIMapIterator.next\u001b[0;34m(self, timeout)\u001b[0m\n\u001b[1;32m    856\u001b[0m     \u001b[39mself\u001b[39m\u001b[39m.\u001b[39m_pool \u001b[39m=\u001b[39m \u001b[39mNone\u001b[39;00m\n\u001b[1;32m    857\u001b[0m     \u001b[39mraise\u001b[39;00m \u001b[39mStopIteration\u001b[39;00m \u001b[39mfrom\u001b[39;00m \u001b[39mNone\u001b[39m\n\u001b[0;32m--> 858\u001b[0m \u001b[39mself\u001b[39;49m\u001b[39m.\u001b[39;49m_cond\u001b[39m.\u001b[39;49mwait(timeout)\n\u001b[1;32m    859\u001b[0m \u001b[39mtry\u001b[39;00m:\n\u001b[1;32m    860\u001b[0m     item \u001b[39m=\u001b[39m \u001b[39mself\u001b[39m\u001b[39m.\u001b[39m_items\u001b[39m.\u001b[39mpopleft()\n",
      "File \u001b[0;32m~/opt/anaconda3/lib/python3.9/threading.py:312\u001b[0m, in \u001b[0;36mCondition.wait\u001b[0;34m(self, timeout)\u001b[0m\n\u001b[1;32m    310\u001b[0m \u001b[39mtry\u001b[39;00m:    \u001b[39m# restore state no matter what (e.g., KeyboardInterrupt)\u001b[39;00m\n\u001b[1;32m    311\u001b[0m     \u001b[39mif\u001b[39;00m timeout \u001b[39mis\u001b[39;00m \u001b[39mNone\u001b[39;00m:\n\u001b[0;32m--> 312\u001b[0m         waiter\u001b[39m.\u001b[39;49macquire()\n\u001b[1;32m    313\u001b[0m         gotit \u001b[39m=\u001b[39m \u001b[39mTrue\u001b[39;00m\n\u001b[1;32m    314\u001b[0m     \u001b[39melse\u001b[39;00m:\n",
      "\u001b[0;31mKeyboardInterrupt\u001b[0m: "
     ]
    }
   ],
   "source": [
    "import os\n",
    "import sys\n",
    "while os.path.split(os.getcwd())[1] != 'RecSysChallenge2023-Team':\n",
    "    os.chdir('..')\n",
    "sys.path.insert(1, os.getcwd())\n",
    "\n",
    "import Daniele.Utils.MatrixManipulation as mm\n",
    "import Daniele.Utils.MyDataManager as dm\n",
    "\n",
    "from Data_manager.split_functions.split_train_validation_random_holdout import split_train_in_two_percentage_global_sample\n",
    "from Evaluation.Evaluator import EvaluatorHoldout\n",
    "from sklearn.preprocessing import normalize\n",
    "import similaripy\n",
    "import numpy as np\n",
    "from tqdm import tqdm\n",
    "\n",
    "URMv = dm.getURMviews()\n",
    "URMo = dm.getURMopen()\n",
    "URM_all = mm.defaultExplicitURM(urmv=URMv, urmo=URMo, normalize=True, add_aug=False)\n",
    "ICMt=dm.getICMt()\n",
    "ICMl=dm.getICMl()\n",
    "\n",
    "\n",
    "\n",
    "\n",
    "\n",
    "from Recommenders.SLIM.SLIMElasticNetRecommender import MultiThreadSLIM_SLIMElasticNetRecommender\n",
    "\n",
    "recommender = MultiThreadSLIM_SLIMElasticNetRecommender\n",
    "\n",
    "\n",
    "\n",
    "recommender = MultiThreadSLIM_SLIMElasticNetRecommender(URM_all)\n",
    "\n",
    "#{'alpha': 0.00403108385692859, 'l1_ratio': 0.005489484881997955, 'topK': 842} -> MAP 0.0285183\n",
    "recommender.fit(topK= 842, alpha= 0.00403108385692859, l1_ratio= 0.005489484881997955,workers=4)\n",
    "\n",
    "\n",
    "\n",
    "f = open(\"submission.csv\", \"w+\")\n",
    "f.write(\"user_id,item_list\\n\")\n",
    "for t in tqdm(dm.getUserIDtest_df().user_id):\n",
    "    recommended_items = recommender.recommend(t, cutoff=10, remove_seen_flag=True)\n",
    "    well_formatted = \" \".join([str(x) for x in recommended_items])\n",
    "    f.write(f\"{t}, {well_formatted}\\n\")"
   ]
  }
 ],
 "metadata": {
  "kernelspec": {
   "display_name": "base",
   "language": "python",
   "name": "python3"
  },
  "language_info": {
   "codemirror_mode": {
    "name": "ipython",
    "version": 3
   },
   "file_extension": ".py",
   "mimetype": "text/x-python",
   "name": "python",
   "nbconvert_exporter": "python",
   "pygments_lexer": "ipython3",
   "version": "3.9.13 | packaged by conda-forge | (main, May 27 2022, 17:00:33) \n[Clang 13.0.1 ]"
  },
  "orig_nbformat": 4,
  "vscode": {
   "interpreter": {
    "hash": "6e76083d1a5f4c0027e70cf105b7627b1b5e567462449feedfd1ad9407b42e24"
   }
  }
 },
 "nbformat": 4,
 "nbformat_minor": 2
}
