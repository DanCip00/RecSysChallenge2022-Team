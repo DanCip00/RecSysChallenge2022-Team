{
 "cells": [
  {
   "cell_type": "code",
   "execution_count": 1,
   "metadata": {},
   "outputs": [
    {
     "name": "stdout",
     "output_type": "stream",
     "text": [
      "/Users/daniele/Desktop/RecSys/RecSysChallenge2023-Team\n",
      "1 Physical GPUs, 1 Logical GPUs\n",
      "Metal device set to: Apple M1\n",
      "\n",
      "systemMemory: 16.00 GB\n",
      "maxCacheSize: 5.33 GB\n",
      "\n"
     ]
    },
    {
     "name": "stderr",
     "output_type": "stream",
     "text": [
      "2022-12-28 11:51:53.404370: I tensorflow/core/common_runtime/pluggable_device/pluggable_device_factory.cc:306] Could not identify NUMA node of platform GPU ID 0, defaulting to 0. Your kernel may not have been built with NUMA support.\n",
      "2022-12-28 11:51:53.404468: I tensorflow/core/common_runtime/pluggable_device/pluggable_device_factory.cc:272] Created TensorFlow device (/job:localhost/replica:0/task:0/device:GPU:0 with 0 MB memory) -> physical PluggableDevice (device: 0, name: METAL, pci bus id: <undefined>)\n"
     ]
    },
    {
     "name": "stdout",
     "output_type": "stream",
     "text": [
      "Warning: 1592 (3.82 %) of 41629 users have no sampled items\n"
     ]
    },
    {
     "name": "stderr",
     "output_type": "stream",
     "text": [
      "100%|██████████| 27968/27968 [00:02<00:00, 11101.50it/s]\n",
      "100%|██████████| 841462/841462 [00:00<00:00, 1233077.83it/s]\n",
      "100%|██████████| 27968/27968 [00:01<00:00, 17764.74it/s]\n",
      "100%|██████████| 663370/663370 [00:00<00:00, 1720800.10it/s]\n"
     ]
    },
    {
     "name": "stdout",
     "output_type": "stream",
     "text": [
      "SLIMElasticNetRecommender: URM Detected 2 ( 0.0%) users with no interactions.\n"
     ]
    },
    {
     "name": "stderr",
     "output_type": "stream",
     "text": [
      "100%|█████████▉| 27864/27968 [12:37<00:02, 36.79it/s]\n"
     ]
    }
   ],
   "source": [
    "\n",
    "import os \n",
    "import sys\n",
    "while os.path.split(os.getcwd())[1] != 'RecSysChallenge2023-Team':\n",
    "    os.chdir('..')\n",
    "sys.path.insert(1, os.getcwd())\n",
    "\n",
    "################################# IMPORT HyperTuning  #################################\n",
    "from HyperparameterTuning.SearchBayesianSkopt import SearchBayesianSkopt\n",
    "from HyperparameterTuning.SearchAbstractClass import SearchInputRecommenderArgs\n",
    "from skopt.space import Real, Integer, Categorical\n",
    "\n",
    "################################# IMPORT RECOMMENDERS #################################\n",
    "#from Recommenders.SLIM.SLIMElasticNetRecommender import SLIMElasticNetRecommender\n",
    "from Recommenders.SLIM.SLIMElasticNetRecommender import MultiThreadSLIM_SLIMElasticNetRecommender\n",
    "from Recommenders.BaseRecommender import BaseRecommender\n",
    "from Recommenders.IR_feature_weighting import okapi_BM_25\n",
    "\n",
    "################################## IMPORT LIBRARIES ##################################\n",
    "import scipy.sparse as sps\n",
    "from tqdm import tqdm\n",
    "import pandas as pd\n",
    "import numpy as np\n",
    "import similaripy\n",
    "import math \n",
    "import os\n",
    "\n",
    "import Daniele.Utils.MyDataManager as dm\n",
    "import Daniele.Utils.MatrixManipulation as mm\n",
    "import Daniele.Utils.SaveSparceMatrix as ssm\n",
    "\n",
    "\n",
    "from Data_manager.split_functions.split_train_validation_random_holdout import split_train_in_two_percentage_global_sample\n",
    "from Evaluation.Evaluator import EvaluatorHoldout\n",
    "from sklearn.preprocessing import normalize\n",
    "\n",
    "import tensorflow as tf\n",
    "gpus = tf.config.experimental.list_physical_devices('GPU')\n",
    "if gpus:\n",
    "  try:\n",
    "    # Currently, memory growth needs to be the same across GPUs\n",
    "    for gpu in gpus:\n",
    "      tf.config.experimental.set_memory_growth(gpu, True)\n",
    "    logical_gpus = tf.config.experimental.list_logical_devices('GPU')\n",
    "    print(len(gpus), \"Physical GPUs,\", len(logical_gpus), \"Logical GPUs\")\n",
    "  except RuntimeError as e:\n",
    "    # Memory growth must be set before GPUs have been initialized\n",
    "    print(e)\n",
    "\n",
    "URMv = dm.getURMviews()\n",
    "URMo = dm.getURMopen()\n",
    "ICMt = dm.getICMt()\n",
    "ICMl = dm.getICMl()\n",
    "\n",
    "URMv_train, URMv_test = split_train_in_two_percentage_global_sample(URMv, train_percentage = 0.80)\n",
    "\n",
    "urm_def = mm.defaultExplicitURM(urmv=URMv_train,urmo=URMo,icml=ICMl,icmt=ICMt, normalize=True, add_aug=True,appendICM=True)\n",
    "\n",
    "recommender = MultiThreadSLIM_SLIMElasticNetRecommender(urm_def)\n",
    "#{'topK': 193, 'l1_ratio': 0.005994689759900054, 'alpha': 0.9611844382432155, 'workers': 4} ->MAP 0.017\n",
    "#{'topK': 1397, 'l1_ratio': 0.00038352865566906505, 'alpha': 3.196763567247155, 'workers': 5} -> MAP 0.017\n",
    "recommender.fit(topK= 1397, l1_ratio= 0.00038352865566906505, alpha= 3.196763567247155,workers= 4)\n",
    "\n"
   ]
  },
  {
   "cell_type": "code",
   "execution_count": 2,
   "metadata": {},
   "outputs": [
    {
     "name": "stdout",
     "output_type": "stream",
     "text": [
      "EvaluatorHoldout: Ignoring 1592 ( 3.8%) Users that have less than 1 test interactions\n"
     ]
    },
    {
     "name": "stderr",
     "output_type": "stream",
     "text": [
      "/Users/daniele/Desktop/RecSys/RecSysChallenge2023-Team/Evaluation/metrics.py:276: RuntimeWarning: overflow encountered in power\n",
      "  return np.sum(np.divide(np.power(2, scores) - 1, np.log2(np.arange(scores.shape[0], dtype=np.float64) + 2)),\n"
     ]
    },
    {
     "name": "stdout",
     "output_type": "stream",
     "text": [
      "EvaluatorHoldout: Processed 40037 (100.0%) in 34.04 sec. Users per second: 1176\n"
     ]
    },
    {
     "data": {
      "text/html": [
       "<div>\n",
       "<style scoped>\n",
       "    .dataframe tbody tr th:only-of-type {\n",
       "        vertical-align: middle;\n",
       "    }\n",
       "\n",
       "    .dataframe tbody tr th {\n",
       "        vertical-align: top;\n",
       "    }\n",
       "\n",
       "    .dataframe thead th {\n",
       "        text-align: right;\n",
       "    }\n",
       "</style>\n",
       "<table border=\"1\" class=\"dataframe\">\n",
       "  <thead>\n",
       "    <tr style=\"text-align: right;\">\n",
       "      <th></th>\n",
       "      <th>PRECISION</th>\n",
       "      <th>PRECISION_RECALL_MIN_DEN</th>\n",
       "      <th>RECALL</th>\n",
       "      <th>MAP</th>\n",
       "      <th>MAP_MIN_DEN</th>\n",
       "      <th>MRR</th>\n",
       "      <th>NDCG</th>\n",
       "      <th>F1</th>\n",
       "      <th>HIT_RATE</th>\n",
       "      <th>ARHR_ALL_HITS</th>\n",
       "      <th>...</th>\n",
       "      <th>COVERAGE_USER</th>\n",
       "      <th>COVERAGE_USER_HIT</th>\n",
       "      <th>USERS_IN_GT</th>\n",
       "      <th>DIVERSITY_GINI</th>\n",
       "      <th>SHANNON_ENTROPY</th>\n",
       "      <th>RATIO_DIVERSITY_HERFINDAHL</th>\n",
       "      <th>RATIO_DIVERSITY_GINI</th>\n",
       "      <th>RATIO_SHANNON_ENTROPY</th>\n",
       "      <th>RATIO_AVERAGE_POPULARITY</th>\n",
       "      <th>RATIO_NOVELTY</th>\n",
       "    </tr>\n",
       "    <tr>\n",
       "      <th>cutoff</th>\n",
       "      <th></th>\n",
       "      <th></th>\n",
       "      <th></th>\n",
       "      <th></th>\n",
       "      <th></th>\n",
       "      <th></th>\n",
       "      <th></th>\n",
       "      <th></th>\n",
       "      <th></th>\n",
       "      <th></th>\n",
       "      <th></th>\n",
       "      <th></th>\n",
       "      <th></th>\n",
       "      <th></th>\n",
       "      <th></th>\n",
       "      <th></th>\n",
       "      <th></th>\n",
       "      <th></th>\n",
       "      <th></th>\n",
       "      <th></th>\n",
       "      <th></th>\n",
       "    </tr>\n",
       "  </thead>\n",
       "  <tbody>\n",
       "    <tr>\n",
       "      <th>10</th>\n",
       "      <td>0.039726</td>\n",
       "      <td>0.066947</td>\n",
       "      <td>0.062542</td>\n",
       "      <td>0.01959</td>\n",
       "      <td>0.032294</td>\n",
       "      <td>0.130715</td>\n",
       "      <td>0.057034</td>\n",
       "      <td>0.048589</td>\n",
       "      <td>0.264081</td>\n",
       "      <td>0.158608</td>\n",
       "      <td>...</td>\n",
       "      <td>0.961757</td>\n",
       "      <td>0.253982</td>\n",
       "      <td>0.961757</td>\n",
       "      <td>0.019542</td>\n",
       "      <td>9.08626</td>\n",
       "      <td>0.995965</td>\n",
       "      <td>0.04312</td>\n",
       "      <td>0.672057</td>\n",
       "      <td>3.242792</td>\n",
       "      <td>0.263394</td>\n",
       "    </tr>\n",
       "  </tbody>\n",
       "</table>\n",
       "<p>1 rows × 27 columns</p>\n",
       "</div>"
      ],
      "text/plain": [
       "       PRECISION PRECISION_RECALL_MIN_DEN    RECALL      MAP MAP_MIN_DEN  \\\n",
       "cutoff                                                                     \n",
       "10      0.039726                 0.066947  0.062542  0.01959    0.032294   \n",
       "\n",
       "             MRR      NDCG        F1  HIT_RATE ARHR_ALL_HITS  ...  \\\n",
       "cutoff                                                        ...   \n",
       "10      0.130715  0.057034  0.048589  0.264081      0.158608  ...   \n",
       "\n",
       "       COVERAGE_USER COVERAGE_USER_HIT USERS_IN_GT DIVERSITY_GINI  \\\n",
       "cutoff                                                              \n",
       "10          0.961757          0.253982    0.961757       0.019542   \n",
       "\n",
       "       SHANNON_ENTROPY RATIO_DIVERSITY_HERFINDAHL RATIO_DIVERSITY_GINI  \\\n",
       "cutoff                                                                   \n",
       "10             9.08626                   0.995965              0.04312   \n",
       "\n",
       "       RATIO_SHANNON_ENTROPY RATIO_AVERAGE_POPULARITY RATIO_NOVELTY  \n",
       "cutoff                                                               \n",
       "10                  0.672057                 3.242792      0.263394  \n",
       "\n",
       "[1 rows x 27 columns]"
      ]
     },
     "execution_count": 2,
     "metadata": {},
     "output_type": "execute_result"
    }
   ],
   "source": [
    "evaluator_test = EvaluatorHoldout(URMv_test, [10])\n",
    "ris, _ = evaluator_test.evaluateRecommender(recommender)\n",
    "ris"
   ]
  }
 ],
 "metadata": {
  "kernelspec": {
   "display_name": "base",
   "language": "python",
   "name": "python3"
  },
  "language_info": {
   "codemirror_mode": {
    "name": "ipython",
    "version": 3
   },
   "file_extension": ".py",
   "mimetype": "text/x-python",
   "name": "python",
   "nbconvert_exporter": "python",
   "pygments_lexer": "ipython3",
   "version": "3.9.13"
  },
  "orig_nbformat": 4,
  "vscode": {
   "interpreter": {
    "hash": "6e76083d1a5f4c0027e70cf105b7627b1b5e567462449feedfd1ad9407b42e24"
   }
  }
 },
 "nbformat": 4,
 "nbformat_minor": 2
}
