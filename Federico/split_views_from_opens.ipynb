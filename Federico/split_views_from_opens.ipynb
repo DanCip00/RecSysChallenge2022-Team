{
 "cells": [
  {
   "cell_type": "markdown",
   "source": [
    "# Kaggle challenge: TV-series\n",
    "\n",
    "### Key points\n",
    "\n",
    "- use open interactions to filter items as to view an item one must open it first\n",
    "- must recommend new items with no interactions -> at the end use all the data\n",
    "- should use completion percentage to assume a implicit ranking for that item"
   ],
   "metadata": {
    "collapsed": false
   }
  },
  {
   "cell_type": "code",
   "execution_count": 42,
   "outputs": [
    {
     "name": "stdout",
     "output_type": "stream",
     "text": [
      "The autoreload extension is already loaded. To reload it, use:\n",
      "  %reload_ext autoreload\n"
     ]
    }
   ],
   "source": [
    "%load_ext autoreload\n",
    "%autoreload 2\n",
    "\n",
    "import os\n",
    "os.chdir(\"/Users/federicobono/Documenti/Polimi/RecSys/repos/RecSysChallenge2023-Team\")"
   ],
   "metadata": {
    "collapsed": false
   }
  },
  {
   "cell_type": "code",
   "execution_count": 43,
   "metadata": {
    "collapsed": true
   },
   "outputs": [],
   "source": [
    "import numpy as np\n",
    "import pandas as pd\n",
    "import scipy.sparse as sp\n",
    "\n",
    "from datetime import timedelta\n",
    "from ast import literal_eval\n",
    "\n",
    "import random\n",
    "\n",
    "from sklearn.model_selection import train_test_split\n",
    "from typing import Optional"
   ]
  },
  {
   "cell_type": "code",
   "execution_count": 44,
   "outputs": [
    {
     "name": "stdout",
     "output_type": "stream",
     "text": [
      "41629 0 41628\n",
      "24507 0 24506\n",
      "1554640\n"
     ]
    },
    {
     "name": "stderr",
     "output_type": "stream",
     "text": [
      "/Users/federicobono/Documenti/Polimi/RecSys/repos/RecSysChallenge2023-Team/Federico/reader.py:128: SettingWithCopyWarning: \n",
      "A value is trying to be set on a copy of a slice from a DataFrame.\n",
      "Try using .loc[row_indexer,col_indexer] = value instead\n",
      "\n",
      "See the caveats in the documentation: https://pandas.pydata.org/pandas-docs/stable/user_guide/indexing.html#returning-a-view-versus-a-copy\n",
      "  data['ratings'] = 1\n"
     ]
    }
   ],
   "source": [
    "from Federico.reader import Reader\n",
    "reader = Reader()\n",
    "train_data, test_data = reader.get_train_test_split()\n",
    "data = reader.process_data(train_data)\n",
    "# data = data.loc[data.is_valid == 1].copy()\n",
    "URM_train = reader.data_processor.urm\n",
    "urm_test = reader.to_urm(test_data)"
   ],
   "metadata": {
    "collapsed": false
   }
  },
  {
   "cell_type": "code",
   "execution_count": 46,
   "outputs": [
    {
     "data": {
      "text/plain": "         user_id  item_id  view_count  open_count  length  type  is_valid  \\\n88          3989      678         2.0         2.0     1.0   3.0       NaN   \n197        27157     2677        22.0        56.0     1.0   2.0       NaN   \n208         8556      910        18.0        18.0    27.0   4.0       NaN   \n414        29415      916        15.0        73.0     3.0   1.0       NaN   \n424        20291     1370         2.0         2.0     1.0   3.0       NaN   \n...          ...      ...         ...         ...     ...   ...       ...   \n1320859    33571     2918        67.0        28.0    14.0   4.0       NaN   \n1320883    19947    17759        16.0         7.0     1.0   1.0       NaN   \n1321005     5635    10269         2.0         7.0    17.0   4.0       NaN   \n1321045     7863     2951        27.0        80.0     NaN   NaN       NaN   \n1321166    28473     9763         2.0         1.0     NaN   NaN       NaN   \n\n         total_interactions_count  item_avg_view  user_avg_view  \\\n88                            4.0       8.000000       2.666667   \n197                          78.0      25.666667      29.666667   \n208                          36.0      12.000000       5.333333   \n414                          88.0      88.333333       9.333333   \n424                           4.0       1.000000       1.333333   \n...                           ...            ...            ...   \n1320859                      95.0      48.000000      12.666667   \n1320883                      23.0      11.000000      12.666667   \n1321005                       9.0       1.000000      11.333333   \n1321045                     107.0      53.333333       3.666667   \n1321166                       3.0       1.000000       9.000000   \n\n         item_avg_open  user_avg_open  completion  item_avg_completion  \\\n88            5.000000       2.666667    2.000000             8.000000   \n197          61.000000      44.666667   22.000000            25.666667   \n208          25.333333       4.666667    0.666667             0.444444   \n414          59.666667      26.000000    5.000000            29.444444   \n424           1.000000       1.333333    2.000000             1.000000   \n...                ...            ...         ...                  ...   \n1320859      29.666667      29.333333    4.785714             3.428571   \n1320883       4.000000      10.666667   16.000000            11.000000   \n1321005       1.000000      28.666667    0.117647             0.058824   \n1321045      78.000000      20.666667         NaN                  NaN   \n1321166       1.333333      59.333333         NaN                  NaN   \n\n         user_avg_completion  view_ratings  open_ratings  completion_ratings  \\\n88                  2.000000           0.0           0.0                 0.0   \n197                26.000000           0.0           0.0                 0.0   \n208                 3.666667           0.0           0.0                 0.0   \n414                 7.666667           0.0           0.0                 0.0   \n424                 1.333333           0.0           0.0                 0.0   \n...                      ...           ...           ...                 ...   \n1320859             6.000000           0.0           0.0                 0.0   \n1320883             7.166667           0.0           0.0                 0.0   \n1321005             8.500000           0.0           0.0                 0.0   \n1321045             3.666667           0.0           0.0                 0.0   \n1321166             9.000000           0.0           0.0                 0.0   \n\n         ratings  \n88           0.0  \n197          0.0  \n208          0.0  \n414          0.0  \n424          0.0  \n...          ...  \n1320859      0.0  \n1320883      0.0  \n1321005      0.0  \n1321045      0.0  \n1321166      0.0  \n\n[16201 rows x 19 columns]",
      "text/html": "<div>\n<style scoped>\n    .dataframe tbody tr th:only-of-type {\n        vertical-align: middle;\n    }\n\n    .dataframe tbody tr th {\n        vertical-align: top;\n    }\n\n    .dataframe thead th {\n        text-align: right;\n    }\n</style>\n<table border=\"1\" class=\"dataframe\">\n  <thead>\n    <tr style=\"text-align: right;\">\n      <th></th>\n      <th>user_id</th>\n      <th>item_id</th>\n      <th>view_count</th>\n      <th>open_count</th>\n      <th>length</th>\n      <th>type</th>\n      <th>is_valid</th>\n      <th>total_interactions_count</th>\n      <th>item_avg_view</th>\n      <th>user_avg_view</th>\n      <th>item_avg_open</th>\n      <th>user_avg_open</th>\n      <th>completion</th>\n      <th>item_avg_completion</th>\n      <th>user_avg_completion</th>\n      <th>view_ratings</th>\n      <th>open_ratings</th>\n      <th>completion_ratings</th>\n      <th>ratings</th>\n    </tr>\n  </thead>\n  <tbody>\n    <tr>\n      <th>88</th>\n      <td>3989</td>\n      <td>678</td>\n      <td>2.0</td>\n      <td>2.0</td>\n      <td>1.0</td>\n      <td>3.0</td>\n      <td>NaN</td>\n      <td>4.0</td>\n      <td>8.000000</td>\n      <td>2.666667</td>\n      <td>5.000000</td>\n      <td>2.666667</td>\n      <td>2.000000</td>\n      <td>8.000000</td>\n      <td>2.000000</td>\n      <td>0.0</td>\n      <td>0.0</td>\n      <td>0.0</td>\n      <td>0.0</td>\n    </tr>\n    <tr>\n      <th>197</th>\n      <td>27157</td>\n      <td>2677</td>\n      <td>22.0</td>\n      <td>56.0</td>\n      <td>1.0</td>\n      <td>2.0</td>\n      <td>NaN</td>\n      <td>78.0</td>\n      <td>25.666667</td>\n      <td>29.666667</td>\n      <td>61.000000</td>\n      <td>44.666667</td>\n      <td>22.000000</td>\n      <td>25.666667</td>\n      <td>26.000000</td>\n      <td>0.0</td>\n      <td>0.0</td>\n      <td>0.0</td>\n      <td>0.0</td>\n    </tr>\n    <tr>\n      <th>208</th>\n      <td>8556</td>\n      <td>910</td>\n      <td>18.0</td>\n      <td>18.0</td>\n      <td>27.0</td>\n      <td>4.0</td>\n      <td>NaN</td>\n      <td>36.0</td>\n      <td>12.000000</td>\n      <td>5.333333</td>\n      <td>25.333333</td>\n      <td>4.666667</td>\n      <td>0.666667</td>\n      <td>0.444444</td>\n      <td>3.666667</td>\n      <td>0.0</td>\n      <td>0.0</td>\n      <td>0.0</td>\n      <td>0.0</td>\n    </tr>\n    <tr>\n      <th>414</th>\n      <td>29415</td>\n      <td>916</td>\n      <td>15.0</td>\n      <td>73.0</td>\n      <td>3.0</td>\n      <td>1.0</td>\n      <td>NaN</td>\n      <td>88.0</td>\n      <td>88.333333</td>\n      <td>9.333333</td>\n      <td>59.666667</td>\n      <td>26.000000</td>\n      <td>5.000000</td>\n      <td>29.444444</td>\n      <td>7.666667</td>\n      <td>0.0</td>\n      <td>0.0</td>\n      <td>0.0</td>\n      <td>0.0</td>\n    </tr>\n    <tr>\n      <th>424</th>\n      <td>20291</td>\n      <td>1370</td>\n      <td>2.0</td>\n      <td>2.0</td>\n      <td>1.0</td>\n      <td>3.0</td>\n      <td>NaN</td>\n      <td>4.0</td>\n      <td>1.000000</td>\n      <td>1.333333</td>\n      <td>1.000000</td>\n      <td>1.333333</td>\n      <td>2.000000</td>\n      <td>1.000000</td>\n      <td>1.333333</td>\n      <td>0.0</td>\n      <td>0.0</td>\n      <td>0.0</td>\n      <td>0.0</td>\n    </tr>\n    <tr>\n      <th>...</th>\n      <td>...</td>\n      <td>...</td>\n      <td>...</td>\n      <td>...</td>\n      <td>...</td>\n      <td>...</td>\n      <td>...</td>\n      <td>...</td>\n      <td>...</td>\n      <td>...</td>\n      <td>...</td>\n      <td>...</td>\n      <td>...</td>\n      <td>...</td>\n      <td>...</td>\n      <td>...</td>\n      <td>...</td>\n      <td>...</td>\n      <td>...</td>\n    </tr>\n    <tr>\n      <th>1320859</th>\n      <td>33571</td>\n      <td>2918</td>\n      <td>67.0</td>\n      <td>28.0</td>\n      <td>14.0</td>\n      <td>4.0</td>\n      <td>NaN</td>\n      <td>95.0</td>\n      <td>48.000000</td>\n      <td>12.666667</td>\n      <td>29.666667</td>\n      <td>29.333333</td>\n      <td>4.785714</td>\n      <td>3.428571</td>\n      <td>6.000000</td>\n      <td>0.0</td>\n      <td>0.0</td>\n      <td>0.0</td>\n      <td>0.0</td>\n    </tr>\n    <tr>\n      <th>1320883</th>\n      <td>19947</td>\n      <td>17759</td>\n      <td>16.0</td>\n      <td>7.0</td>\n      <td>1.0</td>\n      <td>1.0</td>\n      <td>NaN</td>\n      <td>23.0</td>\n      <td>11.000000</td>\n      <td>12.666667</td>\n      <td>4.000000</td>\n      <td>10.666667</td>\n      <td>16.000000</td>\n      <td>11.000000</td>\n      <td>7.166667</td>\n      <td>0.0</td>\n      <td>0.0</td>\n      <td>0.0</td>\n      <td>0.0</td>\n    </tr>\n    <tr>\n      <th>1321005</th>\n      <td>5635</td>\n      <td>10269</td>\n      <td>2.0</td>\n      <td>7.0</td>\n      <td>17.0</td>\n      <td>4.0</td>\n      <td>NaN</td>\n      <td>9.0</td>\n      <td>1.000000</td>\n      <td>11.333333</td>\n      <td>1.000000</td>\n      <td>28.666667</td>\n      <td>0.117647</td>\n      <td>0.058824</td>\n      <td>8.500000</td>\n      <td>0.0</td>\n      <td>0.0</td>\n      <td>0.0</td>\n      <td>0.0</td>\n    </tr>\n    <tr>\n      <th>1321045</th>\n      <td>7863</td>\n      <td>2951</td>\n      <td>27.0</td>\n      <td>80.0</td>\n      <td>NaN</td>\n      <td>NaN</td>\n      <td>NaN</td>\n      <td>107.0</td>\n      <td>53.333333</td>\n      <td>3.666667</td>\n      <td>78.000000</td>\n      <td>20.666667</td>\n      <td>NaN</td>\n      <td>NaN</td>\n      <td>3.666667</td>\n      <td>0.0</td>\n      <td>0.0</td>\n      <td>0.0</td>\n      <td>0.0</td>\n    </tr>\n    <tr>\n      <th>1321166</th>\n      <td>28473</td>\n      <td>9763</td>\n      <td>2.0</td>\n      <td>1.0</td>\n      <td>NaN</td>\n      <td>NaN</td>\n      <td>NaN</td>\n      <td>3.0</td>\n      <td>1.000000</td>\n      <td>9.000000</td>\n      <td>1.333333</td>\n      <td>59.333333</td>\n      <td>NaN</td>\n      <td>NaN</td>\n      <td>9.000000</td>\n      <td>0.0</td>\n      <td>0.0</td>\n      <td>0.0</td>\n      <td>0.0</td>\n    </tr>\n  </tbody>\n</table>\n<p>16201 rows × 19 columns</p>\n</div>"
     },
     "execution_count": 46,
     "metadata": {},
     "output_type": "execute_result"
    }
   ],
   "source": [
    "test_data = data[data.view_count > 1]\n",
    "test_data[test_data.is_valid != 1]"
   ],
   "metadata": {
    "collapsed": false
   }
  },
  {
   "cell_type": "code",
   "execution_count": 47,
   "outputs": [
    {
     "data": {
      "text/plain": "         user_id  item_id  view_count  open_count  length  type  is_valid  \\\n88          3989      678         2.0         2.0     1.0   3.0       NaN   \n8799       32093      678         3.0         0.0     1.0   3.0       1.0   \n11286       8593      678         2.0         0.0     1.0   3.0       1.0   \n23259      22422      678         2.0         1.0     1.0   3.0       1.0   \n29638      12147      678         2.0         1.0     1.0   3.0       1.0   \n...          ...      ...         ...         ...     ...   ...       ...   \n1265297    21242      678         2.0         0.0     1.0   3.0       1.0   \n1292979    25971      678         2.0         0.0     1.0   3.0       1.0   \n1297062    18553      678         3.0         0.0     1.0   3.0       1.0   \n1311166    30023      678         2.0         1.0     1.0   3.0       1.0   \n1315728     6472      678         2.0         2.0     1.0   3.0       NaN   \n\n         total_interactions_count  item_avg_view  user_avg_view  \\\n88                            4.0            8.0       2.666667   \n8799                          3.0            8.0      12.333333   \n11286                         2.0            8.0      29.000000   \n23259                         3.0            8.0      10.000000   \n29638                         3.0            8.0       1.333333   \n...                           ...            ...            ...   \n1265297                       2.0            8.0      14.666667   \n1292979                       2.0            8.0      30.666667   \n1297062                       3.0            8.0      12.333333   \n1311166                       3.0            8.0       8.333333   \n1315728                       4.0            8.0       5.666667   \n\n         item_avg_open  user_avg_open  completion  item_avg_completion  \\\n88                 5.0       2.666667         2.0                  8.0   \n8799               5.0       1.000000         3.0                  8.0   \n11286              5.0       1.000000         2.0                  8.0   \n23259              5.0      22.333333         2.0                  8.0   \n29638              5.0       1.000000         2.0                  8.0   \n...                ...            ...         ...                  ...   \n1265297            5.0       1.000000         2.0                  8.0   \n1292979            5.0       1.000000         2.0                  8.0   \n1297062            5.0       1.000000         3.0                  8.0   \n1311166            5.0      18.333333         2.0                  8.0   \n1315728            5.0       8.666667         2.0                  8.0   \n\n         user_avg_completion  view_ratings  open_ratings  completion_ratings  \\\n88                  2.000000      0.000000      0.000000            0.000000   \n8799                8.333333      0.256419      0.000000            0.361500   \n11286              21.277778      0.087069      0.000000            0.109595   \n23259               4.666667      0.205000      0.022347            0.410714   \n29638               1.333333      1.375000      0.037949            1.375000   \n...                      ...           ...           ...                 ...   \n1265297             8.777778      0.147727      0.000000            0.230063   \n1292979             4.333333      0.083696      0.000000            0.440385   \n1297062             2.333333      0.256419      0.000000            1.194643   \n1311166             8.000000      0.241000      0.024103            0.250000   \n1315728             2.666667      0.000000      0.000000            0.000000   \n\n          ratings  \n88       0.000000  \n8799     0.565202  \n11286    0.521267  \n23259    0.561795  \n29638    0.775789  \n...           ...  \n1265297  0.539332  \n1292979  0.545457  \n1297062  0.625332  \n1311166  0.555276  \n1315728  0.000000  \n\n[111 rows x 19 columns]",
      "text/html": "<div>\n<style scoped>\n    .dataframe tbody tr th:only-of-type {\n        vertical-align: middle;\n    }\n\n    .dataframe tbody tr th {\n        vertical-align: top;\n    }\n\n    .dataframe thead th {\n        text-align: right;\n    }\n</style>\n<table border=\"1\" class=\"dataframe\">\n  <thead>\n    <tr style=\"text-align: right;\">\n      <th></th>\n      <th>user_id</th>\n      <th>item_id</th>\n      <th>view_count</th>\n      <th>open_count</th>\n      <th>length</th>\n      <th>type</th>\n      <th>is_valid</th>\n      <th>total_interactions_count</th>\n      <th>item_avg_view</th>\n      <th>user_avg_view</th>\n      <th>item_avg_open</th>\n      <th>user_avg_open</th>\n      <th>completion</th>\n      <th>item_avg_completion</th>\n      <th>user_avg_completion</th>\n      <th>view_ratings</th>\n      <th>open_ratings</th>\n      <th>completion_ratings</th>\n      <th>ratings</th>\n    </tr>\n  </thead>\n  <tbody>\n    <tr>\n      <th>88</th>\n      <td>3989</td>\n      <td>678</td>\n      <td>2.0</td>\n      <td>2.0</td>\n      <td>1.0</td>\n      <td>3.0</td>\n      <td>NaN</td>\n      <td>4.0</td>\n      <td>8.0</td>\n      <td>2.666667</td>\n      <td>5.0</td>\n      <td>2.666667</td>\n      <td>2.0</td>\n      <td>8.0</td>\n      <td>2.000000</td>\n      <td>0.000000</td>\n      <td>0.000000</td>\n      <td>0.000000</td>\n      <td>0.000000</td>\n    </tr>\n    <tr>\n      <th>8799</th>\n      <td>32093</td>\n      <td>678</td>\n      <td>3.0</td>\n      <td>0.0</td>\n      <td>1.0</td>\n      <td>3.0</td>\n      <td>1.0</td>\n      <td>3.0</td>\n      <td>8.0</td>\n      <td>12.333333</td>\n      <td>5.0</td>\n      <td>1.000000</td>\n      <td>3.0</td>\n      <td>8.0</td>\n      <td>8.333333</td>\n      <td>0.256419</td>\n      <td>0.000000</td>\n      <td>0.361500</td>\n      <td>0.565202</td>\n    </tr>\n    <tr>\n      <th>11286</th>\n      <td>8593</td>\n      <td>678</td>\n      <td>2.0</td>\n      <td>0.0</td>\n      <td>1.0</td>\n      <td>3.0</td>\n      <td>1.0</td>\n      <td>2.0</td>\n      <td>8.0</td>\n      <td>29.000000</td>\n      <td>5.0</td>\n      <td>1.000000</td>\n      <td>2.0</td>\n      <td>8.0</td>\n      <td>21.277778</td>\n      <td>0.087069</td>\n      <td>0.000000</td>\n      <td>0.109595</td>\n      <td>0.521267</td>\n    </tr>\n    <tr>\n      <th>23259</th>\n      <td>22422</td>\n      <td>678</td>\n      <td>2.0</td>\n      <td>1.0</td>\n      <td>1.0</td>\n      <td>3.0</td>\n      <td>1.0</td>\n      <td>3.0</td>\n      <td>8.0</td>\n      <td>10.000000</td>\n      <td>5.0</td>\n      <td>22.333333</td>\n      <td>2.0</td>\n      <td>8.0</td>\n      <td>4.666667</td>\n      <td>0.205000</td>\n      <td>0.022347</td>\n      <td>0.410714</td>\n      <td>0.561795</td>\n    </tr>\n    <tr>\n      <th>29638</th>\n      <td>12147</td>\n      <td>678</td>\n      <td>2.0</td>\n      <td>1.0</td>\n      <td>1.0</td>\n      <td>3.0</td>\n      <td>1.0</td>\n      <td>3.0</td>\n      <td>8.0</td>\n      <td>1.333333</td>\n      <td>5.0</td>\n      <td>1.000000</td>\n      <td>2.0</td>\n      <td>8.0</td>\n      <td>1.333333</td>\n      <td>1.375000</td>\n      <td>0.037949</td>\n      <td>1.375000</td>\n      <td>0.775789</td>\n    </tr>\n    <tr>\n      <th>...</th>\n      <td>...</td>\n      <td>...</td>\n      <td>...</td>\n      <td>...</td>\n      <td>...</td>\n      <td>...</td>\n      <td>...</td>\n      <td>...</td>\n      <td>...</td>\n      <td>...</td>\n      <td>...</td>\n      <td>...</td>\n      <td>...</td>\n      <td>...</td>\n      <td>...</td>\n      <td>...</td>\n      <td>...</td>\n      <td>...</td>\n      <td>...</td>\n    </tr>\n    <tr>\n      <th>1265297</th>\n      <td>21242</td>\n      <td>678</td>\n      <td>2.0</td>\n      <td>0.0</td>\n      <td>1.0</td>\n      <td>3.0</td>\n      <td>1.0</td>\n      <td>2.0</td>\n      <td>8.0</td>\n      <td>14.666667</td>\n      <td>5.0</td>\n      <td>1.000000</td>\n      <td>2.0</td>\n      <td>8.0</td>\n      <td>8.777778</td>\n      <td>0.147727</td>\n      <td>0.000000</td>\n      <td>0.230063</td>\n      <td>0.539332</td>\n    </tr>\n    <tr>\n      <th>1292979</th>\n      <td>25971</td>\n      <td>678</td>\n      <td>2.0</td>\n      <td>0.0</td>\n      <td>1.0</td>\n      <td>3.0</td>\n      <td>1.0</td>\n      <td>2.0</td>\n      <td>8.0</td>\n      <td>30.666667</td>\n      <td>5.0</td>\n      <td>1.000000</td>\n      <td>2.0</td>\n      <td>8.0</td>\n      <td>4.333333</td>\n      <td>0.083696</td>\n      <td>0.000000</td>\n      <td>0.440385</td>\n      <td>0.545457</td>\n    </tr>\n    <tr>\n      <th>1297062</th>\n      <td>18553</td>\n      <td>678</td>\n      <td>3.0</td>\n      <td>0.0</td>\n      <td>1.0</td>\n      <td>3.0</td>\n      <td>1.0</td>\n      <td>3.0</td>\n      <td>8.0</td>\n      <td>12.333333</td>\n      <td>5.0</td>\n      <td>1.000000</td>\n      <td>3.0</td>\n      <td>8.0</td>\n      <td>2.333333</td>\n      <td>0.256419</td>\n      <td>0.000000</td>\n      <td>1.194643</td>\n      <td>0.625332</td>\n    </tr>\n    <tr>\n      <th>1311166</th>\n      <td>30023</td>\n      <td>678</td>\n      <td>2.0</td>\n      <td>1.0</td>\n      <td>1.0</td>\n      <td>3.0</td>\n      <td>1.0</td>\n      <td>3.0</td>\n      <td>8.0</td>\n      <td>8.333333</td>\n      <td>5.0</td>\n      <td>18.333333</td>\n      <td>2.0</td>\n      <td>8.0</td>\n      <td>8.000000</td>\n      <td>0.241000</td>\n      <td>0.024103</td>\n      <td>0.250000</td>\n      <td>0.555276</td>\n    </tr>\n    <tr>\n      <th>1315728</th>\n      <td>6472</td>\n      <td>678</td>\n      <td>2.0</td>\n      <td>2.0</td>\n      <td>1.0</td>\n      <td>3.0</td>\n      <td>NaN</td>\n      <td>4.0</td>\n      <td>8.0</td>\n      <td>5.666667</td>\n      <td>5.0</td>\n      <td>8.666667</td>\n      <td>2.0</td>\n      <td>8.0</td>\n      <td>2.666667</td>\n      <td>0.000000</td>\n      <td>0.000000</td>\n      <td>0.000000</td>\n      <td>0.000000</td>\n    </tr>\n  </tbody>\n</table>\n<p>111 rows × 19 columns</p>\n</div>"
     },
     "execution_count": 47,
     "metadata": {},
     "output_type": "execute_result"
    }
   ],
   "source": [
    "test_data[test_data.item_id == 678]"
   ],
   "metadata": {
    "collapsed": false
   }
  },
  {
   "cell_type": "code",
   "execution_count": 40,
   "outputs": [
    {
     "data": {
      "text/plain": "<Figure size 500x500 with 1 Axes>",
      "image/png": "[encoded data removed]"
     },
     "metadata": {},
     "output_type": "display_data"
    }
   ],
   "source": [
    "import matplotlib.pyplot as plt\n",
    "import seaborn as sns\n",
    "\n",
    "sns.displot(data=test_data, x='open_count', kde=True)\n",
    "plt.axis([0, 200, 0, 10000])\n",
    "plt.show()"
   ],
   "metadata": {
    "collapsed": false
   }
  },
  {
   "cell_type": "markdown",
   "source": [
    "### Data cleanup\n",
    "- we could remove items viewed 1 time and never opened and consider them as noise"
   ],
   "metadata": {
    "collapsed": false
   }
  },
  {
   "cell_type": "code",
   "execution_count": 79,
   "outputs": [
    {
     "name": "stdout",
     "output_type": "stream",
     "text": [
      "fit: [50, 50, 25, 25]\n",
      "ItemKNNCFRecommender: URM Detected 65 ( 0.2%) users with no interactions.\n",
      "Similarity column 24507 (100.0%), 7339.37 column/sec. Elapsed time 3.34 sec\n",
      "Similarity column 24507 (100.0%), 7107.01 column/sec. Elapsed time 3.45 sec\n",
      "RP3betaRecommender: Similarity column 24507 (100.0%), 3606.88 column/sec. Elapsed time 6.79 sec\n"
     ]
    }
   ],
   "source": [
    "from Federico.OpenViewSplitRecommender import OpenViewSplitRecommender\n",
    "\n",
    "recommender = OpenViewSplitRecommender(\n",
    "    interactions=data,\n",
    "    ICM_type=[],\n",
    "    shape=(reader.num_users, reader.num_items)\n",
    ")\n",
    "#recommender.fit(topK=hyperparams.top_k, shrink=hyperparams.shrink)\n",
    "recommender.fit()"
   ],
   "metadata": {
    "collapsed": false
   }
  },
  {
   "cell_type": "code",
   "execution_count": 75,
   "outputs": [
    {
     "data": {
      "text/plain": "        0        1       2      3      4       5       6\n0  6874.0   7864.0    20.0   23.0   53.0   270.0   771.0\n1  6186.0  10221.0    21.0   21.0   21.0  1068.0   176.0\n2  1068.0  22441.0    23.0  124.0   60.0    60.0   177.0\n3   393.0   8819.0   393.0  436.0  348.0   598.0    22.0\n4    60.0   6712.0   353.0   61.0   25.0    23.0  3397.0\n5    61.0  22443.0    25.0  353.0  270.0    61.0   175.0\n6   598.0  22631.0  1068.0   56.0  393.0   387.0   613.0\n7   270.0  18939.0    58.0   20.0  596.0   521.0    21.0\n8    62.0    121.0   396.0   80.0  396.0   393.0  1004.0\n9  1748.0  17075.0   269.0   22.0   20.0  1748.0   179.0",
      "text/html": "<div>\n<style scoped>\n    .dataframe tbody tr th:only-of-type {\n        vertical-align: middle;\n    }\n\n    .dataframe tbody tr th {\n        vertical-align: top;\n    }\n\n    .dataframe thead th {\n        text-align: right;\n    }\n</style>\n<table border=\"1\" class=\"dataframe\">\n  <thead>\n    <tr style=\"text-align: right;\">\n      <th></th>\n      <th>0</th>\n      <th>1</th>\n      <th>2</th>\n      <th>3</th>\n      <th>4</th>\n      <th>5</th>\n      <th>6</th>\n    </tr>\n  </thead>\n  <tbody>\n    <tr>\n      <th>0</th>\n      <td>6874.0</td>\n      <td>7864.0</td>\n      <td>20.0</td>\n      <td>23.0</td>\n      <td>53.0</td>\n      <td>270.0</td>\n      <td>771.0</td>\n    </tr>\n    <tr>\n      <th>1</th>\n      <td>6186.0</td>\n      <td>10221.0</td>\n      <td>21.0</td>\n      <td>21.0</td>\n      <td>21.0</td>\n      <td>1068.0</td>\n      <td>176.0</td>\n    </tr>\n    <tr>\n      <th>2</th>\n      <td>1068.0</td>\n      <td>22441.0</td>\n      <td>23.0</td>\n      <td>124.0</td>\n      <td>60.0</td>\n      <td>60.0</td>\n      <td>177.0</td>\n    </tr>\n    <tr>\n      <th>3</th>\n      <td>393.0</td>\n      <td>8819.0</td>\n      <td>393.0</td>\n      <td>436.0</td>\n      <td>348.0</td>\n      <td>598.0</td>\n      <td>22.0</td>\n    </tr>\n    <tr>\n      <th>4</th>\n      <td>60.0</td>\n      <td>6712.0</td>\n      <td>353.0</td>\n      <td>61.0</td>\n      <td>25.0</td>\n      <td>23.0</td>\n      <td>3397.0</td>\n    </tr>\n    <tr>\n      <th>5</th>\n      <td>61.0</td>\n      <td>22443.0</td>\n      <td>25.0</td>\n      <td>353.0</td>\n      <td>270.0</td>\n      <td>61.0</td>\n      <td>175.0</td>\n    </tr>\n    <tr>\n      <th>6</th>\n      <td>598.0</td>\n      <td>22631.0</td>\n      <td>1068.0</td>\n      <td>56.0</td>\n      <td>393.0</td>\n      <td>387.0</td>\n      <td>613.0</td>\n    </tr>\n    <tr>\n      <th>7</th>\n      <td>270.0</td>\n      <td>18939.0</td>\n      <td>58.0</td>\n      <td>20.0</td>\n      <td>596.0</td>\n      <td>521.0</td>\n      <td>21.0</td>\n    </tr>\n    <tr>\n      <th>8</th>\n      <td>62.0</td>\n      <td>121.0</td>\n      <td>396.0</td>\n      <td>80.0</td>\n      <td>396.0</td>\n      <td>393.0</td>\n      <td>1004.0</td>\n    </tr>\n    <tr>\n      <th>9</th>\n      <td>1748.0</td>\n      <td>17075.0</td>\n      <td>269.0</td>\n      <td>22.0</td>\n      <td>20.0</td>\n      <td>1748.0</td>\n      <td>179.0</td>\n    </tr>\n  </tbody>\n</table>\n</div>"
     },
     "execution_count": 75,
     "metadata": {},
     "output_type": "execute_result"
    }
   ],
   "source": [
    "scores = recommender.recommend([1, 2, 3, 4, 5, 6, 10])\n",
    "\n",
    "pd.DataFrame(scores).T[:10]"
   ],
   "metadata": {
    "collapsed": false
   }
  },
  {
   "cell_type": "code",
   "execution_count": 27,
   "outputs": [
    {
     "name": "stdout",
     "output_type": "stream",
     "text": [
      "EvaluatorHoldout: Ignoring 916 ( 2.2%) Users that have less than 1 test interactions\n",
      "EvaluatorHoldout: Processed 40713 (100.0%) in 2.93 min. Users per second: 231\n"
     ]
    }
   ],
   "source": [
    "from Evaluation.Evaluator import EvaluatorHoldout\n",
    "\n",
    "evaluator = EvaluatorHoldout(urm_test, [5, 10, 20], exclude_seen=True)\n",
    "results_run_1, results_run_string_1 = evaluator.evaluateRecommender(recommender)"
   ],
   "metadata": {
    "collapsed": false
   }
  },
  {
   "cell_type": "markdown",
   "source": [],
   "metadata": {
    "collapsed": false
   }
  },
  {
   "cell_type": "code",
   "execution_count": 28,
   "outputs": [
    {
     "data": {
      "text/plain": "       PRECISION PRECISION_RECALL_MIN_DEN    RECALL       MAP MAP_MIN_DEN  \\\ncutoff                                                                      \n5       0.064338                 0.073387  0.051473  0.040443    0.045911   \n10      0.048456                 0.080558   0.07512  0.024225    0.039707   \n20      0.034639                 0.105486  0.104678  0.013754     0.04089   \n\n             MRR      NDCG        F1  HIT_RATE ARHR_ALL_HITS  ...  \\\ncutoff                                                        ...   \n5       0.153711  0.077723  0.057191  0.249404      0.176152  ...   \n10      0.163797  0.078602  0.058912  0.325031      0.197628  ...   \n20      0.168998  0.088592  0.052053  0.399749      0.211915  ...   \n\n       COVERAGE_USER COVERAGE_USER_HIT USERS_IN_GT DIVERSITY_GINI  \\\ncutoff                                                              \n5           0.977996          0.243917    0.977996       0.050107   \n10          0.977996          0.317879    0.977996       0.068556   \n20          0.977996          0.390953    0.977996       0.094369   \n\n       SHANNON_ENTROPY RATIO_DIVERSITY_HERFINDAHL RATIO_DIVERSITY_GINI  \\\ncutoff                                                                   \n5             9.263796                   0.992974             0.098527   \n10            9.656849                   0.994902             0.134803   \n20           10.143485                   0.996484              0.18556   \n\n       RATIO_SHANNON_ENTROPY RATIO_AVERAGE_POPULARITY RATIO_NOVELTY  \ncutoff                                                               \n5                   0.686552                 3.991055      0.127911  \n10                  0.715681                 3.532653      0.259571  \n20                  0.751747                    3.017      0.530393  \n\n[3 rows x 27 columns]",
      "text/html": "<div>\n<style scoped>\n    .dataframe tbody tr th:only-of-type {\n        vertical-align: middle;\n    }\n\n    .dataframe tbody tr th {\n        vertical-align: top;\n    }\n\n    .dataframe thead th {\n        text-align: right;\n    }\n</style>\n<table border=\"1\" class=\"dataframe\">\n  <thead>\n    <tr style=\"text-align: right;\">\n      <th></th>\n      <th>PRECISION</th>\n      <th>PRECISION_RECALL_MIN_DEN</th>\n      <th>RECALL</th>\n      <th>MAP</th>\n      <th>MAP_MIN_DEN</th>\n      <th>MRR</th>\n      <th>NDCG</th>\n      <th>F1</th>\n      <th>HIT_RATE</th>\n      <th>ARHR_ALL_HITS</th>\n      <th>...</th>\n      <th>COVERAGE_USER</th>\n      <th>COVERAGE_USER_HIT</th>\n      <th>USERS_IN_GT</th>\n      <th>DIVERSITY_GINI</th>\n      <th>SHANNON_ENTROPY</th>\n      <th>RATIO_DIVERSITY_HERFINDAHL</th>\n      <th>RATIO_DIVERSITY_GINI</th>\n      <th>RATIO_SHANNON_ENTROPY</th>\n      <th>RATIO_AVERAGE_POPULARITY</th>\n      <th>RATIO_NOVELTY</th>\n    </tr>\n    <tr>\n      <th>cutoff</th>\n      <th></th>\n      <th></th>\n      <th></th>\n      <th></th>\n      <th></th>\n      <th></th>\n      <th></th>\n      <th></th>\n      <th></th>\n      <th></th>\n      <th></th>\n      <th></th>\n      <th></th>\n      <th></th>\n      <th></th>\n      <th></th>\n      <th></th>\n      <th></th>\n      <th></th>\n      <th></th>\n      <th></th>\n    </tr>\n  </thead>\n  <tbody>\n    <tr>\n      <th>5</th>\n      <td>0.064338</td>\n      <td>0.073387</td>\n      <td>0.051473</td>\n      <td>0.040443</td>\n      <td>0.045911</td>\n      <td>0.153711</td>\n      <td>0.077723</td>\n      <td>0.057191</td>\n      <td>0.249404</td>\n      <td>0.176152</td>\n      <td>...</td>\n      <td>0.977996</td>\n      <td>0.243917</td>\n      <td>0.977996</td>\n      <td>0.050107</td>\n      <td>9.263796</td>\n      <td>0.992974</td>\n      <td>0.098527</td>\n      <td>0.686552</td>\n      <td>3.991055</td>\n      <td>0.127911</td>\n    </tr>\n    <tr>\n      <th>10</th>\n      <td>0.048456</td>\n      <td>0.080558</td>\n      <td>0.07512</td>\n      <td>0.024225</td>\n      <td>0.039707</td>\n      <td>0.163797</td>\n      <td>0.078602</td>\n      <td>0.058912</td>\n      <td>0.325031</td>\n      <td>0.197628</td>\n      <td>...</td>\n      <td>0.977996</td>\n      <td>0.317879</td>\n      <td>0.977996</td>\n      <td>0.068556</td>\n      <td>9.656849</td>\n      <td>0.994902</td>\n      <td>0.134803</td>\n      <td>0.715681</td>\n      <td>3.532653</td>\n      <td>0.259571</td>\n    </tr>\n    <tr>\n      <th>20</th>\n      <td>0.034639</td>\n      <td>0.105486</td>\n      <td>0.104678</td>\n      <td>0.013754</td>\n      <td>0.04089</td>\n      <td>0.168998</td>\n      <td>0.088592</td>\n      <td>0.052053</td>\n      <td>0.399749</td>\n      <td>0.211915</td>\n      <td>...</td>\n      <td>0.977996</td>\n      <td>0.390953</td>\n      <td>0.977996</td>\n      <td>0.094369</td>\n      <td>10.143485</td>\n      <td>0.996484</td>\n      <td>0.18556</td>\n      <td>0.751747</td>\n      <td>3.017</td>\n      <td>0.530393</td>\n    </tr>\n  </tbody>\n</table>\n<p>3 rows × 27 columns</p>\n</div>"
     },
     "execution_count": 28,
     "metadata": {},
     "output_type": "execute_result"
    }
   ],
   "source": [
    "results_run_1"
   ],
   "metadata": {
    "collapsed": false
   }
  },
  {
   "cell_type": "code",
   "execution_count": null,
   "outputs": [],
   "source": [
    "10,0.061212,0.083467,0.07227,0.031401,0.042143,0.194669,0.087201,0.066283,0.376606,0.244427,0.004354,0.186239,0.941654,0.994163,0.327376,0.063696,0.997919,0.992938,0.373946,0.992938,0.026482,9.019673,0.994491,0.052156,0.668485,3.673327,0.264678"
   ],
   "metadata": {
    "collapsed": false
   }
  },
  {
   "cell_type": "code",
   "execution_count": null,
   "outputs": [],
   "source": [
    "10,0.061986,0.084226,0.072906,0.031994,0.042882,0.1973,0.088428,0.067004,0.379848,0.248497,...,0.992938,0.377165,0.992938,0.057082,9.449858,0.994648,0.112421,0.700368,3.617532,0.271728"
   ],
   "metadata": {
    "collapsed": false
   }
  },
  {
   "cell_type": "code",
   "execution_count": null,
   "outputs": [],
   "source": [
    "# EaseR in views\n",
    "\n",
    "10,0.063694,0.086838,0.07533,0.032988,0.044328,0.203829,0.091244,0.069025,0.388775,0.256453,0.004349,0.202218,0.933096,0.993307,0.524299,0.059248,0.997919,0.992938,0.386029,0.992938,0.040335,9.056643,0.993635,0.079438,0.671225,3.988502,0.264392"
   ],
   "metadata": {
    "collapsed": false
   }
  },
  {
   "cell_type": "code",
   "execution_count": null,
   "outputs": [],
   "source": [
    "# Using impressions\n",
    "10,0.109706,0.119952,0.074853,0.065533,0.070709,0.305609,0.1372,0.088989,0.515234,0.438059,0.00454,0.184028,0.955113,0.995509,0.607418,0.06643,0.998817,0.997358,0.513873,0.997358,0.060017,9.648918,0.996203,0.193102,0.769192,1.746354,0.157587"
   ],
   "metadata": {
    "collapsed": false
   }
  },
  {
   "cell_type": "code",
   "execution_count": null,
   "outputs": [],
   "source": [
    "# Only views\n",
    "10,0.055646,0.096959,0.091342,0.028524,0.048405,0.182006,0.092366,0.06916,0.351248,0.225798,0.004366,0.207924,0.936138,0.993611,0.61256,0.051373,0.982128,0.96279,0.338178,0.96279,0.059312,9.367277,0.994073,0.134488,0.710341,3.449254,0.401369"
   ],
   "metadata": {
    "collapsed": false
   }
  },
  {
   "cell_type": "code",
   "execution_count": 80,
   "outputs": [
    {
     "data": {
      "text/plain": "       item_weights  w_impressions  view_weights  open_weights  user_weights  \\\n0               0.0            0.0           0.0           0.0             0   \n1               0.0            0.0           0.0           0.0             0   \n2               0.0            0.0           0.0           0.0             0   \n3               0.0            0.0           0.0           0.0             0   \n4               0.0            0.0           0.0           0.0             0   \n...             ...            ...           ...           ...           ...   \n24502           0.0            0.0           0.0           0.0             0   \n24503           0.0            0.0           0.0           0.0             0   \n24504           0.0            0.0           0.0           0.0             0   \n24505           0.0            0.0           0.0           0.0             0   \n24506           0.0            0.0           0.0           0.0             0   \n\n       top_view_score  is_relevant  is_seen  \n0            0.000606          NaN      NaN  \n1            0.001544          NaN      NaN  \n2            0.001268          NaN      NaN  \n3            0.001599          NaN      NaN  \n4            0.001875          NaN      NaN  \n...               ...          ...      ...  \n24502        0.000441          NaN      NaN  \n24503        0.000717          NaN      NaN  \n24504        0.000551          NaN      NaN  \n24505        0.000606          NaN      NaN  \n24506        0.000606          NaN      NaN  \n\n[24473 rows x 8 columns]",
      "text/html": "<div>\n<style scoped>\n    .dataframe tbody tr th:only-of-type {\n        vertical-align: middle;\n    }\n\n    .dataframe tbody tr th {\n        vertical-align: top;\n    }\n\n    .dataframe thead th {\n        text-align: right;\n    }\n</style>\n<table border=\"1\" class=\"dataframe\">\n  <thead>\n    <tr style=\"text-align: right;\">\n      <th></th>\n      <th>item_weights</th>\n      <th>w_impressions</th>\n      <th>view_weights</th>\n      <th>open_weights</th>\n      <th>user_weights</th>\n      <th>top_view_score</th>\n      <th>is_relevant</th>\n      <th>is_seen</th>\n    </tr>\n  </thead>\n  <tbody>\n    <tr>\n      <th>0</th>\n      <td>0.0</td>\n      <td>0.0</td>\n      <td>0.0</td>\n      <td>0.0</td>\n      <td>0</td>\n      <td>0.000606</td>\n      <td>NaN</td>\n      <td>NaN</td>\n    </tr>\n    <tr>\n      <th>1</th>\n      <td>0.0</td>\n      <td>0.0</td>\n      <td>0.0</td>\n      <td>0.0</td>\n      <td>0</td>\n      <td>0.001544</td>\n      <td>NaN</td>\n      <td>NaN</td>\n    </tr>\n    <tr>\n      <th>2</th>\n      <td>0.0</td>\n      <td>0.0</td>\n      <td>0.0</td>\n      <td>0.0</td>\n      <td>0</td>\n      <td>0.001268</td>\n      <td>NaN</td>\n      <td>NaN</td>\n    </tr>\n    <tr>\n      <th>3</th>\n      <td>0.0</td>\n      <td>0.0</td>\n      <td>0.0</td>\n      <td>0.0</td>\n      <td>0</td>\n      <td>0.001599</td>\n      <td>NaN</td>\n      <td>NaN</td>\n    </tr>\n    <tr>\n      <th>4</th>\n      <td>0.0</td>\n      <td>0.0</td>\n      <td>0.0</td>\n      <td>0.0</td>\n      <td>0</td>\n      <td>0.001875</td>\n      <td>NaN</td>\n      <td>NaN</td>\n    </tr>\n    <tr>\n      <th>...</th>\n      <td>...</td>\n      <td>...</td>\n      <td>...</td>\n      <td>...</td>\n      <td>...</td>\n      <td>...</td>\n      <td>...</td>\n      <td>...</td>\n    </tr>\n    <tr>\n      <th>24502</th>\n      <td>0.0</td>\n      <td>0.0</td>\n      <td>0.0</td>\n      <td>0.0</td>\n      <td>0</td>\n      <td>0.000441</td>\n      <td>NaN</td>\n      <td>NaN</td>\n    </tr>\n    <tr>\n      <th>24503</th>\n      <td>0.0</td>\n      <td>0.0</td>\n      <td>0.0</td>\n      <td>0.0</td>\n      <td>0</td>\n      <td>0.000717</td>\n      <td>NaN</td>\n      <td>NaN</td>\n    </tr>\n    <tr>\n      <th>24504</th>\n      <td>0.0</td>\n      <td>0.0</td>\n      <td>0.0</td>\n      <td>0.0</td>\n      <td>0</td>\n      <td>0.000551</td>\n      <td>NaN</td>\n      <td>NaN</td>\n    </tr>\n    <tr>\n      <th>24505</th>\n      <td>0.0</td>\n      <td>0.0</td>\n      <td>0.0</td>\n      <td>0.0</td>\n      <td>0</td>\n      <td>0.000606</td>\n      <td>NaN</td>\n      <td>NaN</td>\n    </tr>\n    <tr>\n      <th>24506</th>\n      <td>0.0</td>\n      <td>0.0</td>\n      <td>0.0</td>\n      <td>0.0</td>\n      <td>0</td>\n      <td>0.000606</td>\n      <td>NaN</td>\n      <td>NaN</td>\n    </tr>\n  </tbody>\n</table>\n<p>24473 rows × 8 columns</p>\n</div>"
     },
     "execution_count": 80,
     "metadata": {},
     "output_type": "execute_result"
    }
   ],
   "source": [
    "user_id = 800\n",
    "user_profile_start = urm_test.indptr[user_id]\n",
    "user_profile_end = urm_test.indptr[user_id + 1]\n",
    "\n",
    "relevant_items = pd.DataFrame(urm_test.indices[user_profile_start:user_profile_end])\n",
    "weights = recommender.get_weights(user_id)\n",
    "\n",
    "relevant_items['is_relevant'] = 1\n",
    "relevant_items.columns = ['item_id', 'is_relevant']\n",
    "seen_items = pd.DataFrame(interactions_train[interactions_train['user_id'] == user_id]['item_id'])\n",
    "seen_items['is_seen'] = 1\n",
    "\n",
    "weights['is_relevant'] = relevant_items.set_index('item_id')\n",
    "weights['is_seen'] = seen_items.set_index('item_id')\n",
    "\n",
    "weights[weights.is_seen != 1]"
   ],
   "metadata": {
    "collapsed": false
   }
  },
  {
   "cell_type": "code",
   "execution_count": 378,
   "outputs": [
    {
     "data": {
      "text/plain": "array([   21,   124,   808,  1326,  1995,  5068,  7603,  8540, 10682,\n       13290, 14305, 18462,    11,    22,    24,    44,    54,   159,\n         239,   575,   751,   987,  1715,  2218,  2256,  2257,  2292,\n        2730,  4007,  4047,  4337,  4383,  5336,  5735,  5752,  6351,\n        7301,  7499,  8056,  9275,  9374,  9879,  9960, 10013, 10218,\n       10261, 11440, 12314, 12562, 12825, 13719, 14826, 16345, 16426,\n       16868, 16876, 18194, 20558, 21108, 21586, 21848, 22307, 23170,\n       23214, 24264, 24448])"
     },
     "execution_count": 378,
     "metadata": {},
     "output_type": "execute_result"
    }
   ],
   "source": [
    "seen_items = interactions[interactions['user_id'] == 0]['item_id']\n",
    "np.array(seen_items)"
   ],
   "metadata": {
    "collapsed": false
   }
  },
  {
   "cell_type": "code",
   "execution_count": 329,
   "outputs": [
    {
     "data": {
      "text/plain": "      0    1    2     3    4    5     6     7    8      9\n0    22   23   20   353   25  436    56    29  348     58\n1  2488  450  448  2494  391  828  9463  1263  299  11250",
      "text/html": "<div>\n<style scoped>\n    .dataframe tbody tr th:only-of-type {\n        vertical-align: middle;\n    }\n\n    .dataframe tbody tr th {\n        vertical-align: top;\n    }\n\n    .dataframe thead th {\n        text-align: right;\n    }\n</style>\n<table border=\"1\" class=\"dataframe\">\n  <thead>\n    <tr style=\"text-align: right;\">\n      <th></th>\n      <th>0</th>\n      <th>1</th>\n      <th>2</th>\n      <th>3</th>\n      <th>4</th>\n      <th>5</th>\n      <th>6</th>\n      <th>7</th>\n      <th>8</th>\n      <th>9</th>\n    </tr>\n  </thead>\n  <tbody>\n    <tr>\n      <th>0</th>\n      <td>22</td>\n      <td>23</td>\n      <td>20</td>\n      <td>353</td>\n      <td>25</td>\n      <td>436</td>\n      <td>56</td>\n      <td>29</td>\n      <td>348</td>\n      <td>58</td>\n    </tr>\n    <tr>\n      <th>1</th>\n      <td>2488</td>\n      <td>450</td>\n      <td>448</td>\n      <td>2494</td>\n      <td>391</td>\n      <td>828</td>\n      <td>9463</td>\n      <td>1263</td>\n      <td>299</td>\n      <td>11250</td>\n    </tr>\n  </tbody>\n</table>\n</div>"
     },
     "execution_count": 329,
     "metadata": {},
     "output_type": "execute_result"
    }
   ],
   "source": [
    "view_recommendations = recommendations[0][:10]\n",
    "open_recommendations = recommendations[1][:10]\n",
    "\n",
    "pd.DataFrame([view_recommendations, open_recommendations])"
   ],
   "metadata": {
    "collapsed": false
   }
  },
  {
   "cell_type": "markdown",
   "source": [
    "## Submission"
   ],
   "metadata": {
    "collapsed": false
   }
  },
  {
   "cell_type": "code",
   "execution_count": 19,
   "outputs": [],
   "source": [
    "# Get data\n",
    "from kaggle_challenges.challenge.OpenViewSplitRecommender import OpenViewSplitRecommender\n",
    "\n",
    "interactions_all = interactions.copy()\n",
    "\n",
    "data_processor = DataProcessor(data=interactions_all, params=hyperparams, num_users=num_users, num_items=num_items)\n",
    "data_processor.process_data()\n",
    "urm_all = data_processor.urm"
   ],
   "metadata": {
    "collapsed": false
   }
  },
  {
   "cell_type": "code",
   "execution_count": 20,
   "outputs": [],
   "source": [
    "\n",
    "best_recommender = OpenViewSplitRecommender(\n",
    "    interactions=data_processor.data,\n",
    "    ICM_type=icm_type,\n",
    "    shape=(num_users, num_items)\n",
    ")"
   ],
   "metadata": {
    "collapsed": false
   }
  },
  {
   "cell_type": "code",
   "execution_count": 21,
   "outputs": [
    {
     "name": "stdout",
     "output_type": "stream",
     "text": [
      "fit: [50, 50, 25, 25]\n",
      "ItemKNNCFRecommender: URM Detected 41629 (100.0%) users with no interactions.\n",
      "ItemKNNCFRecommender: URM Detected 24507 (100.0%) items with no interactions.\n",
      "Similarity column 24507 (100.0%), 4781.87 column/sec. Elapsed time 5.12 sec\n",
      "Similarity column 24507 (100.0%), 3848.75 column/sec. Elapsed time 6.37 sec\n",
      "RP3betaRecommender: Similarity column 24507 (100.0%), 1878.28 column/sec. Elapsed time 13.05 sec\n",
      "CPU times: user 27.4 s, sys: 941 ms, total: 28.4 s\n",
      "Wall time: 29.1 s\n"
     ]
    }
   ],
   "source": [
    "%%time\n",
    "\n",
    "best_recommender.fit()"
   ],
   "metadata": {
    "collapsed": false
   }
  },
  {
   "cell_type": "code",
   "execution_count": 22,
   "outputs": [],
   "source": [
    "# Build recommendations\n",
    "\n",
    "def build_recommendations(recommender: OpenViewSplitRecommender):\n",
    "    target_users = pd.read_csv('data_target_users_test.csv')\n",
    "    sub_data = pd.DataFrame(target_users, columns=['user_id'])\n",
    "\n",
    "    sub_data['item_list'] = sub_data.apply(\n",
    "        lambda row: recommender.recommend(\n",
    "            user_id_array=row.user_id,\n",
    "            remove_seen_flag=True\n",
    "        )[0:10],\n",
    "        axis=1\n",
    "    )\n",
    "\n",
    "    return sub_data"
   ],
   "metadata": {
    "collapsed": false
   }
  },
  {
   "cell_type": "code",
   "execution_count": 23,
   "outputs": [],
   "source": [
    "submission = build_recommendations(recommender=best_recommender)"
   ],
   "metadata": {
    "collapsed": false
   }
  },
  {
   "cell_type": "code",
   "execution_count": 24,
   "outputs": [],
   "source": [
    "sub_data = submission[['user_id', 'item_list']].copy()\n",
    "sub_data['item_list'] = sub_data.item_list.apply(\n",
    "    lambda row: \" \".join([str(data) for data in row])\n",
    ")\n",
    "sub_data.to_csv(\"submission.csv\", index=None)"
   ],
   "metadata": {
    "collapsed": false
   }
  }
 ],
 "metadata": {
  "kernelspec": {
   "display_name": "Python 3",
   "language": "python",
   "name": "python3"
  },
  "language_info": {
   "codemirror_mode": {
    "name": "ipython",
    "version": 2
   },
   "file_extension": ".py",
   "mimetype": "text/x-python",
   "name": "python",
   "nbconvert_exporter": "python",
   "pygments_lexer": "ipython2",
   "version": "2.7.6"
  }
 },
 "nbformat": 4,
 "nbformat_minor": 0
}
