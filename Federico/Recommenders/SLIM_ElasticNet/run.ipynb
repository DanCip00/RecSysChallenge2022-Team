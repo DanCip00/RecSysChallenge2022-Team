{
 "cells": [
  {
   "cell_type": "code",
   "execution_count": 1,
   "metadata": {},
   "outputs": [
    {
     "name": "stdout",
     "output_type": "stream",
     "text": [
      "/Users/daniele/Desktop/RecSys/RecSysChallenge2023-Team\n",
      "SLIMElasticNetRecommender: URM Detected 3461 (12.4%) items with no interactions.\n"
     ]
    },
    {
     "name": "stderr",
     "output_type": "stream",
     "text": [
      " 89%|████████▉ | 24936/27968 [24:54<1:32:55,  1.84s/it]"
     ]
    }
   ],
   "source": [
    "import os\n",
    "import sys\n",
    "while os.path.split(os.getcwd())[1] != 'RecSysChallenge2023-Team':\n",
    "    os.chdir('..')\n",
    "sys.path.insert(1, os.getcwd())\n",
    "\n",
    "import Daniele.Utils.MatrixManipulation as mm\n",
    "import Daniele.Utils.MyDataManager as dm\n",
    "\n",
    "from Data_manager.split_functions.split_train_validation_random_holdout import split_train_in_two_percentage_global_sample\n",
    "from Evaluation.Evaluator import EvaluatorHoldout\n",
    "from sklearn.preprocessing import normalize\n",
    "import similaripy\n",
    "import numpy as np\n",
    "from tqdm import tqdm\n",
    "\n",
    "URMv = dm.getURMviews()\n",
    "URMo = dm.getURMopen()\n",
    "#URM_all = mm.defaultExplicitURM(urmv=URMv, urmo=URMo, normalize=False, add_aug=False)\n",
    "\n",
    "URM_all = URMv + URMo\n",
    "URM_all.data = np.ones(len(URM_all.data))\n",
    "\n",
    "\n",
    "ICMt=dm.getICMt()\n",
    "ICMl=dm.getICMl()\n",
    "\n",
    "\n",
    "\n",
    "from Recommenders.SLIM.SLIMElasticNetRecommender import MultiThreadSLIM_SLIMElasticNetRecommender\n",
    "\n",
    "\n",
    "recommender = MultiThreadSLIM_SLIMElasticNetRecommender(URM_all)\n",
    "\n",
    "#{'alpha': 0.00403108385692859, 'l1_ratio': 0.005489484881997955, 'topK': 842} -> MAP 0.0285183\n",
    "recommender.fit(topK= 842, alpha= 0.00403108385692859, l1_ratio= 0.005489484881997955,workers=2)\n",
    "\n",
    "\n",
    "\n",
    "f = open(\"submission.csv\", \"w+\")\n",
    "f.write(\"user_id,item_list\\n\")\n",
    "for t in tqdm(dm.getUserIDtest_df().user_id):\n",
    "    recommended_items = recommender.recommend(t, cutoff=10, remove_seen_flag=True)\n",
    "    well_formatted = \" \".join([str(x) for x in recommended_items])\n",
    "    f.write(f\"{t}, {well_formatted}\\n\")"
   ]
  }
 ],
 "metadata": {
  "kernelspec": {
   "display_name": "base",
   "language": "python",
   "name": "python3"
  },
  "language_info": {
   "codemirror_mode": {
    "name": "ipython",
    "version": 3
   },
   "file_extension": ".py",
   "mimetype": "text/x-python",
   "name": "python",
   "nbconvert_exporter": "python",
   "pygments_lexer": "ipython3",
   "version": "3.9.13"
  },
  "orig_nbformat": 4,
  "vscode": {
   "interpreter": {
    "hash": "6e76083d1a5f4c0027e70cf105b7627b1b5e567462449feedfd1ad9407b42e24"
   }
  }
 },
 "nbformat": 4,
 "nbformat_minor": 2
}
