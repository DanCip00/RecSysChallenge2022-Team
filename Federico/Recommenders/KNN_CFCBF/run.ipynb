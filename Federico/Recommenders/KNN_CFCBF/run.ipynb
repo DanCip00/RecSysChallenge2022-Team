{
 "cells": [
  {
   "cell_type": "code",
   "execution_count": 14,
   "metadata": {},
   "outputs": [
    {
     "name": "stdout",
     "output_type": "stream",
     "text": [
      "Warning: 2 (0.00 %) of 41629 users have no train items\n",
      "Warning: 1526 (3.67 %) of 41629 users have no sampled items\n"
     ]
    },
    {
     "name": "stderr",
     "output_type": "stream",
     "text": [
      "100%|██████████| 27968/27968 [00:01<00:00, 16451.47it/s]\n",
      "100%|██████████| 841462/841462 [00:00<00:00, 1754138.36it/s]\n",
      "100%|██████████| 27968/27968 [00:01<00:00, 20345.54it/s]\n",
      "100%|██████████| 663370/663370 [00:00<00:00, 1755486.22it/s]\n",
      "100%|██████████| 27968/27968 [00:01<00:00, 16498.39it/s]\n",
      "100%|██████████| 1051828/1051828 [00:00<00:00, 1842518.76it/s]\n"
     ]
    },
    {
     "name": "stdout",
     "output_type": "stream",
     "text": [
      "ItemKNN_CFCBF_HybridRecommender: URM Detected 2 ( 0.0%) users with no interactions.\n",
      "ItemKNN_CFCBF_HybridRecommender: URM Detected 3461 (12.4%) items with no interactions.\n",
      "Similarity column 27968 (100.0%), 3262.65 column/sec. Elapsed time 8.57 sec\n"
     ]
    }
   ],
   "source": [
    "import os \n",
    "import sys\n",
    "while os.path.split(os.getcwd())[1] != 'RecSysChallenge2023-Team':\n",
    "    os.chdir('..')\n",
    "sys.path.insert(1, os.getcwd())\n",
    "\n",
    "################################# IMPORT HyperTuning  #################################\n",
    "from HyperparameterTuning.SearchBayesianSkopt import SearchBayesianSkopt\n",
    "from HyperparameterTuning.SearchAbstractClass import SearchInputRecommenderArgs\n",
    "from skopt.space import Real, Integer, Categorical\n",
    "\n",
    "################################# IMPORT RECOMMENDERS #################################\n",
    "from Recommenders.KNN.ItemKNN_CFCBF_Hybrid_Recommender import ItemKNN_CFCBF_Hybrid_Recommender\n",
    "from Recommenders.IR_feature_weighting import okapi_BM_25\n",
    "\n",
    "################################## IMPORT LIBRARIES ##################################\n",
    "import scipy.sparse as sps\n",
    "from tqdm import tqdm\n",
    "import pandas as pd\n",
    "import numpy as np\n",
    "import similaripy\n",
    "import math \n",
    "\n",
    "import Daniele.Utils.MatrixManipulation as mm\n",
    "import MyDataManager as dm\n",
    "\n",
    "from Data_manager.split_functions.split_train_validation_random_holdout import split_train_in_two_percentage_global_sample\n",
    "from Evaluation.Evaluator import EvaluatorHoldout\n",
    "from sklearn.preprocessing import normalize\n",
    "\n",
    "URMv = dm.getURMviews()\n",
    "URMo = dm.getURMopen()\n",
    "ICMt = dm.getICMt()\n",
    "ICMl = dm.getICMl()\n",
    "\n",
    "URM_train_validation, URMv_test = split_train_in_two_percentage_global_sample(URMv, train_percentage = 0.80)\n",
    "\n",
    "urm =  mm.defaultExplicitURM(URM_train_validation,URMo,add_aug=True,normalize =False)\n",
    "\n",
    "\n",
    "#Overfittng\n",
    "urma = mm.augmentURM(mm.explicitURM(URMv))\n",
    "urm = sps.vstack([URM_train_validation,urma]).tocsr()\n",
    "urm = similaripy.normalization.bm25plus(urm)\n",
    "    \n",
    "\n",
    "icm = mm.augmentedICM(ICMt, ICMl)\n",
    "\n",
    "recommender = ItemKNN_CFCBF_Hybrid_Recommender(urm,icm)\n",
    "recommender.fit(topK= 674, shrink= 613, similarity= 'cosine', normalize= True, feature_weighting='TF-IDF')\n"
   ]
  },
  {
   "cell_type": "code",
   "execution_count": 15,
   "metadata": {},
   "outputs": [
    {
     "name": "stdout",
     "output_type": "stream",
     "text": [
      "EvaluatorHoldout: Ignoring 1526 ( 3.7%) Users that have less than 1 test interactions\n"
     ]
    },
    {
     "name": "stderr",
     "output_type": "stream",
     "text": [
      "/Users/daniele/Desktop/RecSys/RecSysChallenge2023-Team/Evaluation/metrics.py:276: RuntimeWarning: overflow encountered in power\n",
      "  return np.sum(np.divide(np.power(2, scores) - 1, np.log2(np.arange(scores.shape[0], dtype=np.float64) + 2)),\n",
      "/Users/daniele/Desktop/RecSys/RecSysChallenge2023-Team/Evaluation/metrics.py:270: RuntimeWarning: invalid value encountered in double_scalars\n",
      "  ndcg_ = rank_dcg / ideal_dcg\n"
     ]
    },
    {
     "name": "stdout",
     "output_type": "stream",
     "text": [
      "EvaluatorHoldout: Processed 40103 (100.0%) in 25.98 sec. Users per second: 1544\n"
     ]
    },
    {
     "data": {
      "text/html": [
       "<div>\n",
       "<style scoped>\n",
       "    .dataframe tbody tr th:only-of-type {\n",
       "        vertical-align: middle;\n",
       "    }\n",
       "\n",
       "    .dataframe tbody tr th {\n",
       "        vertical-align: top;\n",
       "    }\n",
       "\n",
       "    .dataframe thead th {\n",
       "        text-align: right;\n",
       "    }\n",
       "</style>\n",
       "<table border=\"1\" class=\"dataframe\">\n",
       "  <thead>\n",
       "    <tr style=\"text-align: right;\">\n",
       "      <th></th>\n",
       "      <th>PRECISION</th>\n",
       "      <th>PRECISION_RECALL_MIN_DEN</th>\n",
       "      <th>RECALL</th>\n",
       "      <th>MAP</th>\n",
       "      <th>MAP_MIN_DEN</th>\n",
       "      <th>MRR</th>\n",
       "      <th>NDCG</th>\n",
       "      <th>F1</th>\n",
       "      <th>HIT_RATE</th>\n",
       "      <th>ARHR_ALL_HITS</th>\n",
       "      <th>...</th>\n",
       "      <th>COVERAGE_USER</th>\n",
       "      <th>COVERAGE_USER_HIT</th>\n",
       "      <th>USERS_IN_GT</th>\n",
       "      <th>DIVERSITY_GINI</th>\n",
       "      <th>SHANNON_ENTROPY</th>\n",
       "      <th>RATIO_DIVERSITY_HERFINDAHL</th>\n",
       "      <th>RATIO_DIVERSITY_GINI</th>\n",
       "      <th>RATIO_SHANNON_ENTROPY</th>\n",
       "      <th>RATIO_AVERAGE_POPULARITY</th>\n",
       "      <th>RATIO_NOVELTY</th>\n",
       "    </tr>\n",
       "    <tr>\n",
       "      <th>cutoff</th>\n",
       "      <th></th>\n",
       "      <th></th>\n",
       "      <th></th>\n",
       "      <th></th>\n",
       "      <th></th>\n",
       "      <th></th>\n",
       "      <th></th>\n",
       "      <th></th>\n",
       "      <th></th>\n",
       "      <th></th>\n",
       "      <th></th>\n",
       "      <th></th>\n",
       "      <th></th>\n",
       "      <th></th>\n",
       "      <th></th>\n",
       "      <th></th>\n",
       "      <th></th>\n",
       "      <th></th>\n",
       "      <th></th>\n",
       "      <th></th>\n",
       "      <th></th>\n",
       "    </tr>\n",
       "  </thead>\n",
       "  <tbody>\n",
       "    <tr>\n",
       "      <th>10</th>\n",
       "      <td>0.088617</td>\n",
       "      <td>0.156318</td>\n",
       "      <td>0.149663</td>\n",
       "      <td>0.054901</td>\n",
       "      <td>0.096314</td>\n",
       "      <td>0.277242</td>\n",
       "      <td>NaN</td>\n",
       "      <td>0.11132</td>\n",
       "      <td>0.448221</td>\n",
       "      <td>0.386311</td>\n",
       "      <td>...</td>\n",
       "      <td>0.963343</td>\n",
       "      <td>0.43179</td>\n",
       "      <td>0.963343</td>\n",
       "      <td>0.177547</td>\n",
       "      <td>11.046966</td>\n",
       "      <td>0.996556</td>\n",
       "      <td>0.493136</td>\n",
       "      <td>0.846025</td>\n",
       "      <td>2.399794</td>\n",
       "      <td>0.432103</td>\n",
       "    </tr>\n",
       "  </tbody>\n",
       "</table>\n",
       "<p>1 rows × 27 columns</p>\n",
       "</div>"
      ],
      "text/plain": [
       "       PRECISION PRECISION_RECALL_MIN_DEN    RECALL       MAP MAP_MIN_DEN  \\\n",
       "cutoff                                                                      \n",
       "10      0.088617                 0.156318  0.149663  0.054901    0.096314   \n",
       "\n",
       "             MRR NDCG       F1  HIT_RATE ARHR_ALL_HITS  ... COVERAGE_USER  \\\n",
       "cutoff                                                  ...                 \n",
       "10      0.277242  NaN  0.11132  0.448221      0.386311  ...      0.963343   \n",
       "\n",
       "       COVERAGE_USER_HIT USERS_IN_GT DIVERSITY_GINI SHANNON_ENTROPY  \\\n",
       "cutoff                                                                \n",
       "10               0.43179    0.963343       0.177547       11.046966   \n",
       "\n",
       "       RATIO_DIVERSITY_HERFINDAHL RATIO_DIVERSITY_GINI RATIO_SHANNON_ENTROPY  \\\n",
       "cutoff                                                                         \n",
       "10                       0.996556             0.493136              0.846025   \n",
       "\n",
       "       RATIO_AVERAGE_POPULARITY RATIO_NOVELTY  \n",
       "cutoff                                         \n",
       "10                     2.399794      0.432103  \n",
       "\n",
       "[1 rows x 27 columns]"
      ]
     },
     "execution_count": 15,
     "metadata": {},
     "output_type": "execute_result"
    }
   ],
   "source": [
    "evaluator_test = EvaluatorHoldout(URMv_test, [10])\n",
    "ris, _ = evaluator_test.evaluateRecommender(recommender)\n",
    "ris"
   ]
  }
 ],
 "metadata": {
  "kernelspec": {
   "display_name": "base",
   "language": "python",
   "name": "python3"
  },
  "language_info": {
   "codemirror_mode": {
    "name": "ipython",
    "version": 3
   },
   "file_extension": ".py",
   "mimetype": "text/x-python",
   "name": "python",
   "nbconvert_exporter": "python",
   "pygments_lexer": "ipython3",
   "version": "3.9.13 | packaged by conda-forge | (main, May 27 2022, 17:00:33) \n[Clang 13.0.1 ]"
  },
  "orig_nbformat": 4,
  "vscode": {
   "interpreter": {
    "hash": "6e76083d1a5f4c0027e70cf105b7627b1b5e567462449feedfd1ad9407b42e24"
   }
  }
 },
 "nbformat": 4,
 "nbformat_minor": 2
}
