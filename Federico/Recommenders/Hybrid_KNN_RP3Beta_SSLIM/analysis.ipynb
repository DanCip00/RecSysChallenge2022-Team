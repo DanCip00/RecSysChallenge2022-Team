{
 "cells": [
  {
   "cell_type": "code",
   "execution_count": 47,
   "metadata": {},
   "outputs": [],
   "source": [
    "import os \n",
    "import sys\n",
    "while os.path.split(os.getcwd())[1] != 'RecSysChallenge2023-Team':\n",
    "    os.chdir('..')\n",
    "sys.path.insert(1, os.getcwd())\n",
    "\n",
    "import numpy as np"
   ]
  },
  {
   "cell_type": "code",
   "execution_count": 48,
   "metadata": {},
   "outputs": [
    {
     "name": "stderr",
     "output_type": "stream",
     "text": [
      "  2%|▏         | 546/27968 [00:00<00:05, 5451.60it/s]"
     ]
    },
    {
     "name": "stdout",
     "output_type": "stream",
     "text": [
      "Warning: 1527 (3.67 %) of 41629 users have no sampled items\n"
     ]
    },
    {
     "name": "stderr",
     "output_type": "stream",
     "text": [
      "100%|██████████| 27968/27968 [00:05<00:00, 5256.73it/s]\n",
      "100%|██████████| 841462/841462 [00:01<00:00, 658266.06it/s]\n",
      "100%|██████████| 27968/27968 [00:05<00:00, 5521.34it/s]\n",
      "100%|██████████| 663370/663370 [00:01<00:00, 558375.24it/s]\n",
      "100%|██████████| 27968/27968 [00:06<00:00, 4471.14it/s]\n",
      "100%|██████████| 841462/841462 [00:01<00:00, 622585.81it/s]\n",
      "100%|██████████| 27968/27968 [00:04<00:00, 6167.55it/s]\n",
      "100%|██████████| 663370/663370 [00:00<00:00, 723044.99it/s]\n"
     ]
    }
   ],
   "source": [
    "from Data_manager.split_functions.split_train_validation_random_holdout import split_train_in_two_percentage_global_sample\n",
    "from Evaluation.Evaluator import EvaluatorHoldout\n",
    "\n",
    "import Daniele.Utils.MyDataManager as dm \n",
    "import Daniele.Utils.MatrixManipulation as mm\n",
    "\n",
    "URMv = dm.getURMviews()\n",
    "URMo = dm.getURMopen()\n",
    "ICMt=dm.getICMt()\n",
    "ICMl=dm.getICMl()\n",
    "\n",
    "\n",
    "URMv_train, URMv_test = split_train_in_two_percentage_global_sample(URMv, train_percentage = 0.80)\n",
    "\n",
    "urm_def = mm.defaultExplicitURM(urmv=URMv_train,urmo=URMo,icml=ICMl,icmt=ICMt, normalize=True, add_aug=True,appendICM=True)\n",
    "\n",
    "urm_bin = mm.defaultExplicitURM(urmv=URMv_train,urmo=URMo, normalize=False, add_aug=True)\n",
    "urm_bin.data = np.ones(len(urm_bin.data))"
   ]
  },
  {
   "attachments": {},
   "cell_type": "markdown",
   "metadata": {},
   "source": [
    "### SSLIIM"
   ]
  },
  {
   "cell_type": "code",
   "execution_count": 49,
   "outputs": [
    {
     "name": "stdout",
     "output_type": "stream",
     "text": [
      "The autoreload extension is already loaded. To reload it, use:\n",
      "  %reload_ext autoreload\n"
     ]
    }
   ],
   "source": [
    "%load_ext autoreload\n",
    "%autoreload 2"
   ],
   "metadata": {
    "collapsed": false
   }
  },
  {
   "cell_type": "code",
   "execution_count": 50,
   "metadata": {},
   "outputs": [
    {
     "name": "stdout",
     "output_type": "stream",
     "text": [
      "SLIM_BPR_Recommender: URM Detected 2 ( 0.0%) users with no interactions.\n",
      "Unable to read memory status: list index out of range\n",
      "SLIM_BPR_Recommender: Automatic selection of fastest train mode. Unable to get current RAM status, you may be using a non-Linux operating system. Using dense matrix.\n"
     ]
    },
    {
     "name": "stderr",
     "output_type": "stream",
     "text": [
      "/bin/sh: free: command not found\n"
     ]
    },
    {
     "name": "stdout",
     "output_type": "stream",
     "text": [
      "Processed 70382 (100.0%) in 2.24 sec. BPR loss is 8.61E-01. Sample per second: 31425\n",
      "SLIM_BPR_Recommender: Epoch 1 of 25. Elapsed time 1.28 sec\n",
      "Processed 70382 (100.0%) in 0.61 sec. BPR loss is 3.07E+00. Sample per second: 115762\n",
      "SLIM_BPR_Recommender: Epoch 2 of 25. Elapsed time 1.65 sec\n",
      "Processed 70382 (100.0%) in 0.90 sec. BPR loss is 5.37E+00. Sample per second: 77905\n",
      "SLIM_BPR_Recommender: Epoch 3 of 25. Elapsed time 1.94 sec\n",
      "Processed 70382 (100.0%) in 1.20 sec. BPR loss is 7.42E+00. Sample per second: 58834\n",
      "SLIM_BPR_Recommender: Epoch 4 of 25. Elapsed time 2.24 sec\n",
      "Processed 70382 (100.0%) in 0.49 sec. BPR loss is 9.28E+00. Sample per second: 143096\n",
      "SLIM_BPR_Recommender: Epoch 5 of 25. Elapsed time 2.53 sec\n",
      "Processed 70382 (100.0%) in 0.78 sec. BPR loss is 1.17E+01. Sample per second: 90510\n",
      "SLIM_BPR_Recommender: Epoch 6 of 25. Elapsed time 2.82 sec\n",
      "Processed 70382 (100.0%) in 1.07 sec. BPR loss is 1.32E+01. Sample per second: 65718\n",
      "SLIM_BPR_Recommender: Epoch 7 of 25. Elapsed time 3.11 sec\n",
      "Processed 70382 (100.0%) in 0.36 sec. BPR loss is 1.52E+01. Sample per second: 193698\n",
      "SLIM_BPR_Recommender: Epoch 8 of 25. Elapsed time 3.41 sec\n",
      "Processed 70382 (100.0%) in 0.65 sec. BPR loss is 1.73E+01. Sample per second: 107424\n",
      "SLIM_BPR_Recommender: Epoch 9 of 25. Elapsed time 3.70 sec\n",
      "Processed 70382 (100.0%) in 0.94 sec. BPR loss is 1.85E+01. Sample per second: 74942\n",
      "SLIM_BPR_Recommender: Epoch 10 of 25. Elapsed time 3.98 sec\n",
      "Processed 70382 (100.0%) in 1.23 sec. BPR loss is 2.12E+01. Sample per second: 57093\n",
      "SLIM_BPR_Recommender: Epoch 11 of 25. Elapsed time 4.27 sec\n",
      "Processed 70382 (100.0%) in 0.52 sec. BPR loss is 2.28E+01. Sample per second: 134963\n",
      "SLIM_BPR_Recommender: Epoch 12 of 25. Elapsed time 4.56 sec\n",
      "Processed 70382 (100.0%) in 0.81 sec. BPR loss is 2.42E+01. Sample per second: 86975\n",
      "SLIM_BPR_Recommender: Epoch 13 of 25. Elapsed time 4.85 sec\n",
      "Processed 70382 (100.0%) in 1.10 sec. BPR loss is 2.69E+01. Sample per second: 64019\n",
      "SLIM_BPR_Recommender: Epoch 14 of 25. Elapsed time 5.14 sec\n",
      "Processed 70382 (100.0%) in 0.38 sec. BPR loss is 2.83E+01. Sample per second: 183171\n",
      "SLIM_BPR_Recommender: Epoch 15 of 25. Elapsed time 5.43 sec\n",
      "Processed 70382 (100.0%) in 0.68 sec. BPR loss is 2.96E+01. Sample per second: 104143\n",
      "SLIM_BPR_Recommender: Epoch 16 of 25. Elapsed time 5.72 sec\n",
      "Processed 70382 (100.0%) in 0.95 sec. BPR loss is 3.07E+01. Sample per second: 74264\n",
      "SLIM_BPR_Recommender: Epoch 17 of 25. Elapsed time 5.99 sec\n",
      "Processed 70382 (100.0%) in 1.23 sec. BPR loss is 3.52E+01. Sample per second: 57058\n",
      "SLIM_BPR_Recommender: Epoch 18 of 25. Elapsed time 6.27 sec\n",
      "Processed 70382 (100.0%) in 0.52 sec. BPR loss is 3.61E+01. Sample per second: 136402\n",
      "SLIM_BPR_Recommender: Epoch 19 of 25. Elapsed time 6.56 sec\n",
      "Processed 70382 (100.0%) in 0.80 sec. BPR loss is 3.75E+01. Sample per second: 88197\n",
      "SLIM_BPR_Recommender: Epoch 20 of 25. Elapsed time 6.84 sec\n",
      "Processed 70382 (100.0%) in 1.08 sec. BPR loss is 3.90E+01. Sample per second: 65217\n",
      "SLIM_BPR_Recommender: Epoch 21 of 25. Elapsed time 7.12 sec\n",
      "Processed 70382 (100.0%) in 0.37 sec. BPR loss is 3.96E+01. Sample per second: 191643\n",
      "SLIM_BPR_Recommender: Epoch 22 of 25. Elapsed time 7.41 sec\n",
      "Processed 70382 (100.0%) in 0.64 sec. BPR loss is 4.09E+01. Sample per second: 109190\n",
      "SLIM_BPR_Recommender: Epoch 23 of 25. Elapsed time 7.69 sec\n",
      "Processed 70382 (100.0%) in 0.92 sec. BPR loss is 4.46E+01. Sample per second: 76585\n",
      "SLIM_BPR_Recommender: Epoch 24 of 25. Elapsed time 7.96 sec\n",
      "Processed 70382 (100.0%) in 1.22 sec. BPR loss is 4.68E+01. Sample per second: 57485\n",
      "SLIM_BPR_Recommender: Epoch 25 of 25. Elapsed time 8.27 sec\n",
      "SLIM_BPR_Recommender: Terminating at epoch 25. Elapsed time 29.76 sec\n",
      "Deallocating Cython objects\n"
     ]
    }
   ],
   "source": [
    "from Recommenders.SLIM.Cython.SLIM_BPR_Cython import SLIM_BPR_Cython\n",
    "\n",
    "sslim_recommender = SLIM_BPR_Cython(URM_train=urm_def)\n",
    "sslim_recommender.fit(topK= 305, epochs=25,symmetric=True, sgd_mode = 'adam', lambda_i = 0.0008132913041259862, lambda_j=0.004889521240194745, learning_rate = 0.005381553515814384)"
   ]
  },
  {
   "attachments": {},
   "cell_type": "markdown",
   "metadata": {},
   "source": [
    "### KNN_CFCBF "
   ]
  },
  {
   "cell_type": "code",
   "execution_count": 51,
   "metadata": {},
   "outputs": [
    {
     "name": "stdout",
     "output_type": "stream",
     "text": [
      "KNN_CFCBF_custom: URM Detected 3461 (12.4%) items with no interactions.\n",
      "Beta-> 1.0 \tICM_weight-> 1.0\n",
      "Similarity column 27968 (100.0%), 2302.51 column/sec. Elapsed time 12.15 sec\n"
     ]
    }
   ],
   "source": [
    "from Daniele.Recommenders.KNN_CFCBF.ItemKNN_CFCBF_Hybrid_Recommender import KNN_CFCBF_custom\n",
    "\n",
    "KNN_recommender = KNN_CFCBF_custom(URMv_train,URMo,ICM_train=mm.augmentedICM(ICMt,ICMl))\n",
    "KNN_recommender.fit(topK= 744, shrink= 457, similarity= 'cosine', normalize= True, feature_weighting='TF-IDF')"
   ]
  },
  {
   "attachments": {},
   "cell_type": "markdown",
   "metadata": {},
   "source": [
    "### RP3Beta \n"
   ]
  },
  {
   "cell_type": "code",
   "execution_count": 52,
   "metadata": {},
   "outputs": [
    {
     "name": "stdout",
     "output_type": "stream",
     "text": [
      "RP3betaRecommender: URM Detected 3461 (12.4%) items with no interactions.\n",
      "RP3betaRecommender: Similarity column 27968 (100.0%), 2672.58 column/sec. Elapsed time 10.46 sec\n"
     ]
    }
   ],
   "source": [
    "from Recommenders.GraphBased.RP3betaRecommender import RP3betaRecommender\n",
    "\n",
    "rp3beta_recommender = RP3betaRecommender(urm_bin)\n",
    "rp3beta_recommender.fit(topK= 89, alpha= 0.6361002951626124, beta= 0.27432996564004203, normalize_similarity= True)"
   ]
  },
  {
   "attachments": {},
   "cell_type": "markdown",
   "metadata": {},
   "source": [
    "### RP3Beta - KNN_CFCBF"
   ]
  },
  {
   "cell_type": "code",
   "execution_count": 53,
   "metadata": {},
   "outputs": [
    {
     "name": "stdout",
     "output_type": "stream",
     "text": [
      "ItemKNNCustomSimilarityRecommender: URM Detected 2 ( 0.0%) users with no interactions.\n"
     ]
    }
   ],
   "source": [
    "from Recommenders.KNN.ItemKNNCustomSimilarityRecommender import ItemKNNCustomSimilarityRecommender\n",
    "alpha_knn_rp3 = 0.7\n",
    "\n",
    "knn_rp3_recommender = ItemKNNCustomSimilarityRecommender(urm_def)\n",
    "knn_rp3_recommender.fit((1 - alpha_knn_rp3) * KNN_recommender.W_sparse + alpha_knn_rp3* rp3beta_recommender.W_sparse)"
   ]
  },
  {
   "attachments": {},
   "cell_type": "markdown",
   "metadata": {},
   "source": [
    "### TopPop"
   ]
  },
  {
   "cell_type": "code",
   "execution_count": 54,
   "metadata": {},
   "outputs": [
    {
     "name": "stdout",
     "output_type": "stream",
     "text": [
      "TopPopRecommender: URM Detected 3461 (12.4%) items with no interactions.\n"
     ]
    }
   ],
   "source": [
    "from Recommenders.NonPersonalizedRecommender import TopPop\n",
    "\n",
    "most_viewed = TopPop(urm_bin)\n",
    "most_viewed.fit()"
   ]
  },
  {
   "attachments": {},
   "cell_type": "markdown",
   "metadata": {},
   "source": [
    "### REFERENCE RP3Beta 0.052"
   ]
  },
  {
   "cell_type": "code",
   "execution_count": 55,
   "metadata": {},
   "outputs": [
    {
     "name": "stdout",
     "output_type": "stream",
     "text": [
      "RP3betaRecommender: URM Detected 3461 (12.4%) items with no interactions.\n",
      "RP3betaRecommender: Similarity column 27968 (100.0%), 2495.76 column/sec. Elapsed time 11.21 sec\n"
     ]
    }
   ],
   "source": [
    "best_reference = RP3betaRecommender(urm_bin)\n",
    "#{'topK': 106, 'alpha': 0.6155817289031643, 'beta': 0.33427474623540737, 'normalize_similarity': True} -> MAP 0.0276355\n",
    "best_reference.fit(topK= 106, alpha= 0.6155817289031643, beta= 0.33427474623540737, normalize_similarity= True)\n"
   ]
  },
  {
   "attachments": {},
   "cell_type": "markdown",
   "metadata": {},
   "source": [
    "### Hybrid"
   ]
  },
  {
   "cell_type": "code",
   "execution_count": 56,
   "metadata": {},
   "outputs": [
    {
     "name": "stderr",
     "output_type": "stream",
     "text": [
      "100%|██████████| 27968/27968 [00:04<00:00, 6267.43it/s]\n",
      "100%|██████████| 841462/841462 [00:01<00:00, 753593.03it/s]\n",
      "100%|██████████| 27968/27968 [00:03<00:00, 7614.80it/s]\n",
      "100%|██████████| 663370/663370 [00:00<00:00, 749865.57it/s]\n",
      "100%|██████████| 27968/27968 [00:04<00:00, 6293.93it/s]\n",
      "100%|██████████| 841462/841462 [00:01<00:00, 748420.01it/s]\n",
      "100%|██████████| 27968/27968 [00:03<00:00, 7484.84it/s]\n",
      "100%|██████████| 663370/663370 [00:00<00:00, 767352.44it/s]\n",
      "100%|██████████| 27968/27968 [00:04<00:00, 6255.88it/s]\n",
      "100%|██████████| 841462/841462 [00:01<00:00, 617070.56it/s]\n",
      "100%|██████████| 27968/27968 [00:03<00:00, 7600.76it/s]\n",
      "100%|██████████| 663370/663370 [00:00<00:00, 748047.31it/s]\n"
     ]
    },
    {
     "name": "stdout",
     "output_type": "stream",
     "text": [
      "RP3BetaKNNRecommender: URM Detected 3461 (12.4%) items with no interactions.\n"
     ]
    }
   ],
   "source": [
    "from Daniele.Recommenders.Hybrid_KNN_RP3Beta_SSLIM.hybrid import SSLIMRP3BetaKNNRecommender\n",
    "\n",
    "hybrid = SSLIMRP3BetaKNNRecommender(URMv_train,URMo,ICMt,ICMl)\n",
    "# hybrid.fit()\n",
    "hybrid.rp3beta_recommender = rp3beta_recommender\n",
    "hybrid.KNN_recommender = KNN_recommender\n",
    "hybrid.sslim_recommender = sslim_recommender\n",
    "hybrid.knn_rp3_recommender = knn_rp3_recommender\n",
    "hybrid.most_viewed = most_viewed"
   ]
  },
  {
   "attachments": {},
   "cell_type": "markdown",
   "metadata": {},
   "source": [
    "### Users group"
   ]
  },
  {
   "cell_type": "code",
   "execution_count": 57,
   "metadata": {},
   "outputs": [
    {
     "name": "stdout",
     "output_type": "stream",
     "text": [
      "Group 0, #users in group 2081, average p.len 6.98, median 7.0, min 2, max 9\n",
      "Group 1, #users in group 2081, average p.len 9.43, median 9.0, min 9, max 10\n",
      "Group 2, #users in group 2081, average p.len 10.69, median 11.0, min 10, max 11\n",
      "Group 3, #users in group 2081, average p.len 11.83, median 12.0, min 11, max 12\n",
      "Group 4, #users in group 2081, average p.len 12.88, median 13.0, min 12, max 13\n",
      "Group 5, #users in group 2081, average p.len 13.92, median 14.0, min 13, max 14\n",
      "Group 6, #users in group 2081, average p.len 14.92, median 15.0, min 14, max 15\n",
      "Group 7, #users in group 2081, average p.len 16.00, median 16.0, min 15, max 17\n",
      "Group 8, #users in group 2081, average p.len 17.22, median 17.0, min 17, max 18\n",
      "Group 9, #users in group 2081, average p.len 18.42, median 18.0, min 18, max 19\n",
      "Group 10, #users in group 2081, average p.len 19.75, median 20.0, min 19, max 21\n",
      "Group 11, #users in group 2081, average p.len 21.44, median 21.0, min 21, max 22\n",
      "Group 12, #users in group 2081, average p.len 23.21, median 23.0, min 22, max 24\n",
      "Group 13, #users in group 2081, average p.len 25.49, median 25.0, min 24, max 27\n",
      "Group 14, #users in group 2081, average p.len 28.37, median 28.0, min 27, max 30\n",
      "Group 15, #users in group 2081, average p.len 31.88, median 32.0, min 30, max 34\n",
      "Group 16, #users in group 2081, average p.len 36.44, median 36.0, min 34, max 39\n",
      "Group 17, #users in group 2081, average p.len 43.14, median 43.0, min 39, max 48\n",
      "Group 18, #users in group 2081, average p.len 54.12, median 54.0, min 48, max 62\n",
      "Group 19, #users in group 2081, average p.len 87.91, median 78.0, min 62, max 281\n"
     ]
    }
   ],
   "source": [
    "import numpy as np \n",
    "import scipy.sparse as sps\n",
    "\n",
    "profile_length = np.ediff1d(sps.csr_matrix(URMv).indptr)\n",
    "profile_length, profile_length.shape\n",
    "\n",
    "block_size = int(len(profile_length)*0.05)\n",
    "sorted_users = np.argsort(profile_length)\n",
    "\n",
    "for group_id in range(0, 20):\n",
    "    start_pos = group_id * block_size\n",
    "    end_pos = min((group_id+1) * block_size, len(profile_length))\n",
    "    \n",
    "    users_in_group = sorted_users[start_pos:end_pos]\n",
    "    \n",
    "    users_in_group_p_len = profile_length[users_in_group]\n",
    "    \n",
    "    print(\"Group {}, #users in group {}, average p.len {:.2f}, median {}, min {}, max {}\".format(\n",
    "        group_id, \n",
    "        users_in_group.shape[0],\n",
    "        users_in_group_p_len.mean(),\n",
    "        np.median(users_in_group_p_len),\n",
    "        users_in_group_p_len.min(),\n",
    "        users_in_group_p_len.max()))"
   ]
  },
  {
   "cell_type": "code",
   "execution_count": 58,
   "metadata": {},
   "outputs": [
    {
     "name": "stdout",
     "output_type": "stream",
     "text": [
      "Deallocating Cython objects\n",
      "Deallocating Cython objects\n"
     ]
    }
   ],
   "source": [
    "MAP_recommender_per_group = {}\n",
    "recommender_object_dict = {}\n",
    "\n",
    "recommender_class = {\"best_reference\" :best_reference,\n",
    "                     \"hybrid\" : hybrid,\n",
    "                     \"rp3beta_recommender\" : rp3beta_recommender,\n",
    "                     \"KNN_recommender\" : KNN_recommender,\n",
    "                     \"sslim_recommender\" : sslim_recommender,\n",
    "                     \"knn_rp3_recommender\" : knn_rp3_recommender,\n",
    "                     #\"most_viewed\" : most_viewed,\n",
    "                     }\n",
    "\n",
    "\n",
    "for label, recommender_obj in recommender_class.items():\n",
    "    recommender_object_dict[label] = recommender_obj"
   ]
  },
  {
   "cell_type": "code",
   "execution_count": 59,
   "metadata": {},
   "outputs": [
    {
     "name": "stdout",
     "output_type": "stream",
     "text": [
      "Group 0, #users in group 2081, average p.len 6.98, median 7.0, min 2, max 9\n",
      "EvaluatorHoldout: Ignoring 1527 ( 3.7%) Users that have less than 1 test interactions\n",
      "EvaluatorHoldout: Ignoring 39548 Users\n",
      "EvaluatorHoldout: Processed 1606 (100.0%) in 2.98 sec. Users per second: 539\n",
      "EvaluatorHoldout: Processed 1606 (100.0%) in 6.06 sec. Users per second: 265\n",
      "EvaluatorHoldout: Processed 1606 (100.0%) in 2.86 sec. Users per second: 561\n",
      "EvaluatorHoldout: Processed 1606 (100.0%) in 2.57 sec. Users per second: 625\n",
      "EvaluatorHoldout: Processed 1606 (100.0%) in 2.96 sec. Users per second: 542\n",
      "EvaluatorHoldout: Processed 1606 (100.0%) in 3.28 sec. Users per second: 490\n",
      "Group 1, #users in group 2081, average p.len 9.43, median 9.0, min 9, max 10\n",
      "EvaluatorHoldout: Ignoring 1527 ( 3.7%) Users that have less than 1 test interactions\n",
      "EvaluatorHoldout: Ignoring 39548 Users\n",
      "EvaluatorHoldout: Processed 1821 (100.0%) in 2.92 sec. Users per second: 624\n",
      "EvaluatorHoldout: Processed 1821 (100.0%) in 5.41 sec. Users per second: 336\n",
      "EvaluatorHoldout: Processed 1821 (100.0%) in 2.88 sec. Users per second: 632\n",
      "EvaluatorHoldout: Processed 1821 (100.0%) in 2.78 sec. Users per second: 654\n",
      "EvaluatorHoldout: Processed 1821 (100.0%) in 3.02 sec. Users per second: 603\n",
      "EvaluatorHoldout: Processed 1821 (100.0%) in 3.52 sec. Users per second: 518\n",
      "Group 2, #users in group 2081, average p.len 10.69, median 11.0, min 10, max 11\n",
      "EvaluatorHoldout: Ignoring 1527 ( 3.7%) Users that have less than 1 test interactions\n",
      "EvaluatorHoldout: Ignoring 39548 Users\n",
      "EvaluatorHoldout: Processed 1891 (100.0%) in 2.92 sec. Users per second: 647\n",
      "EvaluatorHoldout: Processed 1891 (100.0%) in 5.49 sec. Users per second: 344\n",
      "EvaluatorHoldout: Processed 1891 (100.0%) in 2.92 sec. Users per second: 647\n",
      "EvaluatorHoldout: Processed 1891 (100.0%) in 2.90 sec. Users per second: 652\n",
      "EvaluatorHoldout: Processed 1891 (100.0%) in 3.06 sec. Users per second: 618\n",
      "EvaluatorHoldout: Processed 1891 (100.0%) in 3.60 sec. Users per second: 525\n",
      "Group 3, #users in group 2081, average p.len 11.83, median 12.0, min 11, max 12\n",
      "EvaluatorHoldout: Ignoring 1527 ( 3.7%) Users that have less than 1 test interactions\n",
      "EvaluatorHoldout: Ignoring 39548 Users\n",
      "EvaluatorHoldout: Processed 1938 (100.0%) in 2.98 sec. Users per second: 651\n",
      "EvaluatorHoldout: Processed 1938 (100.0%) in 5.52 sec. Users per second: 351\n",
      "EvaluatorHoldout: Processed 1938 (100.0%) in 2.98 sec. Users per second: 649\n",
      "EvaluatorHoldout: Processed 1938 (100.0%) in 2.97 sec. Users per second: 651\n",
      "EvaluatorHoldout: Processed 1938 (100.0%) in 3.13 sec. Users per second: 619\n",
      "EvaluatorHoldout: Processed 1938 (100.0%) in 3.70 sec. Users per second: 524\n",
      "Group 4, #users in group 2081, average p.len 12.88, median 13.0, min 12, max 13\n",
      "EvaluatorHoldout: Ignoring 1527 ( 3.7%) Users that have less than 1 test interactions\n",
      "EvaluatorHoldout: Ignoring 39548 Users\n",
      "EvaluatorHoldout: Processed 1946 (100.0%) in 3.06 sec. Users per second: 637\n",
      "EvaluatorHoldout: Processed 1946 (100.0%) in 5.68 sec. Users per second: 343\n",
      "EvaluatorHoldout: Processed 1946 (100.0%) in 3.36 sec. Users per second: 579\n",
      "EvaluatorHoldout: Processed 1946 (100.0%) in 3.18 sec. Users per second: 611\n",
      "EvaluatorHoldout: Processed 1946 (100.0%) in 3.55 sec. Users per second: 548\n",
      "EvaluatorHoldout: Processed 1946 (100.0%) in 3.95 sec. Users per second: 493\n",
      "Group 5, #users in group 2081, average p.len 13.92, median 14.0, min 13, max 14\n",
      "EvaluatorHoldout: Ignoring 1527 ( 3.7%) Users that have less than 1 test interactions\n",
      "EvaluatorHoldout: Ignoring 39548 Users\n",
      "EvaluatorHoldout: Processed 1999 (100.0%) in 3.23 sec. Users per second: 618\n",
      "EvaluatorHoldout: Processed 1999 (100.0%) in 5.72 sec. Users per second: 349\n",
      "EvaluatorHoldout: Processed 1999 (100.0%) in 3.23 sec. Users per second: 619\n",
      "EvaluatorHoldout: Processed 1999 (100.0%) in 3.29 sec. Users per second: 607\n",
      "EvaluatorHoldout: Processed 1999 (100.0%) in 3.47 sec. Users per second: 576\n",
      "EvaluatorHoldout: Processed 1999 (100.0%) in 4.20 sec. Users per second: 476\n",
      "Group 6, #users in group 2081, average p.len 14.92, median 15.0, min 14, max 15\n",
      "EvaluatorHoldout: Ignoring 1527 ( 3.7%) Users that have less than 1 test interactions\n",
      "EvaluatorHoldout: Ignoring 39548 Users\n",
      "EvaluatorHoldout: Processed 1999 (100.0%) in 3.17 sec. Users per second: 631\n",
      "EvaluatorHoldout: Processed 1999 (100.0%) in 5.41 sec. Users per second: 369\n",
      "EvaluatorHoldout: Processed 1999 (100.0%) in 3.21 sec. Users per second: 623\n",
      "EvaluatorHoldout: Processed 1999 (100.0%) in 3.36 sec. Users per second: 594\n",
      "EvaluatorHoldout: Processed 1999 (100.0%) in 3.42 sec. Users per second: 585\n",
      "EvaluatorHoldout: Processed 1999 (100.0%) in 4.22 sec. Users per second: 473\n",
      "Group 7, #users in group 2081, average p.len 16.00, median 16.0, min 15, max 17\n",
      "EvaluatorHoldout: Ignoring 1527 ( 3.7%) Users that have less than 1 test interactions\n",
      "EvaluatorHoldout: Ignoring 39548 Users\n",
      "EvaluatorHoldout: Processed 2040 (100.0%) in 3.34 sec. Users per second: 610\n",
      "EvaluatorHoldout: Processed 2040 (100.0%) in 5.60 sec. Users per second: 364\n",
      "EvaluatorHoldout: Processed 2040 (100.0%) in 4.16 sec. Users per second: 490\n",
      "EvaluatorHoldout: Processed 2040 (100.0%) in 3.63 sec. Users per second: 562\n",
      "EvaluatorHoldout: Processed 2040 (100.0%) in 3.53 sec. Users per second: 577\n",
      "EvaluatorHoldout: Processed 2040 (100.0%) in 4.37 sec. Users per second: 467\n",
      "Group 8, #users in group 2081, average p.len 17.22, median 17.0, min 17, max 18\n",
      "EvaluatorHoldout: Ignoring 1527 ( 3.7%) Users that have less than 1 test interactions\n",
      "EvaluatorHoldout: Ignoring 39548 Users\n",
      "EvaluatorHoldout: Processed 2041 (100.0%) in 3.30 sec. Users per second: 619\n",
      "EvaluatorHoldout: Processed 2041 (100.0%) in 5.26 sec. Users per second: 388\n",
      "EvaluatorHoldout: Processed 2041 (100.0%) in 3.29 sec. Users per second: 620\n",
      "EvaluatorHoldout: Processed 2041 (100.0%) in 3.65 sec. Users per second: 559\n",
      "EvaluatorHoldout: Processed 2041 (100.0%) in 3.50 sec. Users per second: 584\n",
      "EvaluatorHoldout: Processed 2041 (100.0%) in 4.33 sec. Users per second: 471\n",
      "Group 9, #users in group 2081, average p.len 18.42, median 18.0, min 18, max 19\n",
      "EvaluatorHoldout: Ignoring 1527 ( 3.7%) Users that have less than 1 test interactions\n",
      "EvaluatorHoldout: Ignoring 39548 Users\n",
      "EvaluatorHoldout: Processed 2053 (100.0%) in 3.27 sec. Users per second: 628\n",
      "EvaluatorHoldout: Processed 2053 (100.0%) in 5.27 sec. Users per second: 390\n",
      "EvaluatorHoldout: Processed 2053 (100.0%) in 3.87 sec. Users per second: 530\n",
      "EvaluatorHoldout: Processed 2053 (100.0%) in 3.51 sec. Users per second: 584\n",
      "EvaluatorHoldout: Processed 2053 (100.0%) in 3.30 sec. Users per second: 622\n",
      "EvaluatorHoldout: Processed 2053 (100.0%) in 4.14 sec. Users per second: 496\n",
      "Group 10, #users in group 2081, average p.len 19.75, median 20.0, min 19, max 21\n",
      "EvaluatorHoldout: Ignoring 1527 ( 3.7%) Users that have less than 1 test interactions\n",
      "EvaluatorHoldout: Ignoring 39548 Users\n"
     ]
    },
    {
     "name": "stderr",
     "output_type": "stream",
     "text": [
      "/Users/federicobono/Documenti/Polimi/RecSys/repos/RecSysChallenge2023-Team/Evaluation/metrics.py:276: RuntimeWarning: overflow encountered in power\n",
      "  return np.sum(np.divide(np.power(2, scores) - 1, np.log2(np.arange(scores.shape[0], dtype=np.float64) + 2)),\n"
     ]
    },
    {
     "name": "stdout",
     "output_type": "stream",
     "text": [
      "EvaluatorHoldout: Processed 2057 (100.0%) in 3.11 sec. Users per second: 662\n",
      "EvaluatorHoldout: Processed 2057 (100.0%) in 4.40 sec. Users per second: 467\n",
      "EvaluatorHoldout: Processed 2057 (100.0%) in 3.06 sec. Users per second: 672\n",
      "EvaluatorHoldout: Processed 2057 (100.0%) in 3.45 sec. Users per second: 596\n",
      "EvaluatorHoldout: Processed 2057 (100.0%) in 3.31 sec. Users per second: 622\n",
      "EvaluatorHoldout: Processed 2057 (100.0%) in 4.17 sec. Users per second: 494\n",
      "Group 11, #users in group 2081, average p.len 21.44, median 21.0, min 21, max 22\n",
      "EvaluatorHoldout: Ignoring 1527 ( 3.7%) Users that have less than 1 test interactions\n",
      "EvaluatorHoldout: Ignoring 39548 Users\n",
      "EvaluatorHoldout: Processed 2072 (100.0%) in 3.10 sec. Users per second: 669\n",
      "EvaluatorHoldout: Processed 2072 (100.0%) in 4.23 sec. Users per second: 489\n",
      "EvaluatorHoldout: Processed 2072 (100.0%) in 3.05 sec. Users per second: 679\n",
      "EvaluatorHoldout: Processed 2072 (100.0%) in 3.52 sec. Users per second: 589\n",
      "EvaluatorHoldout: Processed 2072 (100.0%) in 3.31 sec. Users per second: 625\n",
      "EvaluatorHoldout: Processed 2072 (100.0%) in 4.25 sec. Users per second: 487\n",
      "Group 12, #users in group 2081, average p.len 23.21, median 23.0, min 22, max 24\n",
      "EvaluatorHoldout: Ignoring 1527 ( 3.7%) Users that have less than 1 test interactions\n",
      "EvaluatorHoldout: Ignoring 39548 Users\n",
      "EvaluatorHoldout: Processed 2072 (100.0%) in 3.07 sec. Users per second: 676\n",
      "EvaluatorHoldout: Processed 2072 (100.0%) in 4.13 sec. Users per second: 501\n",
      "EvaluatorHoldout: Processed 2072 (100.0%) in 3.05 sec. Users per second: 680\n",
      "EvaluatorHoldout: Processed 2072 (100.0%) in 3.55 sec. Users per second: 583\n",
      "EvaluatorHoldout: Processed 2072 (100.0%) in 3.35 sec. Users per second: 618\n",
      "EvaluatorHoldout: Processed 2072 (100.0%) in 4.28 sec. Users per second: 484\n",
      "Group 13, #users in group 2081, average p.len 25.49, median 25.0, min 24, max 27\n",
      "EvaluatorHoldout: Ignoring 1527 ( 3.7%) Users that have less than 1 test interactions\n",
      "EvaluatorHoldout: Ignoring 39548 Users\n",
      "EvaluatorHoldout: Processed 2076 (100.0%) in 3.12 sec. Users per second: 666\n",
      "EvaluatorHoldout: Processed 2076 (100.0%) in 4.08 sec. Users per second: 509\n",
      "EvaluatorHoldout: Processed 2076 (100.0%) in 3.08 sec. Users per second: 674\n",
      "EvaluatorHoldout: Processed 2076 (100.0%) in 3.65 sec. Users per second: 569\n",
      "EvaluatorHoldout: Processed 2076 (100.0%) in 3.37 sec. Users per second: 616\n",
      "EvaluatorHoldout: Processed 2076 (100.0%) in 4.37 sec. Users per second: 475\n",
      "Group 14, #users in group 2081, average p.len 28.37, median 28.0, min 27, max 30\n",
      "EvaluatorHoldout: Ignoring 1527 ( 3.7%) Users that have less than 1 test interactions\n",
      "EvaluatorHoldout: Ignoring 39548 Users\n",
      "EvaluatorHoldout: Processed 2079 (100.0%) in 3.16 sec. Users per second: 657\n",
      "EvaluatorHoldout: Processed 2079 (100.0%) in 4.09 sec. Users per second: 508\n",
      "EvaluatorHoldout: Processed 2079 (100.0%) in 3.09 sec. Users per second: 672\n",
      "EvaluatorHoldout: Processed 2079 (100.0%) in 3.73 sec. Users per second: 557\n",
      "EvaluatorHoldout: Processed 2079 (100.0%) in 3.44 sec. Users per second: 605\n",
      "EvaluatorHoldout: Processed 2079 (100.0%) in 4.44 sec. Users per second: 469\n",
      "Group 15, #users in group 2081, average p.len 31.88, median 32.0, min 30, max 34\n",
      "EvaluatorHoldout: Ignoring 1527 ( 3.7%) Users that have less than 1 test interactions\n",
      "EvaluatorHoldout: Ignoring 39548 Users\n",
      "EvaluatorHoldout: Processed 2080 (100.0%) in 3.16 sec. Users per second: 658\n",
      "EvaluatorHoldout: Processed 2080 (100.0%) in 4.09 sec. Users per second: 508\n",
      "EvaluatorHoldout: Processed 2080 (100.0%) in 3.11 sec. Users per second: 669\n",
      "EvaluatorHoldout: Processed 2080 (100.0%) in 3.82 sec. Users per second: 545\n",
      "EvaluatorHoldout: Processed 2080 (100.0%) in 3.47 sec. Users per second: 599\n",
      "EvaluatorHoldout: Processed 2080 (100.0%) in 4.56 sec. Users per second: 456\n",
      "Group 16, #users in group 2081, average p.len 36.44, median 36.0, min 34, max 39\n",
      "EvaluatorHoldout: Ignoring 1527 ( 3.7%) Users that have less than 1 test interactions\n",
      "EvaluatorHoldout: Ignoring 39548 Users\n",
      "EvaluatorHoldout: Processed 2080 (100.0%) in 3.41 sec. Users per second: 609\n",
      "EvaluatorHoldout: Processed 2080 (100.0%) in 6.21 sec. Users per second: 335\n",
      "EvaluatorHoldout: Processed 2080 (100.0%) in 3.41 sec. Users per second: 610\n",
      "EvaluatorHoldout: Processed 2080 (100.0%) in 4.27 sec. Users per second: 487\n",
      "EvaluatorHoldout: Processed 2080 (100.0%) in 3.71 sec. Users per second: 560\n",
      "EvaluatorHoldout: Processed 2080 (100.0%) in 4.89 sec. Users per second: 425\n",
      "Group 17, #users in group 2081, average p.len 43.14, median 43.0, min 39, max 48\n",
      "EvaluatorHoldout: Ignoring 1527 ( 3.7%) Users that have less than 1 test interactions\n",
      "EvaluatorHoldout: Ignoring 39548 Users\n",
      "EvaluatorHoldout: Processed 2081 (100.0%) in 4.32 sec. Users per second: 482\n",
      "EvaluatorHoldout: Processed 2081 (100.0%) in 5.75 sec. Users per second: 362\n",
      "EvaluatorHoldout: Processed 2081 (100.0%) in 3.48 sec. Users per second: 598\n",
      "EvaluatorHoldout: Processed 2081 (100.0%) in 4.86 sec. Users per second: 428\n",
      "EvaluatorHoldout: Processed 2081 (100.0%) in 3.75 sec. Users per second: 555\n",
      "EvaluatorHoldout: Processed 2081 (100.0%) in 4.89 sec. Users per second: 425\n",
      "Group 18, #users in group 2081, average p.len 54.12, median 54.0, min 48, max 62\n",
      "EvaluatorHoldout: Ignoring 1527 ( 3.7%) Users that have less than 1 test interactions\n",
      "EvaluatorHoldout: Ignoring 39548 Users\n"
     ]
    },
    {
     "name": "stderr",
     "output_type": "stream",
     "text": [
      "/Users/federicobono/Documenti/Polimi/RecSys/repos/RecSysChallenge2023-Team/Evaluation/metrics.py:270: RuntimeWarning: invalid value encountered in double_scalars\n",
      "  ndcg_ = rank_dcg / ideal_dcg\n"
     ]
    },
    {
     "name": "stdout",
     "output_type": "stream",
     "text": [
      "EvaluatorHoldout: Processed 2081 (100.0%) in 3.37 sec. Users per second: 617\n",
      "EvaluatorHoldout: Processed 2081 (100.0%) in 4.31 sec. Users per second: 483\n",
      "EvaluatorHoldout: Processed 2081 (100.0%) in 3.28 sec. Users per second: 635\n",
      "EvaluatorHoldout: Processed 2081 (100.0%) in 4.24 sec. Users per second: 490\n",
      "EvaluatorHoldout: Processed 2081 (100.0%) in 3.84 sec. Users per second: 542\n",
      "EvaluatorHoldout: Processed 2081 (100.0%) in 5.18 sec. Users per second: 402\n",
      "Group 19, #users in group 2081, average p.len 87.91, median 78.0, min 62, max 281\n",
      "EvaluatorHoldout: Ignoring 1527 ( 3.7%) Users that have less than 1 test interactions\n",
      "EvaluatorHoldout: Ignoring 39548 Users\n",
      "EvaluatorHoldout: Processed 2081 (100.0%) in 3.47 sec. Users per second: 600\n",
      "EvaluatorHoldout: Processed 2081 (100.0%) in 4.46 sec. Users per second: 466\n",
      "EvaluatorHoldout: Processed 2081 (100.0%) in 3.46 sec. Users per second: 601\n",
      "EvaluatorHoldout: Processed 2081 (100.0%) in 4.72 sec. Users per second: 441\n",
      "EvaluatorHoldout: Processed 2081 (100.0%) in 4.09 sec. Users per second: 509\n",
      "EvaluatorHoldout: Processed 2081 (100.0%) in 5.44 sec. Users per second: 383\n"
     ]
    }
   ],
   "source": [
    "cutoff = 10\n",
    "\n",
    "for group_id in range(0, 20):\n",
    "    \n",
    "    start_pos = group_id*block_size\n",
    "    end_pos = min((group_id+1)*block_size, len(profile_length))\n",
    "    \n",
    "    users_in_group = sorted_users[start_pos:end_pos]\n",
    "    \n",
    "    users_in_group_p_len = profile_length[users_in_group]\n",
    "    \n",
    "    print(\"Group {}, #users in group {}, average p.len {:.2f}, median {}, min {}, max {}\".format(\n",
    "        group_id, \n",
    "        users_in_group.shape[0],\n",
    "        users_in_group_p_len.mean(),\n",
    "        np.median(users_in_group_p_len),\n",
    "        users_in_group_p_len.min(),\n",
    "        users_in_group_p_len.max()))\n",
    "    \n",
    "    \n",
    "    users_not_in_group_flag = np.isin(sorted_users, users_in_group, invert=True)\n",
    "    users_not_in_group = sorted_users[users_not_in_group_flag]\n",
    "    \n",
    "    evaluator_test = EvaluatorHoldout(URMv_test, cutoff_list=[cutoff], ignore_users=users_not_in_group)\n",
    "    \n",
    "    for label, recommender in recommender_object_dict.items():\n",
    "        result_df, _ = evaluator_test.evaluateRecommender(recommender)\n",
    "        if label in MAP_recommender_per_group:\n",
    "            MAP_recommender_per_group[label].append(result_df.loc[cutoff][\"MAP\"])\n",
    "        else:\n",
    "            MAP_recommender_per_group[label] = [result_df.loc[cutoff][\"MAP\"]]"
   ]
  },
  {
   "cell_type": "code",
   "execution_count": 60,
   "metadata": {},
   "outputs": [
    {
     "data": {
      "text/plain": "<Figure size 1400x1400 with 1 Axes>",
      "image/png": "[encoded data removed]"
     },
     "metadata": {},
     "output_type": "display_data"
    }
   ],
   "source": [
    "import matplotlib.pyplot as plt\n",
    "%matplotlib inline  \n",
    "\n",
    "_ = plt.figure(figsize=(14, 14))\n",
    "for label, recommender in recommender_object_dict.items():\n",
    "    results = MAP_recommender_per_group[label]\n",
    "    plt.scatter(x=np.arange(0,len(results)), y=results, label=label,)\n",
    "plt.ylabel('MAP')\n",
    "plt.xlabel('User Group')\n",
    "plt.legend()\n",
    "plt.show()"
   ]
  },
  {
   "cell_type": "code",
   "execution_count": 31,
   "metadata": {},
   "outputs": [
    {
     "name": "stdout",
     "output_type": "stream",
     "text": [
      "EvaluatorHoldout: Ignoring 1563 ( 3.8%) Users that have less than 1 test interactions\n"
     ]
    },
    {
     "name": "stderr",
     "output_type": "stream",
     "text": [
      "/Users/federicobono/Documenti/Polimi/RecSys/repos/RecSysChallenge2023-Team/Evaluation/metrics.py:276: RuntimeWarning: overflow encountered in power\n",
      "  return np.sum(np.divide(np.power(2, scores) - 1, np.log2(np.arange(scores.shape[0], dtype=np.float64) + 2)),\n",
      "/Users/federicobono/Documenti/Polimi/RecSys/repos/RecSysChallenge2023-Team/Evaluation/metrics.py:270: RuntimeWarning: invalid value encountered in double_scalars\n",
      "  ndcg_ = rank_dcg / ideal_dcg\n"
     ]
    },
    {
     "name": "stdout",
     "output_type": "stream",
     "text": [
      "EvaluatorHoldout: Processed 40066 (100.0%) in 1.38 min. Users per second: 483\n"
     ]
    },
    {
     "data": {
      "text/plain": "       PRECISION PRECISION_RECALL_MIN_DEN    RECALL       MAP MAP_MIN_DEN  \\\ncutoff                                                                      \n10      0.055748                 0.096214  0.090494  0.026343    0.042765   \n\n             MRR NDCG        F1  HIT_RATE ARHR_ALL_HITS  ... COVERAGE_USER  \\\ncutoff                                                   ...                 \n10      0.163402  NaN  0.068993  0.352618      0.205598  ...      0.962454   \n\n       COVERAGE_USER_HIT USERS_IN_GT DIVERSITY_GINI SHANNON_ENTROPY  \\\ncutoff                                                                \n10              0.339379    0.962454         0.1541       10.238117   \n\n       RATIO_DIVERSITY_HERFINDAHL RATIO_DIVERSITY_GINI RATIO_SHANNON_ENTROPY  \\\ncutoff                                                                         \n10                       0.994647             0.399329               0.77646   \n\n       RATIO_AVERAGE_POPULARITY RATIO_NOVELTY  \ncutoff                                         \n10                     3.272638      0.419678  \n\n[1 rows x 27 columns]",
      "text/html": "<div>\n<style scoped>\n    .dataframe tbody tr th:only-of-type {\n        vertical-align: middle;\n    }\n\n    .dataframe tbody tr th {\n        vertical-align: top;\n    }\n\n    .dataframe thead th {\n        text-align: right;\n    }\n</style>\n<table border=\"1\" class=\"dataframe\">\n  <thead>\n    <tr style=\"text-align: right;\">\n      <th></th>\n      <th>PRECISION</th>\n      <th>PRECISION_RECALL_MIN_DEN</th>\n      <th>RECALL</th>\n      <th>MAP</th>\n      <th>MAP_MIN_DEN</th>\n      <th>MRR</th>\n      <th>NDCG</th>\n      <th>F1</th>\n      <th>HIT_RATE</th>\n      <th>ARHR_ALL_HITS</th>\n      <th>...</th>\n      <th>COVERAGE_USER</th>\n      <th>COVERAGE_USER_HIT</th>\n      <th>USERS_IN_GT</th>\n      <th>DIVERSITY_GINI</th>\n      <th>SHANNON_ENTROPY</th>\n      <th>RATIO_DIVERSITY_HERFINDAHL</th>\n      <th>RATIO_DIVERSITY_GINI</th>\n      <th>RATIO_SHANNON_ENTROPY</th>\n      <th>RATIO_AVERAGE_POPULARITY</th>\n      <th>RATIO_NOVELTY</th>\n    </tr>\n    <tr>\n      <th>cutoff</th>\n      <th></th>\n      <th></th>\n      <th></th>\n      <th></th>\n      <th></th>\n      <th></th>\n      <th></th>\n      <th></th>\n      <th></th>\n      <th></th>\n      <th></th>\n      <th></th>\n      <th></th>\n      <th></th>\n      <th></th>\n      <th></th>\n      <th></th>\n      <th></th>\n      <th></th>\n      <th></th>\n      <th></th>\n    </tr>\n  </thead>\n  <tbody>\n    <tr>\n      <th>10</th>\n      <td>0.055748</td>\n      <td>0.096214</td>\n      <td>0.090494</td>\n      <td>0.026343</td>\n      <td>0.042765</td>\n      <td>0.163402</td>\n      <td>NaN</td>\n      <td>0.068993</td>\n      <td>0.352618</td>\n      <td>0.205598</td>\n      <td>...</td>\n      <td>0.962454</td>\n      <td>0.339379</td>\n      <td>0.962454</td>\n      <td>0.1541</td>\n      <td>10.238117</td>\n      <td>0.994647</td>\n      <td>0.399329</td>\n      <td>0.77646</td>\n      <td>3.272638</td>\n      <td>0.419678</td>\n    </tr>\n  </tbody>\n</table>\n<p>1 rows × 27 columns</p>\n</div>"
     },
     "execution_count": 31,
     "metadata": {},
     "output_type": "execute_result"
    }
   ],
   "source": [
    "evaluator_test = EvaluatorHoldout(URMv_test, [10])\n",
    "ris, _ = evaluator_test.evaluateRecommender(hybrid)\n",
    "ris"
   ]
  },
  {
   "cell_type": "code",
   "execution_count": null,
   "outputs": [],
   "source": [],
   "metadata": {
    "collapsed": false
   }
  },
  {
   "cell_type": "code",
   "execution_count": 32,
   "outputs": [
    {
     "name": "stdout",
     "output_type": "stream",
     "text": [
      "EvaluatorHoldout: Ignoring 1563 ( 3.8%) Users that have less than 1 test interactions\n"
     ]
    },
    {
     "name": "stderr",
     "output_type": "stream",
     "text": [
      "/Users/federicobono/Documenti/Polimi/RecSys/repos/RecSysChallenge2023-Team/Evaluation/metrics.py:276: RuntimeWarning: overflow encountered in power\n",
      "  return np.sum(np.divide(np.power(2, scores) - 1, np.log2(np.arange(scores.shape[0], dtype=np.float64) + 2)),\n"
     ]
    },
    {
     "name": "stdout",
     "output_type": "stream",
     "text": [
      "EvaluatorHoldout: Processed 40066 (100.0%) in 30.17 sec. Users per second: 1328\n"
     ]
    },
    {
     "data": {
      "text/plain": "       PRECISION PRECISION_RECALL_MIN_DEN    RECALL       MAP MAP_MIN_DEN  \\\ncutoff                                                                      \n10      0.041035                  0.06943  0.065082  0.020278    0.033597   \n\n             MRR      NDCG        F1  HIT_RATE ARHR_ALL_HITS  ...  \\\ncutoff                                                        ...   \n10      0.134686  0.060508  0.050334  0.272301      0.163688  ...   \n\n       COVERAGE_USER COVERAGE_USER_HIT USERS_IN_GT DIVERSITY_GINI  \\\ncutoff                                                              \n10          0.962454          0.262077    0.962454       0.047719   \n\n       SHANNON_ENTROPY RATIO_DIVERSITY_HERFINDAHL RATIO_DIVERSITY_GINI  \\\ncutoff                                                                   \n10            9.457064                   0.995171             0.109127   \n\n       RATIO_SHANNON_ENTROPY RATIO_AVERAGE_POPULARITY RATIO_NOVELTY  \ncutoff                                                               \n10                  0.703185                 3.490068      0.276846  \n\n[1 rows x 27 columns]",
      "text/html": "<div>\n<style scoped>\n    .dataframe tbody tr th:only-of-type {\n        vertical-align: middle;\n    }\n\n    .dataframe tbody tr th {\n        vertical-align: top;\n    }\n\n    .dataframe thead th {\n        text-align: right;\n    }\n</style>\n<table border=\"1\" class=\"dataframe\">\n  <thead>\n    <tr style=\"text-align: right;\">\n      <th></th>\n      <th>PRECISION</th>\n      <th>PRECISION_RECALL_MIN_DEN</th>\n      <th>RECALL</th>\n      <th>MAP</th>\n      <th>MAP_MIN_DEN</th>\n      <th>MRR</th>\n      <th>NDCG</th>\n      <th>F1</th>\n      <th>HIT_RATE</th>\n      <th>ARHR_ALL_HITS</th>\n      <th>...</th>\n      <th>COVERAGE_USER</th>\n      <th>COVERAGE_USER_HIT</th>\n      <th>USERS_IN_GT</th>\n      <th>DIVERSITY_GINI</th>\n      <th>SHANNON_ENTROPY</th>\n      <th>RATIO_DIVERSITY_HERFINDAHL</th>\n      <th>RATIO_DIVERSITY_GINI</th>\n      <th>RATIO_SHANNON_ENTROPY</th>\n      <th>RATIO_AVERAGE_POPULARITY</th>\n      <th>RATIO_NOVELTY</th>\n    </tr>\n    <tr>\n      <th>cutoff</th>\n      <th></th>\n      <th></th>\n      <th></th>\n      <th></th>\n      <th></th>\n      <th></th>\n      <th></th>\n      <th></th>\n      <th></th>\n      <th></th>\n      <th></th>\n      <th></th>\n      <th></th>\n      <th></th>\n      <th></th>\n      <th></th>\n      <th></th>\n      <th></th>\n      <th></th>\n      <th></th>\n      <th></th>\n    </tr>\n  </thead>\n  <tbody>\n    <tr>\n      <th>10</th>\n      <td>0.041035</td>\n      <td>0.06943</td>\n      <td>0.065082</td>\n      <td>0.020278</td>\n      <td>0.033597</td>\n      <td>0.134686</td>\n      <td>0.060508</td>\n      <td>0.050334</td>\n      <td>0.272301</td>\n      <td>0.163688</td>\n      <td>...</td>\n      <td>0.962454</td>\n      <td>0.262077</td>\n      <td>0.962454</td>\n      <td>0.047719</td>\n      <td>9.457064</td>\n      <td>0.995171</td>\n      <td>0.109127</td>\n      <td>0.703185</td>\n      <td>3.490068</td>\n      <td>0.276846</td>\n    </tr>\n  </tbody>\n</table>\n<p>1 rows × 27 columns</p>\n</div>"
     },
     "execution_count": 32,
     "metadata": {},
     "output_type": "execute_result"
    }
   ],
   "source": [
    "evaluator_test = EvaluatorHoldout(URMv_test, [10])\n",
    "ris, _ = evaluator_test.evaluateRecommender(best_reference)\n",
    "ris"
   ],
   "metadata": {
    "collapsed": false
   }
  },
  {
   "cell_type": "code",
   "execution_count": 28,
   "metadata": {},
   "outputs": [
    {
     "name": "stderr",
     "output_type": "stream",
     "text": [
      "100%|██████████| 41116/41116 [00:31<00:00, 1303.91it/s]\n"
     ]
    }
   ],
   "source": [
    "from tqdm import tqdm\n",
    "\n",
    "f = open(\"submission.csv\", \"w+\")\n",
    "f.write(\"user_id,item_list\\n\")\n",
    "for t in tqdm(dm.getUserIDtest_df().user_id):\n",
    "    recommended_items = recommender.recommend(t, cutoff=10, remove_seen_flag=True)\n",
    "    well_formatted = \" \".join([str(x) for x in recommended_items])\n",
    "    f.write(f\"{t}, {well_formatted}\\n\")"
   ]
  }
 ],
 "metadata": {
  "kernelspec": {
   "display_name": "base",
   "language": "python",
   "name": "python3"
  },
  "language_info": {
   "codemirror_mode": {
    "name": "ipython",
    "version": 3
   },
   "file_extension": ".py",
   "mimetype": "text/x-python",
   "name": "python",
   "nbconvert_exporter": "python",
   "pygments_lexer": "ipython3",
   "version": "3.9.13"
  },
  "orig_nbformat": 4,
  "vscode": {
   "interpreter": {
    "hash": "6e76083d1a5f4c0027e70cf105b7627b1b5e567462449feedfd1ad9407b42e24"
   }
  }
 },
 "nbformat": 4,
 "nbformat_minor": 2
}
