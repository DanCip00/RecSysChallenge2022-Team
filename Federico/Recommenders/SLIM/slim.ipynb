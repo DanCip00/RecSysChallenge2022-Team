{
 "cells": [
  {
   "cell_type": "code",
   "execution_count": 5,
   "metadata": {
    "collapsed": true
   },
   "outputs": [
    {
     "name": "stdout",
     "output_type": "stream",
     "text": [
      "Warning: 343 (0.82 %) of 41629 users have no sampled items\n",
      "Warning: 791 (1.90 %) of 41629 users have no sampled items\n",
      "EvaluatorHoldout: Ignoring 791 ( 1.9%) Users that have less than 1 test interactions\n",
      "EvaluatorHoldout: Ignoring 343 ( 0.8%) Users that have less than 1 test interactions\n"
     ]
    }
   ],
   "source": [
    "import os\n",
    "import sys\n",
    "\n",
    "while os.path.split(os.getcwd())[1] != 'RecSysChallenge2023-Team':\n",
    "    os.chdir('..')\n",
    "sys.path.insert(1, os.getcwd())\n",
    "\n",
    "import Daniele.Utils.MatrixManipulation as mm\n",
    "import Daniele.Utils.MyDataManager as dm\n",
    "\n",
    "from Data_manager.split_functions.split_train_validation_random_holdout import \\\n",
    "    split_train_in_two_percentage_global_sample\n",
    "from Evaluation.Evaluator import EvaluatorHoldout\n",
    "from sklearn.preprocessing import normalize\n",
    "import similaripy\n",
    "import scipy.sparse as sp\n",
    "import numpy as np\n",
    "\n",
    "URMv = dm.getURMviews()\n",
    "URMo = dm.getURMopen()\n",
    "# URM_all = mm.defaultExplicitURM(urmv=URMv, urmo=URMo, normalize=False, add_aug=False)\n",
    "URM_all = URMo + URMv\n",
    "URM_all.data = np.ones(len(URM_all.data))\n",
    "\n",
    "ICMt = dm.getICMt()\n",
    "ICMl = dm.getICMl()\n",
    "\n",
    "URM_aug = sp.vstack([URM_all, ICMt.T])\n",
    "\n",
    "URM_train_validation, URM_test = split_train_in_two_percentage_global_sample(URM_all, train_percentage=0.80)\n",
    "URM_train, URM_validation = split_train_in_two_percentage_global_sample(URM_train_validation, train_percentage=0.80)\n",
    "\n",
    "evaluator_validation = EvaluatorHoldout(URM_validation, [10])\n",
    "evaluator_test = EvaluatorHoldout(URM_test, [10])\n",
    "\n",
    "earlystopping_keywargs = {\n",
    "    \"validation_every_n\": 10,\n",
    "    \"stop_on_validation\": True,\n",
    "    \"evaluator_object\": evaluator_validation,\n",
    "    \"lower_validations_allowed\": 5,\n",
    "    \"validation_metric\": 'MAP_MIN_DEN',\n",
    "}"
   ]
  },
  {
   "cell_type": "code",
   "execution_count": 6,
   "outputs": [
    {
     "name": "stdout",
     "output_type": "stream",
     "text": [
      "SLIM_BPR_Recommender: URM Detected 3461 (12.4%) items with no interactions.\n",
      "Deallocating Cython objects\n",
      "Unable to read memory status: list index out of range\n",
      "SLIM_BPR_Recommender: Automatic selection of fastest train mode. Unable to get current RAM status, you may be using a non-Linux operating system. Using dense matrix.\n"
     ]
    },
    {
     "name": "stderr",
     "output_type": "stream",
     "text": [
      "/bin/sh: free: command not found\n"
     ]
    },
    {
     "name": "stdout",
     "output_type": "stream",
     "text": [
      "Processed 41629 (100.0%) in 1.55 sec. BPR loss is 1.28E-04. Sample per second: 26806\n",
      "SLIM_BPR_Recommender: Epoch 1 of 200. Elapsed time 0.57 sec\n",
      "Processed 41629 (100.0%) in 0.89 sec. BPR loss is 3.85E-04. Sample per second: 46758\n",
      "SLIM_BPR_Recommender: Epoch 2 of 200. Elapsed time 0.91 sec\n",
      "Processed 41629 (100.0%) in 1.17 sec. BPR loss is 6.56E-04. Sample per second: 35566\n",
      "SLIM_BPR_Recommender: Epoch 3 of 200. Elapsed time 1.19 sec\n",
      "Processed 41629 (100.0%) in 0.43 sec. BPR loss is 8.98E-04. Sample per second: 96390\n",
      "SLIM_BPR_Recommender: Epoch 4 of 200. Elapsed time 1.45 sec\n",
      "Processed 41629 (100.0%) in 0.67 sec. BPR loss is 1.13E-03. Sample per second: 61988\n",
      "SLIM_BPR_Recommender: Epoch 5 of 200. Elapsed time 1.69 sec\n",
      "Processed 41629 (100.0%) in 0.90 sec. BPR loss is 1.35E-03. Sample per second: 46077\n",
      "SLIM_BPR_Recommender: Epoch 6 of 200. Elapsed time 1.92 sec\n",
      "Processed 41629 (100.0%) in 1.15 sec. BPR loss is 1.53E-03. Sample per second: 36032\n",
      "SLIM_BPR_Recommender: Epoch 7 of 200. Elapsed time 2.17 sec\n",
      "Processed 41629 (100.0%) in 0.39 sec. BPR loss is 1.77E-03. Sample per second: 107615\n",
      "SLIM_BPR_Recommender: Epoch 8 of 200. Elapsed time 2.41 sec\n",
      "Processed 41629 (100.0%) in 0.62 sec. BPR loss is 2.00E-03. Sample per second: 67153\n",
      "SLIM_BPR_Recommender: Epoch 9 of 200. Elapsed time 2.64 sec\n",
      "Processed 41629 (100.0%) in 0.84 sec. BPR loss is 2.15E-03. Sample per second: 49644\n",
      "SLIM_BPR_Recommender: Validation begins...\n",
      "EvaluatorHoldout: Processed 40838 (100.0%) in 34.70 sec. Users per second: 1177\n",
      "SLIM_BPR_Recommender: CUTOFF: 10 - PRECISION: 0.0384715, PRECISION_RECALL_MIN_DEN: 0.0627563, RECALL: 0.0584311, MAP: 0.0171493, MAP_MIN_DEN: 0.0279005, MRR: 0.1277354, NDCG: 0.0594629, F1: 0.0463957, HIT_RATE: 0.2830697, ARHR_ALL_HITS: 0.1473879, NOVELTY: 0.0034698, AVERAGE_POPULARITY: 0.3259136, DIVERSITY_MEAN_INTER_LIST: 0.7929644, DIVERSITY_HERFINDAHL: 0.9792945, COVERAGE_ITEM: 0.3980263, COVERAGE_ITEM_HIT: 0.0203447, ITEMS_IN_GT: 0.8722111, COVERAGE_USER: 0.9809988, COVERAGE_USER_HIT: 0.2776910, USERS_IN_GT: 0.9809988, DIVERSITY_GINI: 0.0207163, SHANNON_ENTROPY: 7.4001115, RATIO_DIVERSITY_HERFINDAHL: 0.9796163, RATIO_DIVERSITY_GINI: 0.0468560, RATIO_SHANNON_ENTROPY: 0.5485005, RATIO_AVERAGE_POPULARITY: 6.3480078, RATIO_NOVELTY: 0.3009468, \n",
      "\n",
      "SLIM_BPR_Recommender: New best model found! Updating.\n",
      "SLIM_BPR_Recommender: Epoch 10 of 200. Elapsed time 1.10 min\n",
      "Processed 41629 (100.0%) in 0.33 sec. BPR loss is 2.32E-03. Sample per second: 125732\n",
      "SLIM_BPR_Recommender: Epoch 11 of 200. Elapsed time 1.11 min\n",
      "Processed 41629 (100.0%) in 0.51 sec. BPR loss is 2.51E-03. Sample per second: 81204\n",
      "SLIM_BPR_Recommender: Epoch 12 of 200. Elapsed time 1.11 min\n",
      "Processed 41629 (100.0%) in 0.69 sec. BPR loss is 2.74E-03. Sample per second: 60148\n",
      "SLIM_BPR_Recommender: Epoch 13 of 200. Elapsed time 1.11 min\n",
      "Processed 41629 (100.0%) in 0.86 sec. BPR loss is 2.99E-03. Sample per second: 48473\n",
      "SLIM_BPR_Recommender: Epoch 14 of 200. Elapsed time 1.11 min\n",
      "Processed 41629 (100.0%) in 1.04 sec. BPR loss is 3.29E-03. Sample per second: 39934\n",
      "SLIM_BPR_Recommender: Epoch 15 of 200. Elapsed time 1.12 min\n",
      "Processed 41629 (100.0%) in 0.22 sec. BPR loss is 3.38E-03. Sample per second: 184871\n",
      "SLIM_BPR_Recommender: Epoch 16 of 200. Elapsed time 1.12 min\n",
      "Processed 41629 (100.0%) in 0.41 sec. BPR loss is 3.38E-03. Sample per second: 101022\n",
      "SLIM_BPR_Recommender: Epoch 17 of 200. Elapsed time 1.12 min\n",
      "Processed 41629 (100.0%) in 0.60 sec. BPR loss is 3.74E-03. Sample per second: 69666\n",
      "SLIM_BPR_Recommender: Epoch 18 of 200. Elapsed time 1.13 min\n",
      "Processed 41629 (100.0%) in 0.78 sec. BPR loss is 3.77E-03. Sample per second: 53611\n",
      "SLIM_BPR_Recommender: Epoch 19 of 200. Elapsed time 1.13 min\n",
      "Processed 41629 (100.0%) in 0.95 sec. BPR loss is 3.94E-03. Sample per second: 43633\n",
      "SLIM_BPR_Recommender: Validation begins...\n",
      "EvaluatorHoldout: Processed 40838 (100.0%) in 32.75 sec. Users per second: 1247\n",
      "SLIM_BPR_Recommender: CUTOFF: 10 - PRECISION: 0.0395122, PRECISION_RECALL_MIN_DEN: 0.0644818, RECALL: 0.0600744, MAP: 0.0177515, MAP_MIN_DEN: 0.0288049, MRR: 0.1314204, NDCG: 0.0612042, F1: 0.0476705, HIT_RATE: 0.2898281, ARHR_ALL_HITS: 0.1521266, NOVELTY: 0.0034763, AVERAGE_POPULARITY: 0.3184271, DIVERSITY_MEAN_INTER_LIST: 0.8078761, DIVERSITY_HERFINDAHL: 0.9807856, COVERAGE_ITEM: 0.3928061, COVERAGE_ITEM_HIT: 0.0206665, ITEMS_IN_GT: 0.8722111, COVERAGE_USER: 0.9809988, COVERAGE_USER_HIT: 0.2843210, USERS_IN_GT: 0.9809988, DIVERSITY_GINI: 0.0195831, SHANNON_ENTROPY: 7.4438419, RATIO_DIVERSITY_HERFINDAHL: 0.9811079, RATIO_DIVERSITY_GINI: 0.0442928, RATIO_SHANNON_ENTROPY: 0.5517418, RATIO_AVERAGE_POPULARITY: 6.2021884, RATIO_NOVELTY: 0.3015147, \n",
      "\n",
      "SLIM_BPR_Recommender: New best model found! Updating.\n",
      "SLIM_BPR_Recommender: Epoch 20 of 200. Elapsed time 2.05 min\n",
      "Processed 41629 (100.0%) in 0.37 sec. BPR loss is 4.12E-03. Sample per second: 111921\n",
      "SLIM_BPR_Recommender: Epoch 21 of 200. Elapsed time 2.06 min\n",
      "Processed 41629 (100.0%) in 0.56 sec. BPR loss is 4.28E-03. Sample per second: 74740\n",
      "SLIM_BPR_Recommender: Epoch 22 of 200. Elapsed time 2.06 min\n",
      "Processed 41629 (100.0%) in 0.74 sec. BPR loss is 4.41E-03. Sample per second: 56227\n",
      "SLIM_BPR_Recommender: Epoch 23 of 200. Elapsed time 2.06 min\n",
      "Processed 41629 (100.0%) in 0.91 sec. BPR loss is 4.73E-03. Sample per second: 45907\n",
      "SLIM_BPR_Recommender: Epoch 24 of 200. Elapsed time 2.07 min\n",
      "Processed 41629 (100.0%) in 1.09 sec. BPR loss is 4.83E-03. Sample per second: 38190\n",
      "SLIM_BPR_Recommender: Epoch 25 of 200. Elapsed time 2.07 min\n",
      "Processed 41629 (100.0%) in 0.27 sec. BPR loss is 4.88E-03. Sample per second: 152613\n",
      "SLIM_BPR_Recommender: Epoch 26 of 200. Elapsed time 2.07 min\n",
      "Processed 41629 (100.0%) in 0.45 sec. BPR loss is 5.07E-03. Sample per second: 91682\n",
      "SLIM_BPR_Recommender: Epoch 27 of 200. Elapsed time 2.07 min\n",
      "Processed 41629 (100.0%) in 0.63 sec. BPR loss is 5.10E-03. Sample per second: 66304\n",
      "SLIM_BPR_Recommender: Epoch 28 of 200. Elapsed time 2.08 min\n",
      "Processed 41629 (100.0%) in 0.80 sec. BPR loss is 5.52E-03. Sample per second: 52135\n",
      "SLIM_BPR_Recommender: Epoch 29 of 200. Elapsed time 2.08 min\n",
      "Processed 41629 (100.0%) in 0.97 sec. BPR loss is 5.48E-03. Sample per second: 42913\n",
      "SLIM_BPR_Recommender: Validation begins...\n",
      "EvaluatorHoldout: Processed 40838 (100.0%) in 32.59 sec. Users per second: 1253\n",
      "SLIM_BPR_Recommender: CUTOFF: 10 - PRECISION: 0.0401881, PRECISION_RECALL_MIN_DEN: 0.0652607, RECALL: 0.0607459, MAP: 0.0181325, MAP_MIN_DEN: 0.0292360, MRR: 0.1332805, NDCG: 0.0620860, F1: 0.0483734, HIT_RATE: 0.2929869, ARHR_ALL_HITS: 0.1548366, NOVELTY: 0.0034924, AVERAGE_POPULARITY: 0.3078063, DIVERSITY_MEAN_INTER_LIST: 0.8265823, DIVERSITY_HERFINDAHL: 0.9826562, COVERAGE_ITEM: 0.3934139, COVERAGE_ITEM_HIT: 0.0214531, ITEMS_IN_GT: 0.8722111, COVERAGE_USER: 0.9809988, COVERAGE_USER_HIT: 0.2874198, USERS_IN_GT: 0.9809988, DIVERSITY_GINI: 0.0194039, SHANNON_ENTROPY: 7.5393904, RATIO_DIVERSITY_HERFINDAHL: 0.9829791, RATIO_DIVERSITY_GINI: 0.0438876, RATIO_SHANNON_ENTROPY: 0.5588239, RATIO_AVERAGE_POPULARITY: 5.9953224, RATIO_NOVELTY: 0.3029041, \n",
      "\n",
      "SLIM_BPR_Recommender: New best model found! Updating.\n",
      "SLIM_BPR_Recommender: Epoch 30 of 200. Elapsed time 3.00 min\n",
      "Processed 41629 (100.0%) in 1.06 sec. BPR loss is 5.40E-03. Sample per second: 39154\n",
      "SLIM_BPR_Recommender: Epoch 31 of 200. Elapsed time 3.00 min\n",
      "Processed 41629 (100.0%) in 0.25 sec. BPR loss is 5.47E-03. Sample per second: 169404\n",
      "SLIM_BPR_Recommender: Epoch 32 of 200. Elapsed time 3.00 min\n",
      "Processed 41629 (100.0%) in 0.43 sec. BPR loss is 5.71E-03. Sample per second: 97025\n",
      "SLIM_BPR_Recommender: Epoch 33 of 200. Elapsed time 3.01 min\n",
      "Processed 41629 (100.0%) in 0.61 sec. BPR loss is 5.91E-03. Sample per second: 68096\n",
      "SLIM_BPR_Recommender: Epoch 34 of 200. Elapsed time 3.01 min\n",
      "Processed 41629 (100.0%) in 0.79 sec. BPR loss is 5.87E-03. Sample per second: 52970\n",
      "SLIM_BPR_Recommender: Epoch 35 of 200. Elapsed time 3.01 min\n",
      "Processed 41629 (100.0%) in 0.95 sec. BPR loss is 5.99E-03. Sample per second: 43800\n",
      "SLIM_BPR_Recommender: Epoch 36 of 200. Elapsed time 3.02 min\n",
      "Processed 41629 (100.0%) in 1.14 sec. BPR loss is 6.38E-03. Sample per second: 36657\n",
      "SLIM_BPR_Recommender: Epoch 37 of 200. Elapsed time 3.02 min\n",
      "Processed 41629 (100.0%) in 0.32 sec. BPR loss is 6.37E-03. Sample per second: 131360\n",
      "SLIM_BPR_Recommender: Epoch 38 of 200. Elapsed time 3.02 min\n",
      "Processed 41629 (100.0%) in 0.50 sec. BPR loss is 6.46E-03. Sample per second: 83229\n",
      "SLIM_BPR_Recommender: Epoch 39 of 200. Elapsed time 3.03 min\n",
      "Processed 41629 (100.0%) in 0.68 sec. BPR loss is 6.65E-03. Sample per second: 60955\n",
      "SLIM_BPR_Recommender: Validation begins...\n",
      "EvaluatorHoldout: Processed 40838 (100.0%) in 32.83 sec. Users per second: 1244\n",
      "SLIM_BPR_Recommender: CUTOFF: 10 - PRECISION: 0.0405725, PRECISION_RECALL_MIN_DEN: 0.0655153, RECALL: 0.0608867, MAP: 0.0182971, MAP_MIN_DEN: 0.0292842, MRR: 0.1337429, NDCG: 0.0623440, F1: 0.0486959, HIT_RATE: 0.2945296, ARHR_ALL_HITS: 0.1558025, NOVELTY: 0.0035115, AVERAGE_POPULARITY: 0.2959890, DIVERSITY_MEAN_INTER_LIST: 0.8454503, DIVERSITY_HERFINDAHL: 0.9845430, COVERAGE_ITEM: 0.3961313, COVERAGE_ITEM_HIT: 0.0217034, ITEMS_IN_GT: 0.8722111, COVERAGE_USER: 0.9809988, COVERAGE_USER_HIT: 0.2889332, USERS_IN_GT: 0.9809988, DIVERSITY_GINI: 0.0194964, SHANNON_ENTROPY: 7.6526235, RATIO_DIVERSITY_HERFINDAHL: 0.9848665, RATIO_DIVERSITY_GINI: 0.0440968, RATIO_SHANNON_ENTROPY: 0.5672168, RATIO_AVERAGE_POPULARITY: 5.7651491, RATIO_NOVELTY: 0.3045683, \n",
      "\n",
      "SLIM_BPR_Recommender: New best model found! Updating.\n",
      "SLIM_BPR_Recommender: Epoch 40 of 200. Elapsed time 3.95 min\n",
      "Processed 41629 (100.0%) in 0.41 sec. BPR loss is 6.74E-03. Sample per second: 102355\n",
      "SLIM_BPR_Recommender: Epoch 41 of 200. Elapsed time 3.96 min\n",
      "Processed 41629 (100.0%) in 0.59 sec. BPR loss is 6.74E-03. Sample per second: 70551\n",
      "SLIM_BPR_Recommender: Epoch 42 of 200. Elapsed time 3.96 min\n",
      "Processed 41629 (100.0%) in 0.78 sec. BPR loss is 6.88E-03. Sample per second: 53361\n",
      "SLIM_BPR_Recommender: Epoch 43 of 200. Elapsed time 3.96 min\n",
      "Processed 41629 (100.0%) in 0.95 sec. BPR loss is 6.74E-03. Sample per second: 43679\n",
      "SLIM_BPR_Recommender: Epoch 44 of 200. Elapsed time 3.97 min\n",
      "Processed 41629 (100.0%) in 1.12 sec. BPR loss is 7.28E-03. Sample per second: 37074\n",
      "SLIM_BPR_Recommender: Epoch 45 of 200. Elapsed time 3.97 min\n",
      "Processed 41629 (100.0%) in 0.31 sec. BPR loss is 7.07E-03. Sample per second: 133972\n",
      "SLIM_BPR_Recommender: Epoch 46 of 200. Elapsed time 3.97 min\n",
      "Processed 41629 (100.0%) in 0.48 sec. BPR loss is 7.36E-03. Sample per second: 86206\n",
      "SLIM_BPR_Recommender: Epoch 47 of 200. Elapsed time 3.98 min\n",
      "Processed 41629 (100.0%) in 0.67 sec. BPR loss is 7.43E-03. Sample per second: 62296\n",
      "SLIM_BPR_Recommender: Epoch 48 of 200. Elapsed time 3.98 min\n",
      "Processed 41629 (100.0%) in 0.85 sec. BPR loss is 7.48E-03. Sample per second: 49152\n",
      "SLIM_BPR_Recommender: Epoch 49 of 200. Elapsed time 3.98 min\n",
      "Processed 41629 (100.0%) in 1.01 sec. BPR loss is 7.68E-03. Sample per second: 41065\n",
      "SLIM_BPR_Recommender: Validation begins...\n",
      "EvaluatorHoldout: Processed 40838 (100.0%) in 32.78 sec. Users per second: 1246\n",
      "SLIM_BPR_Recommender: CUTOFF: 10 - PRECISION: 0.0407096, PRECISION_RECALL_MIN_DEN: 0.0656015, RECALL: 0.0609321, MAP: 0.0184041, MAP_MIN_DEN: 0.0292650, MRR: 0.1339541, NDCG: 0.0624029, F1: 0.0488092, HIT_RATE: 0.2944317, ARHR_ALL_HITS: 0.1563650, NOVELTY: 0.0035318, AVERAGE_POPULARITY: 0.2843113, DIVERSITY_MEAN_INTER_LIST: 0.8622432, DIVERSITY_HERFINDAHL: 0.9862222, COVERAGE_ITEM: 0.3976688, COVERAGE_ITEM_HIT: 0.0225257, ITEMS_IN_GT: 0.8722111, COVERAGE_USER: 0.9809988, COVERAGE_USER_HIT: 0.2888371, USERS_IN_GT: 0.9809988, DIVERSITY_GINI: 0.0196916, SHANNON_ENTROPY: 7.7682300, RATIO_DIVERSITY_HERFINDAHL: 0.9865463, RATIO_DIVERSITY_GINI: 0.0445384, RATIO_SHANNON_ENTROPY: 0.5757857, RATIO_AVERAGE_POPULARITY: 5.5376965, RATIO_NOVELTY: 0.3063256, \n",
      "\n",
      "SLIM_BPR_Recommender: Epoch 50 of 200. Elapsed time 4.91 min\n",
      "Processed 41629 (100.0%) in 0.75 sec. BPR loss is 7.64E-03. Sample per second: 55828\n",
      "SLIM_BPR_Recommender: Epoch 51 of 200. Elapsed time 4.91 min\n",
      "Processed 41629 (100.0%) in 0.92 sec. BPR loss is 7.90E-03. Sample per second: 45393\n",
      "SLIM_BPR_Recommender: Epoch 52 of 200. Elapsed time 4.92 min\n",
      "Processed 41629 (100.0%) in 1.09 sec. BPR loss is 7.90E-03. Sample per second: 38064\n",
      "SLIM_BPR_Recommender: Epoch 53 of 200. Elapsed time 4.92 min\n",
      "Processed 41629 (100.0%) in 0.28 sec. BPR loss is 7.82E-03. Sample per second: 150049\n",
      "SLIM_BPR_Recommender: Epoch 54 of 200. Elapsed time 4.92 min\n",
      "Processed 41629 (100.0%) in 0.46 sec. BPR loss is 8.16E-03. Sample per second: 90876\n",
      "SLIM_BPR_Recommender: Epoch 55 of 200. Elapsed time 4.92 min\n",
      "Processed 41629 (100.0%) in 0.64 sec. BPR loss is 8.11E-03. Sample per second: 65077\n",
      "SLIM_BPR_Recommender: Epoch 56 of 200. Elapsed time 4.93 min\n",
      "Processed 41629 (100.0%) in 0.82 sec. BPR loss is 8.07E-03. Sample per second: 50557\n",
      "SLIM_BPR_Recommender: Epoch 57 of 200. Elapsed time 4.93 min\n",
      "Processed 41629 (100.0%) in 0.99 sec. BPR loss is 8.12E-03. Sample per second: 42060\n",
      "SLIM_BPR_Recommender: Epoch 58 of 200. Elapsed time 4.93 min\n",
      "Processed 41629 (100.0%) in 1.17 sec. BPR loss is 8.44E-03. Sample per second: 35560\n",
      "SLIM_BPR_Recommender: Epoch 59 of 200. Elapsed time 4.94 min\n",
      "Processed 41629 (100.0%) in 0.35 sec. BPR loss is 8.35E-03. Sample per second: 118860\n",
      "SLIM_BPR_Recommender: Validation begins...\n",
      "EvaluatorHoldout: Processed 40838 (100.0%) in 32.41 sec. Users per second: 1260\n",
      "SLIM_BPR_Recommender: CUTOFF: 10 - PRECISION: 0.0409251, PRECISION_RECALL_MIN_DEN: 0.0656736, RECALL: 0.0609293, MAP: 0.0184845, MAP_MIN_DEN: 0.0292280, MRR: 0.1336072, NDCG: 0.0623951, F1: 0.0489628, HIT_RATE: 0.2944561, ARHR_ALL_HITS: 0.1564844, NOVELTY: 0.0035523, AVERAGE_POPULARITY: 0.2730667, DIVERSITY_MEAN_INTER_LIST: 0.8770192, DIVERSITY_HERFINDAHL: 0.9876998, COVERAGE_ITEM: 0.3969179, COVERAGE_ITEM_HIT: 0.0231693, ITEMS_IN_GT: 0.8722111, COVERAGE_USER: 0.9809988, COVERAGE_USER_HIT: 0.2888611, USERS_IN_GT: 0.9809988, DIVERSITY_GINI: 0.0198804, SHANNON_ENTROPY: 7.8835065, RATIO_DIVERSITY_HERFINDAHL: 0.9880243, RATIO_DIVERSITY_GINI: 0.0449654, RATIO_SHANNON_ENTROPY: 0.5843300, RATIO_AVERAGE_POPULARITY: 5.3186785, RATIO_NOVELTY: 0.3081062, \n",
      "\n",
      "SLIM_BPR_Recommender: Epoch 60 of 200. Elapsed time 5.86 min\n",
      "Processed 41629 (100.0%) in 0.68 sec. BPR loss is 8.62E-03. Sample per second: 60931\n",
      "SLIM_BPR_Recommender: Epoch 61 of 200. Elapsed time 5.86 min\n",
      "Processed 41629 (100.0%) in 0.87 sec. BPR loss is 8.57E-03. Sample per second: 47886\n",
      "SLIM_BPR_Recommender: Epoch 62 of 200. Elapsed time 5.86 min\n",
      "Processed 41629 (100.0%) in 1.04 sec. BPR loss is 8.79E-03. Sample per second: 40043\n",
      "SLIM_BPR_Recommender: Epoch 63 of 200. Elapsed time 5.87 min\n",
      "Processed 41629 (100.0%) in 0.22 sec. BPR loss is 8.95E-03. Sample per second: 185944\n",
      "SLIM_BPR_Recommender: Epoch 64 of 200. Elapsed time 5.87 min\n",
      "Processed 41629 (100.0%) in 0.42 sec. BPR loss is 8.43E-03. Sample per second: 97886\n",
      "SLIM_BPR_Recommender: Epoch 65 of 200. Elapsed time 5.87 min\n",
      "Processed 41629 (100.0%) in 0.61 sec. BPR loss is 8.76E-03. Sample per second: 68255\n",
      "SLIM_BPR_Recommender: Epoch 66 of 200. Elapsed time 5.88 min\n",
      "Processed 41629 (100.0%) in 0.79 sec. BPR loss is 9.06E-03. Sample per second: 52514\n",
      "SLIM_BPR_Recommender: Epoch 67 of 200. Elapsed time 5.88 min\n",
      "Processed 41629 (100.0%) in 0.96 sec. BPR loss is 9.22E-03. Sample per second: 43263\n",
      "SLIM_BPR_Recommender: Epoch 68 of 200. Elapsed time 5.88 min\n",
      "Processed 41629 (100.0%) in 1.14 sec. BPR loss is 9.04E-03. Sample per second: 36602\n",
      "SLIM_BPR_Recommender: Epoch 69 of 200. Elapsed time 5.89 min\n",
      "Processed 41629 (100.0%) in 0.31 sec. BPR loss is 8.90E-03. Sample per second: 131991\n",
      "SLIM_BPR_Recommender: Validation begins...\n",
      "EvaluatorHoldout: Processed 40838 (100.0%) in 30.58 sec. Users per second: 1336\n",
      "SLIM_BPR_Recommender: CUTOFF: 10 - PRECISION: 0.0406068, PRECISION_RECALL_MIN_DEN: 0.0647548, RECALL: 0.0599759, MAP: 0.0182191, MAP_MIN_DEN: 0.0286124, MRR: 0.1312739, NDCG: 0.0613810, F1: 0.0484264, HIT_RATE: 0.2917626, ARHR_ALL_HITS: 0.1539475, NOVELTY: 0.0035782, AVERAGE_POPULARITY: 0.2575432, DIVERSITY_MEAN_INTER_LIST: 0.8939436, DIVERSITY_HERFINDAHL: 0.9893922, COVERAGE_ITEM: 0.3978475, COVERAGE_ITEM_HIT: 0.0236699, ITEMS_IN_GT: 0.8722111, COVERAGE_USER: 0.9809988, COVERAGE_USER_HIT: 0.2862187, USERS_IN_GT: 0.9809988, DIVERSITY_GINI: 0.0201789, SHANNON_ENTROPY: 8.0106579, RATIO_DIVERSITY_HERFINDAHL: 0.9897173, RATIO_DIVERSITY_GINI: 0.0456404, RATIO_SHANNON_ENTROPY: 0.5937546, RATIO_AVERAGE_POPULARITY: 5.0163173, RATIO_NOVELTY: 0.3103488, \n",
      "\n",
      "SLIM_BPR_Recommender: Epoch 70 of 200. Elapsed time 6.80 min\n",
      "Processed 41629 (100.0%) in 0.92 sec. BPR loss is 8.88E-03. Sample per second: 45105\n",
      "SLIM_BPR_Recommender: Epoch 71 of 200. Elapsed time 6.80 min\n",
      "Processed 41629 (100.0%) in 1.07 sec. BPR loss is 9.68E-03. Sample per second: 38905\n",
      "SLIM_BPR_Recommender: Epoch 72 of 200. Elapsed time 6.80 min\n",
      "Processed 41629 (100.0%) in 0.23 sec. BPR loss is 9.79E-03. Sample per second: 177925\n",
      "SLIM_BPR_Recommender: Epoch 73 of 200. Elapsed time 6.80 min\n",
      "Processed 41629 (100.0%) in 0.39 sec. BPR loss is 9.63E-03. Sample per second: 105646\n",
      "SLIM_BPR_Recommender: Epoch 74 of 200. Elapsed time 6.81 min\n",
      "Processed 41629 (100.0%) in 0.56 sec. BPR loss is 9.65E-03. Sample per second: 74761\n",
      "SLIM_BPR_Recommender: Epoch 75 of 200. Elapsed time 6.81 min\n",
      "Processed 41629 (100.0%) in 0.72 sec. BPR loss is 9.35E-03. Sample per second: 57893\n",
      "SLIM_BPR_Recommender: Epoch 76 of 200. Elapsed time 6.81 min\n",
      "Processed 41629 (100.0%) in 0.88 sec. BPR loss is 9.75E-03. Sample per second: 47240\n",
      "SLIM_BPR_Recommender: Epoch 77 of 200. Elapsed time 6.81 min\n",
      "Processed 41629 (100.0%) in 1.03 sec. BPR loss is 9.53E-03. Sample per second: 40263\n",
      "SLIM_BPR_Recommender: Epoch 78 of 200. Elapsed time 6.82 min\n",
      "Processed 41629 (100.0%) in 0.20 sec. BPR loss is 1.00E-02. Sample per second: 211594\n",
      "SLIM_BPR_Recommender: Epoch 79 of 200. Elapsed time 6.82 min\n",
      "Processed 41629 (100.0%) in 0.36 sec. BPR loss is 9.61E-03. Sample per second: 114399\n",
      "SLIM_BPR_Recommender: Validation begins...\n",
      "EvaluatorHoldout: Processed 40838 (100.0%) in 28.87 sec. Users per second: 1415\n",
      "SLIM_BPR_Recommender: CUTOFF: 10 - PRECISION: 0.0402395, PRECISION_RECALL_MIN_DEN: 0.0639039, RECALL: 0.0590878, MAP: 0.0180478, MAP_MIN_DEN: 0.0282021, MRR: 0.1294769, NDCG: 0.0605609, F1: 0.0478753, HIT_RATE: 0.2876977, ARHR_ALL_HITS: 0.1521472, NOVELTY: 0.0036030, AVERAGE_POPULARITY: 0.2435447, DIVERSITY_MEAN_INTER_LIST: 0.9070590, DIVERSITY_HERFINDAHL: 0.9907037, COVERAGE_ITEM: 0.3986342, COVERAGE_ITEM_HIT: 0.0239202, ITEMS_IN_GT: 0.8722111, COVERAGE_USER: 0.9809988, COVERAGE_USER_HIT: 0.2822311, USERS_IN_GT: 0.9809988, DIVERSITY_GINI: 0.0204947, SHANNON_ENTROPY: 8.1280243, RATIO_DIVERSITY_HERFINDAHL: 0.9910292, RATIO_DIVERSITY_GINI: 0.0463548, RATIO_SHANNON_ENTROPY: 0.6024538, RATIO_AVERAGE_POPULARITY: 4.7436618, RATIO_NOVELTY: 0.3125021, \n",
      "\n",
      "SLIM_BPR_Recommender: Epoch 80 of 200. Elapsed time 7.63 min\n",
      "Processed 41629 (100.0%) in 1.10 sec. BPR loss is 9.77E-03. Sample per second: 37942\n",
      "SLIM_BPR_Recommender: Epoch 81 of 200. Elapsed time 7.64 min\n",
      "Processed 41629 (100.0%) in 0.26 sec. BPR loss is 9.91E-03. Sample per second: 162129\n",
      "SLIM_BPR_Recommender: Epoch 82 of 200. Elapsed time 7.64 min\n",
      "Processed 41629 (100.0%) in 0.42 sec. BPR loss is 9.83E-03. Sample per second: 99640\n",
      "SLIM_BPR_Recommender: Epoch 83 of 200. Elapsed time 7.64 min\n",
      "Processed 41629 (100.0%) in 0.58 sec. BPR loss is 1.02E-02. Sample per second: 71866\n",
      "SLIM_BPR_Recommender: Epoch 84 of 200. Elapsed time 7.64 min\n",
      "Processed 41629 (100.0%) in 0.74 sec. BPR loss is 1.03E-02. Sample per second: 56332\n",
      "SLIM_BPR_Recommender: Epoch 85 of 200. Elapsed time 7.65 min\n",
      "Processed 41629 (100.0%) in 0.90 sec. BPR loss is 1.01E-02. Sample per second: 46211\n",
      "SLIM_BPR_Recommender: Epoch 86 of 200. Elapsed time 7.65 min\n",
      "Processed 41629 (100.0%) in 1.05 sec. BPR loss is 1.07E-02. Sample per second: 39516\n",
      "SLIM_BPR_Recommender: Epoch 87 of 200. Elapsed time 7.65 min\n",
      "Processed 41629 (100.0%) in 0.20 sec. BPR loss is 1.05E-02. Sample per second: 204372\n",
      "SLIM_BPR_Recommender: Epoch 88 of 200. Elapsed time 7.65 min\n",
      "Processed 41629 (100.0%) in 0.37 sec. BPR loss is 1.06E-02. Sample per second: 113451\n",
      "SLIM_BPR_Recommender: Epoch 89 of 200. Elapsed time 7.66 min\n",
      "Processed 41629 (100.0%) in 0.53 sec. BPR loss is 1.06E-02. Sample per second: 78495\n",
      "SLIM_BPR_Recommender: Validation begins...\n",
      "EvaluatorHoldout: Processed 40838 (100.0%) in 28.64 sec. Users per second: 1426\n",
      "SLIM_BPR_Recommender: CUTOFF: 10 - PRECISION: 0.0400044, PRECISION_RECALL_MIN_DEN: 0.0632911, RECALL: 0.0584271, MAP: 0.0178215, MAP_MIN_DEN: 0.0278123, MRR: 0.1276104, NDCG: 0.0598558, F1: 0.0474917, HIT_RATE: 0.2857388, ARHR_ALL_HITS: 0.1500909, NOVELTY: 0.0036225, AVERAGE_POPULARITY: 0.2336211, DIVERSITY_MEAN_INTER_LIST: 0.9158778, DIVERSITY_HERFINDAHL: 0.9915855, COVERAGE_ITEM: 0.3994208, COVERAGE_ITEM_HIT: 0.0240990, ITEMS_IN_GT: 0.8722111, COVERAGE_USER: 0.9809988, COVERAGE_USER_HIT: 0.2803094, USERS_IN_GT: 0.9809988, DIVERSITY_GINI: 0.0208176, SHANNON_ENTROPY: 8.2218428, RATIO_DIVERSITY_HERFINDAHL: 0.9919114, RATIO_DIVERSITY_GINI: 0.0470851, RATIO_SHANNON_ENTROPY: 0.6094077, RATIO_AVERAGE_POPULARITY: 4.5503738, RATIO_NOVELTY: 0.3141920, \n",
      "\n",
      "SLIM_BPR_Recommender: Convergence reached! Terminating at epoch 90. Best value for 'MAP_MIN_DEN' at epoch 40 is 0.0293. Elapsed time 8.46 min\n",
      "SLIM_BPR_Recommender: Epoch 90 of 200. Elapsed time 8.46 min\n",
      "Deallocating Cython objects\n"
     ]
    }
   ],
   "source": [
    "from Recommenders.SLIM.Cython.SLIM_BPR_Cython import SLIM_BPR_Cython\n",
    "\n",
    "recommender = SLIM_BPR_Cython(URM_train=URM_train)\n",
    "recommender.fit(\n",
    "    epochs=200,\n",
    "    symmetric=True,\n",
    "    lambda_i=0.49782971629013434,\n",
    "    lambda_j=0.09226465664615968,\n",
    "    learning_rate=0.0020007963127774316,\n",
    "    topK=201,\n",
    "    **earlystopping_keywargs\n",
    ")"
   ],
   "metadata": {
    "collapsed": false
   }
  },
  {
   "cell_type": "code",
   "execution_count": 3,
   "outputs": [
    {
     "name": "stdout",
     "output_type": "stream",
     "text": [
      "EvaluatorHoldout: Processed 40905 (100.0%) in 32.19 sec. Users per second: 1271\n"
     ]
    }
   ],
   "source": [
    "result, result_string = evaluator_validation.evaluateRecommender(recommender)"
   ],
   "metadata": {
    "collapsed": false
   }
  },
  {
   "cell_type": "code",
   "execution_count": 4,
   "outputs": [
    {
     "data": {
      "text/plain": "       PRECISION PRECISION_RECALL_MIN_DEN    RECALL       MAP MAP_MIN_DEN  \\\ncutoff                                                                      \n10      0.041149                 0.066277  0.061546  0.018297    0.028978   \n\n             MRR      NDCG        F1  HIT_RATE ARHR_ALL_HITS  ...  \\\ncutoff                                                        ...   \n10      0.132338  0.062205  0.049322  0.296247      0.154809  ...   \n\n       COVERAGE_USER COVERAGE_USER_HIT USERS_IN_GT DIVERSITY_GINI  \\\ncutoff                                                              \n10          0.982608          0.291095    0.982608       0.019271   \n\n       SHANNON_ENTROPY RATIO_DIVERSITY_HERFINDAHL RATIO_DIVERSITY_GINI  \\\ncutoff                                                                   \n10            7.871521                   0.988052             0.043616   \n\n       RATIO_SHANNON_ENTROPY RATIO_AVERAGE_POPULARITY RATIO_NOVELTY  \ncutoff                                                               \n10                   0.58346                 5.282048      0.308093  \n\n[1 rows x 27 columns]",
      "text/html": "<div>\n<style scoped>\n    .dataframe tbody tr th:only-of-type {\n        vertical-align: middle;\n    }\n\n    .dataframe tbody tr th {\n        vertical-align: top;\n    }\n\n    .dataframe thead th {\n        text-align: right;\n    }\n</style>\n<table border=\"1\" class=\"dataframe\">\n  <thead>\n    <tr style=\"text-align: right;\">\n      <th></th>\n      <th>PRECISION</th>\n      <th>PRECISION_RECALL_MIN_DEN</th>\n      <th>RECALL</th>\n      <th>MAP</th>\n      <th>MAP_MIN_DEN</th>\n      <th>MRR</th>\n      <th>NDCG</th>\n      <th>F1</th>\n      <th>HIT_RATE</th>\n      <th>ARHR_ALL_HITS</th>\n      <th>...</th>\n      <th>COVERAGE_USER</th>\n      <th>COVERAGE_USER_HIT</th>\n      <th>USERS_IN_GT</th>\n      <th>DIVERSITY_GINI</th>\n      <th>SHANNON_ENTROPY</th>\n      <th>RATIO_DIVERSITY_HERFINDAHL</th>\n      <th>RATIO_DIVERSITY_GINI</th>\n      <th>RATIO_SHANNON_ENTROPY</th>\n      <th>RATIO_AVERAGE_POPULARITY</th>\n      <th>RATIO_NOVELTY</th>\n    </tr>\n    <tr>\n      <th>cutoff</th>\n      <th></th>\n      <th></th>\n      <th></th>\n      <th></th>\n      <th></th>\n      <th></th>\n      <th></th>\n      <th></th>\n      <th></th>\n      <th></th>\n      <th></th>\n      <th></th>\n      <th></th>\n      <th></th>\n      <th></th>\n      <th></th>\n      <th></th>\n      <th></th>\n      <th></th>\n      <th></th>\n      <th></th>\n    </tr>\n  </thead>\n  <tbody>\n    <tr>\n      <th>10</th>\n      <td>0.041149</td>\n      <td>0.066277</td>\n      <td>0.061546</td>\n      <td>0.018297</td>\n      <td>0.028978</td>\n      <td>0.132338</td>\n      <td>0.062205</td>\n      <td>0.049322</td>\n      <td>0.296247</td>\n      <td>0.154809</td>\n      <td>...</td>\n      <td>0.982608</td>\n      <td>0.291095</td>\n      <td>0.982608</td>\n      <td>0.019271</td>\n      <td>7.871521</td>\n      <td>0.988052</td>\n      <td>0.043616</td>\n      <td>0.58346</td>\n      <td>5.282048</td>\n      <td>0.308093</td>\n    </tr>\n  </tbody>\n</table>\n<p>1 rows × 27 columns</p>\n</div>"
     },
     "execution_count": 4,
     "metadata": {},
     "output_type": "execute_result"
    }
   ],
   "source": [
    "result"
   ],
   "metadata": {
    "collapsed": false
   }
  },
  {
   "cell_type": "code",
   "execution_count": 14,
   "outputs": [
    {
     "name": "stdout",
     "output_type": "stream",
     "text": [
      "EvaluatorHoldout: Processed 73467 (100.0%) in 52.00 sec. Users per second: 1413\n"
     ]
    }
   ],
   "source": [
    "result_test, result_test_string = evaluator_test.evaluateRecommender(recommender)"
   ],
   "metadata": {
    "collapsed": false
   }
  },
  {
   "cell_type": "code",
   "execution_count": 15,
   "outputs": [
    {
     "data": {
      "text/plain": "       PRECISION PRECISION_RECALL_MIN_DEN    RECALL       MAP MAP_MIN_DEN  \\\ncutoff                                                                      \n10      0.070565                 0.147511  0.144668  0.046104    0.094054   \n\n             MRR      NDCG       F1 HIT_RATE ARHR_ALL_HITS  ... COVERAGE_USER  \\\ncutoff                                                      ...                 \n10      0.290055  0.153246  0.09486  0.44978      0.365552  ...      0.987738   \n\n       COVERAGE_USER_HIT USERS_IN_GT DIVERSITY_GINI SHANNON_ENTROPY  \\\ncutoff                                                                \n10              0.444265    0.987738       0.490863       13.994219   \n\n       RATIO_DIVERSITY_HERFINDAHL RATIO_DIVERSITY_GINI RATIO_SHANNON_ENTROPY  \\\ncutoff                                                                         \n10                       1.000236             1.111415              1.039177   \n\n       RATIO_AVERAGE_POPULARITY RATIO_NOVELTY  \ncutoff                                         \n10                     0.166488      0.537435  \n\n[1 rows x 27 columns]",
      "text/html": "<div>\n<style scoped>\n    .dataframe tbody tr th:only-of-type {\n        vertical-align: middle;\n    }\n\n    .dataframe tbody tr th {\n        vertical-align: top;\n    }\n\n    .dataframe thead th {\n        text-align: right;\n    }\n</style>\n<table border=\"1\" class=\"dataframe\">\n  <thead>\n    <tr style=\"text-align: right;\">\n      <th></th>\n      <th>PRECISION</th>\n      <th>PRECISION_RECALL_MIN_DEN</th>\n      <th>RECALL</th>\n      <th>MAP</th>\n      <th>MAP_MIN_DEN</th>\n      <th>MRR</th>\n      <th>NDCG</th>\n      <th>F1</th>\n      <th>HIT_RATE</th>\n      <th>ARHR_ALL_HITS</th>\n      <th>...</th>\n      <th>COVERAGE_USER</th>\n      <th>COVERAGE_USER_HIT</th>\n      <th>USERS_IN_GT</th>\n      <th>DIVERSITY_GINI</th>\n      <th>SHANNON_ENTROPY</th>\n      <th>RATIO_DIVERSITY_HERFINDAHL</th>\n      <th>RATIO_DIVERSITY_GINI</th>\n      <th>RATIO_SHANNON_ENTROPY</th>\n      <th>RATIO_AVERAGE_POPULARITY</th>\n      <th>RATIO_NOVELTY</th>\n    </tr>\n    <tr>\n      <th>cutoff</th>\n      <th></th>\n      <th></th>\n      <th></th>\n      <th></th>\n      <th></th>\n      <th></th>\n      <th></th>\n      <th></th>\n      <th></th>\n      <th></th>\n      <th></th>\n      <th></th>\n      <th></th>\n      <th></th>\n      <th></th>\n      <th></th>\n      <th></th>\n      <th></th>\n      <th></th>\n      <th></th>\n      <th></th>\n    </tr>\n  </thead>\n  <tbody>\n    <tr>\n      <th>10</th>\n      <td>0.070565</td>\n      <td>0.147511</td>\n      <td>0.144668</td>\n      <td>0.046104</td>\n      <td>0.094054</td>\n      <td>0.290055</td>\n      <td>0.153246</td>\n      <td>0.09486</td>\n      <td>0.44978</td>\n      <td>0.365552</td>\n      <td>...</td>\n      <td>0.987738</td>\n      <td>0.444265</td>\n      <td>0.987738</td>\n      <td>0.490863</td>\n      <td>13.994219</td>\n      <td>1.000236</td>\n      <td>1.111415</td>\n      <td>1.039177</td>\n      <td>0.166488</td>\n      <td>0.537435</td>\n    </tr>\n  </tbody>\n</table>\n<p>1 rows × 27 columns</p>\n</div>"
     },
     "execution_count": 15,
     "metadata": {},
     "output_type": "execute_result"
    }
   ],
   "source": [
    "result_test"
   ],
   "metadata": {
    "collapsed": false
   }
  }
 ],
 "metadata": {
  "kernelspec": {
   "display_name": "Python 3",
   "language": "python",
   "name": "python3"
  },
  "language_info": {
   "codemirror_mode": {
    "name": "ipython",
    "version": 2
   },
   "file_extension": ".py",
   "mimetype": "text/x-python",
   "name": "python",
   "nbconvert_exporter": "python",
   "pygments_lexer": "ipython2",
   "version": "2.7.6"
  }
 },
 "nbformat": 4,
 "nbformat_minor": 0
}
